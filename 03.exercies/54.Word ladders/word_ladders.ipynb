{
 "cells": [
  {
   "cell_type": "code",
   "execution_count": null,
   "metadata": {
    "jupyter": {
     "source_hidden": true
    },
    "tags": []
   },
   "outputs": [],
   "source": [
    "import zipfile\n",
    "with zipfile.ZipFile('Illustrations.zip') as illustrations:\n",
    "    illustrations.extractall('.')"
   ]
  },
  {
   "cell_type": "code",
   "execution_count": null,
   "metadata": {},
   "outputs": [],
   "source": [
    "load_ext run_and_test"
   ]
  },
  {
   "cell_type": "markdown",
   "metadata": {},
   "source": [
    "# Background"
   ]
  },
  {
   "cell_type": "markdown",
   "metadata": {},
   "source": [
    "A word ladder is a sequence of words such that two successive words in the sequence differ by exactly one letter; so they start and end with words having the same number of letters. A word ladder is particularly appealing if the first and last words are semantically related. All words that make up a ladder are to be found in a given dictionary. A natural condition is that a ladder is of minimal length (w.r.t. the given dictionary). We are interested in discovering all possible ladders (of minimal length), if any, between given first and last words. For instance, with the dictionary we will be working with, there are 6 ladders of minimal length that transform SUMMER into WINTER. Listed in lexicographic order, they are:\n",
    "\n",
    "    SUMMER SUMMED BUMMED BUMPED LUMPED LIMPED LISPED LISTED LISTER MISTER MINTER WINTER\n",
    "    SUMMER SUMMED BUMMED BUMPED LUMPED LIMPED LISPED LISTED MISTED MINTED MINTER WINTER\n",
    "    SUMMER SUMMED BUMMED BUMPED LUMPED LIMPED LISPED LISTED MISTED MISTER MINTER WINTER\n",
    "    SUMMER SUMMED HUMMED HUMPED LUMPED LIMPED LISPED LISTED LISTER MISTER MINTER WINTER\n",
    "    SUMMER SUMMED HUMMED HUMPED LUMPED LIMPED LISPED LISTED MISTED MINTED MINTER WINTER\n",
    "    SUMMER SUMMED HUMMED HUMPED LUMPED LIMPED LISPED LISTED MISTED MISTER MINTER WINTER\n",
    "    \n",
    "They can be represented as a tree, either graphically:\n",
    "\n",
    "<div><img src=\"Illustrations/tree_1.pdf\" width=\"500\"/></div>\n",
    "\n",
    "or textually:\n",
    "\n",
    "    SUMMER SUMMED BUMMED BUMPED LUMPED LIMPED LISPED LISTED LISTER MISTER MINTER WINTER\n",
    "                                                            MISTED MINTED MINTER WINTER\n",
    "                                                                   MISTER MINTER WINTER\n",
    "                  HUMMED HUMPED LUMPED LIMPED LISPED LISTED LISTER MISTER MINTER WINTER\n",
    "                                                            MISTED MINTED MINTER WINTER\n",
    "                                                                   MISTER MINTER WINTER\n",
    "\n",
    "Note that a word cannot occur on different levels of the tree. The tree can be pruned by removing all descendants of a node labeled with a word that occurs many times except for its leftmost occurrence (it suffices to \"look left\" on the same level to find the word and its descendants). Graphically:\n",
    "\n",
    "<div><img src=\"Illustrations/tree_2.pdf\" width=\"400\"/></div>\n",
    "\n",
    "Textually:\n",
    "\n",
    "    SUMMER SUMMED BUMMED BUMPED LUMPED LIMPED LISPED LISTED LISTER MISTER MINTER WINTER\n",
    "                                                            MISTED MINTED MINTER\n",
    "                                                                   MISTER\n",
    "                  HUMMED HUMPED LUMPED\n",
    "\n",
    "To discover word ladders, it is useful to first build a Python dictionary with words in the given dictionary as keys, and with as value for a given key $w$ the set of words that differ from $w$ by exactly one letter, hence, that can possibly follow $w$ in a word ladder. For instance, w.r.t. the given dictionary, WINTER is one of the keys of the Python dictionary with as value, the set consisting of the words MINTER, WINDER, WINKER and WINNER.\n"
   ]
  },
  {
   "cell_type": "markdown",
   "metadata": {},
   "source": [
    "# Task"
   ]
  },
  {
   "cell_type": "markdown",
   "metadata": {},
   "source": [
    "Write a program `word_ladders.py` that implements two classes, `WordsForLadders` and `WordLadders`.\n",
    "\n",
    "* `WordsForLadder` is a subclass of the `defaultdict` class from the `collections` module, meant to have `set` objects as values. `WordsForLadder`'s `__init__(self, dictionary=dictionary.txt)` function takes as second argument the name of a file, set by default to `'dictionary.txt'`, supposed to be stored in the working directory and record uppercase words, one word per line. A `WordsForLadder` object has the words in the dictionary as keys, and as value for a given the key the set of words in the dictionary that differ from the key by exactly one letter.\n",
    "* `WordLadders`'s `__init__(self, words_for_ladders, start_word, end_word)` function takes as second, third and fourth arguments a `WordsForLadder` object, a word meant to start a ladder, and a word meant to end a ladder, respectively. Both words are intended to be converted to uppercase before processing. A `WordLadders` object has (at least) two attributes:\n",
    "    * `all_ladders()`, that returns the lexicographically ordered list of all ladders, a ladder being itself a list of words;\n",
    "    * `pruned_tree_representation()` that returns `None` and displays the pruned tree of all ladders."
   ]
  },
  {
   "cell_type": "markdown",
   "metadata": {},
   "source": [
    "# Tests"
   ]
  },
  {
   "cell_type": "markdown",
   "metadata": {},
   "source": [
    "## SUMMER neighbouring words"
   ]
  },
  {
   "cell_type": "code",
   "execution_count": null,
   "metadata": {},
   "outputs": [],
   "source": [
    "statements = 'from word_ladders import *; '\\\n",
    "             'print(sorted(WordsForLadders()[\"SUMMER\"]))'"
   ]
  },
  {
   "cell_type": "code",
   "execution_count": null,
   "metadata": {
    "tags": []
   },
   "outputs": [],
   "source": [
    "%%run_and_test python3 -c \"$statements\"\n",
    "\n",
    "\"['SIMMER', 'SUMMED', 'SUMNER', 'SUMTER']\\n\""
   ]
  },
  {
   "cell_type": "markdown",
   "metadata": {},
   "source": [
    "## WINTER neighbouring words"
   ]
  },
  {
   "cell_type": "code",
   "execution_count": null,
   "metadata": {},
   "outputs": [],
   "source": [
    "statements = 'from word_ladders import *; '\\\n",
    "             'print(sorted(WordsForLadders()[\"WINTER\"]))'"
   ]
  },
  {
   "cell_type": "code",
   "execution_count": null,
   "metadata": {
    "tags": []
   },
   "outputs": [],
   "source": [
    "%%run_and_test python3 -c \"$statements\"\n",
    "\n",
    "\"['MINTER', 'WINDER', 'WINKER', 'WINNER']\\n\""
   ]
  },
  {
   "cell_type": "markdown",
   "metadata": {},
   "source": [
    "## COLD to WARM"
   ]
  },
  {
   "cell_type": "markdown",
   "metadata": {},
   "source": [
    "### All ladders from COLD to WARM"
   ]
  },
  {
   "cell_type": "code",
   "execution_count": null,
   "metadata": {},
   "outputs": [],
   "source": [
    "statements = 'from word_ladders import *; '\\\n",
    "             'wl = WordLadders(WordsForLadders(), \"COLD\", \"WARM\"); '\\\n",
    "             'print(\"\\n\".join(\" \".join(l) for l in wl.all_ladders()))'"
   ]
  },
  {
   "cell_type": "code",
   "execution_count": null,
   "metadata": {},
   "outputs": [],
   "source": [
    "%%run_and_test python3 -c \"$statements\"\n",
    "\n",
    "'''\n",
    "COLD CORD CARD WARD WARM\\n\n",
    "COLD CORD WORD WARD WARM\\n\n",
    "COLD CORD WORD WORM WARM\\n\n",
    "'''"
   ]
  },
  {
   "cell_type": "markdown",
   "metadata": {},
   "source": [
    "### Pruned tree of ladders from COLD to WARM"
   ]
  },
  {
   "cell_type": "code",
   "execution_count": null,
   "metadata": {},
   "outputs": [],
   "source": [
    "statements = 'from word_ladders import *; '\\\n",
    "             'wl = WordLadders(WordsForLadders(), \"COLD\", \"WARM\"); '\\\n",
    "             'wl.pruned_tree_representation()'"
   ]
  },
  {
   "cell_type": "code",
   "execution_count": null,
   "metadata": {},
   "outputs": [],
   "source": [
    "%%run_and_test python3 -c \"$statements\"\n",
    "\n",
    "'''\n",
    "COLD CORD CARD WARD WARM\\n\n",
    "          WORD WARD\\n\n",
    "               WORM WARM\\n\n",
    "'''"
   ]
  },
  {
   "cell_type": "markdown",
   "metadata": {},
   "source": [
    "## All ladders from THREE to SEVEN"
   ]
  },
  {
   "cell_type": "code",
   "execution_count": null,
   "metadata": {},
   "outputs": [],
   "source": [
    "statements = 'from word_ladders import *; '\\\n",
    "             'wl = WordLadders(WordsForLadders(), \"three\", \"seven\"); '\\\n",
    "             'print(wl.all_ladders())'"
   ]
  },
  {
   "cell_type": "code",
   "execution_count": null,
   "metadata": {},
   "outputs": [],
   "source": [
    "%%run_and_test python3 -c \"$statements\"\n",
    "\n",
    "\"[['THREE', 'THREW', 'SHREW', 'SHRED', 'SIRED', 'SITED', \"\n",
    "\"'SATED', 'SAVED', 'SAVER', 'SEVER', 'SEVEN']]\\n\""
   ]
  },
  {
   "cell_type": "markdown",
   "metadata": {},
   "source": [
    "## BEER TO WINE"
   ]
  },
  {
   "cell_type": "markdown",
   "metadata": {},
   "source": [
    "### All ladders from BEER to WINE"
   ]
  },
  {
   "cell_type": "code",
   "execution_count": null,
   "metadata": {},
   "outputs": [],
   "source": [
    "statements = 'from word_ladders import *; '\\\n",
    "             'wl = WordLadders(WordsForLadders(), \"BEER\", \"WINE\"); '\\\n",
    "             'print(\"\\n\".join(\" \".join(l) for l in wl.all_ladders()))'"
   ]
  },
  {
   "cell_type": "code",
   "execution_count": null,
   "metadata": {},
   "outputs": [],
   "source": [
    "%%run_and_test python3 -c \"$statements\"\n",
    "\n",
    "'''\n",
    "BEER BEAR BEAD BEND BIND WIND WINE\\n\n",
    "BEER BEES BEDS BIDS BIDE WIDE WINE\\n\n",
    "BEER BEES BEDS BIDS BINS WINS WINE\\n\n",
    "BEER BEES BETS BITS BINS WINS WINE\\n\n",
    "BEER BEES BETS BITS WITS WINS WINE\\n\n",
    "BEER BEES BETS WETS WITS WINS WINE\\n\n",
    "BEER BEET BENT BEND BIND WIND WINE\\n\n",
    "BEER BEET BENT DENT DINT DINE WINE\\n\n",
    "BEER BEET BENT LENT LINT LINE WINE\\n\n",
    "BEER BEET BENT PENT PINT PINE WINE\\n\n",
    "BEER BEET BENT WENT WANT WANE WINE\\n\n",
    "BEER BIER PIER PIES PINS PINE WINE\\n\n",
    "BEER BIER PIER PIES PINS WINS WINE\\n\n",
    "BEER BIER TIER TIES TINS WINS WINE\\n\n",
    "BEER PEER PIER PIES PINS PINE WINE\\n\n",
    "BEER PEER PIER PIES PINS WINS WINE\\n\n",
    "'''"
   ]
  },
  {
   "cell_type": "markdown",
   "metadata": {},
   "source": [
    "### Pruned tree of ladders from BEER to WINE"
   ]
  },
  {
   "cell_type": "code",
   "execution_count": null,
   "metadata": {},
   "outputs": [],
   "source": [
    "statements = 'from word_ladders import *; '\\\n",
    "             'wl = WordLadders(WordsForLadders(), \"BEER\", \"WINE\"); '\\\n",
    "             'wl.pruned_tree_representation()'"
   ]
  },
  {
   "cell_type": "code",
   "execution_count": null,
   "metadata": {},
   "outputs": [],
   "source": [
    "%%run_and_test python3 -c \"$statements\"\n",
    "\n",
    "'''\n",
    "BEER BEAR BEAD BEND BIND WIND WINE\\n\n",
    "     BEES BEDS BIDS BIDE WIDE WINE\\n\n",
    "                    BINS WINS WINE\\n\n",
    "          BETS BITS BINS\\n\n",
    "                    WITS WINS\\n\n",
    "               WETS WITS\\n\n",
    "     BEET BENT BEND\\n\n",
    "               DENT DINT DINE WINE\\n\n",
    "               LENT LINT LINE WINE\\n\n",
    "               PENT PINT PINE WINE\\n\n",
    "               WENT WANT WANE WINE\\n\n",
    "     BIER PIER PIES PINS PINE\\n\n",
    "                         WINS\\n\n",
    "          TIER TIES TINS WINS\\n\n",
    "     PEER PIER\\n\n",
    "'''"
   ]
  },
  {
   "cell_type": "markdown",
   "metadata": {},
   "source": [
    "## TRAIN TO BIKES"
   ]
  },
  {
   "cell_type": "markdown",
   "metadata": {},
   "source": [
    "### All ladders from TRAIN to BIKES"
   ]
  },
  {
   "cell_type": "code",
   "execution_count": null,
   "metadata": {},
   "outputs": [],
   "source": [
    "statements = 'from word_ladders import *; '\\\n",
    "             'wl = WordLadders(WordsForLadders(), \"TRAIN\", \"BIKES\"); '\\\n",
    "             'print(\"\\n\".join(\" \".join(l) for l in wl.all_ladders()))'"
   ]
  },
  {
   "cell_type": "code",
   "execution_count": null,
   "metadata": {},
   "outputs": [],
   "source": [
    "%%run_and_test -t20 -s20000 python3 -c \"$statements\"\n",
    "\n",
    "'TRAIN BRAIN BRAWN BROWN BROWS CROWS CROPS COOPS CORPS CORES BORES BARES '\n",
    "                                                                'BAKES BIKES\\n'\n",
    "'TRAIN BRAIN BRAWN BROWN BROWS CROWS CROPS COOPS CORPS CORES CARES BARES '\n",
    "                                                                'BAKES BIKES\\n'\n",
    "'TRAIN BRAIN BRAWN BROWN BROWS CROWS CROPS COOPS CORPS CORES CARES CAKES '\n",
    "                                                                'BAKES BIKES\\n'\n",
    "'TRAIN BRAIN BRAWN BROWN BROWS CROWS CROPS COOPS CORPS CORES COKES CAKES '\n",
    "                                                                'BAKES BIKES\\n'\n",
    "'TRAIN BRAIN BRAWN BROWN BROWS CROWS CROPS COOPS CORPS CORES COKES POKES '\n",
    "                                                                'PIKES BIKES\\n'\n",
    "'TRAIN BRAIN BRAWN BROWN BROWS CROWS CROPS COOPS CORPS CORES PORES POKES '\n",
    "                                                                'PIKES BIKES\\n'\n",
    "'TRAIN BRAIN BRAWN BROWN CROWN CROWS CROPS COOPS CORPS CORES BORES BARES '\n",
    "                                                                'BAKES BIKES\\n'\n",
    "'TRAIN BRAIN BRAWN BROWN CROWN CROWS CROPS COOPS CORPS CORES CARES BARES '\n",
    "                                                                'BAKES BIKES\\n'\n",
    "'TRAIN BRAIN BRAWN BROWN CROWN CROWS CROPS COOPS CORPS CORES CARES CAKES '\n",
    "                                                                'BAKES BIKES\\n'\n",
    "'TRAIN BRAIN BRAWN BROWN CROWN CROWS CROPS COOPS CORPS CORES COKES CAKES '\n",
    "                                                                'BAKES BIKES\\n'\n",
    "'TRAIN BRAIN BRAWN BROWN CROWN CROWS CROPS COOPS CORPS CORES COKES POKES '\n",
    "                                                                'PIKES BIKES\\n'\n",
    "'TRAIN BRAIN BRAWN BROWN CROWN CROWS CROPS COOPS CORPS CORES PORES POKES '\n",
    "                                                                'PIKES BIKES\\n'\n",
    "'TRAIN DRAIN DRAWN DRAWS DRAGS BRAGS BRATS BEATS BELTS BELLS BALLS BALES '\n",
    "                                                                'BAKES BIKES\\n'\n",
    "'TRAIN DRAIN DRAWN DRAWS DRAGS BRAGS BRATS BEATS BESTS BUSTS BUSES BASES '\n",
    "                                                                'BAKES BIKES\\n'\n",
    "'TRAIN DRAIN DRAWN DROWN CROWN CROWS CROPS COOPS CORPS CORES BORES BARES '\n",
    "                                                                'BAKES BIKES\\n'\n",
    "'TRAIN DRAIN DRAWN DROWN CROWN CROWS CROPS COOPS CORPS CORES CARES BARES '\n",
    "                                                                'BAKES BIKES\\n'\n",
    "'TRAIN DRAIN DRAWN DROWN CROWN CROWS CROPS COOPS CORPS CORES CARES CAKES '\n",
    "                                                                'BAKES BIKES\\n'\n",
    "'TRAIN DRAIN DRAWN DROWN CROWN CROWS CROPS COOPS CORPS CORES COKES CAKES '\n",
    "                                                                'BAKES BIKES\\n'\n",
    "'TRAIN DRAIN DRAWN DROWN CROWN CROWS CROPS COOPS CORPS CORES COKES POKES '\n",
    "                                                                'PIKES BIKES\\n'\n",
    "'TRAIN DRAIN DRAWN DROWN CROWN CROWS CROPS COOPS CORPS CORES PORES POKES '\n",
    "                                                                'PIKES BIKES\\n'\n",
    "'TRAIN GRAIN GROIN GROWN CROWN CROWS CROPS COOPS CORPS CORES BORES BARES '\n",
    "                                                                'BAKES BIKES\\n'\n",
    "'TRAIN GRAIN GROIN GROWN CROWN CROWS CROPS COOPS CORPS CORES CARES BARES '\n",
    "                                                                'BAKES BIKES\\n'\n",
    "'TRAIN GRAIN GROIN GROWN CROWN CROWS CROPS COOPS CORPS CORES CARES CAKES '\n",
    "                                                                'BAKES BIKES\\n'\n",
    "'TRAIN GRAIN GROIN GROWN CROWN CROWS CROPS COOPS CORPS CORES COKES CAKES '\n",
    "                                                                'BAKES BIKES\\n'\n",
    "'TRAIN GRAIN GROIN GROWN CROWN CROWS CROPS COOPS CORPS CORES COKES POKES '\n",
    "                                                                'PIKES BIKES\\n'\n",
    "'TRAIN GRAIN GROIN GROWN CROWN CROWS CROPS COOPS CORPS CORES PORES POKES '\n",
    "                                                                'PIKES BIKES\\n'\n",
    "'TRAIN GRAIN GROIN GROWN GROWS CROWS CROPS COOPS CORPS CORES BORES BARES '\n",
    "                                                                'BAKES BIKES\\n'\n",
    "'TRAIN GRAIN GROIN GROWN GROWS CROWS CROPS COOPS CORPS CORES CARES BARES '\n",
    "                                                                'BAKES BIKES\\n'\n",
    "'TRAIN GRAIN GROIN GROWN GROWS CROWS CROPS COOPS CORPS CORES CARES CAKES '\n",
    "                                                                'BAKES BIKES\\n'\n",
    "'TRAIN GRAIN GROIN GROWN GROWS CROWS CROPS COOPS CORPS CORES COKES CAKES '\n",
    "                                                                'BAKES BIKES\\n'\n",
    "'TRAIN GRAIN GROIN GROWN GROWS CROWS CROPS COOPS CORPS CORES COKES POKES '\n",
    "                                                                'PIKES BIKES\\n'\n",
    "'TRAIN GRAIN GROIN GROWN GROWS CROWS CROPS COOPS CORPS CORES PORES POKES '\n",
    "                                                                'PIKES BIKES\\n'"
   ]
  },
  {
   "cell_type": "markdown",
   "metadata": {},
   "source": [
    "### Pruned tree of ladders from TRAIN to BIKES"
   ]
  },
  {
   "cell_type": "code",
   "execution_count": null,
   "metadata": {},
   "outputs": [],
   "source": [
    "statements = 'from word_ladders import *; '\\\n",
    "             'wl = WordLadders(WordsForLadders(), \"TRAIN\", \"BIKES\"); '\\\n",
    "             'wl.pruned_tree_representation()'"
   ]
  },
  {
   "cell_type": "code",
   "execution_count": null,
   "metadata": {},
   "outputs": [],
   "source": [
    "%%run_and_test -t30 python3 -c \"$statements\"\n",
    "\n",
    "'TRAIN BRAIN BRAWN BROWN BROWS CROWS CROPS COOPS CORPS CORES BORES BARES '\n",
    "                                                                'BAKES BIKES\\n'\n",
    "'                                                            CARES BARES\\n'\n",
    "'                                                                  CAKES '\n",
    "                                                                'BAKES\\n'\n",
    "'                                                            COKES CAKES\\n'\n",
    "'                                                                  POKES '\n",
    "                                                                'PIKES BIKES\\n'\n",
    "'                                                            PORES POKES\\n'\n",
    "'                        CROWN CROWS\\n'\n",
    "'      DRAIN DRAWN DRAWS DRAGS BRAGS BRATS BEATS BELTS BELLS BALLS BALES '\n",
    "                                                                      'BAKES\\n'\n",
    "'                                                BESTS BUSTS BUSES BASES '\n",
    "                                                                      'BAKES\\n'\n",
    "'                  DROWN CROWN\\n'\n",
    "'      GRAIN GROIN GROWN CROWN\\n'\n",
    "'                        GROWS CROWS\\n'"
   ]
  }
 ],
 "metadata": {
  "kernelspec": {
   "display_name": "Python 3 (ipykernel)",
   "language": "python",
   "name": "python3"
  },
  "language_info": {
   "codemirror_mode": {
    "name": "ipython",
    "version": 3
   },
   "file_extension": ".py",
   "mimetype": "text/x-python",
   "name": "python",
   "nbconvert_exporter": "python",
   "pygments_lexer": "ipython3",
   "version": "3.10.2"
  },
  "latex_envs": {
   "LaTeX_envs_menu_present": true,
   "autoclose": false,
   "autocomplete": true,
   "bibliofile": "biblio.bib",
   "cite_by": "apalike",
   "current_citInitial": 1,
   "eqLabelWithNumbers": true,
   "eqNumInitial": 1,
   "hotkeys": {
    "equation": "Ctrl-E",
    "itemize": "Ctrl-I"
   },
   "labels_anchors": false,
   "latex_user_defs": false,
   "report_style_numbering": false,
   "user_envs_cfg": false
  },
  "toc": {
   "base_numbering": 1,
   "nav_menu": {},
   "number_sections": true,
   "sideBar": true,
   "skip_h1_title": false,
   "title_cell": "Table of Contents",
   "title_sidebar": "Contents",
   "toc_cell": false,
   "toc_position": {},
   "toc_section_display": true,
   "toc_window_display": false
  },
  "widgets": {
   "application/vnd.jupyter.widget-state+json": {
    "state": {},
    "version_major": 2,
    "version_minor": 0
   }
  }
 },
 "nbformat": 4,
 "nbformat_minor": 4
}
