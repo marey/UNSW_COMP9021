{
 "cells": [
  {
   "cell_type": "code",
   "execution_count": null,
   "metadata": {
    "jupyter": {
     "source_hidden": true
    },
    "tags": []
   },
   "outputs": [],
   "source": [
    "import zipfile\n",
    "with zipfile.ZipFile('Illustrations.zip') as illustrations:\n",
    "    illustrations.extractall('.')"
   ]
  },
  {
   "cell_type": "code",
   "execution_count": null,
   "metadata": {},
   "outputs": [],
   "source": [
    "load_ext run_and_test"
   ]
  },
  {
   "cell_type": "markdown",
   "metadata": {},
   "source": [
    "# Task"
   ]
  },
  {
   "cell_type": "markdown",
   "metadata": {},
   "source": [
    "Write a program `dice_rolls.py` that prompts the user three times:\n",
    "\n",
    "* First, the program prompts the user for strictly positive integers $s_1$, ..., $s_k$ intended to represent the number of sides of some dice. In case no nonspace character is input, then a single six-sided die will be used. Every longest sequence of nonspace characters in the input that cannot be converted to a strictly positive integer is replaced by 6 (so for instance, inputting `12 0 3 -1 python 4 5A` is equivalent to inputting `12 6 3 6 6 4 6`).\n",
    "* Second, the program prompts the user for a positive integer $N$ that represents the number of times the dice should be cast. In case the input cannot be converted to such a number, then the number of rolls will be set to 1,000.\n",
    "* Finally, to be able to replicate a given simulation, the program prompts the user to optionally use a seed. If an integer is provided then it is given as argument to the `seed()` function from the `random` module; otherwise, `seed()` is given 0 as argument.\n",
    "\n",
    "The program should then generate $N$ times $k$ random numbers between 1 and $s_1$, ..., $s_k$, respectively, using the `randint()` function from the `random` module, sum them up, and display the $N$ sums in the form of a histogram, created as an object of class `Bar` of the `pygal` module. We can associate to a `Bar` object one dictionary per obtained sum—check out the `add()` method from the `Bar` class. The histogram should have—check out the `Style` class from the `pygal.style` module:\n",
    "\n",
    "* as title for the histogram, `Simulation for N rolls of the dice: L` where $L$ is the ordered list of the number of sides of the dice;\n",
    "* as labels on the x-axis, all possible sums;\n",
    "* as title for the x-axis, `Possible sums`;\n",
    "* the major labels of the y-axis having a font size of 12 pt;\n",
    "* as title for the y-axis, `Counts`;\n",
    "* tooltips displaying, besides the count, `Frequency: f` where $f$ is the count divided by $N$, displayed with 2 digits after the decimal point;\n",
    "* bars having the colour whose rgb code is `'#228B22'`;\n",
    "* no legend.\n",
    "\n",
    "The program will save the `Bar` object in a file of name `dice_rolls__dice_sides__nb_of_rolls.svg`—check out the `render_to_file()` method from the `Bar` class. Three versions of the file, corresponding to the three different runs of the program shown in the tests below, are provided with `_solution` added to the expected file names before `.svg`. They are displayed below as static images. To be able to use the tooltips and see the frequencies for each obtained sum, it is necessary to open the svg files in the browser (just drag and drop the files into the address bar of your browser, or provided that files with extension `.svg` are by default associated with your browser, just open the files) but not within Jupyter."
   ]
  },
  {
   "cell_type": "markdown",
   "metadata": {},
   "source": [
    "# Tests"
   ]
  },
  {
   "cell_type": "markdown",
   "metadata": {},
   "source": [
    "## One 6 side die cast 1,000 times"
   ]
  },
  {
   "cell_type": "code",
   "execution_count": null,
   "metadata": {
    "tags": []
   },
   "outputs": [],
   "source": [
    "%%run_and_test -i'\\n\\n10\\n' python3 dice_rolls.py\n",
    "\n",
    "'Enter N strictly positive integers (number of sides of N dice): ', '\\n',\n",
    "'You did not enter any value, a single standard six-sided die will be cast.\\n\n",
    "Enter the desired number of rolls: ', '\\n',\n",
    "'No valid input was provided, so the default value of 1,000 will be used.\\n\n",
    "Feed the seed if desired: ', '10\\n'"
   ]
  },
  {
   "cell_type": "markdown",
   "metadata": {},
   "source": [
    "Statically, the created file, whose name is `dice_rolls__6__1000.svg`, displays as:\n",
    "\n",
    "<div><img src=\"Illustrations/dice_rolls__6__1000_solution.svg\" width=\"500\"/></div>"
   ]
  },
  {
   "cell_type": "markdown",
   "metadata": {},
   "source": [
    "## Four 2, 6, 3, 6 side dice cast 1,000 times"
   ]
  },
  {
   "cell_type": "code",
   "execution_count": null,
   "metadata": {},
   "outputs": [],
   "source": [
    "%%run_and_test -i'2 0 3 python\\n0\\n20\\n' python3 dice_rolls.py\n",
    "\n",
    "'Enter N strictly positive integers (number of sides of N dice): ',\n",
    "'2 0 3 python\\n', 'Some of the values, incorrect, have been replaced '\n",
    "'with the default value of 6.\\nEnter the desired number of rolls: ', '0\\n',\n",
    "'No valid input was provided, so the default value of 1,000 will be used.\\n\n",
    "Feed the seed if desired: ', '20\\n'"
   ]
  },
  {
   "cell_type": "markdown",
   "metadata": {},
   "source": [
    "Statically, the created file, whose name is `dice_rolls__2_6_3_6__1000.svg`, displays as:\n",
    "\n",
    "<div><img src=\"Illustrations/dice_rolls__2_6_3_6__1000_solution.svg\" width=\"500\"/></div>"
   ]
  },
  {
   "cell_type": "markdown",
   "metadata": {},
   "source": [
    "## Five 2, 4, 2, 7, 3 side dice cast 2,000 times"
   ]
  },
  {
   "cell_type": "code",
   "execution_count": null,
   "metadata": {},
   "outputs": [],
   "source": [
    "%%run_and_test -i'2 4 2 7 3\\n2000\\n30\\n' python3 dice_rolls.py\n",
    "\n",
    "'Enter N strictly positive integers (number of sides of N dice): ',\n",
    "'2 4 2 7 3\\n', 'Enter the desired number of rolls: ', '2000\\n',\n",
    "'Feed the seed if desired: ', '30\\n'"
   ]
  },
  {
   "cell_type": "markdown",
   "metadata": {},
   "source": [
    "Statically, the created file, whose name is `dice_rolls__2_4_2_7_3__2000.svg`, displays as:\n",
    "\n",
    "<div><img src=\"Illustrations/dice_rolls__2_4_2_7_3__2000_solution.svg\" width=\"500\"/></div>"
   ]
  }
 ],
 "metadata": {
  "kernelspec": {
   "display_name": "Python 3 (ipykernel)",
   "language": "python",
   "name": "python3"
  },
  "language_info": {
   "codemirror_mode": {
    "name": "ipython",
    "version": 3
   },
   "file_extension": ".py",
   "mimetype": "text/x-python",
   "name": "python",
   "nbconvert_exporter": "python",
   "pygments_lexer": "ipython3",
   "version": "3.10.2"
  },
  "latex_envs": {
   "LaTeX_envs_menu_present": true,
   "autoclose": false,
   "autocomplete": true,
   "bibliofile": "biblio.bib",
   "cite_by": "apalike",
   "current_citInitial": 1,
   "eqLabelWithNumbers": true,
   "eqNumInitial": 1,
   "hotkeys": {
    "equation": "Ctrl-E",
    "itemize": "Ctrl-I"
   },
   "labels_anchors": false,
   "latex_user_defs": false,
   "report_style_numbering": false,
   "user_envs_cfg": false
  },
  "toc": {
   "base_numbering": 1,
   "nav_menu": {},
   "number_sections": true,
   "sideBar": true,
   "skip_h1_title": false,
   "title_cell": "Table of Contents",
   "title_sidebar": "Contents",
   "toc_cell": false,
   "toc_position": {},
   "toc_section_display": true,
   "toc_window_display": false
  },
  "widgets": {
   "application/vnd.jupyter.widget-state+json": {
    "state": {},
    "version_major": 2,
    "version_minor": 0
   }
  }
 },
 "nbformat": 4,
 "nbformat_minor": 4
}
