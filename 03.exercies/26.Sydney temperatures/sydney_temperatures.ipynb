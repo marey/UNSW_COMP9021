{
 "cells": [
  {
   "cell_type": "markdown",
   "metadata": {},
   "source": [
    "Write a program `sydney_temperatures.py` that extracts from the file `IDCJCM0037_066062.csv`, stored in the working directory, the mean min and mean max temperatures for the 12 months of the year for the years 1859 to 2019, and plots them thanks to the `matplotlib.pyplot` module, which it is convenient to import as `plt`.\n",
    "\n",
    "* The picture is 5 inches wide and 3.5 inches high—check out `plt.figure()`, passing as argument the system's resolution (in dots per inch) for best results. It has as title, with a font size of 10 points, __Mean min and max temperatures in Sydney__—check out `plt.title()`. The grid should be displayed—check out `plt.grid()`.\n",
    "\n",
    "* Denoting by $\\mathrm{min\\_temp}$ the largest integer smaller than or equal to the smallest mean min temperature and by $\\mathrm{max\\_temp}$ the smallest integer greater than or equal to the largest mean max temperature, the plotting area is a rectangle whose lower left corner has coordinates $(0.5, \\mathrm{min\\_temp} -1)$ and whose upper right corner has coordinates $(12.5, \\mathrm{max\\_temp} +1)$—check out `plt.axis()`.\n",
    "* The mean min and mean max temperatures for the $i^{\\mathrm{th}}$ month, $i\\in\\{1,\\dots,12\\}$, are displayed at points of $x$-coordinate $i$, while the averages of the mean min and mean max temperatures for December and January are displayed both at points of $x$-coordinate 0.5 and at points of $x$-coordinate 12.5, on blue curves for the mean min temperatures, on red curves for the mean max temperatures—check out `plt.plot()`.\n",
    "* The area between the curves for the mean min and mean max temperatures is coloured in grey with, to create an appearance of transparency, a value of 0.5 on the alpha channel—check out `plt.fill_between()`.\n",
    "* The x-axis labels at coordinates 1 to 12 the names of the months of the year, conveniently retrieved from the `month_name` list of the `calendar` module, with a font size of 8 points, and displayed slanted—check out `plt.xticks()` and `autofmt_xdate()`.\n",
    "* The y-axis labels the temperatures between $\\mathrm{min\\_temp}$ and $\\mathrm{max\\_temp}$, in steps of $0.5$, with a font size of 4 points—check out `plt.yticks()`.\n",
    "\n",
    "To display the figure, check out `plt.show()` (not necessary to execute the program within Jupyter as in the cell below). Here is the expected output:\n",
    "\n",
    "![](sydney_temperatures.pdf)"
   ]
  },
  {
   "cell_type": "code",
   "execution_count": null,
   "metadata": {},
   "outputs": [],
   "source": [
    "%run sydney_temperatures.py"
   ]
  }
 ],
 "metadata": {
  "kernelspec": {
   "display_name": "Python 3 (ipykernel)",
   "language": "python",
   "name": "python3"
  },
  "language_info": {
   "codemirror_mode": {
    "name": "ipython",
    "version": 3
   },
   "file_extension": ".py",
   "mimetype": "text/x-python",
   "name": "python",
   "nbconvert_exporter": "python",
   "pygments_lexer": "ipython3",
   "version": "3.10.2"
  },
  "latex_envs": {
   "LaTeX_envs_menu_present": true,
   "autoclose": false,
   "autocomplete": true,
   "bibliofile": "biblio.bib",
   "cite_by": "apalike",
   "current_citInitial": 1,
   "eqLabelWithNumbers": true,
   "eqNumInitial": 1,
   "hotkeys": {
    "equation": "Ctrl-E",
    "itemize": "Ctrl-I"
   },
   "labels_anchors": false,
   "latex_user_defs": false,
   "report_style_numbering": false,
   "user_envs_cfg": false
  },
  "toc": {
   "base_numbering": 1,
   "nav_menu": {},
   "number_sections": true,
   "sideBar": true,
   "skip_h1_title": false,
   "title_cell": "Table of Contents",
   "title_sidebar": "Contents",
   "toc_cell": false,
   "toc_position": {},
   "toc_section_display": true,
   "toc_window_display": false
  },
  "widgets": {
   "application/vnd.jupyter.widget-state+json": {
    "state": {},
    "version_major": 2,
    "version_minor": 0
   }
  }
 },
 "nbformat": 4,
 "nbformat_minor": 4
}
