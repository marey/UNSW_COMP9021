{
 "cells": [
  {
   "cell_type": "code",
   "execution_count": null,
   "metadata": {},
   "outputs": [],
   "source": [
    "load_ext run_and_test"
   ]
  },
  {
   "cell_type": "markdown",
   "metadata": {},
   "source": [
    "# Background"
   ]
  },
  {
   "cell_type": "markdown",
   "metadata": {},
   "source": [
    "Let $N$ and $D$ be two strictly positive integers with $N<D$. The fraction $N/D$ can be written as a sum of unit fractions, that is, there exists integers $k,d_1,\\ldots,d_k\\geq 1$ with $d_1<d_2<\\ldots<d_k$ such that\n",
    "\n",
    "\\begin{equation*}\n",
    "\\frac{N}{D} = \\frac{1}{d_1}+\\frac{1}{d_2}+\\dots+\\frac{1}{d_k}.\n",
    "\\end{equation*}\n",
    "\n",
    "There are actually infinitely many such representations. Indeed, since\n",
    "\n",
    "\\begin{equation}\n",
    "1=\\frac{1}{2}+\\frac{1}{3}+\\frac{1}{6}\n",
    "\\end{equation}\n",
    "\n",
    "if $\\frac{N}{D} = \\frac{1}{d_1}+\\frac{1}{d_2}+\\dots+\\frac{1}{d_k}$ then also\n",
    "\n",
    "\\begin{equation}\n",
    "\\frac{N}{D} = \\frac{1}{d_1}+\\frac{1}{d_2}+\\dots+\\frac{1}{d_{k-1}}+\\frac{1}{2d_k}+\\frac{1}{3d_k}+\\frac{1}{6d_k}.\n",
    "\\end{equation}\n",
    "\n",
    "One particular representation is obtained by a method proposed by Fibonacci, in the form of a greedy algorithm. Suppose that $N/D$ cannot be simplified, that is, $N$ and $D$ have no other common factor but 1. If $N=1$ then we are done, so suppose otherwise. Let $d_1$ be the smallest integer such that $\\frac{N}{D}$ can be written as $\\frac{1}{d_1}+f_1$, with $f_1$ necessarily strictly positive by assumption. Looking for the smallest $d_1$ is what makes the algorithm greedy. Of course, $d_1$ is equal to $D\\div N + 1$. By the choice of $d_1$, $\\frac{1}{d_1-1}>\\frac{N}{D}$, hence $D>N(d_1-1)$, hence $N>Nd_1-D$. Since $f_1$ is equal to $\\frac{N}{D}-\\frac{1}{d_1}=\\frac{Nd_1-D}{Dd_1}$, it follows that $\\frac{N}{D}$ can be written as $\\frac{1}{d_1}+\\frac{N_1}{D_1}$ with $N_1<N$. If $N_1>1$ then the same argument allows one to greedily find $d_2>d_1$ such that for some strictly positive integers $N_2$ and $D_2$, $\\frac{N}{D}$ can be written as $\\frac{1}{d_1}+\\frac{1}{d_2}+\\frac{N_2}{D_2}$ with $N_2<N_1$, and if $N_2>1$ then the same argument allows one to greedily find $d_3>d_2$ such that for some strictly positive integers $N_3$ and $D_3$, $\\frac{N}{D}$ can be written as $\\frac{1}{d_1}+\\frac{1}{d_2}+\\frac{1}{d_3}+\\frac{N_3}{D_3}$ with $N_3<N_2$... After a finite number of steps, we are done.\n",
    "\n",
    "The number of summands in the sum of unit fractions given by Fibonacci's method is not always minimal: it is sometimes possible to decompose $\\frac{N}{D}$ as a sum of unit fractions with fewer summands. For instance, Fibonacci's method yields\n",
    "\n",
    "\\begin{equation*}\n",
    "\\frac{4}{17} = \\frac{1}{5} + \\frac{1}{29} + \\frac{1}{1233} + \\frac{1}{3039345}   \n",
    "\\end{equation*}\n",
    "\n",
    "whereas $\\frac{4}{17}$ can be written as a sum of 3 unit fractions, actually in 4 possible ways:\n",
    "\n",
    "\\begin{align*}\n",
    "\\frac{4}{17} &= \\frac{1}{5} + \\frac{1}{30} + \\frac{1}{510}\\\\\n",
    "\\frac{4}{17} &= \\frac{1}{5} + \\frac{1}{34} + \\frac{1}{170}\\\\\n",
    "\\frac{4}{17} &= \\frac{1}{6} + \\frac{1}{15} + \\frac{1}{510}\\\\\n",
    "\\frac{4}{17} &= \\frac{1}{6} + \\frac{1}{17} + \\frac{1}{102}\n",
    "\\end{align*}"
   ]
  },
  {
   "cell_type": "markdown",
   "metadata": {},
   "source": [
    "# Task"
   ]
  },
  {
   "cell_type": "markdown",
   "metadata": {},
   "source": [
    "Write a program `unit_fractions.py` that implements two functions, `fibonacci_decomposition(N, D)` and `shortest_length_decompositions(N, D)`, that given as arguments two strictly positive integers $N$ and $D$, write $N/D$ as, respectively:\n",
    "\n",
    "* a sum of unit fractions following Fibonacci method, plus an integer in case $N\\geq D$ (in a unique way);\n",
    "* a sum of unit fractions with a minimal number of summands, plus an integer in case $N\\geq D$, in possibly many ways,\n",
    "    * listed from largest first summand to smallest first summand,\n",
    "    * in case there is a second summand, for a given first summand , listed from largest second summand to smallest second summand,\n",
    "    * ..."
   ]
  },
  {
   "cell_type": "markdown",
   "metadata": {},
   "source": [
    "# Tests"
   ]
  },
  {
   "cell_type": "markdown",
   "metadata": {},
   "source": [
    "## 1/521 as a sum of unit fractions following Fibonacci's method"
   ]
  },
  {
   "cell_type": "code",
   "execution_count": null,
   "metadata": {},
   "outputs": [],
   "source": [
    "statements = 'from unit_fractions import *; fibonacci_decomposition(1, 521)'"
   ]
  },
  {
   "cell_type": "code",
   "execution_count": null,
   "metadata": {},
   "outputs": [],
   "source": [
    "%%run_and_test python3 -c \"$statements\"\n",
    "\n",
    "'1/521 = 1/521\\n'"
   ]
  },
  {
   "cell_type": "markdown",
   "metadata": {},
   "source": [
    "## 1/521 as a sum of unit fractions with a minimal number of summands"
   ]
  },
  {
   "cell_type": "code",
   "execution_count": null,
   "metadata": {},
   "outputs": [],
   "source": [
    "statements = 'from unit_fractions import *; '\\\n",
    "             'shortest_length_decompositions(1, 521)'"
   ]
  },
  {
   "cell_type": "code",
   "execution_count": null,
   "metadata": {
    "tags": []
   },
   "outputs": [],
   "source": [
    "%%run_and_test python3 -c \"$statements\"\n",
    "\n",
    "'1/521 = 1/521\\n'"
   ]
  },
  {
   "cell_type": "markdown",
   "metadata": {},
   "source": [
    "## 521/521 as a sum of unit fractions following Fibonacci's method"
   ]
  },
  {
   "cell_type": "code",
   "execution_count": null,
   "metadata": {},
   "outputs": [],
   "source": [
    "statements = 'from unit_fractions import *; fibonacci_decomposition(521, 521)'"
   ]
  },
  {
   "cell_type": "code",
   "execution_count": null,
   "metadata": {},
   "outputs": [],
   "source": [
    "%%run_and_test python3 -c \"$statements\"\n",
    "\n",
    "'521/521 = 1\\n'"
   ]
  },
  {
   "cell_type": "markdown",
   "metadata": {},
   "source": [
    "## 521/521 as a sum of unit fractions with a minimal number of summands"
   ]
  },
  {
   "cell_type": "code",
   "execution_count": null,
   "metadata": {},
   "outputs": [],
   "source": [
    "statements = 'from unit_fractions import *; '\\\n",
    "             'shortest_length_decompositions(521, 521)'"
   ]
  },
  {
   "cell_type": "code",
   "execution_count": null,
   "metadata": {
    "tags": []
   },
   "outputs": [],
   "source": [
    "%%run_and_test python3 -c \"$statements\"\n",
    "\n",
    "'521/521 = 1\\n'"
   ]
  },
  {
   "cell_type": "markdown",
   "metadata": {},
   "source": [
    "## 521/1050 as a sum of unit fractions following Fibonacci's method"
   ]
  },
  {
   "cell_type": "code",
   "execution_count": null,
   "metadata": {},
   "outputs": [],
   "source": [
    "statements = 'from unit_fractions import *; fibonacci_decomposition(521, 1050)'"
   ]
  },
  {
   "cell_type": "code",
   "execution_count": null,
   "metadata": {},
   "outputs": [],
   "source": [
    "%%run_and_test python3 -c \"$statements\"\n",
    "\n",
    "'521/1050 = 1/3 + 1/7 + 1/50\\n'"
   ]
  },
  {
   "cell_type": "markdown",
   "metadata": {},
   "source": [
    "## 521/1050 as a sum of unit fractions with a minimal number of summands"
   ]
  },
  {
   "cell_type": "code",
   "execution_count": null,
   "metadata": {},
   "outputs": [],
   "source": [
    "statements = 'from unit_fractions import *; '\\\n",
    "             'shortest_length_decompositions(521, 1050)'"
   ]
  },
  {
   "cell_type": "code",
   "execution_count": null,
   "metadata": {},
   "outputs": [],
   "source": [
    "%%run_and_test python3 -c \"$statements\"\n",
    "\n",
    "'521/1050 = 1/3 + 1/7 + 1/50\\n'"
   ]
  },
  {
   "cell_type": "markdown",
   "metadata": {},
   "source": [
    "## 1050/521 as a sum of unit fractions following Fibonacci's method"
   ]
  },
  {
   "cell_type": "code",
   "execution_count": null,
   "metadata": {},
   "outputs": [],
   "source": [
    "statements = 'from unit_fractions import *; fibonacci_decomposition(1050, 521)'"
   ]
  },
  {
   "cell_type": "code",
   "execution_count": null,
   "metadata": {},
   "outputs": [],
   "source": [
    "%%run_and_test python3 -c \"$statements\"\n",
    "\n",
    "'1050/521 = 2 + 1/66 + 1/4913 + 1/33787684 + 1/2854018941421956\\n'"
   ]
  },
  {
   "cell_type": "markdown",
   "metadata": {},
   "source": [
    "## 1050/521 as a sum of unit fractions with a minimal number of summands"
   ]
  },
  {
   "cell_type": "code",
   "execution_count": null,
   "metadata": {},
   "outputs": [],
   "source": [
    "statements = 'from unit_fractions import *; '\\\n",
    "             'shortest_length_decompositions(1050, 521)'"
   ]
  },
  {
   "cell_type": "code",
   "execution_count": null,
   "metadata": {
    "tags": []
   },
   "outputs": [],
   "source": [
    "%%run_and_test python3 -c \"$statements\"\n",
    "\n",
    "'''\n",
    "1050/521 = 2 + 1/66 + 1/4914 + 1/14081067\\n\n",
    "1050/521 = 2 + 1/66 + 1/4917 + 1/5123514\\n\n",
    "1050/521 = 2 + 1/66 + 1/5016 + 1/237576\\n\n",
    "1050/521 = 2 + 1/66 + 1/5210 + 1/85965\\n\n",
    "1050/521 = 2 + 1/66 + 1/5731 + 1/34386\\n\n",
    "1050/521 = 2 + 1/66 + 1/6252 + 1/22924\\n\n",
    "1050/521 = 2 + 1/68 + 1/1563 + 1/106284\\n\n",
    "1050/521 = 2 + 1/72 + 1/684 + 1/237576\\n\n",
    "1050/521 = 2 + 1/76 + 1/456 + 1/237576\\n\n",
    "1050/521 = 2 + 1/114 + 1/152 + 1/237576\\n\n",
    "'''"
   ]
  },
  {
   "cell_type": "markdown",
   "metadata": {},
   "source": [
    "## 6/7 as a sum of unit fractions following Fibonacci's method"
   ]
  },
  {
   "cell_type": "code",
   "execution_count": null,
   "metadata": {},
   "outputs": [],
   "source": [
    "statements = 'from unit_fractions import *; fibonacci_decomposition(6, 7)'"
   ]
  },
  {
   "cell_type": "code",
   "execution_count": null,
   "metadata": {},
   "outputs": [],
   "source": [
    "%%run_and_test python3 -c \"$statements\"\n",
    "\n",
    "'6/7 = 1/2 + 1/3 + 1/42\\n'"
   ]
  },
  {
   "cell_type": "markdown",
   "metadata": {},
   "source": [
    "## 6/7 as a sum of unit fractions with a minimal number of summands"
   ]
  },
  {
   "cell_type": "code",
   "execution_count": null,
   "metadata": {},
   "outputs": [],
   "source": [
    "statements = 'from unit_fractions import *; '\\\n",
    "             'shortest_length_decompositions(6, 7)'"
   ]
  },
  {
   "cell_type": "code",
   "execution_count": null,
   "metadata": {
    "tags": []
   },
   "outputs": [],
   "source": [
    "%%run_and_test python3 -c \"$statements\"\n",
    "\n",
    "'6/7 = 1/2 + 1/3 + 1/42\\n'"
   ]
  },
  {
   "cell_type": "markdown",
   "metadata": {},
   "source": [
    "## 8/11 as a sum of unit fractions following Fibonacci's method"
   ]
  },
  {
   "cell_type": "code",
   "execution_count": null,
   "metadata": {},
   "outputs": [],
   "source": [
    "statements = 'from unit_fractions import *; fibonacci_decomposition(8, 11)'"
   ]
  },
  {
   "cell_type": "code",
   "execution_count": null,
   "metadata": {},
   "outputs": [],
   "source": [
    "%%run_and_test python3 -c \"$statements\"\n",
    "\n",
    "'8/11 = 1/2 + 1/5 + 1/37 + 1/4070\\n'"
   ]
  },
  {
   "cell_type": "markdown",
   "metadata": {},
   "source": [
    "## 8/11 as a sum of unit fractions with a minimal number of summands"
   ]
  },
  {
   "cell_type": "code",
   "execution_count": null,
   "metadata": {},
   "outputs": [],
   "source": [
    "statements = 'from unit_fractions import *; '\\\n",
    "             'shortest_length_decompositions(8, 11)'"
   ]
  },
  {
   "cell_type": "code",
   "execution_count": null,
   "metadata": {},
   "outputs": [],
   "source": [
    "%%run_and_test python3 -c \"$statements\"\n",
    "\n",
    "'''\n",
    "8/11 = 1/2 + 1/5 + 1/37 + 1/4070\\n\n",
    "8/11 = 1/2 + 1/5 + 1/38 + 1/1045\\n\n",
    "8/11 = 1/2 + 1/5 + 1/40 + 1/440\\n\n",
    "8/11 = 1/2 + 1/5 + 1/44 + 1/220\\n\n",
    "8/11 = 1/2 + 1/5 + 1/45 + 1/198\\n\n",
    "8/11 = 1/2 + 1/5 + 1/55 + 1/110\\n\n",
    "8/11 = 1/2 + 1/5 + 1/70 + 1/77\\n\n",
    "8/11 = 1/2 + 1/6 + 1/17 + 1/561\\n\n",
    "8/11 = 1/2 + 1/6 + 1/18 + 1/198\\n\n",
    "8/11 = 1/2 + 1/6 + 1/21 + 1/77\\n\n",
    "8/11 = 1/2 + 1/6 + 1/22 + 1/66\\n\n",
    "8/11 = 1/2 + 1/7 + 1/12 + 1/924\\n\n",
    "8/11 = 1/2 + 1/7 + 1/14 + 1/77\\n\n",
    "8/11 = 1/2 + 1/8 + 1/10 + 1/440\\n\n",
    "8/11 = 1/2 + 1/8 + 1/11 + 1/88\\n\n",
    "8/11 = 1/3 + 1/4 + 1/7 + 1/924\\n\n",
    "'''"
   ]
  },
  {
   "cell_type": "markdown",
   "metadata": {},
   "source": [
    "## 4/17 as a sum of unit fractions following Fibonacci's method"
   ]
  },
  {
   "cell_type": "code",
   "execution_count": null,
   "metadata": {},
   "outputs": [],
   "source": [
    "statements = 'from unit_fractions import *; fibonacci_decomposition(4, 17)'"
   ]
  },
  {
   "cell_type": "code",
   "execution_count": null,
   "metadata": {},
   "outputs": [],
   "source": [
    "%%run_and_test python3 -c \"$statements\"\n",
    "\n",
    "'4/17 = 1/5 + 1/29 + 1/1233 + 1/3039345\\n'"
   ]
  },
  {
   "cell_type": "markdown",
   "metadata": {},
   "source": [
    "## 4/17 as a sum of unit fractions with a minimal number of summands"
   ]
  },
  {
   "cell_type": "code",
   "execution_count": null,
   "metadata": {},
   "outputs": [],
   "source": [
    "statements = 'from unit_fractions import *; '\\\n",
    "             'shortest_length_decompositions(4, 17)'"
   ]
  },
  {
   "cell_type": "code",
   "execution_count": null,
   "metadata": {},
   "outputs": [],
   "source": [
    "%%run_and_test python3 -c \"$statements\"\n",
    "\n",
    "'''\n",
    "4/17 = 1/5 + 1/30 + 1/510\\n\n",
    "4/17 = 1/5 + 1/34 + 1/170\\n\n",
    "4/17 = 1/6 + 1/15 + 1/510\\n\n",
    "4/17 = 1/6 + 1/17 + 1/102\\n\n",
    "'''"
   ]
  }
 ],
 "metadata": {
  "kernelspec": {
   "display_name": "Python 3 (ipykernel)",
   "language": "python",
   "name": "python3"
  },
  "language_info": {
   "codemirror_mode": {
    "name": "ipython",
    "version": 3
   },
   "file_extension": ".py",
   "mimetype": "text/x-python",
   "name": "python",
   "nbconvert_exporter": "python",
   "pygments_lexer": "ipython3",
   "version": "3.10.2"
  },
  "latex_envs": {
   "LaTeX_envs_menu_present": true,
   "autoclose": false,
   "autocomplete": true,
   "bibliofile": "biblio.bib",
   "cite_by": "apalike",
   "current_citInitial": 1,
   "eqLabelWithNumbers": true,
   "eqNumInitial": 1,
   "hotkeys": {
    "equation": "Ctrl-E",
    "itemize": "Ctrl-I"
   },
   "labels_anchors": false,
   "latex_user_defs": false,
   "report_style_numbering": false,
   "user_envs_cfg": false
  },
  "toc": {
   "base_numbering": 1,
   "nav_menu": {},
   "number_sections": true,
   "sideBar": true,
   "skip_h1_title": false,
   "title_cell": "Table of Contents",
   "title_sidebar": "Contents",
   "toc_cell": false,
   "toc_position": {},
   "toc_section_display": true,
   "toc_window_display": false
  },
  "widgets": {
   "application/vnd.jupyter.widget-state+json": {
    "state": {},
    "version_major": 2,
    "version_minor": 0
   }
  }
 },
 "nbformat": 4,
 "nbformat_minor": 4
}
