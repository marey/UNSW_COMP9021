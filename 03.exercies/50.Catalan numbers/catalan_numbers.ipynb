{
 "cells": [
  {
   "cell_type": "code",
   "execution_count": null,
   "metadata": {
    "jupyter": {
     "source_hidden": true
    },
    "tags": []
   },
   "outputs": [],
   "source": [
    "import zipfile\n",
    "with zipfile.ZipFile('Illustrations.zip') as illustrations:\n",
    "    illustrations.extractall('.')"
   ]
  },
  {
   "cell_type": "code",
   "execution_count": null,
   "metadata": {},
   "outputs": [],
   "source": [
    "load_ext run_and_test"
   ]
  },
  {
   "cell_type": "markdown",
   "metadata": {},
   "source": [
    "# Background"
   ]
  },
  {
   "cell_type": "markdown",
   "metadata": {},
   "source": [
    "The sequence of Catalan numbers is inductively defined as follows:\n",
    "\n",
    "* $C_0=1$\n",
    "* For all $n\\geq 1$, $C_{n+1}=\\Sigma_{i=0}^n C_iC_{n-i}$\n",
    "\n",
    "Let $n$ be a natural number."
   ]
  },
  {
   "cell_type": "markdown",
   "metadata": {},
   "source": [
    "## Dyck words"
   ]
  },
  {
   "cell_type": "markdown",
   "metadata": {},
   "source": [
    "A _Dyck word_ of length $2n$ is a string of $n$ Xs and $n$ Ys with no more Ys than Xs in each of its initial segments. The Dyck words of length 6 are:\n",
    "\n",
    "    XYXYXY      XYXXYY      XXYYXY      XXXYYY      XXYXYY\n",
    "\n",
    "Suppose that $n\\geq 1$. Every Dyck word $w$ of length $2n$ can be written in a unique way as X$a$Y$b$ with $a$ and $b$ two Dyck words of length $2i$ and $2(n-1)-2i$, respectively, with $i<n$. Indeed:\n",
    "\n",
    "* $w$ clearly starts with X.\n",
    "* There is a (possibly empty) longest Dyck word $c$ that is a strict initial segment of $w$ with the starting X removed; $c$ has to be followed with Y in $w$; X$c$Y has to be followed with a (possibly empty) Dyck word $d$ to make up the whole of $w$.\n",
    "* $w$ cannot be written as X$c$Y$d$ with $c$ a Dyck word different to $a$ since, assuming without loss of generality that $c$ is shorter than $a$, $a$ would be of the form $c$Y$e$; as $c$ and $c$Y$e$ are Dyck words, Y$e$ would have to be a Dyck word too, which is not the case.\n",
    "\n",
    "Conversely, if for some $i<n$, $a$ and $b$ are Dyck words of length $2i$ and $2(n-1)-2i$, respectively, then X$a$Y$b$ is a Dyck word of length $2n$.\n",
    "\n",
    "It immediately follows from those considerations that $C_n$ is the number of Dyck words of length $2n$ (whether $n$ is equal to 0, in which case the result is trivial, or strictly positive). "
   ]
  },
  {
   "cell_type": "markdown",
   "metadata": {},
   "source": [
    "## Explicit formula"
   ]
  },
  {
   "cell_type": "markdown",
   "metadata": {},
   "source": [
    "**Theorem.**$\\ $ $C_n=\\frac{1}{n+1}{2n\\choose n}$"
   ]
  },
  {
   "cell_type": "markdown",
   "metadata": {},
   "source": [
    "_Proof._$\\ $ The result is trivial if $n=0$, so suppose otherwise. Observe that there are $2n\\choose n$ strings consisting of $n$ Xs and $n$ Ys. Let $w$ be such a string that is not a Dyck word. Then $w$ can be written in a unique way as $a$Y$b$ with $a$ a Dyck word. Then $b$ has one more X than Ys. Let $b'$ be the word obtained from $b$ by changing all Xs to Ys and all Ys to Xs. So $b'$ has one more Y than Xs, hence $a$Y$b'$ consists of $n-1$ Xs and $n+1$ Ys. Conversely, if $w$ is word with $n-1$ Xs and $n+1$ Ys, then $w$ can be written in a unique way as $a$Y$c$ with $a$ a Dyck word and $c$ a word that has one more Y than Xs. If $c'$ is the word obtained from $c$ by changing all Xs to Ys and all Ys to Xs, then $a$Y$c'$ is a Dyck word of length $2n$. So we have established that there exists a one-to-one mapping betweeen the set of strings consisting of $n$ Xs and $n$ Ys that are not Dyck words and the set of strings consisting of $n-1$ Xs and $n+1$ Ys. As the latter is of cardinality $2n\\choose n+1$, we infer that $C_n={2n\\choose n}-{2n\\choose n+1}={2n\\choose n}-\\frac{n}{n+1}{2n\\choose n}=\\frac{1}{n+1}{2n\\choose n}$, as claimed.$\\ $ Q.E.D."
   ]
  },
  {
   "cell_type": "markdown",
   "metadata": {},
   "source": [
    "## A selection of equivalent entities"
   ]
  },
  {
   "cell_type": "markdown",
   "metadata": {},
   "source": [
    "* Taking for X an opening parenthesis and for Y a closing parenthesis, the Dyck words of length $2n$ correspond to the expressions made of $n$ pairs of parentheses that are all well balanced. For $n=3$:\n",
    "\n",
    "      ()()()      ()(())      (())()      ((()))      (()())\n",
    "* Taking for X and Y unit long horizontal and vertical line segments, respectively, the Dyck words of length $2n$ correspond to paths that join the point $(0,0)$ to the point $(n,n)$, moving either East or North, and that never cross the diagonal. For $n=3$:\n",
    "\n",
    "<div><img src=\"Illustrations/paths.pdf\" width=\"500\"/></div>\n",
    "\n",
    "* Taking for X and Y unit long up and down diagonal line segments, respectively, the Dyck words of length $2n$ correspond to mountain chains that start and end at sea level and never go below sea level. For $n=3$:\n",
    "\n",
    "<div><img src=\"Illustrations/mountains.pdf\" width=\"500\"/></div>\n",
    "\n",
    "* Consider the set $S$ of all Dyck words of length $2n$ prepended with an extra X. Take a binary operator, say +, meant to operate on expressions of a given type $T$ and evaluate to an expression of type $T$. Assume that X denotes an expression of type $T$ and let Y be +. Then $S$ is the set of all postfix expressions of type $T$ built from $n+1$ occurrences of X and (necessarily $n$) occurrences of +. For $n=3$:\n",
    "\n",
    "      XX+X+X+      XX+XX++      XXX++X+      XXXX+++      XXX+X++\n",
    "As this set of postfix expressions is in one-to-one correspondence with the set of syntactically valid infix expressions built from $n+1$ occurrences of X, (necessarily $n$) occurrences of + and parentheses (with the outermost pair of parentheses either systematically added or systematically omitted), $C_n$ is the number of such expressions. For $n=3$ (and omitting the outermost pair of parentheses):\n",
    "\n",
    "      ((X+X)+X)+X      (X+X)+(X+X)      (X+(X+X))+X      X+(X+(X+X))      X+((X+X)+X)\n",
    "* As the unlabeled parse trees of the previously defined infix expressions are precisely the full binary trees with $n+1$ leaves (_full_ meaning that every inner node has exactly two children), $C_n$ is also the number of such trees. For $n=3$:\n",
    "\n",
    "<div><img src=\"Illustrations/trees.pdf\" width=\"500\"/></div>"
   ]
  },
  {
   "cell_type": "markdown",
   "metadata": {},
   "source": [
    "# Task"
   ]
  },
  {
   "cell_type": "markdown",
   "metadata": {},
   "source": [
    "Write a program `subtractions.py` that implements a function, `subtractions(L, N)`, that given as argument $L$, an enumerable of integers and $N$, an integer, outputs all expresions $E$ obtained from $L$ by inserting subtraction signs between successive members of $L$ and by adding pairs of parentheses, one less than the number of subtraction signs, in such a way that $E$ is syntactically valid and fully parenthesised, except for an outermost pair of parentheses, and evaluates to $N$. Expressions are printed out one per line, giving right associativity priority over left associativity.\n",
    "\n",
    "A naive solution is expected, but as Catalan numbers quickly become very large, the program can only deal with lists of limited size. It is natural to take advantage of the `eval()` function, but it should be kept in mind that that function is unsafe as the string argument it tries to evaluate could be malicious Python code."
   ]
  },
  {
   "cell_type": "markdown",
   "metadata": {},
   "source": [
    "# Tests"
   ]
  },
  {
   "cell_type": "markdown",
   "metadata": {},
   "source": [
    "## Five operands for two expressions that evaluate to 1"
   ]
  },
  {
   "cell_type": "code",
   "execution_count": null,
   "metadata": {},
   "outputs": [],
   "source": [
    "statements = 'from subtractions import *; subtractions((1, 2, 3, 4, 5), 1)'"
   ]
  },
  {
   "cell_type": "code",
   "execution_count": null,
   "metadata": {
    "tags": []
   },
   "outputs": [],
   "source": [
    "%%run_and_test python3 -c \"$statements\"\n",
    "\n",
    "'''\n",
    "1 - ((2 - 3) - (4 - 5))\\n\n",
    "(1 - ((2 - 3) - 4)) - 5\\n\n",
    "'''"
   ]
  },
  {
   "cell_type": "markdown",
   "metadata": {},
   "source": [
    "## Five operands for no expression that evaluates to 2"
   ]
  },
  {
   "cell_type": "code",
   "execution_count": null,
   "metadata": {},
   "outputs": [],
   "source": [
    "statements = 'from subtractions import *; subtractions((1, 2, 3, 4, 5), 2)'"
   ]
  },
  {
   "cell_type": "code",
   "execution_count": null,
   "metadata": {
    "tags": []
   },
   "outputs": [],
   "source": [
    "%%run_and_test python3 -c \"$statements\"\n",
    "\n",
    "''"
   ]
  },
  {
   "cell_type": "markdown",
   "metadata": {},
   "source": [
    "## Five operands for three expressions that evaluate to 3"
   ]
  },
  {
   "cell_type": "code",
   "execution_count": null,
   "metadata": {},
   "outputs": [],
   "source": [
    "statements = 'from subtractions import *; subtractions((1, 2, 3, 4, 5), 3)'"
   ]
  },
  {
   "cell_type": "code",
   "execution_count": null,
   "metadata": {
    "tags": []
   },
   "outputs": [],
   "source": [
    "%%run_and_test python3 -c \"$statements\"\n",
    "\n",
    "'''1 - (2 - (3 - (4 - 5)))\\n\n",
    "1 - ((2 - (3 - 4)) - 5)\\n\n",
    "(1 - (2 - 3)) - (4 - 5)\\n\n",
    "'''"
   ]
  },
  {
   "cell_type": "markdown",
   "metadata": {},
   "source": [
    "## Five operands for no expression that evaluates to 4"
   ]
  },
  {
   "cell_type": "code",
   "execution_count": null,
   "metadata": {},
   "outputs": [],
   "source": [
    "statements = 'from subtractions import *; subtractions((1, 2, 3, 4, 5), 4)'"
   ]
  },
  {
   "cell_type": "code",
   "execution_count": null,
   "metadata": {
    "tags": []
   },
   "outputs": [],
   "source": [
    "%%run_and_test python3 -c \"$statements\"\n",
    "\n",
    "''"
   ]
  },
  {
   "cell_type": "markdown",
   "metadata": {},
   "source": [
    "## Five operands for one expression that evaluates to 5"
   ]
  },
  {
   "cell_type": "code",
   "execution_count": null,
   "metadata": {},
   "outputs": [],
   "source": [
    "statements = 'from subtractions import *; subtractions((1, 2, 3, 4, 5), 5)'"
   ]
  },
  {
   "cell_type": "code",
   "execution_count": null,
   "metadata": {
    "tags": []
   },
   "outputs": [],
   "source": [
    "%%run_and_test python3 -c \"$statements\"\n",
    "\n",
    "'(1 - 2) - ((3 - 4) - 5)\\n'"
   ]
  },
  {
   "cell_type": "markdown",
   "metadata": {},
   "source": [
    "## Eleven operands for eighteen expressions that evaluate to 40"
   ]
  },
  {
   "cell_type": "code",
   "execution_count": null,
   "metadata": {},
   "outputs": [],
   "source": [
    "statements = 'from subtractions import *; '\\\n",
    "             'subtractions((1, 3, 2, 5, 11, 9, 10, 8, 4, 7, 6), 40)'"
   ]
  },
  {
   "cell_type": "code",
   "execution_count": null,
   "metadata": {
    "tags": []
   },
   "outputs": [],
   "source": [
    "%%run_and_test -s20000 python3 -c \"$statements\"\n",
    "\n",
    "'''\n",
    "1 - ((((3 - 2) - 5) - 11) - (9 - ((((10 - 8) - 4) - 7) - 6)))\\n\n",
    "1 - ((((((3 - 2) - 5) - 11) - 9) - 10) - (8 - (4 - (7 - 6))))\\n\n",
    "1 - ((((((3 - 2) - 5) - 11) - 9) - 10) - ((8 - (4 - 7)) - 6))\\n\n",
    "1 - (((((((3 - 2) - 5) - 11) - 9) - 10) - (8 - 4)) - (7 - 6))\\n\n",
    "1 - (((((3 - 2) - 5) - 11) - (9 - (((10 - 8) - 4) - 7))) - 6)\\n\n",
    "1 - ((((((3 - 2) - 5) - 11) - (9 - ((10 - 8) - 4))) - 7) - 6)\\n\n",
    "1 - (((((((3 - 2) - 5) - 11) - (9 - (10 - 8))) - 4) - 7) - 6)\\n\n",
    "1 - ((((((((3 - 2) - 5) - 11) - (9 - 10)) - 8) - 4) - 7) - 6)\\n\n",
    "(1 - 3) - ((((2 - 5) - 11) - 9) - (10 - (((8 - 4) - 7) - 6)))\\n\n",
    "(1 - 3) - (((((2 - 5) - 11) - 9) - (10 - ((8 - 4) - 7))) - 6)\\n\n",
    "(1 - 3) - ((((((2 - 5) - 11) - 9) - (10 - (8 - 4))) - 7) - 6)\\n\n",
    "(1 - 3) - (((((((2 - 5) - 11) - 9) - (10 - 8)) - 4) - 7) - 6)\\n\n",
    "(1 - ((((3 - 2) - 5) - 11) - 9)) - ((((10 - 8) - 4) - 7) - 6)\\n\n",
    "((1 - 3) - ((((2 - 5) - 11) - 9) - 10)) - (((8 - 4) - 7) - 6)\\n\n",
    "(1 - ((((((3 - 2) - 5) - 11) - 9) - 10) - 8)) - (4 - (7 - 6))\\n\n",
    "(1 - ((((((3 - 2) - 5) - 11) - 9) - 10) - (8 - (4 - 7)))) - 6\\n\n",
    "(1 - (((((((3 - 2) - 5) - 11) - 9) - 10) - (8 - 4)) - 7)) - 6\\n\n",
    "((1 - ((((((3 - 2) - 5) - 11) - 9) - 10) - 8)) - (4 - 7)) - 6\\n\n",
    "'''"
   ]
  }
 ],
 "metadata": {
  "kernelspec": {
   "display_name": "Python 3 (ipykernel)",
   "language": "python",
   "name": "python3"
  },
  "language_info": {
   "codemirror_mode": {
    "name": "ipython",
    "version": 3
   },
   "file_extension": ".py",
   "mimetype": "text/x-python",
   "name": "python",
   "nbconvert_exporter": "python",
   "pygments_lexer": "ipython3",
   "version": "3.10.2"
  },
  "latex_envs": {
   "LaTeX_envs_menu_present": true,
   "autoclose": false,
   "autocomplete": true,
   "bibliofile": "biblio.bib",
   "cite_by": "apalike",
   "current_citInitial": 1,
   "eqLabelWithNumbers": true,
   "eqNumInitial": 1,
   "hotkeys": {
    "equation": "Ctrl-E",
    "itemize": "Ctrl-I"
   },
   "labels_anchors": false,
   "latex_user_defs": false,
   "report_style_numbering": false,
   "user_envs_cfg": false
  },
  "toc": {
   "base_numbering": 1,
   "nav_menu": {},
   "number_sections": true,
   "sideBar": true,
   "skip_h1_title": false,
   "title_cell": "Table of Contents",
   "title_sidebar": "Contents",
   "toc_cell": false,
   "toc_position": {},
   "toc_section_display": true,
   "toc_window_display": false
  },
  "widgets": {
   "application/vnd.jupyter.widget-state+json": {
    "state": {},
    "version_major": 2,
    "version_minor": 0
   }
  }
 },
 "nbformat": 4,
 "nbformat_minor": 4
}
