{
 "cells": [
  {
   "cell_type": "code",
   "execution_count": null,
   "metadata": {
    "tags": []
   },
   "outputs": [],
   "source": [
    "load_ext run_and_test"
   ]
  },
  {
   "cell_type": "markdown",
   "metadata": {},
   "source": [
    "# Task"
   ]
  },
  {
   "cell_type": "markdown",
   "metadata": {},
   "source": [
    "Consider a sequence consisting of the numbers $1,\\dots, n$, in some order, with $n$ even and at least equal to 4. As an example, take the sequence $(1, 3, 4, 2, 5, 6)$. View the sequence as alternating between $x$ and $y$ coordinates, starting with $x$:\n",
    "\n",
    "    1  3  4  2  5  6 \n",
    "    x  y  x  y  x  y\n",
    "\n",
    "Two successive numbers in the sequence, the first one being the successor of the last one by wrapping around, then define $n$ points, each given by its x and y coordinates:\n",
    "\n",
    "    (1, 3)   (4, 3)  (4, 2)   (5, 2)   (5, 6)   (1, 6)\n",
    "\n",
    "We want to draw line segments that connect 2 successive points, the first one being the successor of the last one by wrapping around, so n lines segments altogether:\n",
    "\n",
    "    (1, 3) -- (4, 3) -- (4, 2) -- (5, 2) -- (5, 6) -- (1, 6) -- (1, 3)\n",
    "\n",
    "Reading $x$ coordinates from left to right and $y$ coordinates from top to bottom, these line segments should be drawn as follows:\n",
    "\n",
    "          . 1 . 2 . 3 . 4 . 5 . 6 . \n",
    "       .                              \n",
    "       1                              \n",
    "       .                            \n",
    "       2                * * *\n",
    "       .                *   *       \n",
    "       3    * * * * * * *   *       \n",
    "       .    *               *        \n",
    "       4    *               *        \n",
    "       .    *               *        \n",
    "       5    *               *        \n",
    "       .    *               *        \n",
    "       6    * * * * * * * * *       \n",
    "       .                            \n",
    "\n",
    "So we have to draw $2n+1$ lines of $2n+1$ characters, but using the Unicode characters `'\\N{White Large Square}'` and `'\\N{Black Large Square}'` rather than spaces and stars, respectively.\n",
    "\n",
    "Write a program `closed_paths.py` that defines a function `closed_paths(*L)`, meant to take as arguments the integers $1,\\dots,n$, in some order, for some even $n$ at least equal to 4, that draws the closed path determined by these $n$ integers as previously described."
   ]
  },
  {
   "cell_type": "markdown",
   "metadata": {},
   "source": [
    "# Tests"
   ]
  },
  {
   "cell_type": "markdown",
   "metadata": {},
   "source": [
    "## Four points"
   ]
  },
  {
   "cell_type": "markdown",
   "metadata": {},
   "source": [
    "### (1, 2, 3, 4)"
   ]
  },
  {
   "cell_type": "code",
   "execution_count": null,
   "metadata": {},
   "outputs": [],
   "source": [
    "statements = 'from closed_paths import *; closed_path(1, 2, 3, 4)'"
   ]
  },
  {
   "cell_type": "code",
   "execution_count": null,
   "metadata": {
    "tags": []
   },
   "outputs": [],
   "source": [
    "%%run_and_test python3 -c \"$statements\"\n",
    "\n",
    "'''\n",
    "⬜⬜⬜⬜⬜⬜⬜⬜⬜\\n\n",
    "⬜⬜⬜⬜⬜⬜⬜⬜⬜\\n\n",
    "⬜⬜⬜⬜⬜⬜⬜⬜⬜\\n\n",
    "⬜⬛⬛⬛⬛⬛⬜⬜⬜\\n\n",
    "⬜⬛⬜⬜⬜⬛⬜⬜⬜\\n\n",
    "⬜⬛⬜⬜⬜⬛⬜⬜⬜\\n\n",
    "⬜⬛⬜⬜⬜⬛⬜⬜⬜\\n\n",
    "⬜⬛⬛⬛⬛⬛⬜⬜⬜\\n\n",
    "⬜⬜⬜⬜⬜⬜⬜⬜⬜\\n\n",
    "'''"
   ]
  },
  {
   "cell_type": "markdown",
   "metadata": {},
   "source": [
    "### (4, 3, 2, 1)"
   ]
  },
  {
   "cell_type": "code",
   "execution_count": null,
   "metadata": {},
   "outputs": [],
   "source": [
    "statements = 'from closed_paths import *; closed_path(4, 3, 2, 1)'"
   ]
  },
  {
   "cell_type": "code",
   "execution_count": null,
   "metadata": {},
   "outputs": [],
   "source": [
    "%%run_and_test python3 -c \"$statements\"\n",
    "\n",
    "'''\n",
    "⬜⬜⬜⬜⬜⬜⬜⬜⬜\\n\n",
    "⬜⬜⬜⬛⬛⬛⬛⬛⬜\\n\n",
    "⬜⬜⬜⬛⬜⬜⬜⬛⬜\\n\n",
    "⬜⬜⬜⬛⬜⬜⬜⬛⬜\\n\n",
    "⬜⬜⬜⬛⬜⬜⬜⬛⬜\\n\n",
    "⬜⬜⬜⬛⬛⬛⬛⬛⬜\\n\n",
    "⬜⬜⬜⬜⬜⬜⬜⬜⬜\\n\n",
    "⬜⬜⬜⬜⬜⬜⬜⬜⬜\\n\n",
    "⬜⬜⬜⬜⬜⬜⬜⬜⬜\\n\n",
    "'''"
   ]
  },
  {
   "cell_type": "markdown",
   "metadata": {},
   "source": [
    "### (1, 3, 2, 4)"
   ]
  },
  {
   "cell_type": "code",
   "execution_count": null,
   "metadata": {},
   "outputs": [],
   "source": [
    "statements = 'from closed_paths import *; closed_path(1, 3, 2, 4)'"
   ]
  },
  {
   "cell_type": "code",
   "execution_count": null,
   "metadata": {
    "tags": []
   },
   "outputs": [],
   "source": [
    "%%run_and_test python3 -c \"$statements\"\n",
    "\n",
    "'''\n",
    "⬜⬜⬜⬜⬜⬜⬜⬜⬜\\n\n",
    "⬜⬜⬜⬜⬜⬜⬜⬜⬜\\n\n",
    "⬜⬜⬜⬜⬜⬜⬜⬜⬜\\n\n",
    "⬜⬜⬜⬜⬜⬜⬜⬜⬜\\n\n",
    "⬜⬜⬜⬜⬜⬜⬜⬜⬜\\n\n",
    "⬜⬛⬛⬛⬜⬜⬜⬜⬜\\n\n",
    "⬜⬛⬜⬛⬜⬜⬜⬜⬜\\n\n",
    "⬜⬛⬛⬛⬜⬜⬜⬜⬜\\n\n",
    "⬜⬜⬜⬜⬜⬜⬜⬜⬜\\n\n",
    "'''"
   ]
  },
  {
   "cell_type": "markdown",
   "metadata": {},
   "source": [
    "### (2, 4, 3, 1)"
   ]
  },
  {
   "cell_type": "code",
   "execution_count": null,
   "metadata": {},
   "outputs": [],
   "source": [
    "statements = 'from closed_paths import *; closed_path(2, 4, 3, 1)'"
   ]
  },
  {
   "cell_type": "code",
   "execution_count": null,
   "metadata": {
    "tags": []
   },
   "outputs": [],
   "source": [
    "%%run_and_test python3 -c \"$statements\"\n",
    "\n",
    "'''\n",
    "⬜⬜⬜⬜⬜⬜⬜⬜⬜\\n\n",
    "⬜⬜⬜⬛⬛⬛⬜⬜⬜\\n\n",
    "⬜⬜⬜⬛⬜⬛⬜⬜⬜\\n\n",
    "⬜⬜⬜⬛⬜⬛⬜⬜⬜\\n\n",
    "⬜⬜⬜⬛⬜⬛⬜⬜⬜\\n\n",
    "⬜⬜⬜⬛⬜⬛⬜⬜⬜\\n\n",
    "⬜⬜⬜⬛⬜⬛⬜⬜⬜\\n\n",
    "⬜⬜⬜⬛⬛⬛⬜⬜⬜\\n\n",
    "⬜⬜⬜⬜⬜⬜⬜⬜⬜\\n\n",
    "'''"
   ]
  },
  {
   "cell_type": "markdown",
   "metadata": {},
   "source": [
    "## Six points"
   ]
  },
  {
   "cell_type": "markdown",
   "metadata": {},
   "source": [
    "### (1, 3, 4, 2, 5, 6)"
   ]
  },
  {
   "cell_type": "code",
   "execution_count": null,
   "metadata": {},
   "outputs": [],
   "source": [
    "statements = 'from closed_paths import *; closed_path(1, 3, 4, 2, 5, 6)'"
   ]
  },
  {
   "cell_type": "code",
   "execution_count": null,
   "metadata": {},
   "outputs": [],
   "source": [
    "%%run_and_test python3 -c \"$statements\"\n",
    "\n",
    "'''\n",
    "⬜⬜⬜⬜⬜⬜⬜⬜⬜⬜⬜⬜⬜\\n\n",
    "⬜⬜⬜⬜⬜⬜⬜⬜⬜⬜⬜⬜⬜\\n\n",
    "⬜⬜⬜⬜⬜⬜⬜⬜⬜⬜⬜⬜⬜\\n\n",
    "⬜⬜⬜⬜⬜⬜⬜⬛⬛⬛⬜⬜⬜\\n\n",
    "⬜⬜⬜⬜⬜⬜⬜⬛⬜⬛⬜⬜⬜\\n\n",
    "⬜⬛⬛⬛⬛⬛⬛⬛⬜⬛⬜⬜⬜\\n\n",
    "⬜⬛⬜⬜⬜⬜⬜⬜⬜⬛⬜⬜⬜\\n\n",
    "⬜⬛⬜⬜⬜⬜⬜⬜⬜⬛⬜⬜⬜\\n\n",
    "⬜⬛⬜⬜⬜⬜⬜⬜⬜⬛⬜⬜⬜\\n\n",
    "⬜⬛⬜⬜⬜⬜⬜⬜⬜⬛⬜⬜⬜\\n\n",
    "⬜⬛⬜⬜⬜⬜⬜⬜⬜⬛⬜⬜⬜\\n\n",
    "⬜⬛⬛⬛⬛⬛⬛⬛⬛⬛⬜⬜⬜\\n\n",
    "⬜⬜⬜⬜⬜⬜⬜⬜⬜⬜⬜⬜⬜\\n\n",
    "'''"
   ]
  },
  {
   "cell_type": "markdown",
   "metadata": {},
   "source": [
    "### (3, 1, 2, 6, 4, 5)"
   ]
  },
  {
   "cell_type": "code",
   "execution_count": null,
   "metadata": {},
   "outputs": [],
   "source": [
    "statements = 'from closed_paths import *; closed_path(3, 1, 2, 6, 4, 5)'"
   ]
  },
  {
   "cell_type": "code",
   "execution_count": null,
   "metadata": {
    "tags": []
   },
   "outputs": [],
   "source": [
    "%%run_and_test python3 -c \"$statements\"\n",
    "\n",
    "'''\n",
    "⬜⬜⬜⬜⬜⬜⬜⬜⬜⬜⬜⬜⬜\\n\n",
    "⬜⬜⬜⬛⬛⬛⬜⬜⬜⬜⬜⬜⬜\\n\n",
    "⬜⬜⬜⬛⬜⬛⬜⬜⬜⬜⬜⬜⬜\\n\n",
    "⬜⬜⬜⬛⬜⬛⬜⬜⬜⬜⬜⬜⬜\\n\n",
    "⬜⬜⬜⬛⬜⬛⬜⬜⬜⬜⬜⬜⬜\\n\n",
    "⬜⬜⬜⬛⬜⬛⬜⬜⬜⬜⬜⬜⬜\\n\n",
    "⬜⬜⬜⬛⬜⬛⬜⬜⬜⬜⬜⬜⬜\\n\n",
    "⬜⬜⬜⬛⬜⬛⬜⬜⬜⬜⬜⬜⬜\\n\n",
    "⬜⬜⬜⬛⬜⬛⬜⬜⬜⬜⬜⬜⬜\\n\n",
    "⬜⬜⬜⬛⬜⬛⬛⬛⬜⬜⬜⬜⬜\\n\n",
    "⬜⬜⬜⬛⬜⬜⬜⬛⬜⬜⬜⬜⬜\\n\n",
    "⬜⬜⬜⬛⬛⬛⬛⬛⬜⬜⬜⬜⬜\\n\n",
    "⬜⬜⬜⬜⬜⬜⬜⬜⬜⬜⬜⬜⬜\\n\n",
    "'''"
   ]
  },
  {
   "cell_type": "markdown",
   "metadata": {},
   "source": [
    "### (1, 3, 6, 5, 4, 2)"
   ]
  },
  {
   "cell_type": "code",
   "execution_count": null,
   "metadata": {},
   "outputs": [],
   "source": [
    "statements = 'from closed_paths import *; closed_path(1, 3, 6, 5, 4, 2)'"
   ]
  },
  {
   "cell_type": "code",
   "execution_count": null,
   "metadata": {},
   "outputs": [],
   "source": [
    "%%run_and_test python3 -c \"$statements\"\n",
    "\n",
    "'''\n",
    "⬜⬜⬜⬜⬜⬜⬜⬜⬜⬜⬜⬜⬜\\n\n",
    "⬜⬜⬜⬜⬜⬜⬜⬜⬜⬜⬜⬜⬜\\n\n",
    "⬜⬜⬜⬜⬜⬜⬜⬜⬜⬜⬜⬜⬜\\n\n",
    "⬜⬛⬛⬛⬛⬛⬛⬛⬜⬜⬜⬜⬜\\n\n",
    "⬜⬛⬜⬜⬜⬜⬜⬛⬜⬜⬜⬜⬜\\n\n",
    "⬜⬛⬛⬛⬛⬛⬛⬛⬛⬛⬛⬛⬜\\n\n",
    "⬜⬜⬜⬜⬜⬜⬜⬛⬜⬜⬜⬛⬜\\n\n",
    "⬜⬜⬜⬜⬜⬜⬜⬛⬜⬜⬜⬛⬜\\n\n",
    "⬜⬜⬜⬜⬜⬜⬜⬛⬜⬜⬜⬛⬜\\n\n",
    "⬜⬜⬜⬜⬜⬜⬜⬛⬛⬛⬛⬛⬜\\n\n",
    "⬜⬜⬜⬜⬜⬜⬜⬜⬜⬜⬜⬜⬜\\n\n",
    "⬜⬜⬜⬜⬜⬜⬜⬜⬜⬜⬜⬜⬜\\n\n",
    "⬜⬜⬜⬜⬜⬜⬜⬜⬜⬜⬜⬜⬜\\n\n",
    "'''"
   ]
  },
  {
   "cell_type": "markdown",
   "metadata": {},
   "source": [
    "## Eight points"
   ]
  },
  {
   "cell_type": "markdown",
   "metadata": {},
   "source": [
    "### (6, 5, 2, 4, 8, 3, 1, 7)"
   ]
  },
  {
   "cell_type": "code",
   "execution_count": null,
   "metadata": {},
   "outputs": [],
   "source": [
    "statements = 'from closed_paths import *; closed_path(6, 5, 2, 4, 8, 3, 1, 7)'"
   ]
  },
  {
   "cell_type": "code",
   "execution_count": null,
   "metadata": {},
   "outputs": [],
   "source": [
    "%%run_and_test python3 -c \"$statements\"\n",
    "\n",
    "'''\n",
    "⬜⬜⬜⬜⬜⬜⬜⬜⬜⬜⬜⬜⬜⬜⬜⬜⬜\\n\n",
    "⬜⬜⬜⬜⬜⬜⬜⬜⬜⬜⬜⬜⬜⬜⬜⬜⬜\\n\n",
    "⬜⬜⬜⬜⬜⬜⬜⬜⬜⬜⬜⬜⬜⬜⬜⬜⬜\\n\n",
    "⬜⬜⬜⬜⬜⬜⬜⬜⬜⬜⬜⬜⬜⬜⬜⬜⬜\\n\n",
    "⬜⬜⬜⬜⬜⬜⬜⬜⬜⬜⬜⬜⬜⬜⬜⬜⬜\\n\n",
    "⬜⬛⬛⬛⬛⬛⬛⬛⬛⬛⬛⬛⬛⬛⬛⬛⬜\\n\n",
    "⬜⬛⬜⬜⬜⬜⬜⬜⬜⬜⬜⬜⬜⬜⬜⬛⬜\\n\n",
    "⬜⬛⬜⬛⬛⬛⬛⬛⬛⬛⬛⬛⬛⬛⬛⬛⬜\\n\n",
    "⬜⬛⬜⬛⬜⬜⬜⬜⬜⬜⬜⬜⬜⬜⬜⬜⬜\\n\n",
    "⬜⬛⬜⬛⬛⬛⬛⬛⬛⬛⬛⬛⬜⬜⬜⬜⬜\\n\n",
    "⬜⬛⬜⬜⬜⬜⬜⬜⬜⬜⬜⬛⬜⬜⬜⬜⬜\\n\n",
    "⬜⬛⬜⬜⬜⬜⬜⬜⬜⬜⬜⬛⬜⬜⬜⬜⬜\\n\n",
    "⬜⬛⬜⬜⬜⬜⬜⬜⬜⬜⬜⬛⬜⬜⬜⬜⬜\\n\n",
    "⬜⬛⬛⬛⬛⬛⬛⬛⬛⬛⬛⬛⬜⬜⬜⬜⬜\\n\n",
    "⬜⬜⬜⬜⬜⬜⬜⬜⬜⬜⬜⬜⬜⬜⬜⬜⬜\\n\n",
    "⬜⬜⬜⬜⬜⬜⬜⬜⬜⬜⬜⬜⬜⬜⬜⬜⬜\\n\n",
    "⬜⬜⬜⬜⬜⬜⬜⬜⬜⬜⬜⬜⬜⬜⬜⬜⬜\\n\n",
    "'''"
   ]
  },
  {
   "cell_type": "markdown",
   "metadata": {},
   "source": [
    "### (5, 1, 2, 3, 8, 4, 6, 7)"
   ]
  },
  {
   "cell_type": "code",
   "execution_count": null,
   "metadata": {},
   "outputs": [],
   "source": [
    "statements = 'from closed_paths import *; closed_path(5, 1, 2, 3, 8, 4, 6, 7)'"
   ]
  },
  {
   "cell_type": "code",
   "execution_count": null,
   "metadata": {
    "tags": []
   },
   "outputs": [],
   "source": [
    "%%run_and_test python3 -c \"$statements\"\n",
    "\n",
    "'''\n",
    "⬜⬜⬜⬜⬜⬜⬜⬜⬜⬜⬜⬜⬜⬜⬜⬜⬜\\n\n",
    "⬜⬜⬜⬛⬛⬛⬛⬛⬛⬛⬜⬜⬜⬜⬜⬜⬜\\n\n",
    "⬜⬜⬜⬛⬜⬜⬜⬜⬜⬛⬜⬜⬜⬜⬜⬜⬜\\n\n",
    "⬜⬜⬜⬛⬜⬜⬜⬜⬜⬛⬜⬜⬜⬜⬜⬜⬜\\n\n",
    "⬜⬜⬜⬛⬜⬜⬜⬜⬜⬛⬜⬜⬜⬜⬜⬜⬜\\n\n",
    "⬜⬜⬜⬛⬛⬛⬛⬛⬛⬛⬛⬛⬛⬛⬛⬛⬜\\n\n",
    "⬜⬜⬜⬜⬜⬜⬜⬜⬜⬛⬜⬜⬜⬜⬜⬛⬜\\n\n",
    "⬜⬜⬜⬜⬜⬜⬜⬜⬜⬛⬜⬛⬛⬛⬛⬛⬜\\n\n",
    "⬜⬜⬜⬜⬜⬜⬜⬜⬜⬛⬜⬛⬜⬜⬜⬜⬜\\n\n",
    "⬜⬜⬜⬜⬜⬜⬜⬜⬜⬛⬜⬛⬜⬜⬜⬜⬜\\n\n",
    "⬜⬜⬜⬜⬜⬜⬜⬜⬜⬛⬜⬛⬜⬜⬜⬜⬜\\n\n",
    "⬜⬜⬜⬜⬜⬜⬜⬜⬜⬛⬜⬛⬜⬜⬜⬜⬜\\n\n",
    "⬜⬜⬜⬜⬜⬜⬜⬜⬜⬛⬜⬛⬜⬜⬜⬜⬜\\n\n",
    "⬜⬜⬜⬜⬜⬜⬜⬜⬜⬛⬛⬛⬜⬜⬜⬜⬜\\n\n",
    "⬜⬜⬜⬜⬜⬜⬜⬜⬜⬜⬜⬜⬜⬜⬜⬜⬜\\n\n",
    "⬜⬜⬜⬜⬜⬜⬜⬜⬜⬜⬜⬜⬜⬜⬜⬜⬜\\n\n",
    "⬜⬜⬜⬜⬜⬜⬜⬜⬜⬜⬜⬜⬜⬜⬜⬜⬜\\n\n",
    "'''"
   ]
  },
  {
   "cell_type": "markdown",
   "metadata": {},
   "source": [
    "## Ten points"
   ]
  },
  {
   "cell_type": "code",
   "execution_count": null,
   "metadata": {},
   "outputs": [],
   "source": [
    "statements = 'from closed_paths import *; '\\\n",
    "             'closed_path(6, 7, 10, 3, 8, 5, 4, 9, 2, 1)'"
   ]
  },
  {
   "cell_type": "code",
   "execution_count": null,
   "metadata": {
    "tags": []
   },
   "outputs": [],
   "source": [
    "%%run_and_test python3 -c \"$statements\"\n",
    "\n",
    "'''\n",
    "⬜⬜⬜⬜⬜⬜⬜⬜⬜⬜⬜⬜⬜⬜⬜⬜⬜⬜⬜⬜⬜\\n\n",
    "⬜⬜⬜⬛⬛⬛⬛⬛⬛⬛⬛⬛⬜⬜⬜⬜⬜⬜⬜⬜⬜\\n\n",
    "⬜⬜⬜⬛⬜⬜⬜⬜⬜⬜⬜⬛⬜⬜⬜⬜⬜⬜⬜⬜⬜\\n\n",
    "⬜⬜⬜⬛⬜⬜⬜⬜⬜⬜⬜⬛⬜⬜⬜⬜⬜⬜⬜⬜⬜\\n\n",
    "⬜⬜⬜⬛⬜⬜⬜⬜⬜⬜⬜⬛⬜⬜⬜⬜⬜⬜⬜⬜⬜\\n\n",
    "⬜⬜⬜⬛⬜⬜⬜⬜⬜⬜⬜⬛⬜⬜⬜⬛⬛⬛⬛⬛⬜\\n\n",
    "⬜⬜⬜⬛⬜⬜⬜⬜⬜⬜⬜⬛⬜⬜⬜⬛⬜⬜⬜⬛⬜\\n\n",
    "⬜⬜⬜⬛⬜⬜⬜⬜⬜⬜⬜⬛⬜⬜⬜⬛⬜⬜⬜⬛⬜\\n\n",
    "⬜⬜⬜⬛⬜⬜⬜⬜⬜⬜⬜⬛⬜⬜⬜⬛⬜⬜⬜⬛⬜\\n\n",
    "⬜⬜⬜⬛⬜⬜⬜⬛⬛⬛⬛⬛⬛⬛⬛⬛⬜⬜⬜⬛⬜\\n\n",
    "⬜⬜⬜⬛⬜⬜⬜⬛⬜⬜⬜⬛⬜⬜⬜⬜⬜⬜⬜⬛⬜\\n\n",
    "⬜⬜⬜⬛⬜⬜⬜⬛⬜⬜⬜⬛⬜⬜⬜⬜⬜⬜⬜⬛⬜\\n\n",
    "⬜⬜⬜⬛⬜⬜⬜⬛⬜⬜⬜⬛⬜⬜⬜⬜⬜⬜⬜⬛⬜\\n\n",
    "⬜⬜⬜⬛⬜⬜⬜⬛⬜⬜⬜⬛⬛⬛⬛⬛⬛⬛⬛⬛⬜\\n\n",
    "⬜⬜⬜⬛⬜⬜⬜⬛⬜⬜⬜⬜⬜⬜⬜⬜⬜⬜⬜⬜⬜\\n\n",
    "⬜⬜⬜⬛⬜⬜⬜⬛⬜⬜⬜⬜⬜⬜⬜⬜⬜⬜⬜⬜⬜\\n\n",
    "⬜⬜⬜⬛⬜⬜⬜⬛⬜⬜⬜⬜⬜⬜⬜⬜⬜⬜⬜⬜⬜\\n\n",
    "⬜⬜⬜⬛⬛⬛⬛⬛⬜⬜⬜⬜⬜⬜⬜⬜⬜⬜⬜⬜⬜\\n\n",
    "⬜⬜⬜⬜⬜⬜⬜⬜⬜⬜⬜⬜⬜⬜⬜⬜⬜⬜⬜⬜⬜\\n\n",
    "⬜⬜⬜⬜⬜⬜⬜⬜⬜⬜⬜⬜⬜⬜⬜⬜⬜⬜⬜⬜⬜\\n\n",
    "⬜⬜⬜⬜⬜⬜⬜⬜⬜⬜⬜⬜⬜⬜⬜⬜⬜⬜⬜⬜⬜\\n\n",
    "'''"
   ]
  },
  {
   "cell_type": "markdown",
   "metadata": {},
   "source": [
    "## Twelve points"
   ]
  },
  {
   "cell_type": "code",
   "execution_count": null,
   "metadata": {},
   "outputs": [],
   "source": [
    "statements = 'from closed_paths import *; '\\\n",
    "             'closed_path(4, 7, 10, 1, 9, 12, 11, 3, 2, 8, 6, 5)'"
   ]
  },
  {
   "cell_type": "code",
   "execution_count": null,
   "metadata": {
    "tags": []
   },
   "outputs": [],
   "source": [
    "%%run_and_test python3 -c \"$statements\"\n",
    "\n",
    "'''\n",
    "⬜⬜⬜⬜⬜⬜⬜⬜⬜⬜⬜⬜⬜⬜⬜⬜⬜⬜⬜⬜⬜⬜⬜⬜⬜\\n\n",
    "⬜⬜⬜⬜⬜⬜⬜⬜⬜⬜⬜⬜⬜⬜⬜⬜⬜⬛⬛⬛⬜⬜⬜⬜⬜\\n\n",
    "⬜⬜⬜⬜⬜⬜⬜⬜⬜⬜⬜⬜⬜⬜⬜⬜⬜⬛⬜⬛⬜⬜⬜⬜⬜\\n\n",
    "⬜⬜⬜⬜⬜⬜⬜⬜⬜⬜⬜⬜⬜⬜⬜⬜⬜⬛⬜⬛⬜⬜⬜⬜⬜\\n\n",
    "⬜⬜⬜⬜⬜⬜⬜⬜⬜⬜⬜⬜⬜⬜⬜⬜⬜⬛⬜⬛⬜⬜⬜⬜⬜\\n\n",
    "⬜⬜⬜⬛⬛⬛⬛⬛⬛⬛⬛⬛⬛⬛⬛⬛⬛⬛⬛⬛⬛⬛⬜⬜⬜\\n\n",
    "⬜⬜⬜⬛⬜⬜⬜⬜⬜⬜⬜⬜⬜⬜⬜⬜⬜⬛⬜⬛⬜⬛⬜⬜⬜\\n\n",
    "⬜⬜⬜⬛⬜⬜⬜⬜⬜⬜⬜⬜⬜⬜⬜⬜⬜⬛⬜⬛⬜⬛⬜⬜⬜\\n\n",
    "⬜⬜⬜⬛⬜⬜⬜⬜⬜⬜⬜⬜⬜⬜⬜⬜⬜⬛⬜⬛⬜⬛⬜⬜⬜\\n\n",
    "⬜⬜⬜⬛⬜⬜⬜⬛⬛⬛⬛⬛⬜⬜⬜⬜⬜⬛⬜⬛⬜⬛⬜⬜⬜\\n\n",
    "⬜⬜⬜⬛⬜⬜⬜⬛⬜⬜⬜⬛⬜⬜⬜⬜⬜⬛⬜⬛⬜⬛⬜⬜⬜\\n\n",
    "⬜⬜⬜⬛⬜⬜⬜⬛⬜⬜⬜⬛⬜⬜⬜⬜⬜⬛⬜⬛⬜⬛⬜⬜⬜\\n\n",
    "⬜⬜⬜⬛⬜⬜⬜⬛⬜⬜⬜⬛⬜⬜⬜⬜⬜⬛⬜⬛⬜⬛⬜⬜⬜\\n\n",
    "⬜⬜⬜⬛⬜⬜⬜⬛⬛⬛⬛⬛⬛⬛⬛⬛⬛⬛⬛⬛⬜⬛⬜⬜⬜\\n\n",
    "⬜⬜⬜⬛⬜⬜⬜⬜⬜⬜⬜⬛⬜⬜⬜⬜⬜⬛⬜⬜⬜⬛⬜⬜⬜\\n\n",
    "⬜⬜⬜⬛⬛⬛⬛⬛⬛⬛⬛⬛⬜⬜⬜⬜⬜⬛⬜⬜⬜⬛⬜⬜⬜\\n\n",
    "⬜⬜⬜⬜⬜⬜⬜⬜⬜⬜⬜⬜⬜⬜⬜⬜⬜⬛⬜⬜⬜⬛⬜⬜⬜\\n\n",
    "⬜⬜⬜⬜⬜⬜⬜⬜⬜⬜⬜⬜⬜⬜⬜⬜⬜⬛⬜⬜⬜⬛⬜⬜⬜\\n\n",
    "⬜⬜⬜⬜⬜⬜⬜⬜⬜⬜⬜⬜⬜⬜⬜⬜⬜⬛⬜⬜⬜⬛⬜⬜⬜\\n\n",
    "⬜⬜⬜⬜⬜⬜⬜⬜⬜⬜⬜⬜⬜⬜⬜⬜⬜⬛⬜⬜⬜⬛⬜⬜⬜\\n\n",
    "⬜⬜⬜⬜⬜⬜⬜⬜⬜⬜⬜⬜⬜⬜⬜⬜⬜⬛⬜⬜⬜⬛⬜⬜⬜\\n\n",
    "⬜⬜⬜⬜⬜⬜⬜⬜⬜⬜⬜⬜⬜⬜⬜⬜⬜⬛⬜⬜⬜⬛⬜⬜⬜\\n\n",
    "⬜⬜⬜⬜⬜⬜⬜⬜⬜⬜⬜⬜⬜⬜⬜⬜⬜⬛⬜⬜⬜⬛⬜⬜⬜\\n\n",
    "⬜⬜⬜⬜⬜⬜⬜⬜⬜⬜⬜⬜⬜⬜⬜⬜⬜⬛⬛⬛⬛⬛⬜⬜⬜\\n\n",
    "⬜⬜⬜⬜⬜⬜⬜⬜⬜⬜⬜⬜⬜⬜⬜⬜⬜⬜⬜⬜⬜⬜⬜⬜⬜\\n\n",
    "'''"
   ]
  }
 ],
 "metadata": {
  "kernelspec": {
   "display_name": "Python 3 (ipykernel)",
   "language": "python",
   "name": "python3"
  },
  "language_info": {
   "codemirror_mode": {
    "name": "ipython",
    "version": 3
   },
   "file_extension": ".py",
   "mimetype": "text/x-python",
   "name": "python",
   "nbconvert_exporter": "python",
   "pygments_lexer": "ipython3",
   "version": "3.10.2"
  },
  "latex_envs": {
   "LaTeX_envs_menu_present": true,
   "autoclose": false,
   "autocomplete": true,
   "bibliofile": "biblio.bib",
   "cite_by": "apalike",
   "current_citInitial": 1,
   "eqLabelWithNumbers": true,
   "eqNumInitial": 1,
   "hotkeys": {
    "equation": "Ctrl-E",
    "itemize": "Ctrl-I"
   },
   "labels_anchors": false,
   "latex_user_defs": false,
   "report_style_numbering": false,
   "user_envs_cfg": false
  },
  "toc": {
   "base_numbering": 1,
   "nav_menu": {},
   "number_sections": true,
   "sideBar": true,
   "skip_h1_title": false,
   "title_cell": "Table of Contents",
   "title_sidebar": "Contents",
   "toc_cell": false,
   "toc_position": {},
   "toc_section_display": true,
   "toc_window_display": false
  },
  "widgets": {
   "application/vnd.jupyter.widget-state+json": {
    "state": {},
    "version_major": 2,
    "version_minor": 0
   }
  }
 },
 "nbformat": 4,
 "nbformat_minor": 4
}
