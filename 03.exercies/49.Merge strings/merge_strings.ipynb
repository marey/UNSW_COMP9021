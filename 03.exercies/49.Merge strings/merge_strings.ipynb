{
 "cells": [
  {
   "cell_type": "code",
   "execution_count": null,
   "metadata": {},
   "outputs": [],
   "source": [
    "load_ext run_and_test"
   ]
  },
  {
   "cell_type": "markdown",
   "metadata": {},
   "source": [
    "# Background"
   ]
  },
  {
   "cell_type": "markdown",
   "metadata": {},
   "source": [
    "Say that two strings $s_1$ and $s_2$ can be merged into a third string $s_3$ if $s_3$  is obtained from $s_1$ by inserting arbitrarily in $s_1$ the characters in $s_2$, respecting their order. For instance, the two strings $ab$ and $cd$ can be merged into $abcd$, or $cabd$, or $cdab$, or $acbd$, or $acdb$, ..., but not into $adbc$ nor into $cbda$."
   ]
  },
  {
   "cell_type": "markdown",
   "metadata": {},
   "source": [
    "# Task"
   ]
  },
  {
   "cell_type": "markdown",
   "metadata": {},
   "source": [
    "Write a program `merging_strings.py` that prompts the user for 3 strings and displays the output as follows:\n",
    "\n",
    "* If no string can be obtained from the other two by merging, then the program outputs that no string can be merged from the other two.\n",
    "* Otherwise, the program outputs which of the strings (possibly one only, or two only, or all three) can be obtained from the other two by merging."
   ]
  },
  {
   "cell_type": "markdown",
   "metadata": {},
   "source": [
    "# Tests"
   ]
  },
  {
   "cell_type": "markdown",
   "metadata": {},
   "source": [
    "## Processing the strings '', 'a' and 'ab'"
   ]
  },
  {
   "cell_type": "code",
   "execution_count": null,
   "metadata": {},
   "outputs": [],
   "source": [
    "%%run_and_test -i'\\na\\nab\\n' python3 merge_strings.py\n",
    "\n",
    "'Please input the first string: ', '\\n',\n",
    "'Please input the second string: ', 'a\\n',\n",
    "'Please input the third string: ', 'ab\\n',\n",
    "'No string can be merged from the other two.\\n'"
   ]
  },
  {
   "cell_type": "markdown",
   "metadata": {},
   "source": [
    "## Processing the strings 'ab', 'cd' and 'adcb'"
   ]
  },
  {
   "cell_type": "code",
   "execution_count": null,
   "metadata": {},
   "outputs": [],
   "source": [
    "%%run_and_test -i'ab\\ncd\\nadcb\\n' python3 merge_strings.py\n",
    "\n",
    "'Please input the first string: ', 'ab\\n',\n",
    "'Please input the second string: ', 'cd\\n',\n",
    "'Please input the third string: ', 'adcb\\n',\n",
    "'No string can be merged from the other two.\\n'"
   ]
  },
  {
   "cell_type": "markdown",
   "metadata": {},
   "source": [
    "## Processing the strings '', '' and ''"
   ]
  },
  {
   "cell_type": "code",
   "execution_count": null,
   "metadata": {
    "run_control": {
     "marked": false
    }
   },
   "outputs": [],
   "source": [
    "%%run_and_test -i'\\n\\n\\n' python3 merge_strings.py\n",
    "\n",
    "'Please input the first string: ', '\\n',\n",
    "'Please input the second string: ', '\\n',\n",
    "'Please input the third string: ', '\\n',\n",
    "'Any string can be obtained from the other two.\\n'"
   ]
  },
  {
   "cell_type": "markdown",
   "metadata": {},
   "source": [
    "## Processing the strings '', 'abcd' and 'abcd'"
   ]
  },
  {
   "cell_type": "code",
   "execution_count": null,
   "metadata": {},
   "outputs": [],
   "source": [
    "%%run_and_test -i'\\nabcd\\nabcd\\n' python3 merge_strings.py\n",
    "\n",
    "'Please input the first string: ', '\\n',\n",
    "'Please input the second string: ', 'abcd\\n',\n",
    "'Please input the third string: ', 'abcd\\n',\n",
    "'The second and third strings can be obtained by merging the other two.\\n'"
   ]
  },
  {
   "cell_type": "markdown",
   "metadata": {},
   "source": [
    "## Processing the strings 'abcd', '' and 'abcd'"
   ]
  },
  {
   "cell_type": "code",
   "execution_count": null,
   "metadata": {},
   "outputs": [],
   "source": [
    "%%run_and_test -i'abcd\\n\\nabcd\\n' python3 merge_strings.py\n",
    "\n",
    "'Please input the first string: ', 'abcd\\n',\n",
    "'Please input the second string: ', '\\n',\n",
    "'Please input the third string: ', 'abcd\\n',\n",
    "'The first and third strings can be obtained by merging the other two.\\n'"
   ]
  },
  {
   "cell_type": "markdown",
   "metadata": {},
   "source": [
    "## Processing the strings 'abcd', 'abcd' and ''"
   ]
  },
  {
   "cell_type": "code",
   "execution_count": null,
   "metadata": {
    "tags": []
   },
   "outputs": [],
   "source": [
    "%%run_and_test -i'abcd\\nabcd\\n\\n' python3 merge_strings.py\n",
    "\n",
    "'Please input the first string: ', 'abcd\\n',\n",
    "'Please input the second string: ', 'abcd\\n',\n",
    "'Please input the third string: ', '\\n',\n",
    "'The first and second strings can be obtained by merging the other two.\\n'"
   ]
  },
  {
   "cell_type": "markdown",
   "metadata": {},
   "source": [
    "## Processing the strings 'ab', 'cd' and 'abcd'"
   ]
  },
  {
   "cell_type": "code",
   "execution_count": null,
   "metadata": {},
   "outputs": [],
   "source": [
    "%%run_and_test -i'ab\\ncd\\nabcd\\n' python3 merge_strings.py\n",
    "\n",
    "'Please input the first string: ', 'ab\\n',\n",
    "'Please input the second string: ', 'cd\\n',\n",
    "'Please input the third string: ', 'abcd\\n',\n",
    "'The third string can be obtained by merging the other two.\\n'"
   ]
  },
  {
   "cell_type": "markdown",
   "metadata": {},
   "source": [
    "## Processing the strings 'ab', 'cdab' and 'cd'"
   ]
  },
  {
   "cell_type": "code",
   "execution_count": null,
   "metadata": {},
   "outputs": [],
   "source": [
    "%%run_and_test -i'ab\\ncdab\\ncd\\n' python3 merge_strings.py\n",
    "\n",
    "'Please input the first string: ', 'ab\\n',\n",
    "'Please input the second string: ', 'cdab\\n',\n",
    "'Please input the third string: ', 'cd\\n',\n",
    "'The second string can be obtained by merging the other two.\\n'"
   ]
  },
  {
   "cell_type": "markdown",
   "metadata": {},
   "source": [
    "## Processing the strings 'abcd', 'cd' and 'ab'"
   ]
  },
  {
   "cell_type": "code",
   "execution_count": null,
   "metadata": {},
   "outputs": [],
   "source": [
    "%%run_and_test -i'abcd\\ncd\\nab\\n' python3 merge_strings.py\n",
    "\n",
    "'Please input the first string: ', 'abcd\\n',\n",
    "'Please input the second string: ', 'cd\\n',\n",
    "'Please input the third string: ', 'ab\\n',\n",
    "'The first string can be obtained by merging the other two.\\n'"
   ]
  },
  {
   "cell_type": "markdown",
   "metadata": {},
   "source": [
    "## Processing the strings 'aaaaa', 'a' and 'aaaa'"
   ]
  },
  {
   "cell_type": "code",
   "execution_count": null,
   "metadata": {},
   "outputs": [],
   "source": [
    "%%run_and_test -i'aaaaa\\na\\naaaa\\n' python3 merge_strings.py\n",
    "\n",
    "'Please input the first string: ', 'aaaaa\\n',\n",
    "'Please input the second string: ', 'a\\n',\n",
    "'Please input the third string: ', 'aaaa\\n',\n",
    "'The first string can be obtained by merging the other two.\\n'"
   ]
  },
  {
   "cell_type": "markdown",
   "metadata": {},
   "source": [
    "## Processing the strings 'aaab', 'abcab' and 'aaabcaabb'"
   ]
  },
  {
   "cell_type": "code",
   "execution_count": null,
   "metadata": {},
   "outputs": [],
   "source": [
    "%%run_and_test -i'aaab\\nabcab\\naaabcaabb\\n' python3 merge_strings.py\n",
    "\n",
    "'Please input the first string: ', 'aaab\\n',\n",
    "'Please input the second string: ', 'abcab\\n',\n",
    "'Please input the third string: ', 'aaabcaabb\\n',\n",
    "'The third string can be obtained by merging the other two.\\n'"
   ]
  },
  {
   "cell_type": "markdown",
   "metadata": {},
   "source": [
    "## Processing the strings '??got', '?it?go#t##' and 'it###'"
   ]
  },
  {
   "cell_type": "code",
   "execution_count": null,
   "metadata": {},
   "outputs": [],
   "source": [
    "%%run_and_test -i'??got\\n?it?go#t##\\nit###\\n' python3 merge_strings.py\n",
    "\n",
    "'Please input the first string: ', '??got\\n',\n",
    "'Please input the second string: ', '?it?go#t##\\n',\n",
    "'Please input the third string: ', 'it###\\n',\n",
    "'The second string can be obtained by merging the other two.\\n'"
   ]
  }
 ],
 "metadata": {
  "kernelspec": {
   "display_name": "Python 3 (ipykernel)",
   "language": "python",
   "name": "python3"
  },
  "language_info": {
   "codemirror_mode": {
    "name": "ipython",
    "version": 3
   },
   "file_extension": ".py",
   "mimetype": "text/x-python",
   "name": "python",
   "nbconvert_exporter": "python",
   "pygments_lexer": "ipython3",
   "version": "3.10.2"
  },
  "latex_envs": {
   "LaTeX_envs_menu_present": true,
   "autoclose": false,
   "autocomplete": true,
   "bibliofile": "biblio.bib",
   "cite_by": "apalike",
   "current_citInitial": 1,
   "eqLabelWithNumbers": true,
   "eqNumInitial": 1,
   "hotkeys": {
    "equation": "Ctrl-E",
    "itemize": "Ctrl-I"
   },
   "labels_anchors": false,
   "latex_user_defs": false,
   "report_style_numbering": false,
   "user_envs_cfg": false
  },
  "toc": {
   "base_numbering": 1,
   "nav_menu": {},
   "number_sections": true,
   "sideBar": true,
   "skip_h1_title": false,
   "title_cell": "Table of Contents",
   "title_sidebar": "Contents",
   "toc_cell": false,
   "toc_position": {},
   "toc_section_display": true,
   "toc_window_display": false
  },
  "widgets": {
   "application/vnd.jupyter.widget-state+json": {
    "state": {},
    "version_major": 2,
    "version_minor": 0
   }
  }
 },
 "nbformat": 4,
 "nbformat_minor": 4
}
