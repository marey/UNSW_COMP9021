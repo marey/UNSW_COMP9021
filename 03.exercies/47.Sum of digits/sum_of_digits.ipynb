{
 "cells": [
  {
   "cell_type": "code",
   "execution_count": null,
   "metadata": {},
   "outputs": [],
   "source": [
    "load_ext run_and_test"
   ]
  },
  {
   "cell_type": "markdown",
   "metadata": {},
   "source": [
    "# Task"
   ]
  },
  {
   "cell_type": "markdown",
   "metadata": {},
   "source": [
    "Write a program `sum_of_digits.py` that prompts the user for two natural numbers, $\\mathit{digits}$ and $\\mathit{desired\\_sum}$, and outputs the number of ways of selecting digits from $\\mathit{digits}$ that add up to $\\mathit{desired\\_sum}$. For instance, if $\\mathit{digits}$ is 12234 and $\\mathit{desired\\_sum}$ is 5 then there are 4 solutions:\n",
    "\n",
    "* one solution is obtained by selecting 1 and both occurrences of 2 (1 + 2 + 2 = 5);\n",
    "* one solution is obtained by selecting 1 and 4 (1 + 4 = 5);\n",
    "* one solution is obtained by selecting the first occurrence of 2 and 3 (2 + 3 = 5);\n",
    "* one solution is obtained by selecting the second occurrence of 2 and 3 (2 + 3 = 5)."
   ]
  },
  {
   "cell_type": "markdown",
   "metadata": {},
   "source": [
    "# Tests"
   ]
  },
  {
   "cell_type": "markdown",
   "metadata": {},
   "source": [
    "## 12234 as available digits and 5 as desired sum"
   ]
  },
  {
   "cell_type": "code",
   "execution_count": null,
   "metadata": {},
   "outputs": [],
   "source": [
    "%%run_and_test -i'12234\\n5\\n' python3 sum_of_digits.py\n",
    "\n",
    "'Input a natural number for the available digits: ', '12234\\n',\n",
    "'Input a natural number for the desired sum: ', '5\\n',\n",
    "'There are 4 solutions.\\n'"
   ]
  },
  {
   "cell_type": "markdown",
   "metadata": {},
   "source": [
    "## 11111 as available digits and 5 as desired sum"
   ]
  },
  {
   "cell_type": "code",
   "execution_count": null,
   "metadata": {},
   "outputs": [],
   "source": [
    "%%run_and_test -i'11111\\n5\\n' python3 sum_of_digits.py\n",
    "\n",
    "'Input a natural number for the available digits: ', '11111\\n',\n",
    "'Input a natural number for the desired sum: ', '5\\n',\n",
    "'There is a unique solution.\\n'"
   ]
  },
  {
   "cell_type": "markdown",
   "metadata": {},
   "source": [
    "## 11111 as available digits and 6 as desired sum"
   ]
  },
  {
   "cell_type": "code",
   "execution_count": null,
   "metadata": {},
   "outputs": [],
   "source": [
    "%%run_and_test -i'11111\\n6\\n' python3 sum_of_digits.py\n",
    "\n",
    "'Input a natural number for the available digits: ', '11111\\n',\n",
    "'Input a natural number for the desired sum: ', '6\\n',\n",
    "'There is no solution.\\n'"
   ]
  },
  {
   "cell_type": "markdown",
   "metadata": {},
   "source": [
    "## 1234321 as available digits and 5 as desired sum"
   ]
  },
  {
   "cell_type": "code",
   "execution_count": null,
   "metadata": {},
   "outputs": [],
   "source": [
    "%%run_and_test -i'1234321\\n5\\n' python3 sum_of_digits.py\n",
    "\n",
    "'Input a natural number for the available digits: ', '1234321\\n',\n",
    "'Input a natural number for the desired sum: ', '5\\n',\n",
    "'There are 10 solutions.\\n'"
   ]
  },
  {
   "cell_type": "markdown",
   "metadata": {},
   "source": [
    "## 1302000 as available digits and 6 as desired sum"
   ]
  },
  {
   "cell_type": "code",
   "execution_count": null,
   "metadata": {},
   "outputs": [],
   "source": [
    "%%run_and_test -i'1302000\\n6\\n' python3 sum_of_digits.py\n",
    "\n",
    "'Input a natural number for the available digits: ', '1302000\\n',\n",
    "'Input a natural number for the desired sum: ', '6\\n',\n",
    "'There are 16 solutions.\\n'"
   ]
  },
  {
   "cell_type": "markdown",
   "metadata": {},
   "source": [
    "## 1231872341 as available digits and 23 as desired sum"
   ]
  },
  {
   "cell_type": "code",
   "execution_count": null,
   "metadata": {},
   "outputs": [],
   "source": [
    "%%run_and_test -i'1231872341\\n23\\n' python3 sum_of_digits.py\n",
    "\n",
    "'Input a natural number for the available digits: ', '1231872341\\n',\n",
    "'Input a natural number for the desired sum: ', '23\\n',\n",
    "'There are 36 solutions.\\n'"
   ]
  },
  {
   "cell_type": "markdown",
   "metadata": {},
   "source": [
    "## 341303423039123230 as available digits and 37 as desired sum"
   ]
  },
  {
   "cell_type": "code",
   "execution_count": null,
   "metadata": {},
   "outputs": [],
   "source": [
    "%%run_and_test -i'341303423039123230\\n37\\n' python3 sum_of_digits.py\n",
    "\n",
    "'Input a natural number for the available digits: ', '341303423039123230\\n',\n",
    "'Input a natural number for the desired sum: ', '37\\n',\n",
    "'There are 2080 solutions.\\n'"
   ]
  }
 ],
 "metadata": {
  "kernelspec": {
   "display_name": "Python 3 (ipykernel)",
   "language": "python",
   "name": "python3"
  },
  "language_info": {
   "codemirror_mode": {
    "name": "ipython",
    "version": 3
   },
   "file_extension": ".py",
   "mimetype": "text/x-python",
   "name": "python",
   "nbconvert_exporter": "python",
   "pygments_lexer": "ipython3",
   "version": "3.10.2"
  },
  "latex_envs": {
   "LaTeX_envs_menu_present": true,
   "autoclose": false,
   "autocomplete": true,
   "bibliofile": "biblio.bib",
   "cite_by": "apalike",
   "current_citInitial": 1,
   "eqLabelWithNumbers": true,
   "eqNumInitial": 1,
   "hotkeys": {
    "equation": "Ctrl-E",
    "itemize": "Ctrl-I"
   },
   "labels_anchors": false,
   "latex_user_defs": false,
   "report_style_numbering": false,
   "user_envs_cfg": false
  },
  "toc": {
   "base_numbering": 1,
   "nav_menu": {},
   "number_sections": true,
   "sideBar": true,
   "skip_h1_title": false,
   "title_cell": "Table of Contents",
   "title_sidebar": "Contents",
   "toc_cell": false,
   "toc_position": {},
   "toc_section_display": true,
   "toc_window_display": false
  },
  "widgets": {
   "application/vnd.jupyter.widget-state+json": {
    "state": {},
    "version_major": 2,
    "version_minor": 0
   }
  }
 },
 "nbformat": 4,
 "nbformat_minor": 4
}
