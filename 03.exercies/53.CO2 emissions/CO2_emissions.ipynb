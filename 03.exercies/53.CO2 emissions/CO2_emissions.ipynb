{
 "cells": [
  {
   "cell_type": "code",
   "execution_count": null,
   "metadata": {
    "jupyter": {
     "source_hidden": true
    },
    "tags": []
   },
   "outputs": [],
   "source": [
    "import zipfile\n",
    "with zipfile.ZipFile('Illustrations.zip') as illustrations:\n",
    "    illustrations.extractall('.')"
   ]
  },
  {
   "cell_type": "code",
   "execution_count": null,
   "metadata": {},
   "outputs": [],
   "source": [
    "load_ext run_and_test"
   ]
  },
  {
   "cell_type": "markdown",
   "metadata": {},
   "source": [
    "# Task"
   ]
  },
  {
   "cell_type": "markdown",
   "metadata": {},
   "source": [
    "Write a program `CO2_emissions.py` that extracts from the file `API_EN.ATM.CO2E.KT_DS2_en_csv_v2_422491.csv`, stored in the subdirectory `API_EN` of the working directory, country levels of $\\mathrm{CO}_2$ emissions for the year 2014. The data will be shown interactively on a map, created as an object of class `World` of the `pygal.maps.world` module.\n",
    "\n",
    "We can associate to a `World` object a number of  dictionaries whose keys are country codes—check out the `add()` method from the `World` class. We will create two dictionaries with disjoint sets of keys: one for countries whose levels of $\\mathrm{CO}_2$ emissions for the year 2014 can be retrieved from the csv file, and one for countries for which that information is not available, either because there is no record for that country in the csv file, or because the data is missing. The `COUNTRIES` dictionary from the `pygal.maps.world` module maps country names to country codes. The second attribute of the csv file is for country codes, but they are different to `COUNTRIES`'s values. The first attribute of the csv file is for country names; for a few countries, they are different to `COUNTRIES`'s keys. For instance, the country named _Cabo Verde_ in the csv file is named _Cape Verde_ in `COUNTRIES`. These special countries should be identified, so that their level of their $\\mathrm{CO}_2$ emissions, in case it is not missing from the csv file, can be shown on the map.\n",
    "\n",
    "The map should have—check out the `Style` class from the `pygal.style` module:\n",
    "\n",
    "* as title for the map, `CO2 emissions in 2014`;\n",
    "* one group of data with `Known data` as legend and with `'#B22222'` as colour, another group of data with `No data` as legend and with `'#A9A9A9'` as colour, both with a font size of 10pt;\n",
    "* tooltips providing standard display for the first group, but with the level of $\\mathrm{CO}_2$ emissions replaced by `?` for the second group, both with a font size of 8pt.\n",
    "\n",
    "The program will save the `World` object in a file of name `CO2_emissions.svg`—check out the `render_to_file()` method from the `World` class. Besides creating the `CO2_emissions.svg` file, `CO2_emissions.py` will output lines of the form `Leaving out ...` for all records in the csv file that are not for countries in `COUNTRIES`.\n",
    "\n",
    "A version of the `CO2_emissions.svg` file that your program has to create is provided as `CO2_emissions_solution.svg`. As a static image, it displays as shown below. To be able to use the tooltips and see the countries emissions, it is necessary to open `CO2_emissions_solution.svg` in the browser (just drag and drop the file into the address bar of your browser, or provided that files with extension `.svg` are by default associated with your browser, just open the file) but not within Jupyter.\n",
    "\n",
    "<div><img src=\"Illustrations/CO2_emissions_solution.svg\" width=\"600\"/></div>\n",
    "\n",
    "Here is the map with the cursor hovering over Australia, for which the $\\mathrm{CO}_2$ emissions are known:\n",
    "\n",
    "<div><img src=\"Illustrations/CO2_emissions_known_data.pdf\" width=\"600\"/></div>\n",
    "\n",
    "Here is the map with the cursor hovering over Puerto Rico, for which the $\\mathrm{CO}_2$ emissions are not known:\n",
    "\n",
    "<div><img src=\"Illustrations/CO2_emissions_no_data.pdf\" width=\"600\"/></div>"
   ]
  },
  {
   "cell_type": "markdown",
   "metadata": {},
   "source": [
    "# Test"
   ]
  },
  {
   "cell_type": "markdown",
   "metadata": {},
   "source": [
    "Executing the following cell should also produce `CO2_emissions.svg`."
   ]
  },
  {
   "cell_type": "code",
   "execution_count": null,
   "metadata": {},
   "outputs": [],
   "source": [
    "%%run_and_test -s5000 python3 CO2_emissions.py\n",
    "\n",
    "'Leaving out Aruba\\n\n",
    "Leaving out Arab World\\n\n",
    "Leaving out American Samoa\\n\n",
    "Leaving out Antigua and Barbuda\\n\n",
    "Leaving out Bahamas, The\\n\n",
    "Leaving out Bermuda\\n\n",
    "Leaving out Barbados\\n\n",
    "Leaving out Central Europe and the Baltics\\n\n",
    "Leaving out Channel Islands\\n\n",
    "Leaving out Comoros\\n\n",
    "Leaving out Caribbean small states\\n\n",
    "Leaving out Curacao\\n\n",
    "Leaving out Cayman Islands\\n\n",
    "Leaving out East Asia & Pacific (excluding high income)\\n\n",
    "Leaving out Early-demographic dividend\\n\n",
    "Leaving out East Asia & Pacific\\n\n",
    "Leaving out Europe & Central Asia (excluding high income)\\n\n",
    "Leaving out Europe & Central Asia\\n\n",
    "Leaving out Euro area\\n\n",
    "Leaving out European Union\\n\n",
    "Leaving out Fragile and conflict affected situations\\n\n",
    "Leaving out Fiji\\n\n",
    "Leaving out Faroe Islands\\n\n",
    "Leaving out Micronesia, Fed. Sts.\\n\n",
    "Leaving out Gibraltar\\n\n",
    "Leaving out Grenada\\n\n",
    "Leaving out High income\\n\n",
    "Leaving out Heavily indebted poor countries (HIPC)\\n\n",
    "Leaving out IBRD only\\n\n",
    "Leaving out IDA & IBRD total\\n\n",
    "Leaving out IDA total\\n\n",
    "Leaving out IDA blend\\n\n",
    "Leaving out IDA only\\n\n",
    "Leaving out Isle of Man\\n\n",
    "Leaving out Not classified\\n\n",
    "Leaving out Kiribati\\n\n",
    "Leaving out St. Kitts and Nevis\\n\n",
    "Leaving out Latin America & Caribbean (excluding high income)\\n\n",
    "Leaving out St. Lucia\\n\n",
    "Leaving out Latin America & Caribbean\\n\n",
    "Leaving out Least developed countries: UN classification\\n\n",
    "Leaving out Low income\\n\n",
    "Leaving out Lower middle income\\n\n",
    "Leaving out Low & middle income\\n\n",
    "Leaving out Late-demographic dividend\\n\n",
    "Leaving out St. Martin (French part)\\n\n",
    "Leaving out Middle East & North Africa\\n\n",
    "Leaving out Marshall Islands\\n\n",
    "Leaving out Middle income\\n\n",
    "Leaving out North Macedonia\\n\n",
    "Leaving out Middle East & North Africa (excluding high income)\\n\n",
    "Leaving out Northern Mariana Islands\\n\n",
    "Leaving out North America\\n\n",
    "Leaving out New Caledonia\\n\n",
    "Leaving out Nauru\\n\n",
    "Leaving out OECD members\\n\n",
    "Leaving out Other small states\\n\n",
    "Leaving out Palau\\n\n",
    "Leaving out Pre-demographic dividend\\n\n",
    "Leaving out West Bank and Gaza\\n\n",
    "Leaving out Pacific island small states\\n\n",
    "Leaving out Post-demographic dividend\\n\n",
    "Leaving out French Polynesia\\n\n",
    "Leaving out Qatar\\n\n",
    "Leaving out South Asia\\n\n",
    "Leaving out Solomon Islands\\n\n",
    "Leaving out Sub-Saharan Africa (excluding high income)\\n\n",
    "Leaving out South Sudan\\n\n",
    "Leaving out Sub-Saharan Africa\\n\n",
    "Leaving out Small states\\n\n",
    "Leaving out Eswatini\\n\n",
    "Leaving out Sint Maarten (Dutch part)\\n\n",
    "Leaving out Turks and Caicos Islands\\n\n",
    "Leaving out East Asia & Pacific (IDA & IBRD countries)\\n\n",
    "Leaving out Europe & Central Asia (IDA & IBRD countries)\\n\n",
    "Leaving out Latin America & the Caribbean (IDA & IBRD countries)\\n\n",
    "Leaving out Middle East & North Africa (IDA & IBRD countries)\\n\n",
    "Leaving out Tonga\\n\n",
    "Leaving out South Asia (IDA & IBRD)\\n\n",
    "Leaving out Sub-Saharan Africa (IDA & IBRD countries)\\n\n",
    "Leaving out Trinidad and Tobago\\n\n",
    "Leaving out Tuvalu\\n\n",
    "Leaving out Upper middle income\\n\n",
    "Leaving out St. Vincent and the Grenadines\\n\n",
    "Leaving out British Virgin Islands\\n\n",
    "Leaving out Virgin Islands (U.S.)\\n\n",
    "Leaving out Vanuatu\\n\n",
    "Leaving out World\\n\n",
    "Leaving out Samoa\\n\n",
    "Leaving out Kosovo\\n'"
   ]
  }
 ],
 "metadata": {
  "kernelspec": {
   "display_name": "Python 3 (ipykernel)",
   "language": "python",
   "name": "python3"
  },
  "language_info": {
   "codemirror_mode": {
    "name": "ipython",
    "version": 3
   },
   "file_extension": ".py",
   "mimetype": "text/x-python",
   "name": "python",
   "nbconvert_exporter": "python",
   "pygments_lexer": "ipython3",
   "version": "3.10.2"
  },
  "latex_envs": {
   "LaTeX_envs_menu_present": true,
   "autoclose": false,
   "autocomplete": true,
   "bibliofile": "biblio.bib",
   "cite_by": "apalike",
   "current_citInitial": 1,
   "eqLabelWithNumbers": true,
   "eqNumInitial": 1,
   "hotkeys": {
    "equation": "Ctrl-E",
    "itemize": "Ctrl-I"
   },
   "labels_anchors": false,
   "latex_user_defs": false,
   "report_style_numbering": false,
   "user_envs_cfg": false
  },
  "toc": {
   "base_numbering": 1,
   "nav_menu": {},
   "number_sections": true,
   "sideBar": true,
   "skip_h1_title": false,
   "title_cell": "Table of Contents",
   "title_sidebar": "Contents",
   "toc_cell": false,
   "toc_position": {},
   "toc_section_display": true,
   "toc_window_display": false
  },
  "widgets": {
   "application/vnd.jupyter.widget-state+json": {
    "state": {},
    "version_major": 2,
    "version_minor": 0
   }
  }
 },
 "nbformat": 4,
 "nbformat_minor": 4
}
