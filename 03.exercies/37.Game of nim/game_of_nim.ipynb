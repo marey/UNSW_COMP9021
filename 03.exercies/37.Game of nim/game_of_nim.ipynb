{
 "cells": [
  {
   "cell_type": "code",
   "execution_count": 1,
   "metadata": {},
   "outputs": [],
   "source": [
    "load_ext run_and_test"
   ]
  },
  {
   "cell_type": "markdown",
   "metadata": {},
   "source": [
    "## Background"
   ]
  },
  {
   "cell_type": "markdown",
   "metadata": {},
   "source": [
    "Let a natural number $k$ and $k$ natural numbers $n_1,\\dots,n_k$ be given. Conceive of the latter as the number of coins in $k$ piles of coins, aligned from left to right. For instance, with $k=5$ and $n_1=4$, $n_2=10$, $n_3=0$, $n_4=6$ and $n_5= 11$, the piles can be depicted as:\n",
    "\n",
    "                            _\n",
    "                   _        _\n",
    "                   _        _\n",
    "                   _        _\n",
    "                   _        _\n",
    "                   _     _  _\n",
    "                   _     _  _\n",
    "                _  _     _  _\n",
    "                _  _     _  _\n",
    "                _  _     _  _\n",
    "                _  _     _  _\n",
    "\n",
    "Two players take turns and take coins (possibly only one coin, possibly all coins, but necessarily at least one coin) from the top of one of the nonempty piles. The play ends when there are no coins left, the player's whose turn it is to play being the loser. In particular:\n",
    "* if there is no pile or all piles are empty to start with, then the second player is the winner;\n",
    "* if there is one and only one nonempty pile, then the first player just has to take all coins to immediately win. \n",
    "\n",
    "One of the players has a winning strategy, that is, a way to play that guarantees him to win whichever way the other player plays. Moreover, the first player has a winning strategy iff the nim sum of the game, that is, $n_1\\oplus\\dots\\oplus n_k$, is not equal to 0. With the example just considered:\n",
    "\n",
    "\\begin{equation*}\n",
    "\\begin{array}{r|r|r}\n",
    "n_1 & 4 & 0100\\\\\n",
    "n_2 & 10 & 1010\\\\\n",
    "n_3 & 0 & 0000\\\\\n",
    "n_4 & 6 & 0110\\\\\n",
    "n_5 & 11 & 1011\\\\\\hline\n",
    "\\bigoplus_{i=1}^5 n_i & 3 & 0011\n",
    "\\end{array}\n",
    "\\end{equation*}\n",
    "\n",
    "so the first player has a winning strategy.\n",
    "\n",
    "Let us verify those claims. When there are no coins, the nim sum is equal to 0. Suppose that there is at least one coin in some pile, and let $s$ and $s'$ be the nim sums before and after the player $P$ whose turn it is to play has taken some coins from some nonempty pile, respectively. If $s=0$ then $s'$ is necessarily different to 0. If $s$ is not equal to 0 then $s'=0$ provided that $P$ played as follows. Let $p$ be the position of the leftmost 1 in the binary representation of $s$. Then at least one of $n_1$, ..., $n_k$ has a 1 in its binary representation at position $p$. Let $j\\in\\{1,\\dots,k\\}$ be such that $n_j$ is such a number. Then $n_j\\oplus s$ is smaller than $n_j$, and removing $n_j-(n_j\\oplus s)$ coins from the $j$-th column, that is, leaving $n_j\\oplus s$ coins in the $j$-th column, indeed makes $s'$ equal to 0 (since $s\\oplus n_j$ \"erases\" $n_j$, and so $s'=(s\\oplus n_j)\\oplus(s\\oplus n_j)=0$). The winning strategy can then consist in making such a move, and it can be fixed by letting $j$ be minimal. With the example considered above, $j=2$, and since $n_2\\oplus\\bigoplus_{i=1}^5 n_i=10\\oplus 3=9$, the chosen winning strategy lets the player remove one coin from the second pile.\n"
   ]
  },
  {
   "cell_type": "markdown",
   "metadata": {},
   "source": [
    "## Task"
   ]
  },
  {
   "cell_type": "markdown",
   "metadata": {},
   "source": [
    "Write a Python program `game_of_nim.py` that prompts the user to enter natural numbers meant to represent the number of coins in piles—as many piles as numbers being entered—, outputs which player has a winning strategy, and simulates the playing of the game. To be able to replicate a given simulation, the program also prompts the user to optionally use a seed; if an integer is input then it is given as argument to the `seed()` function from the `random` module. The player having a winning strategy should play according to the specific winning strategy previously described. The other player should play randomly, by:\n",
    "\n",
    "* randomly selecting a pile amongst those still having coins, using the `choice()` function from the `random` module with as argument, the list of indexes of piles still having coins, the first pile having an index of 0 (with the example above, that list would be [0, 1, 3, 4]);\n",
    "* randomly selecting from that pile the number of coins to leave in the pile using the `randrange()` function from the `random` module, providing the number of coins in the pile as argument (with the example above, if the second column, of index 1, was chosen then `randrange(10)` would determine how many coins to leave in the pile).\n",
    "\n",
    "The underscore character is used to represent a coin. Two consecutive columns are separated by 2 spaces."
   ]
  },
  {
   "cell_type": "markdown",
   "metadata": {},
   "source": [
    "## Tests"
   ]
  },
  {
   "cell_type": "markdown",
   "metadata": {},
   "source": [
    "### A pile with 10 coins"
   ]
  },
  {
   "cell_type": "code",
   "execution_count": null,
   "metadata": {},
   "outputs": [],
   "source": [
    "%%run_and_test -i'10\\n\\n' python3 game_of_nim.py\n",
    "\n",
    "'Describe the piles: ', '10\\n',\n",
    "'\\n\n",
    "First player will play smart and win!\\n\n",
    "Feed seed if desired: ', '\\n',\n",
    "'\\n\n",
    "Game to be played:\\n\n",
    "_\\n\n",
    "_\\n\n",
    "_\\n\n",
    "_\\n\n",
    "_\\n\n",
    "_\\n\n",
    "_\\n\n",
    "_\\n\n",
    "_\\n\n",
    "_\\n\n",
    "\\n\n",
    "First player making smart move:\\n'"
   ]
  },
  {
   "cell_type": "markdown",
   "metadata": {},
   "source": [
    "### Piles with 2, 2 coins"
   ]
  },
  {
   "cell_type": "code",
   "execution_count": null,
   "metadata": {
    "scrolled": false
   },
   "outputs": [],
   "source": [
    "%%run_and_test -i'2 2\\n5\\n' python3 game_of_nim.py\n",
    "\n",
    "'Describe the piles: ', '2 2\\n',\n",
    "'\\n\n",
    "Second player will play smart and win!\\n\n",
    "Feed seed if desired: ', '5\\n',\n",
    "'\\n\n",
    "Game to be played:\\n\n",
    "_  _\\n\n",
    "_  _\\n\n",
    "\\n\n",
    "First player making random move:\\n\n",
    "_   \\n\n",
    "_  _\\n\n",
    "\\n\n",
    "Second player making smart move:\\n\n",
    "_  _\\n\n",
    "\\n\n",
    "First player making random move:\\n\n",
    "   _\\n\n",
    "\\n\n",
    "Second player making smart move:\\n'"
   ]
  },
  {
   "cell_type": "markdown",
   "metadata": {},
   "source": [
    "### Piles with 1, 2, 3 coins"
   ]
  },
  {
   "cell_type": "code",
   "execution_count": null,
   "metadata": {
    "scrolled": false
   },
   "outputs": [],
   "source": [
    "%%run_and_test -i'1 2 3\\n10\\n' python3 game_of_nim.py\n",
    "\n",
    "'Describe the piles: ', '1 2 3\\n',\n",
    "'\\n\n",
    "Second player will play smart and win!\\n\n",
    "Feed seed if desired: ', '10\\n',\n",
    "'\\n\n",
    "Game to be played:\\n\n",
    "      _\\n\n",
    "   _  _\\n\n",
    "_  _  _\\n\n",
    "\\n\n",
    "First player making random move:\\n\n",
    "   _   \\n\n",
    "_  _   \\n\n",
    "\\n\n",
    "Second player making smart move:\\n\n",
    "_  _   \\n\n",
    "\\n\n",
    "First player making random move:\\n\n",
    "_      \\n\n",
    "\\n\n",
    "Second player making smart move:\\n'"
   ]
  },
  {
   "cell_type": "markdown",
   "metadata": {},
   "source": [
    "### Piles with 4, 10, 0, 5, 1 coins"
   ]
  },
  {
   "cell_type": "code",
   "execution_count": null,
   "metadata": {
    "scrolled": false
   },
   "outputs": [],
   "source": [
    "%%run_and_test -i'4 10 0 5 1\\n0\\n' python3 game_of_nim.py\n",
    "\n",
    "'Describe the piles: ', '4 10 0 5 1\\n',\n",
    "'\\n\n",
    "First player will play smart and win!\\n\n",
    "Feed seed if desired: ', '0\\n',\n",
    "'\\n\n",
    "Game to be played:\\n\n",
    "   _         \\n\n",
    "   _         \\n\n",
    "   _         \\n\n",
    "   _         \\n\n",
    "   _         \\n\n",
    "   _     _   \\n\n",
    "_  _     _   \\n\n",
    "_  _     _   \\n\n",
    "_  _     _   \\n\n",
    "_  _     _  _\\n\n",
    "\\n\n",
    "First player making smart move:\\n\n",
    "         _   \\n\n",
    "_        _   \\n\n",
    "_        _   \\n\n",
    "_        _   \\n\n",
    "_        _  _\\n\n",
    "\\n\n",
    "Second player making random move:\\n\n",
    "_            \\n\n",
    "_        _   \\n\n",
    "_        _   \\n\n",
    "_        _  _\\n\n",
    "\\n\n",
    "First player making smart move:\\n\n",
    "         _   \\n\n",
    "_        _   \\n\n",
    "_        _  _\\n\n",
    "\\n\n",
    "Second player making random move:\\n\n",
    "         _   \\n\n",
    "         _   \\n\n",
    "_        _  _\\n\n",
    "\\n\n",
    "First player making smart move:\\n\n",
    "_           _\\n\n",
    "\\n\n",
    "Second player making random move:\\n\n",
    "_            \\n\n",
    "\\n\n",
    "First player making smart move:\\n'"
   ]
  },
  {
   "cell_type": "markdown",
   "metadata": {},
   "source": [
    "### Piles with 3, 1, 5, 0, 7, 0, 4, 8 coins"
   ]
  },
  {
   "cell_type": "code",
   "execution_count": null,
   "metadata": {},
   "outputs": [],
   "source": [
    "%%run_and_test -s20000 -i'3 1 5 0 7 0 4 8\\n1\\n' python3 game_of_nim.py\n",
    "\n",
    "'Describe the piles: ', '3 1 5 0 7 0 4 8\\n',\n",
    "'\\n\n",
    "First player will play smart and win!\\n\n",
    "Feed seed if desired: ', '1\\n',\n",
    "'\\n\n",
    "Game to be played:\\n\n",
    "                     _\\n\n",
    "            _        _\\n\n",
    "            _        _\\n\n",
    "      _     _        _\\n\n",
    "      _     _     _  _\\n\n",
    "_     _     _     _  _\\n\n",
    "_     _     _     _  _\\n\n",
    "_  _  _     _     _  _\\n\n",
    "\\n\n",
    "First player making smart move:\\n\n",
    "            _         \\n\n",
    "            _         \\n\n",
    "      _     _         \\n\n",
    "      _     _     _  _\\n\n",
    "_     _     _     _  _\\n\n",
    "_     _     _     _  _\\n\n",
    "_  _  _     _     _  _\\n\n",
    "\\n\n",
    "Second player making random move:\\n\n",
    "            _         \\n\n",
    "            _         \\n\n",
    "      _     _         \\n\n",
    "      _     _     _  _\\n\n",
    "_     _     _     _  _\\n\n",
    "_     _     _     _  _\\n\n",
    "_     _     _     _  _\\n\n",
    "\\n\n",
    "First player making smart move:\\n\n",
    "            _         \\n\n",
    "            _         \\n\n",
    "      _     _         \\n\n",
    "      _     _     _  _\\n\n",
    "      _     _     _  _\\n\n",
    "_     _     _     _  _\\n\n",
    "_     _     _     _  _\\n\n",
    "\\n\n",
    "Second player making random move:\\n\n",
    "      _               \\n\n",
    "      _           _  _\\n\n",
    "      _           _  _\\n\n",
    "_     _           _  _\\n\n",
    "_     _           _  _\\n\n",
    "\\n\n",
    "First player making smart move:\\n\n",
    "                  _  _\\n\n",
    "                  _  _\\n\n",
    "_     _           _  _\\n\n",
    "_     _           _  _\\n\n",
    "\\n\n",
    "Second player making random move:\\n\n",
    "                  _   \\n\n",
    "                  _  _\\n\n",
    "_     _           _  _\\n\n",
    "_     _           _  _\\n\n",
    "\\n\n",
    "First player making smart move:\\n\n",
    "                  _  _\\n\n",
    "_     _           _  _\\n\n",
    "_     _           _  _\\n\n",
    "\\n\n",
    "Second player making random move:\\n\n",
    "                  _   \\n\n",
    "_     _           _  _\\n\n",
    "_     _           _  _\\n\n",
    "\\n\n",
    "First player making smart move:\\n\n",
    "_     _           _  _\\n\n",
    "_     _           _  _\\n\n",
    "\\n\n",
    "Second player making random move:\\n\n",
    "_     _           _   \\n\n",
    "_     _           _   \\n\n",
    "\\n\n",
    "First player making smart move:\\n\n",
    "      _           _   \\n\n",
    "      _           _   \\n\n",
    "\\n\n",
    "Second player making random move:\\n\n",
    "                  _   \\n\n",
    "      _           _   \\n\n",
    "\\n\n",
    "First player making smart move:\\n\n",
    "      _           _   \\n\n",
    "\\n\n",
    "Second player making random move:\\n\n",
    "                  _   \\n\n",
    "\\n\n",
    "First player making smart move:\\n'"
   ]
  }
 ],
 "metadata": {
  "kernelspec": {
   "display_name": "Python 3 (ipykernel)",
   "language": "python",
   "name": "python3"
  },
  "language_info": {
   "codemirror_mode": {
    "name": "ipython",
    "version": 3
   },
   "file_extension": ".py",
   "mimetype": "text/x-python",
   "name": "python",
   "nbconvert_exporter": "python",
   "pygments_lexer": "ipython3",
   "version": "3.9.7"
  },
  "latex_envs": {
   "LaTeX_envs_menu_present": true,
   "autoclose": false,
   "autocomplete": true,
   "bibliofile": "biblio.bib",
   "cite_by": "apalike",
   "current_citInitial": 1,
   "eqLabelWithNumbers": true,
   "eqNumInitial": 1,
   "hotkeys": {
    "equation": "Ctrl-E",
    "itemize": "Ctrl-I"
   },
   "labels_anchors": false,
   "latex_user_defs": false,
   "report_style_numbering": false,
   "user_envs_cfg": false
  },
  "toc": {
   "base_numbering": 1,
   "nav_menu": {},
   "number_sections": true,
   "sideBar": true,
   "skip_h1_title": false,
   "title_cell": "Table of Contents",
   "title_sidebar": "Contents",
   "toc_cell": false,
   "toc_position": {},
   "toc_section_display": true,
   "toc_window_display": false
  }
 },
 "nbformat": 4,
 "nbformat_minor": 4
}
