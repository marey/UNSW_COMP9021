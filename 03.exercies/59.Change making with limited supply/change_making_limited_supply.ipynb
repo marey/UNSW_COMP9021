{
 "cells": [
  {
   "cell_type": "code",
   "execution_count": null,
   "metadata": {},
   "outputs": [],
   "source": [
    "load_ext run_and_test"
   ]
  },
  {
   "cell_type": "markdown",
   "metadata": {},
   "source": [
    "# Background"
   ]
  },
  {
   "cell_type": "markdown",
   "metadata": {},
   "source": [
    "Given a number of face values $v_1$, ..., $v_k$ with $v_1<\\dots<v_k$, $n_1$ coins with face value $\\$v_1$, ..., $n_k$ coins with face value $\\$v_k$, and a positive integer $x$, we want to get all combinations of available coins that amount to $\\$ x$ using the minimal number of coins (there can be no solution, a unique solution, or many solutions).\n",
    "\n",
    "It is not possible to adapt the dynamic programming technique that solves the particular case where $v_1$, ..., $v_k$ are all infinite to the finite case. For instance, suppose that the possible face values are $\\$2$, $\\$3$, $\\$5$, $\\$10$, $\\$14$ and $\\$16$, and for each of those face values there is exactly one coin available. Let the desired amount be $\\$20$. There is a unique solution: it consists of the $\\$2$, $\\$3$, $\\$5$ and $\\$10$ coins. Using dynamic programming, one would try and add $\\$2$ to a best solution to $\\$18$, or add $\\$3$ to a best solution to $\\$17$, or add $\\$5$ to a best solution to $\\$10$, or add $\\$10$ to a best solution to $\\$10$. But\n",
    "\n",
    "* the best solution to $\\$18$ consists of the $\\$2$ and $\\$16$ coins;\n",
    "* the best solution to $\\$17$ consists of the $\\$3$ and $\\$14$ coins;\n",
    "* the best solution to $\\$15$ consists of the $\\$5$ and $\\$10$ coins;\n",
    "* the best solution to $\\$10$ consists of the $\\$10$ coin.\n",
    "\n",
    "So the best solution to each of $\\$18$, $\\$17$, $\\$15$ and $\\$10$ makes use of the coin that would be needed to extend it to a best solution to $\\$20$.\n",
    "\n",
    "The natural approach is to use a double form of recursion: to optimally obtain an amount $A$ from a nonempty sequence of values $V$, consider a member $v$ of $V$, (i) try and obtain the amount $A$ from $V\\setminus\\{v\\}$ ($v$ is put aside), (ii) try and obtain the amount $A-v$ from $V\\setminus\\{v\\}$ ($v$ is put to use), and (iii) see what best solutions emerge from the best solutions to (i) and from the best solutions to (ii), complementing each best solution to $A-v$ with $v$."
   ]
  },
  {
   "cell_type": "markdown",
   "metadata": {},
   "source": [
    "# Task"
   ]
  },
  {
   "cell_type": "markdown",
   "metadata": {},
   "source": [
    "Write a program `limited_supply.py` that prompts the user for:\n",
    "\n",
    "* a nonempty dictionary whose keys are strictly positive integers meant to represent coin face values, with as value for a given key a strictly positive integer meant to represent the number of coins that are available for the corresponding face value,\n",
    "* a strictly positive integer meant to represent a desired amount\n",
    "\n",
    "and ouputs whether there is no way, a unique way, or $n$ many ways with $n$ at least equal to 2, to get that amount, minimising the number of coins being used. In case there is at least one solution, all solutions are output too.\n",
    "\n",
    "* Face values for a given solution are ordered from smallest to largest.\n",
    "* Solutions, in case there are at least two of them, are output in lexicographic order.\n",
    "* Face values are right aligned.\n",
    "\n",
    "The `literal_eval()` function from the `ast` module might prove useful."
   ]
  },
  {
   "cell_type": "markdown",
   "metadata": {},
   "source": [
    "# Tests"
   ]
  },
  {
   "cell_type": "markdown",
   "metadata": {},
   "source": [
    "## No solution"
   ]
  },
  {
   "cell_type": "code",
   "execution_count": null,
   "metadata": {},
   "outputs": [],
   "source": [
    "%%run_and_test -i'{1: 3, 10: 2, 20: 3, 50: 3}\\n64\\n' python3 limited_supply.py\n",
    "\n",
    "'Input a dictionary whose keys represent coin face values\\n\n",
    "with as value for a given key the number of coins\\n\n",
    "that are available for the corresponding face value:\\n\n",
    "    ', '{1: 3, 10: 2, 20: 3, 50: 3}\\n',\n",
    "'Input the desired amount: ', '64\\n',\n",
    "'\\n\n",
    "There is no solution.\\n'"
   ]
  },
  {
   "cell_type": "markdown",
   "metadata": {},
   "source": [
    "## A unique solution"
   ]
  },
  {
   "cell_type": "code",
   "execution_count": null,
   "metadata": {},
   "outputs": [],
   "source": [
    "user_input = '{2: 1, 3: 1, 5: 1, 10: 1, 14: 1, 16: 1}\\n20'"
   ]
  },
  {
   "cell_type": "code",
   "execution_count": null,
   "metadata": {},
   "outputs": [],
   "source": [
    "%%run_and_test -i\"$user_input\" python3 limited_supply.py\n",
    "\n",
    "'Input a dictionary whose keys represent coin face values\\n\n",
    "with as value for a given key the number of coins\\n\n",
    "that are available for the corresponding face value:\\n\n",
    "    ', '{2: 1, 3: 1, 5: 1, 10: 1, 14: 1, 16: 1}\\n',\n",
    "'Input the desired amount: ', '20\\n',\n",
    "'\\n\n",
    "There is a unique solution:\\n\n",
    " $2: 1\\n\n",
    " $3: 1\\n\n",
    " $5: 1\\n\n",
    "$10: 1\\n'"
   ]
  },
  {
   "cell_type": "markdown",
   "metadata": {},
   "source": [
    "## 2 solutions"
   ]
  },
  {
   "cell_type": "code",
   "execution_count": null,
   "metadata": {
    "tags": []
   },
   "outputs": [],
   "source": [
    "%%run_and_test -i'{1: 2, 2: 2, 3: 2, 4: 1}\\n5\\n' python3 limited_supply.py\n",
    "\n",
    "'Input a dictionary whose keys represent coin face values\\n\n",
    "with as value for a given key the number of coins\\n\n",
    "that are available for the corresponding face value:\\n\n",
    "    ', '{1: 2, 2: 2, 3: 2, 4: 1}\\n',\n",
    "'Input the desired amount: ', '5\\n',\n",
    "'\\n\n",
    "There are 2 solutions:\\n\n",
    "$1: 1\\n\n",
    "$4: 1\\n\n",
    "\\n\n",
    "$2: 1\\n\n",
    "$3: 1\\n'"
   ]
  },
  {
   "cell_type": "markdown",
   "metadata": {},
   "source": [
    "## 3 solutions"
   ]
  },
  {
   "cell_type": "code",
   "execution_count": null,
   "metadata": {},
   "outputs": [],
   "source": [
    "user_input = '{1: 3, 4: 7, 5: 4, 11: 3, 18: 6}\\n79\\n'"
   ]
  },
  {
   "cell_type": "code",
   "execution_count": null,
   "metadata": {},
   "outputs": [],
   "source": [
    "%%run_and_test -i\"$user_input\" python3 limited_supply.py\n",
    "\n",
    "'Input a dictionary whose keys represent coin face values\\n\n",
    "with as value for a given key the number of coins\\n\n",
    "that are available for the corresponding face value:\\n\n",
    "    ', '{1: 3, 4: 7, 5: 4, 11: 3, 18: 6}\\n',\n",
    "'Input the desired amount: ', '79\\n',\n",
    "'\\n\n",
    "There are 3 solutions:\\n\n",
    " $1: 2\\n\n",
    " $5: 1\\n\n",
    "$18: 4\\n\n",
    "\\n\n",
    " $4: 1\\n\n",
    " $5: 2\\n\n",
    "$11: 1\\n\n",
    "$18: 3\\n\n",
    "\\n\n",
    " $5: 2\\n\n",
    "$11: 3\\n\n",
    "$18: 2\\n'"
   ]
  },
  {
   "cell_type": "markdown",
   "metadata": {},
   "source": [
    "## 4 solutions"
   ]
  },
  {
   "cell_type": "code",
   "execution_count": null,
   "metadata": {},
   "outputs": [],
   "source": [
    "user_input = '{1: 7, 2: 5, 3: 4, 4: 3, 5: 2}\\n29\\n'"
   ]
  },
  {
   "cell_type": "code",
   "execution_count": null,
   "metadata": {},
   "outputs": [],
   "source": [
    "%%run_and_test -i\"$user_input\" python3 limited_supply.py\n",
    "\n",
    "'Input a dictionary whose keys represent coin face values\\n\n",
    "with as value for a given key the number of coins\\n\n",
    "that are available for the corresponding face value:\\n\n",
    "    ', '{1: 7, 2: 5, 3: 4, 4: 3, 5: 2}\\n',\n",
    "'Input the desired amount: ', '29\\n',\n",
    "'\\n\n",
    "There are 4 solutions:\\n\n",
    "$1: 1\\n\n",
    "$3: 2\\n\n",
    "$4: 3\\n\n",
    "$5: 2\\n\n",
    "\\n\n",
    "$2: 1\\n\n",
    "$3: 3\\n\n",
    "$4: 2\\n\n",
    "$5: 2\\n\n",
    "\\n\n",
    "$2: 2\\n\n",
    "$3: 1\\n\n",
    "$4: 3\\n\n",
    "$5: 2\\n\n",
    "\\n\n",
    "$3: 4\\n\n",
    "$4: 3\\n\n",
    "$5: 1\\n'"
   ]
  }
 ],
 "metadata": {
  "kernelspec": {
   "display_name": "Python 3 (ipykernel)",
   "language": "python",
   "name": "python3"
  },
  "language_info": {
   "codemirror_mode": {
    "name": "ipython",
    "version": 3
   },
   "file_extension": ".py",
   "mimetype": "text/x-python",
   "name": "python",
   "nbconvert_exporter": "python",
   "pygments_lexer": "ipython3",
   "version": "3.10.2"
  },
  "latex_envs": {
   "LaTeX_envs_menu_present": true,
   "autoclose": false,
   "autocomplete": true,
   "bibliofile": "biblio.bib",
   "cite_by": "apalike",
   "current_citInitial": 1,
   "eqLabelWithNumbers": true,
   "eqNumInitial": 1,
   "hotkeys": {
    "equation": "Ctrl-E",
    "itemize": "Ctrl-I"
   },
   "labels_anchors": false,
   "latex_user_defs": false,
   "report_style_numbering": false,
   "user_envs_cfg": false
  },
  "toc": {
   "base_numbering": 1,
   "nav_menu": {},
   "number_sections": true,
   "sideBar": true,
   "skip_h1_title": false,
   "title_cell": "Table of Contents",
   "title_sidebar": "Contents",
   "toc_cell": false,
   "toc_position": {},
   "toc_section_display": true,
   "toc_window_display": false
  },
  "widgets": {
   "application/vnd.jupyter.widget-state+json": {
    "state": {},
    "version_major": 2,
    "version_minor": 0
   }
  }
 },
 "nbformat": 4,
 "nbformat_minor": 4
}
