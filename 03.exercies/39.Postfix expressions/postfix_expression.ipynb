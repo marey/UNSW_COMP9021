{
 "cells": [
  {
   "cell_type": "code",
   "execution_count": null,
   "metadata": {},
   "outputs": [],
   "source": [
    "load_ext run_and_test"
   ]
  },
  {
   "cell_type": "markdown",
   "metadata": {},
   "source": [
    "# Background"
   ]
  },
  {
   "cell_type": "markdown",
   "metadata": {},
   "source": [
    "Consider arithmetic expressions built from natural numbers and addition, subtraction, multiplication, and division. Usually, such expressions are represented in infix notation, inserting the operators between their operands, and making use of parentheses when needed. In postfix notation, operators follow their operands, with no need for parentheses. For instance:\n",
    "\n",
    "* What in infix is written as $10+20$ is in postfix written as $10\\ 20\\ +$.\n",
    "* What in infix is written as $(10+20)-30$ is in postfix written as $10\\ 20\\ +\\ 30\\ -$.\n",
    "* What in infix is written as $10+(20-30)$ is in postfix written as $10\\ 20\\ 30\\ -\\ +$.\n",
    "* What in infix is written as $(10*20)+(30-40)$ is in postfix written as $10\\ 20\\ *\\ 30\\ 40\\ -\\ +$.\n",
    "* What in infix is written as $(10*(20+(30-40)))/(((50*60)+70)-80)$ is in postfix written as $10\\ 20\\ 30\\ 40\\ -\\ +\\ *\\ 50\\ 60\\ *\\ 70\\ +\\ 80\\ -\\ /$.\n",
    "\n",
    "Let $\\sigma$ be a nonempty expression built from natural numbers and addition, subtraction, multiplication, and division. Let $\\widehat{\\sigma}$ be the sequence of integers obtained from $\\sigma$ and a counter initialised to 0 by scanning from left to right all members of $\\sigma$, adding 1 to the counter when processing an integer, and subtracting 1 from the counter when processing an operator. For instance:\n",
    "\n",
    "* If $\\sigma$ is $10\\ 20\\ -\\ 30\\ *$ then $\\widehat{\\sigma}$ is $(1, 2, 1, 2, 1)$.\n",
    "* If $\\sigma$ is $10\\ 20\\ 30\\ -\\ *$ then $\\widehat{\\sigma}$ is $(1, 2, 3, 2, 1)$.\n",
    "* If $\\sigma$ is $10\\ +\\ 20$ then $\\widehat{\\sigma}$ is $(1, 0, 1)$.\n",
    "\n",
    "Of course, any two successive integers in $\\widehat{\\sigma}$ differ by 1. Let us verify that $\\sigma$ is an arithmetic expression that is correctly written in postfix notation iff all integers in $\\widehat{\\sigma}$ are strictly positive and $\\widehat{\\sigma}$ ends in 1. Proof is by induction on the length of $\\sigma$. If $\\sigma$ is of length 1, then it is a correct postfix expression iff it is an integer, so iff $\\widehat{\\sigma}=1$. If $\\sigma$ is a correct postfix expression of length greater than 1, then it is of the form $\\sigma_1\\sigma_2@$ for some correct postfix expressions $\\sigma_1$ and $\\sigma_2$ and operator $@$. By inductive hypothesis, all integers in $\\widehat{\\sigma_1}$ are strictly positive and $\\widehat{\\sigma_1}$ ends in 1, and all integers in $\\widehat{\\sigma_2}$ are strictly positive and $\\widehat{\\sigma_2}$ ends in 1, which immediately implies that all integers in $\\widehat{\\sigma_1\\sigma_2@}$ are strictly positive and end in 1. Conversely, if $\\widehat{\\sigma}$ is a sequence of length greater than 1, all integers in $\\widehat{\\sigma}$ are strictly positive (so $\\widehat{\\sigma}$ starts in 1) and $\\widehat{\\sigma}$ ends in 1, then $\\sigma$ is of the form $\\sigma_1\\sigma_21$ with $\\widehat{\\sigma_1\\sigma_21}$ starting with $\\widehat{\\sigma_1}$, being followed by a sequence that starts and ends in 2 and that consists of nothing but integers greater than 1, and ending in 1. Hence all integers in $\\widehat{\\sigma_2}$ are strictly positive and end in 1. Hence by inductive hypothesis, $\\sigma_1$ and $\\sigma_2$ are correct postfix expressions, hence $\\sigma$ is a correct postfix expression.\n",
    "\n",
    "Let $\\sigma_1$, $\\sigma_2$, $\\tau_1$ and $\\tau_2$ be correct postfix expressions such that $\\sigma_1\\sigma_2=\\tau_1\\tau_2$. Let us verify that $\\sigma_1=\\tau_1$ and $\\sigma_2=\\tau_2$. Suppose otherwise for a contradiction. Without loss of generality, assume that $\\sigma_1$ is shorter than $\\tau_1$. Then $\\tau_1$ is of the form $\\sigma_1\\gamma$ for some nonempty $\\gamma$. Then $\\sigma_2=\\gamma\\tau_2$. But as $\\widehat{\\sigma_1}$ and $\\widehat{\\sigma_1\\gamma}$ end in 1, the $|\\gamma|$-th member of $\\widehat{\\sigma_2}$ is 0, so $\\sigma_2$ cannot be a correct postfix expression.\n",
    "\n",
    "Let $\\sigma$ be a correct postfix expression. We have just verified that $\\sigma$ cannot be decoded in more than one way. To evaluate $\\sigma$, we can use a list $L$, initialised to the empty list, and process the members of $\\sigma$ as follows. When reading an integer, one appends it to $L$. When reading an operator, one removes the penultimate and last elements of $L$, applies the operator to the former and the latter treated as first and second operands, respectively, and appends the result to $L$. This is possible because each member of $\\widehat{\\sigma}$ is equal to the number of elements in $L$ when the corresponding member of $\\sigma$ is processed, as immediately verified on the length of $\\sigma$. For instance:\n",
    "\n",
    "* If $\\sigma$ is $10\\ 20\\ -\\ 30\\ *$ then\n",
    "    * 10 is processed and $L$ becomes $(10)$,\n",
    "    * 20 is processed and $L$ becomes $(10, 20)$,\n",
    "    * $-$ is processed and $L$ becomes $(-10)$,\n",
    "    * 30 is processed and $L$ becomes $(-10, 30)$,\n",
    "    * $*$ is processed and $L$ becomes $(-300)$.\n",
    "* If $\\sigma$ is $10\\ 20\\ 30\\ -\\ *$ then\n",
    "    * 10 is processed and $L$ becomes $(10)$,\n",
    "    * 20 is processed and $L$ becomes $(10, 20)$,\n",
    "    * 30 is processed and $L$ becomes $(10, 20, 30)$,\n",
    "    * $-$ is processed and $L$ becomes $(10, -10)$,\n",
    "    * $*$ is processed and $L$ becomes $(-100)$.\n",
    "\n",
    "In particular, after all members of $\\sigma$ have been processed, $L$ ends up with a unique element. That element is the arithmetic value of $\\sigma$, as immediately verified again by induction on the length of $\\sigma$."
   ]
  },
  {
   "cell_type": "markdown",
   "metadata": {},
   "source": [
    "# Task"
   ]
  },
  {
   "cell_type": "markdown",
   "metadata": {},
   "source": [
    "Write a program `postfix_expression.py` that implements a function, `evaluate(expression)`, that given a string as argument, behaves as follows.\n",
    "\n",
    "* If the string does not represent a valid postfix expression built from natural numbers, \\+, -, \\* and /, with successsive natural numbers separated by at least one space, possibly with spaces at the beginning, at the end, between natural number and operators, and between operators, then the function returns `None`. It returns `None` in particular if natural numbers are neither 0 nor a nonzero digit possibly followed by any other digits.\n",
    "* Otherwise, the function returns the value of the expression, with\n",
    "    * / being interpreted as true division;\n",
    "    * division of a nonzero value by 0 returning plus or minus infinity;\n",
    "    * division of 0 by 0 returning undefined;\n",
    "    * all operations involving plus or minus infinity or undefined behaving as expected (e.g., adding an integer to plus infinity yields plus infinity, subtracting plus infinity from plus infinity yields undefined, multiplying plus or minus infinity by undefined yields undefined...).\n",
    "    \n",
    "For plus and minus infinity, Python offers `float('inf')` and `float('-inf')`, respectively. For undefined, Python offers `float('nan')` (for **n**ot **a** **n**umber)."
   ]
  },
  {
   "cell_type": "markdown",
   "metadata": {},
   "source": [
    "# Tests"
   ]
  },
  {
   "cell_type": "markdown",
   "metadata": {},
   "source": [
    "## Spaces"
   ]
  },
  {
   "cell_type": "code",
   "execution_count": null,
   "metadata": {},
   "outputs": [],
   "source": [
    "statements = 'from postfix_expression import *; print(evaluate(\"     \"))'"
   ]
  },
  {
   "cell_type": "code",
   "execution_count": null,
   "metadata": {
    "tags": []
   },
   "outputs": [],
   "source": [
    "%%run_and_test python3 -c \"$statements\"\n",
    "\n",
    "'None\\n'"
   ]
  },
  {
   "cell_type": "markdown",
   "metadata": {},
   "source": [
    "## 0"
   ]
  },
  {
   "cell_type": "code",
   "execution_count": null,
   "metadata": {},
   "outputs": [],
   "source": [
    "statements = 'from postfix_expression import *; print(evaluate(\"  0  \"))'"
   ]
  },
  {
   "cell_type": "code",
   "execution_count": null,
   "metadata": {},
   "outputs": [],
   "source": [
    "%%run_and_test python3 -c \"$statements\"\n",
    "\n",
    "'0\\n'"
   ]
  },
  {
   "cell_type": "markdown",
   "metadata": {},
   "source": [
    "## +1"
   ]
  },
  {
   "cell_type": "code",
   "execution_count": null,
   "metadata": {},
   "outputs": [],
   "source": [
    "statements = 'from postfix_expression import *; print(evaluate(\"+1\"))'"
   ]
  },
  {
   "cell_type": "code",
   "execution_count": null,
   "metadata": {
    "tags": []
   },
   "outputs": [],
   "source": [
    "%%run_and_test python3 -c \"$statements\"\n",
    "\n",
    "'None\\n'"
   ]
  },
  {
   "cell_type": "markdown",
   "metadata": {},
   "source": [
    "## -2"
   ]
  },
  {
   "cell_type": "code",
   "execution_count": null,
   "metadata": {},
   "outputs": [],
   "source": [
    "statements = 'from postfix_expression import *; print(evaluate(\" -2\"))'"
   ]
  },
  {
   "cell_type": "code",
   "execution_count": null,
   "metadata": {},
   "outputs": [],
   "source": [
    "%%run_and_test python3 -c \"$statements\"\n",
    "\n",
    "'None\\n'"
   ]
  },
  {
   "cell_type": "markdown",
   "metadata": {},
   "source": [
    "## 2 123 +"
   ]
  },
  {
   "cell_type": "code",
   "execution_count": null,
   "metadata": {},
   "outputs": [],
   "source": [
    "statements = 'from postfix_expression import *; print(evaluate(\"2 123+\"))'"
   ]
  },
  {
   "cell_type": "code",
   "execution_count": null,
   "metadata": {
    "tags": []
   },
   "outputs": [],
   "source": [
    "%%run_and_test python3 -c \"$statements\"\n",
    "\n",
    "'125\\n'"
   ]
  },
  {
   "cell_type": "markdown",
   "metadata": {},
   "source": [
    "## 2 02 /"
   ]
  },
  {
   "cell_type": "code",
   "execution_count": null,
   "metadata": {},
   "outputs": [],
   "source": [
    "statements = 'from postfix_expression import *; print(evaluate(\" 2 02 /\"))'"
   ]
  },
  {
   "cell_type": "code",
   "execution_count": null,
   "metadata": {},
   "outputs": [],
   "source": [
    "%%run_and_test python3 -c \"$statements\"\n",
    "\n",
    "'None\\n'"
   ]
  },
  {
   "cell_type": "markdown",
   "metadata": {},
   "source": [
    "## 4321 0 /"
   ]
  },
  {
   "cell_type": "code",
   "execution_count": null,
   "metadata": {},
   "outputs": [],
   "source": [
    "statements = 'from postfix_expression import *; print(evaluate(\"4321 0/\"))'"
   ]
  },
  {
   "cell_type": "code",
   "execution_count": null,
   "metadata": {
    "tags": []
   },
   "outputs": [],
   "source": [
    "%%run_and_test python3 -c \"$statements\"\n",
    "\n",
    "'inf\\n'"
   ]
  },
  {
   "cell_type": "markdown",
   "metadata": {},
   "source": [
    "## 0 0 /"
   ]
  },
  {
   "cell_type": "code",
   "execution_count": null,
   "metadata": {},
   "outputs": [],
   "source": [
    "statements = 'from postfix_expression import *; print(evaluate(\" 0  0 /\"))'"
   ]
  },
  {
   "cell_type": "code",
   "execution_count": null,
   "metadata": {
    "tags": []
   },
   "outputs": [],
   "source": [
    "%%run_and_test python3 -c \"$statements\"\n",
    "\n",
    "'nan\\n'"
   ]
  },
  {
   "cell_type": "markdown",
   "metadata": {},
   "source": [
    "## 0 0 / A"
   ]
  },
  {
   "cell_type": "code",
   "execution_count": null,
   "metadata": {},
   "outputs": [],
   "source": [
    "statements = 'from postfix_expression import *; print(evaluate(\"0 0 /A\"))'"
   ]
  },
  {
   "cell_type": "code",
   "execution_count": null,
   "metadata": {
    "tags": []
   },
   "outputs": [],
   "source": [
    "%%run_and_test python3 -c \"$statements\"\n",
    "\n",
    "'None\\n'"
   ]
  },
  {
   "cell_type": "markdown",
   "metadata": {},
   "source": [
    "## 1 23 - 450 *"
   ]
  },
  {
   "cell_type": "code",
   "execution_count": null,
   "metadata": {},
   "outputs": [],
   "source": [
    "statements = 'from postfix_expression import *; '\\\n",
    "             'print(evaluate(\"1 23  -  450 *\"))'"
   ]
  },
  {
   "cell_type": "code",
   "execution_count": null,
   "metadata": {
    "tags": []
   },
   "outputs": [],
   "source": [
    "%%run_and_test python3 -c \"$statements\"\n",
    "\n",
    "'-9900\\n'"
   ]
  },
  {
   "cell_type": "markdown",
   "metadata": {},
   "source": [
    "## 2 1 - 4 * 0"
   ]
  },
  {
   "cell_type": "code",
   "execution_count": null,
   "metadata": {},
   "outputs": [],
   "source": [
    "statements = 'from postfix_expression import *; print(evaluate(\"2 1 - 4 * 0\"))'"
   ]
  },
  {
   "cell_type": "code",
   "execution_count": null,
   "metadata": {
    "tags": []
   },
   "outputs": [],
   "source": [
    "%%run_and_test python3 -c \"$statements\"\n",
    "\n",
    "'None\\n'"
   ]
  },
  {
   "cell_type": "markdown",
   "metadata": {},
   "source": [
    "## 12764 2315 / 5632 934 / +"
   ]
  },
  {
   "cell_type": "code",
   "execution_count": null,
   "metadata": {},
   "outputs": [],
   "source": [
    "statements = 'from postfix_expression import *; '\\\n",
    "             'print(evaluate(\"  12764 2315 / 5632    934/  +\"))'"
   ]
  },
  {
   "cell_type": "code",
   "execution_count": null,
   "metadata": {
    "tags": []
   },
   "outputs": [],
   "source": [
    "%%run_and_test python3 -c \"$statements\"\n",
    "\n",
    "'11\\n'"
   ]
  },
  {
   "cell_type": "markdown",
   "metadata": {},
   "source": [
    "## 23 7 - 34 * 456 21 10 * + -"
   ]
  },
  {
   "cell_type": "code",
   "execution_count": null,
   "metadata": {},
   "outputs": [],
   "source": [
    "statements = 'from postfix_expression import *; '\\\n",
    "             'print(evaluate(\"  23 7-34 *456 21 10 *+  -\"))'"
   ]
  },
  {
   "cell_type": "code",
   "execution_count": null,
   "metadata": {
    "tags": []
   },
   "outputs": [],
   "source": [
    "%%run_and_test python3 -c \"$statements\"\n",
    "\n",
    "'-122\\n'"
   ]
  },
  {
   "cell_type": "markdown",
   "metadata": {},
   "source": [
    "## 10 1 2 + 3 + 4 + 5 6 7 8 - - -  * 9 * *"
   ]
  },
  {
   "cell_type": "code",
   "execution_count": null,
   "metadata": {},
   "outputs": [],
   "source": [
    "statements = 'from postfix_expression import *; '\\\n",
    "             'print(evaluate(\"10 1 2 + 3+4 + 5 6 7 8 - --  *9* *\"))'"
   ]
  },
  {
   "cell_type": "code",
   "execution_count": null,
   "metadata": {
    "tags": []
   },
   "outputs": [],
   "source": [
    "%%run_and_test python3 -c \"$statements\"\n",
    "\n",
    "'-1800\\n'"
   ]
  },
  {
   "cell_type": "markdown",
   "metadata": {},
   "source": [
    "## 2 0 / 45 * 2 3 - * 67 +"
   ]
  },
  {
   "cell_type": "code",
   "execution_count": null,
   "metadata": {},
   "outputs": [],
   "source": [
    "statements = 'from postfix_expression import *; '\\\n",
    "             'print(evaluate(\"2 0/45  *  2 3-*67  +\"))'"
   ]
  },
  {
   "cell_type": "code",
   "execution_count": null,
   "metadata": {},
   "outputs": [],
   "source": [
    "%%run_and_test python3 -c \"$statements\"\n",
    "\n",
    "'-inf\\n'"
   ]
  },
  {
   "cell_type": "markdown",
   "metadata": {},
   "source": [
    "## 450 0 / 0 0 / + 45 0 / *"
   ]
  },
  {
   "cell_type": "code",
   "execution_count": null,
   "metadata": {},
   "outputs": [],
   "source": [
    "statements = 'from postfix_expression import *; '\\\n",
    "             'print(evaluate(\"450   0  /0 0/ +  45 0  /  *\"))'"
   ]
  },
  {
   "cell_type": "code",
   "execution_count": null,
   "metadata": {},
   "outputs": [],
   "source": [
    "%%run_and_test python3 -c \"$statements\"\n",
    "\n",
    "'nan\\n'"
   ]
  }
 ],
 "metadata": {
  "kernelspec": {
   "display_name": "Python 3 (ipykernel)",
   "language": "python",
   "name": "python3"
  },
  "language_info": {
   "codemirror_mode": {
    "name": "ipython",
    "version": 3
   },
   "file_extension": ".py",
   "mimetype": "text/x-python",
   "name": "python",
   "nbconvert_exporter": "python",
   "pygments_lexer": "ipython3",
   "version": "3.10.2"
  },
  "latex_envs": {
   "LaTeX_envs_menu_present": true,
   "autoclose": false,
   "autocomplete": true,
   "bibliofile": "biblio.bib",
   "cite_by": "apalike",
   "current_citInitial": 1,
   "eqLabelWithNumbers": true,
   "eqNumInitial": 1,
   "hotkeys": {
    "equation": "Ctrl-E",
    "itemize": "Ctrl-I"
   },
   "labels_anchors": false,
   "latex_user_defs": false,
   "report_style_numbering": false,
   "user_envs_cfg": false
  },
  "toc": {
   "base_numbering": 1,
   "nav_menu": {},
   "number_sections": true,
   "sideBar": true,
   "skip_h1_title": false,
   "title_cell": "Table of Contents",
   "title_sidebar": "Contents",
   "toc_cell": false,
   "toc_position": {},
   "toc_section_display": true,
   "toc_window_display": false
  },
  "widgets": {
   "application/vnd.jupyter.widget-state+json": {
    "state": {},
    "version_major": 2,
    "version_minor": 0
   }
  }
 },
 "nbformat": 4,
 "nbformat_minor": 4
}
