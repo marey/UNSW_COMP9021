{
 "cells": [
  {
   "cell_type": "code",
   "execution_count": null,
   "metadata": {},
   "outputs": [],
   "source": [
    "load_ext run_and_test"
   ]
  },
  {
   "cell_type": "markdown",
   "metadata": {},
   "source": [
    "# Task"
   ]
  },
  {
   "cell_type": "markdown",
   "metadata": {},
   "source": [
    "Write a program `shortest_distance.py` that reads from a file named `grid.txt`, meant to be stored in the working directory, which consists of lines all with the same number of 0s or 1s, a space separating two consecutive bits. The program first displays the grid, using the white and black large square Unicode characters for 0 and 1, respectively, adding a blank line at the top, a blank line at the bottom, and a blank column on the left. The program then determines the maximum distance between two 1s in the grid. The distance between two adjacent 1s in the grid, either horizontally or vertically, is considered to be 1. That maximum distance, $d$, is output rounded to two digits after the decimal point. Finally, the coordinates of the pairs of points that are at a distance of $d$ from each other are output, the first point of a pair being either on the same line to the left of the second point, or on a line above the line where the second point sits.\n",
    "\n",
    "* $x$ coordinates are read horizontally, starting from 1, increasing from left to right.\n",
    "* $y$ coordinates are read vertically, starting from 1, increasing from top to bottom.\n",
    "\n",
    "Pairs are output in lexicographic order of their pairs of coordinates.\n",
    "\n",
    "For instance, for the 3 by 3 grid\n",
    "\n",
    "       . 1 2 3 \n",
    "       1 1 1 0                           \n",
    "       2 0 0 1\n",
    "       3 0 1 0       \n",
    "\n",
    "the largest distance between two 1s is $\\sqrt{1^2+2^2}$, between the point of coordinates $(1,1)$ and the point of coordinates $(2,3)$ at the bottom of the second column, and between the point of coordinates $(1,1)$ and the point of coordinates $(3,2)$ in the middle of the third column."
   ]
  },
  {
   "cell_type": "markdown",
   "metadata": {},
   "source": [
    "# Tests"
   ]
  },
  {
   "cell_type": "markdown",
   "metadata": {},
   "source": [
    "## A grid of size 2 by 2"
   ]
  },
  {
   "cell_type": "code",
   "execution_count": null,
   "metadata": {},
   "outputs": [],
   "source": [
    "%%writefile grid.txt\n",
    "1 1\n",
    "0 1"
   ]
  },
  {
   "cell_type": "code",
   "execution_count": null,
   "metadata": {
    "tags": []
   },
   "outputs": [],
   "source": [
    "%%run_and_test python3 shortest_distance.py\n",
    "\n",
    "'''\n",
    "Here is the grid:\\n\n",
    "\\n\n",
    " ⬛⬛\\n\n",
    " ⬜⬛\\n\n",
    "\\n\n",
    "The maximum distance between 2 points in the grid is: 1.41\\n\n",
    "That distance is between the following pairs of points:\\n\n",
    "(1, 1) -- (2, 2)\\n\n",
    "'''"
   ]
  },
  {
   "cell_type": "markdown",
   "metadata": {},
   "source": [
    "## A grid of size 1 by 5"
   ]
  },
  {
   "cell_type": "code",
   "execution_count": null,
   "metadata": {},
   "outputs": [],
   "source": [
    "%%writefile grid.txt\n",
    "1 0 1 1 0"
   ]
  },
  {
   "cell_type": "code",
   "execution_count": null,
   "metadata": {
    "tags": []
   },
   "outputs": [],
   "source": [
    "%%run_and_test python3 shortest_distance.py\n",
    "\n",
    "'''\n",
    "Here is the grid:\\n\n",
    "\\n\n",
    " ⬛⬜⬛⬛⬜\\n\n",
    "\\n\n",
    "The maximum distance between 2 points in the grid is: 3.0\\n\n",
    "That distance is between the following pairs of points:\\n\n",
    "(1, 1) -- (4, 1)\\n\n",
    "'''"
   ]
  },
  {
   "cell_type": "markdown",
   "metadata": {},
   "source": [
    "## A grid of size 5 by 1"
   ]
  },
  {
   "cell_type": "code",
   "execution_count": null,
   "metadata": {},
   "outputs": [],
   "source": [
    "%%writefile grid.txt\n",
    "1\n",
    "1\n",
    "1\n",
    "0\n",
    "0"
   ]
  },
  {
   "cell_type": "code",
   "execution_count": null,
   "metadata": {
    "tags": []
   },
   "outputs": [],
   "source": [
    "%%run_and_test python3 shortest_distance.py\n",
    "\n",
    "'''\n",
    "Here is the grid:\\n\n",
    "\\n\n",
    " ⬛\\n\n",
    " ⬛\\n\n",
    " ⬛\\n\n",
    " ⬜\\n\n",
    " ⬜\\n\n",
    "\\n\n",
    "The maximum distance between 2 points in the grid is: 2.0\\n\n",
    "That distance is between the following pairs of points:\\n\n",
    "(1, 1) -- (1, 3)\\n\n",
    "'''"
   ]
  },
  {
   "cell_type": "markdown",
   "metadata": {},
   "source": [
    "## A grid of size 2 by 3"
   ]
  },
  {
   "cell_type": "code",
   "execution_count": null,
   "metadata": {},
   "outputs": [],
   "source": [
    "%%writefile grid.txt\n",
    "0 0 0\n",
    "0 0 0"
   ]
  },
  {
   "cell_type": "code",
   "execution_count": null,
   "metadata": {
    "tags": []
   },
   "outputs": [],
   "source": [
    "%%run_and_test python3 shortest_distance.py\n",
    "\n",
    "'''\n",
    "Here is the grid:\\n\n",
    "\\n\n",
    " ⬜⬜⬜\\n\n",
    " ⬜⬜⬜\\n\n",
    "\\n\n",
    "The maximum distance between 2 points in the grid is: 0\\n\n",
    "That distance is between the following pairs of points:\\n\n",
    "\\n\n",
    "'''"
   ]
  },
  {
   "cell_type": "markdown",
   "metadata": {},
   "source": [
    "## A grid of size 3 by 2"
   ]
  },
  {
   "cell_type": "code",
   "execution_count": null,
   "metadata": {},
   "outputs": [],
   "source": [
    "%%writefile grid.txt\n",
    "0 0\n",
    "0 0\n",
    "0 1"
   ]
  },
  {
   "cell_type": "code",
   "execution_count": null,
   "metadata": {
    "tags": []
   },
   "outputs": [],
   "source": [
    "%%run_and_test python3 shortest_distance.py\n",
    "\n",
    "'''\n",
    "Here is the grid:\\n\n",
    "\\n\n",
    " ⬜⬜\\n\n",
    " ⬜⬜\\n\n",
    " ⬜⬛\\n\n",
    "\\n\n",
    "The maximum distance between 2 points in the grid is: 0\\n\n",
    "That distance is between the following pairs of points:\\n\n",
    "\\n\n",
    "'''"
   ]
  },
  {
   "cell_type": "markdown",
   "metadata": {},
   "source": [
    "## A grid of size 3 by 3"
   ]
  },
  {
   "cell_type": "code",
   "execution_count": null,
   "metadata": {},
   "outputs": [],
   "source": [
    "%%writefile grid.txt\n",
    "0 0 0\n",
    "1 0 1\n",
    "1 0 1"
   ]
  },
  {
   "cell_type": "code",
   "execution_count": null,
   "metadata": {
    "tags": []
   },
   "outputs": [],
   "source": [
    "%%run_and_test python3 shortest_distance.py\n",
    "\n",
    "'''\n",
    "Here is the grid:\\n\n",
    "\\n\n",
    " ⬜⬜⬜\\n\n",
    " ⬛⬜⬛\\n\n",
    " ⬛⬜⬛\\n\n",
    "\\n\n",
    "The maximum distance between 2 points in the grid is: 2.24\\n\n",
    "That distance is between the following pairs of points:\\n\n",
    "(1, 2) -- (3, 3)\\n\n",
    "(3, 2) -- (1, 3)\\n\n",
    "'''"
   ]
  },
  {
   "cell_type": "markdown",
   "metadata": {},
   "source": [
    "## A grid of size 3 by 4"
   ]
  },
  {
   "cell_type": "code",
   "execution_count": null,
   "metadata": {},
   "outputs": [],
   "source": [
    "%%writefile grid.txt\n",
    "1 1 0 1\n",
    "1 0 0 1\n",
    "1 0 0 0"
   ]
  },
  {
   "cell_type": "code",
   "execution_count": null,
   "metadata": {
    "tags": []
   },
   "outputs": [],
   "source": [
    "%%run_and_test python3 shortest_distance.py\n",
    "\n",
    "'''\n",
    "Here is the grid:\\n\n",
    "\\n\n",
    " ⬛⬛⬜⬛\\n\n",
    " ⬛⬜⬜⬛\\n\n",
    " ⬛⬜⬜⬜\\n\n",
    "\\n\n",
    "The maximum distance between 2 points in the grid is: 3.61\\n\n",
    "That distance is between the following pairs of points:\\n\n",
    "(4, 1) -- (1, 3)\\n\n",
    "'''"
   ]
  },
  {
   "cell_type": "markdown",
   "metadata": {},
   "source": [
    "## A grid of size 4 by 3"
   ]
  },
  {
   "cell_type": "code",
   "execution_count": null,
   "metadata": {},
   "outputs": [],
   "source": [
    "%%writefile grid.txt\n",
    "1 1 0\n",
    "0 0 1\n",
    "0 1 0\n",
    "0 0 0"
   ]
  },
  {
   "cell_type": "code",
   "execution_count": null,
   "metadata": {
    "tags": []
   },
   "outputs": [],
   "source": [
    "%%run_and_test python3 shortest_distance.py\n",
    "\n",
    "'''\n",
    "Here is the grid:\\n\n",
    "\\n\n",
    " ⬛⬛⬜\\n\n",
    " ⬜⬜⬛\\n\n",
    " ⬜⬛⬜\\n\n",
    " ⬜⬜⬜\\n\n",
    "\\n\n",
    "The maximum distance between 2 points in the grid is: 2.24\\n\n",
    "That distance is between the following pairs of points:\\n\n",
    "(1, 1) -- (2, 3)\\n\n",
    "(1, 1) -- (3, 2)\\n\n",
    "'''"
   ]
  },
  {
   "cell_type": "markdown",
   "metadata": {},
   "source": [
    "## A grid of size 4 by 6"
   ]
  },
  {
   "cell_type": "code",
   "execution_count": null,
   "metadata": {},
   "outputs": [],
   "source": [
    "%%writefile grid.txt\n",
    "0 0 0 0\n",
    "0 1 0 0\n",
    "0 0 1 0\n",
    "0 0 0 0\n",
    "1 1 0 0\n",
    "1 1 0 0"
   ]
  },
  {
   "cell_type": "code",
   "execution_count": null,
   "metadata": {
    "tags": []
   },
   "outputs": [],
   "source": [
    "%%run_and_test python3 shortest_distance.py\n",
    "\n",
    "'''\n",
    "Here is the grid:\\n\n",
    "\\n\n",
    " ⬜⬜⬜⬜\\n\n",
    " ⬜⬛⬜⬜\\n\n",
    " ⬜⬜⬛⬜\\n\n",
    " ⬜⬜⬜⬜\\n\n",
    " ⬛⬛⬜⬜\\n\n",
    " ⬛⬛⬜⬜\\n\n",
    "\\n\n",
    "The maximum distance between 2 points in the grid is: 4.12\\n\n",
    "That distance is between the following pairs of points:\\n\n",
    "(2, 2) -- (1, 6)\\n\n",
    "'''"
   ]
  },
  {
   "cell_type": "markdown",
   "metadata": {},
   "source": [
    "## A grid of size 6 by 8"
   ]
  },
  {
   "cell_type": "code",
   "execution_count": null,
   "metadata": {},
   "outputs": [],
   "source": [
    "%%writefile grid.txt\n",
    "0 0 0 0 0 0 0 0\n",
    "0 0 0 0 1 0 0 0\n",
    "0 0 0 1 1 1 0 0\n",
    "0 0 0 0 0 1 0 0\n",
    "0 0 0 0 0 0 0 0\n",
    "0 0 0 0 0 0 0 0"
   ]
  },
  {
   "cell_type": "code",
   "execution_count": null,
   "metadata": {},
   "outputs": [],
   "source": [
    "%%run_and_test python3 shortest_distance.py\n",
    "\n",
    "'''\n",
    "Here is the grid:\\n\n",
    "\\n\n",
    " ⬜⬜⬜⬜⬜⬜⬜⬜\\n\n",
    " ⬜⬜⬜⬜⬛⬜⬜⬜\\n\n",
    " ⬜⬜⬜⬛⬛⬛⬜⬜\\n\n",
    " ⬜⬜⬜⬜⬜⬛⬜⬜\\n\n",
    " ⬜⬜⬜⬜⬜⬜⬜⬜\\n\n",
    " ⬜⬜⬜⬜⬜⬜⬜⬜\\n\n",
    "\\n\n",
    "The maximum distance between 2 points in the grid is: 2.24\\n\n",
    "That distance is between the following pairs of points:\\n\n",
    "(4, 3) -- (6, 4)\\n\n",
    "(5, 2) -- (6, 4)\\n\n",
    "'''"
   ]
  },
  {
   "cell_type": "markdown",
   "metadata": {},
   "source": [
    "## A grid of size 7 by 7"
   ]
  },
  {
   "cell_type": "code",
   "execution_count": null,
   "metadata": {},
   "outputs": [],
   "source": [
    "%%writefile grid.txt\n",
    "0 0 1 1 0 1 1\n",
    "0 1 0 1 1 0 1\n",
    "1 1 1 0 1 1 1\n",
    "1 0 1 0 1 1 1\n",
    "0 0 1 1 1 1 1\n",
    "1 1 0 1 1 0 1\n",
    "1 1 0 0 1 1 1"
   ]
  },
  {
   "cell_type": "code",
   "execution_count": null,
   "metadata": {
    "tags": []
   },
   "outputs": [],
   "source": [
    "%%run_and_test python3 shortest_distance.py\n",
    "\n",
    "'''\n",
    "Here is the grid:\\n\n",
    "\\n\n",
    " ⬜⬜⬛⬛⬜⬛⬛\\n\n",
    " ⬜⬛⬜⬛⬛⬜⬛\\n\n",
    " ⬛⬛⬛⬜⬛⬛⬛\\n\n",
    " ⬛⬜⬛⬜⬛⬛⬛\\n\n",
    " ⬜⬜⬛⬛⬛⬛⬛\\n\n",
    " ⬛⬛⬜⬛⬛⬜⬛\\n\n",
    " ⬛⬛⬜⬜⬛⬛⬛\\n\n",
    "\\n\n",
    "The maximum distance between 2 points in the grid is: 8.49\\n\n",
    "That distance is between the following pairs of points:\\n\n",
    "(7, 1) -- (1, 7)\\n\n",
    "'''"
   ]
  },
  {
   "cell_type": "markdown",
   "metadata": {},
   "source": [
    "## A grid of size 7 by 10"
   ]
  },
  {
   "cell_type": "code",
   "execution_count": null,
   "metadata": {},
   "outputs": [],
   "source": [
    "%%writefile grid.txt\n",
    "0 0 0 0 1 0 0 0 1 0\n",
    "0 1 0 0 0 1 1 0 0 0\n",
    "0 0 0 0 1 0 1 0 0 0\n",
    "0 0 0 0 0 1 1 0 1 0\n",
    "0 0 0 0 1 0 0 0 0 0\n",
    "0 0 0 1 0 0 0 0 1 0\n",
    "0 0 1 0 0 0 0 0 0 0"
   ]
  },
  {
   "cell_type": "code",
   "execution_count": null,
   "metadata": {},
   "outputs": [],
   "source": [
    "%%run_and_test python3 shortest_distance.py\n",
    "\n",
    "'''\n",
    "Here is the grid:\\n\n",
    "\\n\n",
    " ⬜⬜⬜⬜⬛⬜⬜⬜⬛⬜\\n\n",
    " ⬜⬛⬜⬜⬜⬛⬛⬜⬜⬜\\n\n",
    " ⬜⬜⬜⬜⬛⬜⬛⬜⬜⬜\\n\n",
    " ⬜⬜⬜⬜⬜⬛⬛⬜⬛⬜\\n\n",
    " ⬜⬜⬜⬜⬛⬜⬜⬜⬜⬜\\n\n",
    " ⬜⬜⬜⬛⬜⬜⬜⬜⬛⬜\\n\n",
    " ⬜⬜⬛⬜⬜⬜⬜⬜⬜⬜\\n\n",
    "\\n\n",
    "The maximum distance between 2 points in the grid is: 8.49\\n\n",
    "That distance is between the following pairs of points:\\n\n",
    "(9, 1) -- (3, 7)\\n\n",
    "'''"
   ]
  },
  {
   "cell_type": "markdown",
   "metadata": {},
   "source": [
    "## A grid of size 20 by 20"
   ]
  },
  {
   "cell_type": "code",
   "execution_count": null,
   "metadata": {},
   "outputs": [],
   "source": [
    "%%writefile grid.txt\n",
    "1 0 0 0 0 0 0 0 0 0 0 0 0 0 0 0 0 0 0 0\n",
    "0 1 0 0 0 0 0 0 0 0 0 1 1 1 1 0 0 0 0 0\n",
    "0 0 0 0 0 0 0 0 0 0 0 0 0 0 1 0 0 0 0 0\n",
    "0 0 0 0 0 0 0 0 0 0 0 0 0 0 0 0 0 0 0 0\n",
    "0 0 0 0 0 0 0 0 0 0 0 0 0 0 0 0 0 0 0 0\n",
    "0 0 0 0 0 0 0 0 0 0 0 0 1 0 0 0 0 0 1 0\n",
    "0 0 0 1 0 0 0 0 0 0 0 0 0 0 0 0 0 0 0 0\n",
    "0 0 0 0 0 0 0 0 0 0 0 0 0 0 1 0 0 0 0 0\n",
    "0 0 0 0 0 0 0 0 0 0 0 0 0 0 0 1 0 0 0 0\n",
    "0 0 0 1 0 1 0 0 0 0 0 0 0 1 0 0 0 0 0 0\n",
    "0 0 0 0 0 1 0 0 0 0 0 0 0 0 0 1 0 0 0 0\n",
    "0 0 0 0 0 0 0 0 0 0 0 1 0 0 0 0 0 0 0 0\n",
    "0 0 0 0 0 0 0 0 0 0 0 0 0 0 0 0 0 0 1 0\n",
    "0 0 0 0 0 0 0 0 0 1 1 0 0 1 0 0 0 0 0 0\n",
    "0 0 0 0 0 0 0 0 0 0 0 0 0 0 0 0 0 0 0 0\n",
    "0 0 0 0 0 0 0 0 1 0 1 0 0 0 0 0 1 1 0 0\n",
    "0 0 0 0 0 0 0 0 0 0 1 0 0 0 0 0 0 0 0 0\n",
    "0 1 1 0 1 0 0 0 0 0 0 0 0 0 0 0 0 0 0 0\n",
    "0 1 0 0 0 0 0 0 0 0 0 0 0 0 0 1 0 0 1 0\n",
    "1 0 0 0 0 0 1 0 0 0 0 0 0 0 0 0 0 1 0 0"
   ]
  },
  {
   "cell_type": "code",
   "execution_count": null,
   "metadata": {
    "tags": []
   },
   "outputs": [],
   "source": [
    "%%run_and_test python3 shortest_distance.py\n",
    "\n",
    "'''\n",
    "Here is the grid:\\n\n",
    "\\n\n",
    " ⬛⬜⬜⬜⬜⬜⬜⬜⬜⬜⬜⬜⬜⬜⬜⬜⬜⬜⬜⬜\\n\n",
    " ⬜⬛⬜⬜⬜⬜⬜⬜⬜⬜⬜⬛⬛⬛⬛⬜⬜⬜⬜⬜\\n\n",
    " ⬜⬜⬜⬜⬜⬜⬜⬜⬜⬜⬜⬜⬜⬜⬛⬜⬜⬜⬜⬜\\n\n",
    " ⬜⬜⬜⬜⬜⬜⬜⬜⬜⬜⬜⬜⬜⬜⬜⬜⬜⬜⬜⬜\\n\n",
    " ⬜⬜⬜⬜⬜⬜⬜⬜⬜⬜⬜⬜⬜⬜⬜⬜⬜⬜⬜⬜\\n\n",
    " ⬜⬜⬜⬜⬜⬜⬜⬜⬜⬜⬜⬜⬛⬜⬜⬜⬜⬜⬛⬜\\n\n",
    " ⬜⬜⬜⬛⬜⬜⬜⬜⬜⬜⬜⬜⬜⬜⬜⬜⬜⬜⬜⬜\\n\n",
    " ⬜⬜⬜⬜⬜⬜⬜⬜⬜⬜⬜⬜⬜⬜⬛⬜⬜⬜⬜⬜\\n\n",
    " ⬜⬜⬜⬜⬜⬜⬜⬜⬜⬜⬜⬜⬜⬜⬜⬛⬜⬜⬜⬜\\n\n",
    " ⬜⬜⬜⬛⬜⬛⬜⬜⬜⬜⬜⬜⬜⬛⬜⬜⬜⬜⬜⬜\\n\n",
    " ⬜⬜⬜⬜⬜⬛⬜⬜⬜⬜⬜⬜⬜⬜⬜⬛⬜⬜⬜⬜\\n\n",
    " ⬜⬜⬜⬜⬜⬜⬜⬜⬜⬜⬜⬛⬜⬜⬜⬜⬜⬜⬜⬜\\n\n",
    " ⬜⬜⬜⬜⬜⬜⬜⬜⬜⬜⬜⬜⬜⬜⬜⬜⬜⬜⬛⬜\\n\n",
    " ⬜⬜⬜⬜⬜⬜⬜⬜⬜⬛⬛⬜⬜⬛⬜⬜⬜⬜⬜⬜\\n\n",
    " ⬜⬜⬜⬜⬜⬜⬜⬜⬜⬜⬜⬜⬜⬜⬜⬜⬜⬜⬜⬜\\n\n",
    " ⬜⬜⬜⬜⬜⬜⬜⬜⬛⬜⬛⬜⬜⬜⬜⬜⬛⬛⬜⬜\\n\n",
    " ⬜⬜⬜⬜⬜⬜⬜⬜⬜⬜⬛⬜⬜⬜⬜⬜⬜⬜⬜⬜\\n\n",
    " ⬜⬛⬛⬜⬛⬜⬜⬜⬜⬜⬜⬜⬜⬜⬜⬜⬜⬜⬜⬜\\n\n",
    " ⬜⬛⬜⬜⬜⬜⬜⬜⬜⬜⬜⬜⬜⬜⬜⬛⬜⬜⬛⬜\\n\n",
    " ⬛⬜⬜⬜⬜⬜⬛⬜⬜⬜⬜⬜⬜⬜⬜⬜⬜⬛⬜⬜\\n\n",
    "\\n\n",
    "The maximum distance between 2 points in the grid is: 25.5\\n\n",
    "That distance is between the following pairs of points:\\n\n",
    "(1, 1) -- (18, 20)\\n\n",
    "'''"
   ]
  },
  {
   "cell_type": "markdown",
   "metadata": {},
   "source": [
    "## A grid of size 40 by 17"
   ]
  },
  {
   "cell_type": "code",
   "execution_count": null,
   "metadata": {},
   "outputs": [],
   "source": [
    "%%writefile grid.txt\n",
    "0 0 0 0 0 0 0 0 0 0 1 0 0 0 0 0 0\n",
    "0 0 0 0 0 0 0 0 0 0 0 0 1 0 0 0 0\n",
    "0 0 0 0 0 0 0 0 0 0 0 0 0 0 0 0 0\n",
    "0 0 0 1 0 0 0 0 0 0 0 0 0 0 1 0 0\n",
    "0 0 0 0 0 0 0 0 0 1 0 0 0 0 0 1 0\n",
    "0 0 0 0 0 0 0 0 0 0 1 0 0 0 0 0 0\n",
    "0 0 0 0 0 0 0 0 0 0 0 0 0 0 0 0 0\n",
    "0 1 0 0 0 0 0 0 0 0 0 0 0 0 0 0 1\n",
    "0 0 0 0 0 0 0 0 0 0 0 0 0 1 0 1 0\n",
    "0 1 0 0 0 0 0 0 0 0 0 0 0 0 0 0 0\n",
    "0 0 0 0 0 1 0 0 0 0 0 0 0 0 0 0 1\n",
    "0 0 0 0 0 0 0 0 1 0 0 0 0 1 1 0 0\n",
    "0 0 0 0 0 0 0 0 0 0 0 0 1 0 0 0 0\n",
    "0 0 0 0 0 0 0 0 0 0 0 1 0 1 0 0 1\n",
    "0 0 0 0 0 0 0 0 0 0 0 0 1 0 0 0 0\n",
    "0 0 0 0 0 0 0 0 1 0 0 1 0 0 0 0 0\n",
    "0 0 0 0 1 0 0 0 1 0 0 1 0 0 0 0 1\n",
    "0 0 0 0 0 0 0 0 0 0 0 1 0 0 0 0 0\n",
    "0 0 0 0 0 0 0 0 0 0 0 0 0 0 0 0 1\n",
    "0 0 0 0 0 0 0 0 0 0 0 0 1 0 0 0 0\n",
    "0 0 0 0 0 0 0 0 0 0 0 0 0 0 0 0 0\n",
    "0 0 0 0 0 0 0 0 0 0 0 0 0 0 0 0 0\n",
    "0 0 0 0 0 0 0 0 0 0 1 0 0 0 0 0 0\n",
    "0 0 0 0 0 0 0 0 0 0 1 0 0 0 0 0 1\n",
    "1 0 0 0 0 0 0 0 0 0 0 1 0 0 1 0 0\n",
    "0 1 0 0 0 0 0 0 0 0 0 0 0 0 0 0 0\n",
    "0 1 0 0 0 0 0 0 0 0 0 0 0 0 0 0 0\n",
    "0 0 1 0 1 0 1 1 0 0 0 1 0 0 0 0 0\n",
    "0 0 0 0 0 0 0 0 0 0 0 0 0 0 0 0 0\n",
    "0 0 0 1 0 0 0 0 0 0 0 0 0 0 0 0 0\n",
    "0 1 0 0 0 0 0 0 0 0 0 0 0 0 0 1 0\n",
    "0 0 0 0 0 0 0 1 0 0 1 0 0 0 0 1 0\n",
    "0 0 0 0 0 0 0 0 0 0 1 0 0 0 0 0 0\n",
    "0 1 0 0 0 0 0 0 1 0 1 0 0 0 0 0 0\n",
    "0 0 0 0 1 0 0 0 1 1 0 0 0 0 0 0 0\n",
    "0 0 0 0 0 1 0 0 0 0 0 0 1 0 0 0 0\n",
    "0 0 0 0 0 0 0 0 0 0 0 0 0 0 0 0 0\n",
    "0 0 1 1 0 0 0 0 0 0 0 0 0 0 0 0 0\n",
    "0 0 0 0 0 0 0 0 0 0 0 0 0 0 0 0 0\n",
    "0 0 0 0 0 0 0 0 0 0 0 0 0 0 0 0 0"
   ]
  },
  {
   "cell_type": "code",
   "execution_count": null,
   "metadata": {
    "tags": []
   },
   "outputs": [],
   "source": [
    "%%run_and_test python3 shortest_distance.py\n",
    "\n",
    "'''\n",
    "Here is the grid:\\n\n",
    "\\n\n",
    " ⬜⬜⬜⬜⬜⬜⬜⬜⬜⬜⬛⬜⬜⬜⬜⬜⬜\\n\n",
    " ⬜⬜⬜⬜⬜⬜⬜⬜⬜⬜⬜⬜⬛⬜⬜⬜⬜\\n\n",
    " ⬜⬜⬜⬜⬜⬜⬜⬜⬜⬜⬜⬜⬜⬜⬜⬜⬜\\n\n",
    " ⬜⬜⬜⬛⬜⬜⬜⬜⬜⬜⬜⬜⬜⬜⬛⬜⬜\\n\n",
    " ⬜⬜⬜⬜⬜⬜⬜⬜⬜⬛⬜⬜⬜⬜⬜⬛⬜\\n\n",
    " ⬜⬜⬜⬜⬜⬜⬜⬜⬜⬜⬛⬜⬜⬜⬜⬜⬜\\n\n",
    " ⬜⬜⬜⬜⬜⬜⬜⬜⬜⬜⬜⬜⬜⬜⬜⬜⬜\\n\n",
    " ⬜⬛⬜⬜⬜⬜⬜⬜⬜⬜⬜⬜⬜⬜⬜⬜⬛\\n\n",
    " ⬜⬜⬜⬜⬜⬜⬜⬜⬜⬜⬜⬜⬜⬛⬜⬛⬜\\n\n",
    " ⬜⬛⬜⬜⬜⬜⬜⬜⬜⬜⬜⬜⬜⬜⬜⬜⬜\\n\n",
    " ⬜⬜⬜⬜⬜⬛⬜⬜⬜⬜⬜⬜⬜⬜⬜⬜⬛\\n\n",
    " ⬜⬜⬜⬜⬜⬜⬜⬜⬛⬜⬜⬜⬜⬛⬛⬜⬜\\n\n",
    " ⬜⬜⬜⬜⬜⬜⬜⬜⬜⬜⬜⬜⬛⬜⬜⬜⬜\\n\n",
    " ⬜⬜⬜⬜⬜⬜⬜⬜⬜⬜⬜⬛⬜⬛⬜⬜⬛\\n\n",
    " ⬜⬜⬜⬜⬜⬜⬜⬜⬜⬜⬜⬜⬛⬜⬜⬜⬜\\n\n",
    " ⬜⬜⬜⬜⬜⬜⬜⬜⬛⬜⬜⬛⬜⬜⬜⬜⬜\\n\n",
    " ⬜⬜⬜⬜⬛⬜⬜⬜⬛⬜⬜⬛⬜⬜⬜⬜⬛\\n\n",
    " ⬜⬜⬜⬜⬜⬜⬜⬜⬜⬜⬜⬛⬜⬜⬜⬜⬜\\n\n",
    " ⬜⬜⬜⬜⬜⬜⬜⬜⬜⬜⬜⬜⬜⬜⬜⬜⬛\\n\n",
    " ⬜⬜⬜⬜⬜⬜⬜⬜⬜⬜⬜⬜⬛⬜⬜⬜⬜\\n\n",
    " ⬜⬜⬜⬜⬜⬜⬜⬜⬜⬜⬜⬜⬜⬜⬜⬜⬜\\n\n",
    " ⬜⬜⬜⬜⬜⬜⬜⬜⬜⬜⬜⬜⬜⬜⬜⬜⬜\\n\n",
    " ⬜⬜⬜⬜⬜⬜⬜⬜⬜⬜⬛⬜⬜⬜⬜⬜⬜\\n\n",
    " ⬜⬜⬜⬜⬜⬜⬜⬜⬜⬜⬛⬜⬜⬜⬜⬜⬛\\n\n",
    " ⬛⬜⬜⬜⬜⬜⬜⬜⬜⬜⬜⬛⬜⬜⬛⬜⬜\\n\n",
    " ⬜⬛⬜⬜⬜⬜⬜⬜⬜⬜⬜⬜⬜⬜⬜⬜⬜\\n\n",
    " ⬜⬛⬜⬜⬜⬜⬜⬜⬜⬜⬜⬜⬜⬜⬜⬜⬜\\n\n",
    " ⬜⬜⬛⬜⬛⬜⬛⬛⬜⬜⬜⬛⬜⬜⬜⬜⬜\\n\n",
    " ⬜⬜⬜⬜⬜⬜⬜⬜⬜⬜⬜⬜⬜⬜⬜⬜⬜\\n\n",
    " ⬜⬜⬜⬛⬜⬜⬜⬜⬜⬜⬜⬜⬜⬜⬜⬜⬜\\n\n",
    " ⬜⬛⬜⬜⬜⬜⬜⬜⬜⬜⬜⬜⬜⬜⬜⬛⬜\\n\n",
    " ⬜⬜⬜⬜⬜⬜⬜⬛⬜⬜⬛⬜⬜⬜⬜⬛⬜\\n\n",
    " ⬜⬜⬜⬜⬜⬜⬜⬜⬜⬜⬛⬜⬜⬜⬜⬜⬜\\n\n",
    " ⬜⬛⬜⬜⬜⬜⬜⬜⬛⬜⬛⬜⬜⬜⬜⬜⬜\\n\n",
    " ⬜⬜⬜⬜⬛⬜⬜⬜⬛⬛⬜⬜⬜⬜⬜⬜⬜\\n\n",
    " ⬜⬜⬜⬜⬜⬛⬜⬜⬜⬜⬜⬜⬛⬜⬜⬜⬜\\n\n",
    " ⬜⬜⬜⬜⬜⬜⬜⬜⬜⬜⬜⬜⬜⬜⬜⬜⬜\\n\n",
    " ⬜⬜⬛⬛⬜⬜⬜⬜⬜⬜⬜⬜⬜⬜⬜⬜⬜\\n\n",
    " ⬜⬜⬜⬜⬜⬜⬜⬜⬜⬜⬜⬜⬜⬜⬜⬜⬜\\n\n",
    " ⬜⬜⬜⬜⬜⬜⬜⬜⬜⬜⬜⬜⬜⬜⬜⬜⬜\\n\n",
    "\\n\n",
    "The maximum distance between 2 points in the grid is: 37.85\\n\n",
    "That distance is between the following pairs of points:\\n\n",
    "(11, 1) -- (3, 38)\\n\n",
    "'''"
   ]
  },
  {
   "cell_type": "markdown",
   "metadata": {},
   "source": [
    "# Cleaning after tests"
   ]
  },
  {
   "cell_type": "code",
   "execution_count": null,
   "metadata": {},
   "outputs": [],
   "source": [
    "rm grid.txt"
   ]
  }
 ],
 "metadata": {
  "kernelspec": {
   "display_name": "Python 3 (ipykernel)",
   "language": "python",
   "name": "python3"
  },
  "language_info": {
   "codemirror_mode": {
    "name": "ipython",
    "version": 3
   },
   "file_extension": ".py",
   "mimetype": "text/x-python",
   "name": "python",
   "nbconvert_exporter": "python",
   "pygments_lexer": "ipython3",
   "version": "3.10.2"
  },
  "latex_envs": {
   "LaTeX_envs_menu_present": true,
   "autoclose": false,
   "autocomplete": true,
   "bibliofile": "biblio.bib",
   "cite_by": "apalike",
   "current_citInitial": 1,
   "eqLabelWithNumbers": true,
   "eqNumInitial": 1,
   "hotkeys": {
    "equation": "Ctrl-E",
    "itemize": "Ctrl-I"
   },
   "labels_anchors": false,
   "latex_user_defs": false,
   "report_style_numbering": false,
   "user_envs_cfg": false
  },
  "toc": {
   "base_numbering": 1,
   "nav_menu": {},
   "number_sections": true,
   "sideBar": true,
   "skip_h1_title": false,
   "title_cell": "Table of Contents",
   "title_sidebar": "Contents",
   "toc_cell": false,
   "toc_position": {},
   "toc_section_display": true,
   "toc_window_display": false
  },
  "widgets": {
   "application/vnd.jupyter.widget-state+json": {
    "state": {},
    "version_major": 2,
    "version_minor": 0
   }
  }
 },
 "nbformat": 4,
 "nbformat_minor": 4
}
