{
 "cells": [
  {
   "cell_type": "code",
   "execution_count": null,
   "metadata": {},
   "outputs": [],
   "source": [
    "%store -r execute_command\n",
    "%store -r import_testing_environment"
   ]
  },
  {
   "cell_type": "code",
   "execution_count": null,
   "metadata": {},
   "outputs": [],
   "source": [
    "import_testing_environment"
   ]
  },
  {
   "cell_type": "markdown",
   "metadata": {},
   "source": [
    "Max running time and max output size in deciseconds and bytes, respectively."
   ]
  },
  {
   "cell_type": "code",
   "execution_count": null,
   "metadata": {},
   "outputs": [],
   "source": [
    "env MAX_RUNNING_TIME 10"
   ]
  },
  {
   "cell_type": "code",
   "execution_count": null,
   "metadata": {},
   "outputs": [],
   "source": [
    "env MAX_OUTPUT_SIZE 1000"
   ]
  },
  {
   "cell_type": "markdown",
   "metadata": {},
   "source": [
    "## Background"
   ]
  },
  {
   "cell_type": "markdown",
   "metadata": {},
   "source": [
    "\\begin{theorem}\n",
    "Let $a$, $b$ and $c$ be three integers with $a\\neq 0$ and $b\\neq 0$. The equation $ax+by=c$ has a solution iff $c$ is a multiple of $\\gcd(a,b)$, in which case it actually has infinitely many solutions, namely, all pairs $(x,y)$ of the form\n",
    "\n",
    "\\[\\label{eq1}\n",
    "\\left(x_0 + \\frac{\\mathrm{lcm}(a,b)}{a}n,y_0 - \\frac{\\mathrm{lcm}(a,b)}{b}n\\right)\n",
    "\\]\n",
    "\n",
    "for arbitrary integers $n$, where $\\mathrm{lcm}(a,b)$ denotes the least common multiplier of $a$ and $b$, and where $(x_0,y_0)$ is a solution to the equation.\n",
    "\\end{theorem}\n",
    "\n",
    "\\begin{proof}\n",
    "Obviously, for all integers $x$ and $y$, $ax+by$ is a multiple of $\\gcd(a,b)$, hence for $ax+by=c$ to have solutions, $c$ must be a multiple of $\\gcd(a,b)$. By Bézout's identity, there exists integers $x$ and $y$ with $ax+by=\\gcd(a,b)$. Hence if $c$ is a multiple of $\\gcd(a,b)$ then $ax+by=c$ has a solution. Let $(x_0,y_0)$ and $(x,y)$ be solutions to $ax+by=c$. Then $a(x-x_0)+b(y-y_0)=0$. To complete the proof of the theorem, it suffices to verify that the equation $au+bv=0$ has solutions, which are all pairs $(u,v)$ of the form\n",
    "\n",
    "\\begin{equation*}\n",
    "\\left(\\frac{\\mathrm{lcm}(a,b)}{a}n,-\\frac{\\mathrm{lcm}(a,b)}{b}n\\right)\n",
    "\\end{equation*}\n",
    "for arbitrary integers $n$. Obviously, all such pairs are solutions to $au+bv=0$. Conversely, suppose that $(u,v)$ is a solution to $au+bv=0$. Then $au=-bv$. Since $au$ is a multiple of $a$, $-bv$ is a multiple of $b$, and both are equal, both are multiple of $\\mathrm{lcm}(a,b)$. Hence there exists an integer $n$ such that $\\mathrm{lcm}(a,b)n=au=-bv$, hence $u=\\frac{\\mathrm{lcm}(a,b)}{a}n$ and $v=-\\frac{\\mathrm{lcm}(a,b)}{b}n$.\n",
    "\\end{proof}\n",
    "\n",
    "A particular solution to $ax+by=c$ can be derived from the extended Euclidian algorithm, that yields not only $\\gcd(a,b)$, but also a pair of Bézout coefficients, namely, two integers $x$ and $y$ with $ax+by=\\gcd(a,b)$. To normalise the representation of the solutions, we rewrite (\\ref{eq1}) as\n",
    "\n",
    "\\begin{equation*}\n",
    "\\left(x_0 + \\frac{\\mathrm{lcm}(a,b)}{|a|}n,y_0 - \\mathrm{sign}(a)\\frac{\\mathrm{lcm}(a,b)}{b}n\\right)\n",
    "\\end{equation*}\n",
    "\n",
    "where $\\mathrm{sign}(a)$ is 1 if $a$ is positive and -1 if $a$ is negative, and we impose that the pair $(x_0,y_0)$ is such that $x_0$ is nonnegative and minimal."
   ]
  },
  {
   "cell_type": "markdown",
   "metadata": {},
   "source": [
    "## Task"
   ]
  },
  {
   "cell_type": "markdown",
   "metadata": {},
   "source": [
    "Write a program `diophantine.py` that implements a function, `diophantine(eq)`, that given as argument a Diophantine equation of the form $ax+by=c$ with $a,b,c\\in\\mathbb Z$ and $a,b\\neq 0$, prints out the normalised representation of its solutions. The argument is provided as a string of the form `'ax+by=c'` or `'ax-by=c'` where `a` is a nonzero integer literal (not preceded by + in case it is positive), `b` is a strictly positive integer literal (not preceded by +), and `c` is an integer literal (not preceded by + in case it is positive), possibly with spaces anywhere at the beginning, at the end, and around the `'+'`, `'-'` and `'='` characters. The output reproduces the equation nicely formatted, that is, with a single space around the `'+'`, `'-'` and `'='` characters. As for the representation of the solutions, it is also nicely formatted, omitting $x_0$ or $y_0$ when they are equal to 0, and omitting 1 as a factor of $n$."
   ]
  },
  {
   "cell_type": "markdown",
   "metadata": {},
   "source": [
    "## Tests"
   ]
  },
  {
   "cell_type": "markdown",
   "metadata": {},
   "source": [
    "### Absence of solution to 4x + 6y = 9"
   ]
  },
  {
   "cell_type": "markdown",
   "metadata": {},
   "source": [
    "Defining the command to execute and test:"
   ]
  },
  {
   "cell_type": "code",
   "execution_count": null,
   "metadata": {},
   "outputs": [],
   "source": [
    "statements = \"'from diophantine_equations import *; \"\\\n",
    "             \"diophantine(\\\"4x + 6y = 9\\\")'\"\n",
    "%env COMMAND_TO_EXECUTE=python3 -c $statements"
   ]
  },
  {
   "cell_type": "markdown",
   "metadata": {},
   "source": [
    "Executing the command and capturing its output:"
   ]
  },
  {
   "cell_type": "code",
   "execution_count": null,
   "metadata": {},
   "outputs": [],
   "source": [
    "execute_command"
   ]
  },
  {
   "cell_type": "markdown",
   "metadata": {},
   "source": [
    "Examining the output:"
   ]
  },
  {
   "cell_type": "code",
   "execution_count": null,
   "metadata": {
    "scrolled": false
   },
   "outputs": [],
   "source": [
    "test_against('4x + 6y = 9 has no solution.\\n')"
   ]
  },
  {
   "cell_type": "markdown",
   "metadata": {},
   "source": [
    "### Solutions to 1x + 1y = 0"
   ]
  },
  {
   "cell_type": "markdown",
   "metadata": {},
   "source": [
    "Defining the command to execute and test:"
   ]
  },
  {
   "cell_type": "code",
   "execution_count": null,
   "metadata": {},
   "outputs": [],
   "source": [
    "statements = \"'from diophantine_equations import *; \"\\\n",
    "             \"diophantine(\\\"1x + 1y = 0\\\")'\"\n",
    "%env COMMAND_TO_EXECUTE=python3 -c $statements"
   ]
  },
  {
   "cell_type": "markdown",
   "metadata": {},
   "source": [
    "Executing the command and capturing its output:"
   ]
  },
  {
   "cell_type": "code",
   "execution_count": null,
   "metadata": {},
   "outputs": [],
   "source": [
    "execute_command"
   ]
  },
  {
   "cell_type": "markdown",
   "metadata": {},
   "source": [
    "Examining the output:"
   ]
  },
  {
   "cell_type": "code",
   "execution_count": null,
   "metadata": {
    "scrolled": true
   },
   "outputs": [],
   "source": [
    "test_against('1x + 1y = 0 has as solutions all pairs of the form\\n'\n",
    "             '    (n, -n) with n an arbitrary integer.\\n'\n",
    "            )"
   ]
  },
  {
   "cell_type": "markdown",
   "metadata": {},
   "source": [
    "### Solutions to -1x + 1y = 0"
   ]
  },
  {
   "cell_type": "markdown",
   "metadata": {},
   "source": [
    "Defining the command to execute and test:"
   ]
  },
  {
   "cell_type": "code",
   "execution_count": null,
   "metadata": {},
   "outputs": [],
   "source": [
    "statements = \"'from diophantine_equations import *; \"\\\n",
    "             \"diophantine(\\\"-1x + 1y = 0\\\")'\"\n",
    "%env COMMAND_TO_EXECUTE=python3 -c $statements"
   ]
  },
  {
   "cell_type": "markdown",
   "metadata": {},
   "source": [
    "Executing the command and capturing its output:"
   ]
  },
  {
   "cell_type": "code",
   "execution_count": null,
   "metadata": {},
   "outputs": [],
   "source": [
    "execute_command"
   ]
  },
  {
   "cell_type": "markdown",
   "metadata": {},
   "source": [
    "Examining the output:"
   ]
  },
  {
   "cell_type": "code",
   "execution_count": null,
   "metadata": {
    "scrolled": true
   },
   "outputs": [],
   "source": [
    "test_against('-1x + 1y = 0 has as solutions all pairs of the form\\n'\n",
    "             '    (n, n) with n an arbitrary integer.\\n'\n",
    "            )"
   ]
  },
  {
   "cell_type": "markdown",
   "metadata": {},
   "source": [
    "### Solutions to 1x - 1y = 0"
   ]
  },
  {
   "cell_type": "markdown",
   "metadata": {},
   "source": [
    "Defining the command to execute and test:"
   ]
  },
  {
   "cell_type": "code",
   "execution_count": null,
   "metadata": {},
   "outputs": [],
   "source": [
    "statements = \"'from diophantine_equations import *; \"\\\n",
    "             \"diophantine(\\\"1x - 1y = 0\\\")'\"\n",
    "%env COMMAND_TO_EXECUTE=python3 -c $statements"
   ]
  },
  {
   "cell_type": "markdown",
   "metadata": {},
   "source": [
    "Executing the command and capturing its output:"
   ]
  },
  {
   "cell_type": "code",
   "execution_count": null,
   "metadata": {},
   "outputs": [],
   "source": [
    "execute_command"
   ]
  },
  {
   "cell_type": "markdown",
   "metadata": {},
   "source": [
    "Examining the output:"
   ]
  },
  {
   "cell_type": "code",
   "execution_count": null,
   "metadata": {
    "scrolled": true
   },
   "outputs": [],
   "source": [
    "test_against('1x - 1y = 0 has as solutions all pairs of the form\\n'\n",
    "             '    (n, n) with n an arbitrary integer.\\n'\n",
    "            )"
   ]
  },
  {
   "cell_type": "markdown",
   "metadata": {},
   "source": [
    "### Solutions to -1x - 1y = 0"
   ]
  },
  {
   "cell_type": "markdown",
   "metadata": {},
   "source": [
    "Defining the command to execute and test:"
   ]
  },
  {
   "cell_type": "code",
   "execution_count": null,
   "metadata": {},
   "outputs": [],
   "source": [
    "statements = \"'from diophantine_equations import *; \"\\\n",
    "             \"diophantine(\\\"-1x - 1y = 0\\\")'\"\n",
    "%env COMMAND_TO_EXECUTE=python3 -c $statements"
   ]
  },
  {
   "cell_type": "markdown",
   "metadata": {},
   "source": [
    "Executing the command and capturing its output:"
   ]
  },
  {
   "cell_type": "code",
   "execution_count": null,
   "metadata": {},
   "outputs": [],
   "source": [
    "execute_command"
   ]
  },
  {
   "cell_type": "markdown",
   "metadata": {},
   "source": [
    "Examining the output:"
   ]
  },
  {
   "cell_type": "code",
   "execution_count": null,
   "metadata": {
    "scrolled": true
   },
   "outputs": [],
   "source": [
    "test_against('-1x - 1y = 0 has as solutions all pairs of the form\\n'\n",
    "             '    (n, -n) with n an arbitrary integer.\\n'\n",
    "            )"
   ]
  },
  {
   "cell_type": "markdown",
   "metadata": {},
   "source": [
    "### Solutions to 1x + 1y = -1"
   ]
  },
  {
   "cell_type": "markdown",
   "metadata": {},
   "source": [
    "Defining the command to execute and test:"
   ]
  },
  {
   "cell_type": "code",
   "execution_count": null,
   "metadata": {},
   "outputs": [],
   "source": [
    "statements = \"'from diophantine_equations import *; \"\\\n",
    "             \"diophantine(\\\"1x + 1y = -1\\\")'\"\n",
    "%env COMMAND_TO_EXECUTE=python3 -c $statements"
   ]
  },
  {
   "cell_type": "markdown",
   "metadata": {},
   "source": [
    "Executing the command and capturing its output:"
   ]
  },
  {
   "cell_type": "code",
   "execution_count": null,
   "metadata": {},
   "outputs": [],
   "source": [
    "execute_command"
   ]
  },
  {
   "cell_type": "markdown",
   "metadata": {},
   "source": [
    "Examining the output:"
   ]
  },
  {
   "cell_type": "code",
   "execution_count": null,
   "metadata": {
    "scrolled": false
   },
   "outputs": [],
   "source": [
    "test_against('1x + 1y = -1 has as solutions all pairs of the form\\n'\n",
    "             '    (n, -1 - n) with n an arbitrary integer.\\n'\n",
    "            )"
   ]
  },
  {
   "cell_type": "markdown",
   "metadata": {},
   "source": [
    "### Solutions to -1x + 1y = 1"
   ]
  },
  {
   "cell_type": "markdown",
   "metadata": {},
   "source": [
    "Defining the command to execute and test:"
   ]
  },
  {
   "cell_type": "code",
   "execution_count": null,
   "metadata": {},
   "outputs": [],
   "source": [
    "statements = \"'from diophantine_equations import *; \"\\\n",
    "             \"diophantine(\\\"-1x + 1y = 1\\\")'\"\n",
    "%env COMMAND_TO_EXECUTE=python3 -c $statements"
   ]
  },
  {
   "cell_type": "markdown",
   "metadata": {},
   "source": [
    "Executing the command and capturing its output:"
   ]
  },
  {
   "cell_type": "code",
   "execution_count": null,
   "metadata": {},
   "outputs": [],
   "source": [
    "execute_command"
   ]
  },
  {
   "cell_type": "markdown",
   "metadata": {},
   "source": [
    "Examining the output:"
   ]
  },
  {
   "cell_type": "code",
   "execution_count": null,
   "metadata": {
    "scrolled": true
   },
   "outputs": [],
   "source": [
    "test_against('-1x + 1y = 1 has as solutions all pairs of the form\\n'\n",
    "             '    (n, 1 + n) with n an arbitrary integer.\\n'\n",
    "            )"
   ]
  },
  {
   "cell_type": "markdown",
   "metadata": {},
   "source": [
    "### Solutions to 4x + 6y = 10"
   ]
  },
  {
   "cell_type": "markdown",
   "metadata": {},
   "source": [
    "Defining the command to execute and test:"
   ]
  },
  {
   "cell_type": "code",
   "execution_count": null,
   "metadata": {},
   "outputs": [],
   "source": [
    "statements = \"'from diophantine_equations import *; \"\\\n",
    "             \"diophantine(\\\"4x + 6y = 10\\\")'\"\n",
    "%env COMMAND_TO_EXECUTE=python3 -c $statements"
   ]
  },
  {
   "cell_type": "markdown",
   "metadata": {},
   "source": [
    "Executing the command and capturing its output:"
   ]
  },
  {
   "cell_type": "code",
   "execution_count": null,
   "metadata": {},
   "outputs": [],
   "source": [
    "execute_command"
   ]
  },
  {
   "cell_type": "markdown",
   "metadata": {},
   "source": [
    "Examining the output:"
   ]
  },
  {
   "cell_type": "code",
   "execution_count": null,
   "metadata": {
    "scrolled": true
   },
   "outputs": [],
   "source": [
    "test_against('4x + 6y = 10 has as solutions all pairs of the form\\n'\n",
    "             '    (1 + 3n, 1 - 2n) with n an arbitrary integer.\\n'\n",
    "            )"
   ]
  },
  {
   "cell_type": "markdown",
   "metadata": {},
   "source": [
    "### Solutions to 71x + 83y = 2"
   ]
  },
  {
   "cell_type": "markdown",
   "metadata": {},
   "source": [
    "Defining the command to execute and test:"
   ]
  },
  {
   "cell_type": "code",
   "execution_count": null,
   "metadata": {},
   "outputs": [],
   "source": [
    "statements = \"'from diophantine_equations import *; \"\\\n",
    "             \"diophantine(\\\"71x+83y=2\\\")'\"\n",
    "%env COMMAND_TO_EXECUTE=python3 -c $statements"
   ]
  },
  {
   "cell_type": "markdown",
   "metadata": {},
   "source": [
    "Executing the command and capturing its output:"
   ]
  },
  {
   "cell_type": "code",
   "execution_count": null,
   "metadata": {},
   "outputs": [],
   "source": [
    "execute_command"
   ]
  },
  {
   "cell_type": "markdown",
   "metadata": {},
   "source": [
    "Examining the output:"
   ]
  },
  {
   "cell_type": "code",
   "execution_count": null,
   "metadata": {
    "scrolled": false
   },
   "outputs": [],
   "source": [
    "test_against('71x + 83y = 2 has as solutions all pairs of the form\\n'\n",
    "             '    (69 + 83n, -59 - 71n) with n an arbitrary integer.\\n'\n",
    "            )"
   ]
  },
  {
   "cell_type": "markdown",
   "metadata": {},
   "source": [
    "### Solutions to 782x + 253y = 92"
   ]
  },
  {
   "cell_type": "markdown",
   "metadata": {},
   "source": [
    "Defining the command to execute and test:"
   ]
  },
  {
   "cell_type": "code",
   "execution_count": null,
   "metadata": {},
   "outputs": [],
   "source": [
    "statements = \"'from diophantine_equations import *; \"\\\n",
    "             \"diophantine(\\\"  782  x  +  253  y  =  92\\\")'\"\n",
    "%env COMMAND_TO_EXECUTE=python3 -c $statements"
   ]
  },
  {
   "cell_type": "markdown",
   "metadata": {},
   "source": [
    "Executing the command and capturing its output:"
   ]
  },
  {
   "cell_type": "code",
   "execution_count": null,
   "metadata": {},
   "outputs": [],
   "source": [
    "execute_command"
   ]
  },
  {
   "cell_type": "markdown",
   "metadata": {},
   "source": [
    "Examining the output:"
   ]
  },
  {
   "cell_type": "code",
   "execution_count": null,
   "metadata": {
    "scrolled": true
   },
   "outputs": [],
   "source": [
    "test_against('782x + 253y = 92 has as solutions all pairs of the form\\n'\n",
    "             '    (4 + 11n, -12 - 34n) with n an arbitrary integer.\\n'\n",
    "            )"
   ]
  },
  {
   "cell_type": "markdown",
   "metadata": {},
   "source": [
    "### Solutions to -123x - 456y = 78"
   ]
  },
  {
   "cell_type": "markdown",
   "metadata": {},
   "source": [
    "Defining the command to execute and test:"
   ]
  },
  {
   "cell_type": "code",
   "execution_count": null,
   "metadata": {},
   "outputs": [],
   "source": [
    "statements = \"'from diophantine_equations import *; \"\\\n",
    "             \"diophantine(\\\"-123x -456y = 78\\\")'\"\n",
    "%env COMMAND_TO_EXECUTE=python3 -c $statements"
   ]
  },
  {
   "cell_type": "markdown",
   "metadata": {},
   "source": [
    "Executing the command and capturing its output:"
   ]
  },
  {
   "cell_type": "code",
   "execution_count": null,
   "metadata": {},
   "outputs": [],
   "source": [
    "execute_command"
   ]
  },
  {
   "cell_type": "markdown",
   "metadata": {},
   "source": [
    "Examining the output:"
   ]
  },
  {
   "cell_type": "code",
   "execution_count": null,
   "metadata": {
    "scrolled": false
   },
   "outputs": [],
   "source": [
    "test_against('-123x - 456y = 78 has as solutions all pairs of the form\\n'\n",
    "             '    (118 + 152n, -32 - 41n) with n an arbitrary integer.\\n'\n",
    "            )"
   ]
  },
  {
   "cell_type": "markdown",
   "metadata": {},
   "source": [
    "### Solutions to -321x + 654y = -87"
   ]
  },
  {
   "cell_type": "markdown",
   "metadata": {},
   "source": [
    "Defining the command to execute and test:"
   ]
  },
  {
   "cell_type": "code",
   "execution_count": null,
   "metadata": {},
   "outputs": [],
   "source": [
    "statements = \"'from diophantine_equations import *; \"\\\n",
    "             \"diophantine(\\\"-321x +654y = -87\\\")'\"\n",
    "%env COMMAND_TO_EXECUTE=python3 -c $statements"
   ]
  },
  {
   "cell_type": "markdown",
   "metadata": {},
   "source": [
    "Executing the command and capturing its output:"
   ]
  },
  {
   "cell_type": "code",
   "execution_count": null,
   "metadata": {},
   "outputs": [],
   "source": [
    "execute_command"
   ]
  },
  {
   "cell_type": "markdown",
   "metadata": {},
   "source": [
    "Examining the output:"
   ]
  },
  {
   "cell_type": "code",
   "execution_count": null,
   "metadata": {
    "scrolled": false
   },
   "outputs": [],
   "source": [
    "test_against('-321x + 654y = -87 has as solutions all pairs of the form\\n'\n",
    "             '    (149 + 218n, 73 + 107n) with n an arbitrary integer.\\n'\n",
    "            )"
   ]
  }
 ],
 "metadata": {
  "kernelspec": {
   "display_name": "Python 3 (ipykernel)",
   "language": "python",
   "name": "python3"
  },
  "language_info": {
   "codemirror_mode": {
    "name": "ipython",
    "version": 3
   },
   "file_extension": ".py",
   "mimetype": "text/x-python",
   "name": "python",
   "nbconvert_exporter": "python",
   "pygments_lexer": "ipython3",
   "version": "3.9.7"
  },
  "latex_envs": {
   "LaTeX_envs_menu_present": true,
   "autoclose": false,
   "autocomplete": true,
   "bibliofile": "biblio.bib",
   "cite_by": "apalike",
   "current_citInitial": 1,
   "eqLabelWithNumbers": true,
   "eqNumInitial": 1,
   "hotkeys": {
    "equation": "Ctrl-E",
    "itemize": "Ctrl-I"
   },
   "labels_anchors": false,
   "latex_user_defs": false,
   "report_style_numbering": false,
   "user_envs_cfg": false
  },
  "toc": {
   "base_numbering": 1,
   "nav_menu": {},
   "number_sections": true,
   "sideBar": true,
   "skip_h1_title": false,
   "title_cell": "Table of Contents",
   "title_sidebar": "Contents",
   "toc_cell": false,
   "toc_position": {},
   "toc_section_display": true,
   "toc_window_display": false
  }
 },
 "nbformat": 4,
 "nbformat_minor": 4
}
