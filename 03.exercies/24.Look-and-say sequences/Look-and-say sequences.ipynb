{
 "cells": [
  {
   "cell_type": "code",
   "execution_count": null,
   "id": "c5d46ac1",
   "metadata": {},
   "outputs": [],
   "source": [
    "load_ext run_and_test"
   ]
  },
  {
   "cell_type": "markdown",
   "id": "cf64b847",
   "metadata": {},
   "source": [
    "# Background"
   ]
  },
  {
   "cell_type": "markdown",
   "id": "518bdd7e",
   "metadata": {},
   "source": [
    "Start with a digit, say 3.\n",
    "\n",
    "* 3 is one 3: 13\n",
    "* 13 is one 1 followed by one 3: 1113\n",
    "* 1113 is three 1s followed by one 3: 3113\n",
    "* 3113 is one 3 followed by two 1s followed by one 3: 132113\n",
    "* 132113 is one 1 followed by one 3 followed by one 2 followed by two 1s followed by one 3: 1113122113\n",
    "* ..."
   ]
  },
  {
   "cell_type": "markdown",
   "id": "9e1569cd",
   "metadata": {},
   "source": [
    "# Task"
   ]
  },
  {
   "cell_type": "markdown",
   "id": "35a63de3",
   "metadata": {},
   "source": [
    "Write a program `look_and_say.py` that defined a function `look_and_say()` meant to take as first argument a digit $d$ and as second argument an integer $n$, and output the integer that is the $n^{\\mathrm{th}}$ term of the look and say sequence that starts with $d$."
   ]
  },
  {
   "cell_type": "markdown",
   "id": "ac7d2b62",
   "metadata": {},
   "source": [
    "# Tests"
   ]
  },
  {
   "cell_type": "markdown",
   "id": "7cc3727b",
   "metadata": {},
   "source": [
    "## Starting digit: 0"
   ]
  },
  {
   "cell_type": "code",
   "execution_count": null,
   "id": "dcbe3b9d",
   "metadata": {},
   "outputs": [],
   "source": [
    "statements = 'from look_and_say import *; '\\\n",
    "             '[print(look_and_say(0, n)) for n in range(10)]'"
   ]
  },
  {
   "cell_type": "code",
   "execution_count": null,
   "id": "80388239",
   "metadata": {},
   "outputs": [],
   "source": [
    "%%run_and_test python3 -c \"$statements\"\n",
    "\n",
    "'0\\n\n",
    "10\\n\n",
    "1110\\n\n",
    "3110\\n\n",
    "132110\\n\n",
    "1113122110\\n\n",
    "311311222110\\n\n",
    "13211321322110\\n\n",
    "1113122113121113222110\\n\n",
    "31131122211311123113322110\\n'"
   ]
  },
  {
   "cell_type": "code",
   "execution_count": null,
   "id": "bb6c8990",
   "metadata": {},
   "outputs": [],
   "source": [
    "statements = 'from look_and_say import *; print(look_and_say(0, 20))'"
   ]
  },
  {
   "cell_type": "code",
   "execution_count": null,
   "id": "dd31f0df",
   "metadata": {},
   "outputs": [],
   "source": [
    "%%run_and_test python3 -c \"$statements\"\n",
    "\n",
    "'11131221131211132221232112111312111213111213211231132132211211131221232112111'\n",
    "'31221121311121312211213211321322112311311222113311213212322211211131221131211'\n",
    "'22132112311321322112111312211312111322211213111213122112132113121113222112132'\n",
    "'11321322113311213212322211231131122211311123113223112111311222112132113311213'\n",
    "'21122112133221121113122113121113222123112221221321132132211231131122211331121'\n",
    "'32123222112111312211312111322212311322123123112111321322123122113222122211211'\n",
    "'23222110\\n'"
   ]
  },
  {
   "cell_type": "markdown",
   "id": "ebe35711",
   "metadata": {},
   "source": [
    "## Starting digit: 1"
   ]
  },
  {
   "cell_type": "code",
   "execution_count": null,
   "id": "9df885bb",
   "metadata": {},
   "outputs": [],
   "source": [
    "statements = 'from look_and_say import *; '\\\n",
    "             '[print(look_and_say(1, n)) for n in range(10)]'"
   ]
  },
  {
   "cell_type": "code",
   "execution_count": null,
   "id": "8e07e9ec",
   "metadata": {},
   "outputs": [],
   "source": [
    "%%run_and_test python3 -c \"$statements\"\n",
    "\n",
    "'1\\n\n",
    "11\\n\n",
    "21\\n\n",
    "1211\\n\n",
    "111221\\n\n",
    "312211\\n\n",
    "13112221\\n\n",
    "1113213211\\n\n",
    "31131211131221\\n\n",
    "13211311123113112211\\n'"
   ]
  },
  {
   "cell_type": "code",
   "execution_count": null,
   "id": "114acac3",
   "metadata": {},
   "outputs": [],
   "source": [
    "statements = 'from look_and_say import *; print(look_and_say(1, 20))'"
   ]
  },
  {
   "cell_type": "code",
   "execution_count": null,
   "id": "9b8a5508",
   "metadata": {},
   "outputs": [],
   "source": [
    "%%run_and_test python3 -c \"$statements\"\n",
    "\n",
    "'31131122211311123113321112131221123113111231121113311211131221121321131211132'\n",
    "'22112311311222113111221221113122112132113121113222112132113213221133112132123'\n",
    "'22211231131122211311123113223112111311222112132113311213211221121332211211131'\n",
    "'22113121113222123211211131211121311121321123113213221121113122123211211131221'\n",
    "'12131112131221121321132132211231131122211311123113111213211221121322311211131'\n",
    "'22113322113111221131221\\n'"
   ]
  },
  {
   "cell_type": "markdown",
   "id": "c3cbbd00",
   "metadata": {},
   "source": [
    "## Starting digit: 2"
   ]
  },
  {
   "cell_type": "code",
   "execution_count": null,
   "id": "e0f0cb5d",
   "metadata": {},
   "outputs": [],
   "source": [
    "statements = 'from look_and_say import *; '\\\n",
    "             '[print(look_and_say(2, n)) for n in range(10)]'"
   ]
  },
  {
   "cell_type": "code",
   "execution_count": null,
   "id": "d6d0ec6c",
   "metadata": {},
   "outputs": [],
   "source": [
    "%%run_and_test python3 -c \"$statements\"\n",
    "\n",
    "'2\\n\n",
    "12\\n\n",
    "1112\\n\n",
    "3112\\n\n",
    "132112\\n\n",
    "1113122112\\n\n",
    "311311222112\\n\n",
    "13211321322112\\n\n",
    "1113122113121113222112\\n\n",
    "31131122211311123113322112\\n'"
   ]
  },
  {
   "cell_type": "code",
   "execution_count": null,
   "id": "fdd32673",
   "metadata": {},
   "outputs": [],
   "source": [
    "statements = 'from look_and_say import *; print(look_and_say(2, 20))'"
   ]
  },
  {
   "cell_type": "code",
   "execution_count": null,
   "id": "6d60275d",
   "metadata": {},
   "outputs": [],
   "source": [
    "%%run_and_test python3 -c \"$statements\"\n",
    "\n",
    "'11131221131211132221232112111312111213111213211231132132211211131221232112111'\n",
    "'31221121311121312211213211321322112311311222113311213212322211211131221131211'\n",
    "'22132112311321322112111312211312111322211213111213122112132113121113222112132'\n",
    "'11321322113311213212322211231131122211311123113223112111311222112132113311213'\n",
    "'21122112133221121113122113121113222123112221221321132132211231131122211331121'\n",
    "'32123222112111312211312111322212311322123123112111321322123122113222122211211'\n",
    "'23222112\\n'"
   ]
  },
  {
   "cell_type": "markdown",
   "id": "37c2f539",
   "metadata": {},
   "source": [
    "## Starting digit: 3"
   ]
  },
  {
   "cell_type": "code",
   "execution_count": null,
   "id": "eea7d778",
   "metadata": {},
   "outputs": [],
   "source": [
    "statements = 'from look_and_say import *; '\\\n",
    "             '[print(look_and_say(3, n)) for n in range(10)]'"
   ]
  },
  {
   "cell_type": "code",
   "execution_count": null,
   "id": "8797a96b",
   "metadata": {},
   "outputs": [],
   "source": [
    "%%run_and_test python3 -c \"$statements\"\n",
    "\n",
    "'3\\n\n",
    "13\\n\n",
    "1113\\n\n",
    "3113\\n\n",
    "132113\\n\n",
    "1113122113\\n\n",
    "311311222113\\n\n",
    "13211321322113\\n\n",
    "1113122113121113222113\\n\n",
    "31131122211311123113322113\\n'"
   ]
  },
  {
   "cell_type": "code",
   "execution_count": null,
   "id": "46285ac3",
   "metadata": {},
   "outputs": [],
   "source": [
    "statements = 'from look_and_say import *; print(look_and_say(3, 20))'"
   ]
  },
  {
   "cell_type": "code",
   "execution_count": null,
   "id": "84d2e0c4",
   "metadata": {
    "tags": []
   },
   "outputs": [],
   "source": [
    "%%run_and_test python3 -c \"$statements\"\n",
    "\n",
    "'11131221131211132221232112111312111213111213211231132132211211131221232112111'\n",
    "'31221121311121312211213211321322112311311222113311213212322211211131221131211'\n",
    "'22132112311321322112111312211312111322211213111213122112132113121113222112132'\n",
    "'11321322113311213212322211231131122211311123113223112111311222112132113311213'\n",
    "'21122112133221121113122113121113222123112221221321132132211231131122211331121'\n",
    "'32123222112111312211312111322212311322123123112111321322123122113222122211211'\n",
    "'23222113\\n'"
   ]
  }
 ],
 "metadata": {
  "kernelspec": {
   "display_name": "Python 3 (ipykernel)",
   "language": "python",
   "name": "python3"
  },
  "language_info": {
   "codemirror_mode": {
    "name": "ipython",
    "version": 3
   },
   "file_extension": ".py",
   "mimetype": "text/x-python",
   "name": "python",
   "nbconvert_exporter": "python",
   "pygments_lexer": "ipython3",
   "version": "3.10.2"
  },
  "latex_envs": {
   "LaTeX_envs_menu_present": true,
   "autoclose": false,
   "autocomplete": true,
   "bibliofile": "biblio.bib",
   "cite_by": "apalike",
   "current_citInitial": 1,
   "eqLabelWithNumbers": true,
   "eqNumInitial": 1,
   "hotkeys": {
    "equation": "Ctrl-E",
    "itemize": "Ctrl-I"
   },
   "labels_anchors": false,
   "latex_user_defs": false,
   "report_style_numbering": false,
   "user_envs_cfg": false
  },
  "toc": {
   "base_numbering": 1,
   "nav_menu": {},
   "number_sections": true,
   "sideBar": true,
   "skip_h1_title": false,
   "title_cell": "Table of Contents",
   "title_sidebar": "Contents",
   "toc_cell": false,
   "toc_position": {},
   "toc_section_display": true,
   "toc_window_display": false
  },
  "widgets": {
   "application/vnd.jupyter.widget-state+json": {
    "state": {},
    "version_major": 2,
    "version_minor": 0
   }
  }
 },
 "nbformat": 4,
 "nbformat_minor": 5
}
