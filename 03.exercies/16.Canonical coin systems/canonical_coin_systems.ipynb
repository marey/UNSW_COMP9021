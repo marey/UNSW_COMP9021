{
 "cells": [
  {
   "cell_type": "code",
   "execution_count": null,
   "metadata": {},
   "outputs": [],
   "source": [
    "load_ext run_and_test"
   ]
  },
  {
   "cell_type": "markdown",
   "metadata": {},
   "source": [
    "# Background"
   ]
  },
  {
   "cell_type": "markdown",
   "metadata": {},
   "source": [
    "A _canonical_ coin system is a set of face values such that for any amount $n$, finding the minimum number of coins that add up to $n$, assuming that there is an unlimited supply of coins of each value, can be computed with a _greedy_ algorithm.\n",
    "\n",
    "1, 2, 5, 10, 20, 50, 100 is an example of a canonical coin system.\n",
    "\n",
    "Taking $\\$714$ as an example:\n",
    "\n",
    "* we can fit seven $\\$100$ coins into $\\$714$, but no more; that reduces the amount to $\\$14$;\n",
    "* we cannot fit any $\\$50$ coin into $\\$14$;\n",
    "* we cannot fit any $\\$20$ coin into $\\$14$;\n",
    "* we can fit one $\\$10$ coin into $\\$14$, but no more; that reduces the amount to $\\$4$;\n",
    "* we cannot fit any $\\$5$ coin into $\\$4$;\n",
    "* we can fit two $\\$2$ coins into $\\$4$, but no more; that reduces the amount to $\\$0$.\n",
    "\n",
    "Altogether, one needs seven $\\$100$ coins, one $\\$10$ coin, and two $\\$2$ coins.\n",
    "\n",
    "For an example of a noncanonical coin system, consider 1, 20, 50. The greedy algorithm would decompose $\\$60$ as one $\\$50$ coin plus ten $\\$1$ coins, whereas the minimal number of coins that add up to $\\$60$ is 3, in the form of three $\\$20$ coins."
   ]
  },
  {
   "cell_type": "markdown",
   "metadata": {},
   "source": [
    "# Task"
   ]
  },
  {
   "cell_type": "markdown",
   "metadata": {},
   "source": [
    "Write a program `canonical_coin_systems.py` that prompts the user for an amount, meant to be a natural number $n$, and outputs the minimum number of coins of values 1, 2, 5, 10, 20, 50 and 100 needed to add up to $n$. In case at least 2 coins are needed, the output indicates the details of which coin values are used, and for each of those values, how many coins. Each value is displayed on its own line, preceded with a dollar sign, right aligned in a field of width 8."
   ]
  },
  {
   "cell_type": "markdown",
   "metadata": {},
   "source": [
    "# Tests"
   ]
  },
  {
   "cell_type": "markdown",
   "metadata": {},
   "source": [
    "## Change for $0"
   ]
  },
  {
   "cell_type": "code",
   "execution_count": null,
   "metadata": {},
   "outputs": [],
   "source": [
    "%%run_and_test -i'0\\n' python3 canonical_coin_systems.py\n",
    "\n",
    "'Input the amount: ', '0\\n',\n",
    "'\\n\n",
    "No coin is needed.\\n'"
   ]
  },
  {
   "cell_type": "markdown",
   "metadata": {},
   "source": [
    "## Change for $10"
   ]
  },
  {
   "cell_type": "code",
   "execution_count": null,
   "metadata": {},
   "outputs": [],
   "source": [
    "%%run_and_test -i'10\\n' python3 canonical_coin_systems.py\n",
    "\n",
    "'Input the amount: ', '10\\n',\n",
    "'\\n\n",
    "One coin of value $10 is needed.\\n'"
   ]
  },
  {
   "cell_type": "markdown",
   "metadata": {},
   "source": [
    "## Change for $1000"
   ]
  },
  {
   "cell_type": "code",
   "execution_count": null,
   "metadata": {},
   "outputs": [],
   "source": [
    "%%run_and_test -i'1000\\n' python3 canonical_coin_systems.py\n",
    "\n",
    "'Input the amount: ', '1000\\n',\n",
    "'\\n\n",
    "10 coins are needed. The detail is:\\n\n",
    "    $100: 10\\n'"
   ]
  },
  {
   "cell_type": "markdown",
   "metadata": {},
   "source": [
    "## Change for $714"
   ]
  },
  {
   "cell_type": "code",
   "execution_count": null,
   "metadata": {},
   "outputs": [],
   "source": [
    "%%run_and_test -i'714\\n' python3 canonical_coin_systems.py\n",
    "\n",
    "'Input the amount: ', '714\\n',\n",
    "'\\n\n",
    "10 coins are needed. The detail is:\\n\n",
    "    $100: 7\\n\n",
    "     $10: 1\\n\n",
    "      $2: 2\\n'"
   ]
  },
  {
   "cell_type": "markdown",
   "metadata": {},
   "source": [
    "## Change for $739"
   ]
  },
  {
   "cell_type": "code",
   "execution_count": null,
   "metadata": {},
   "outputs": [],
   "source": [
    "%%run_and_test -i'739\\n' python3 canonical_coin_systems.py\n",
    "\n",
    "'Input the amount: ', '739\\n',\n",
    "'\\n\n",
    "12 coins are needed. The detail is:\\n\n",
    "    $100: 7\\n\n",
    "     $20: 1\\n\n",
    "     $10: 1\\n\n",
    "      $5: 1\\n\n",
    "      $2: 2\\n'"
   ]
  },
  {
   "cell_type": "markdown",
   "metadata": {},
   "source": [
    "## Change for $35,642"
   ]
  },
  {
   "cell_type": "code",
   "execution_count": null,
   "metadata": {},
   "outputs": [],
   "source": [
    "%%run_and_test -i'35_642\\n' python3 canonical_coin_systems.py\n",
    "\n",
    "'Input the amount: ', '35_642\\n',\n",
    "'\\n\n",
    "359 coins are needed. The detail is:\\n\n",
    "    $100: 356\\n\n",
    "     $20: 2\\n\n",
    "      $2: 1\\n'"
   ]
  }
 ],
 "metadata": {
  "kernelspec": {
   "display_name": "Python 3 (ipykernel)",
   "language": "python",
   "name": "python3"
  },
  "language_info": {
   "codemirror_mode": {
    "name": "ipython",
    "version": 3
   },
   "file_extension": ".py",
   "mimetype": "text/x-python",
   "name": "python",
   "nbconvert_exporter": "python",
   "pygments_lexer": "ipython3",
   "version": "3.10.4"
  },
  "latex_envs": {
   "LaTeX_envs_menu_present": true,
   "autoclose": false,
   "autocomplete": true,
   "bibliofile": "biblio.bib",
   "cite_by": "apalike",
   "current_citInitial": 1,
   "eqLabelWithNumbers": true,
   "eqNumInitial": 1,
   "hotkeys": {
    "equation": "Ctrl-E",
    "itemize": "Ctrl-I"
   },
   "labels_anchors": false,
   "latex_user_defs": false,
   "report_style_numbering": false,
   "user_envs_cfg": false
  },
  "toc": {
   "base_numbering": 1,
   "nav_menu": {},
   "number_sections": true,
   "sideBar": true,
   "skip_h1_title": false,
   "title_cell": "Table of Contents",
   "title_sidebar": "Contents",
   "toc_cell": false,
   "toc_position": {},
   "toc_section_display": true,
   "toc_window_display": false
  },
  "widgets": {
   "application/vnd.jupyter.widget-state+json": {
    "state": {},
    "version_major": 2,
    "version_minor": 0
   }
  }
 },
 "nbformat": 4,
 "nbformat_minor": 4
}
