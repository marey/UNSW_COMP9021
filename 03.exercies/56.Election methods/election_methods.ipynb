{
 "cells": [
  {
   "cell_type": "code",
   "execution_count": null,
   "metadata": {},
   "outputs": [],
   "source": [
    "load_ext run_and_test"
   ]
  },
  {
   "cell_type": "code",
   "execution_count": null,
   "metadata": {},
   "outputs": [],
   "source": [
    "import pandas as pd"
   ]
  },
  {
   "cell_type": "markdown",
   "metadata": {},
   "source": [
    "# Background"
   ]
  },
  {
   "cell_type": "markdown",
   "metadata": {},
   "source": [
    "For illustration purposes, we take the example of an election with 5 candidates, resulting in 6 different rankings, each with its own tally.\n",
    "\n",
    "| Number of votes | Albert | Emily | Oscar | Maria | Max |\n",
    "| --------------- | ------ | ----- | ----- | ----- | --- |\n",
    "|      3273\t      |   1\t   |   5   |   4   |   2   |  3  |\n",
    "|      2182       |\t  5    |   1   |   4   |   3   |  2  |\n",
    "|      1818       |\t  5    |   2   |   1   |   4   |  3  |\n",
    "|      1636       |\t  5    |   4   |   2   |   1   |  3  |\n",
    "|      727        |   5    |   2   |   4   |   3   |  1  |\n",
    "|      364\t      |   5    |   4   |   2   |   3   |  1  |"
   ]
  },
  {
   "cell_type": "markdown",
   "metadata": {},
   "source": [
    "## The one round election method"
   ]
  },
  {
   "cell_type": "markdown",
   "metadata": {},
   "source": [
    "The winners of this type of election are the candidates who receive the largest number of votes as ranked 1 candidates.\n",
    "\n",
    "With our example, the number of votes received as ranked 1 candidate are:\n",
    "\n",
    "* $3273$ for Albert\n",
    "* $2182$ for Emily\n",
    "* $1818$ for Oscar\n",
    "* $1636$ for Maria\n",
    "* $727+364=1091$ for Max\n",
    "\n",
    "Hence there is a unique winner, namely, Albert."
   ]
  },
  {
   "cell_type": "markdown",
   "metadata": {},
   "source": [
    "## The two round election method"
   ]
  },
  {
   "cell_type": "markdown",
   "metadata": {},
   "source": [
    "First, the at least 2 candidates who receive the largest number of votes as ranked 1 candidates are selected (so either all of them receive the same number of votes, or one receives more votes than all others who receive the same number of votes). Each of the selected candidates then obtains the votes for each ranking in which he ranks better than all other selected candidates. The winners are the candidates who get the largest number of those votes.\n",
    "\n",
    "With our example, the selected candidates are Albert and Emily. The number of votes that they obtain is then:\n",
    "\n",
    "* $2182+1818+1636+727+364=6727$ for Emily.\n",
    "* $3273$ for Albert\n",
    "\n",
    "Hence there is a unique winner, namely, Emily."
   ]
  },
  {
   "cell_type": "markdown",
   "metadata": {},
   "source": [
    "## The elimination election method"
   ]
  },
  {
   "cell_type": "markdown",
   "metadata": {},
   "source": [
    "The candidates that receive the smallest number of votes as ranked 1 candidates are eliminated, unless all candidates receive the same number of votes in which case they are all winners. Otherwise, for a given ordering, the candidates who remain and were ranked after an eliminated candidate see their ranking go up so that the ordering is preserved and rankings range from 1 up to the number of candidates that remain. The process is repeated until there is only one candidate left or all candidates that remain get the same number of votes as preferred candidates.\n",
    "\n",
    "With our example, Max is eliminated and the rankings of the candidates that remain are changed to:\n",
    "\n",
    "| Number of votes | Albert | Emily | Oscar | Maria |\n",
    "| --------------- | ------ | ----- | ----- | ----- |\n",
    "|      3273\t      |   1\t   |   4   |   3   |   2   |\n",
    "|      2182       |\t  4    |   1   |   3   |   2   |\n",
    "|      1818       |\t  4    |   2   |   1   |   3   |\n",
    "|      1636       |\t  4    |   3   |   2   |   1   |\n",
    "|      727        |   4    |   1   |   3   |   2   |\n",
    "|      364\t      |   4    |   3   |   1   |   2   |\n",
    "\n",
    "The number of votes obtained as updated ranked 1 candidates are:\n",
    "\n",
    "* $3273$ for Albert\n",
    "* $2182+727=2909$ for Emily\n",
    "* $1818+364=2182$ for Oscar\n",
    "* $1636$ for Maria\n",
    "\n",
    "Maria is eliminated and the rankings of the candidates that remain are changed to:\n",
    "\n",
    "| Number of votes | Albert | Emily | Oscar |\n",
    "| --------------- | ------ | ----- | ----- |\n",
    "|      3273\t      |   1\t   |   3   |   2   |\n",
    "|      2182       |\t  3    |   1   |   2   |\n",
    "|      1818       |\t  3    |   2   |   1   |\n",
    "|      1636       |\t  3    |   2   |   1   |\n",
    "|      727        |   3    |   1   |   2   |\n",
    "|      364\t      |   3    |   2   |   1   |\n",
    "\n",
    "The number of votes obtained as updated ranked 1 candidates are:\n",
    "\n",
    "* $1818+1636+364=3818$ for Oscar\n",
    "* $3273$ for Albert\n",
    "* $2182+727=2909$ for Emily\n",
    "\n",
    "Emily is eliminated and the rankings of the candidates that remain are changed to:\n",
    "\n",
    "| Number of votes | Albert | Oscar |\n",
    "| --------------- | ------ | ----- |\n",
    "|      3273\t      |   1\t   |   2   |\n",
    "|      2182       |\t  2    |   1   |\n",
    "|      1818       |\t  2    |   1   |\n",
    "|      1636       |\t  2    |   1   |\n",
    "|      727        |   2    |   1   |\n",
    "|      364\t      |   2    |   1   |\n",
    "\n",
    "\n",
    "The number of votes obtained as updated ranked 1 candidates are:\n",
    "\n",
    "* $2182+1818+1636+727+364=6727$ for Oscar\n",
    "* $3273$ for Albert\n",
    "\n",
    "Hence there is a unique winner, namely, Oscar."
   ]
  },
  {
   "cell_type": "markdown",
   "metadata": {},
   "source": [
    "## The de Borda election method"
   ]
  },
  {
   "cell_type": "markdown",
   "metadata": {},
   "source": [
    "Each candidate obtains a score equal to the sum over all rankings of the ranking tally multiplied by the number of candidates plus 1 minus the rank of the candidate in the ranking. The candidates who obtain the largest score are the winners.\n",
    "\n",
    "With our example, the scores are:\n",
    "\n",
    "* $3273(6-2)+2182(6-3)+1818(6-4)+1636(6-1)+727(6-3)+364(6-3)=34727$ for Maria\n",
    "* $3273(6-3)+2182(6-2)+1818(6-3)+1636(6-3)+727(6-1)+364(6-1)=34364$ for Max\n",
    "* $3273(6-4)+2182(6-4)+1818(6-1)+1636(6-2)+727(6-4)+364(6-2)=29454$ for Oscar\n",
    "* $3273(6-5)+2182(6-1)+1818(6-2)+1636(6-4)+727(6-2)+364(6-4)=28363$ for Emily\n",
    "* $3273(6-1)+2182(6-5)+1818(6-5)+1636(6-5)+727(6-5)+364(6-5)=23092$ for Albert\n",
    "\n",
    "Hence there is a unique winner, namely, Maria."
   ]
  },
  {
   "cell_type": "markdown",
   "metadata": {},
   "source": [
    "## The de Condorcet election method"
   ]
  },
  {
   "cell_type": "markdown",
   "metadata": {},
   "source": [
    "Given two candidates $C$ and $C'$, say that $C$ wins over $C'$ if the following holds: $C$ obtains a number of votes in all rankings where he ranks before $C'$ larger than the number of votes obtained by $C'$ in all rankings where $C'$ ranks before $C$. There might be no candidate who wins over all other candidates. If there is one, then he is unique, and he is the election winner.\n",
    "\n",
    "With our example, there is a winner, namely, Max. Indeed:\n",
    "\n",
    "* Against Albert, Max obtains $2182+1818+1636+727+364=6727$ votes whereas Albert obtains $3273$ votes.\n",
    "* Against Emily, Max obtains $3273+1636+727+364=6000$ votes whereas Emily obtains $2182+1818=4000$ votes.\n",
    "* Against Oscar, Max obtains $3273+2182+727+364=6546$ votes whereas Oscar obtains $1818+1636=3454$ votes.\n",
    "* Against Maria, Max obtains $2182+1818+727+364=5091$ votes whereas Maria obtains $3273+1636=4909$ votes."
   ]
  },
  {
   "cell_type": "markdown",
   "metadata": {},
   "source": [
    "# Task"
   ]
  },
  {
   "cell_type": "markdown",
   "metadata": {},
   "source": [
    "Write a program `election_methods.py` that implements a class named `Election` with the following methods (and possibly others):\n",
    "\n",
    "* `__init__(self, filename)`, that takes as second argument the name of an Excel file, meant to be stored in the working directory, whose contents is subjected to the following constraints.\n",
    "    * It has only one sheet, with at least 3 rows and at least 2 columns.\n",
    "    * In the first row, only the first cell is nonempty, containing the string 'Election results'.\n",
    "    * The first cell of the second row contains the string 'Number of votes'.\n",
    "    * All other cells of the second row contain distinct capitalised strings.\n",
    "    * The first cells of all other rows contain strictly positive integers.\n",
    "    * From the third row onwards, the cells in each row, the first one excepted, contain the integers from 1 up to the number of columns minus 1.\n",
    "\n",
    "  In case these conditions are not meant, `__init__()` raises an exception of type `ElectionError` with an appropriate error message.\n",
    "* `__str__(self)` that returns a string for a default display of the elective results in the form of:\n",
    "    * a first line that starts with 'Number of votes', followed by the candidate names, sorted in lexicographic order and centered in a field width of common value the number of letters of the longest candidate name, with 2 spaces as separators;\n",
    "    * lines that display the tallies and rankings, centered in their respective columns.\n",
    "* `one_round_winners(self)`\n",
    "* `two_round_winners(self)`\n",
    "* `elimination_winners(self)`\n",
    "* `de_borda_winners(self)`\n",
    "* `de_condorcet_winner(self)`\n",
    "\n",
    "  that display one of\n",
    "  * There is no winner.\n",
    "  * All candidates are winners.\n",
    "  * The winner is ---.\n",
    "  * The winners are ---, ... --- and ---.\n",
    "  \n",
    "  for the corresponding election method (with the winners enumerated in lexicographic order in the last case).\n",
    "  \n",
    "`openpyxl` is a possible module to conveniently process the data stored in an Excel file."
   ]
  },
  {
   "cell_type": "markdown",
   "metadata": {},
   "source": [
    "# Tests"
   ]
  },
  {
   "cell_type": "markdown",
   "metadata": {},
   "source": [
    "## First spreadsheet"
   ]
  },
  {
   "cell_type": "code",
   "execution_count": null,
   "metadata": {
    "tags": []
   },
   "outputs": [],
   "source": [
    "pd.read_excel('election_1.xlsx', engine='openpyxl')"
   ]
  },
  {
   "cell_type": "markdown",
   "metadata": {},
   "source": [
    "### Displaying the election results for the first spreadsheet"
   ]
  },
  {
   "cell_type": "code",
   "execution_count": null,
   "metadata": {},
   "outputs": [],
   "source": [
    "statements = 'from election_methods import *; '\\\n",
    "             'print(Election(\"election_1.xlsx\"))'"
   ]
  },
  {
   "cell_type": "code",
   "execution_count": null,
   "metadata": {},
   "outputs": [],
   "source": [
    "%%run_and_test python3 -c \"$statements\"\n",
    "\n",
    "'''\n",
    "Number of votes  Albert  Emily   Maria    Max    Oscar \\n\n",
    "     3273          1       5       2       3       4   \\n\n",
    "     2182          5       1       3       2       4   \\n\n",
    "     1818          5       2       4       3       1   \\n\n",
    "     1636          5       4       1       3       2   \\n\n",
    "      727          5       2       3       1       4   \\n\n",
    "      364          5       4       3       1       2   \\n\n",
    "'''"
   ]
  },
  {
   "cell_type": "markdown",
   "metadata": {},
   "source": [
    "### One round method for the first spreadsheet"
   ]
  },
  {
   "cell_type": "code",
   "execution_count": null,
   "metadata": {},
   "outputs": [],
   "source": [
    "statements = 'from election_methods import *; '\\\n",
    "             'Election(\"election_1.xlsx\").one_round_winners()'"
   ]
  },
  {
   "cell_type": "code",
   "execution_count": null,
   "metadata": {},
   "outputs": [],
   "source": [
    "%%run_and_test python3 -c \"$statements\"\n",
    "\n",
    "'The winner is Albert.\\n'"
   ]
  },
  {
   "cell_type": "markdown",
   "metadata": {},
   "source": [
    "### Two round method for the first spreadsheet"
   ]
  },
  {
   "cell_type": "code",
   "execution_count": null,
   "metadata": {},
   "outputs": [],
   "source": [
    "statements = 'from election_methods import *; '\\\n",
    "             'Election(\"election_1.xlsx\").two_round_winners()'"
   ]
  },
  {
   "cell_type": "code",
   "execution_count": null,
   "metadata": {},
   "outputs": [],
   "source": [
    "%%run_and_test python3 -c \"$statements\"\n",
    "\n",
    "'The winner is Emily.\\n'"
   ]
  },
  {
   "cell_type": "markdown",
   "metadata": {},
   "source": [
    "### Elimination method for the first spreadsheet"
   ]
  },
  {
   "cell_type": "code",
   "execution_count": null,
   "metadata": {},
   "outputs": [],
   "source": [
    "statements = 'from election_methods import *; '\\\n",
    "             'Election(\"election_1.xlsx\").elimination_winners()'"
   ]
  },
  {
   "cell_type": "code",
   "execution_count": null,
   "metadata": {},
   "outputs": [],
   "source": [
    "%%run_and_test python3 -c \"$statements\"\n",
    "\n",
    "'The winner is Oscar.\\n'"
   ]
  },
  {
   "cell_type": "markdown",
   "metadata": {},
   "source": [
    "### De Borda method for the first spreadsheet"
   ]
  },
  {
   "cell_type": "code",
   "execution_count": null,
   "metadata": {},
   "outputs": [],
   "source": [
    "statements = 'from election_methods import *; '\\\n",
    "             'Election(\"election_1.xlsx\").de_borda_winners()'"
   ]
  },
  {
   "cell_type": "code",
   "execution_count": null,
   "metadata": {},
   "outputs": [],
   "source": [
    "%%run_and_test python3 -c \"$statements\"\n",
    "\n",
    "'The winner is Maria.\\n'"
   ]
  },
  {
   "cell_type": "markdown",
   "metadata": {},
   "source": [
    "### De Condorcet method for the first spreadsheet"
   ]
  },
  {
   "cell_type": "code",
   "execution_count": null,
   "metadata": {},
   "outputs": [],
   "source": [
    "statements = 'from election_methods import *; '\\\n",
    "             'Election(\"election_1.xlsx\").de_condorcet_winner()'"
   ]
  },
  {
   "cell_type": "code",
   "execution_count": null,
   "metadata": {},
   "outputs": [],
   "source": [
    "%%run_and_test python3 -c \"$statements\"\n",
    "\n",
    "'The winner is Max.\\n'"
   ]
  },
  {
   "cell_type": "markdown",
   "metadata": {},
   "source": [
    "## Second spreadsheet"
   ]
  },
  {
   "cell_type": "code",
   "execution_count": null,
   "metadata": {
    "tags": []
   },
   "outputs": [],
   "source": [
    "pd.read_excel('election_2.xlsx', engine='openpyxl')"
   ]
  },
  {
   "cell_type": "markdown",
   "metadata": {},
   "source": [
    "### One round method for the second spreadsheet"
   ]
  },
  {
   "cell_type": "code",
   "execution_count": null,
   "metadata": {},
   "outputs": [],
   "source": [
    "statements = 'from election_methods import *; '\\\n",
    "             'Election(\"election_2.xlsx\").one_round_winners()'"
   ]
  },
  {
   "cell_type": "code",
   "execution_count": null,
   "metadata": {},
   "outputs": [],
   "source": [
    "%%run_and_test python3 -c \"$statements\"\n",
    "\n",
    "'The winner is Albert.\\n'"
   ]
  },
  {
   "cell_type": "markdown",
   "metadata": {},
   "source": [
    "### Two round method for the second spreadsheet"
   ]
  },
  {
   "cell_type": "code",
   "execution_count": null,
   "metadata": {},
   "outputs": [],
   "source": [
    "statements = 'from election_methods import *; '\\\n",
    "             'Election(\"election_2.xlsx\").two_round_winners()'"
   ]
  },
  {
   "cell_type": "code",
   "execution_count": null,
   "metadata": {},
   "outputs": [],
   "source": [
    "%%run_and_test python3 -c \"$statements\"\n",
    "\n",
    "'The winner is Albert.\\n'"
   ]
  },
  {
   "cell_type": "markdown",
   "metadata": {},
   "source": [
    "### Elimination method for the second spreadsheet"
   ]
  },
  {
   "cell_type": "code",
   "execution_count": null,
   "metadata": {},
   "outputs": [],
   "source": [
    "statements = 'from election_methods import *; '\\\n",
    "             'Election(\"election_2.xlsx\").elimination_winners()'"
   ]
  },
  {
   "cell_type": "code",
   "execution_count": null,
   "metadata": {},
   "outputs": [],
   "source": [
    "%%run_and_test python3 -c \"$statements\"\n",
    "\n",
    "'The winner is Albert.\\n'"
   ]
  },
  {
   "cell_type": "markdown",
   "metadata": {},
   "source": [
    "### De Borda method for the second spreadsheet"
   ]
  },
  {
   "cell_type": "code",
   "execution_count": null,
   "metadata": {},
   "outputs": [],
   "source": [
    "statements = 'from election_methods import *; '\\\n",
    "             'Election(\"election_2.xlsx\").de_borda_winners()'"
   ]
  },
  {
   "cell_type": "code",
   "execution_count": null,
   "metadata": {
    "run_control": {
     "marked": false
    }
   },
   "outputs": [],
   "source": [
    "%%run_and_test python3 -c \"$statements\"\n",
    "\n",
    "'The winner is Albert.\\n'"
   ]
  },
  {
   "cell_type": "markdown",
   "metadata": {},
   "source": [
    "### De Condorcet method for the second spreadsheet"
   ]
  },
  {
   "cell_type": "code",
   "execution_count": null,
   "metadata": {},
   "outputs": [],
   "source": [
    "statements = 'from election_methods import *; '\\\n",
    "             'Election(\"election_2.xlsx\").de_condorcet_winner()'"
   ]
  },
  {
   "cell_type": "code",
   "execution_count": null,
   "metadata": {
    "tags": []
   },
   "outputs": [],
   "source": [
    "%%run_and_test python3 -c \"$statements\"\n",
    "\n",
    "'The winner is Albert.\\n'"
   ]
  },
  {
   "cell_type": "markdown",
   "metadata": {},
   "source": [
    "## The third spreadsheet"
   ]
  },
  {
   "cell_type": "code",
   "execution_count": null,
   "metadata": {
    "tags": []
   },
   "outputs": [],
   "source": [
    "pd.read_excel('election_3.xlsx', engine='openpyxl')"
   ]
  },
  {
   "cell_type": "markdown",
   "metadata": {},
   "source": [
    "### One round method for the third spreadsheet"
   ]
  },
  {
   "cell_type": "code",
   "execution_count": null,
   "metadata": {},
   "outputs": [],
   "source": [
    "statements = 'from election_methods import *; '\\\n",
    "             'Election(\"election_3.xlsx\").one_round_winners()'"
   ]
  },
  {
   "cell_type": "code",
   "execution_count": null,
   "metadata": {},
   "outputs": [],
   "source": [
    "%%run_and_test python3 -c \"$statements\"\n",
    "\n",
    "'The winners are Albert and Emily.\\n'"
   ]
  },
  {
   "cell_type": "markdown",
   "metadata": {},
   "source": [
    "### Two round method for the third spreadsheet"
   ]
  },
  {
   "cell_type": "code",
   "execution_count": null,
   "metadata": {},
   "outputs": [],
   "source": [
    "statements = 'from election_methods import *; '\\\n",
    "             'Election(\"election_3.xlsx\").two_round_winners()'"
   ]
  },
  {
   "cell_type": "code",
   "execution_count": null,
   "metadata": {},
   "outputs": [],
   "source": [
    "%%run_and_test python3 -c \"$statements\"\n",
    "\n",
    "'The winners are Albert and Emily.\\n'"
   ]
  },
  {
   "cell_type": "markdown",
   "metadata": {},
   "source": [
    "### Elimination method for the third spreadsheet"
   ]
  },
  {
   "cell_type": "code",
   "execution_count": null,
   "metadata": {},
   "outputs": [],
   "source": [
    "statements = 'from election_methods import *; '\\\n",
    "             'Election(\"election_3.xlsx\").elimination_winners()'"
   ]
  },
  {
   "cell_type": "code",
   "execution_count": null,
   "metadata": {},
   "outputs": [],
   "source": [
    "%%run_and_test python3 -c \"$statements\"\n",
    "\n",
    "'The winners are Albert and Emily.\\n'"
   ]
  },
  {
   "cell_type": "markdown",
   "metadata": {},
   "source": [
    "### De Borda method for the third spreadsheet"
   ]
  },
  {
   "cell_type": "code",
   "execution_count": null,
   "metadata": {},
   "outputs": [],
   "source": [
    "statements = 'from election_methods import *; '\\\n",
    "             'Election(\"election_3.xlsx\").de_borda_winners()'"
   ]
  },
  {
   "cell_type": "code",
   "execution_count": null,
   "metadata": {},
   "outputs": [],
   "source": [
    "%%run_and_test python3 -c \"$statements\"\n",
    "\n",
    "'The winners are Albert and Emily.\\n'"
   ]
  },
  {
   "cell_type": "markdown",
   "metadata": {},
   "source": [
    "### De Condorcet method for the third spreadsheet"
   ]
  },
  {
   "cell_type": "code",
   "execution_count": null,
   "metadata": {},
   "outputs": [],
   "source": [
    "statements = 'from election_methods import *; '\\\n",
    "             'Election(\"election_3.xlsx\").de_condorcet_winner()'"
   ]
  },
  {
   "cell_type": "code",
   "execution_count": null,
   "metadata": {
    "tags": []
   },
   "outputs": [],
   "source": [
    "%%run_and_test python3 -c \"$statements\"\n",
    "\n",
    "'There is no winner.\\n'"
   ]
  },
  {
   "cell_type": "markdown",
   "metadata": {},
   "source": [
    "## The fourth spreadsheet"
   ]
  },
  {
   "cell_type": "code",
   "execution_count": null,
   "metadata": {},
   "outputs": [],
   "source": [
    "pd.read_excel('election_4.xlsx', engine='openpyxl')"
   ]
  },
  {
   "cell_type": "markdown",
   "metadata": {},
   "source": [
    "### One round method for the fourth spreadsheet"
   ]
  },
  {
   "cell_type": "code",
   "execution_count": null,
   "metadata": {},
   "outputs": [],
   "source": [
    "statements = 'from election_methods import *; '\\\n",
    "             'Election(\"election_4.xlsx\").one_round_winners()'"
   ]
  },
  {
   "cell_type": "code",
   "execution_count": null,
   "metadata": {},
   "outputs": [],
   "source": [
    "%%run_and_test python3 -c \"$statements\"\n",
    "\n",
    "'The winners are Albert, Emily and Oscar.\\n'"
   ]
  },
  {
   "cell_type": "markdown",
   "metadata": {},
   "source": [
    "### Two round method for the fourth spreadsheet"
   ]
  },
  {
   "cell_type": "code",
   "execution_count": null,
   "metadata": {},
   "outputs": [],
   "source": [
    "statements = 'from election_methods import *; '\\\n",
    "             'Election(\"election_4.xlsx\").two_round_winners()'"
   ]
  },
  {
   "cell_type": "code",
   "execution_count": null,
   "metadata": {},
   "outputs": [],
   "source": [
    "%%run_and_test python3 -c \"$statements\"\n",
    "\n",
    "'The winners are Albert, Emily and Oscar.\\n'"
   ]
  },
  {
   "cell_type": "markdown",
   "metadata": {},
   "source": [
    "### Elimination method for the fourth spreadsheet"
   ]
  },
  {
   "cell_type": "code",
   "execution_count": null,
   "metadata": {},
   "outputs": [],
   "source": [
    "statements = 'from election_methods import *; '\\\n",
    "             'Election(\"election_4.xlsx\").elimination_winners()'"
   ]
  },
  {
   "cell_type": "code",
   "execution_count": null,
   "metadata": {},
   "outputs": [],
   "source": [
    "%%run_and_test python3 -c \"$statements\"\n",
    "\n",
    "'The winners are Albert, Emily and Oscar.\\n'"
   ]
  },
  {
   "cell_type": "markdown",
   "metadata": {},
   "source": [
    "### De Borda method for the fourth spreadsheet"
   ]
  },
  {
   "cell_type": "code",
   "execution_count": null,
   "metadata": {},
   "outputs": [],
   "source": [
    "statements = 'from election_methods import *; '\\\n",
    "             'Election(\"election_4.xlsx\").de_borda_winners()'"
   ]
  },
  {
   "cell_type": "code",
   "execution_count": null,
   "metadata": {},
   "outputs": [],
   "source": [
    "%%run_and_test python3 -c \"$statements\"\n",
    "\n",
    "'The winners are Albert, Emily and Oscar.\\n'"
   ]
  },
  {
   "cell_type": "markdown",
   "metadata": {},
   "source": [
    "### De Condorcet method for the fourth spreadsheet"
   ]
  },
  {
   "cell_type": "code",
   "execution_count": null,
   "metadata": {},
   "outputs": [],
   "source": [
    "statements = 'from election_methods import *; '\\\n",
    "             'Election(\"election_4.xlsx\").de_condorcet_winner()'"
   ]
  },
  {
   "cell_type": "code",
   "execution_count": null,
   "metadata": {},
   "outputs": [],
   "source": [
    "%%run_and_test python3 -c \"$statements\"\n",
    "\n",
    "'There is no winner.\\n'"
   ]
  },
  {
   "cell_type": "markdown",
   "metadata": {},
   "source": [
    "## The fifth spreadsheet"
   ]
  },
  {
   "cell_type": "code",
   "execution_count": null,
   "metadata": {
    "tags": []
   },
   "outputs": [],
   "source": [
    "pd.read_excel('election_5.xlsx', engine='openpyxl')"
   ]
  },
  {
   "cell_type": "markdown",
   "metadata": {},
   "source": [
    "### One round method for the fifth spreadsheet"
   ]
  },
  {
   "cell_type": "code",
   "execution_count": null,
   "metadata": {},
   "outputs": [],
   "source": [
    "statements = 'from election_methods import *; '\\\n",
    "             'Election(\"election_5.xlsx\").one_round_winners()'"
   ]
  },
  {
   "cell_type": "code",
   "execution_count": null,
   "metadata": {},
   "outputs": [],
   "source": [
    "%%run_and_test python3 -c \"$statements\"\n",
    "\n",
    "'The winners are Albert and Emily.\\n'"
   ]
  },
  {
   "cell_type": "markdown",
   "metadata": {},
   "source": [
    "### Two round method for the fifth spreadsheet"
   ]
  },
  {
   "cell_type": "code",
   "execution_count": null,
   "metadata": {},
   "outputs": [],
   "source": [
    "statements = 'from election_methods import *; '\\\n",
    "             'Election(\"election_5.xlsx\").two_round_winners()'"
   ]
  },
  {
   "cell_type": "code",
   "execution_count": null,
   "metadata": {},
   "outputs": [],
   "source": [
    "%%run_and_test python3 -c \"$statements\"\n",
    "\n",
    "'The winners are Albert and Emily.\\n'"
   ]
  },
  {
   "cell_type": "markdown",
   "metadata": {},
   "source": [
    "### Elimination method for the fifth spreadsheet"
   ]
  },
  {
   "cell_type": "code",
   "execution_count": null,
   "metadata": {},
   "outputs": [],
   "source": [
    "statements = 'from election_methods import *; '\\\n",
    "             'Election(\"election_5.xlsx\").elimination_winners()'"
   ]
  },
  {
   "cell_type": "code",
   "execution_count": null,
   "metadata": {},
   "outputs": [],
   "source": [
    "%%run_and_test python3 -c \"$statements\"\n",
    "\n",
    "'The winners are Albert and Emily.\\n'"
   ]
  },
  {
   "cell_type": "markdown",
   "metadata": {},
   "source": [
    "### De Borda method for the fifth spreadsheet"
   ]
  },
  {
   "cell_type": "code",
   "execution_count": null,
   "metadata": {},
   "outputs": [],
   "source": [
    "statements = 'from election_methods import *; '\\\n",
    "             'Election(\"election_5.xlsx\").de_borda_winners()'"
   ]
  },
  {
   "cell_type": "code",
   "execution_count": null,
   "metadata": {},
   "outputs": [],
   "source": [
    "%%run_and_test python3 -c \"$statements\"\n",
    "\n",
    "'The winners are Albert and Emily.\\n'"
   ]
  },
  {
   "cell_type": "markdown",
   "metadata": {},
   "source": [
    "### De Condorcet method for the fifth spreadsheet"
   ]
  },
  {
   "cell_type": "code",
   "execution_count": null,
   "metadata": {},
   "outputs": [],
   "source": [
    "statements = 'from election_methods import *; '\\\n",
    "             'Election(\"election_5.xlsx\").de_condorcet_winner()'"
   ]
  },
  {
   "cell_type": "code",
   "execution_count": null,
   "metadata": {},
   "outputs": [],
   "source": [
    "%%run_and_test python3 -c \"$statements\"\n",
    "\n",
    "'There is no winner.\\n'"
   ]
  }
 ],
 "metadata": {
  "kernelspec": {
   "display_name": "Python 3 (ipykernel)",
   "language": "python",
   "name": "python3"
  },
  "language_info": {
   "codemirror_mode": {
    "name": "ipython",
    "version": 3
   },
   "file_extension": ".py",
   "mimetype": "text/x-python",
   "name": "python",
   "nbconvert_exporter": "python",
   "pygments_lexer": "ipython3",
   "version": "3.10.2"
  },
  "latex_envs": {
   "LaTeX_envs_menu_present": true,
   "autoclose": false,
   "autocomplete": true,
   "bibliofile": "biblio.bib",
   "cite_by": "apalike",
   "current_citInitial": 1,
   "eqLabelWithNumbers": true,
   "eqNumInitial": 1,
   "hotkeys": {
    "equation": "Ctrl-E",
    "itemize": "Ctrl-I"
   },
   "labels_anchors": false,
   "latex_user_defs": false,
   "report_style_numbering": false,
   "user_envs_cfg": false
  },
  "toc": {
   "base_numbering": 1,
   "nav_menu": {},
   "number_sections": true,
   "sideBar": true,
   "skip_h1_title": false,
   "title_cell": "Table of Contents",
   "title_sidebar": "Contents",
   "toc_cell": false,
   "toc_position": {},
   "toc_section_display": true,
   "toc_window_display": false
  },
  "widgets": {
   "application/vnd.jupyter.widget-state+json": {
    "state": {},
    "version_major": 2,
    "version_minor": 0
   }
  }
 },
 "nbformat": 4,
 "nbformat_minor": 4
}
