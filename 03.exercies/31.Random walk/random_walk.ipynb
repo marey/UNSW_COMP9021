{
 "cells": [
  {
   "cell_type": "markdown",
   "metadata": {},
   "source": [
    "Write a program `random_walk.py` that creates the picture of a random walk for a default of 50,001 points, starting from the point $(0,0)$ and randomly choosing at every step to move horizontally and vertically by at most 4 units, west or east and north or south, respectively. It is allowed to move only horizontally or only vertically, but not to stay in place. The picture is drawn thanks to the `matplotlib.pyplot` module, which it is convenient to import as `plt`.\n",
    "\n",
    "* The picture is 5 inches wide and 3 inches high—check out `plt.figure()`, passing as argument the system’s resolution (in dots per inch) for best results.\n",
    "* Check out `plt.scatter()`:\n",
    "   * We want the points to be printed out with a size of 1 point$^2$, with no edges, and use the `plt.cm.Blues` colormap, the first points being the lightest, the last points being the darkest, which we obtain by letting the colour of the $(i + 1)$th point be determined by $i$ itself.\n",
    "   * We want to print out the first point in green, the last point in red, with a size of 10 point$^2$, with no edges.\n",
    "   * We do not want to display axis lines and labels—check out `plt.axis()`.\n",
    "   \n",
    "To display the figure, check out `plt.show()` (not necessary to execute the program within Jupyter as in the cell below). Here is one possible outcome:\n",
    "\n",
    "![](random_walk.pdf)"
   ]
  },
  {
   "cell_type": "code",
   "execution_count": null,
   "metadata": {},
   "outputs": [],
   "source": [
    "%run random_walk.py"
   ]
  }
 ],
 "metadata": {
  "kernelspec": {
   "display_name": "Python 3 (ipykernel)",
   "language": "python",
   "name": "python3"
  },
  "language_info": {
   "codemirror_mode": {
    "name": "ipython",
    "version": 3
   },
   "file_extension": ".py",
   "mimetype": "text/x-python",
   "name": "python",
   "nbconvert_exporter": "python",
   "pygments_lexer": "ipython3",
   "version": "3.10.2"
  },
  "latex_envs": {
   "LaTeX_envs_menu_present": true,
   "autoclose": false,
   "autocomplete": true,
   "bibliofile": "biblio.bib",
   "cite_by": "apalike",
   "current_citInitial": 1,
   "eqLabelWithNumbers": true,
   "eqNumInitial": 1,
   "hotkeys": {
    "equation": "Ctrl-E",
    "itemize": "Ctrl-I"
   },
   "labels_anchors": false,
   "latex_user_defs": false,
   "report_style_numbering": false,
   "user_envs_cfg": false
  },
  "toc": {
   "base_numbering": 1,
   "nav_menu": {},
   "number_sections": true,
   "sideBar": true,
   "skip_h1_title": false,
   "title_cell": "Table of Contents",
   "title_sidebar": "Contents",
   "toc_cell": false,
   "toc_position": {},
   "toc_section_display": true,
   "toc_window_display": false
  },
  "widgets": {
   "application/vnd.jupyter.widget-state+json": {
    "state": {},
    "version_major": 2,
    "version_minor": 0
   }
  }
 },
 "nbformat": 4,
 "nbformat_minor": 4
}
