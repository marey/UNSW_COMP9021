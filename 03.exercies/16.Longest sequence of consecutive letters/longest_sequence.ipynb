{
 "cells": [
  {
   "cell_type": "code",
   "execution_count": null,
   "metadata": {},
   "outputs": [],
   "source": [
    "load_ext run_and_test"
   ]
  },
  {
   "cell_type": "markdown",
   "metadata": {},
   "source": [
    "## Task"
   ]
  },
  {
   "cell_type": "markdown",
   "metadata": {},
   "source": [
    "Write a program `longest_sequence.py` that prompts the user for a string $w$ of lowercase letters and outputs the longest sequence of consecutive letters that occur in $w$, but with possibly other letters in between, starting as close as possible to the beginning of $w$."
   ]
  },
  {
   "cell_type": "markdown",
   "metadata": {},
   "source": [
    "## Tests"
   ]
  },
  {
   "cell_type": "markdown",
   "metadata": {},
   "source": [
    "### Empty word"
   ]
  },
  {
   "cell_type": "code",
   "execution_count": null,
   "metadata": {
    "scrolled": true
   },
   "outputs": [],
   "source": [
    "%%run_and_test -i'\\n' python3 longest_sequence.py\n",
    "\n",
    "'Please input a string of lowercase letters: ', '\\n',\n",
    "'The solution is: \\n'"
   ]
  },
  {
   "cell_type": "markdown",
   "metadata": {},
   "source": [
    "### a"
   ]
  },
  {
   "cell_type": "code",
   "execution_count": null,
   "metadata": {
    "scrolled": true
   },
   "outputs": [],
   "source": [
    "%%run_and_test -i'a\\n' python3 longest_sequence.py\n",
    "\n",
    "'Please input a string of lowercase letters: ', 'a\\n',\n",
    "'The solution is: a\\n'"
   ]
  },
  {
   "cell_type": "markdown",
   "metadata": {},
   "source": [
    "### abcefgh"
   ]
  },
  {
   "cell_type": "code",
   "execution_count": null,
   "metadata": {
    "scrolled": true
   },
   "outputs": [],
   "source": [
    "%%run_and_test -i'abcefgh\\n' python3 longest_sequence.py\n",
    "\n",
    "'Please input a string of lowercase letters: ', 'abcefgh\\n',\n",
    "'The solution is: efgh\\n'"
   ]
  },
  {
   "cell_type": "markdown",
   "metadata": {},
   "source": [
    "### abcefg"
   ]
  },
  {
   "cell_type": "code",
   "execution_count": null,
   "metadata": {
    "scrolled": false
   },
   "outputs": [],
   "source": [
    "%%run_and_test -i'abcefg\\n' python3 longest_sequence.py\n",
    "\n",
    "'Please input a string of lowercase letters: ', 'abcefg\\n',\n",
    "'The solution is: abc\\n'"
   ]
  },
  {
   "cell_type": "markdown",
   "metadata": {},
   "source": [
    "### ablccmdnneofffpg"
   ]
  },
  {
   "cell_type": "code",
   "execution_count": null,
   "metadata": {
    "scrolled": true
   },
   "outputs": [],
   "source": [
    "%%run_and_test -i'ablccmdnneofffpg\\n' python3 longest_sequence.py\n",
    "\n",
    "'Please input a string of lowercase letters: ',\n",
    "'ablccmdnneofffpg\\n', 'The solution is: abcdefg\\n'"
   ]
  },
  {
   "cell_type": "markdown",
   "metadata": {},
   "source": [
    "### abcdiivjwkaalbmmbz"
   ]
  },
  {
   "cell_type": "code",
   "execution_count": null,
   "metadata": {
    "scrolled": false
   },
   "outputs": [],
   "source": [
    "%%run_and_test -i'abcdiivjwkaalbmmbz\\n' python3 longest_sequence.py\n",
    "\n",
    "'Please input a string of lowercase letters: ',\n",
    "'abcdiivjwkaalbmmbz\\n', 'The solution is: ijklm\\n'"
   ]
  },
  {
   "cell_type": "markdown",
   "metadata": {},
   "source": [
    "### abcpqrstuvwxbcbcddddeffghijklrst"
   ]
  },
  {
   "cell_type": "code",
   "execution_count": null,
   "metadata": {},
   "outputs": [],
   "source": [
    "user_input =  'abcpqrstuvwxbcbcddddeffghijklrst\\n'"
   ]
  },
  {
   "cell_type": "code",
   "execution_count": null,
   "metadata": {
    "scrolled": false
   },
   "outputs": [],
   "source": [
    "%%run_and_test -i\"$user_input\" python3 longest_sequence.py\n",
    "\n",
    "'Please input a string of lowercase letters: ',\n",
    "'abcpqrstuvwxbcbcddddeffghijklrst\\n',\n",
    "'The solution is: abcdefghijkl\\n'"
   ]
  }
 ],
 "metadata": {
  "kernelspec": {
   "display_name": "Python 3",
   "language": "python",
   "name": "python3"
  },
  "language_info": {
   "codemirror_mode": {
    "name": "ipython",
    "version": 3
   },
   "file_extension": ".py",
   "mimetype": "text/x-python",
   "name": "python",
   "nbconvert_exporter": "python",
   "pygments_lexer": "ipython3",
   "version": "3.8.5"
  },
  "latex_envs": {
   "LaTeX_envs_menu_present": true,
   "autoclose": false,
   "autocomplete": true,
   "bibliofile": "biblio.bib",
   "cite_by": "apalike",
   "current_citInitial": 1,
   "eqLabelWithNumbers": true,
   "eqNumInitial": 1,
   "hotkeys": {
    "equation": "Ctrl-E",
    "itemize": "Ctrl-I"
   },
   "labels_anchors": false,
   "latex_user_defs": false,
   "report_style_numbering": false,
   "user_envs_cfg": false
  },
  "toc": {
   "base_numbering": 1,
   "nav_menu": {},
   "number_sections": true,
   "sideBar": true,
   "skip_h1_title": false,
   "title_cell": "Table of Contents",
   "title_sidebar": "Contents",
   "toc_cell": false,
   "toc_position": {},
   "toc_section_display": true,
   "toc_window_display": false
  }
 },
 "nbformat": 4,
 "nbformat_minor": 4
}
