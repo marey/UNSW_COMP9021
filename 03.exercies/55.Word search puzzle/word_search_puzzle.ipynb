{
 "cells": [
  {
   "cell_type": "code",
   "execution_count": null,
   "metadata": {},
   "outputs": [],
   "source": [
    "load_ext run_and_test"
   ]
  },
  {
   "cell_type": "markdown",
   "metadata": {},
   "source": [
    "# Background"
   ]
  },
  {
   "cell_type": "markdown",
   "metadata": {},
   "source": [
    "The Word Search puzzle is played with a grid of letters and a set of words, to be found in the grid, by reading them horizontally, vertically or diagonally, in either direction."
   ]
  },
  {
   "cell_type": "markdown",
   "metadata": {},
   "source": [
    "# Task"
   ]
  },
  {
   "cell_type": "markdown",
   "metadata": {},
   "source": [
    "Write a program `word_search_puzzle.py` that implements a class `WordSearchPuzzle` with the following methods (and possibly others):\n",
    "\n",
    "* `__init__(self, filename)`, that takes as second argument the name of a file, meant to be stored in the working directory and consisting of a number of lines all with the same number of uppercase letters, those lines possibly containing spaces anywhere, and the file possibly containing extra blank lines.\n",
    "* `__str__(self)` that returns a string for a default display of the grid, with consecutive letters on a line separed by a space and no space anywhere else.\n",
    "* `locate_word_in_grid(self, word)` that takes a string as second argument, representing a word to be searched in the grid. It returns `None` if the word cannot be found, and otherwise returns the pair consisting of the $x$ and $y$ coordinates of the leftmost topmost occurrence of the first letter of the word in the grid and the first direction to follow, in the order N, NE, E, SE, S, SW, W, NW, to read the word from that first letter. Coordinates start from 0, with the x-axis pointing East, and the y-axis pointing South.\n",
    "* `locate_words(self, *words)` that takes strings as arguments, representing words to be searched in the grid. It returns a dictionary whose keys are those words and that maps a given such word to what `locate_word_in_grid()` returns when called with that word as argument.\n",
    "* `highlight_word(self, word)` that takes a string as second argument, representing a word to be searched in the grid. In case the word can be found, it prints out the grid with all characters being displayed in lowercase, except for those that make up the word, displayed in uppercase and both underlined and overlined with double horizontal lines thanks to the Unicode characters `'\\u0333'` (COMBINING DOUBLE LOW LINE) and `'\\u033F'` (COMBINING DOUBLE OVERLINE). These are _combining diacritic_ characters that modify the preceding character in a string."
   ]
  },
  {
   "cell_type": "markdown",
   "metadata": {},
   "source": [
    "# Tests"
   ]
  },
  {
   "cell_type": "markdown",
   "metadata": {},
   "source": [
    "## The grid of the metal puzzle"
   ]
  },
  {
   "cell_type": "code",
   "execution_count": null,
   "metadata": {},
   "outputs": [],
   "source": [
    "cat word_grid_1.txt"
   ]
  },
  {
   "cell_type": "markdown",
   "metadata": {},
   "source": [
    "### Displaying the grid of the metal puzzle"
   ]
  },
  {
   "cell_type": "code",
   "execution_count": null,
   "metadata": {},
   "outputs": [],
   "source": [
    "statements = 'from word_search_puzzle import *; '\\\n",
    "             'print(WordSearchPuzzle(\"word_grid_1.txt\"))'"
   ]
  },
  {
   "cell_type": "code",
   "execution_count": null,
   "metadata": {},
   "outputs": [],
   "source": [
    "%%run_and_test python3 -c \"$statements\"\n",
    "\n",
    "'''\n",
    "N D A O E L D L O G B M N E\\n\n",
    "I T D C M E A I N R U T S L\\n\n",
    "C L U U E I C G G G O L I I\\n\n",
    "K M U I M U I D I R I A L T\\n\n",
    "E U R T U N G S T E N B V H\\n\n",
    "L I L S L T T U L R U O E I\\n\n",
    "C M A T E T I U R D R C R U\\n\n",
    "I D S C A M A G N E S I U M\\n\n",
    "M A M P D M U I N A T I T I\\n\n",
    "P C N P L A T I N U M D L L\\n\n",
    "H Z E M A N G A N E S E I G\\n\n",
    "M G I T I N R U N O R I T C\\n\n",
    "R I A N N A M E R C U R Y N\\n\n",
    "U O T C C R E P P O C E E R\\n\n",
    "'''"
   ]
  },
  {
   "cell_type": "markdown",
   "metadata": {},
   "source": [
    "### Locating PLATINUM in the metal puzzle"
   ]
  },
  {
   "cell_type": "code",
   "execution_count": null,
   "metadata": {},
   "outputs": [],
   "source": [
    "statements = 'from word_search_puzzle import *; '\\\n",
    "             'print(WordSearchPuzzle(\"word_grid_1.txt\")'\\\n",
    "                   '.locate_word(\"PLATINUM\"))'"
   ]
  },
  {
   "cell_type": "code",
   "execution_count": null,
   "metadata": {},
   "outputs": [],
   "source": [
    "%%run_and_test python3 -c \"$statements\"\n",
    "\n",
    "\"(3, 9, 'E')\\n\""
   ]
  },
  {
   "cell_type": "markdown",
   "metadata": {},
   "source": [
    "### Failing to locate SODIUM in the metal puzzle"
   ]
  },
  {
   "cell_type": "code",
   "execution_count": null,
   "metadata": {},
   "outputs": [],
   "source": [
    "statements = 'from word_search_puzzle import *; '\\\n",
    "             'print(WordSearchPuzzle(\"word_grid_1.txt\")'\\\n",
    "                   '.locate_word(\"SODIUM\"))'"
   ]
  },
  {
   "cell_type": "code",
   "execution_count": null,
   "metadata": {},
   "outputs": [],
   "source": [
    "%%run_and_test python3 -c \"$statements\"\n",
    "\n",
    "'None\\n'"
   ]
  },
  {
   "cell_type": "markdown",
   "metadata": {},
   "source": [
    "### Locating or failing to locate  20 metals in the metal puzzle"
   ]
  },
  {
   "cell_type": "code",
   "execution_count": null,
   "metadata": {},
   "outputs": [],
   "source": [
    "statements = 'from pprint import pprint; from word_search_puzzle import *; '\\\n",
    "             'pprint(WordSearchPuzzle(\"word_grid_1.txt\")'\\\n",
    "                    '.locate_words(\"PLATINUM\", \"COPPER\", \"MERCURY\", '\\\n",
    "                                  '\"TUNGSTEN\", \"MAGNESIUM\", \"ZINC\", '\\\n",
    "                                  '\"MANGANESE\", \"TITANIUM\", \"TIN\", \"IRON\", '\\\n",
    "                                  '\"LITHIUM\", \"CADMIUM\", \"GOLD\", \"COBALT\", '\\\n",
    "                                  '\"SILVER\", \"NICKEL\", \"LEAD\", \"IRIDIUM\", '\\\n",
    "                                  '\"URANIUM\", \"SODIUM\"))'"
   ]
  },
  {
   "cell_type": "code",
   "execution_count": null,
   "metadata": {},
   "outputs": [],
   "source": [
    "%%run_and_test python3 -c \"$statements\"\n",
    "\n",
    "'''\n",
    "{'CADMIUM': (1, 9, 'N'),\\n\n",
    " 'COBALT': (11, 6, 'N'),\\n\n",
    " 'COPPER': (10, 13, 'W'),\\n\n",
    " 'GOLD': (9, 0, 'W'),\\n\n",
    " 'IRIDIUM': (10, 3, 'W'),\\n\n",
    " 'IRON': (11, 11, 'W'),\\n\n",
    " 'LEAD': (4, 5, 'S'),\\n\n",
    " 'LITHIUM': (13, 1, 'S'),\\n\n",
    " 'MAGNESIUM': (5, 7, 'E'),\\n\n",
    " 'MANGANESE': (3, 10, 'E'),\\n\n",
    " 'MERCURY': (6, 12, 'E'),\\n\n",
    " 'NICKEL': (0, 0, 'S'),\\n\n",
    " 'PLATINUM': (3, 9, 'E'),\\n\n",
    " 'SILVER': (12, 1, 'S'),\\n\n",
    " 'SODIUM': None,\\n\n",
    " 'TIN': (6, 9, 'NE'),\\n\n",
    " 'TITANIUM': (12, 8, 'W'),\\n\n",
    " 'TUNGSTEN': (3, 4, 'E'),\\n\n",
    " 'URANIUM': None,\\n\n",
    " 'ZINC': (1, 10, 'SE')}\\n\n",
    "'''"
   ]
  },
  {
   "cell_type": "markdown",
   "metadata": {},
   "source": [
    "### Highlighting CADMIUM in the metal puzzle"
   ]
  },
  {
   "cell_type": "code",
   "execution_count": null,
   "metadata": {},
   "outputs": [],
   "source": [
    "statements = 'from word_search_puzzle import *; '\\\n",
    "             'WordSearchPuzzle(\"word_grid_1.txt\").highlight_word(\"CADMIUM\")'"
   ]
  },
  {
   "cell_type": "code",
   "execution_count": null,
   "metadata": {},
   "outputs": [],
   "source": [
    "%%run_and_test python3 -c \"$statements\"\n",
    "\n",
    "'''\n",
    "n d a o e l d l o g b m n e\\n\n",
    "i t d c m e a i n r u t s l\\n\n",
    "c l u u e i c g g g o l i i\\n\n",
    "k M̳̿ u i m u i d i r i a l t\\n\n",
    "e U̳̿ r t u n g s t e n b v h\\n\n",
    "l I̳̿ l s l t t u l r u o e i\\n\n",
    "c M̳̿ a t e t i u r d r c r u\\n\n",
    "i D̳̿ s c a m a g n e s i u m\\n\n",
    "m A̳̿ m p d m u i n a t i t i\\n\n",
    "p C̳̿ n p l a t i n u m d l l\\n\n",
    "h z e m a n g a n e s e i g\\n\n",
    "m g i t i n r u n o r i t c\\n\n",
    "r i a n n a m e r c u r y n\\n\n",
    "u o t c c r e p p o c e e r\\n\n",
    "'''"
   ]
  },
  {
   "cell_type": "markdown",
   "metadata": {},
   "source": [
    "### Highlighting COPPER in the metal puzzle"
   ]
  },
  {
   "cell_type": "code",
   "execution_count": null,
   "metadata": {},
   "outputs": [],
   "source": [
    "statements = 'from word_search_puzzle import *; '\\\n",
    "             'WordSearchPuzzle(\"word_grid_1.txt\").highlight_word(\"COPPER\")'"
   ]
  },
  {
   "cell_type": "code",
   "execution_count": null,
   "metadata": {},
   "outputs": [],
   "source": [
    "%%run_and_test python3 -c \"$statements\"\n",
    "\n",
    "'''\n",
    "n d a o e l d l o g b m n e\\n\n",
    "i t d c m e a i n r u t s l\\n\n",
    "c l u u e i c g g g o l i i\\n\n",
    "k m u i m u i d i r i a l t\\n\n",
    "e u r t u n g s t e n b v h\\n\n",
    "l i l s l t t u l r u o e i\\n\n",
    "c m a t e t i u r d r c r u\\n\n",
    "i d s c a m a g n e s i u m\\n\n",
    "m a m p d m u i n a t i t i\\n\n",
    "p c n p l a t i n u m d l l\\n\n",
    "h z e m a n g a n e s e i g\\n\n",
    "m g i t i n r u n o r i t c\\n\n",
    "r i a n n a m e r c u r y n\\n\n",
    "u o t c c R̳̿ E̳̿ P̳̿ P̳̿ O̳̿ C̳̿ e e r\\n\n",
    "'''"
   ]
  },
  {
   "cell_type": "markdown",
   "metadata": {},
   "source": [
    "### Highlighting LEAD in the metal puzzle"
   ]
  },
  {
   "cell_type": "code",
   "execution_count": null,
   "metadata": {},
   "outputs": [],
   "source": [
    "statements = 'from word_search_puzzle import *; '\\\n",
    "             'WordSearchPuzzle(\"word_grid_1.txt\").highlight_word(\"LEAD\")'"
   ]
  },
  {
   "cell_type": "code",
   "execution_count": null,
   "metadata": {},
   "outputs": [],
   "source": [
    "%%run_and_test python3 -c \"$statements\"\n",
    "\n",
    "'''\n",
    "n d a o e l d l o g b m n e\\n\n",
    "i t d c m e a i n r u t s l\\n\n",
    "c l u u e i c g g g o l i i\\n\n",
    "k m u i m u i d i r i a l t\\n\n",
    "e u r t u n g s t e n b v h\\n\n",
    "l i l s L̳̿ t t u l r u o e i\\n\n",
    "c m a t E̳̿ t i u r d r c r u\\n\n",
    "i d s c A̳̿ m a g n e s i u m\\n\n",
    "m a m p D̳̿ m u i n a t i t i\\n\n",
    "p c n p l a t i n u m d l l\\n\n",
    "h z e m a n g a n e s e i g\\n\n",
    "m g i t i n r u n o r i t c\\n\n",
    "r i a n n a m e r c u r y n\\n\n",
    "u o t c c r e p p o c e e r\\n\n",
    "'''"
   ]
  },
  {
   "cell_type": "markdown",
   "metadata": {},
   "source": [
    "### Highlighting MANGANESE in the metal puzzle"
   ]
  },
  {
   "cell_type": "code",
   "execution_count": null,
   "metadata": {},
   "outputs": [],
   "source": [
    "statements = 'from word_search_puzzle import *; '\\\n",
    "             'WordSearchPuzzle(\"word_grid_1.txt\").highlight_word(\"MANGANESE\")'"
   ]
  },
  {
   "cell_type": "code",
   "execution_count": null,
   "metadata": {},
   "outputs": [],
   "source": [
    "%%run_and_test python3 -c \"$statements\"\n",
    "\n",
    "'''\n",
    "n d a o e l d l o g b m n e\\n\n",
    "i t d c m e a i n r u t s l\\n\n",
    "c l u u e i c g g g o l i i\\n\n",
    "k m u i m u i d i r i a l t\\n\n",
    "e u r t u n g s t e n b v h\\n\n",
    "l i l s l t t u l r u o e i\\n\n",
    "c m a t e t i u r d r c r u\\n\n",
    "i d s c a m a g n e s i u m\\n\n",
    "m a m p d m u i n a t i t i\\n\n",
    "p c n p l a t i n u m d l l\\n\n",
    "h z e M̳̿ A̳̿ N̳̿ G̳̿ A̳̿ N̳̿ E̳̿ S̳̿ E̳̿ i g\\n\n",
    "m g i t i n r u n o r i t c\\n\n",
    "r i a n n a m e r c u r y n\\n\n",
    "u o t c c r e p p o c e e r\\n\n",
    "'''"
   ]
  },
  {
   "cell_type": "markdown",
   "metadata": {},
   "source": [
    "### Highlighting TIN in the metal puzzle"
   ]
  },
  {
   "cell_type": "code",
   "execution_count": null,
   "metadata": {},
   "outputs": [],
   "source": [
    "statements = 'from word_search_puzzle import *; '\\\n",
    "             'WordSearchPuzzle(\"word_grid_1.txt\").highlight_word(\"TIN\")'"
   ]
  },
  {
   "cell_type": "code",
   "execution_count": null,
   "metadata": {},
   "outputs": [],
   "source": [
    "%%run_and_test python3 -c \"$statements\"\n",
    "\n",
    "'''\n",
    "n d a o e l d l o g b m n e\\n\n",
    "i t d c m e a i n r u t s l\\n\n",
    "c l u u e i c g g g o l i i\\n\n",
    "k m u i m u i d i r i a l t\\n\n",
    "e u r t u n g s t e n b v h\\n\n",
    "l i l s l t t u l r u o e i\\n\n",
    "c m a t e t i u r d r c r u\\n\n",
    "i d s c a m a g N̳̿ e s i u m\\n\n",
    "m a m p d m u I̳̿ n a t i t i\\n\n",
    "p c n p l a T̳̿ i n u m d l l\\n\n",
    "h z e m a n g a n e s e i g\\n\n",
    "m g i t i n r u n o r i t c\\n\n",
    "r i a n n a m e r c u r y n\\n\n",
    "u o t c c r e p p o c e e r\\n\n",
    "'''"
   ]
  },
  {
   "cell_type": "markdown",
   "metadata": {},
   "source": [
    "### Highlighting ZINC in the metal puzzle"
   ]
  },
  {
   "cell_type": "code",
   "execution_count": null,
   "metadata": {},
   "outputs": [],
   "source": [
    "statements = 'from word_search_puzzle import *; '\\\n",
    "             'WordSearchPuzzle(\"word_grid_1.txt\").highlight_word(\"ZINC\")'"
   ]
  },
  {
   "cell_type": "code",
   "execution_count": null,
   "metadata": {
    "tags": []
   },
   "outputs": [],
   "source": [
    "%%run_and_test python3 -c \"$statements\"\n",
    "\n",
    "'''\n",
    "n d a o e l d l o g b m n e\\n\n",
    "i t d c m e a i n r u t s l\\n\n",
    "c l u u e i c g g g o l i i\\n\n",
    "k m u i m u i d i r i a l t\\n\n",
    "e u r t u n g s t e n b v h\\n\n",
    "l i l s l t t u l r u o e i\\n\n",
    "c m a t e t i u r d r c r u\\n\n",
    "i d s c a m a g n e s i u m\\n\n",
    "m a m p d m u i n a t i t i\\n\n",
    "p c n p l a t i n u m d l l\\n\n",
    "h Z̳̿ e m a n g a n e s e i g\\n\n",
    "m g I̳̿ t i n r u n o r i t c\\n\n",
    "r i a N̳̿ n a m e r c u r y n\\n\n",
    "u o t c C̳̿ r e p p o c e e r\\n\n",
    "'''"
   ]
  },
  {
   "cell_type": "markdown",
   "metadata": {},
   "source": [
    "## The grid of the fruit puzzle"
   ]
  },
  {
   "cell_type": "code",
   "execution_count": null,
   "metadata": {},
   "outputs": [],
   "source": [
    "cat word_grid_2.txt"
   ]
  },
  {
   "cell_type": "markdown",
   "metadata": {},
   "source": [
    "### Displaying the grid of the fruit puzzle"
   ]
  },
  {
   "cell_type": "code",
   "execution_count": null,
   "metadata": {},
   "outputs": [],
   "source": [
    "statements = 'from word_search_puzzle import *; '\\\n",
    "             'print(WordSearchPuzzle(\"word_grid_2.txt\"))'"
   ]
  },
  {
   "cell_type": "code",
   "execution_count": null,
   "metadata": {},
   "outputs": [],
   "source": [
    "%%run_and_test python3 -c \"$statements\"\n",
    "\n",
    "'''\n",
    "W M B R W P P O P E R R I W\\n\n",
    "E L M N N M L B I A P C I K\\n\n",
    "B E O R R O Y G R E P W E O\\n\n",
    "K N G E R R M O A E P A R G\\n\n",
    "I I R E M Y E E O R P R Y R\\n\n",
    "W O K L M I R A L G A A O A\\n\n",
    "I B M M S O L L E L P P A S\\n\n",
    "E A O W O R A N G E R O E P\\n\n",
    "W A T E R M E L O N L R R B\\n\n",
    "P A N M A L B R R A W P P E\\n\n",
    "B A N A N A E A A G B N R R\\n\n",
    "A P B Y R R E B K C A L B R\\n\n",
    "B A N W B L U E B E R R Y Y\\n\n",
    "A O I L U A T P T E A N N E\\n\n",
    "'''"
   ]
  },
  {
   "cell_type": "markdown",
   "metadata": {},
   "source": [
    "### Locating RASPBERRY in the fruit puzzle\n"
   ]
  },
  {
   "cell_type": "code",
   "execution_count": null,
   "metadata": {},
   "outputs": [],
   "source": [
    "statements = 'from word_search_puzzle import *; '\\\n",
    "             'print(WordSearchPuzzle(\"word_grid_2.txt\")'\\\n",
    "                   '.locate_word(\"RASPBERRY\"))'"
   ]
  },
  {
   "cell_type": "code",
   "execution_count": null,
   "metadata": {},
   "outputs": [],
   "source": [
    "%%run_and_test python3 -c \"$statements\"\n",
    "\n",
    "\"(13, 4, 'S')\\n\""
   ]
  },
  {
   "cell_type": "markdown",
   "metadata": {},
   "source": [
    "### Failing to locate PEAR in the fruit puzzle\n"
   ]
  },
  {
   "cell_type": "code",
   "execution_count": null,
   "metadata": {},
   "outputs": [],
   "source": [
    "statements = 'from word_search_puzzle import *; '\\\n",
    "             'print(WordSearchPuzzle(\"word_grid_2.txt\").locate_word(\"PEAR\"))'"
   ]
  },
  {
   "cell_type": "code",
   "execution_count": null,
   "metadata": {},
   "outputs": [],
   "source": [
    "%%run_and_test python3 -c \"$statements\"\n",
    "\n",
    "'None\\n'"
   ]
  },
  {
   "cell_type": "markdown",
   "metadata": {},
   "source": [
    "### Locating or failing to locate  14 fruits in the fruit puzzle"
   ]
  },
  {
   "cell_type": "code",
   "execution_count": null,
   "metadata": {},
   "outputs": [],
   "source": [
    "statements = 'from pprint import pprint; from word_search_puzzle import *; '\\\n",
    "             'pprint(WordSearchPuzzle(\"word_grid_2.txt\")'\\\n",
    "                    '.locate_words(\"RASPBERRY\", \"LIME\", \"BLACKBERRY\", '\\\n",
    "                                  '\"BLUEBERRY\", \"WATERMELON\", \"ORANGE\", '\\\n",
    "                                  '\"BANANA\", \"PAPAYA\", \"LEMON\", \"KIWI\", '\\\n",
    "                                  '\"GRAPE\", \"APPLE\", \"PEAR\", \"MANGOE\"))'"
   ]
  },
  {
   "cell_type": "code",
   "execution_count": null,
   "metadata": {},
   "outputs": [],
   "source": [
    "%%run_and_test python3 -c \"$statements\"\n",
    "\n",
    "\"\"\"\n",
    "{'APPLE': (12, 6, 'W'),\\n\n",
    " 'BANANA': (0, 10, 'E'),\\n\n",
    " 'BLACKBERRY': (12, 11, 'W'),\\n\n",
    " 'BLUEBERRY': (4, 12, 'E'),\\n\n",
    " 'GRAPE': (13, 3, 'W'),\\n\n",
    " 'KIWI': (0, 3, 'S'),\\n\n",
    " 'LEMON': (8, 5, 'NW'),\\n\n",
    " 'LIME': (6, 6, 'NW'),\\n\n",
    " 'MANGOE': None,\\n\n",
    " 'ORANGE': (4, 7, 'E'),\\n\n",
    " 'PAPAYA': (8, 0, 'SE'),\\n\n",
    " 'PEAR': None,\\n\n",
    " 'RASPBERRY': (13, 4, 'S'),\\n\n",
    " 'WATERMELON': (0, 8, 'E')}\\n\n",
    "\"\"\""
   ]
  },
  {
   "cell_type": "markdown",
   "metadata": {},
   "source": [
    "### Highlighting APPLE in the fruit puzzle"
   ]
  },
  {
   "cell_type": "code",
   "execution_count": null,
   "metadata": {},
   "outputs": [],
   "source": [
    "statements = 'from word_search_puzzle import *; '\\\n",
    "             'WordSearchPuzzle(\"word_grid_2.txt\").highlight_word(\"APPLE\")'"
   ]
  },
  {
   "cell_type": "code",
   "execution_count": null,
   "metadata": {},
   "outputs": [],
   "source": [
    "%%run_and_test python3 -c \"$statements\"\n",
    "\n",
    "'''\n",
    "w m b r w p p o p e r r i w\\n\n",
    "e l m n n m l b i a p c i k\\n\n",
    "b e o r r o y g r e p w e o\\n\n",
    "k n g e r r m o a e p a r g\\n\n",
    "i i r e m y e e o r p r y r\\n\n",
    "w o k l m i r a l g a a o a\\n\n",
    "i b m m s o l l E̳̿ L̳̿ P̳̿ P̳̿ A̳̿ s\\n\n",
    "e a o w o r a n g e r o e p\\n\n",
    "w a t e r m e l o n l r r b\\n\n",
    "p a n m a l b r r a w p p e\\n\n",
    "b a n a n a e a a g b n r r\\n\n",
    "a p b y r r e b k c a l b r\\n\n",
    "b a n w b l u e b e r r y y\\n\n",
    "a o i l u a t p t e a n n e\\n\n",
    "'''"
   ]
  },
  {
   "cell_type": "markdown",
   "metadata": {},
   "source": [
    "### Highlighting BANANA in the fruit puzzle"
   ]
  },
  {
   "cell_type": "code",
   "execution_count": null,
   "metadata": {},
   "outputs": [],
   "source": [
    "statements = 'from word_search_puzzle import *; '\\\n",
    "             'WordSearchPuzzle(\"word_grid_2.txt\").highlight_word(\"BANANA\")'"
   ]
  },
  {
   "cell_type": "code",
   "execution_count": null,
   "metadata": {},
   "outputs": [],
   "source": [
    "%%run_and_test python3 -c \"$statements\"\n",
    "\n",
    "'''\n",
    "w m b r w p p o p e r r i w\\n\n",
    "e l m n n m l b i a p c i k\\n\n",
    "b e o r r o y g r e p w e o\\n\n",
    "k n g e r r m o a e p a r g\\n\n",
    "i i r e m y e e o r p r y r\\n\n",
    "w o k l m i r a l g a a o a\\n\n",
    "i b m m s o l l e l p p a s\\n\n",
    "e a o w o r a n g e r o e p\\n\n",
    "w a t e r m e l o n l r r b\\n\n",
    "p a n m a l b r r a w p p e\\n\n",
    "B̳̿ A̳̿ N̳̿ A̳̿ N̳̿ A̳̿ e a a g b n r r\\n\n",
    "a p b y r r e b k c a l b r\\n\n",
    "b a n w b l u e b e r r y y\\n\n",
    "a o i l u a t p t e a n n e\\n\n",
    "'''"
   ]
  },
  {
   "cell_type": "markdown",
   "metadata": {},
   "source": [
    "### Highlighting KIWI in the fruit puzzle"
   ]
  },
  {
   "cell_type": "code",
   "execution_count": null,
   "metadata": {},
   "outputs": [],
   "source": [
    "statements = 'from word_search_puzzle import *; '\\\n",
    "             'WordSearchPuzzle(\"word_grid_2.txt\").highlight_word(\"KIWI\")'"
   ]
  },
  {
   "cell_type": "code",
   "execution_count": null,
   "metadata": {},
   "outputs": [],
   "source": [
    "%%run_and_test python3 -c \"$statements\"\n",
    "\n",
    "'''\n",
    "w m b r w p p o p e r r i w\\n\n",
    "e l m n n m l b i a p c i k\\n\n",
    "b e o r r o y g r e p w e o\\n\n",
    "K̳̿ n g e r r m o a e p a r g\\n\n",
    "I̳̿ i r e m y e e o r p r y r\\n\n",
    "W̳̿ o k l m i r a l g a a o a\\n\n",
    "I̳̿ b m m s o l l e l p p a s\\n\n",
    "e a o w o r a n g e r o e p\\n\n",
    "w a t e r m e l o n l r r b\\n\n",
    "p a n m a l b r r a w p p e\\n\n",
    "b a n a n a e a a g b n r r\\n\n",
    "a p b y r r e b k c a l b r\\n\n",
    "b a n w b l u e b e r r y y\\n\n",
    "a o i l u a t p t e a n n e\\n\n",
    "'''"
   ]
  },
  {
   "cell_type": "markdown",
   "metadata": {},
   "source": [
    "### Highlighting LEMON in the fruit puzzle"
   ]
  },
  {
   "cell_type": "code",
   "execution_count": null,
   "metadata": {},
   "outputs": [],
   "source": [
    "statements = 'from word_search_puzzle import *; '\\\n",
    "             'WordSearchPuzzle(\"word_grid_2.txt\").highlight_word(\"LEMON\")'"
   ]
  },
  {
   "cell_type": "code",
   "execution_count": null,
   "metadata": {},
   "outputs": [],
   "source": [
    "%%run_and_test python3 -c \"$statements\"\n",
    "\n",
    "'''\n",
    "w m b r w p p o p e r r i w\\n\n",
    "e l m n N̳̿ m l b i a p c i k\\n\n",
    "b e o r r O̳̿ y g r e p w e o\\n\n",
    "k n g e r r M̳̿ o a e p a r g\\n\n",
    "i i r e m y e E̳̿ o r p r y r\\n\n",
    "w o k l m i r a L̳̿ g a a o a\\n\n",
    "i b m m s o l l e l p p a s\\n\n",
    "e a o w o r a n g e r o e p\\n\n",
    "w a t e r m e l o n l r r b\\n\n",
    "p a n m a l b r r a w p p e\\n\n",
    "b a n a n a e a a g b n r r\\n\n",
    "a p b y r r e b k c a l b r\\n\n",
    "b a n w b l u e b e r r y y\\n\n",
    "a o i l u a t p t e a n n e\\n\n",
    "'''"
   ]
  },
  {
   "cell_type": "markdown",
   "metadata": {},
   "source": [
    "### Highlighting PAPAYA in the fruit puzzle"
   ]
  },
  {
   "cell_type": "code",
   "execution_count": null,
   "metadata": {},
   "outputs": [],
   "source": [
    "statements = 'from word_search_puzzle import *; '\\\n",
    "             'WordSearchPuzzle(\"word_grid_2.txt\").highlight_word(\"PAPAYA\")'"
   ]
  },
  {
   "cell_type": "code",
   "execution_count": null,
   "metadata": {},
   "outputs": [],
   "source": [
    "%%run_and_test python3 -c \"$statements\"\n",
    "\n",
    "'''\n",
    "w m b r w p p o P̳̿ e r r i w\\n\n",
    "e l m n n m l b i A̳̿ p c i k\\n\n",
    "b e o r r o y g r e P̳̿ w e o\\n\n",
    "k n g e r r m o a e p A̳̿ r g\\n\n",
    "i i r e m y e e o r p r Y̳̿ r\\n\n",
    "w o k l m i r a l g a a o A̳̿\\n\n",
    "i b m m s o l l e l p p a s\\n\n",
    "e a o w o r a n g e r o e p\\n\n",
    "w a t e r m e l o n l r r b\\n\n",
    "p a n m a l b r r a w p p e\\n\n",
    "b a n a n a e a a g b n r r\\n\n",
    "a p b y r r e b k c a l b r\\n\n",
    "b a n w b l u e b e r r y y\\n\n",
    "a o i l u a t p t e a n n e\\n\n",
    "'''"
   ]
  }
 ],
 "metadata": {
  "kernelspec": {
   "display_name": "Python 3 (ipykernel)",
   "language": "python",
   "name": "python3"
  },
  "language_info": {
   "codemirror_mode": {
    "name": "ipython",
    "version": 3
   },
   "file_extension": ".py",
   "mimetype": "text/x-python",
   "name": "python",
   "nbconvert_exporter": "python",
   "pygments_lexer": "ipython3",
   "version": "3.10.2"
  },
  "latex_envs": {
   "LaTeX_envs_menu_present": true,
   "autoclose": false,
   "autocomplete": true,
   "bibliofile": "biblio.bib",
   "cite_by": "apalike",
   "current_citInitial": 1,
   "eqLabelWithNumbers": true,
   "eqNumInitial": 1,
   "hotkeys": {
    "equation": "Ctrl-E",
    "itemize": "Ctrl-I"
   },
   "labels_anchors": false,
   "latex_user_defs": false,
   "report_style_numbering": false,
   "user_envs_cfg": false
  },
  "toc": {
   "base_numbering": 1,
   "nav_menu": {},
   "number_sections": true,
   "sideBar": true,
   "skip_h1_title": false,
   "title_cell": "Table of Contents",
   "title_sidebar": "Contents",
   "toc_cell": false,
   "toc_position": {},
   "toc_section_display": true,
   "toc_window_display": false
  },
  "widgets": {
   "application/vnd.jupyter.widget-state+json": {
    "state": {},
    "version_major": 2,
    "version_minor": 0
   }
  }
 },
 "nbformat": 4,
 "nbformat_minor": 4
}
