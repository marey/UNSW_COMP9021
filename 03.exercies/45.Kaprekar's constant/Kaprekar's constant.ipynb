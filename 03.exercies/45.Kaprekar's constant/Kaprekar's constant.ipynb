{
 "cells": [
  {
   "cell_type": "code",
   "execution_count": null,
   "id": "612031ee",
   "metadata": {},
   "outputs": [],
   "source": [
    "load_ext run_and_test"
   ]
  },
  {
   "cell_type": "markdown",
   "id": "abe904e4",
   "metadata": {},
   "source": [
    "# Background"
   ]
  },
  {
   "cell_type": "markdown",
   "id": "9803b566",
   "metadata": {},
   "source": [
    "Let $S$ be the set of strictly positive numbers smaller than 9999 with the exception of 1111, 2222, ..., 8888. Let $f$ be the function from $S$ to $S$ that is defined as follows. Let $n\\in S$ be given. Write $n$ as a 4-digit number, so left-padding with 0s if needed. Let $n_1$ be the number consisting of $n$'s 4 digits in decreasing order, and let $n_2$ be the number consisting of $n$'s 4 digits in increasing order. Then $f(n)=n_2-n_1$.\n",
    "\n",
    "Kaprekar's constant is the number 6174. It has the property that for all $n\\in S$, there exists a natural number $k$ with $f^k(n)=6174$. For instance, if $n=343$ then $f^4(n)=6174$:\n",
    "\n",
    "      4330        9963        6642        7641\n",
    "    - 0334      - 3699      - 2466      - 1467\n",
    "    ------      ------      ------      ------\n",
    "      3996        6264        4176        6174\n",
    "\n",
    "Note that $f(6174)=6174$:\n",
    "\n",
    "      7641\n",
    "    - 1467\n",
    "    ------\n",
    "      6174\n",
    "\n",
    "Let $g$ be the function from $S$ to $S$ such that $g(6714)=0$ and for all $n\\in S\\setminus\\{6714\\}$, $g(n)$ is the smallest natural number $k$ with $f^k(n)=6714$. For instance, $g(343)=4$. It turns out that for all $n\\in S$, $g(n)\\leq 7$. The following bar plot displays, for each $k\\in\\{0,\\dots,7\\}$, the number of numbers $n$ in $S$ with $g(n)=k$.\n",
    "\n",
    "<div><img src=\"6174.pdf\" width=\"300\"/></div>"
   ]
  },
  {
   "cell_type": "markdown",
   "id": "1007d834",
   "metadata": {},
   "source": [
    "# Task"
   ]
  },
  {
   "cell_type": "markdown",
   "id": "39bb6c16",
   "metadata": {},
   "source": [
    "Write a program `kaprekar.py` that computes two dictionaries or default dictionaries:\n",
    "\n",
    "* `numbers_to_lengths`, that represents the graph of $g$;\n",
    "* `nb_of_chains`, whose set of keys is $\\{0,\\dots,7\\}$, with as associated value for each key $k$, the number of numbers $n$ in $S$ with $g(n)=k$.\n",
    "    \n",
    "Thanks to `nb_of_chains`, the above bar plot can be created as follows:\n",
    "\n",
    "\n",
    "    import matplotlib.pyplot as plt\n",
    "    plt.bar(sorted(nb_of_chains),\n",
    "            list(nb_of_chains[i] for i in sorted(nb_of_chains))\n",
    "           );"
   ]
  },
  {
   "cell_type": "markdown",
   "id": "5bc9b326",
   "metadata": {},
   "source": [
    "# Tests"
   ]
  },
  {
   "cell_type": "markdown",
   "id": "cf5ed78c",
   "metadata": {},
   "source": [
    "## Number of chains of a given length, for all lengths"
   ]
  },
  {
   "cell_type": "code",
   "execution_count": null,
   "id": "73db1cb3",
   "metadata": {},
   "outputs": [],
   "source": [
    "statements = 'from kaprekar import *; print(dict(nb_of_chains) == '\\\n",
    "             '{0: 1, 1: 383, 2: 576, 3: 2400, 4: 1272, 5: 1518, '\\\n",
    "             '6: 1656, 7: 2184})'"
   ]
  },
  {
   "cell_type": "code",
   "execution_count": null,
   "id": "5523f1c7",
   "metadata": {},
   "outputs": [],
   "source": [
    "%%run_and_test python3 -c \"$statements\"\n",
    "\n",
    "'True\\n'"
   ]
  },
  {
   "cell_type": "markdown",
   "id": "bc2b6bae",
   "metadata": {},
   "source": [
    "## Length of chain for a given number"
   ]
  },
  {
   "cell_type": "markdown",
   "id": "9ed7aa1b",
   "metadata": {},
   "source": [
    "### Length 0"
   ]
  },
  {
   "cell_type": "code",
   "execution_count": null,
   "id": "6fc56e66",
   "metadata": {},
   "outputs": [],
   "source": [
    "statements = 'from kaprekar import *; print(numbers_to_lengths[6174])'"
   ]
  },
  {
   "cell_type": "code",
   "execution_count": null,
   "id": "0a01bdad",
   "metadata": {
    "tags": []
   },
   "outputs": [],
   "source": [
    "%%run_and_test python3 -c \"$statements\"\n",
    "\n",
    "'0\\n'"
   ]
  },
  {
   "cell_type": "markdown",
   "id": "5be306bb",
   "metadata": {},
   "source": [
    "### Length 1"
   ]
  },
  {
   "cell_type": "code",
   "execution_count": null,
   "id": "84efec69",
   "metadata": {},
   "outputs": [],
   "source": [
    "statements = 'from kaprekar import *; print(numbers_to_lengths[4176])'"
   ]
  },
  {
   "cell_type": "code",
   "execution_count": null,
   "id": "bffaf5ec",
   "metadata": {
    "tags": []
   },
   "outputs": [],
   "source": [
    "%%run_and_test python3 -c \"$statements\"\n",
    "\n",
    "'1\\n'"
   ]
  },
  {
   "cell_type": "markdown",
   "id": "4a04e602",
   "metadata": {},
   "source": [
    "### Length 2"
   ]
  },
  {
   "cell_type": "code",
   "execution_count": null,
   "id": "61bc441e",
   "metadata": {},
   "outputs": [],
   "source": [
    "statements = 'from kaprekar import *; print(numbers_to_lengths[2646])'"
   ]
  },
  {
   "cell_type": "code",
   "execution_count": null,
   "id": "81431720",
   "metadata": {
    "tags": []
   },
   "outputs": [],
   "source": [
    "%%run_and_test python3 -c \"$statements\"\n",
    "\n",
    "'2\\n'"
   ]
  },
  {
   "cell_type": "markdown",
   "id": "3040e560",
   "metadata": {},
   "source": [
    "### Length 3"
   ]
  },
  {
   "cell_type": "code",
   "execution_count": null,
   "id": "6e616d58",
   "metadata": {},
   "outputs": [],
   "source": [
    "statements = 'from kaprekar import *; print(numbers_to_lengths[6939])'"
   ]
  },
  {
   "cell_type": "code",
   "execution_count": null,
   "id": "24980129",
   "metadata": {},
   "outputs": [],
   "source": [
    "%%run_and_test python3 -c \"$statements\"\n",
    "\n",
    "'3\\n'"
   ]
  },
  {
   "cell_type": "markdown",
   "id": "84afd098",
   "metadata": {},
   "source": [
    "### Length 4"
   ]
  },
  {
   "cell_type": "code",
   "execution_count": null,
   "id": "fa75387e",
   "metadata": {},
   "outputs": [],
   "source": [
    "statements = 'from kaprekar import *; print(numbers_to_lengths[343])'"
   ]
  },
  {
   "cell_type": "code",
   "execution_count": null,
   "id": "dcfc9cbb",
   "metadata": {
    "tags": []
   },
   "outputs": [],
   "source": [
    "%%run_and_test python3 -c \"$statements\"\n",
    "\n",
    "'4\\n'"
   ]
  },
  {
   "cell_type": "markdown",
   "id": "06df2f80",
   "metadata": {},
   "source": [
    "### Length 5"
   ]
  },
  {
   "cell_type": "code",
   "execution_count": null,
   "id": "998e04c0",
   "metadata": {},
   "outputs": [],
   "source": [
    "statements = 'from kaprekar import *; print(numbers_to_lengths[83])'"
   ]
  },
  {
   "cell_type": "code",
   "execution_count": null,
   "id": "cba83c7b",
   "metadata": {
    "tags": []
   },
   "outputs": [],
   "source": [
    "%%run_and_test python3 -c \"$statements\"\n",
    "\n",
    "'5\\n'"
   ]
  },
  {
   "cell_type": "markdown",
   "id": "876bea21",
   "metadata": {},
   "source": [
    "### Length 6"
   ]
  },
  {
   "cell_type": "code",
   "execution_count": null,
   "id": "8563094b",
   "metadata": {},
   "outputs": [],
   "source": [
    "statements = 'from kaprekar import *; print(numbers_to_lengths[7184])'"
   ]
  },
  {
   "cell_type": "code",
   "execution_count": null,
   "id": "fdcb360d",
   "metadata": {
    "tags": []
   },
   "outputs": [],
   "source": [
    "%%run_and_test python3 -c \"$statements\"\n",
    "\n",
    "'6\\n'"
   ]
  },
  {
   "cell_type": "markdown",
   "id": "03c362c2",
   "metadata": {},
   "source": [
    "### Length 7"
   ]
  },
  {
   "cell_type": "code",
   "execution_count": null,
   "id": "2ff4ae9c",
   "metadata": {},
   "outputs": [],
   "source": [
    "statements = 'from kaprekar import *; print(numbers_to_lengths[1354])'"
   ]
  },
  {
   "cell_type": "code",
   "execution_count": null,
   "id": "5a4038f1",
   "metadata": {
    "tags": []
   },
   "outputs": [],
   "source": [
    "%%run_and_test python3 -c \"$statements\"\n",
    "\n",
    "'7\\n'"
   ]
  }
 ],
 "metadata": {
  "kernelspec": {
   "display_name": "Python 3 (ipykernel)",
   "language": "python",
   "name": "python3"
  },
  "language_info": {
   "codemirror_mode": {
    "name": "ipython",
    "version": 3
   },
   "file_extension": ".py",
   "mimetype": "text/x-python",
   "name": "python",
   "nbconvert_exporter": "python",
   "pygments_lexer": "ipython3",
   "version": "3.10.2"
  },
  "latex_envs": {
   "LaTeX_envs_menu_present": true,
   "autoclose": false,
   "autocomplete": true,
   "bibliofile": "biblio.bib",
   "cite_by": "apalike",
   "current_citInitial": 1,
   "eqLabelWithNumbers": true,
   "eqNumInitial": 1,
   "hotkeys": {
    "equation": "Ctrl-E",
    "itemize": "Ctrl-I"
   },
   "labels_anchors": false,
   "latex_user_defs": false,
   "report_style_numbering": false,
   "user_envs_cfg": false
  },
  "toc": {
   "base_numbering": 1,
   "nav_menu": {},
   "number_sections": true,
   "sideBar": true,
   "skip_h1_title": false,
   "title_cell": "Table of Contents",
   "title_sidebar": "Contents",
   "toc_cell": false,
   "toc_position": {},
   "toc_section_display": true,
   "toc_window_display": false
  },
  "widgets": {
   "application/vnd.jupyter.widget-state+json": {
    "state": {},
    "version_major": 2,
    "version_minor": 0
   }
  }
 },
 "nbformat": 4,
 "nbformat_minor": 5
}
