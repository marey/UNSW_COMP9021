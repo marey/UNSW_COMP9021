{
    "metadata": {
        "kernelspec": {
            "name": "python3",
            "display_name": "Python 3 (ipykernel)",
            "language": "python"
        }
    },
    "nbformat": 4,
    "nbformat_minor": 4,
    "cells": [
        {
            "cell_type": "code",
            "execution_count": 0,
            "metadata": {},
            "outputs": [],
            "source": [
                "load_ext run_and_test"
            ]
        },
        {
            "attachments": {},
            "cell_type": "markdown",
            "metadata": {},
            "source": [
                "# Task"
            ]
        },
        {
            "attachments": {},
            "cell_type": "markdown",
            "metadata": {},
            "source": [
                "Write a program `special_triples.py` that finds all triples of consecutive three-digit integers each of which is the sum of two squares, that is, all triples of the form $(n,n+1,n+2)$ such that:\n",
                "\n",
                "* $n$, $n+1$ and $n+2$ are integers at least equal to 100 and at most equal to 999;\n",
                "* each of $n$, $n+1$ and $n+2$ is of the form $a^2+b^2$.\n",
                "\n",
                "As we are not constrained by memory space for this problem, we might use a list that stores an integer for all indexes $n$ in $[100,999]$, equal to 1 in case $n$ is the sum of two squares, and to 0 otherwise. Then it is just a matter of finding three consecutive 1's in the list. This idea can be refined (by not storing 1s, but suitable nonzero values) to not only know that some number is of the form $a^2+b^2$, but also know such a pair $(a,b)$...\n",
                "\n",
                "If an integer $n$ is of the form $a^2+b^2$, then the decomposition is not necessarily unique. We want each decomposition that is output to be the minimal one w.r.t. the natural ordering of pairs of integers (that is, $(a,b)\u003c(a',b')$ iff either $a\u003ca'$ or $a=a'$ and $b\u003cb'$)."
            ]
        },
        {
            "attachments": {},
            "cell_type": "markdown",
            "metadata": {},
            "source": [
                "# Test"
            ]
        },
        {
            "cell_type": "code",
            "execution_count": 0,
            "metadata": {},
            "outputs": [],
            "source": [
                "%%run_and_test python3 special_triples.py\n",
                "\n",
                "'''\n",
                "(144, 145, 146) (equal to (0^2+12^2, 1^2+12^2, 5^2+11^2)) is a solution.\\n\n",
                "(232, 233, 234) (equal to (6^2+14^2, 8^2+13^2, 3^2+15^2)) is a solution.\\n\n",
                "(288, 289, 290) (equal to (12^2+12^2, 0^2+17^2, 1^2+17^2)) is a solution.\\n\n",
                "(360, 361, 362) (equal to (6^2+18^2, 0^2+19^2, 1^2+19^2)) is a solution.\\n\n",
                "(520, 521, 522) (equal to (6^2+22^2, 11^2+20^2, 9^2+21^2)) is a solution.\\n\n",
                "(576, 577, 578) (equal to (0^2+24^2, 1^2+24^2, 7^2+23^2)) is a solution.\\n\n",
                "(584, 585, 586) (equal to (10^2+22^2, 3^2+24^2, 15^2+19^2)) is a solution.\\n\n",
                "(800, 801, 802) (equal to (4^2+28^2, 15^2+24^2, 19^2+21^2)) is a solution.\\n\n",
                "(808, 809, 810) (equal to (18^2+22^2, 5^2+28^2, 9^2+27^2)) is a solution.\\n\n",
                "'''"
            ]
        }
    ]
}
