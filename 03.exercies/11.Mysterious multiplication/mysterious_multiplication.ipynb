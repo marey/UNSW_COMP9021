{
 "cells": [
  {
   "cell_type": "code",
   "execution_count": null,
   "metadata": {},
   "outputs": [],
   "source": [
    "load_ext run_and_test"
   ]
  },
  {
   "cell_type": "markdown",
   "metadata": {},
   "source": [
    "# Task"
   ]
  },
  {
   "cell_type": "markdown",
   "metadata": {},
   "source": [
    "Write a program `decoded_multiplication.py` that finds all multiplications of the form\n",
    "\n",
    "                        *  *  * \n",
    "                     x     *  *\n",
    "                     ----------\n",
    "                     *  *  *  *\n",
    "                     *  *  *\n",
    "                     ----------\n",
    "                     *  *  *  *\n",
    "\n",
    "such that the sum of all digits in all 4 columns is constant.\n",
    "\n",
    "There are 2 solutions, which are nicely displayed, separated by a blank line. Each solution is preceded by a sentence that states what all columns add up to. The solution whose multiplicand is smallest is displayed first. "
   ]
  },
  {
   "cell_type": "markdown",
   "metadata": {},
   "source": [
    "# Test"
   ]
  },
  {
   "cell_type": "code",
   "execution_count": null,
   "metadata": {},
   "outputs": [],
   "source": [
    "%%run_and_test python3 mysterious_multiplication.py\n",
    "\n",
    "'A solution with all columns adding up to 10:\\n\n",
    "       4 1 1\\n\n",
    "     x   1 3\\n\n",
    "     -------\\n\n",
    "     1 2 3 3\\n\n",
    "     4 1 1\\n\n",
    "     -------\\n\n",
    "     5 3 4 3\\n\n",
    "\\n\n",
    "A solution with all columns adding up to 18:\\n\n",
    "       4 2 5\\n\n",
    "     x   2 3\\n\n",
    "     -------\\n\n",
    "     1 2 7 5\\n\n",
    "     8 5 0\\n\n",
    "     -------\\n\n",
    "     9 7 7 5\\n'"
   ]
  }
 ],
 "metadata": {
  "kernelspec": {
   "display_name": "Python 3 (ipykernel)",
   "language": "python",
   "name": "python3"
  },
  "language_info": {
   "codemirror_mode": {
    "name": "ipython",
    "version": 3
   },
   "file_extension": ".py",
   "mimetype": "text/x-python",
   "name": "python",
   "nbconvert_exporter": "python",
   "pygments_lexer": "ipython3",
   "version": "3.10.2"
  },
  "latex_envs": {
   "LaTeX_envs_menu_present": true,
   "autoclose": false,
   "autocomplete": true,
   "bibliofile": "biblio.bib",
   "cite_by": "apalike",
   "current_citInitial": 1,
   "eqLabelWithNumbers": true,
   "eqNumInitial": 1,
   "hotkeys": {
    "equation": "Ctrl-E",
    "itemize": "Ctrl-I"
   },
   "labels_anchors": false,
   "latex_user_defs": false,
   "report_style_numbering": false,
   "user_envs_cfg": false
  },
  "toc": {
   "base_numbering": 1,
   "nav_menu": {},
   "number_sections": true,
   "sideBar": true,
   "skip_h1_title": false,
   "title_cell": "Table of Contents",
   "title_sidebar": "Contents",
   "toc_cell": false,
   "toc_position": {},
   "toc_section_display": true,
   "toc_window_display": false
  },
  "widgets": {
   "application/vnd.jupyter.widget-state+json": {
    "state": {},
    "version_major": 2,
    "version_minor": 0
   }
  }
 },
 "nbformat": 4,
 "nbformat_minor": 4
}
