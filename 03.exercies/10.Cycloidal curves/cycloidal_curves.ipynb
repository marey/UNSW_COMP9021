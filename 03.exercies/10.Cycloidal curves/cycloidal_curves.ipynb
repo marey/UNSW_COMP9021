{
 "cells": [
  {
   "cell_type": "code",
   "execution_count": null,
   "metadata": {
    "jupyter": {
     "source_hidden": true
    },
    "tags": []
   },
   "outputs": [],
   "source": [
    "import zipfile\n",
    "with zipfile.ZipFile('Illustrations.zip') as illustrations:\n",
    "    illustrations.extractall('.')"
   ]
  },
  {
   "cell_type": "markdown",
   "metadata": {},
   "source": [
    "# Background"
   ]
  },
  {
   "cell_type": "markdown",
   "metadata": {},
   "source": [
    "## Hypotrochoids"
   ]
  },
  {
   "cell_type": "markdown",
   "metadata": {},
   "source": [
    "A _hypotrochoid_ is the curve obtained by tracing the positions taken by a point $P$ rigidly attached to a circle ${\\mathcal C}_2$ of centre $C_2$ and radius $r$, $P$ being at a distance $d$ from $C_2$, with ${\\mathcal C}_2$ rolling around the inside of another circle ${\\mathcal C}_1$ of centre $C_1$ and radius $R$. To compute the equation of the curve, one assumes that $C_1$ is located at the origin of the plane, so has coordinates $(0,0)$, and $C_1$, $C_2$ and $P$ are horizontally aligned, in that order from left to right, as shown in the following picture.\n",
    "\n",
    "<div><img src=\"Illustrations/hypotrochoid_1.pdf\" width=\"200\"/></div>\n",
    "\n",
    "As ${\\mathcal C}_2$ rotates clockwise and moves anticlockwise around the inside of ${\\mathcal C}_1$, when $\\overrightarrow{C_1C_2}$ has gone from an angle of 0 to a positive angle of $\\theta$, and $\\overrightarrow{C_2P}$ from an angle of 0 to a negative angle of $\\psi$, the point of contact $T$ between both circles has travelled the same distance along both circles---represented in red in the picture below---, namely, $\\theta R$ on ${\\mathcal C}_1$, and $(\\theta-\\psi)r$ on ${\\mathcal C}_2$. Hence:\n",
    "\n",
    "\\begin{equation*}\n",
    "\\psi=-\\frac{R-r}{r}\\theta\n",
    "\\end{equation*}\n",
    "\n",
    "<div><img src=\"Illustrations/hypotrochoid_2.pdf\" width=\"200\"/></div>\n",
    "\n",
    "At this stage, since $\\overrightarrow{C_1P}=\\overrightarrow{C_1C_2}+\\overrightarrow{C_2P}$, the point $P$ has coordinates:\n",
    "\n",
    "\\begin{align*}\n",
    "x&=(R-r)\\cos(\\theta)+d\\cos(-\\psi)\\\\\n",
    "y&=(R-r)\\sin(\\theta)+d\\sin(-\\psi)\n",
    "\\end{align*}\n",
    "that is:\n",
    "\\begin{align*}\n",
    "x&=(R-r)\\cos(\\theta)+d\\cos\\Bigl(\\frac{R-r}{r}\\theta\\Bigr)\\\\\n",
    "y&=(R-r)\\sin(\\theta)-d\\sin\\Bigl(\\frac{R-r}{r}\\theta\\Bigr)\n",
    "\\end{align*}\n",
    "\n",
    "Note that $P$ can \"stick out\" of $\\mathcal C_2$, that is, $d$ can be larger than $r$, as shown in the following picture, which also illustrates that $\\mathcal C_2$ can be larger than $\\mathcal C_1$, that is, $r$ can be greater than $R$; that does not change the above reasoning and the equations still hold. \n",
    "\n",
    "<div><img src=\"Illustrations/hypotrochoid_3.pdf\" width=\"250\"/></div>\n",
    "\n",
    "The _period_ of a hypotrochoid is the number of times $T$ gets back to its original position, as ${\\mathcal C}_2$ keeps rotating around the inside of ${\\mathcal C}_1$, for $P$ to get back to its original position. It is equal to the least strictly positive integer $\\rho$ such that $\\rho\\times 2\\pi R$ is a multiple of $2\\pi r$; hence it is equal to $\\frac{r}{\\gcd(r,R)}$."
   ]
  },
  {
   "cell_type": "markdown",
   "metadata": {},
   "source": [
    "## Epitrochoids"
   ]
  },
  {
   "cell_type": "markdown",
   "metadata": {},
   "source": [
    "If we let ${\\mathcal C}_2$ roll around the outside rather than the inside of ${\\mathcal C}_1$, then the curve obtained by tracing the positions taken by $P$ is called an _epitrochoid_. To compute the equation of the curve, one assumes that $C_1$, $C_2$ and $P$ are horizontally aligned, with $C_2$ to the right of $C_1$ and with $P$ to the left of $C_2$, and also to the left of $C_1$ in case $d$ is greater than $R+r$; the following picture illustrates the case where $r<R$ and $d<r$.\n",
    "\n",
    "<div><img src=\"Illustrations/epitrochoid.pdf\" width=\"250\"/></div>\n",
    "\n",
    "The reasoning that yields the equations for hypotrochoids can be immediately adapted to epitrochoids and result in the following equations:\n",
    "\n",
    "\\begin{align*}\n",
    "x&=(R+r)\\cos(\\theta)-d\\cos\\Bigl(\\frac{R+r}{r}\\theta\\Bigr)\\\\\n",
    "y&=(R+r)\\sin(\\theta)-d\\sin\\Bigl(\\frac{R+r}{r}\\theta\\Bigr)\n",
    "\\end{align*}\n",
    "\n",
    "The period of an epitrochoid is also equal to $\\frac{r}{\\gcd(r,R)}$."
   ]
  },
  {
   "cell_type": "markdown",
   "metadata": {},
   "source": [
    "## Particular cases"
   ]
  },
  {
   "cell_type": "markdown",
   "metadata": {},
   "source": [
    "The following table shows how *ellipses*, *deltoids*, *astroids*, *nephroids*, *cardiods* and a few other particular cases are obtained. When $d$ is equal to $r$, hypotrochoids are also called *hypocycloids*, and epitrochoids are also called *epicycloids*.\n",
    "\n",
    "<div><img src=\"Illustrations/table.pdf\" width=\"600\"/></div>\n",
    "\n",
    "To be complete, one should let $R$ be $\\infty$; then $\\mathcal C_1$ is a line and the associated curves are called *trochoids*, with *cycloids* as a particular case when $d=r$..."
   ]
  },
  {
   "cell_type": "markdown",
   "metadata": {},
   "source": [
    "# Task"
   ]
  },
  {
   "cell_type": "markdown",
   "metadata": {},
   "source": [
    "Write a program `cycloidal_curves.py` that uses the `turtle` module to prompt the user to—check out `turtle.textinput()` and `turtle.numinput()`:\n",
    "\n",
    "* choose between drawing either an epitrochoid (providing no input) or a hypotrochoid (providing any input),\n",
    "* input the radius $R$ of the fixed circle, indicating min and max admissible values,\n",
    "* input the radius $r$ of the rolling circle, indicating min and max admissible values,\n",
    "* input the distance between the drawing point and the centre of the rolling circle, indicating min and max admissible values,\n",
    "\n",
    "and then draws the chosen hypotrochoid or epitrochoid.\n",
    "\n",
    "Denoting by $\\mathit{dim}$ the size of the window—check out `turtle.screensize()`, we want:\n",
    "\n",
    "* $R$ to be between 10 and $\\mathit{dim}-10$,\n",
    "* $r$ to be at least equal to 10 and such that the centre of the rolling circle is always at most $\\mathit{dim}$ away from the origin,\n",
    "* $d$ to be at least equal to 0 and such that the drawing point is at most $\\mathit{dim}$ away from the origin,\n",
    "* epitrochoids to be filled in green and hypotrochoids in yellow,\n",
    "* the top of the window to display—check out `turtle.title()`—one of:\n",
    "\n",
    "        Epitrochoid for R = ..., r = ..., d = ... -- Period = ...\n",
    "        Hypotrochoid for R = ..., r = ..., d = ... -- Period = ...\n",
    "\n",
    "Here is a possible interaction:\n",
    "\n",
    "<div><img src=\"Illustrations/turtle_1.pdf\" width=\"400\"/></div>\n",
    "<div><img src=\"Illustrations/turtle_2.pdf\" width=\"400\"/></div>\n",
    "<div><img src=\"Illustrations/turtle_3.pdf\" width=\"400\"/></div>\n",
    "<div><img src=\"Illustrations/turtle_4.pdf\" width=\"400\"/></div>\n",
    "<div><img src=\"Illustrations/turtle_5.pdf\" width=\"400\"/></div>\n",
    "\n",
    "It is suggested to draw the curve moving by an angle of one degree from one point to the next.\n",
    "\n",
    "The program should give the user the option to save the drawing as a postcript file—check out `turtle.getcanvas().postscript()`—after the picture has been drawn by pressing the `S` key—check out `turtle.listen()` and `turtle.onkey()`—, and using the `PIL` module, open this postcript file—check out `PIL.Image.open()`—and save it as a pdf—check out `PIL.Image.Image.save()`—, naming it `Epitrochoid_R_r_d.pdf` or `Hypotrochoid_R_r_d.pdf` for the values of R, r and d that have been chosen, before deleting the postcript file—check out the `remove()` function from the `os` module."
   ]
  },
  {
   "cell_type": "markdown",
   "metadata": {},
   "source": [
    "# Tests"
   ]
  },
  {
   "cell_type": "markdown",
   "metadata": {},
   "source": [
    "Twenty-four possible runs of the program are illustrated. Twenty-four corresponding pdf files are provided, whose names are the names given by the program when the `S` key is pressed to save the drawing, with `_solution` added before `.pdf`."
   ]
  },
  {
   "cell_type": "markdown",
   "metadata": {},
   "source": [
    "## Epitrochoids"
   ]
  },
  {
   "cell_type": "markdown",
   "metadata": {},
   "source": [
    "### Epitrochoid for R = 190, r = 50, and d = 50"
   ]
  },
  {
   "cell_type": "markdown",
   "metadata": {},
   "source": [
    "<div><img src=\"Illustrations/Epitrochoid_100_50_50_solution.pdf\" width=\"200\"/></div>"
   ]
  },
  {
   "cell_type": "markdown",
   "metadata": {},
   "source": [
    "### Epitrochoid for R = 100, r = 100, and d = 100"
   ]
  },
  {
   "cell_type": "markdown",
   "metadata": {},
   "source": [
    "<div><img src=\"Illustrations/Epitrochoid_100_100_100_solution.pdf\" width=\"200\"/></div>"
   ]
  },
  {
   "cell_type": "markdown",
   "metadata": {},
   "source": [
    "### Epitrochoid for R = 200, r = 40, and d = 20"
   ]
  },
  {
   "cell_type": "markdown",
   "metadata": {},
   "source": [
    "<div><img src=\"Illustrations/Epitrochoid_200_40_20_solution.pdf\" width=\"200\"/></div>"
   ]
  },
  {
   "cell_type": "markdown",
   "metadata": {},
   "source": [
    "### Epitrochoid for R = 160, r = 32, and d = 96"
   ]
  },
  {
   "cell_type": "markdown",
   "metadata": {},
   "source": [
    "<div><img src=\"Illustrations/Epitrochoid_160_32_96_solution.pdf\" width=\"200\"/></div>"
   ]
  },
  {
   "cell_type": "markdown",
   "metadata": {},
   "source": [
    "### Epitrochoid for R = 50, r = 10, and d = 130"
   ]
  },
  {
   "cell_type": "markdown",
   "metadata": {},
   "source": [
    "<div><img src=\"Illustrations/Epitrochoid_50_10_130_solution.pdf\" width=\"200\"/></div>"
   ]
  },
  {
   "cell_type": "markdown",
   "metadata": {},
   "source": [
    "### Epitrochoid for R = 120, r = 72, and d = 72"
   ]
  },
  {
   "cell_type": "markdown",
   "metadata": {},
   "source": [
    "<div><img src=\"Illustrations/Epitrochoid_120_72_72_solution.pdf\" width=\"200\"/></div>"
   ]
  },
  {
   "cell_type": "markdown",
   "metadata": {},
   "source": [
    "### Epitrochoid for R = 120, r = 24, and d = 144"
   ]
  },
  {
   "cell_type": "markdown",
   "metadata": {},
   "source": [
    "<div><img src=\"Illustrations/Epitrochoid_120_24_144_solution.pdf\" width=\"200\"/></div>"
   ]
  },
  {
   "cell_type": "markdown",
   "metadata": {},
   "source": [
    "### Epitrochoid for R = 90, r = 75, and d = 120"
   ]
  },
  {
   "cell_type": "markdown",
   "metadata": {},
   "source": [
    "<div><img src=\"Illustrations/Epitrochoid_90_75_120_solution.pdf\" width=\"200\"/></div>"
   ]
  },
  {
   "cell_type": "markdown",
   "metadata": {},
   "source": [
    "### Epitrochoid for R = 138, r = 74, and d = 55"
   ]
  },
  {
   "cell_type": "markdown",
   "metadata": {},
   "source": [
    "<div><img src=\"Illustrations/Epitrochoid_138_74_55_solution.pdf\" width=\"200\"/></div>"
   ]
  },
  {
   "cell_type": "markdown",
   "metadata": {},
   "source": [
    "### Epitrochoid for R = 50, r = 32, and d = 130"
   ]
  },
  {
   "cell_type": "markdown",
   "metadata": {},
   "source": [
    "<div><img src=\"Illustrations/Epitrochoid_50_32_130_solution.pdf\" width=\"200\"/></div>"
   ]
  },
  {
   "cell_type": "markdown",
   "metadata": {},
   "source": [
    "### Epitrochoid for R = 20, r = 87, and d = 85"
   ]
  },
  {
   "cell_type": "markdown",
   "metadata": {},
   "source": [
    "<div><img src=\"Illustrations/Epitrochoid_20_87_85_solution.pdf\" width=\"200\"/></div>"
   ]
  },
  {
   "cell_type": "markdown",
   "metadata": {},
   "source": [
    "## Hypotrochoids"
   ]
  },
  {
   "cell_type": "markdown",
   "metadata": {},
   "source": [
    "### Hypotrochoid for R = 260, r = 130 and d = 60"
   ]
  },
  {
   "cell_type": "markdown",
   "metadata": {},
   "source": [
    "<div><img src=\"Illustrations/Hypotrochoid_260_130_60_solution.pdf\" width=\"200\"/></div>"
   ]
  },
  {
   "cell_type": "markdown",
   "metadata": {},
   "source": [
    "### Hypotrochoid for R = 270, r = 180 and d = 180"
   ]
  },
  {
   "cell_type": "markdown",
   "metadata": {},
   "source": [
    "<div><img src=\"Illustrations/Hypotrochoid_270_180_180_solution.pdf\" width=\"200\"/></div>"
   ]
  },
  {
   "cell_type": "markdown",
   "metadata": {},
   "source": [
    "### Hypotrochoid for R = 250, r = 65 and d = 65"
   ]
  },
  {
   "cell_type": "markdown",
   "metadata": {},
   "source": [
    "<div><img src=\"Illustrations/Hypotrochoid_260_65_65_solution.pdf\" width=\"200\"/></div>"
   ]
  },
  {
   "cell_type": "markdown",
   "metadata": {},
   "source": [
    "### Hypotrochoid for R = 260, r = 195 and d = 140"
   ]
  },
  {
   "cell_type": "markdown",
   "metadata": {},
   "source": [
    "<div><img src=\"Illustrations/Hypotrochoid_260_195_140_solution.pdf\" width=\"200\"/></div>"
   ]
  },
  {
   "cell_type": "markdown",
   "metadata": {},
   "source": [
    "### Hypotrochoid for R = 180, r = 60 and d = 120"
   ]
  },
  {
   "cell_type": "markdown",
   "metadata": {},
   "source": [
    "<div><img src=\"Illustrations/Hypotrochoid_180_60_120_solution.pdf\" width=\"200\"/></div>"
   ]
  },
  {
   "cell_type": "markdown",
   "metadata": {},
   "source": [
    "### Hypotrochoid for R = 180, r = 45 and d = 135"
   ]
  },
  {
   "cell_type": "markdown",
   "metadata": {},
   "source": [
    "<div><img src=\"Illustrations/Hypotrochoid_180_45_135_solution.pdf\" width=\"200\"/></div>"
   ]
  },
  {
   "cell_type": "markdown",
   "metadata": {},
   "source": [
    "### Hypotrochoid for R = 160, r = 60 and d = 100"
   ]
  },
  {
   "cell_type": "markdown",
   "metadata": {},
   "source": [
    "<div><img src=\"Illustrations/Hypotrochoid_160_60_100_solution.pdf\" width=\"200\"/></div>"
   ]
  },
  {
   "cell_type": "markdown",
   "metadata": {},
   "source": [
    "### Hypotrochoid for R = 130, r = 70 and d = 150"
   ]
  },
  {
   "cell_type": "markdown",
   "metadata": {},
   "source": [
    "<div><img src=\"Illustrations/Hypotrochoid_130_70_150_solution.pdf\" width=\"200\"/></div>"
   ]
  },
  {
   "cell_type": "markdown",
   "metadata": {},
   "source": [
    "### Hypotrochoid for R = 250, r = 70 and d = 91"
   ]
  },
  {
   "cell_type": "markdown",
   "metadata": {},
   "source": [
    "<div><img src=\"Illustrations/Hypotrochoid_250_70_91_solution.pdf\" width=\"200\"/></div>"
   ]
  },
  {
   "cell_type": "markdown",
   "metadata": {},
   "source": [
    "### Hypotrochoid for R = 260, r = 140 and d = 140"
   ]
  },
  {
   "cell_type": "markdown",
   "metadata": {},
   "source": [
    "<div><img src=\"Illustrations/Hypotrochoid_260_140_140_solution.pdf\" width=\"200\"/></div>"
   ]
  },
  {
   "cell_type": "markdown",
   "metadata": {},
   "source": [
    "### Hypotrochoid for R = 130, r = 182 and d = 150"
   ]
  },
  {
   "cell_type": "markdown",
   "metadata": {},
   "source": [
    "<div><img src=\"Illustrations/Hypotrochoid_130_182_150_solution.pdf\" width=\"200\"/></div>"
   ]
  },
  {
   "cell_type": "markdown",
   "metadata": {},
   "source": [
    "### Hypotrochoid for R = 260, r = 364 and d = 140"
   ]
  },
  {
   "cell_type": "markdown",
   "metadata": {},
   "source": [
    "<div><img src=\"Illustrations/Hypotrochoid_260_364_140_solution.pdf\" width=\"200\"/></div>"
   ]
  },
  {
   "cell_type": "markdown",
   "metadata": {},
   "source": [
    "### Hypotrochoid for R = 260, r = 140 and d = 20"
   ]
  },
  {
   "cell_type": "markdown",
   "metadata": {},
   "source": [
    "<div><img src=\"Illustrations/Hypotrochoid_260_140_20_solution.pdf\" width=\"200\"/></div>"
   ]
  }
 ],
 "metadata": {
  "kernelspec": {
   "display_name": "Python 3 (ipykernel)",
   "language": "python",
   "name": "python3"
  },
  "language_info": {
   "codemirror_mode": {
    "name": "ipython",
    "version": 3
   },
   "file_extension": ".py",
   "mimetype": "text/x-python",
   "name": "python",
   "nbconvert_exporter": "python",
   "pygments_lexer": "ipython3",
   "version": "3.10.1"
  },
  "latex_envs": {
   "LaTeX_envs_menu_present": true,
   "autoclose": false,
   "autocomplete": true,
   "bibliofile": "biblio.bib",
   "cite_by": "apalike",
   "current_citInitial": 1,
   "eqLabelWithNumbers": true,
   "eqNumInitial": 1,
   "hotkeys": {
    "equation": "Ctrl-E",
    "itemize": "Ctrl-I"
   },
   "labels_anchors": false,
   "latex_user_defs": false,
   "report_style_numbering": false,
   "user_envs_cfg": false
  },
  "toc": {
   "base_numbering": 1,
   "nav_menu": {},
   "number_sections": true,
   "sideBar": true,
   "skip_h1_title": false,
   "title_cell": "Table of Contents",
   "title_sidebar": "Contents",
   "toc_cell": false,
   "toc_position": {},
   "toc_section_display": true,
   "toc_window_display": false
  },
  "widgets": {
   "application/vnd.jupyter.widget-state+json": {
    "state": {},
    "version_major": 2,
    "version_minor": 0
   }
  }
 },
 "nbformat": 4,
 "nbformat_minor": 4
}
