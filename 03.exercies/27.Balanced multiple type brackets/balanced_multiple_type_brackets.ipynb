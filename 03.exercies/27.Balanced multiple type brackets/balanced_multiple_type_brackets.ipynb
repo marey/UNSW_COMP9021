{
 "cells": [
  {
   "cell_type": "code",
   "execution_count": null,
   "metadata": {},
   "outputs": [],
   "source": [
    "load_ext run_and_test"
   ]
  },
  {
   "cell_type": "markdown",
   "metadata": {},
   "source": [
    "# Background"
   ]
  },
  {
   "cell_type": "markdown",
   "metadata": {},
   "source": [
    "Let $\\sigma$ be a sequence of opening and closing parentheses, square brackets and curly braces. If every opening symbol matches the corresponding closing symbol, then $\\sigma$ is _well balanced_. For instance,\n",
    "\n",
    "* $($, $]$, $\\{\\}($, $[]\\}$, $[()(\\{\\})$, $(]$, $\\{[]([)]\\}$ are not well balanced;\n",
    "* $[]$, $()\\{\\}$, $[()]$, $\\{()[()]()\\}()$ are well balanced.\n",
    "\n",
    "To find out whether $\\sigma$ is well balanced, we can use a list $L$, initialised to the empty list, and process the symbols in $\\sigma$ as follows. Let $s_{()}$, $s_{[]}$ and $s_{\\{\\}}$ be a symbol associated with the parentheses, the square brackets, and the curly braces, respectively. When reading $($, $[$ or $\\{$, one appends $s_{()}$, $s_{[]}$ or $s_{\\{\\}}$, respectively, to the end of $L$. When reading $)$, $]$ or $\\}$, one removes $s_{()}$, $s_{[]}$ or $s_{\\{\\}}$, respectively, from the end of $L$, provided that $L$ is indeed not empty and ends in that symbol. Then $\\sigma$ is well balanced iff the latter operation can always be performed every time it is attempted, and $L$ is empty when all symbols have been processed. This is proved by induction on the length of $\\sigma$.\n",
    "\n",
    "* The claim is trivial if $\\sigma$ is empty, so suppose otherwise.\n",
    "* If $\\sigma$ is of length 1 then $\\sigma$ is imbalanced, and either $L$ is empty when attempting to remove its last element or it ends up being nonempty.\n",
    "* Suppose that $\\sigma$ is of length at least 2.\n",
    "    * If $\\sigma$ is of the form $\\sigma_1\\sigma_2$ for nonempty $\\sigma_1$ and $\\sigma_2$ and after all symbols in $\\sigma_1$ have been successfully processed, $L$ is empty, then, by inductive hypothesis, $\\sigma_1$ is well balanced and $\\sigma$ is well balanced iff $\\sigma_2$ is well balanced, which is equivalent by inductive hypothesis to all symbols in $\\sigma_2$ being successfully processed and $L$ ending up being empty. Conversely, if $\\sigma$ is of the form $\\sigma_1\\sigma_2$ and $\\sigma_1$ is well balanced, then, by inductive hypothesis, $L$ is empty after all symbols in $\\sigma_1$ have been successfully processed, and $\\sigma$ is well balanced iff $\\sigma_2$ is well balanced, which is equivalent by inductive hypothesis to all symbols in $\\sigma_2$ being successfully processed and $L$ ending up being empty.\n",
    "    * Suppose otherwise. Then $\\sigma$ is of the form $s_1\\tau s_2$, and $\\sigma$ is well balanced iff $\\tau$ is well balanced and $s_1$ and $s_2$ are maching opening and closing symbols, respectively. This is equivalent to $L$ being first appended with one of $s_{()}$, $s_{[]}$ or $s_{\\{\\}}$, say $s$, then by inductive hypothesis, all operations succeeding with eventually $L$ containing nothing but $s$, then $s$ being removed from $L$."
   ]
  },
  {
   "cell_type": "markdown",
   "metadata": {},
   "source": [
    "# Task"
   ]
  },
  {
   "cell_type": "markdown",
   "metadata": {},
   "source": [
    "Write a program `balanced_multiple_type_brackets.py` that implements a function, `balanced_brackets_in(pattern)`, that given a string as argument, behaves as follows.\n",
    "\n",
    "* If the string does not consist of nothing but possibly spaces and opening and closing parentheses, square brackets and curly braces, then the function returns `None`.\n",
    "* Otherwise, if, omitting the spaces, the string represents a well balanced pattern, then the function returns `True`.\n",
    "* Otherwise, the function returns `False`."
   ]
  },
  {
   "cell_type": "markdown",
   "metadata": {},
   "source": [
    "# Tests"
   ]
  },
  {
   "cell_type": "markdown",
   "metadata": {},
   "source": [
    "## Spaces"
   ]
  },
  {
   "cell_type": "code",
   "execution_count": null,
   "metadata": {},
   "outputs": [],
   "source": [
    "statements = 'from balanced_multiple_type_brackets import *; '\\\n",
    "             'print(balanced_brackets_in(\"     \"))'"
   ]
  },
  {
   "cell_type": "code",
   "execution_count": null,
   "metadata": {},
   "outputs": [],
   "source": [
    "%%run_and_test python3 -c \"$statements\"\n",
    "\n",
    "'True\\n'"
   ]
  },
  {
   "cell_type": "markdown",
   "metadata": {},
   "source": [
    "## +"
   ]
  },
  {
   "cell_type": "code",
   "execution_count": null,
   "metadata": {},
   "outputs": [],
   "source": [
    "statements = 'from balanced_multiple_type_brackets import *; '\\\n",
    "             'print(balanced_brackets_in(\" + \"))'"
   ]
  },
  {
   "cell_type": "code",
   "execution_count": null,
   "metadata": {},
   "outputs": [],
   "source": [
    "%%run_and_test python3 -c \"$statements\"\n",
    "\n",
    "'None\\n'"
   ]
  },
  {
   "cell_type": "markdown",
   "metadata": {},
   "source": [
    "## ("
   ]
  },
  {
   "cell_type": "code",
   "execution_count": null,
   "metadata": {},
   "outputs": [],
   "source": [
    "statements = 'from balanced_multiple_type_brackets import *; '\\\n",
    "             'print(balanced_brackets_in(\"(\"))'"
   ]
  },
  {
   "cell_type": "code",
   "execution_count": null,
   "metadata": {},
   "outputs": [],
   "source": [
    "%%run_and_test python3 -c \"$statements\"\n",
    "\n",
    "'False\\n'"
   ]
  },
  {
   "cell_type": "markdown",
   "metadata": {},
   "source": [
    "## ]"
   ]
  },
  {
   "cell_type": "code",
   "execution_count": null,
   "metadata": {},
   "outputs": [],
   "source": [
    "statements = 'from balanced_multiple_type_brackets import *; '\\\n",
    "             'print(balanced_brackets_in(\" ]\"))'"
   ]
  },
  {
   "cell_type": "code",
   "execution_count": null,
   "metadata": {},
   "outputs": [],
   "source": [
    "%%run_and_test python3 -c \"$statements\"\n",
    "\n",
    "'False\\n'"
   ]
  },
  {
   "cell_type": "markdown",
   "metadata": {},
   "source": [
    "## { }"
   ]
  },
  {
   "cell_type": "code",
   "execution_count": null,
   "metadata": {},
   "outputs": [],
   "source": [
    "statements = 'from balanced_multiple_type_brackets import *; '\\\n",
    "             'print(balanced_brackets_in(\"  { }\"))'"
   ]
  },
  {
   "cell_type": "code",
   "execution_count": null,
   "metadata": {},
   "outputs": [],
   "source": [
    "%%run_and_test python3 -c \"$statements\"\n",
    "\n",
    "'True\\n'"
   ]
  },
  {
   "cell_type": "markdown",
   "metadata": {},
   "source": [
    "## ) ("
   ]
  },
  {
   "cell_type": "code",
   "execution_count": null,
   "metadata": {},
   "outputs": [],
   "source": [
    "statements = 'from balanced_multiple_type_brackets import *; '\\\n",
    "             'print(balanced_brackets_in(\") (\"))'"
   ]
  },
  {
   "cell_type": "code",
   "execution_count": null,
   "metadata": {},
   "outputs": [],
   "source": [
    "%%run_and_test python3 -c \"$statements\"\n",
    "\n",
    "'False\\n'"
   ]
  },
  {
   "cell_type": "markdown",
   "metadata": {},
   "source": [
    "## ( ]"
   ]
  },
  {
   "cell_type": "code",
   "execution_count": null,
   "metadata": {},
   "outputs": [],
   "source": [
    "statements = 'from balanced_multiple_type_brackets import *; '\\\n",
    "             'print(balanced_brackets_in(\" ( ] \"))'"
   ]
  },
  {
   "cell_type": "code",
   "execution_count": null,
   "metadata": {
    "tags": []
   },
   "outputs": [],
   "source": [
    "%%run_and_test python3 -c \"$statements\"\n",
    "\n",
    "'False\\n'"
   ]
  },
  {
   "cell_type": "markdown",
   "metadata": {},
   "source": [
    "## [ ] -"
   ]
  },
  {
   "cell_type": "code",
   "execution_count": null,
   "metadata": {},
   "outputs": [],
   "source": [
    "statements = 'from balanced_multiple_type_brackets import *; '\\\n",
    "             'print(balanced_brackets_in(\"[]-\"))'"
   ]
  },
  {
   "cell_type": "code",
   "execution_count": null,
   "metadata": {
    "tags": []
   },
   "outputs": [],
   "source": [
    "%%run_and_test python3 -c \"$statements\"\n",
    "\n",
    "'None\\n'"
   ]
  },
  {
   "cell_type": "markdown",
   "metadata": {},
   "source": [
    "## } { -"
   ]
  },
  {
   "cell_type": "code",
   "execution_count": null,
   "metadata": {},
   "outputs": [],
   "source": [
    "statements = 'from balanced_multiple_type_brackets import *; '\\\n",
    "             'print(balanced_brackets_in(\"}  {-\"))'"
   ]
  },
  {
   "cell_type": "code",
   "execution_count": null,
   "metadata": {},
   "outputs": [],
   "source": [
    "%%run_and_test python3 -c \"$statements\"\n",
    "\n",
    "'None\\n'"
   ]
  },
  {
   "cell_type": "markdown",
   "metadata": {},
   "source": [
    "## { } [ ]"
   ]
  },
  {
   "cell_type": "code",
   "execution_count": null,
   "metadata": {},
   "outputs": [],
   "source": [
    "statements = 'from balanced_multiple_type_brackets import *; '\\\n",
    "             'print(balanced_brackets_in(\"{} []\"))'"
   ]
  },
  {
   "cell_type": "code",
   "execution_count": null,
   "metadata": {
    "tags": []
   },
   "outputs": [],
   "source": [
    "%%run_and_test python3 -c \"$statements\"\n",
    "\n",
    "'True\\n'"
   ]
  },
  {
   "cell_type": "markdown",
   "metadata": {},
   "source": [
    "## ( [ ] ( ) )"
   ]
  },
  {
   "cell_type": "code",
   "execution_count": null,
   "metadata": {},
   "outputs": [],
   "source": [
    "statements = 'from balanced_multiple_type_brackets import *; '\\\n",
    "             'print(balanced_brackets_in(\"([]  ( ))\"))'"
   ]
  },
  {
   "cell_type": "code",
   "execution_count": null,
   "metadata": {
    "tags": []
   },
   "outputs": [],
   "source": [
    "%%run_and_test python3 -c \"$statements\"\n",
    "\n",
    "'True\\n'"
   ]
  },
  {
   "cell_type": "markdown",
   "metadata": {},
   "source": [
    "## ( [ ] ( )"
   ]
  },
  {
   "cell_type": "code",
   "execution_count": null,
   "metadata": {},
   "outputs": [],
   "source": [
    "statements = 'from balanced_multiple_type_brackets import *; '\\\n",
    "             'print(balanced_brackets_in(\"  ([ ]( )\"))'"
   ]
  },
  {
   "cell_type": "code",
   "execution_count": null,
   "metadata": {},
   "outputs": [],
   "source": [
    "%%run_and_test python3 -c \"$statements\"\n",
    "\n",
    "'False\\n'"
   ]
  },
  {
   "cell_type": "markdown",
   "metadata": {},
   "source": [
    "## ( [ ] ( ) * )"
   ]
  },
  {
   "cell_type": "code",
   "execution_count": null,
   "metadata": {},
   "outputs": [],
   "source": [
    "statements = 'from balanced_multiple_type_brackets import *; '\\\n",
    "             'print(balanced_brackets_in(\"([]()*)\"))'"
   ]
  },
  {
   "cell_type": "code",
   "execution_count": null,
   "metadata": {
    "tags": []
   },
   "outputs": [],
   "source": [
    "%%run_and_test python3 -c \"$statements\"\n",
    "\n",
    "'None\\n'"
   ]
  },
  {
   "cell_type": "markdown",
   "metadata": {},
   "source": [
    "## [ ] { } ( [ ] [ { } ] )"
   ]
  },
  {
   "cell_type": "code",
   "execution_count": null,
   "metadata": {},
   "outputs": [],
   "source": [
    "statements = 'from balanced_multiple_type_brackets import *; '\\\n",
    "             'print(balanced_brackets_in(\"[]{}  ([][ {}])\"))'"
   ]
  },
  {
   "cell_type": "code",
   "execution_count": null,
   "metadata": {
    "tags": []
   },
   "outputs": [],
   "source": [
    "%%run_and_test python3 -c \"$statements\"\n",
    "\n",
    "'True\\n'"
   ]
  },
  {
   "cell_type": "markdown",
   "metadata": {},
   "source": [
    "## { } [ ] [ ( ) [ { } ] ] ) ]"
   ]
  },
  {
   "cell_type": "code",
   "execution_count": null,
   "metadata": {},
   "outputs": [],
   "source": [
    "statements = 'from balanced_multiple_type_brackets import *; '\\\n",
    "             'print(balanced_brackets_in(\"{ } [][()[{ }]] )]\"))'"
   ]
  },
  {
   "cell_type": "code",
   "execution_count": null,
   "metadata": {},
   "outputs": [],
   "source": [
    "%%run_and_test python3 -c \"$statements\"\n",
    "\n",
    "'False\\n'"
   ]
  },
  {
   "cell_type": "markdown",
   "metadata": {},
   "source": [
    "## ( ) [ ] ( ( ) [ { } ] ) +"
   ]
  },
  {
   "cell_type": "code",
   "execution_count": null,
   "metadata": {},
   "outputs": [],
   "source": [
    "statements = 'from balanced_multiple_type_brackets import *; '\\\n",
    "             'print(balanced_brackets_in(\"( )[ ](() [{ }]) +\"))'"
   ]
  },
  {
   "cell_type": "code",
   "execution_count": null,
   "metadata": {
    "tags": []
   },
   "outputs": [],
   "source": [
    "%%run_and_test python3 -c \"$statements\"\n",
    "\n",
    "'None\\n'"
   ]
  },
  {
   "cell_type": "markdown",
   "metadata": {},
   "source": [
    "## { ( ) { [ ] { { } ( ( ) ) } } [ ] ( { } ) [ { ( ) } { } { ( [ { } ] ) } ] }"
   ]
  },
  {
   "cell_type": "code",
   "execution_count": null,
   "metadata": {},
   "outputs": [],
   "source": [
    "statements = 'from balanced_multiple_type_brackets import *; '\\\n",
    "             'pattern = \"{(){[]{{}(())}}[]({})[{()}{}{([{}])}]}\"; '\\\n",
    "             'print(balanced_brackets_in(pattern))'"
   ]
  },
  {
   "cell_type": "code",
   "execution_count": null,
   "metadata": {
    "tags": []
   },
   "outputs": [],
   "source": [
    "%%run_and_test python3 -c \"$statements\"\n",
    "\n",
    "'True\\n'"
   ]
  },
  {
   "cell_type": "markdown",
   "metadata": {},
   "source": [
    "## { ( ) { [ ] { { } ( ( ) ) } } [ ] ( { } ) [ { ( ) } { } { ( [ { } ] ) } } ]"
   ]
  },
  {
   "cell_type": "code",
   "execution_count": null,
   "metadata": {},
   "outputs": [],
   "source": [
    "statements = 'from balanced_multiple_type_brackets import *; '\\\n",
    "             'pattern = \"{(){[]{{}(())}}[]({})[{()}{}{([{}])}}]\"; '\\\n",
    "             'print(balanced_brackets_in(pattern))'"
   ]
  },
  {
   "cell_type": "code",
   "execution_count": null,
   "metadata": {
    "tags": []
   },
   "outputs": [],
   "source": [
    "%%run_and_test python3 -c \"$statements\"\n",
    "\n",
    "'False\\n'"
   ]
  }
 ],
 "metadata": {
  "kernelspec": {
   "display_name": "Python 3 (ipykernel)",
   "language": "python",
   "name": "python3"
  },
  "language_info": {
   "codemirror_mode": {
    "name": "ipython",
    "version": 3
   },
   "file_extension": ".py",
   "mimetype": "text/x-python",
   "name": "python",
   "nbconvert_exporter": "python",
   "pygments_lexer": "ipython3",
   "version": "3.10.2"
  },
  "latex_envs": {
   "LaTeX_envs_menu_present": true,
   "autoclose": false,
   "autocomplete": true,
   "bibliofile": "biblio.bib",
   "cite_by": "apalike",
   "current_citInitial": 1,
   "eqLabelWithNumbers": true,
   "eqNumInitial": 1,
   "hotkeys": {
    "equation": "Ctrl-E",
    "itemize": "Ctrl-I"
   },
   "labels_anchors": false,
   "latex_user_defs": false,
   "report_style_numbering": false,
   "user_envs_cfg": false
  },
  "toc": {
   "base_numbering": 1,
   "nav_menu": {},
   "number_sections": true,
   "sideBar": true,
   "skip_h1_title": false,
   "title_cell": "Table of Contents",
   "title_sidebar": "Contents",
   "toc_cell": false,
   "toc_position": {},
   "toc_section_display": true,
   "toc_window_display": false
  },
  "widgets": {
   "application/vnd.jupyter.widget-state+json": {
    "state": {},
    "version_major": 2,
    "version_minor": 0
   }
  }
 },
 "nbformat": 4,
 "nbformat_minor": 4
}
