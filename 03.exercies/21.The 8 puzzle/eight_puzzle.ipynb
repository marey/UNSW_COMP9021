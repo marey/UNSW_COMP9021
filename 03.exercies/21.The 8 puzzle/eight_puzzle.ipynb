{
 "cells": [
  {
   "cell_type": "code",
   "execution_count": null,
   "metadata": {},
   "outputs": [],
   "source": [
    "%store -r execute_command\n",
    "%store -r import_testing_environment"
   ]
  },
  {
   "cell_type": "code",
   "execution_count": null,
   "metadata": {},
   "outputs": [],
   "source": [
    "import_testing_environment"
   ]
  },
  {
   "cell_type": "markdown",
   "metadata": {},
   "source": [
    "Max running time and max output size in deciseconds and bytes, respectively."
   ]
  },
  {
   "cell_type": "code",
   "execution_count": null,
   "metadata": {},
   "outputs": [],
   "source": [
    "env MAX_RUNNING_TIME 10"
   ]
  },
  {
   "cell_type": "code",
   "execution_count": null,
   "metadata": {},
   "outputs": [],
   "source": [
    "env MAX_OUTPUT_SIZE 1000"
   ]
  },
  {
   "cell_type": "markdown",
   "metadata": {},
   "source": [
    "## Background"
   ]
  },
  {
   "cell_type": "markdown",
   "metadata": {},
   "source": [
    "An eight puzzle consists of 8 tiles numbered with the integers 1 to 8, placed within a 3x3 frame, leaving one empty cell. Here is an example of one of the $9!$ possible configurations:\n",
    "\n",
    "            4       8\n",
    "            1   3   7\n",
    "            5   2   6\n",
    "\n",
    "The aim is to slide tiles (always to the empty cell, which therefore has to be adjacent to the cell where the tile to slide is located), so as to reach the final configuration where the numbers from 1 to 8 are positioned in the frame as follows:\n",
    "\n",
    "            1   2   3\n",
    "            4   5   6\n",
    "            7   8\n",
    "            \n",
    "We provide a necessary and sufficient condition for an eight puzzle to be solvable. We start by discovering some of the configurations that can be reached from the final configuration (as opposed to reaching the final configuration from some configuration).\n",
    "\n",
    "For all $i\\in\\{1,\\dots,8\\}$, let us refer to cell $i$ as the cell that in the final configuration, contains the tile numbered $i$, and let us refer to cell 9 as the cell that in the final configuration, is empty (tiles move, but cells don't)."
   ]
  },
  {
   "cell_type": "markdown",
   "metadata": {},
   "source": [
    "### The (5 6 8) 3-cycle"
   ]
  },
  {
   "cell_type": "markdown",
   "metadata": {},
   "source": [
    "Sliding tiles 6, 5, 8, 6 changes the final configuration to\n",
    "\n",
    "            1   2   3\n",
    "            4   8   5\n",
    "            7   6\n",
    "\n",
    "where the contents of cell 5 has been moved to cell 6, whose contents has been moved to cell 8, whose contents has been moved to cell 5, the contents of all other cells remaining unchanged. This realises the (5 6 8) 3-cyle."
   ]
  },
  {
   "cell_type": "markdown",
   "metadata": {},
   "source": [
    "### The (5 6 3) 3-cycle"
   ]
  },
  {
   "cell_type": "markdown",
   "metadata": {},
   "source": [
    "Sliding tile 6 changes the final configuration to\n",
    "\n",
    "            1   2   3\n",
    "            4   5\n",
    "            7   8   6\n",
    "\n",
    "Sliding tiles 3, 2, 5, 3 changes that configuration to\n",
    "\n",
    "            1   5   2\n",
    "            4   3\n",
    "            7   8   6\n",
    "\n",
    "Sliding tiles 6, 8, 3 changes that configuration to\n",
    "\n",
    "            1   5   2\n",
    "            4       6\n",
    "            7   3   8\n",
    "\n",
    "Sliding tiles 5, 2, 6 changes that configuration to\n",
    "\n",
    "            1   2   6\n",
    "            4   5\n",
    "            7   3   8\n",
    "\n",
    "Sliding tiles 5, 3, 8 changes that configuration to\n",
    "\n",
    "            1   2   6\n",
    "            4   3   5\n",
    "            7   8\n",
    "\n",
    "Eventually, from the final configuration, the contents of cells 5 has been moved to cell 6, whose contents has been moved to cell 3, whose contents has been moved to cell 5, the contents of all other cells remaining unchanged. This realises the (5 6 3) 3-cyle."
   ]
  },
  {
   "cell_type": "markdown",
   "metadata": {},
   "source": [
    "### The (5 6 $k$) 3-cycles for $k$ = 2, 1, 4, 7"
   ]
  },
  {
   "cell_type": "markdown",
   "metadata": {},
   "source": [
    "Sliding tiles 6, 5 changes the final configuration to\n",
    "\n",
    "            1   2   3\n",
    "            4       5\n",
    "            7   8   6\n",
    "\n",
    "Clockwise operating on the \"ring\" made by the first two columns, sliding tiles 2, 1, 4, 7, 8 once if $k=2$, twice if $k=1$, 3 times if $k=4$, 4 times if $k=7$ (though in that case, sliding tiles anticlockwise rather than clockwise would be a faster alternative) moves those tiles in such a way that eventually, tile $k$ is to the left of 5, with the empty cell \"between\" 2 and 8 on the \"ring\":\n",
    "\n",
    "            4   1   3        7   4   3        8   7   3            8   3\n",
    "            7   2   5        8   1   5            4   5        2   7   5\n",
    "            8       6            2   6        2   1   6        1   4   6\n",
    "\n",
    "Sliding tile 2 if $k=2$, tiles 2, 1 if $k=1$, tiles 2, 1, 4 if $k=4$, tiles 2, 1, 4, 7 if $k=7$ changes thoses configurations to ones where the empty cell is to the left of 5:\n",
    "\n",
    "            4   1   3        7   4   3        8   7   3        2   8   3\n",
    "            7       5        8       5        2       5        1       5\n",
    "            8   2   6        2   1   6        1   4   6        4   7   6\n",
    "\n",
    "Sliding tiles $k$, 6, 5, $k$ changes those configurations to:\n",
    "\n",
    "            4   1   3        7   4   3        8   7   3        2   8   3\n",
    "            7       2        8       1        2       4        1       7\n",
    "            8   6   5        2   6   5        1   6   5        4   6   5\n",
    "\n",
    "Anticlockwise operating on the \"ring\" made by the first two columns, first sliding tile 6 and then sliding 4 more tiles if $k=2$, 9 more tiles if $k=1$, 14 more tiles if $k=4$, 19 more tiles if $k=7$ (though in that case, sliding tiles clockwise rather than anticlockwise would be a faster alternative), changes those configurations to ones where 6 is clockwise after the position initially occupied by $k$ in the \"ring\":\n",
    "\n",
    "            1       3            6   3        6   1   3        4   1   3\n",
    "            4   6   2        4   2   1            2   4        6   2   7\n",
    "            7   8   5        7   8   5        7   8   5            8   5\n",
    "\n",
    "Sliding tile 6 if $k=2$, tiles 6, 2 if $k=1$, tiles 6, 1, 2 if $k=4$, tiles 6, 4, 1, 2 if $k=7$ changes thoses configurations to ones where the empty cell is to the left of $k$:\n",
    "\n",
    "            1   6   3        6   2   3        1   2   3        1   2   3\n",
    "            4       2        4       1        6       4        4       7\n",
    "            7   8   5        7   8   5        7   8   5        6   8   5\n",
    "\n",
    "Sliding tiles $k$, 5 changes those configurations to:\n",
    "\n",
    "            1   6   3        6   2   3        1   2   3        1   2   3\n",
    "            4   2   5        4   1   5        6   4   5        4   7   5\n",
    "            7   8            7   8            7   8            6   8    \n",
    "\n",
    "Eventually, from the final configuration, the contents of cells 5 has been moved to cell 6, whose contents has been moved to cell $k$, whose contents has been moved to cell 5, the contents of all other cells remaining unchanged. This realises the (5 6 $k$) 3-cyle."
   ]
  },
  {
   "cell_type": "markdown",
   "metadata": {},
   "source": [
    "### The ($i$ $j$ $k$) 3-cycles for distinct $i,j,k\\in\\{1,\\dots,8\\}$"
   ]
  },
  {
   "cell_type": "markdown",
   "metadata": {},
   "source": [
    "Let distinct $i,j\\in\\{1,\\dots,8\\}\\setminus\\{5,6\\}$ be given. Applying (5 6 $j$)(5 6 $i$) to the final configuration, that is, letting (5 6 $i$) follow (5 6 $j$),\n",
    "\n",
    "* sends the contents of cell 5 to cell 6 whose contents is then sent to cell $i$, so moves the contents of cell 5 to cell $i$,\n",
    "* moves the contents of cell 6 to cell $j$,\n",
    "* moves the contents of cell $i$ to cell $5$,\n",
    "* sends the contents of cell $j$ to cell 5 whose contents is then sent to cell 6, so moves the contents of cell $j$ to cell 6,\n",
    "\n",
    "so results in a configuration where the two 2-cycles (that is, swaps) (5 $i$) and (6 $j$) have been realised.\n",
    "\n",
    "* All 3-cycles of the form ($i$ $j$ $k$) with distinct $i,j,k\\in\\{1,\\dots,8\\}\\setminus\\{5,6\\}$ can be realised since applying (5 $i$)(6 $j$)(5 6 $k$)(5 $i$)(6 $j$) to the final configuration\n",
    "    * sends the contents of cell 5 to cell $i$ whose contents is then sent back to cell 5,\n",
    "    * sends the contents of cell 6 to cell $j$ whose contents is then sent back to cell 6,\n",
    "    * sends the contents of cell $i$ to cell 5 whose contents is then sent to cell 6 whose contents is then sent to cell $j$,\n",
    "    * sends the contents of cell $j$ to cell 6 whose contents is then sent to cell $k$,\n",
    "    * sends the contents of cell $k$ to cell 5 whose contents is then sent to cell $i$.\n",
    "* All 3-cycles of the form (5 $j$ $k$) with distinct $j,k\\in\\{1,\\dots,8\\}\\setminus\\{5,6\\}$ can be realised since applying (5 $j$)(6 $k$)(5 6 $j$)(5 $j$)(6 $k$) to the final configuration\n",
    "    * sends the contents of cell 5 to cell $j$ whose contents is then sent to cell 5 whose contents is then sent to cell $j$,\n",
    "    * sends the contents of cell 6 to cell $k$ whose contents is then sent back to cell 6,\n",
    "    * sends the contents of cell $j$ to cell 5 whose contents is then sent to cell 6 whose contents is then sent to cell $k$,\n",
    "    * sends the contents of cell $k$ to cell 6 whose contents is then sent to cell $j$ whose contents is then sent to cell 5.\n",
    "* All 3-cycles of the form ($i$ 6 $k$) with distinct $i,k\\in\\{1,\\dots,8\\}\\setminus\\{5,6\\}$ can be realised since applying (5 $k$)(6 $i$)(5 6 $i$)(5 $k$)(6 $i$) to the final configuration\n",
    "    * sends the contents of cell 5 to cell $k$ whose contents is then sent back to cell 5,\n",
    "    * sends the contents of cell 6 to cell $i$ whose contents is then sent to cell 5 whose contents is then sent to cell $k$,\n",
    "    * sends the contents of cell $i$ to cell 6 whose contents is then sent to cell i whose contents is then sent to cell $6$,\n",
    "    * sends the contents of cell $k$ to cell 5 whose contents is then sent to cell 6 whose contents is then sent to cell $i$.\n",
    "\n",
    "Hence all 3-cycles can be realised."
   ]
  },
  {
   "cell_type": "markdown",
   "metadata": {},
   "source": [
    "### Even and odd permutations"
   ]
  },
  {
   "cell_type": "markdown",
   "metadata": {},
   "source": [
    "Let an integer $n$ be given. Given a permutation $P$ of $\\{1,\\dots,n\\}$, the parity of the number of members $(i,j)$ of $\\{1,\\dots,n\\}^2$ such that $i<j$ and $i$ occurs after $j$ in $P$ defines the parity of $P$. For instance, if $P=[4,2,5,1,3]$ then there are 6 such pairs:\n",
    "\n",
    "* $(4, 2)$\n",
    "* $(4, 1)$\n",
    "* $(4, 3)$\n",
    "* $(2, 1)$\n",
    "* $(5, 1)$\n",
    "* $(5, 3)$\n",
    "\n",
    "Hence $[4,2,5,1,3]$ is an even permutation of $\\{1,\\dots,5\\}$.\n",
    "\n",
    "One can order those pairs $(i, j)$ as $(i_1,j_1)$, ..., $(i_m,j_m)$ in such a way that $i_1$ and $j_1$ occur consecutively in $L=P$, swap them to get a list $L_1$ where $i_2$ and $j_2$ occur consecutively in $L_1$, swap them to get a list $L_2$ where $i_3$ and $j_3$ occur consecutively in $L_2$, ... and eventually end up with $[1,2,\\dots,n]$. For instance, with the current example, this can be achieved in the following \"bubbling down\" manner:\n",
    "\n",
    "* $[4,2,5,1,3]$\n",
    "* $[2,4,5,1,3]$\n",
    "* $[2,4,1,5,3]$\n",
    "* $[2,1,4,5,3]$\n",
    "* $[1,2,4,5,3]$\n",
    "* $[1,2,4,3,5]$\n",
    "* $[1,2,3,4,5]$\n",
    "\n",
    "That is (reading those 7 lines from bottom to top), $[4,2,5,1,3]$ can be obtained from $[1,2,3,4,5]$ by application of 6 2-cycles:\n",
    "\n",
    "\\begin{equation*}\n",
    "[4,2,5,1,3] = [1,2,3,4,5](4\\ 3)(5\\ 3)(2\\ 1)(4\\ 1)(5\\ 1)(4\\ 2)\n",
    "\\end{equation*}\n",
    "\n",
    "More generally, an even permutation of $\\{1,\\dots,n\\}$ can be obtained from $[1,2,\\dots,n]$ by application of an even number of 2-cycles.\n",
    "\n",
    "\\begin{theorem}\\label{theorem:thm1}\n",
    "Let $n\\geq 3$ be given. Every even permutation of $\\{1,\\dots,n\\}$ can be obtained from $[1,2,\\dots,n]$ by application of 3-cycles.\n",
    "\\end{theorem}\n",
    "\n",
    "\\begin{proof}\n",
    "Given an even permutation $P$ of $\\\\{1,\\dots,n\\\\}$ one has\n",
    "\n",
    "\\begin{equation*}\n",
    "P = [1,2,\\dots,n](a_1\\ b_1)(a_2 b_2)\\dots(a_{2m-1}\\ b_{2m-1})(a_{2m}\\ b_{2m})\n",
    "\\end{equation*}\n",
    "\n",
    "for some integer $m$, where the 2-cycles can be grouped in $m$ consecutive pairs. These pairs can consist of the same integers, or have only one integer in common, or have no integer in common. In other words, there are 3 possible cases for those pairs, with $a$, $b$, $c$ and $d$ denoting 4 distinct members of $\\{1,\\dots,n\\}$:\n",
    "\n",
    "* $(a\\ b)(a\\ b)$, equal to the identity because $a$ is sent to $b$ which is then sent to $a$, and $b$ is sent to $a$ which is then sent to $b$;\n",
    "* $(a\\ b)(a\\ c)$, equal to $(a\\ b\\ c)$ because $a$ is sent to $b$, $b$ is sent to $a$ which is then sent to $c$, and $c$ is sent to $a$;\n",
    "* $(a\\ b)(c\\ d)$, equal to $(a\\ b\\ c)(a\\ d\\ c)$, because\n",
    "    * both directly send $a$ to $b$,\n",
    "    * one directly sends $b$ to $a$, while the other sends $b$ to $c$ which is then sent to $a$,\n",
    "    * one directly sends $c$ to $d$, while the other sends $c$ to $a$ which is then sent to $d$,\n",
    "    * both directly send $d$ to $c$.\n",
    "\\end{proof}"
   ]
  },
  {
   "cell_type": "markdown",
   "metadata": {},
   "source": [
    "### A characterisation of solvability of an eight puzzle"
   ]
  },
  {
   "cell_type": "markdown",
   "metadata": {},
   "source": [
    "The theorem that follows demonstrates that\n",
    "\n",
    "            4       8\n",
    "            1   3   7\n",
    "            5   2   6\n",
    "\n",
    "is solvable. Indeed, [4,8,1,3,7,5,2,6] is an even permutation.\n",
    "\n",
    "\n",
    "\\begin{theorem}\\label{theorem:thm2}\n",
    "An eight puzzle is solvable iff the parity of the permutation determined by its initial configuration, where the contents of the nonempty cells are read starting with cell 1 and ending with cell 9, is even.\n",
    "\\end{theorem}\n",
    "\n",
    "\\begin{proof}\n",
    "Consider the permutation $P$ determined by some configuration of an eight puzzle. The configuration that results from sliding a tile horizontally determines the same permutation $P$. When sliding tile $i$ vertically, there are 2 elements $a$ and $b$ \"between\" the initial and the final positions of the tile, and the permutation $P'$ determined by this move differs from $P$ in that $P$ is of the form $[\\dots i, a, b\\dots]$ whereas $P'$ is of the form $[... a, b, i]$ (if tile $i$ is slid down), or in that $P$ is of the form $[\\dots a, b, i\\dots]$ whereas $P'$ is of the form $[\\dots i,a, b\\dots]$ (if tile $i$ is slid up).\n",
    "\n",
    "* If $i$ is between $a$ and $b$ then $P$ and $P'$ have the same number of misordered pairs.\n",
    "* If $i$ is smaller than both $a$ and $b$ then $P'$ has two more misordered pairs than $P$ if $P$ is of the form $[\\dots i, a, b\\dots]$, and two fewer misordered pairs than $P$ if $P$ is of the form $[\\dots a, b,i\\dots]$\n",
    "* If $i$ is greater than both $a$ and $b$ then $P'$ has two more misordered pairs than $P$ if $P$ is of the form $[\\dots a, b,i\\dots]$, and two fewer misordered pairs than $P$ if $P$ is of the form $[\\dots i,a, b\\dots]$\n",
    "\n",
    "Hence $P$ and $P'$ have the same parity.\n",
    "\n",
    "Since the final configuration determines an even permutation (namely, identity), we infer from those considerations that an eight puzzle is not solvable if the permutation determined by the initial configuration is odd.\n",
    "\n",
    "The converse, that if the permutation determined by its initial configuration is even then an eight puzzle is solvable, immediately follows from Theorem \\ref{theorem:thm1} and the previous demonstration that the 3-cycles of $[1,\\dots,8]$ can all be established by the rules of the game.\n",
    "\\end{proof}"
   ]
  },
  {
   "cell_type": "markdown",
   "metadata": {},
   "source": [
    "## Task"
   ]
  },
  {
   "cell_type": "markdown",
   "metadata": {},
   "source": [
    "We represent a configuration of an eight puzzle as a list of three lists, one for each row, from the row at the top to the row at the bottom, the three numbers on a row being read from left to right, and with the empty cell represented by either `0` or `None`. For instance, `[[4, 0, 8], [1, 3, 7], [5, 2, 6]]` or `[[4, None ,8], [1, 3, 7], [5, 2, 6]]` represents the configuration\n",
    "\n",
    "            4       8\n",
    "            1   3   7\n",
    "            5   2   6\n",
    "\n",
    "Write a program `eight_puzzle.py` with two functions:\n",
    "\n",
    "* `validate_8_puzzle(grid)` that displays a message indicating whether its argument is a valid representation of a solvable eight puzzle;\n",
    "* `solve_8_puzzle(grid)` that, assuming that its argument is a valid representation of a solvable eight puzzle, outputs the unique solution to the puzzle characterised as follows:\n",
    "    * the number of moves is minimal;\n",
    "    * at every stage, the preferences of the tile to slide are, from most preferred to least preferred:\n",
    "        * the tile above the empty cell (provided the latter is not in the top row), then\n",
    "        * the tile to the left of the empty cell (provided the latter is not in the left column), then\n",
    "        * the tile to the right of the empty cell (provided the latter is not in the right column), then\n",
    "        * the tile below the empty cell (provided the latter is not in the bottom row).\n",
    "        \n",
    "The proof of Theorem \\ref{theorem:thm2} provides a method to solve any solvable eight puzzle; of course, most of the time, that solution is very poor, with a very large number of moves. The program `eight_puzzle.py` is expected to implement a breadth-first search for a solution. It is convenient to use the `deque` class from the `collections` module, to effectively work with a queue, that is, a list of items with items leaving the queue at one end and joining the queue at the other end (with a standard Python list, one operation or the other would have to be of time complexity linear in the size of the list, whereas with a `deque`, both operations have constant time complexity). With\n",
    "\n",
    "            4       8\n",
    "            1   3   7\n",
    "            5   2   6\n",
    "\n",
    "as example, [[[4, 0, 8], [1, 3, 7], [5, 2, 6]]] is first inserted into an initially empty queue, to be immediately removed and have its last and unique element checked not to be the final configuration. Three configurations can follow:\n",
    "\n",
    "                4   8          4   3   8          4   8    \n",
    "            1   3   7          1       7          1   3   7\n",
    "            5   2   6          5   2   6          5   2   6\n",
    "\n",
    "They are inserted into the queue as successors of [[[4, 0, 8], [1, 3, 7], [5, 2, 6]]] from most preferred to least preferred, so the queue then contains (listing the elements from the end of the queue where elements leave the queue to the other end of the queue where elements join the queue):\n",
    "\n",
    "* [[[4, 0, 8], [1, 3, 7], [5, 2, 6]],[[0, 4, 8], [1, 3, 7], [5, 2, 6]]]\n",
    "* [[[4, 0, 8], [1, 3, 7], [5, 2, 6]],[[4, 3, 8], [1, 0, 7], [5, 2, 6]]]\n",
    "* [[[4, 0, 8], [1, 3, 7], [5, 2, 6]],[[4, 8, 0], [1, 3, 7], [5, 2, 6]]]\n",
    "\n",
    "[[[4, 0, 8], [1, 3, 7], [5, 2, 6]],[[0, 4, 8], [1, 3, 7], [5, 2, 6]]] is removed from the queue and its last element is checked not to be the final configuration. Two configurations can follow, but one has been seen already (a set can keep track of all configurations already reached). The new configuration is:\n",
    "\n",
    "            1   4   8\n",
    "                3   7\n",
    "            5   2   6\n",
    "\n",
    "It is inserted into the queue as successor of [[[4, 0, 8], [1, 3, 7], [5, 2, 6]],[[0, 4, 8], [1, 3, 7], [5, 2, 6]]], which then contains:\n",
    "\n",
    "* [[[4, 0, 8], [1, 3, 7], [5, 2, 6]],[[4, 3, 8], [1, 0, 7], [5, 2, 6]]]\n",
    "* [[[4, 0, 8], [1, 3, 7], [5, 2, 6]],[[4, 8, 0], [1, 3, 7], [5, 2, 6]]]\n",
    "* [[[4, 0, 8], [1, 3, 7], [5, 2, 6]],[[0, 4, 8], [1, 3, 7], [5, 2, 6]],[[1, 4, 8], [0, 3, 7], [5, 2, 6]]]\n",
    "\n",
    "[[[4, 0, 8], [1, 3, 7], [5, 2, 6]],[[4, 3, 8], [1, 0, 7], [5, 2, 6]]] is removed from the queue and its last element is checked not to be the final configuration. Four configurations can follow, but one has been seen already. The three new ones are:\n",
    "\n",
    "            4   3   8          4   3   8          4   3   8\n",
    "                1   7          1   7              1   2   7\n",
    "            5   2   6          5   2   6          5       6\n",
    "\n",
    "They are inserted into the queue as successors of [[[4, 0, 8], [1, 3, 7], [5, 2, 6]],[[4, 3, 8], [1, 0, 7], [5, 2, 6]]] from most preferred to least preferred, so the queue then contains:\n",
    "\n",
    "* [[[4, 0, 8], [1, 3, 7], [5, 2, 6]],[[4, 8, 0], [1, 3, 7], [5, 2, 6]]]\n",
    "* [[[4, 0, 8], [1, 3, 7], [5, 2, 6]],[[0, 4, 8], [1, 3, 7], [5, 2, 6]],[[1, 4, 8], [0, 3, 7], [5, 2, 6]]]\n",
    "* [[[4, 0, 8], [1, 3, 7], [5, 2, 6]],[[4, 3, 8], [1, 0, 7], [5, 2, 6]],[[4, 3, 8], [0, 1, 7], [5, 2, 6]]]\n",
    "* [[[4, 0, 8], [1, 3, 7], [5, 2, 6]],[[4, 3, 8], [1, 0, 7], [5, 2, 6]],[[4, 3, 8], [1, 7, 0], [5, 2, 6]]]\n",
    "* [[[4, 0, 8], [1, 3, 7], [5, 2, 6]],[[4, 3, 8], [1, 0, 7], [5, 2, 6]],[[4, 3, 8], [1, 2, 7], [5, 0, 6]]]\n",
    "\n",
    "[[[4, 0, 8], [1, 3, 7], [5, 2, 6]],[[4, 8, 0], [1, 3, 7], [5, 2, 6]]] is removed from the queue and its last element is checked not to be the final configuration. Two configurations can follow, but one has been seen already. The new configuration is:\n",
    "\n",
    "            4   8   7    \n",
    "            1   3    \n",
    "            5   2   6\n",
    "\n",
    "It is inserted into the queue as successor of [[[4, 0, 8], [1, 3, 7], [5, 2, 6]],[[4, 8, 0], [1, 3, 7], [5, 2, 6]]], which then contains:\n",
    "\n",
    "* [[[4, 0, 8], [1, 3, 7], [5, 2, 6]],[[0, 4, 8], [1, 3, 7], [5, 2, 6]],[[1, 4, 8], [0, 3, 7], [5, 2, 6]]]\n",
    "* [[[4, 0, 8], [1, 3, 7], [5, 2, 6]],[[4, 3, 8], [1, 0, 7], [5, 2, 6]],[[4, 3, 8], [0, 1, 7], [5, 2, 6]]]\n",
    "* [[[4, 0, 8], [1, 3, 7], [5, 2, 6]],[[4, 3, 8], [1, 0, 7], [5, 2, 6]],[[4, 3, 8], [1, 7, 0], [5, 2, 6]]]\n",
    "* [[[4, 0, 8], [1, 3, 7], [5, 2, 6]],[[4, 3, 8], [1, 0, 7], [5, 2, 6]],[[4, 3, 8], [1, 2, 7], [5, 0, 6]]]\n",
    "* [[[4, 0, 8], [1, 3, 7], [5, 2, 6]],[[4, 8, 0], [1, 3, 7], [5, 2, 6]],[[4, 8, 7], [1, 3, 0], [5, 2, 6]]]\n",
    "\n",
    "[[[4, 0, 8], [1, 3, 7], [5, 2, 6]],[[0, 4, 8], [1, 3, 7], [5, 2, 6]],[[1, 4, 8], [0, 3, 7], [5, 2, 6]]] is removed from the queue and its last element is checked not to be the final configuration. Three configurations can follow, but one has been seen already. The two new ones are:\n",
    "\n",
    "            1   4   8          1   4   8\n",
    "            3       7          5   3   7\n",
    "            5   2   6              2   6\n",
    "\n",
    "They are inserted into the queue as successors of [[[4, 0, 8], [1, 3, 7], [5, 2, 6]],[[0, 4, 8], [1, 3, 7], [5, 2, 6]],[[1, 4, 8], [0, 3, 7], [5, 2, 6]]], which then contains:\n",
    "\n",
    "* [[[4, 0, 8], [1, 3, 7], [5, 2, 6]],[[4, 3, 8], [1, 0, 7], [5, 2, 6]],[[4, 3, 8], [0, 1, 7], [5, 2, 6]]]\n",
    "* [[[4, 0, 8], [1, 3, 7], [5, 2, 6]],[[4, 3, 8], [1, 0, 7], [5, 2, 6]],[[4, 3, 8], [1, 7, 0], [5, 2, 6]]]\n",
    "* [[[4, 0, 8], [1, 3, 7], [5, 2, 6]],[[4, 3, 8], [1, 0, 7], [5, 2, 6]],[[4, 3, 8], [1, 2, 7], [5, 0, 6]]]\n",
    "* [[[4, 0, 8], [1, 3, 7], [5, 2, 6]],[[4, 8, 0], [1, 3, 7], [5, 2, 6]],[[4, 8, 7], [1, 3, 0], [5, 2, 6]]]\n",
    "* [[[4, 0, 8], [1, 3, 7], [5, 2, 6]],[[0, 4, 8], [1, 3, 7], [5, 2, 6]],[[1, 4, 8], [0, 3, 7], [5, 2, 6]],[[1, 4, 8], [3, 0, 7], [5, 2, 6]]]\n",
    "* [[[4, 0, 8], [1, 3, 7], [5, 2, 6]],[[0, 4, 8], [1, 3, 7], [5, 2, 6]],[[1, 4, 8], [0, 3, 7], [5, 2, 6]],[[1, 4, 8], [5, 3, 7], [0, 2, 6]]]\n",
    "\n",
    "...\n",
    "\n",
    "Eventually, a list whose last element is the final configuration will be removed from the queue; it will be the sought after solution."
   ]
  },
  {
   "cell_type": "markdown",
   "metadata": {},
   "source": [
    "## Tests"
   ]
  },
  {
   "cell_type": "markdown",
   "metadata": {},
   "source": [
    "### Checking that an eight puzzle is invalid (no 0)"
   ]
  },
  {
   "cell_type": "markdown",
   "metadata": {},
   "source": [
    "Defining the command to execute and test:"
   ]
  },
  {
   "cell_type": "code",
   "execution_count": null,
   "metadata": {},
   "outputs": [],
   "source": [
    "statements = \"'from eight_puzzle import *; \"\\\n",
    "             \"validate_8_puzzle([[1, 2, 3], [4, 5, 6], [7, 8]])'\"\n",
    "%env COMMAND_TO_EXECUTE=python3 -c $statements"
   ]
  },
  {
   "cell_type": "markdown",
   "metadata": {},
   "source": [
    "Executing the command and capturing its output:"
   ]
  },
  {
   "cell_type": "code",
   "execution_count": null,
   "metadata": {},
   "outputs": [],
   "source": [
    "execute_command"
   ]
  },
  {
   "cell_type": "markdown",
   "metadata": {},
   "source": [
    "Examining the output:"
   ]
  },
  {
   "cell_type": "code",
   "execution_count": null,
   "metadata": {
    "scrolled": true
   },
   "outputs": [],
   "source": [
    "test_against('This is an invalid or unsolvable eight puzzle.\\n')"
   ]
  },
  {
   "cell_type": "markdown",
   "metadata": {},
   "source": [
    "### Checking that an eight puzzle is invalid (no 0 and a 9)"
   ]
  },
  {
   "cell_type": "markdown",
   "metadata": {},
   "source": [
    "Defining the command to execute and test:"
   ]
  },
  {
   "cell_type": "code",
   "execution_count": null,
   "metadata": {},
   "outputs": [],
   "source": [
    "statements = \"'from eight_puzzle import *; \"\\\n",
    "             \"validate_8_puzzle([[1, 2, 3], [4, 5, 6], [7, 8, 9]])'\"\n",
    "%env COMMAND_TO_EXECUTE=python3 -c $statements"
   ]
  },
  {
   "cell_type": "markdown",
   "metadata": {},
   "source": [
    "Executing the command and capturing its output:"
   ]
  },
  {
   "cell_type": "code",
   "execution_count": null,
   "metadata": {},
   "outputs": [],
   "source": [
    "execute_command"
   ]
  },
  {
   "cell_type": "markdown",
   "metadata": {
    "jupyter": {
     "source_hidden": true
    }
   },
   "source": [
    "Examining the output:"
   ]
  },
  {
   "cell_type": "code",
   "execution_count": null,
   "metadata": {
    "scrolled": true
   },
   "outputs": [],
   "source": [
    "test_against('This is an invalid or unsolvable eight puzzle.\\n')"
   ]
  },
  {
   "cell_type": "markdown",
   "metadata": {},
   "source": [
    "### Checking that an eight puzzle is invalid (1 occuring twice, no 5)"
   ]
  },
  {
   "cell_type": "markdown",
   "metadata": {},
   "source": [
    "Defining the command to execute and test:"
   ]
  },
  {
   "cell_type": "code",
   "execution_count": null,
   "metadata": {},
   "outputs": [],
   "source": [
    "statements = \"'from eight_puzzle import *; \"\\\n",
    "             \"validate_8_puzzle([[1, 2, 3], [4, 1, 6], [7, 8, 0]])'\"\n",
    "%env COMMAND_TO_EXECUTE=python3 -c $statements"
   ]
  },
  {
   "cell_type": "markdown",
   "metadata": {},
   "source": [
    "Executing the command and capturing its output:"
   ]
  },
  {
   "cell_type": "code",
   "execution_count": null,
   "metadata": {},
   "outputs": [],
   "source": [
    "execute_command"
   ]
  },
  {
   "cell_type": "markdown",
   "metadata": {},
   "source": [
    "Examining the output:"
   ]
  },
  {
   "cell_type": "code",
   "execution_count": null,
   "metadata": {},
   "outputs": [],
   "source": [
    "test_against('This is an invalid or unsolvable eight puzzle.\\n')"
   ]
  },
  {
   "cell_type": "markdown",
   "metadata": {},
   "source": [
    "### Checking that an eight puzzle is valid and solvable"
   ]
  },
  {
   "cell_type": "markdown",
   "metadata": {},
   "source": [
    "Defining the command to execute and test:"
   ]
  },
  {
   "cell_type": "code",
   "execution_count": null,
   "metadata": {},
   "outputs": [],
   "source": [
    "statements = \"'from eight_puzzle import *; \"\\\n",
    "             \"validate_8_puzzle([[1, 2, 3], [4, 5, 6], [7, 8, 0]])'\"\n",
    "%env COMMAND_TO_EXECUTE=python3 -c $statements"
   ]
  },
  {
   "cell_type": "markdown",
   "metadata": {},
   "source": [
    "Executing the command and capturing its output:"
   ]
  },
  {
   "cell_type": "code",
   "execution_count": null,
   "metadata": {},
   "outputs": [],
   "source": [
    "execute_command"
   ]
  },
  {
   "cell_type": "markdown",
   "metadata": {},
   "source": [
    "Examining the output:"
   ]
  },
  {
   "cell_type": "code",
   "execution_count": null,
   "metadata": {},
   "outputs": [],
   "source": [
    "test_against('This is a valid eight puzzle, and it is solvable.\\n')"
   ]
  },
  {
   "cell_type": "markdown",
   "metadata": {},
   "source": [
    "### Solving it"
   ]
  },
  {
   "cell_type": "markdown",
   "metadata": {},
   "source": [
    "Defining the command to execute and test:"
   ]
  },
  {
   "cell_type": "code",
   "execution_count": null,
   "metadata": {},
   "outputs": [],
   "source": [
    "statements = \"'from eight_puzzle import *; \"\\\n",
    "             \"solve_8_puzzle([[1, 2, 3], [4, 5, 6], [7, 8, 0]])'\"\n",
    "%env COMMAND_TO_EXECUTE=python3 -c $statements"
   ]
  },
  {
   "cell_type": "markdown",
   "metadata": {},
   "source": [
    "Executing the command and capturing its output:"
   ]
  },
  {
   "cell_type": "code",
   "execution_count": null,
   "metadata": {},
   "outputs": [],
   "source": [
    "execute_command"
   ]
  },
  {
   "cell_type": "markdown",
   "metadata": {},
   "source": [
    "Examining the output:"
   ]
  },
  {
   "cell_type": "code",
   "execution_count": null,
   "metadata": {
    "scrolled": true
   },
   "outputs": [],
   "source": [
    "test_against('Here is the preferred minimal solution:\\n'\n",
    "             '\\n'\n",
    "             '  1  2  3\\n'\n",
    "             '  4  5  6\\n'\n",
    "             '  7  8   \\n'\n",
    "            )"
   ]
  },
  {
   "cell_type": "markdown",
   "metadata": {},
   "source": [
    "### Checking that an eight puzzle is unsolvable"
   ]
  },
  {
   "cell_type": "markdown",
   "metadata": {},
   "source": [
    "Defining the command to execute and test:"
   ]
  },
  {
   "cell_type": "code",
   "execution_count": null,
   "metadata": {},
   "outputs": [],
   "source": [
    "statements = \"'from eight_puzzle import *; \"\\\n",
    "             \"validate_8_puzzle([[1, 2, 3], [4, 5, 6], [None, 8, 7]])'\"\n",
    "%env COMMAND_TO_EXECUTE=python3 -c $statements"
   ]
  },
  {
   "cell_type": "markdown",
   "metadata": {},
   "source": [
    "Executing the command and capturing its output:"
   ]
  },
  {
   "cell_type": "code",
   "execution_count": null,
   "metadata": {},
   "outputs": [],
   "source": [
    "execute_command"
   ]
  },
  {
   "cell_type": "markdown",
   "metadata": {},
   "source": [
    "Examining the output:"
   ]
  },
  {
   "cell_type": "code",
   "execution_count": null,
   "metadata": {
    "scrolled": true
   },
   "outputs": [],
   "source": [
    "test_against('This is an invalid or unsolvable eight puzzle.\\n')"
   ]
  },
  {
   "cell_type": "markdown",
   "metadata": {},
   "source": [
    "### Checking that an eight puzzle is valid and solvable"
   ]
  },
  {
   "cell_type": "markdown",
   "metadata": {},
   "source": [
    "Defining the command to execute and test:"
   ]
  },
  {
   "cell_type": "code",
   "execution_count": null,
   "metadata": {},
   "outputs": [],
   "source": [
    "statements = \"'from eight_puzzle import *; \"\\\n",
    "             \"validate_8_puzzle([[1, 2, 3], [4, 5, 6], [None, 7, 8]])'\"\n",
    "%env COMMAND_TO_EXECUTE=python3 -c $statements"
   ]
  },
  {
   "cell_type": "markdown",
   "metadata": {},
   "source": [
    "Executing the command and capturing its output:"
   ]
  },
  {
   "cell_type": "code",
   "execution_count": null,
   "metadata": {},
   "outputs": [],
   "source": [
    "execute_command"
   ]
  },
  {
   "cell_type": "markdown",
   "metadata": {},
   "source": [
    "Examining the output:"
   ]
  },
  {
   "cell_type": "code",
   "execution_count": null,
   "metadata": {},
   "outputs": [],
   "source": [
    "test_against('This is a valid eight puzzle, and it is solvable.\\n')"
   ]
  },
  {
   "cell_type": "markdown",
   "metadata": {},
   "source": [
    "### Solving it"
   ]
  },
  {
   "cell_type": "markdown",
   "metadata": {},
   "source": [
    "Defining the command to execute and test:"
   ]
  },
  {
   "cell_type": "code",
   "execution_count": null,
   "metadata": {},
   "outputs": [],
   "source": [
    "statements = \"'from eight_puzzle import *; \"\\\n",
    "             \"solve_8_puzzle([[1, 2, 3], [4, 5, 6], [None, 7, 8]])'\"\n",
    "%env COMMAND_TO_EXECUTE=python3 -c $statements"
   ]
  },
  {
   "cell_type": "markdown",
   "metadata": {},
   "source": [
    "Executing the command and capturing its output:"
   ]
  },
  {
   "cell_type": "code",
   "execution_count": null,
   "metadata": {},
   "outputs": [],
   "source": [
    "execute_command"
   ]
  },
  {
   "cell_type": "markdown",
   "metadata": {},
   "source": [
    "Examining the output:"
   ]
  },
  {
   "cell_type": "code",
   "execution_count": null,
   "metadata": {
    "scrolled": true
   },
   "outputs": [],
   "source": [
    "test_against('Here is the preferred minimal solution:\\n'\n",
    "             '\\n'\n",
    "             '  1  2  3\\n'\n",
    "             '  4  5  6\\n'\n",
    "             '     7  8\\n'\n",
    "             '\\n'\n",
    "             '  1  2  3\\n'\n",
    "             '  4  5  6\\n'\n",
    "             '  7     8\\n'\n",
    "             '\\n'\n",
    "             '  1  2  3\\n'\n",
    "             '  4  5  6\\n'\n",
    "             '  7  8   \\n'\n",
    "            )"
   ]
  },
  {
   "cell_type": "markdown",
   "metadata": {},
   "source": [
    "### Checking that an eight puzzle is unsolvable"
   ]
  },
  {
   "cell_type": "markdown",
   "metadata": {},
   "source": [
    "Defining the command to execute and test:"
   ]
  },
  {
   "cell_type": "code",
   "execution_count": null,
   "metadata": {},
   "outputs": [],
   "source": [
    "statements = \"'from eight_puzzle import *; \"\\\n",
    "             \"validate_8_puzzle([[4, None, 8], [3, 1, 7], [5, 2, 6]])'\"\n",
    "%env COMMAND_TO_EXECUTE=python3 -c $statements"
   ]
  },
  {
   "cell_type": "markdown",
   "metadata": {},
   "source": [
    "Executing the command and capturing its output:"
   ]
  },
  {
   "cell_type": "code",
   "execution_count": null,
   "metadata": {},
   "outputs": [],
   "source": [
    "execute_command"
   ]
  },
  {
   "cell_type": "markdown",
   "metadata": {},
   "source": [
    "Examining the output:"
   ]
  },
  {
   "cell_type": "code",
   "execution_count": null,
   "metadata": {
    "scrolled": true
   },
   "outputs": [],
   "source": [
    "test_against('This is an invalid or unsolvable eight puzzle.\\n')"
   ]
  },
  {
   "cell_type": "markdown",
   "metadata": {},
   "source": [
    "### Checking that an eight puzzle is valid and solvable"
   ]
  },
  {
   "cell_type": "markdown",
   "metadata": {},
   "source": [
    "Defining the command to execute and test:"
   ]
  },
  {
   "cell_type": "code",
   "execution_count": null,
   "metadata": {},
   "outputs": [],
   "source": [
    "statements = \"'from eight_puzzle import *; \"\\\n",
    "             \"validate_8_puzzle([[4, None, 8], [1, 3, 7], [5, 2, 6]])'\"\n",
    "%env COMMAND_TO_EXECUTE=python3 -c $statements"
   ]
  },
  {
   "cell_type": "markdown",
   "metadata": {},
   "source": [
    "Executing the command and capturing its output:"
   ]
  },
  {
   "cell_type": "code",
   "execution_count": null,
   "metadata": {},
   "outputs": [],
   "source": [
    "execute_command"
   ]
  },
  {
   "cell_type": "markdown",
   "metadata": {},
   "source": [
    "Examining the output:"
   ]
  },
  {
   "cell_type": "code",
   "execution_count": null,
   "metadata": {},
   "outputs": [],
   "source": [
    "test_against('This is a valid eight puzzle, and it is solvable.\\n')"
   ]
  },
  {
   "cell_type": "markdown",
   "metadata": {},
   "source": [
    "### Solving it"
   ]
  },
  {
   "cell_type": "markdown",
   "metadata": {},
   "source": [
    "Defining the command to execute and test:"
   ]
  },
  {
   "cell_type": "code",
   "execution_count": null,
   "metadata": {},
   "outputs": [],
   "source": [
    "statements = \"'from eight_puzzle import *; \"\\\n",
    "             \"solve_8_puzzle([[4, None, 8], [1, 3, 7], [5, 2, 6]])'\"\n",
    "%env COMMAND_TO_EXECUTE=python3 -c $statements"
   ]
  },
  {
   "cell_type": "markdown",
   "metadata": {},
   "source": [
    "Executing the command and capturing its output:"
   ]
  },
  {
   "cell_type": "code",
   "execution_count": null,
   "metadata": {},
   "outputs": [],
   "source": [
    "execute_command"
   ]
  },
  {
   "cell_type": "markdown",
   "metadata": {},
   "source": [
    "Examining the output:"
   ]
  },
  {
   "cell_type": "code",
   "execution_count": null,
   "metadata": {
    "scrolled": true
   },
   "outputs": [],
   "source": [
    "test_against('Here is the preferred minimal solution:\\n'\n",
    "             '\\n'\n",
    "             '  4     8\\n'\n",
    "             '  1  3  7\\n'\n",
    "             '  5  2  6\\n'\n",
    "             '\\n'\n",
    "             '  4  3  8\\n'\n",
    "             '  1     7\\n'\n",
    "             '  5  2  6\\n'\n",
    "             '\\n'\n",
    "             '  4  3  8\\n'\n",
    "             '     1  7\\n'\n",
    "             '  5  2  6\\n'\n",
    "             '\\n'\n",
    "             '  4  3  8\\n'\n",
    "             '  5  1  7\\n'\n",
    "             '     2  6\\n'\n",
    "             '\\n'\n",
    "             '  4  3  8\\n'\n",
    "             '  5  1  7\\n'\n",
    "             '  2     6\\n'\n",
    "             '\\n'\n",
    "             '  4  3  8\\n'\n",
    "             '  5  1  7\\n'\n",
    "             '  2  6   \\n'\n",
    "             '\\n'\n",
    "             '  4  3  8\\n'\n",
    "             '  5  1   \\n'\n",
    "             '  2  6  7\\n'\n",
    "             '\\n'\n",
    "             '  4  3   \\n'\n",
    "             '  5  1  8\\n'\n",
    "             '  2  6  7\\n'\n",
    "             '\\n'\n",
    "             '  4     3\\n'\n",
    "             '  5  1  8\\n'\n",
    "             '  2  6  7\\n'\n",
    "             '\\n'\n",
    "             '  4  1  3\\n'\n",
    "             '  5     8\\n'\n",
    "             '  2  6  7\\n'\n",
    "             '\\n'\n",
    "             '  4  1  3\\n'\n",
    "             '  5  6  8\\n'\n",
    "             '  2     7\\n'\n",
    "             '\\n'\n",
    "             '  4  1  3\\n'\n",
    "             '  5  6  8\\n'\n",
    "             '  2  7   \\n'\n",
    "             '\\n'\n",
    "             '  4  1  3\\n'\n",
    "             '  5  6   \\n'\n",
    "             '  2  7  8\\n'\n",
    "             '\\n'\n",
    "             '  4  1  3\\n'\n",
    "             '  5     6\\n'\n",
    "             '  2  7  8\\n'\n",
    "             '\\n'\n",
    "             '  4  1  3\\n'\n",
    "             '     5  6\\n'\n",
    "             '  2  7  8\\n'\n",
    "             '\\n'\n",
    "             '  4  1  3\\n'\n",
    "             '  2  5  6\\n'\n",
    "             '     7  8\\n'\n",
    "             '\\n'\n",
    "             '  4  1  3\\n'\n",
    "             '  2  5  6\\n'\n",
    "             '  7     8\\n'\n",
    "             '\\n'\n",
    "             '  4  1  3\\n'\n",
    "             '  2     6\\n'\n",
    "             '  7  5  8\\n'\n",
    "             '\\n'\n",
    "             '  4  1  3\\n'\n",
    "             '     2  6\\n'\n",
    "             '  7  5  8\\n'\n",
    "             '\\n'\n",
    "             '     1  3\\n'\n",
    "             '  4  2  6\\n'\n",
    "             '  7  5  8\\n'\n",
    "             '\\n'\n",
    "             '  1     3\\n'\n",
    "             '  4  2  6\\n'\n",
    "             '  7  5  8\\n'\n",
    "             '\\n'\n",
    "             '  1  2  3\\n'\n",
    "             '  4     6\\n'\n",
    "             '  7  5  8\\n'\n",
    "             '\\n'\n",
    "             '  1  2  3\\n'\n",
    "             '  4  5  6\\n'\n",
    "             '  7     8\\n'\n",
    "             '\\n'\n",
    "             '  1  2  3\\n'\n",
    "             '  4  5  6\\n'\n",
    "             '  7  8   \\n'\n",
    "            )"
   ]
  }
 ],
 "metadata": {
  "kernelspec": {
   "display_name": "Python 3 (ipykernel)",
   "language": "python",
   "name": "python3"
  },
  "language_info": {
   "codemirror_mode": {
    "name": "ipython",
    "version": 3
   },
   "file_extension": ".py",
   "mimetype": "text/x-python",
   "name": "python",
   "nbconvert_exporter": "python",
   "pygments_lexer": "ipython3",
   "version": "3.9.7"
  },
  "latex_envs": {
   "LaTeX_envs_menu_present": true,
   "autoclose": false,
   "autocomplete": true,
   "bibliofile": "biblio.bib",
   "cite_by": "apalike",
   "current_citInitial": 1,
   "eqLabelWithNumbers": true,
   "eqNumInitial": 1,
   "hotkeys": {
    "equation": "Ctrl-E",
    "itemize": "Ctrl-I"
   },
   "labels_anchors": false,
   "latex_user_defs": false,
   "report_style_numbering": false,
   "user_envs_cfg": false
  },
  "toc": {
   "base_numbering": 1,
   "nav_menu": {},
   "number_sections": true,
   "sideBar": true,
   "skip_h1_title": false,
   "title_cell": "Table of Contents",
   "title_sidebar": "Contents",
   "toc_cell": false,
   "toc_position": {},
   "toc_section_display": true,
   "toc_window_display": false
  }
 },
 "nbformat": 4,
 "nbformat_minor": 4
}
