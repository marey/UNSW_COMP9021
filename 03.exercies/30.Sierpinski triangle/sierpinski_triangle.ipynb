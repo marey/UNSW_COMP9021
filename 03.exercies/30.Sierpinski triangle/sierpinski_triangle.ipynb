{
 "cells": [
  {
   "cell_type": "code",
   "execution_count": null,
   "metadata": {
    "jupyter": {
     "source_hidden": true
    },
    "tags": []
   },
   "outputs": [],
   "source": [
    "import zipfile\n",
    "with zipfile.ZipFile('Illustrations.zip') as illustrations:\n",
    "    illustrations.extractall('.')"
   ]
  },
  {
   "cell_type": "markdown",
   "metadata": {},
   "source": [
    "# Background"
   ]
  },
  {
   "cell_type": "markdown",
   "metadata": {},
   "source": [
    "Recall that for all $n\\in\\mathbb N$ and $k\\in\\{0,\\dots,n\\}$, $n\\choose k$, the number of ways of chosing $k$ elements from a set of $n$ elements, is equal to $n(n-1)\\dots(n-k+1)$ (hence to 1 in the particular case where $k=0$ or $k=n$). For $n\\in\\mathbb N$ and $k>n$, it is natural to define $n\\choose k$ as 0 as one cannot get $k$ elements from a set with fewer elements."
   ]
  },
  {
   "cell_type": "markdown",
   "metadata": {},
   "source": [
    "**Lemma 1.**<a name=prop_1></a>$\\ $ _Given $p\\in\\mathbb N\\setminus\\{0\\}$ and $n,a_0,\\dots,a_n,b_0,\\dots,b_n\\in\\mathbb N$, the polynomials $a_0+a_1X+\\dots+a_nX^n$ and $b_0+b_1X+\\dots+b_nX^n$ are equal modulo $p$ iff for all $i\\leq n$, $a_i$ and $b_i$ are equal modulo $p$._"
   ]
  },
  {
   "cell_type": "markdown",
   "metadata": {},
   "source": [
    "_Proof._$\\ $ Both polynomials are equal modulo $p$ iff there exists $c_0,\\dots,c_n\\in\\mathbb N$ such that their difference is equal to $p(c_0+c_1X+\\dots+c_nX^n)$, which is equivalent to $a_i-b_i=pc_i$ for all $i\\leq n$, which is equivalent to $a_i=b_i\\bmod p$ for all $i\\leq n$.$\\ $ Q.E.D."
   ]
  },
  {
   "cell_type": "markdown",
   "metadata": {},
   "source": [
    "**Lemma 2.**<a name=prop_2></a>$\\ $ _For all prime numbers $p$ and $k\\in\\{1,\\dots,p-1\\}$, $p\\choose k$ is equal to 0 modulo $p$._"
   ]
  },
  {
   "cell_type": "markdown",
   "metadata": {},
   "source": [
    "_Proof._$\\ $ Since $k{p\\choose k} = p{p - 1\\choose k-1}$, $p$ divides $k{p\\choose k}$, hence $p$ divides $p\\choose k$.$\\ $ Q.E.D."
   ]
  },
  {
   "cell_type": "markdown",
   "metadata": {},
   "source": [
    "**Lemma 3.**<a name=prop_3></a>$\\ $ _For all prime numbers $p$ and $a,b\\in\\mathbb N$, $(a+b)^p$ is equal to $a^p+b^p$ modulo $p$._"
   ]
  },
  {
   "cell_type": "markdown",
   "metadata": {},
   "source": [
    "_Proof._$\\ $ The lemma is trivial if $a=0$ or $b=0$, and it immediately follows from Lemma [2](#prop_2) otherwise.$\\ $ Q.E.D."
   ]
  },
  {
   "cell_type": "markdown",
   "metadata": {},
   "source": [
    "The following theorems are known as Luca's theorem."
   ]
  },
  {
   "cell_type": "markdown",
   "metadata": {},
   "source": [
    "**Theorem 4.**<a name=prop_4></a>$\\ $ _Let a prime number $p$ and $n,k\\in\\mathbf N$ be given. Then ${n\\choose k}$ is equal to ${n\\div p\\choose k\\div p}{n\\bmod p\\choose k\\bmod p}$ modulo $p$._"
   ]
  },
  {
   "cell_type": "markdown",
   "metadata": {},
   "source": [
    "_Proof._$\\ $ The result is straightforward if $k>n$, so suppose otherwise. Set $q=n\\div p$ and $r=n\\bmod p$. Then $(1+X)^{pq+r}$ is equal to $(1+X)^{pq}(1+X)^r$, which by Lemma [3](#prop_3) is equal to $(1+X^p)^q(1+X)^r$ modulo $p$. Moreover:\n",
    "\n",
    "* $(1+X)^{pq+r}$ is equal to $\\Sigma_{k=0}^{pq+r}{pq+r\\choose k}X^k$;\n",
    "* $(1+X^p)^q(1+X)^r$ is successively equal to:\n",
    "    * $\\Sigma_{i=0}^q{q\\choose i}X^{pi}\\Sigma_{j=0}^r{r\\choose j}X^j$,\n",
    "    * $\\Sigma_{i=0}^q\\Sigma_{j=0}^r{q\\choose i}{r\\choose j}X^{pi+j}$,\n",
    "    * $\\Sigma_{i=0}^q\\Sigma_{j=0}^r{q\\choose i}{r\\choose j}X^{pi+j}+\\Sigma_{i=0}^{q-1}\\Sigma_{j=r+1}^{p-1}{q\\choose i}{r\\choose j}X^{pi+j}$,\n",
    "    * $\\Sigma_{i=0}^{q-1}\\Sigma_{j=0}^{p-1}{q\\choose i}{r\\choose j}X^{pi+j}+\\Sigma_{j=0}^r{q\\choose q}{r\\choose j}X^{pq+j}$.\n",
    "\n",
    "Hence $\\Sigma_{k=0}^{pq+r}{pq+r\\choose k}X^k$ is equal to $\\Sigma_{i=0}^{q-1}\\Sigma_{j=0}^{p-1}{q\\choose i}{r\\choose j}X^{pi+j}+\\Sigma_{j=0}^r{q\\choose q}{r\\choose j}X^{pq+j}$ modulo $p$, which together with Lemma [1](#prop_1), implies that for all $k\\leq n$, ${pq+r\\choose k}$ is equal to ${q\\choose k\\div p}{r\\choose k\\bmod p}$ modulo $p$. Hence for all $k\\leq n$, ${n\\choose k}$ is equal to ${n\\div p\\choose k\\div p}{n\\bmod p\\choose k\\bmod p}$ modulo $p$.$\\ $ Q.E.D."
   ]
  },
  {
   "cell_type": "markdown",
   "metadata": {},
   "source": [
    "**Theorem 5.**<a name=prop_5></a>$\\ $ _Let a prime number $p$ and two natural numbers $n$ and $k$ be given. Writing $n$ and $k$ in base $p$, there is a natural number $d$ and there are natural numbers $n_0,\\dots,n_d,k_0,\\dots,k_d$ such that:_\n",
    "\n",
    "* $n=n_0+n_1p+\\dots+n_dp^d$;\n",
    "* $k=k_0+k_1p+\\dots+k_dp^d$.\n",
    "\n",
    "_Then $n\\choose k$ is equal to $\\Pi_{i=0}^d{n_i\\choose k_i}$ modulo $p$._"
   ]
  },
  {
   "cell_type": "markdown",
   "metadata": {},
   "source": [
    "_Proof._$\\ $ The result is immediately verified by induction using Theorem [4](#prop_4).$\\ $ Q.E.D."
   ]
  },
  {
   "cell_type": "markdown",
   "metadata": {},
   "source": [
    "**Corollary 6.**<a name=prop_6></a>$\\ $ _Let two natural numbers $n$ and $k$ be given. Writing $n$ and $k$ in base 2, there is a natural number $d$ and there are $n_0,\\dots,n_d,k_0,\\dots,k_d\\in\\{0,1\\}$ such that:_\n",
    "\n",
    "* $n=n_0+n_12+\\dots+n_d2^d$;\n",
    "* $k=k_0+k_12+\\dots+k_d2^d$.\n",
    "\n",
    "_Then $n\\choose k$ is odd iff for all $i\\leq d$, if $k_i=1$ then $n_i=1$._"
   ]
  },
  {
   "cell_type": "markdown",
   "metadata": {},
   "source": [
    "_Proof._$\\ $ By Theorem [5](#prop_5), $n\\choose k$ is odd iff for all $i\\leq d$, $n_i\\choose k_i$ is equal to 1, which is equivalent to: for all $i\\leq d$, $k_i\\leq n_i$.$\\ $ Q.E.D."
   ]
  },
  {
   "cell_type": "markdown",
   "metadata": {},
   "source": [
    "For instance:\n",
    "\n",
    "* $5\\choose 3$ is equal to 10, an even number, 5 reads as 101 in binary, 3 reads as 11 in binary, and there is a bit set to 1 in 11 that is correspondly set to 0 in 101;\n",
    "* $6\\choose 2$ is equal to 15, an odd number, 6 reads as 110 in binary, 2 reads as 10 in binary, and all bits set to 1 in 10 are correspondingly set to 1 in 110.\n",
    "\n",
    "Sierpinski triangle can be obtained from Pascal triangle by drawing a black square when the corresponding number is odd:\n",
    "\n",
    "<div><img src=\"Illustrations/sierpinsky_1.pdf\" width=\"250\"/></div>\n",
    "\n",
    "Corollary [6](#prop_6) provides an efficient way to draw Sierpinski triangle. Moreover, Theorem [4](#prop_4) explains why it is a *fractal*:\n",
    "\n",
    "Let $n\\in\\mathbb N$ be given and $q\\in\\{0,2^n-1\\}$ be given. Then:\n",
    "\n",
    "* for all $r\\in\\{0,\\dots,q\\}$, $2^n+q\\choose r$ is equal to $q\\choose r$ modulo $2^n$;\n",
    "* for all $r\\in\\{0,\\dots,q\\}$, $2^n+q\\choose 2^n+r$ is equal to $q\\choose r$ modulo $2^n$;\n",
    "* for all $r\\in\\{q+1,\\dots,2^n-1\\}$, $2^n+q\\choose r$ is equal to 0 modulo $2^n$.\n",
    "\n",
    "This is illustrated for $n=6$ in the picture below:\n",
    "\n",
    "* by the first equality, the blue triangle is a copy of the black triangle;\n",
    "* by the second equality, the red triangle is a copy of the black triangle;\n",
    "* by the third equality, the inverted triangle between the blue and red triangles is white.\n",
    "\n",
    "<div><img src=\"Illustrations/sierpinsky_2.pdf\" width=\"250\"/></div>"
   ]
  },
  {
   "cell_type": "markdown",
   "metadata": {},
   "source": [
    "# Task"
   ]
  },
  {
   "cell_type": "markdown",
   "metadata": {},
   "source": [
    "Write a program `sierpinski_triangle.py` that generates some Latex code, stored in file named `sierpinski_triangle.tex` file, that can be processed with pdflatex to create a pdf file (named `sierpinski_triangle.pdf`) that depicts the first 128 lines of Sierpinski triangle. Both the tex file and the pdf file are provided as `sierpinski_triangle_solution.tex` and `sierpinski_triangle_solution.pdf`, respectively.\n",
    "\n",
    "Examine `sierpinski_triangle_solution.tex` to understand what to write in `sierpinski_triangle.tex`.\n",
    "\n",
    "if you want to generate `sierpinski_triangle.pdf` from the file `sierpinski_triangle.tex` generated by your program, you need to have Tex installed on your computer (see http://www.tug.org/texlive/), and then execute\n",
    "`pdflatex sierpinski_triangle.tex` from the command line, or open `sierpinski_triangle.tex` in the Latex editor that comes with your distribution of Tex, and it will just be a matter of clicking a button..."
   ]
  },
  {
   "cell_type": "markdown",
   "metadata": {},
   "source": [
    "# Test"
   ]
  },
  {
   "cell_type": "markdown",
   "metadata": {},
   "source": [
    "Running the program:"
   ]
  },
  {
   "cell_type": "code",
   "execution_count": null,
   "metadata": {},
   "outputs": [],
   "source": [
    "run sierpinski_triangle.py"
   ]
  },
  {
   "cell_type": "markdown",
   "metadata": {},
   "source": [
    "Comparing the file that has been generated by the program with the expected file (`diff` will exit silently if both files are identical, as they should be):"
   ]
  },
  {
   "cell_type": "code",
   "execution_count": null,
   "metadata": {},
   "outputs": [],
   "source": [
    "!diff sierpinski_triangle.tex sierpinski_triangle_solution.tex"
   ]
  }
 ],
 "metadata": {
  "kernelspec": {
   "display_name": "Python 3 (ipykernel)",
   "language": "python",
   "name": "python3"
  },
  "language_info": {
   "codemirror_mode": {
    "name": "ipython",
    "version": 3
   },
   "file_extension": ".py",
   "mimetype": "text/x-python",
   "name": "python",
   "nbconvert_exporter": "python",
   "pygments_lexer": "ipython3",
   "version": "3.10.2"
  },
  "latex_envs": {
   "LaTeX_envs_menu_present": true,
   "autoclose": false,
   "autocomplete": true,
   "bibliofile": "biblio.bib",
   "cite_by": "apalike",
   "current_citInitial": 1,
   "eqLabelWithNumbers": true,
   "eqNumInitial": 1,
   "hotkeys": {
    "equation": "Ctrl-E",
    "itemize": "Ctrl-I"
   },
   "labels_anchors": false,
   "latex_user_defs": false,
   "report_style_numbering": false,
   "user_envs_cfg": false
  },
  "toc": {
   "base_numbering": 1,
   "nav_menu": {},
   "number_sections": true,
   "sideBar": true,
   "skip_h1_title": false,
   "title_cell": "Table of Contents",
   "title_sidebar": "Contents",
   "toc_cell": false,
   "toc_position": {},
   "toc_section_display": true,
   "toc_window_display": false
  },
  "widgets": {
   "application/vnd.jupyter.widget-state+json": {
    "state": {},
    "version_major": 2,
    "version_minor": 0
   }
  }
 },
 "nbformat": 4,
 "nbformat_minor": 4
}
