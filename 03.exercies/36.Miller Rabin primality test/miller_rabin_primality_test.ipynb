{
 "cells": [
  {
   "cell_type": "code",
   "execution_count": null,
   "metadata": {},
   "outputs": [],
   "source": [
    "load_ext run_and_test"
   ]
  },
  {
   "cell_type": "markdown",
   "metadata": {},
   "source": [
    "# Background"
   ]
  },
  {
   "cell_type": "markdown",
   "metadata": {},
   "source": [
    "Let $p$ be an integer greater than 1."
   ]
  },
  {
   "cell_type": "markdown",
   "metadata": {},
   "source": [
    "## Fermat's little theorem and Pingala's algorithm"
   ]
  },
  {
   "cell_type": "markdown",
   "metadata": {},
   "source": [
    "By Fermat's little theorem, if $p$ is prime then for all natural numbers $a$ that are coprime to $p$, $a^{p-1}\\bmod p=1$. Let $a$ be an integer with $1<a<p$. If either $a$ divides $p$ or $a^{p-1}\\bmod p\\neq 1$, $p$ is then guaranteed not to be prime; it is said that $a$ \"witnesses\" that $p$ is not prime. Pingala's algorithm offers a fast computation of $a^{p-1}$ modulo $p$. We illustrate it with $p=101$ and $a=3$. In base 2, 100 reads as 1100100. So 100 is equal to\n",
    "\n",
    "\\begin{equation}\n",
    "(((((1\\times 2+1)\\times 2+0)\\times 2+0)\\times 2+1)\\times 2+0)\\times 2+0\n",
    "\\end{equation}\n",
    "\n",
    "(starting with the leftmost 1 in 1100100, \"inserting to the right\" each of the remaining bits in 1100100, from left to right, requires to \"shift\" the previous bits to the left, corresponding to a multiplication by 2, and adding that bit to the result), that is,\n",
    "\n",
    "\\begin{equation}\n",
    "(((((2+1)\\times 2)\\times 2)\\times 2+1)\\times 2)\\times 2.\\tag{*}\\label{*}\n",
    "\\end{equation}\n",
    "\n",
    "Hence $3^{100}$ is equal to\n",
    "\n",
    "\\begin{equation}\n",
    "(((((3^2\\times 3)^2)^2)^2\\times 3)^2)^2\n",
    "\\end{equation}\n",
    "\n",
    "(starting with 3, the initial 2 and a multiplication by 2 in $\\eqref{*}$ necessitate to raise to the power 2, and an addition of 1 in $\\eqref{*}$ necessitates to multiply by 3).\n",
    "Hence $3^{100}\\bmod 101$ is equal to\n",
    "\n",
    "\\begin{equation}\n",
    "(((((3^2\\bmod 101\\times 3 \\bmod 101)^2 \\bmod 101)^2 \\bmod 101)^2\\bmod 101\\times 3\\bmod 101)^2\\bmod 101)^2\\bmod 101,\n",
    "\\end{equation}\n",
    "\n",
    "which evaluates to 1. So using 3 as a possible witness, the conclusion is that 101 might be prime, which is the case indeed.\n",
    "\n",
    "For another example, take $p=91$, and $a$ equal to either 3 or 5. In base 2, 90 reads as 1011010. Hence $3^{90}\\bmod 91$ is equal to\n",
    "\n",
    "\\begin{equation*}\n",
    "(((((3^2\\bmod 91)^2\\bmod 91\\times 3\\bmod 91)^2\\bmod 91\\times 3\\bmod 91)^2\\bmod 91)^2\\bmod 91\\times 3\\bmod 91)^2\\bmod 91,\n",
    "\\end{equation*}\n",
    "\n",
    "which evaluates to 1. So using 3 as a possible witness, the conclusion is that 91 might be prime, which is wrong. On the other hand, $5^{90}\\bmod 91$ is equal to\n",
    "\n",
    "\\begin{equation}\n",
    "(((((5^2\\bmod 91)^2\\bmod 91\\times 5\\bmod 91)^2\\bmod 91\\times 5\\bmod 91)^2\\bmod 91)^2\\bmod 91\\times 5\\bmod 91)^2\\bmod 91,\n",
    "\\end{equation}\n",
    "\n",
    "which evaluates to 64. So using 5 as a possible witness, the conclusion is that 91 is definitely not prime."
   ]
  },
  {
   "cell_type": "markdown",
   "metadata": {},
   "source": [
    "## ROO (Roots One One) property of primes"
   ]
  },
  {
   "cell_type": "markdown",
   "metadata": {},
   "source": [
    "ROO is the following statement."
   ]
  },
  {
   "cell_type": "markdown",
   "metadata": {},
   "source": [
    "**Proposition.**$\\ $ _If $p$ is prime then for all natural numbers $x$, if $x^2\\bmod p=1$ then $x\\bmod p=\\pm1$._"
   ]
  },
  {
   "cell_type": "markdown",
   "metadata": {},
   "source": [
    "_Proof._$\\ $ If $x^2\\bmod p=1$ then $x^2-1\\bmod p=0$, that is, $(x-1)(x+1)\\bmod p=0$. If $p$ is prime, this implies that $x-1\\bmod p=0$ or $x+1\\bmod p=0$, hence $x\\bmod p=\\pm1$.$\\ $ Q.E.D."
   ]
  },
  {
   "cell_type": "markdown",
   "metadata": {},
   "source": [
    "By the above, $3^{90}\\bmod 91$, which recall evaluates to $1\\bmod 91$, is equal to $x^2\\bmod 91$ with $x$ equal to\n",
    "\n",
    "\\begin{equation}\n",
    "((((3^2\\bmod 91)^2\\bmod 91\\times 3\\bmod 91)^2\\bmod 91\\times 3\\bmod 91)^2\\bmod 91)^2\\bmod 91\\times 3\\bmod 91,\n",
    "\\end{equation}\n",
    "\n",
    "which evaluates to 27. The conclusion is that, making additional use of ROO, 3 can after all witness that 91 is not prime.\n",
    "\n",
    "More generally, say that an integer $a$ with $1<a<p$ _strongly witnesses_ that $p$ is not prime if\n",
    "\n",
    "* either $a$ divides $p$,\n",
    "* or $a^{p-1}\\bmod p\\neq 1$,\n",
    "* or the computation of $a^{p-1}\\bmod p$ following Pingala's algorithm involves raising some number $x$ to the power 2 with $x\\bmod p\\neq\\pm 1$ and $x^2\\bmod p=1$."
   ]
  },
  {
   "cell_type": "markdown",
   "metadata": {},
   "source": [
    "# Task"
   ]
  },
  {
   "cell_type": "markdown",
   "metadata": {},
   "source": [
    "Write a program `miller_rabin_primality_test.py` that implements 3 functions:\n",
    "\n",
    "* A function `witnesses_is_not_prime(a, p)` that given as arguments two integers $a$ and $p$ with $1<a<p$, returns `True` if $a$ strongly witnesses that $p$ is not prime (in which case $p$ is necessarily not prime), and `False` otherwise (in which case $p$ is likely to be prime but might still not be).\n",
    "* A function `miller_rabin_primality_test([a_1, ..., a_k], p)` that given a list of integers $a_1$, ..., $a_k$ all greater than 1 as first argument and an integer $p$ greater than all of $a_1$, ..., $a_k$ as second argument, returns `False` if $a_1$, ..., $a_k$ strongly witness that $p$ is not prime, and `True` otherwise.\n",
    "* A function `smallest_miller_rabin_primality_test_failure([a_1, ..., a_k], n)` that given a list $a_1$, ..., $a_k$ of integers all greater than 1 as first argument and an integer $n$ as second argument, returns the smallest integer $p$ with $\\max(a_1,\\dots,a_k)<p\\leq n$ such that `miller_rabin_primality_test([a_1, ..., a_k], p)` returns `True` whereas $p$ is not prime, in case there is indeed such a number $p$ (otherwise, the function returns `None`)\n",
    "\n",
    "It can be proved that when $p$ is a large number, randomly choosing $k$ numbers and applying the Miller Rabin primality test to $p$ with those $k$ numbers incorrectly returns `True` with a probability of $\\frac{1}{4^k}$, which very quickly becomes extremely small."
   ]
  },
  {
   "cell_type": "markdown",
   "metadata": {},
   "source": [
    "# Tests"
   ]
  },
  {
   "cell_type": "markdown",
   "metadata": {},
   "source": [
    "## 2 strongly witnesses that 41041 is not prime"
   ]
  },
  {
   "cell_type": "code",
   "execution_count": null,
   "metadata": {},
   "outputs": [],
   "source": [
    "statements = 'from miller_rabin_primality_test import *; '\\\n",
    "             'print(witnesses_is_not_prime(2, 41041))'"
   ]
  },
  {
   "cell_type": "code",
   "execution_count": null,
   "metadata": {},
   "outputs": [],
   "source": [
    "%%run_and_test python3 -c \"$statements\"\n",
    "\n",
    "'True\\n'"
   ]
  },
  {
   "cell_type": "markdown",
   "metadata": {},
   "source": [
    "## 3 strongly witnesses that 667 is not prime"
   ]
  },
  {
   "cell_type": "code",
   "execution_count": null,
   "metadata": {},
   "outputs": [],
   "source": [
    "statements = 'from miller_rabin_primality_test import *; '\\\n",
    "             'print(witnesses_is_not_prime(3, 667))'"
   ]
  },
  {
   "cell_type": "code",
   "execution_count": null,
   "metadata": {},
   "outputs": [],
   "source": [
    "%%run_and_test python3 -c \"$statements\"\n",
    "\n",
    "'True\\n'"
   ]
  },
  {
   "cell_type": "markdown",
   "metadata": {},
   "source": [
    "## 2 correctly leads to believe that 991 is prime"
   ]
  },
  {
   "cell_type": "code",
   "execution_count": null,
   "metadata": {},
   "outputs": [],
   "source": [
    "statements = 'from miller_rabin_primality_test import *; '\\\n",
    "             'print(witnesses_is_not_prime(2, 991))'"
   ]
  },
  {
   "cell_type": "code",
   "execution_count": null,
   "metadata": {},
   "outputs": [],
   "source": [
    "%%run_and_test python3 -c \"$statements\"\n",
    "\n",
    "'False\\n'"
   ]
  },
  {
   "cell_type": "markdown",
   "metadata": {},
   "source": [
    "## 3 correctly leads to believe that 61609 is prime"
   ]
  },
  {
   "cell_type": "code",
   "execution_count": null,
   "metadata": {},
   "outputs": [],
   "source": [
    "statements = 'from miller_rabin_primality_test import *; '\\\n",
    "             'print(witnesses_is_not_prime(3, 61609))'"
   ]
  },
  {
   "cell_type": "code",
   "execution_count": null,
   "metadata": {
    "tags": []
   },
   "outputs": [],
   "source": [
    "%%run_and_test python3 -c \"$statements\"\n",
    "\n",
    "'False\\n'"
   ]
  },
  {
   "cell_type": "markdown",
   "metadata": {},
   "source": [
    "## 2 incorrectly leads to believe that 2047 is prime"
   ]
  },
  {
   "cell_type": "code",
   "execution_count": null,
   "metadata": {},
   "outputs": [],
   "source": [
    "statements = 'from miller_rabin_primality_test import *; '\\\n",
    "             'print(witnesses_is_not_prime(2, 2047))'"
   ]
  },
  {
   "cell_type": "code",
   "execution_count": null,
   "metadata": {
    "tags": []
   },
   "outputs": [],
   "source": [
    "%%run_and_test python3 -c \"$statements\"\n",
    "\n",
    "'False\\n'"
   ]
  },
  {
   "cell_type": "markdown",
   "metadata": {},
   "source": [
    "## 3 incorrectly leads to believe that 121 is prime"
   ]
  },
  {
   "cell_type": "code",
   "execution_count": null,
   "metadata": {},
   "outputs": [],
   "source": [
    "statements = 'from miller_rabin_primality_test import *; '\\\n",
    "             'print(witnesses_is_not_prime(3, 121))'"
   ]
  },
  {
   "cell_type": "code",
   "execution_count": null,
   "metadata": {},
   "outputs": [],
   "source": [
    "%%run_and_test python3 -c \"$statements\"\n",
    "\n",
    "'False\\n'"
   ]
  },
  {
   "cell_type": "markdown",
   "metadata": {},
   "source": [
    "## 5 incorrectly leads to believe that 781 is prime"
   ]
  },
  {
   "cell_type": "code",
   "execution_count": null,
   "metadata": {},
   "outputs": [],
   "source": [
    "statements = 'from miller_rabin_primality_test import *; '\\\n",
    "             'print(witnesses_is_not_prime(5, 781))'"
   ]
  },
  {
   "cell_type": "code",
   "execution_count": null,
   "metadata": {},
   "outputs": [],
   "source": [
    "%%run_and_test python3 -c \"$statements\"\n",
    "\n",
    "'False\\n'"
   ]
  },
  {
   "cell_type": "markdown",
   "metadata": {},
   "source": [
    "## 7 incorrectly leads to believe that 25 is prime"
   ]
  },
  {
   "cell_type": "code",
   "execution_count": null,
   "metadata": {},
   "outputs": [],
   "source": [
    "statements = 'from miller_rabin_primality_test import *; '\\\n",
    "             'print(witnesses_is_not_prime(7, 25))'"
   ]
  },
  {
   "cell_type": "code",
   "execution_count": null,
   "metadata": {},
   "outputs": [],
   "source": [
    "%%run_and_test python3 -c \"$statements\"\n",
    "\n",
    "'False\\n'"
   ]
  },
  {
   "cell_type": "markdown",
   "metadata": {},
   "source": [
    "## 8, 13 and 15 strongly witness that 103565 is not prime"
   ]
  },
  {
   "cell_type": "code",
   "execution_count": null,
   "metadata": {},
   "outputs": [],
   "source": [
    "statements = 'from miller_rabin_primality_test import *; '\\\n",
    "             'print(miller_rabin_primality_test([8, 13, 15], 103565))'"
   ]
  },
  {
   "cell_type": "code",
   "execution_count": null,
   "metadata": {},
   "outputs": [],
   "source": [
    "%%run_and_test python3 -c \"$statements\"\n",
    "\n",
    "'False\\n'"
   ]
  },
  {
   "cell_type": "markdown",
   "metadata": {},
   "source": [
    "## 20 and 21 correctly lead to believe that 31327 is prime"
   ]
  },
  {
   "cell_type": "code",
   "execution_count": null,
   "metadata": {},
   "outputs": [],
   "source": [
    "statements = 'from miller_rabin_primality_test import *; '\\\n",
    "             'print(miller_rabin_primality_test([20, 21], 31327))'"
   ]
  },
  {
   "cell_type": "code",
   "execution_count": null,
   "metadata": {},
   "outputs": [],
   "source": [
    "%%run_and_test python3 -c \"$statements\"\n",
    "\n",
    "'True\\n'"
   ]
  },
  {
   "cell_type": "markdown",
   "metadata": {},
   "source": [
    "## 20, 25 and 30 incorrectly lead to believe that 42127 is prime"
   ]
  },
  {
   "cell_type": "code",
   "execution_count": null,
   "metadata": {},
   "outputs": [],
   "source": [
    "statements = 'from miller_rabin_primality_test import *; '\\\n",
    "             'print(miller_rabin_primality_test([20, 25, 30], 42127))'"
   ]
  },
  {
   "cell_type": "code",
   "execution_count": null,
   "metadata": {},
   "outputs": [],
   "source": [
    "%%run_and_test python3 -c \"$statements\"\n",
    "\n",
    "'True\\n'"
   ]
  },
  {
   "cell_type": "markdown",
   "metadata": {},
   "source": [
    "## Finding the smallest integer incorrectly led to believe is prime with 2 and 3"
   ]
  },
  {
   "cell_type": "code",
   "execution_count": null,
   "metadata": {},
   "outputs": [],
   "source": [
    "statements = 'from miller_rabin_primality_test import *; '\\\n",
    "     'print(smallest_miller_rabin_primality_test_failure([2, 3], 10_000_000))'"
   ]
  },
  {
   "cell_type": "code",
   "execution_count": null,
   "metadata": {},
   "outputs": [],
   "source": [
    "%%run_and_test python3 -c \"$statements\"\n",
    "\n",
    "'1373653\\n'"
   ]
  },
  {
   "cell_type": "markdown",
   "metadata": {},
   "source": [
    "## Finding the smallest integer incorrectly led to believe is prime with 2, 3 and 5"
   ]
  },
  {
   "cell_type": "code",
   "execution_count": null,
   "metadata": {},
   "outputs": [],
   "source": [
    "statements = 'from miller_rabin_primality_test import *; '\\\n",
    "  'print(smallest_miller_rabin_primality_test_failure([2, 3, 5], 30_000_000))'"
   ]
  },
  {
   "cell_type": "code",
   "execution_count": null,
   "metadata": {},
   "outputs": [],
   "source": [
    "%%run_and_test -t120 python3 -c \"$statements\"\n",
    "\n",
    "'25326001\\n'"
   ]
  }
 ],
 "metadata": {
  "kernelspec": {
   "display_name": "Python 3 (ipykernel)",
   "language": "python",
   "name": "python3"
  },
  "language_info": {
   "codemirror_mode": {
    "name": "ipython",
    "version": 3
   },
   "file_extension": ".py",
   "mimetype": "text/x-python",
   "name": "python",
   "nbconvert_exporter": "python",
   "pygments_lexer": "ipython3",
   "version": "3.10.2"
  },
  "latex_envs": {
   "LaTeX_envs_menu_present": true,
   "autoclose": false,
   "autocomplete": true,
   "bibliofile": "biblio.bib",
   "cite_by": "apalike",
   "current_citInitial": 1,
   "eqLabelWithNumbers": true,
   "eqNumInitial": 1,
   "hotkeys": {
    "equation": "Ctrl-E",
    "itemize": "Ctrl-I"
   },
   "labels_anchors": false,
   "latex_user_defs": false,
   "report_style_numbering": false,
   "user_envs_cfg": false
  },
  "toc": {
   "base_numbering": 1,
   "nav_menu": {},
   "number_sections": true,
   "sideBar": true,
   "skip_h1_title": false,
   "title_cell": "Table of Contents",
   "title_sidebar": "Contents",
   "toc_cell": false,
   "toc_position": {},
   "toc_section_display": true,
   "toc_window_display": false
  },
  "widgets": {
   "application/vnd.jupyter.widget-state+json": {
    "state": {},
    "version_major": 2,
    "version_minor": 0
   }
  }
 },
 "nbformat": 4,
 "nbformat_minor": 4
}
