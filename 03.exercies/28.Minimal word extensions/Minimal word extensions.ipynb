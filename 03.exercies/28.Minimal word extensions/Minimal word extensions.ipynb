{
 "cells": [
  {
   "cell_type": "code",
   "execution_count": null,
   "metadata": {},
   "outputs": [],
   "source": [
    "load_ext run_and_test"
   ]
  },
  {
   "cell_type": "markdown",
   "metadata": {},
   "source": [
    "# Task"
   ]
  },
  {
   "cell_type": "markdown",
   "metadata": {},
   "source": [
    "Write a program `minimal_word_extensions.py` that prompts the user for a sequence of uppercase letters. In case the user does not input nothing but uppercase letters, then the program warns the user that it will only keep the uppercase letters, and what resulting string it will work with. The program processes the contents of the file `dictionary.txt`, supposed to be stored in the working directory, that contains uppercase words, one per line. It  determines the list of all words in the dictionary whose length is minimal and that contain all letters, in the same order; so if the (possibly modified) input is $C_1C_2\\ldots C_n$, then the program determines all words of minimal length in `dictionary.txt` that are of the form ${}\\ast C_1\\ast C_2\\ast\\ldots\\ast C_n\\ast{}$ where each occurrence of $\\ast$ denotes any (possibly empty) sequence of letters.\n",
    "\n",
    "The program provides 3 different kinds of outputs depending on whether there is no solution, or the (possibly modified) input itself is a word in the dictionary, or there is at least one solution which is not the (possibly modified) input itself."
   ]
  },
  {
   "cell_type": "markdown",
   "metadata": {},
   "source": [
    "# Tests"
   ]
  },
  {
   "cell_type": "markdown",
   "metadata": {},
   "source": [
    "## 123abc"
   ]
  },
  {
   "cell_type": "code",
   "execution_count": null,
   "metadata": {
    "tags": []
   },
   "outputs": [],
   "source": [
    "%%run_and_test -s5000 -r:196 -i'123abc' python3 minimal_word_extensions.py\n",
    "\n",
    "'Enter uppercase letters: ', '123abc\\n',\n",
    "\"I only keep the uppercase letters, so work with ''.\\n\"\n",
    "\"The shortest words in the dictionary that embed '' are:\\n\"\n",
    "'''\n",
    "    ABE\\n\n",
    "    ABO\\n\n",
    "    ABU\\n\n",
    "    ACE\\n\n",
    "    ACT\\n\n",
    "    ADA\\n\n",
    "    ADD\\n\n",
    "'''"
   ]
  },
  {
   "cell_type": "markdown",
   "metadata": {},
   "source": [
    "## \\_\\_INDUCTIVELY\\_\\_"
   ]
  },
  {
   "cell_type": "code",
   "execution_count": null,
   "metadata": {},
   "outputs": [],
   "source": [
    "%%run_and_test -i'__INDUCTIVELY__' python3 minimal_word_extensions.py\n",
    "\n",
    "'Enter uppercase letters: ', '__INDUCTIVELY__\\n',\n",
    "\"I only keep the uppercase letters, so work with 'INDUCTIVELY'.\\n\"\n",
    "'INDUCTIVELY is a word in the dictionary.\\n'"
   ]
  },
  {
   "cell_type": "markdown",
   "metadata": {},
   "source": [
    "## KIOSKS"
   ]
  },
  {
   "cell_type": "code",
   "execution_count": null,
   "metadata": {
    "tags": []
   },
   "outputs": [],
   "source": [
    "%%run_and_test -i'KIOSKS' python3 minimal_word_extensions.py\n",
    "\n",
    "'Enter uppercase letters: ', 'KIOSKS\\n',\n",
    "'No word in the dictionary embeds KIOSKS.\\n'"
   ]
  },
  {
   "cell_type": "markdown",
   "metadata": {},
   "source": [
    "## INPOSSIBLE!"
   ]
  },
  {
   "cell_type": "code",
   "execution_count": null,
   "metadata": {
    "tags": []
   },
   "outputs": [],
   "source": [
    "%%run_and_test -i'INPOSSIBLE!' python3 minimal_word_extensions.py\n",
    "\n",
    "'Enter uppercase letters: ', 'INPOSSIBLE!\\n',\n",
    "\"I only keep the uppercase letters, so work with 'INPOSSIBLE'.\\n\"\n",
    "'No word in the dictionary embeds INPOSSIBLE.\\n'"
   ]
  },
  {
   "cell_type": "markdown",
   "metadata": {},
   "source": [
    "## ITEGA"
   ]
  },
  {
   "cell_type": "code",
   "execution_count": null,
   "metadata": {},
   "outputs": [],
   "source": [
    "%%run_and_test -i'ITEGA' python3 minimal_word_extensions.py\n",
    "\n",
    "'Enter uppercase letters: ', 'ITEGA\\n',\n",
    "\"The shortest words in the dictionary that embed 'ITEGA' are:\\n\"\n",
    "'    INTEGRAL\\n'"
   ]
  },
  {
   "cell_type": "markdown",
   "metadata": {},
   "source": [
    "## TIHAES"
   ]
  },
  {
   "cell_type": "code",
   "execution_count": null,
   "metadata": {},
   "outputs": [],
   "source": [
    "%%run_and_test -i'TIHAES' python3 minimal_word_extensions.py\n",
    "\n",
    "'Enter uppercase letters: ', 'TIHAES\\n',\n",
    "\"The shortest words in the dictionary that embed 'TIHAES' are:\\n\"\n",
    "'    TIMESHARES\\n'"
   ]
  },
  {
   "cell_type": "markdown",
   "metadata": {},
   "source": [
    "## priceECIRPprice"
   ]
  },
  {
   "cell_type": "code",
   "execution_count": null,
   "metadata": {},
   "outputs": [],
   "source": [
    "%%run_and_test -i'priceECIRPprice' python3 minimal_word_extensions.py\n",
    "\n",
    "'Enter uppercase letters: ', 'priceECIRPprice\\n',\n",
    "\"I only keep the uppercase letters, so work with 'ECIRP'.\\n\"\n",
    "\"The shortest words in the dictionary that embed 'ECIRP' are:\\n\"\n",
    "'    ELECTROCARDIOGRAPH\\n'"
   ]
  },
  {
   "cell_type": "markdown",
   "metadata": {},
   "source": [
    "## AGAL"
   ]
  },
  {
   "cell_type": "code",
   "execution_count": null,
   "metadata": {},
   "outputs": [],
   "source": [
    "%%run_and_test -i'AGAL' python3 minimal_word_extensions.py\n",
    "\n",
    "'Enter uppercase letters: ', 'AGAL\\n',\n",
    "\"The shortest words in the dictionary that embed 'AGAL' are:\\n\"\n",
    "'''\n",
    "    ABIGAIL\\n\n",
    "    MAGICAL\\n\n",
    "'''"
   ]
  },
  {
   "cell_type": "markdown",
   "metadata": {},
   "source": [
    "## ErrOR"
   ]
  },
  {
   "cell_type": "code",
   "execution_count": null,
   "metadata": {
    "tags": []
   },
   "outputs": [],
   "source": [
    "%%run_and_test -i'ErrOR' python3 minimal_word_extensions.py\n",
    "\n",
    "'Enter uppercase letters: ', 'ErrOR\\n',\n",
    "\"I only keep the uppercase letters, so work with 'EOR'.\\n\"\n",
    "\"The shortest words in the dictionary that embed 'EOR' are:\\n\"\n",
    "'''\n",
    "    EMORY\\n\n",
    "    ERROR\\n\n",
    "    TENOR\\n\n",
    "'''"
   ]
  },
  {
   "cell_type": "markdown",
   "metadata": {},
   "source": [
    "## ARON"
   ]
  },
  {
   "cell_type": "code",
   "execution_count": null,
   "metadata": {},
   "outputs": [],
   "source": [
    "%%run_and_test -i'ARON' python3 minimal_word_extensions.py\n",
    "\n",
    "'Enter uppercase letters: ', 'ARON\\n',\n",
    "\"The shortest words in the dictionary that embed 'ARON' are:\\n\"\n",
    "'''\n",
    "    AARON\\n\n",
    "    AKRON\\n\n",
    "    APRON\\n\n",
    "    ARGON\\n\n",
    "    ARSON\\n\n",
    "    BARON\\n\n",
    "'''"
   ]
  },
  {
   "cell_type": "markdown",
   "metadata": {},
   "source": [
    "## SYL"
   ]
  },
  {
   "cell_type": "code",
   "execution_count": null,
   "metadata": {},
   "outputs": [],
   "source": [
    "%%run_and_test -i'SYL' python3 minimal_word_extensions.py\n",
    "\n",
    "'Enter uppercase letters: ', 'SYL\\n',\n",
    "\"The shortest words in the dictionary that embed 'SYL' are:\\n\"\n",
    "'''\n",
    "    SHYLY\\n\n",
    "    SLYLY\\n\n",
    "    STYLE\\n\n",
    "    STYLI\\n\n",
    "    SYBIL\\n\n",
    "    SYLOW\\n\n",
    "'''"
   ]
  }
 ],
 "metadata": {
  "kernelspec": {
   "display_name": "Python 3 (ipykernel)",
   "language": "python",
   "name": "python3"
  },
  "language_info": {
   "codemirror_mode": {
    "name": "ipython",
    "version": 3
   },
   "file_extension": ".py",
   "mimetype": "text/x-python",
   "name": "python",
   "nbconvert_exporter": "python",
   "pygments_lexer": "ipython3",
   "version": "3.10.2"
  },
  "latex_envs": {
   "LaTeX_envs_menu_present": true,
   "autoclose": false,
   "autocomplete": true,
   "bibliofile": "biblio.bib",
   "cite_by": "apalike",
   "current_citInitial": 1,
   "eqLabelWithNumbers": true,
   "eqNumInitial": 1,
   "hotkeys": {
    "equation": "Ctrl-E",
    "itemize": "Ctrl-I"
   },
   "labels_anchors": false,
   "latex_user_defs": false,
   "report_style_numbering": false,
   "user_envs_cfg": false
  },
  "toc": {
   "base_numbering": 1,
   "nav_menu": {},
   "number_sections": true,
   "sideBar": true,
   "skip_h1_title": false,
   "title_cell": "Table of Contents",
   "title_sidebar": "Contents",
   "toc_cell": false,
   "toc_position": {},
   "toc_section_display": true,
   "toc_window_display": false
  },
  "widgets": {
   "application/vnd.jupyter.widget-state+json": {
    "state": {},
    "version_major": 2,
    "version_minor": 0
   }
  }
 },
 "nbformat": 4,
 "nbformat_minor": 4
}
