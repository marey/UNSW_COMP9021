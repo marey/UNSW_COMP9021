{
 "cells": [
  {
   "cell_type": "code",
   "execution_count": null,
   "metadata": {},
   "outputs": [],
   "source": [
    "load_ext run_and_test"
   ]
  },
  {
   "cell_type": "markdown",
   "metadata": {},
   "source": [
    "# Background"
   ]
  },
  {
   "cell_type": "markdown",
   "metadata": {},
   "source": [
    "The Target puzzle is a 3 × 3 grid (the target) consisting of 9 distinct (uppercase) letters, from which it is possible to create at least one 9-letter word, to be found in a given dictionary. The aim of the puzzle is to find words in the dictionary that consist of distinct letters all in the target, one of which has to be the letter at the centre of the target."
   ]
  },
  {
   "cell_type": "markdown",
   "metadata": {},
   "source": [
    "# Task"
   ]
  },
  {
   "cell_type": "markdown",
   "metadata": {},
   "source": [
    "Write a program `target_puzzle.py` that implements a class `TargetPuzzle` with the following methods (and possibly others):\n",
    "\n",
    "* `__init__(self, target='', *, minimal_length=4, dictionary='dictionary.txt')'`, whose parameters, the last two being keyword only, are to be interpreted and used as follows.\n",
    "  * The second argument, `target`, is expected to be a string, set by default to the empty string. If the string consists of 9 distinct uppercase letters from which a 9-letter word of the dictionary can be created, then the string defines the target (read from top to bottom, reading each row from left to right). Otherwise, `__init__()` prints out a message warning that `target`'s value is not a valid target and a random target will generated instead. This is done by:\n",
    "      * first calling the `seed()` function of the `random` module with as argument, `sum(ord(target[i]) * 128 ** i for i in range(len(target)))`;\n",
    "      * then calling the `choice()` function from the `random` module to select a member $w$ of the lexicographically ordered list of all words in the dictionary that consist of 9 distinct letters;\n",
    "      * then calling  the `shuffle()` function from the `random` module on the list of characters that make up $w$ to randomly shuffle $w$'s letters, and let the outcome define the target.\n",
    "  * The third argument is expected to be an integer, set by default to `4`. It sets a lower bound on the length of words accepted as solutions to the puzzle.\n",
    "  * The fourth argument is set by default to `'dictionary.txt'`, and is supposed to be the name of a file stored in the working directory that records uppercase words, one word per line.\n",
    "* `__repr__(self)` to return a string of the form `Target(target=..., *, minimal_length=..., dictionary=...)` with all three parameters set to the appropriate values.\n",
    "* `__str__(self)` to display the 9 letters that make up the target over 3 lines, with consecutive letters on a line separed by a space and no space anywhere else.\n",
    "* `nb_of_solutions(self)` to display the number of solutions for each word length for which a solution exists, in decreasing order of the length, from 9 down to the requested lower bound.\n",
    "* `solutions(self, minimal_length=None)` to display all solutions for each word length for which a solution exists, in lexicographic order for a given length, in decreasing order of the length, from 9 down to the maximum of the requested lower bound or the value of the second argument to the function in case it is not the `None` default .\n",
    "* `change_letters(self, to_be_replaced, to_replace)`, that takes two arguments, both meant to be strings. The target will be modified if:\n",
    "  * both arguments are different strings of the same length;\n",
    "  * all letters in the first string are distinct and occur in the current target;\n",
    "  * replacing each letter in the first string by the corresponding letter in the second string yields a valid target.\n",
    "\n",
    "  If those conditions are not satisfied then the method prints out a message indicating that the target was not changed. If the target was changed but consists of the same letters, and with the same letter at the centre, then the method prints out a message indicating that the solutions remain the same for sure (the solutions could also remain the same if the letters have changed, or if the letters have not changed but the letter at the centre has changed)."
   ]
  },
  {
   "cell_type": "markdown",
   "metadata": {},
   "source": [
    "# Tests"
   ]
  },
  {
   "cell_type": "markdown",
   "metadata": {},
   "source": [
    "## Message output when random target is generated from empty string"
   ]
  },
  {
   "cell_type": "code",
   "execution_count": null,
   "metadata": {},
   "outputs": [],
   "source": [
    "statements = 'from target_puzzle import *; TargetPuzzle()'"
   ]
  },
  {
   "cell_type": "code",
   "execution_count": null,
   "metadata": {
    "tags": []
   },
   "outputs": [],
   "source": [
    "%%run_and_test python3 -c \"$statements\"\n",
    "\n",
    "\"'' is not a valid target, a random one will be generated instead.\\n\\n\""
   ]
  },
  {
   "cell_type": "markdown",
   "metadata": {},
   "source": [
    "## Message output when random target is generated from TARGETING"
   ]
  },
  {
   "cell_type": "code",
   "execution_count": null,
   "metadata": {},
   "outputs": [],
   "source": [
    "statements = 'from target_puzzle import *; TargetPuzzle(\"TARGETING\")'"
   ]
  },
  {
   "cell_type": "code",
   "execution_count": null,
   "metadata": {
    "tags": []
   },
   "outputs": [],
   "source": [
    "%%run_and_test python3 -c \"$statements\"\n",
    "\n",
    "\"'TARGETING' is not a valid target, a random one will be generated instead.\\n\n",
    "\\n\""
   ]
  },
  {
   "cell_type": "markdown",
   "metadata": {},
   "source": [
    "## Random target generated from VZIRMOKAT"
   ]
  },
  {
   "cell_type": "code",
   "execution_count": null,
   "metadata": {},
   "outputs": [],
   "source": [
    "statements = 'from target_puzzle import *; '\\\n",
    "             'print(repr(TargetPuzzle(\"VZIRMOKAT\")))'"
   ]
  },
  {
   "cell_type": "code",
   "execution_count": null,
   "metadata": {
    "tags": []
   },
   "outputs": [],
   "source": [
    "%%run_and_test python3 -c \"$statements\"\n",
    "\n",
    "'Target(target=VZIRMOKAT, *, minimal_length=4, dictionary=dictionary.txt)\\n'"
   ]
  },
  {
   "cell_type": "markdown",
   "metadata": {},
   "source": [
    "## Random target generated from CLRNOITMA"
   ]
  },
  {
   "cell_type": "code",
   "execution_count": null,
   "metadata": {},
   "outputs": [],
   "source": [
    "statements = 'from target_puzzle import *; '\\\n",
    "             'print(repr(TargetPuzzle(\"CLRNOITMA\")))'"
   ]
  },
  {
   "cell_type": "code",
   "execution_count": null,
   "metadata": {
    "tags": []
   },
   "outputs": [],
   "source": [
    "%%run_and_test python3 -c \"$statements\"\n",
    "\n",
    "'Target(target=CLRNOITMA, *, minimal_length=4, dictionary=dictionary.txt)\\n'"
   ]
  },
  {
   "cell_type": "markdown",
   "metadata": {},
   "source": [
    "## Displaying JNDTESGMU as a target"
   ]
  },
  {
   "cell_type": "code",
   "execution_count": null,
   "metadata": {},
   "outputs": [],
   "source": [
    "statements = 'from target_puzzle import *; print(TargetPuzzle(\"JNDTESGMU\"))'"
   ]
  },
  {
   "cell_type": "code",
   "execution_count": null,
   "metadata": {
    "tags": []
   },
   "outputs": [],
   "source": [
    "%%run_and_test python3 -c \"$statements\"\n",
    "\n",
    "'''\n",
    "J N D\\n\n",
    "N D T\\n\n",
    "D T E\\n\n",
    "'''"
   ]
  },
  {
   "cell_type": "markdown",
   "metadata": {},
   "source": [
    "## Number of solutions for the random target generated from the empty string"
   ]
  },
  {
   "cell_type": "code",
   "execution_count": null,
   "metadata": {},
   "outputs": [],
   "source": [
    "statements = 'from target_puzzle import *; TargetPuzzle().nb_of_solutions()'"
   ]
  },
  {
   "cell_type": "code",
   "execution_count": null,
   "metadata": {},
   "outputs": [],
   "source": [
    "%%run_and_test -r67: python3 -c \"$statements\"\n",
    "\n",
    "'In decreasing order of length between 9 and 4:\\n\n",
    "    1 solution of length 9.\\n\n",
    "    3 solutions of length 6.\\n\n",
    "    4 solutions of length 5.\\n\n",
    "    11 solutions of length 4.\\n'"
   ]
  },
  {
   "cell_type": "markdown",
   "metadata": {},
   "source": [
    "## Solutions for the random target generated from the empty string"
   ]
  },
  {
   "cell_type": "code",
   "execution_count": null,
   "metadata": {},
   "outputs": [],
   "source": [
    "statements = 'from target_puzzle import *; TargetPuzzle().solutions()'"
   ]
  },
  {
   "cell_type": "code",
   "execution_count": null,
   "metadata": {},
   "outputs": [],
   "source": [
    "%%run_and_test -r67: python3 -c \"$statements\"\n",
    "\n",
    "'Solution of length 9:\\n\n",
    "    MARKOVITZ\\n\n",
    "Solutions of length 6:\\n\n",
    "    MARKOV\\n\n",
    "    MOZART\\n\n",
    "    VIKRAM\\n\n",
    "Solutions of length 5:\\n\n",
    "    MAORI\\n\n",
    "    MARIO\\n\n",
    "    MIZAR\\n\n",
    "    VOMIT\\n\n",
    "Solutions of length 4:\\n\n",
    "    AMOK\\n\n",
    "    ATOM\\n\n",
    "    IRMA\\n\n",
    "    MARK\\n\n",
    "    MART\\n\n",
    "    MIRA\\n\n",
    "    MOAT\\n\n",
    "    OMIT\\n\n",
    "    RAMO\\n\n",
    "    ROAM\\n\n",
    "    TRIM\\n'"
   ]
  },
  {
   "cell_type": "markdown",
   "metadata": {},
   "source": [
    "## Number of solutions of length at least 5 for JUDGMENTS"
   ]
  },
  {
   "cell_type": "code",
   "execution_count": null,
   "metadata": {},
   "outputs": [],
   "source": [
    "statements = 'from target_puzzle import *; '\\\n",
    "             'TargetPuzzle(\"JUDGMENTS\").nb_of_solutions()'"
   ]
  },
  {
   "cell_type": "code",
   "execution_count": null,
   "metadata": {},
   "outputs": [],
   "source": [
    "%%run_and_test python3 -c \"$statements\"\n",
    "\n",
    "'In decreasing order of length between 9 and 4:\\n\n",
    "    1 solution of length 9.\\n\n",
    "    1 solution of length 8.\\n\n",
    "    1 solution of length 6.\\n\n",
    "    5 solutions of length 5.\\n\n",
    "    14 solutions of length 4.\\n'"
   ]
  },
  {
   "cell_type": "markdown",
   "metadata": {},
   "source": [
    "## Solutions of length at least 5 for JUDGMENTS"
   ]
  },
  {
   "cell_type": "code",
   "execution_count": null,
   "metadata": {},
   "outputs": [],
   "source": [
    "statements = 'from target_puzzle import *; '\\\n",
    "             'TargetPuzzle(\"JUDGMENTS\").solutions(5)'"
   ]
  },
  {
   "cell_type": "code",
   "execution_count": null,
   "metadata": {},
   "outputs": [],
   "source": [
    "%%run_and_test python3 -c \"$statements\"\n",
    "\n",
    "'Solution of length 9:\\n\n",
    "    JUDGMENTS\\n\n",
    "Solution of length 8:\\n\n",
    "    JUDGMENT\\n\n",
    "Solution of length 6:\\n\n",
    "    SMUDGE\\n\n",
    "Solutions of length 5:\\n\n",
    "    MENDS\\n\n",
    "    MENUS\\n\n",
    "    MUNDT\\n\n",
    "    MUSED\\n\n",
    "    MUTED\\n'"
   ]
  },
  {
   "cell_type": "markdown",
   "metadata": {},
   "source": [
    "## Failing to change MT to TT in JUDGMENTS"
   ]
  },
  {
   "cell_type": "code",
   "execution_count": null,
   "metadata": {},
   "outputs": [],
   "source": [
    "statements = 'from target_puzzle import *; '\\\n",
    "             'puzzle = TargetPuzzle(\"JUDGMENTS\"); '\\\n",
    "             'puzzle.change_letters(\"MT\", \"TT\")'"
   ]
  },
  {
   "cell_type": "code",
   "execution_count": null,
   "metadata": {},
   "outputs": [],
   "source": [
    "%%run_and_test python3 -c \"$statements\"\n",
    "\n",
    "'The target was not changed.\\n'"
   ]
  },
  {
   "cell_type": "markdown",
   "metadata": {},
   "source": [
    "## Failing to change JUDGMENTS to ABCDEFGHI in JUDGMENTS"
   ]
  },
  {
   "cell_type": "code",
   "execution_count": null,
   "metadata": {},
   "outputs": [],
   "source": [
    "statements = 'from target_puzzle import *; '\\\n",
    "             'puzzle = TargetPuzzle(\"JUDGMENTS\"); '\\\n",
    "             'puzzle.change_letters(\"JUDGMENTS\", \"ABCDEFGHI\")'"
   ]
  },
  {
   "cell_type": "code",
   "execution_count": null,
   "metadata": {},
   "outputs": [],
   "source": [
    "%%run_and_test python3 -c \"$statements\"\n",
    "\n",
    "'The target was not changed.\\n'"
   ]
  },
  {
   "cell_type": "markdown",
   "metadata": {},
   "source": [
    "## Changing JE to EJ in JUDGMENTS, but for sure not the solutions"
   ]
  },
  {
   "cell_type": "code",
   "execution_count": null,
   "metadata": {},
   "outputs": [],
   "source": [
    "statements = 'from target_puzzle import *; '\\\n",
    "             'puzzle = TargetPuzzle(\"JUDGMENTS\"); '\\\n",
    "             'puzzle.change_letters(\"JE\", \"EJ\")'"
   ]
  },
  {
   "cell_type": "code",
   "execution_count": null,
   "metadata": {},
   "outputs": [],
   "source": [
    "%%run_and_test python3 -c \"$statements\"\n",
    "\n",
    "'The solutions remain the same for sure.\\n'"
   ]
  },
  {
   "cell_type": "markdown",
   "metadata": {},
   "source": [
    "## Solutions of length at least 5 after changing MG to GM in JUDGMENTS"
   ]
  },
  {
   "cell_type": "code",
   "execution_count": null,
   "metadata": {},
   "outputs": [],
   "source": [
    "statements = 'from target_puzzle import *; '\\\n",
    "             'puzzle = TargetPuzzle(\"JUDGMENTS\"); '\\\n",
    "             'puzzle.change_letters(\"MG\", \"GM\"); puzzle.solutions(5)'"
   ]
  },
  {
   "cell_type": "code",
   "execution_count": null,
   "metadata": {},
   "outputs": [],
   "source": [
    "%%run_and_test python3 -c \"$statements\"\n",
    "\n",
    "'Solution of length 9:\\n\n",
    "    JUDGMENTS\\n\n",
    "Solution of length 8:\\n\n",
    "    JUDGMENT\\n\n",
    "Solutions of length 6:\\n\n",
    "    JUDGES\\n\n",
    "    SMUDGE\\n\n",
    "Solutions of length 5:\\n\n",
    "    GENUS\\n\n",
    "    GUEST\\n\n",
    "    JUDGE\\n\n",
    "    NUDGE\\n\n",
    "    STUNG\\n'"
   ]
  },
  {
   "cell_type": "markdown",
   "metadata": {},
   "source": [
    "## Solutions for MEOITNDSA, with an object created for solutions of length at least 6"
   ]
  },
  {
   "cell_type": "code",
   "execution_count": null,
   "metadata": {},
   "outputs": [],
   "source": [
    "statements = 'from target_puzzle import *; '\\\n",
    "             'TargetPuzzle(\"MEOITNDSA\", minimal_length=6).solutions()'"
   ]
  },
  {
   "cell_type": "code",
   "execution_count": null,
   "metadata": {},
   "outputs": [],
   "source": [
    "%%run_and_test python3 -c \"$statements\"\n",
    "\n",
    "'Solution of length 9:\\n\n",
    "    DOMINATES\\n\n",
    "Solutions of length 8:\\n\n",
    "    DOMINATE\\n\n",
    "    MASONITE\\n\n",
    "Solutions of length 7:\\n\n",
    "    DETAINS\\n\n",
    "    DONATES\\n\n",
    "    ESTONIA\\n\n",
    "    INMATES\\n\n",
    "    INSTEAD\\n\n",
    "    MOISTEN\\n\n",
    "    SAINTED\\n\n",
    "    STAINED\\n\n",
    "Solutions of length 6:\\n\n",
    "    ADMITS\\n\n",
    "    AMIDST\\n\n",
    "    ATONED\\n\n",
    "    ATONES\\n\n",
    "    DETAIN\\n\n",
    "    DONATE\\n\n",
    "    INMATE\\n\n",
    "    MANTIS\\n\n",
    "    MASTED\\n\n",
    "    MATSON\\n\n",
    "    MINTED\\n\n",
    "    MISTED\\n\n",
    "    MODEST\\n\n",
    "    STAMEN\\n\n",
    "    STONED\\n\n",
    "    TANDEM\\n\n",
    "    TAOISM\\n'"
   ]
  },
  {
   "cell_type": "markdown",
   "metadata": {},
   "source": [
    "## Solutions after changing OTN to LCP in MEOITNDSA within an object created for solutions of length at least 6"
   ]
  },
  {
   "cell_type": "code",
   "execution_count": null,
   "metadata": {},
   "outputs": [],
   "source": [
    "statements = 'from target_puzzle import *; '\\\n",
    "             'puzzle = TargetPuzzle(\"MEOITNDSA\", minimal_length=6); '\\\n",
    "             'puzzle.change_letters(\"OTN\", \"LCP\"); puzzle.solutions()'"
   ]
  },
  {
   "cell_type": "code",
   "execution_count": null,
   "metadata": {},
   "outputs": [],
   "source": [
    "%%run_and_test python3 -c \"$statements\"\n",
    "\n",
    "'Solution of length 9:\\n\n",
    "    MISPLACED\\n\n",
    "Solutions of length 8:\\n\n",
    "    DECIMALS\\n\n",
    "    DISPLACE\\n\n",
    "    MIDSCALE\\n\n",
    "    MISPLACE\\n\n",
    "Solutions of length 7:\\n\n",
    "    CLAIMED\\n\n",
    "    CLAMPED\\n\n",
    "    CLASPED\\n\n",
    "    DECIMAL\\n\n",
    "    MEDICAL\\n\n",
    "    SPECIAL\\n\n",
    "    SPLICED\\n\n",
    "Solutions of length 6:\\n\n",
    "    CALMED\\n\n",
    "    CAMELS\\n\n",
    "    CAMPED\\n\n",
    "    CLAIMS\\n\n",
    "    CLAMPS\\n\n",
    "    CLIMES\\n\n",
    "    MALICE\\n\n",
    "    MEDICS\\n\n",
    "    PLACED\\n\n",
    "    PLACES\\n\n",
    "    PLACID\\n\n",
    "    SCALED\\n\n",
    "    SLICED\\n\n",
    "    SPACED\\n\n",
    "    SPICED\\n\n",
    "    SPLICE\\n'"
   ]
  }
 ],
 "metadata": {
  "kernelspec": {
   "display_name": "Python 3 (ipykernel)",
   "language": "python",
   "name": "python3"
  },
  "language_info": {
   "codemirror_mode": {
    "name": "ipython",
    "version": 3
   },
   "file_extension": ".py",
   "mimetype": "text/x-python",
   "name": "python",
   "nbconvert_exporter": "python",
   "pygments_lexer": "ipython3",
   "version": "3.10.2"
  },
  "latex_envs": {
   "LaTeX_envs_menu_present": true,
   "autoclose": false,
   "autocomplete": true,
   "bibliofile": "biblio.bib",
   "cite_by": "apalike",
   "current_citInitial": 1,
   "eqLabelWithNumbers": true,
   "eqNumInitial": 1,
   "hotkeys": {
    "equation": "Ctrl-E",
    "itemize": "Ctrl-I"
   },
   "labels_anchors": false,
   "latex_user_defs": false,
   "report_style_numbering": false,
   "user_envs_cfg": false
  },
  "toc": {
   "base_numbering": 1,
   "nav_menu": {},
   "number_sections": true,
   "sideBar": true,
   "skip_h1_title": false,
   "title_cell": "Table of Contents",
   "title_sidebar": "Contents",
   "toc_cell": false,
   "toc_position": {},
   "toc_section_display": true,
   "toc_window_display": false
  },
  "widgets": {
   "application/vnd.jupyter.widget-state+json": {
    "state": {},
    "version_major": 2,
    "version_minor": 0
   }
  }
 },
 "nbformat": 4,
 "nbformat_minor": 4
}
