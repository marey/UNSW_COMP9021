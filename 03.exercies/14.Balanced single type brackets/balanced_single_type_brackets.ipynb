{
 "cells": [
  {
   "cell_type": "code",
   "execution_count": null,
   "metadata": {},
   "outputs": [],
   "source": [
    "load_ext run_and_test"
   ]
  },
  {
   "cell_type": "markdown",
   "metadata": {},
   "source": [
    "# Background"
   ]
  },
  {
   "cell_type": "markdown",
   "metadata": {},
   "source": [
    "Let $\\sigma$ be a sequence of opening and closing parentheses, or opening and closing square brackets, or opening and closing curly braces. If every opening symbol matches a closing symbol, then $\\sigma$ is _well balanced_. For instance,\n",
    "\n",
    "* $($, $)$, $()($, $())$, $(()(())$ are not well balanced;\n",
    "* $()$, $()()$, $(())$, $(()(())())()$ are well balanced.\n",
    "\n",
    "To find out whether $\\sigma$ is well balanced, we can use a counter, initialised to 0, and processing the symbols in $\\sigma$ from left to right, increase the counter by 1 when reading an opening symbol, and decrease the counter by 1 when reading a closing symbol. Then $\\sigma$ is well balanced iff:\n",
    "\n",
    "* the counter never gets a negative value;\n",
    "* when all symbols have been processed, the value of the counter is equal to 0.\n",
    "\n",
    "Indeed, if at any stage, the value of the counter gets strictly negative, then a closing symbol does not match any opening symbol. Also, if eventually the value of the counter is not equal to 0, then an opening symbol does not match any closing symbol. Suppose otherwise. Proof that $\\sigma$ is well balanced is by induction on the length of $\\sigma$.\n",
    "\n",
    "* If $\\sigma$ has no symbol then $\\sigma$ is trivially well balanced.\n",
    "* Suppose that $\\sigma$ has at least one symbol.\n",
    "    * If the counter gets a value of 0 only when processing the last symbol, then $\\sigma$ is of the form $(\\tau)$ and the counter associated with $\\tau$ yields for every symbol in $\\tau$, the value of the counter associated with $\\sigma$ for that symbol minus 1; in particular, it never gets a striclty negative value, and it is eventually equal to 0. So by inductive hypothesis, $\\tau$ is well balanced. Hence $\\sigma$ is well balanced.\n",
    "    * Otherwise, $\\sigma$ is of the form $\\sigma_1\\sigma_2$ with the counter getting a value of 0 when processing the last symbol in $\\sigma_1$. By inductive hypotheses, both $\\sigma_1$ and $\\sigma_2$ are well balanced. Hence $\\sigma$ is well balanced."
   ]
  },
  {
   "cell_type": "markdown",
   "metadata": {},
   "source": [
    "# Task"
   ]
  },
  {
   "cell_type": "markdown",
   "metadata": {},
   "source": [
    "Write a program `balanced_single_type_brackets.py` that implements a function, `balanced_brackets_in(pattern)`, that given a string as argument, behaves as follows.\n",
    "\n",
    "* If the string does not consist of nothing but possibly spaces and either opening and closing parentheses, or opening and closing square brackets, or opening and closing curly braces, then the function returns `None`.\n",
    "* Otherwise, if, omitting the spaces, the string represents a well balanced pattern, then the function returns `True`.\n",
    "* Otherwise, the function returns `False`."
   ]
  },
  {
   "cell_type": "markdown",
   "metadata": {},
   "source": [
    "# Tests"
   ]
  },
  {
   "cell_type": "markdown",
   "metadata": {},
   "source": [
    "## Spaces"
   ]
  },
  {
   "cell_type": "code",
   "execution_count": null,
   "metadata": {},
   "outputs": [],
   "source": [
    "statements = 'from balanced_single_type_brackets import *; '\\\n",
    "             'print(balanced_brackets_in(\"     \"))'"
   ]
  },
  {
   "cell_type": "code",
   "execution_count": null,
   "metadata": {
    "tags": []
   },
   "outputs": [],
   "source": [
    "%%run_and_test python3 -c \"$statements\"\n",
    "\n",
    "'True\\n'"
   ]
  },
  {
   "cell_type": "markdown",
   "metadata": {},
   "source": [
    "## +"
   ]
  },
  {
   "cell_type": "code",
   "execution_count": null,
   "metadata": {},
   "outputs": [],
   "source": [
    "statements = 'from balanced_single_type_brackets import *; '\\\n",
    "             'print(balanced_brackets_in(\" + \"))'"
   ]
  },
  {
   "cell_type": "code",
   "execution_count": null,
   "metadata": {},
   "outputs": [],
   "source": [
    "%%run_and_test python3 -c \"$statements\"\n",
    "\n",
    "'None\\n'"
   ]
  },
  {
   "cell_type": "markdown",
   "metadata": {},
   "source": [
    "## ("
   ]
  },
  {
   "cell_type": "code",
   "execution_count": null,
   "metadata": {},
   "outputs": [],
   "source": [
    "statements = 'from balanced_single_type_brackets import *; '\\\n",
    "             'print(balanced_brackets_in(\"(\"))'"
   ]
  },
  {
   "cell_type": "code",
   "execution_count": null,
   "metadata": {},
   "outputs": [],
   "source": [
    "%%run_and_test python3 -c \"$statements\"\n",
    "\n",
    "'False\\n'"
   ]
  },
  {
   "cell_type": "markdown",
   "metadata": {},
   "source": [
    "## ]"
   ]
  },
  {
   "cell_type": "code",
   "execution_count": null,
   "metadata": {},
   "outputs": [],
   "source": [
    "statements = 'from balanced_single_type_brackets import *; '\\\n",
    "             'print(balanced_brackets_in(\" ]\"))'"
   ]
  },
  {
   "cell_type": "code",
   "execution_count": null,
   "metadata": {
    "tags": []
   },
   "outputs": [],
   "source": [
    "%%run_and_test python3 -c \"$statements\"\n",
    "\n",
    "'False\\n'"
   ]
  },
  {
   "cell_type": "markdown",
   "metadata": {},
   "source": [
    "## { }"
   ]
  },
  {
   "cell_type": "code",
   "execution_count": null,
   "metadata": {},
   "outputs": [],
   "source": [
    "statements = 'from balanced_single_type_brackets import *; '\\\n",
    "             'print(balanced_brackets_in(\"  { }\"))'"
   ]
  },
  {
   "cell_type": "code",
   "execution_count": null,
   "metadata": {},
   "outputs": [],
   "source": [
    "%%run_and_test python3 -c \"$statements\"\n",
    "\n",
    "'True\\n'"
   ]
  },
  {
   "cell_type": "markdown",
   "metadata": {},
   "source": [
    "## ) ("
   ]
  },
  {
   "cell_type": "code",
   "execution_count": null,
   "metadata": {},
   "outputs": [],
   "source": [
    "statements = 'from balanced_single_type_brackets import *; '\\\n",
    "             'print(balanced_brackets_in(\") (\"))'"
   ]
  },
  {
   "cell_type": "code",
   "execution_count": null,
   "metadata": {},
   "outputs": [],
   "source": [
    "%%run_and_test python3 -c \"$statements\"\n",
    "\n",
    "'False\\n'"
   ]
  },
  {
   "cell_type": "markdown",
   "metadata": {},
   "source": [
    "## (["
   ]
  },
  {
   "cell_type": "code",
   "execution_count": null,
   "metadata": {},
   "outputs": [],
   "source": [
    "statements = 'from balanced_single_type_brackets import *; '\\\n",
    "             'print(balanced_brackets_in(\" ( [ \"))'"
   ]
  },
  {
   "cell_type": "code",
   "execution_count": null,
   "metadata": {},
   "outputs": [],
   "source": [
    "%%run_and_test python3 -c \"$statements\"\n",
    "\n",
    "'None\\n'"
   ]
  },
  {
   "cell_type": "markdown",
   "metadata": {},
   "source": [
    "## [ ] -"
   ]
  },
  {
   "cell_type": "code",
   "execution_count": null,
   "metadata": {},
   "outputs": [],
   "source": [
    "statements = 'from balanced_single_type_brackets import *; '\\\n",
    "             'print(balanced_brackets_in(\"[]-\"))'"
   ]
  },
  {
   "cell_type": "code",
   "execution_count": null,
   "metadata": {
    "tags": []
   },
   "outputs": [],
   "source": [
    "%%run_and_test python3 -c \"$statements\"\n",
    "\n",
    "'None\\n'"
   ]
  },
  {
   "cell_type": "markdown",
   "metadata": {},
   "source": [
    "## } { -"
   ]
  },
  {
   "cell_type": "code",
   "execution_count": null,
   "metadata": {},
   "outputs": [],
   "source": [
    "statements = 'from balanced_single_type_brackets import *; '\\\n",
    "             'print(balanced_brackets_in(\"}  {-\"))'"
   ]
  },
  {
   "cell_type": "code",
   "execution_count": null,
   "metadata": {
    "tags": []
   },
   "outputs": [],
   "source": [
    "%%run_and_test python3 -c \"$statements\"\n",
    "\n",
    "'None\\n'"
   ]
  },
  {
   "cell_type": "markdown",
   "metadata": {},
   "source": [
    "## { } [ ]"
   ]
  },
  {
   "cell_type": "code",
   "execution_count": null,
   "metadata": {},
   "outputs": [],
   "source": [
    "statements = 'from balanced_single_type_brackets import *; '\\\n",
    "             'print(balanced_brackets_in(\"{} []\"))'"
   ]
  },
  {
   "cell_type": "code",
   "execution_count": null,
   "metadata": {
    "tags": []
   },
   "outputs": [],
   "source": [
    "%%run_and_test python3 -c \"$statements\"\n",
    "\n",
    "'None\\n'"
   ]
  },
  {
   "cell_type": "markdown",
   "metadata": {},
   "source": [
    "## ( ( ) ( ) )"
   ]
  },
  {
   "cell_type": "code",
   "execution_count": null,
   "metadata": {},
   "outputs": [],
   "source": [
    "statements = 'from balanced_single_type_brackets import *; '\\\n",
    "             'print(balanced_brackets_in(\"(()  ( ))\"))'"
   ]
  },
  {
   "cell_type": "code",
   "execution_count": null,
   "metadata": {},
   "outputs": [],
   "source": [
    "%%run_and_test python3 -c \"$statements\"\n",
    "\n",
    "'True\\n'"
   ]
  },
  {
   "cell_type": "markdown",
   "metadata": {},
   "source": [
    "## ( ( ) ( )"
   ]
  },
  {
   "cell_type": "code",
   "execution_count": null,
   "metadata": {},
   "outputs": [],
   "source": [
    "statements = 'from balanced_single_type_brackets import *; '\\\n",
    "             'print(balanced_brackets_in(\"  (( )( )\"))'"
   ]
  },
  {
   "cell_type": "code",
   "execution_count": null,
   "metadata": {
    "tags": []
   },
   "outputs": [],
   "source": [
    "%%run_and_test python3 -c \"$statements\"\n",
    "\n",
    "'False\\n'"
   ]
  },
  {
   "cell_type": "markdown",
   "metadata": {},
   "source": [
    "## ( ( ) ( ) * )"
   ]
  },
  {
   "cell_type": "code",
   "execution_count": null,
   "metadata": {},
   "outputs": [],
   "source": [
    "statements = 'from balanced_single_type_brackets import *; '\\\n",
    "             'print(balanced_brackets_in(\"(()()*)\"))'"
   ]
  },
  {
   "cell_type": "code",
   "execution_count": null,
   "metadata": {
    "tags": []
   },
   "outputs": [],
   "source": [
    "%%run_and_test python3 -c \"$statements\"\n",
    "\n",
    "'None\\n'"
   ]
  },
  {
   "cell_type": "markdown",
   "metadata": {},
   "source": [
    "## [ ] [ ] [ [ ] [ [ ] ] ]"
   ]
  },
  {
   "cell_type": "code",
   "execution_count": null,
   "metadata": {},
   "outputs": [],
   "source": [
    "statements = 'from balanced_single_type_brackets import *; '\\\n",
    "             'print(balanced_brackets_in(\"[][]  [[][ []]]\"))'"
   ]
  },
  {
   "cell_type": "code",
   "execution_count": null,
   "metadata": {},
   "outputs": [],
   "source": [
    "%%run_and_test python3 -c \"$statements\"\n",
    "\n",
    "'True\\n'"
   ]
  },
  {
   "cell_type": "markdown",
   "metadata": {},
   "source": [
    "## [ ] [ ] [ [ ] [ [ ] ] ] ] ]"
   ]
  },
  {
   "cell_type": "code",
   "execution_count": null,
   "metadata": {},
   "outputs": [],
   "source": [
    "statements = 'from balanced_single_type_brackets import *; '\\\n",
    "             'print(balanced_brackets_in(\"[ ] [][[][[ ]]] ]]\"))'"
   ]
  },
  {
   "cell_type": "code",
   "execution_count": null,
   "metadata": {
    "tags": []
   },
   "outputs": [],
   "source": [
    "%%run_and_test python3 -c \"$statements\"\n",
    "\n",
    "'False\\n'"
   ]
  },
  {
   "cell_type": "markdown",
   "metadata": {},
   "source": [
    "## [ ] [ ] [ [ ] [ [ ] ] ] +"
   ]
  },
  {
   "cell_type": "code",
   "execution_count": null,
   "metadata": {},
   "outputs": [],
   "source": [
    "statements = 'from balanced_single_type_brackets import *; '\\\n",
    "             'print(balanced_brackets_in(\"[ ][ ][[] [[ ]]] +\"))'"
   ]
  },
  {
   "cell_type": "code",
   "execution_count": null,
   "metadata": {
    "tags": []
   },
   "outputs": [],
   "source": [
    "%%run_and_test python3 -c \"$statements\"\n",
    "\n",
    "'None\\n'"
   ]
  },
  {
   "cell_type": "markdown",
   "metadata": {},
   "source": [
    "## { { } { { } } { { } { { } } } } { } { { } } { { { } } { } { { { { } } } } }"
   ]
  },
  {
   "cell_type": "code",
   "execution_count": null,
   "metadata": {},
   "outputs": [],
   "source": [
    "\n",
    "statements = 'from balanced_single_type_brackets import *; '\\\n",
    "             'pattern = \"{{}{{}}{{}{{}}}}{}{{}}{{{}}{}{{{{}}}}}\"; '\\\n",
    "             'print(balanced_brackets_in(pattern))'"
   ]
  },
  {
   "cell_type": "code",
   "execution_count": null,
   "metadata": {},
   "outputs": [],
   "source": [
    "%%run_and_test python3 -c \"$statements\"\n",
    "\n",
    "'True\\n'"
   ]
  },
  {
   "cell_type": "markdown",
   "metadata": {},
   "source": [
    "## { { } { { } } { { } { { } } } } { { } { { } } { { { } } { } { { { { } } } } }"
   ]
  },
  {
   "cell_type": "code",
   "execution_count": null,
   "metadata": {},
   "outputs": [],
   "source": [
    "statements = 'from balanced_single_type_brackets import *; '\\\n",
    "             'pattern = \"{{}{{}}{{}{{}}}}{{}{{}}{{{}}{}{{{{}}}}}\"; '\\\n",
    "             'print(balanced_brackets_in(pattern))'"
   ]
  },
  {
   "cell_type": "code",
   "execution_count": null,
   "metadata": {},
   "outputs": [],
   "source": [
    "%%run_and_test python3 -c \"$statements\"\n",
    "\n",
    "'False\\n'"
   ]
  }
 ],
 "metadata": {
  "kernelspec": {
   "display_name": "Python 3 (ipykernel)",
   "language": "python",
   "name": "python3"
  },
  "language_info": {
   "codemirror_mode": {
    "name": "ipython",
    "version": 3
   },
   "file_extension": ".py",
   "mimetype": "text/x-python",
   "name": "python",
   "nbconvert_exporter": "python",
   "pygments_lexer": "ipython3",
   "version": "3.10.2"
  },
  "latex_envs": {
   "LaTeX_envs_menu_present": true,
   "autoclose": false,
   "autocomplete": true,
   "bibliofile": "biblio.bib",
   "cite_by": "apalike",
   "current_citInitial": 1,
   "eqLabelWithNumbers": true,
   "eqNumInitial": 1,
   "hotkeys": {
    "equation": "Ctrl-E",
    "itemize": "Ctrl-I"
   },
   "labels_anchors": false,
   "latex_user_defs": false,
   "report_style_numbering": false,
   "user_envs_cfg": false
  },
  "toc": {
   "base_numbering": 1,
   "nav_menu": {},
   "number_sections": true,
   "sideBar": true,
   "skip_h1_title": false,
   "title_cell": "Table of Contents",
   "title_sidebar": "Contents",
   "toc_cell": false,
   "toc_position": {},
   "toc_section_display": true,
   "toc_window_display": false
  },
  "widgets": {
   "application/vnd.jupyter.widget-state+json": {
    "state": {},
    "version_major": 2,
    "version_minor": 0
   }
  }
 },
 "nbformat": 4,
 "nbformat_minor": 4
}
