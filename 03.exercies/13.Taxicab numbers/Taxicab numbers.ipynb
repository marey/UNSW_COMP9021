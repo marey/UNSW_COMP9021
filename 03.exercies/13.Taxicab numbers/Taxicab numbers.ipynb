{
 "cells": [
  {
   "cell_type": "code",
   "execution_count": null,
   "id": "9b28f734",
   "metadata": {},
   "outputs": [],
   "source": [
    "load_ext run_and_test"
   ]
  },
  {
   "cell_type": "markdown",
   "id": "37092ca6",
   "metadata": {},
   "source": [
    "# Background"
   ]
  },
  {
   "cell_type": "markdown",
   "id": "b7228136",
   "metadata": {},
   "source": [
    "Given a stricly positive integer $n$, the $n^{\\mathrm{th}}$ taxicab, or Hardy–Ramanujan, number is the smallest integer that has $n$ decompositions as a sum of two cubes of stricly positive integers. Of course, 2 is the $1^{\\mathrm{st}}$ taxicab number."
   ]
  },
  {
   "cell_type": "markdown",
   "id": "72349893",
   "metadata": {},
   "source": [
    "# Task"
   ]
  },
  {
   "cell_type": "markdown",
   "id": "ac849db0",
   "metadata": {},
   "source": [
    "Write a program `taxicab.py` that defines a function `taxicab(n, starting_from=2)` whose first argument is meant to be an integer at least equal to 2, that discovers the smallest integer greater `starting_from`, whose default value of 2 can be changed to any greater integer, that can be written in `n` different ways as a sum of two cubes, and displays the `n` decompositions.\n",
    "\n",
    "* For each decomposition, the smallest cube is printed out before the largest cube.\n",
    "* Any decomposition with a smaller first cube is listed before any decomposition with a larger first cube."
   ]
  },
  {
   "cell_type": "markdown",
   "id": "06280709",
   "metadata": {},
   "source": [
    "# Test"
   ]
  },
  {
   "cell_type": "markdown",
   "id": "acf08223",
   "metadata": {},
   "source": [
    "## 2nd taxicab number"
   ]
  },
  {
   "cell_type": "code",
   "execution_count": null,
   "id": "5b6f4504",
   "metadata": {},
   "outputs": [],
   "source": [
    "%%run_and_test python3 -c 'from taxicab import *; taxicab(2)'\n",
    "\n",
    "'''\n",
    "The smallest integer greater than 2 that can be written\\n\n",
    "in 2 different ways as the sum of two cubes is 1729:\\n\n",
    "  1729 = 1^3 + 12^3\\n\n",
    "  1729 = 9^3 + 10^3\\n\n",
    "'''"
   ]
  },
  {
   "cell_type": "markdown",
   "id": "954bba5c",
   "metadata": {
    "tags": []
   },
   "source": [
    "## 3rd taxicab number"
   ]
  },
  {
   "cell_type": "code",
   "execution_count": null,
   "id": "293d6b3e",
   "metadata": {
    "tags": []
   },
   "outputs": [],
   "source": [
    "%%run_and_test -t 20 python3 -c 'from taxicab import *; taxicab(3, 87500000)'\n",
    "\n",
    "'''\n",
    "The smallest integer greater than 87500000 that can be written\\n\n",
    "in 3 different ways as the sum of two cubes is 87539319:\\n\n",
    "  87539319 = 167^3 + 436^3\\n\n",
    "  87539319 = 228^3 + 423^3\\n\n",
    "  87539319 = 255^3 + 414^3\\n\n",
    "'''"
   ]
  },
  {
   "cell_type": "markdown",
   "id": "73eff77e",
   "metadata": {
    "tags": []
   },
   "source": [
    "## 4th taxicab number"
   ]
  },
  {
   "cell_type": "code",
   "execution_count": null,
   "id": "d48724ce",
   "metadata": {
    "tags": []
   },
   "outputs": [],
   "source": [
    "%%run_and_test python3 -c 'from taxicab import *; taxicab(4, 6963472309000)'\n",
    "\n",
    "'''\n",
    "The smallest integer greater than 6963472309000 that can be written\\n\n",
    "in 4 different ways as the sum of two cubes is 6963472309248:\\n\n",
    "  6963472309248 = 2421^3 + 19083^3\\n\n",
    "  6963472309248 = 5436^3 + 18948^3\\n\n",
    "  6963472309248 = 10200^3 + 18072^3\\n\n",
    "  6963472309248 = 13322^3 + 16630^3\\n\n",
    "'''"
   ]
  },
  {
   "cell_type": "markdown",
   "id": "ec4bdeaa",
   "metadata": {},
   "source": [
    "## 5th taxicab number"
   ]
  },
  {
   "cell_type": "code",
   "execution_count": null,
   "id": "a35cfc91",
   "metadata": {},
   "outputs": [],
   "source": [
    "statements = 'from taxicab import *; taxicab(5, 48988659276962490)'"
   ]
  },
  {
   "cell_type": "code",
   "execution_count": null,
   "id": "a48a07e8",
   "metadata": {
    "tags": []
   },
   "outputs": [],
   "source": [
    "%%run_and_test python3 -c \"$statements\"\n",
    "\n",
    "'''\n",
    "The smallest integer greater than 48988659276962490 that can be written\\n\n",
    "in 5 different ways as the sum of two cubes is 48988659276962496:\\n\n",
    "  48988659276962496 = 38787^3 + 365757^3\\n\n",
    "  48988659276962496 = 107839^3 + 362753^3\\n\n",
    "  48988659276962496 = 205292^3 + 342952^3\\n\n",
    "  48988659276962496 = 221424^3 + 336588^3\\n\n",
    "  48988659276962496 = 231518^3 + 331954^3\\n\n",
    "'''"
   ]
  }
 ],
 "metadata": {
  "kernelspec": {
   "display_name": "Python 3 (ipykernel)",
   "language": "python",
   "name": "python3"
  },
  "language_info": {
   "codemirror_mode": {
    "name": "ipython",
    "version": 3
   },
   "file_extension": ".py",
   "mimetype": "text/x-python",
   "name": "python",
   "nbconvert_exporter": "python",
   "pygments_lexer": "ipython3",
   "version": "3.10.2"
  },
  "latex_envs": {
   "LaTeX_envs_menu_present": true,
   "autoclose": false,
   "autocomplete": true,
   "bibliofile": "biblio.bib",
   "cite_by": "apalike",
   "current_citInitial": 1,
   "eqLabelWithNumbers": true,
   "eqNumInitial": 1,
   "hotkeys": {
    "equation": "Ctrl-E",
    "itemize": "Ctrl-I"
   },
   "labels_anchors": false,
   "latex_user_defs": false,
   "report_style_numbering": false,
   "user_envs_cfg": false
  },
  "toc": {
   "base_numbering": 1,
   "nav_menu": {},
   "number_sections": true,
   "sideBar": true,
   "skip_h1_title": false,
   "title_cell": "Table of Contents",
   "title_sidebar": "Contents",
   "toc_cell": false,
   "toc_position": {},
   "toc_section_display": true,
   "toc_window_display": false
  },
  "widgets": {
   "application/vnd.jupyter.widget-state+json": {
    "state": {},
    "version_major": 2,
    "version_minor": 0
   }
  }
 },
 "nbformat": 4,
 "nbformat_minor": 5
}
