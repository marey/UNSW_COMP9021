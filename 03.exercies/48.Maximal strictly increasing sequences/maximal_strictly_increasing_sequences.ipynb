{
 "cells": [
  {
   "cell_type": "code",
   "execution_count": null,
   "metadata": {},
   "outputs": [],
   "source": [
    "load_ext run_and_test"
   ]
  },
  {
   "cell_type": "markdown",
   "metadata": {},
   "source": [
    "# Task"
   ]
  },
  {
   "cell_type": "markdown",
   "metadata": {},
   "source": [
    "Write a program `increasing_sequences.py` that defines a function `desired_subsequences_from(L)` that given as argument a list of distinct integers, say $[a_1,\\dots,a_n]$, $n\\geq 0$, returns the list of all lists of the form $[a_{i_1},\\dots,a_{i_k}]$ such that:\n",
    "\n",
    "* $k\\geq 0$ and $1\\leq i_1<\\dots<i_k\\leq n$;\n",
    "* $a_{i_1}<\\dots<a_{i_k}$;\n",
    "* there is no $k'\\geq 0$ and no list of the form $[j_1,\\dots,j_{k'}]$ such that:\n",
    "    * $k'\\geq 0$ and $1\\leq j_1<\\dots<j_{k'}\\leq n$;\n",
    "    * $a_{j_1}<\\dots<a_{j_{k'}}$;\n",
    "    * $\\{i_1,\\dots,i_k\\}$ is a strict subset of $\\{j_1,\\dots,j_{k'}\\}$.\n",
    "\n",
    "The members of the returned list should appear in lexicographic order of the associated tuples $(i_1,\\dots, i_k)$."
   ]
  },
  {
   "cell_type": "markdown",
   "metadata": {},
   "source": [
    "# Tests"
   ]
  },
  {
   "cell_type": "markdown",
   "metadata": {},
   "source": [
    "## The empty list"
   ]
  },
  {
   "cell_type": "code",
   "execution_count": null,
   "metadata": {},
   "outputs": [],
   "source": [
    "statements = 'from increasing_sequences import desired_subsequences_from; '\\\n",
    "             'print(desired_subsequences_from([]))'"
   ]
  },
  {
   "cell_type": "code",
   "execution_count": null,
   "metadata": {},
   "outputs": [],
   "source": [
    "%%run_and_test python3 -c \"$statements\"\n",
    "\n",
    "'[]\\n'"
   ]
  },
  {
   "cell_type": "markdown",
   "metadata": {},
   "source": [
    "## A list of length 1"
   ]
  },
  {
   "cell_type": "code",
   "execution_count": null,
   "metadata": {},
   "outputs": [],
   "source": [
    "statements = 'from increasing_sequences import desired_subsequences_from; '\\\n",
    "             'print(desired_subsequences_from([1]))'"
   ]
  },
  {
   "cell_type": "code",
   "execution_count": null,
   "metadata": {
    "tags": []
   },
   "outputs": [],
   "source": [
    "%%run_and_test python3 -c \"$statements\"\n",
    "\n",
    "'[[1]]\\n'"
   ]
  },
  {
   "cell_type": "markdown",
   "metadata": {},
   "source": [
    "### A list of length 2"
   ]
  },
  {
   "cell_type": "code",
   "execution_count": null,
   "metadata": {},
   "outputs": [],
   "source": [
    "statements = 'from increasing_sequences import desired_subsequences_from; '\\\n",
    "             'print(desired_subsequences_from([2, 1]))'"
   ]
  },
  {
   "cell_type": "code",
   "execution_count": null,
   "metadata": {
    "tags": []
   },
   "outputs": [],
   "source": [
    "%%run_and_test python3 -c \"$statements\"\n",
    "\n",
    "'[[2], [1]]\\n'"
   ]
  },
  {
   "cell_type": "markdown",
   "metadata": {},
   "source": [
    "### A list of length 3"
   ]
  },
  {
   "cell_type": "code",
   "execution_count": null,
   "metadata": {},
   "outputs": [],
   "source": [
    "statements = 'from increasing_sequences import desired_subsequences_from; '\\\n",
    "             'print(desired_subsequences_from([3, 2, 1]))'"
   ]
  },
  {
   "cell_type": "code",
   "execution_count": null,
   "metadata": {},
   "outputs": [],
   "source": [
    "%%run_and_test python3 -c \"$statements\"\n",
    "\n",
    "'[[3], [2], [1]]\\n'"
   ]
  },
  {
   "cell_type": "markdown",
   "metadata": {},
   "source": [
    "### A list of length 4"
   ]
  },
  {
   "cell_type": "code",
   "execution_count": null,
   "metadata": {},
   "outputs": [],
   "source": [
    "statements = 'from increasing_sequences import desired_subsequences_from; '\\\n",
    "             'print(desired_subsequences_from([1, 4, 2, 3]))'"
   ]
  },
  {
   "cell_type": "code",
   "execution_count": null,
   "metadata": {
    "tags": []
   },
   "outputs": [],
   "source": [
    "%%run_and_test python3 -c \"$statements\"\n",
    "\n",
    "'[[1, 4], [1, 2, 3]]\\n'"
   ]
  },
  {
   "cell_type": "markdown",
   "metadata": {},
   "source": [
    "### A list of length 5"
   ]
  },
  {
   "cell_type": "code",
   "execution_count": null,
   "metadata": {},
   "outputs": [],
   "source": [
    "statements = 'from increasing_sequences import desired_subsequences_from; '\\\n",
    "             'print(desired_subsequences_from([4, 1, 5, 2, 3]))'"
   ]
  },
  {
   "cell_type": "code",
   "execution_count": null,
   "metadata": {},
   "outputs": [],
   "source": [
    "%%run_and_test python3 -c \"$statements\"\n",
    "\n",
    "'[[4, 5], [1, 5], [1, 2, 3]]\\n'"
   ]
  },
  {
   "cell_type": "markdown",
   "metadata": {},
   "source": [
    "### A list of length 6"
   ]
  },
  {
   "cell_type": "code",
   "execution_count": null,
   "metadata": {},
   "outputs": [],
   "source": [
    "statements = 'from increasing_sequences import desired_subsequences_from; '\\\n",
    "             'print(desired_subsequences_from([1, 3, 5, 4, 2, 6]))'"
   ]
  },
  {
   "cell_type": "code",
   "execution_count": null,
   "metadata": {
    "tags": []
   },
   "outputs": [],
   "source": [
    "%%run_and_test python3 -c \"$statements\"\n",
    "\n",
    "'[[1, 3, 5, 6], [1, 3, 4, 6], [1, 2, 6]]\\n'"
   ]
  },
  {
   "cell_type": "markdown",
   "metadata": {},
   "source": [
    "### A list of length 7"
   ]
  },
  {
   "cell_type": "code",
   "execution_count": null,
   "metadata": {},
   "outputs": [],
   "source": [
    "statements = 'from increasing_sequences import desired_subsequences_from; '\\\n",
    "             'print(desired_subsequences_from([4, 5, 2, 7, 1, 6, 3]))'"
   ]
  },
  {
   "cell_type": "code",
   "execution_count": null,
   "metadata": {
    "tags": []
   },
   "outputs": [],
   "source": [
    "%%run_and_test python3 -c \"$statements\"\n",
    "\n",
    "'[[4, 5, 7], [4, 5, 6], [2, 7], [2, 6], [2, 3], [1, 6], [1, 3]]\\n'"
   ]
  },
  {
   "cell_type": "markdown",
   "metadata": {},
   "source": [
    "### A list of length 8"
   ]
  },
  {
   "cell_type": "code",
   "execution_count": null,
   "metadata": {},
   "outputs": [],
   "source": [
    "statements = 'from increasing_sequences import desired_subsequences_from; '\\\n",
    "             'print(desired_subsequences_from([4, 7, 6, 1, 3, 5, 8, 2]))'"
   ]
  },
  {
   "cell_type": "code",
   "execution_count": null,
   "metadata": {},
   "outputs": [],
   "source": [
    "%%run_and_test python3 -c \"$statements\"\n",
    "\n",
    "'[[4, 7, 8], [4, 6, 8], [4, 5, 8], [1, 3, 5, 8], [1, 2]]\\n'"
   ]
  },
  {
   "cell_type": "markdown",
   "metadata": {},
   "source": [
    "### A list of length 10"
   ]
  },
  {
   "cell_type": "code",
   "execution_count": null,
   "metadata": {},
   "outputs": [],
   "source": [
    "statements = 'from increasing_sequences import desired_subsequences_from; '\\\n",
    "             'print(desired_subsequences_from([3, 4, 6, 10, 2, 7, 1, 5, '\\\n",
    "                                              '8, 9]))'"
   ]
  },
  {
   "cell_type": "code",
   "execution_count": null,
   "metadata": {
    "tags": []
   },
   "outputs": [],
   "source": [
    "%%run_and_test python3 -c \"$statements\"\n",
    "\n",
    "'[[3, 4, 6, 10], [3, 4, 6, 7, 8, 9], [3, 4, 5, 8, 9], [2, 7, 8, 9], '\n",
    "'[2, 5, 8, 9], [1, 5, 8, 9]]\\n'"
   ]
  },
  {
   "cell_type": "markdown",
   "metadata": {},
   "source": [
    "### A list of length 12"
   ]
  },
  {
   "cell_type": "code",
   "execution_count": null,
   "metadata": {},
   "outputs": [],
   "source": [
    "statements = 'from increasing_sequences import desired_subsequences_from; '\\\n",
    "             'print(desired_subsequences_from([4, 3, 8, 10, 12, 6, 7, 5, 9, '\\\n",
    "                                              '1, 2, 11]))'"
   ]
  },
  {
   "cell_type": "code",
   "execution_count": null,
   "metadata": {},
   "outputs": [],
   "source": [
    "%%run_and_test python3 -c \"$statements\"\n",
    "\n",
    "'[[4, 8, 10, 12], [4, 8, 10, 11], [4, 8, 9, 11], [4, 6, 7, 9, 11], '\n",
    "'[4, 5, 9, 11], [3, 8, 10, 12], [3, 8, 10, 11], [3, 8, 9, 11], '\n",
    "'[3, 6, 7, 9, 11], [3, 5, 9, 11], [1, 2, 11]]\\n'"
   ]
  },
  {
   "cell_type": "markdown",
   "metadata": {},
   "source": [
    "### A list of length 16"
   ]
  },
  {
   "cell_type": "code",
   "execution_count": null,
   "metadata": {},
   "outputs": [],
   "source": [
    "statements = 'from increasing_sequences import desired_subsequences_from; '\\\n",
    "             'print(desired_subsequences_from([10, 7, 1, 11, 5, 8, 9, 3, 4, '\\\n",
    "                                              '14, 6, 13, 12, 2, 15]))'"
   ]
  },
  {
   "cell_type": "code",
   "execution_count": null,
   "metadata": {
    "tags": []
   },
   "outputs": [],
   "source": [
    "%%run_and_test python3 -c \"$statements\"\n",
    "\n",
    "'[[10, 11, 14, 15], [10, 11, 13, 15], [10, 11, 12, 15], [7, 11, 14, 15], '\n",
    "'[7, 11, 13, 15], [7, 11, 12, 15], [7, 8, 9, 14, 15], [7, 8, 9, 13, 15], '\n",
    "'[7, 8, 9, 12, 15], [1, 11, 14, 15], [1, 11, 13, 15], [1, 11, 12, 15], '\n",
    "'[1, 5, 8, 9, 14, 15], [1, 5, 8, 9, 13, 15], [1, 5, 8, 9, 12, 15], '\n",
    "'[1, 5, 6, 13, 15], [1, 5, 6, 12, 15], [1, 3, 4, 14, 15], '\n",
    "'[1, 3, 4, 6, 13, 15], [1, 3, 4, 6, 12, 15], [1, 2, 15]]\\n'"
   ]
  },
  {
   "cell_type": "markdown",
   "metadata": {},
   "source": [
    "### A list of length 21"
   ]
  },
  {
   "cell_type": "code",
   "execution_count": null,
   "metadata": {},
   "outputs": [],
   "source": [
    "statements = 'from increasing_sequences import desired_subsequences_from; '\\\n",
    "             'print(desired_subsequences_from([10, 16, 7, 4, 22, 1, 15, 9, '\\\n",
    "                                              '5, 2, 18, 17, 12, 13, 14, 23, '\\\n",
    "                                              '11, 19, 20, 8, 3, 21, 6]))'"
   ]
  },
  {
   "cell_type": "code",
   "execution_count": null,
   "metadata": {},
   "outputs": [],
   "source": [
    "%%run_and_test -s20000 python3 -c \"$statements\"\n",
    "\n",
    "'[[10, 16, 22, 23], [10, 16, 18, 23], [10, 16, 18, 19, 20, 21], '\n",
    "'[10, 16, 17, 23], [10, 16, 17, 19, 20, 21], [10, 15, 18, 23], '\n",
    "'[10, 15, 18, 19, 20, 21], [10, 15, 17, 23], [10, 15, 17, 19, 20, 21], '\n",
    "'[10, 12, 13, 14, 23], [10, 12, 13, 14, 19, 20, 21], [10, 11, 19, 20, 21], '\n",
    "'[7, 22, 23], [7, 15, 18, 23], [7, 15, 18, 19, 20, 21], [7, 15, 17, 23], '\n",
    "'[7, 15, 17, 19, 20, 21], [7, 9, 18, 23], [7, 9, 18, 19, 20, 21], '\n",
    "'[7, 9, 17, 23], [7, 9, 17, 19, 20, 21], [7, 9, 12, 13, 14, 23], '\n",
    "'[7, 9, 12, 13, 14, 19, 20, 21], [7, 9, 11, 19, 20, 21], [7, 8, 21], '\n",
    "'[4, 22, 23], [4, 15, 18, 23], [4, 15, 18, 19, 20, 21], [4, 15, 17, 23], '\n",
    "'[4, 15, 17, 19, 20, 21], [4, 9, 18, 23], [4, 9, 18, 19, 20, 21], '\n",
    "'[4, 9, 17, 23], [4, 9, 17, 19, 20, 21], [4, 9, 12, 13, 14, 23], '\n",
    "'[4, 9, 12, 13, 14, 19, 20, 21], [4, 9, 11, 19, 20, 21], [4, 5, 18, 23], '\n",
    "'[4, 5, 18, 19, 20, 21], [4, 5, 17, 23], [4, 5, 17, 19, 20, 21], '\n",
    "'[4, 5, 12, 13, 14, 23], [4, 5, 12, 13, 14, 19, 20, 21], '\n",
    "'[4, 5, 11, 19, 20, 21], [4, 5, 8, 21], [4, 5, 6], [1, 15, 18, 23], '\n",
    "'[1, 15, 18, 19, 20, 21], [1, 15, 17, 23], [1, 15, 17, 19, 20, 21], '\n",
    "'[1, 9, 18, 23], [1, 9, 18, 19, 20, 21], [1, 9, 17, 23], '\n",
    "'[1, 9, 17, 19, 20, 21], [1, 9, 12, 13, 14, 23], '\n",
    "'[1, 9, 12, 13, 14, 19, 20, 21], [1, 9, 11, 19, 20, 21], [1, 5, 18, 23], '\n",
    "'[1, 5, 18, 19, 20, 21], [1, 5, 17, 23], [1, 5, 17, 19, 20, 21], '\n",
    "'[1, 5, 12, 13, 14, 23], [1, 5, 12, 13, 14, 19, 20, 21], '\n",
    "'[1, 5, 11, 19, 20, 21], [1, 5, 8, 21], [1, 5, 6], [1, 2, 18, 23], '\n",
    "'[1, 2, 18, 19, 20, 21], [1, 2, 17, 23], [1, 2, 17, 19, 20, 21], '\n",
    "'[1, 2, 12, 13, 14, 23], [1, 2, 12, 13, 14, 19, 20, 21], '\n",
    "'[1, 2, 11, 19, 20, 21], [1, 2, 8, 21], [1, 2, 3, 21], [1, 2, 3, 6]]\\n'"
   ]
  },
  {
   "cell_type": "markdown",
   "metadata": {},
   "source": [
    "### A list of length 50"
   ]
  },
  {
   "cell_type": "code",
   "execution_count": null,
   "metadata": {},
   "outputs": [],
   "source": [
    "statements = 'from increasing_sequences import desired_subsequences_from; '\\\n",
    "             'print(len(desired_subsequences_from([17, 32, 22, 48, 31, 20, '\\\n",
    "                        '39, 18, 36, 27, 13, 38, 23, 44, 29, 4, 28, 14, 1, '\\\n",
    "                        '41, 16, 9, 3, 50, 26, 46, 19, 8, 25, 15, 49, 37, 5, '\\\n",
    "                        '35, 7, 34, 12, 10, 43, 11, 30, 2, 45, 24, 33, 6, '\\\n",
    "                        '47, 42, 21, 40])))'"
   ]
  },
  {
   "cell_type": "code",
   "execution_count": null,
   "metadata": {
    "tags": []
   },
   "outputs": [],
   "source": [
    "%%run_and_test python3 -c \"$statements\"\n",
    "\n",
    "'1065\\n'"
   ]
  },
  {
   "cell_type": "markdown",
   "metadata": {},
   "source": [
    "### A list of length 80"
   ]
  },
  {
   "cell_type": "code",
   "execution_count": null,
   "metadata": {},
   "outputs": [],
   "source": [
    "statements = 'from increasing_sequences import desired_subsequences_from; '\\\n",
    "             'print(len(desired_subsequences_from([49, 6, 39, 82, 41, 93, '\\\n",
    "                        '60, 30, 85, 21, 35, 34, 22, 58, 1, 50, 96, 13, 77, '\\\n",
    "                        '100, 26, 61, 78, 28, 69, 25, 62, 88, 64, 80, 27, '\\\n",
    "                        '73, 4, 57, 87, 70, 45, 91, 3, 51, 97, 48, 43, 83, '\\\n",
    "                        '53, 81, 44, 12, 52, 68, 98, 36, 17, 66, 75, 76, 9, '\\\n",
    "                        '18, 74, 8, 31, 56, 99, 16, 63, 15, 94, 5, 95, 89, '\\\n",
    "                        '11, 67, 20, 79, 37, 46, 84, 54, 23, 7, 65, 14, 59, '\\\n",
    "                        '92, 90, 19, 32, 33, 71, 72, 86, 29, 42, 55, 24, 2, '\\\n",
    "                        '40, 47, 10, 38])))'"
   ]
  },
  {
   "cell_type": "code",
   "execution_count": null,
   "metadata": {},
   "outputs": [],
   "source": [
    "%%run_and_test python3 -c \"$statements\"\n",
    "\n",
    "'19820\\n'"
   ]
  },
  {
   "cell_type": "markdown",
   "metadata": {},
   "source": [
    "### A list of length 150"
   ]
  },
  {
   "cell_type": "code",
   "execution_count": null,
   "metadata": {},
   "outputs": [],
   "source": [
    "statements = 'from increasing_sequences import desired_subsequences_from; '\\\n",
    "             'print(len(desired_subsequences_from([75, 148, 43, 147, 102, '\\\n",
    "                        '109, 135, 15, 85, 137, 138, 20, 53, 140, 39, 77, '\\\n",
    "                        '130, 86, 62, 73, 67, 144, 23, 54, 3, 106, 96, 60, '\\\n",
    "                        '143, 18, 9, 64, 139, 108, 116, 42, 90, 22, 141, 94, '\\\n",
    "                        '105, 21, 1, 33, 26, 38, 104, 47, 88, 68, 14, 89, '\\\n",
    "                        '118, 127, 8, 5, 83, 91, 113, 111, 48, 92, 11, 41, '\\\n",
    "                        '128, 71, 12, 120, 82, 61, 81, 69, 95, 50, 110, 121, '\\\n",
    "                        '136, 70, 27, 51, 72, 28, 19, 66, 98, 114, 146, 80, '\\\n",
    "                        '32, 150, 10, 107, 65, 57, 115, 101, 119, 7, 132, '\\\n",
    "                        '16, 112, 34, 6, 99, 149, 122, 97, 46, 37, 58, 126, '\\\n",
    "                        '4, 17, 133, 29, 13, 40, 59, 49, 84, 124, 25, 56, '\\\n",
    "                        '142, 123, 76, 2, 74, 55, 36, 93, 129, 24, 78, 35, '\\\n",
    "                        '52, 45, 63, 87, 117, 79, 131, 31, 125, 145, 103, '\\\n",
    "                        '30, 134, 100, 44])))'"
   ]
  },
  {
   "cell_type": "code",
   "execution_count": null,
   "metadata": {},
   "outputs": [],
   "source": [
    "%%run_and_test python3 -c \"$statements\"\n",
    "\n",
    "'513168\\n'"
   ]
  }
 ],
 "metadata": {
  "kernelspec": {
   "display_name": "Python 3 (ipykernel)",
   "language": "python",
   "name": "python3"
  },
  "language_info": {
   "codemirror_mode": {
    "name": "ipython",
    "version": 3
   },
   "file_extension": ".py",
   "mimetype": "text/x-python",
   "name": "python",
   "nbconvert_exporter": "python",
   "pygments_lexer": "ipython3",
   "version": "3.10.2"
  },
  "latex_envs": {
   "LaTeX_envs_menu_present": true,
   "autoclose": false,
   "autocomplete": true,
   "bibliofile": "biblio.bib",
   "cite_by": "apalike",
   "current_citInitial": 1,
   "eqLabelWithNumbers": true,
   "eqNumInitial": 1,
   "hotkeys": {
    "equation": "Ctrl-E",
    "itemize": "Ctrl-I"
   },
   "labels_anchors": false,
   "latex_user_defs": false,
   "report_style_numbering": false,
   "user_envs_cfg": false
  },
  "toc": {
   "base_numbering": 1,
   "nav_menu": {},
   "number_sections": true,
   "sideBar": true,
   "skip_h1_title": false,
   "title_cell": "Table of Contents",
   "title_sidebar": "Contents",
   "toc_cell": false,
   "toc_position": {},
   "toc_section_display": true,
   "toc_window_display": false
  },
  "widgets": {
   "application/vnd.jupyter.widget-state+json": {
    "state": {},
    "version_major": 2,
    "version_minor": 0
   }
  }
 },
 "nbformat": 4,
 "nbformat_minor": 4
}
