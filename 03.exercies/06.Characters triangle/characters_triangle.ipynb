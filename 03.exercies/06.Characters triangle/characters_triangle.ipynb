{
 "cells": [
  {
   "cell_type": "code",
   "execution_count": null,
   "metadata": {},
   "outputs": [],
   "source": [
    "load_ext run_and_test"
   ]
  },
  {
   "cell_type": "markdown",
   "metadata": {},
   "source": [
    "# Task"
   ]
  },
  {
   "cell_type": "markdown",
   "metadata": {},
   "source": [
    "Write a program `characters_triangle.py` that prompts the user for a strictly positive integer $n$ and outputs a\n",
    "triangle of height $n$ as shown in the tests."
   ]
  },
  {
   "cell_type": "markdown",
   "metadata": {},
   "source": [
    "# Tests"
   ]
  },
  {
   "cell_type": "markdown",
   "metadata": {},
   "source": [
    "## Height 1"
   ]
  },
  {
   "cell_type": "code",
   "execution_count": null,
   "metadata": {
    "tags": []
   },
   "outputs": [],
   "source": [
    "%%run_and_test -i'1\\n' python3 characters_triangle.py\n",
    "\n",
    "'Enter a strictly positive integer: ', '1\\n',\n",
    "'A\\n'"
   ]
  },
  {
   "cell_type": "markdown",
   "metadata": {},
   "source": [
    "## Height 2"
   ]
  },
  {
   "cell_type": "code",
   "execution_count": null,
   "metadata": {},
   "outputs": [],
   "source": [
    "%%run_and_test -i'2\\n' python3 characters_triangle.py\n",
    "\n",
    "'Enter a strictly positive integer: ', '2\\n',\n",
    "'''\n",
    " A\\n\n",
    "BCB\\n\n",
    "'''"
   ]
  },
  {
   "cell_type": "markdown",
   "metadata": {},
   "source": [
    "## Height 3"
   ]
  },
  {
   "cell_type": "code",
   "execution_count": null,
   "metadata": {
    "tags": []
   },
   "outputs": [],
   "source": [
    "%%run_and_test -i'3\\n' python3 characters_triangle.py\n",
    "\n",
    "'Enter a strictly positive integer: ', '3\\n',\n",
    "'''\n",
    "  A\\n\n",
    " BCB\\n\n",
    "DEFED\\n\n",
    "'''"
   ]
  },
  {
   "cell_type": "markdown",
   "metadata": {},
   "source": [
    "## Height 4"
   ]
  },
  {
   "cell_type": "code",
   "execution_count": null,
   "metadata": {},
   "outputs": [],
   "source": [
    "%%run_and_test -i'4\\n' python3 characters_triangle.py\n",
    "\n",
    "'Enter a strictly positive integer: ', '4\\n',\n",
    "'''\n",
    "   A\\n\n",
    "  BCB\\n\n",
    " DEFED\\n\n",
    "GHIJIHG\\n\n",
    "'''"
   ]
  },
  {
   "cell_type": "markdown",
   "metadata": {},
   "source": [
    "## Height 5"
   ]
  },
  {
   "cell_type": "code",
   "execution_count": null,
   "metadata": {
    "tags": []
   },
   "outputs": [],
   "source": [
    "%%run_and_test -i'5\\n' python3 characters_triangle.py\n",
    "\n",
    "'Enter a strictly positive integer: ', '5\\n',\n",
    "'''\n",
    "    A\\n\n",
    "   BCB\\n\n",
    "  DEFED\\n\n",
    " GHIJIHG\\n\n",
    "KLMNONMLK\\n\n",
    "'''"
   ]
  },
  {
   "cell_type": "markdown",
   "metadata": {},
   "source": [
    "## Height 6"
   ]
  },
  {
   "cell_type": "code",
   "execution_count": null,
   "metadata": {},
   "outputs": [],
   "source": [
    "%%run_and_test -i'6\\n' python3 characters_triangle.py\n",
    "\n",
    "'Enter a strictly positive integer: ', '6\\n',\n",
    "'''\n",
    "     A\\n\n",
    "    BCB\\n\n",
    "   DEFED\\n\n",
    "  GHIJIHG\\n\n",
    " KLMNONMLK\\n\n",
    "PQRSTUTSRQP\\n\n",
    "'''"
   ]
  },
  {
   "cell_type": "markdown",
   "metadata": {},
   "source": [
    "## Height 7"
   ]
  },
  {
   "cell_type": "code",
   "execution_count": null,
   "metadata": {
    "tags": []
   },
   "outputs": [],
   "source": [
    "%%run_and_test -i'7\\n' python3 characters_triangle.py\n",
    "\n",
    "'Enter a strictly positive integer: ', '7\\n',\n",
    "'''\n",
    "      A\\n\n",
    "     BCB\\n\n",
    "    DEFED\\n\n",
    "   GHIJIHG\\n\n",
    "  KLMNONMLK\\n\n",
    " PQRSTUTSRQP\\n\n",
    "VWXYZABAZYXWV\\n\n",
    "'''"
   ]
  },
  {
   "cell_type": "markdown",
   "metadata": {},
   "source": [
    "## Height 8"
   ]
  },
  {
   "cell_type": "code",
   "execution_count": null,
   "metadata": {},
   "outputs": [],
   "source": [
    "%%run_and_test -i'8\\n' python3 characters_triangle.py\n",
    "\n",
    "'Enter a strictly positive integer: ', '8\\n',\n",
    "'''\n",
    "       A\\n\n",
    "      BCB\\n\n",
    "     DEFED\\n\n",
    "    GHIJIHG\\n\n",
    "   KLMNONMLK\\n\n",
    "  PQRSTUTSRQP\\n\n",
    " VWXYZABAZYXWV\\n\n",
    "CDEFGHIJIHGFEDC\\n\n",
    "'''"
   ]
  },
  {
   "cell_type": "markdown",
   "metadata": {},
   "source": [
    "## Height 9"
   ]
  },
  {
   "cell_type": "code",
   "execution_count": null,
   "metadata": {
    "tags": []
   },
   "outputs": [],
   "source": [
    "%%run_and_test -i'9\\n' python3 characters_triangle.py\n",
    "\n",
    "'Enter a strictly positive integer: ', '9\\n',\n",
    "'''\n",
    "        A\\n\n",
    "       BCB\\n\n",
    "      DEFED\\n\n",
    "     GHIJIHG\\n\n",
    "    KLMNONMLK\\n\n",
    "   PQRSTUTSRQP\\n\n",
    "  VWXYZABAZYXWV\\n\n",
    " CDEFGHIJIHGFEDC\\n\n",
    "KLMNOPQRSRQPONMLK\\n\n",
    "'''"
   ]
  },
  {
   "cell_type": "markdown",
   "metadata": {},
   "source": [
    "## Height 10"
   ]
  },
  {
   "cell_type": "code",
   "execution_count": null,
   "metadata": {
    "tags": []
   },
   "outputs": [],
   "source": [
    "%%run_and_test -i'10\\n' python3 characters_triangle.py\n",
    "\n",
    "'Enter a strictly positive integer: ', '10\\n',\n",
    "'''\n",
    "         A\\n\n",
    "        BCB\\n\n",
    "       DEFED\\n\n",
    "      GHIJIHG\\n\n",
    "     KLMNONMLK\\n\n",
    "    PQRSTUTSRQP\\n\n",
    "   VWXYZABAZYXWV\\n\n",
    "  CDEFGHIJIHGFEDC\\n\n",
    " KLMNOPQRSRQPONMLK\\n\n",
    "TUVWXYZABCBAZYXWVUT\\n\n",
    "'''"
   ]
  },
  {
   "cell_type": "markdown",
   "metadata": {},
   "source": [
    "## Height 15"
   ]
  },
  {
   "cell_type": "code",
   "execution_count": null,
   "metadata": {},
   "outputs": [],
   "source": [
    "%%run_and_test -i'15\\n' python3 characters_triangle.py\n",
    "\n",
    "'Enter a strictly positive integer: ', '15\\n',\n",
    "'''\n",
    "              A\\n\n",
    "             BCB\\n\n",
    "            DEFED\\n\n",
    "           GHIJIHG\\n\n",
    "          KLMNONMLK\\n\n",
    "         PQRSTUTSRQP\\n\n",
    "        VWXYZABAZYXWV\\n\n",
    "       CDEFGHIJIHGFEDC\\n\n",
    "      KLMNOPQRSRQPONMLK\\n\n",
    "     TUVWXYZABCBAZYXWVUT\\n\n",
    "    DEFGHIJKLMNMLKJIHGFED\\n\n",
    "   OPQRSTUVWXYZYXWVUTSRQPO\\n\n",
    "  ABCDEFGHIJKLMLKJIHGFEDCBA\\n\n",
    " NOPQRSTUVWXYZAZYXWVUTSRQPON\\n\n",
    "BCDEFGHIJKLMNOPONMLKJIHGFEDCB\\n\n",
    "'''"
   ]
  },
  {
   "cell_type": "markdown",
   "metadata": {},
   "source": [
    "## Height 20"
   ]
  },
  {
   "cell_type": "code",
   "execution_count": null,
   "metadata": {},
   "outputs": [],
   "source": [
    "%%run_and_test -i'20\\n' python3 characters_triangle.py\n",
    "\n",
    "'Enter a strictly positive integer: ', '20\\n',\n",
    "'''\n",
    "                   A\\n\n",
    "                  BCB\\n\n",
    "                 DEFED\\n\n",
    "                GHIJIHG\\n\n",
    "               KLMNONMLK\\n\n",
    "              PQRSTUTSRQP\\n\n",
    "             VWXYZABAZYXWV\\n\n",
    "            CDEFGHIJIHGFEDC\\n\n",
    "           KLMNOPQRSRQPONMLK\\n\n",
    "          TUVWXYZABCBAZYXWVUT\\n\n",
    "         DEFGHIJKLMNMLKJIHGFED\\n\n",
    "        OPQRSTUVWXYZYXWVUTSRQPO\\n\n",
    "       ABCDEFGHIJKLMLKJIHGFEDCBA\\n\n",
    "      NOPQRSTUVWXYZAZYXWVUTSRQPON\\n\n",
    "     BCDEFGHIJKLMNOPONMLKJIHGFEDCB\\n\n",
    "    QRSTUVWXYZABCDEFEDCBAZYXWVUTSRQ\\n\n",
    "   GHIJKLMNOPQRSTUVWVUTSRQPONMLKJIHG\\n\n",
    "  XYZABCDEFGHIJKLMNONMLKJIHGFEDCBAZYX\\n\n",
    " PQRSTUVWXYZABCDEFGHGFEDCBAZYXWVUTSRQP\\n\n",
    "IJKLMNOPQRSTUVWXYZABAZYXWVUTSRQPONMLKJI\\n\n",
    "'''"
   ]
  }
 ],
 "metadata": {
  "kernelspec": {
   "display_name": "Python 3 (ipykernel)",
   "language": "python",
   "name": "python3"
  },
  "language_info": {
   "codemirror_mode": {
    "name": "ipython",
    "version": 3
   },
   "file_extension": ".py",
   "mimetype": "text/x-python",
   "name": "python",
   "nbconvert_exporter": "python",
   "pygments_lexer": "ipython3",
   "version": "3.10.2"
  },
  "latex_envs": {
   "LaTeX_envs_menu_present": true,
   "autoclose": false,
   "autocomplete": true,
   "bibliofile": "biblio.bib",
   "cite_by": "apalike",
   "current_citInitial": 1,
   "eqLabelWithNumbers": true,
   "eqNumInitial": 1,
   "hotkeys": {
    "equation": "Ctrl-E",
    "itemize": "Ctrl-I"
   },
   "labels_anchors": false,
   "latex_user_defs": false,
   "report_style_numbering": false,
   "user_envs_cfg": false
  },
  "toc": {
   "base_numbering": 1,
   "nav_menu": {},
   "number_sections": true,
   "sideBar": true,
   "skip_h1_title": false,
   "title_cell": "Table of Contents",
   "title_sidebar": "Contents",
   "toc_cell": false,
   "toc_position": {},
   "toc_section_display": true,
   "toc_window_display": false
  },
  "widgets": {
   "application/vnd.jupyter.widget-state+json": {
    "state": {},
    "version_major": 2,
    "version_minor": 0
   }
  }
 },
 "nbformat": 4,
 "nbformat_minor": 4
}
