{
 "cells": [
  {
   "cell_type": "code",
   "execution_count": null,
   "metadata": {},
   "outputs": [],
   "source": [
    "load_ext run_and_test"
   ]
  },
  {
   "cell_type": "markdown",
   "metadata": {
    "jp-MarkdownHeadingCollapsed": true,
    "tags": []
   },
   "source": [
    "# Background"
   ]
  },
  {
   "cell_type": "markdown",
   "metadata": {},
   "source": [
    "**Lemma 1.**<a name=prop_1></a>$\\ $ _Let $\\frac{p_1}{q_1}$ and $\\frac{p_2}{q_2}$ be two distinct positive reduced fractions. Then the mediant of $\\frac{p_1}{q_1}$ and $\\frac{p_2}{q_2}$ is between $\\frac{p_1}{q_1}$ and $\\frac{p_2}{q_2}$._"
   ]
  },
  {
   "cell_type": "markdown",
   "metadata": {},
   "source": [
    "_Proof._$\\ $ Assume without generality that $\\frac{p_1}{q_1}<\\frac{p_2}{q_2}$, so $p_1q_2<p_2q_1$. Then $\\frac{p_1}{q_1}<\\frac{p_1+p_2}{q_1+q_2}$ iff $p_1(q_1+q_2)<(p_1+p_2)q_1$, which is equivalent to $p_1q_1+p_1q_2<p_1q_1+p_2q_1$, which is the case indeed. Similarly, $\\frac{p_1+p_2}{q_1+q_2}<\\frac{p_2}{q_2}$.$\\ $ Q.E.D."
   ]
  },
  {
   "cell_type": "markdown",
   "metadata": {},
   "source": [
    "**Lemma 2.**<a name=prop_2></a>$\\ $ _Let a fraction $\\frac{p}{q}$ be given. If $\\gcd(p,q)\\neq 1$ then $\\frac{p}{q}$ is adjacent to no fraction._"
   ]
  },
  {
   "cell_type": "markdown",
   "metadata": {},
   "source": [
    "_Proof._$\\ $ If $\\frac{p}{q}$ is adjacent to a fraction $\\frac{p'}{q'}$ and $g$ is a natural number that divides both $p$ and $q$, then $g$ divides $pq'-p'q$, hence $g$ divides $\\pm 1$, hence $g=1$, hence $\\gcd(p,q)=1$.$\\ $ Q.E.D."
   ]
  },
  {
   "cell_type": "markdown",
   "metadata": {},
   "source": [
    "**Lemma 3.**<a name=prop_3></a>$\\ $ _Let two adjacent fractions $\\frac{p_1}{q_1}$ and $\\frac{p_2}{q_2}$ be given. The mediant of $\\frac{p_1}{q_1}$ and $\\frac{p_2}{q_2}$ is adjacent to both $\\frac{p_1}{q_1}$ and $\\frac{p_2}{q_2}$._"
   ]
  },
  {
   "cell_type": "markdown",
   "metadata": {},
   "source": [
    "_Proof._$\\ $ $(p_1+p_2)q_1-(q_1+q_2)p_1=\\pm 1$, hence $\\frac{p_1}{q_1}$ and the mediant of $\\frac{p_1}{q_1}$ and $\\frac{p_2}{q_2}$ are adjacent. Similarly, $\\frac{p_2}{q_2}$ and the mediant of $\\frac{p_1}{q_1}$ and $\\frac{p_2}{q_2}$ are adjacent.$\\ $ Q.E.D."
   ]
  },
  {
   "cell_type": "markdown",
   "metadata": {},
   "source": [
    "**Lemma 4.**<a name=prop_4></a>$\\ $ _Let three fractions $\\frac{p}{q}$, $\\frac{p_1}{q_1}$ and $\\frac{p_2}{q_2}$ be such that:_\n",
    "\n",
    "* $\\frac{p_1}{q_1}<\\frac{p}{q}<\\frac{p_2}{q_2}$;\n",
    "* $\\frac{p_1}{q_1}$ and $\\frac{p_2}{q_2}$ _are adjacent._\n",
    "\n",
    "_Then $p+q\\geq p_1+q_1+p_2+q_2$._"
   ]
  },
  {
   "cell_type": "markdown",
   "metadata": {},
   "source": [
    "_Proof._$\\ $ By the first item in the statement of the lemma, $p_2q-pq_2$ is strictly positive, so at least equal to 1, and similarly, $pq_1-p_1q$ is strictly positive, so at least equal to 1. Hence\n",
    "\n",
    "* $(p_1+q_1)(p_2q-pq_2)+(p_2+q_2)(pq_1-p_1q)\\geq p_1+q_1+p_2+q_2$, so\n",
    "* $p_1p_2q-p_1pq_2+q_1p_2q-q_1pq_2+p_2pq_1-p_2p_1q+q_2pq_1-q_2p_1q\\geq p_1+q_1+p_2+q_2$, so\n",
    "* $-p_1pq_2+q_1p_2q+p_2pq_1-q_2p_1q\\geq p_1+q_1+p_2+q_2$, so\n",
    "* $p(p_2q_1-p_1q_2)+q(p_2q_1-p_1q_2)\\geq p_1+q_1+p_2+q_2$.\n",
    "\n",
    "By the second item in the statement of the lemma and the fact that $\\frac{p_1}{q_1}<\\frac{p_2}{q_2}$, $p_2q_1-p_1q_2=1$. We conclude that $p+q\\geq p_1+q_1+p_2+q_2$, as wanted.$\\ $ Q.E.D."
   ]
  },
  {
   "cell_type": "markdown",
   "metadata": {},
   "source": [
    "**Lemma 5.**<a name=prop_5></a>$\\ $ _Let a reduced fraction $\\frac{p}{q}$ with $q\\neq 1$ be given. Then for all fractions $\\frac{p'}{q'}$ that are adjacent to $\\frac{p}{q}$, $\\lfloor\\frac{p}{q}\\rfloor\\leq\\frac{p'}{q'}\\leq\\lceil\\frac{p}{q}\\rceil$._"
   ]
  },
  {
   "cell_type": "markdown",
   "metadata": {},
   "source": [
    "_Proof._$\\ $ Let a fraction $\\frac{p'}{q'}$ be given.\n",
    "\n",
    "* Suppose that $\\frac{p'}{q'}>\\lceil\\frac{p}{q}\\rceil$. Then $p'q-pq'>\\lceil\\frac{p}{q}\\rceil qq'-pq'\\geq (p+1)q'-pq'=q'\\geq 1$. Hence $\\frac{p'}{q'}$ is not adjacent to $\\frac{p}{q}$.\n",
    "* Suppose that $\\frac{p'}{q'}<\\lfloor\\frac{p}{q}\\rfloor$. Then $p'q-pq'<\\lfloor\\frac{p}{q}\\rfloor qq'-pq'\\leq (p-1)q'-pq'=-q'\\leq -1$. Hence $\\frac{p'}{q'}$ is not adjacent to $\\frac{p}{q}$.$\\ $ Q.E.D."
   ]
  },
  {
   "cell_type": "markdown",
   "metadata": {},
   "source": [
    "**Proposition 6.**<a name=prop_6></a>$\\ $ _Let a reduced fraction $\\frac{p}{q}$ with $p\\neq 0$ be given. Infinitely many fractions are adjacent to $\\frac{p}{q}$. If $q>1$, then exactly two reduced fractions are adjacent to $\\frac{p}{q}$ and have a denominator that is smaller than $q$. Moreover, these two fractions are adjacent and their mediant is $\\frac{p}{q}$._"
   ]
  },
  {
   "cell_type": "markdown",
   "metadata": {},
   "source": [
    "_Proof._$\\ $ Since $\\gcd(p,q)=1$, the Diophantine equation $px-qy=1$ has infinitely many solutions. Fix one such solution $(x_0,y_0)$. Then the solutions to the equation are all pairs of the form $(x_0+qn, y_0+pn)$ with $n$ an arbitrary integer. So for each such pair $(x,y)$ with $x\\neq 0$, $\\frac{y}{x}$ is adjacent to $F$. Suppose that $q>1$. Then $x_0\\neq 0$, and so there exists $n_0\\in\\mathbf Z$ such that $-q<x_0+q(n_0-1)<0<x_0+qn_0<q$. Note that for all $n\\in\\mathbf Z\\setminus\\{n_0-1,n_0\\}$, $|x_0+qn_0|>q$. Set $p'=y_0+pn_0$ and $q'=x_0+qn_0$. So $y_0+p(n_0-1)=p'-p$ and $x_0+q(n_0-1)=q'-q$. Obviously, $q'>0$, $q-q'>0$, $\\frac{p'}{q'}$ and $\\frac{p-p'}{q-q'}$ are adjacent, and their mediant is $\\frac{p}{q}$.$\\ $ Q.E.D."
   ]
  },
  {
   "cell_type": "markdown",
   "metadata": {},
   "source": [
    "Given a reduced fraction $\\frac{p}{q}$ with $q\\neq 1$, let $S_{\\frac{p}{q}}$ be defined as $\\bigcup_{n\\in\\mathbf N}S_i$ where:\n",
    "\n",
    "* $S_0=\\{\\frac{p}{q}\\}$.\n",
    "* For all $i\\in\\mathbf N$, $S_{i+1}$ is the smallest superset of $S_i$ with the following property. Let $\\frac{p'}{q'}$ be a fraction in $S_i$ with $q'\\neq 1$. By Proposition [6](#prop_6), there exists exactly two reduced fractions $\\frac{p_1}{q_1}$ and $\\frac{p_2}{q_2}$ that are adjacent to $\\frac{p'}{q'}$ and such that $q_1,q_2<q'$ and $\\frac{p'}{q'}$ is the mediant of $\\frac{p_1}{q_1}$ and $\\frac{p_2}{q_2}$. Then $\\frac{p_1}{q_1}$ and $\\frac{p_2}{q_2}$ both belong to $S_{i+1}$.\n",
    "\n",
    "This defines a top down way of getting from a reduced fraction $\\frac{p}{q}$ to the integers $\\lfloor\\frac{p}{q}\\rfloor$ and $\\lceil\\frac{p}{q}\\rceil$ via mediants:"
   ]
  },
  {
   "cell_type": "markdown",
   "metadata": {},
   "source": [
    "**Lemma 7.**<a name=prop_7></a>$\\ $ _Let a reduced fraction $\\frac{p}{q}$ with $q\\neq 1$ be given. Then $S_{\\frac{p}{q}}$ is a finite set of reduced fractions all in $[\\lfloor\\frac{p}{q}\\rfloor,\\lceil\\frac{p}{q}\\rceil]$._"
   ]
  },
  {
   "cell_type": "markdown",
   "metadata": {},
   "source": [
    "_Proof._$\\ $ By Lemma [5](#prop_5), all members of $S_{\\frac{p}{q}}$ belong to $[\\lfloor\\frac{p}{q}\\rfloor,\\lceil\\frac{p}{q}\\rceil]$. The fact that $S_{\\frac{p}{q}}$ is finite is an immediate consequence of the fact that the denominator of a fraction generated at stage $i+1$ in the definition $S_{\\frac{p}{q}}$ is strictly smaller than the denominator of the fraction in $S_{\\frac{p}{q}}^i$ from which it is produced.$\\ $ Q.E.D."
   ]
  },
  {
   "cell_type": "markdown",
   "metadata": {},
   "source": [
    "**Corollary 8.**<a name=prop_8></a>$\\ $ _Let $n\\in\\mathbf Z$ be given. Let $S$ be the smallest set that contains $\\{\\frac{n}{1},\\frac{n+1}{1}\\}$ and such that for all members $F_1$ and $F_2$ of $X$, the mediant of $F_1$ and $F_2$ belongs to $S$. Then $S$ is the set of all reduced fractions in $[n,n+1]$._"
   ]
  },
  {
   "cell_type": "markdown",
   "metadata": {},
   "source": [
    "_Proof._$\\ $ By Lemmas [1](#prop_1), [2](#prop_2) and [3](#prop_3), all fractions in $S$ are reduced and in $[n,n+1]$. Let a reduced fraction $\\frac{p}{q}$ in $(n,n+1)$ be given. By Lemma [7](#prop_7), let $n,k_0,k_1,\\dots,k_n\\in\\mathbf N$ with $k_0<k_1<\\dots<k_n$ and partition $S_{k_0},S_{k_1},\\dots,S_{k_n}$ of $S_{\\frac{p}{q}}$ be such that for all $i\\leq n$, $S_{k_i}$ is the set of fractions $\\frac{p'}{q'}$ in $S_{\\frac{p}{q}}$ with $p'+q'=k_i$. Using Lemma [4](#prop_4), it is easy to verify that $n\\geq 2$, $S_0=\\{\\frac{n}{1}\\}$, $S_1=\\{\\frac{n+1}{1}\\}$ and for all $i>1$, the members of $S_{k_i}$ are mediants of fractions in $\\bigcup_{j<i}S_{k_j}$. Hence $S_{\\frac{p}{q}}\\subseteq S$, so $\\frac{p}{q}\\in S$, which completes the proof of the corollary.$\\ $ Q.E.D."
   ]
  },
  {
   "cell_type": "markdown",
   "metadata": {},
   "source": [
    "We can equivalently reach a reduced fraction $\\frac{p}{q}$ via mediants from the integers $\\lfloor\\frac{p}{q}\\rfloor$ and $\\lceil\\frac{p}{q}\\rceil$ in a bottom up manner:"
   ]
  },
  {
   "cell_type": "markdown",
   "metadata": {},
   "source": [
    "**Theorem 9.**<a name=prop_9></a>$\\ $ _Let a reduced fraction $\\frac{p}{q}$ with $q\\neq 1$ be given. Then there exists $n\\in\\mathbf N$ and a sequence of pairs of fractions $(F_1^i,F_2^i)_{i\\leq n}$ with the following properties._\n",
    "\n",
    "* _$F_1^0=\\lfloor\\frac{p}{q}\\rfloor$ and $F_2^0=\\lceil\\frac{p}{q}\\rceil$._\n",
    "* _For all $i<n$, let $F^i$ be the mediant of $F_1^i$ and $F_2^i$. Then either $F^i<\\frac{p}{q}$, in which case $F_1^{i+1}=F^i$ and $F_2^{i+1}=F_2^i$, or $\\frac{p}{q}<F^i$, in which case $F_1^{i+1}=F_1^i$ and $F_2^{i+1}=F^i$._\n",
    "* _$\\frac{p}{q}$ is the mediant of $F_1^n$ and $F_2^n$._\n",
    "\n",
    "_Moreover, $\\bigcup_{i\\leq n}\\{F_1^i,F_2^i\\}=S_{\\frac{p}{q}}$._"
   ]
  },
  {
   "cell_type": "markdown",
   "metadata": {},
   "source": [
    "_Proof._$\\ $ Suppose for a contradiction that there exists a sequence of pairs of fractions $(F_1^i,F_2^i)_{i\\in\\mathbf N}$ with the following properties.\n",
    "\n",
    "* $F_1^0=\\lfloor\\frac{p}{q}\\rfloor$ and $F_2^0=\\lceil\\frac{p}{q}\\rceil$.\n",
    "* For all $i\\in\\mathbb N$, let $F^i$ be the mediant of $F_1^i$ and $F_2^i$. Then either $F^i<\\frac{p}{q}$, in which case $F_1^{i+1}=F^i$ and $F_2^{i+1}=F_2^i$, or $\\frac{p}{q}<F^i$, in which case $F_1^{i+1}=F_1^i$ and $F_2^{i+1}=F^i$.\n",
    "\n",
    "Since $F_1^0$ and $F_2^0$ are trivially adjacent, and using Lemma [3](#prop_3), it is immediately verified by induction that for all $i\\in\\mathbb N$, $F_1^i$ and $F_2^i$ are adjacent. The contradiction then follows from Lemma [4](#prop_4).\n",
    "\n",
    "It is easily verified by induction that $\\bigcup_{i\\leq n}\\{F_1^i,F_2^i\\}\\subseteq S_{\\frac{p}{q}}$, and that $S_{\\frac{p}{q}}\\subseteq\\bigcup_{i\\leq n}\\{F_1^i,F_2^i\\}$.$\\ $ Q.E.D."
   ]
  },
  {
   "cell_type": "markdown",
   "metadata": {},
   "source": [
    "# Task"
   ]
  },
  {
   "cell_type": "markdown",
   "metadata": {},
   "source": [
    "Write a program `mediants.py` that defines two functions:\n",
    "\n",
    "* `top_down_mediants_from(p, q)` that given as arguments two integers $p$ and $q$ with $q\\neq 0$, normalises the fraction $\\frac{p}{q}$ and computes the set $S_{\\frac{p}{q}}$ defined before Lemma [7](#prop_7). The function returns $S_{\\frac{p}{q}}$ as a list of strings, ordered from smallest to largest fractions, so starting and ending with an integer, without the fraction bar and the denominator of 1 as opposed to all other members of the list.\n",
    "\n",
    "* `bottom_up_mediants_to(p, q)` that given as arguments two integers $p$ and $q$ with $q\\neq 0$, normalises the fraction $\\frac{p}{q}$ and computes the sequence $(F_1^i,F_2^i)_{i\\leq n}$ defined in the statement of Theorem [9](#prop_9). The function returns `None` but displays that sequence, one pair per line, with the mediant of the pair in-between, and for all pairs except the last one, indicating with the `*` character whether $\\frac{p}{q}$ is between the first member of the pair and the mediant, or between the mediant and the second member of the pair. The numerators and denominators of all fractions are aligned and displayed in a field of width equal to the maximum of the number of digits in $p$ and the number of digits in $q$. Five spaces, or two spaces, the `*` character and two spaces, precede and follow the display of all mediants.\n",
    "\n",
    "By Theorem [9](#prop_9), either function could make use of the other. The intention is that both functions be independent, each of them being designed on the basis of the previous definitions and results."
   ]
  },
  {
   "cell_type": "markdown",
   "metadata": {},
   "source": [
    "# Addendum"
   ]
  },
  {
   "cell_type": "markdown",
   "metadata": {},
   "source": [
    "The _Stern-Brocot_ tree is a binary tree whose root is labelled with $\\frac{1}{1}$ and such that for all nodes $N$, of label $F$,\n",
    "\n",
    "* the left child of $N$ is labelled with the mediant of $F$ with the largest fraction $F'<F$ that is the label of an ancestor of $N$ if such a fraction exists, and with $\\frac{0}{1}$ otherwise;\n",
    "* the right child of $N$ is labelled with the mediant of $F$ with the smallest fraction $F'>F$ that is the label of an ancestor of $N$ if such a fraction exists, and with $\\frac{1}{0}$, conceived of as infinity, otherwise.\n",
    "\n",
    "The tree is a binary search tree for the strictly positive rational numbers, all represented as fractions in reduced forms.\n",
    "\n",
    "<div><img src=\"stern_brocot_tree.pdf\" width=\"500\"/></div>\n",
    "\n",
    "Given two strictly positive integers $p$ and $q$, the set $S_{\\frac{p}{q}}$ consists of the labels of the nodes of the tree that lie between the root and the node labeled with $\\frac{p}{q}$ (together with $\\frac{0}{1}$ if $p=1$ and $q>1$). The function `bottom_up_mediants_to(p, q)` essentially performs a binary search for $\\frac{p}{q}$ in the tree."
   ]
  },
  {
   "cell_type": "markdown",
   "metadata": {},
   "source": [
    "# Tests"
   ]
  },
  {
   "cell_type": "markdown",
   "metadata": {},
   "source": [
    "## Mediants to 0/7"
   ]
  },
  {
   "cell_type": "code",
   "execution_count": null,
   "metadata": {},
   "outputs": [],
   "source": [
    "statements = 'from mediants import *; bottom_up_mediants_to(0, 7)'"
   ]
  },
  {
   "cell_type": "code",
   "execution_count": null,
   "metadata": {},
   "outputs": [],
   "source": [
    "%%run_and_test python3 -c \"$statements\"\n",
    "\n",
    "'0/1\\n'"
   ]
  },
  {
   "cell_type": "markdown",
   "metadata": {},
   "source": [
    "## Mediants from 0/-6"
   ]
  },
  {
   "cell_type": "code",
   "execution_count": null,
   "metadata": {},
   "outputs": [],
   "source": [
    "statements = 'from mediants import *; print(top_down_mediants_from(0, -6))'"
   ]
  },
  {
   "cell_type": "code",
   "execution_count": null,
   "metadata": {},
   "outputs": [],
   "source": [
    "%%run_and_test python3 -c \"$statements\"\n",
    "\n",
    "\"['0']\\n\""
   ]
  },
  {
   "cell_type": "markdown",
   "metadata": {},
   "source": [
    "## Mediants to 33/3"
   ]
  },
  {
   "cell_type": "code",
   "execution_count": null,
   "metadata": {},
   "outputs": [],
   "source": [
    "statements = 'from mediants import *; bottom_up_mediants_to(33, 3)'"
   ]
  },
  {
   "cell_type": "code",
   "execution_count": null,
   "metadata": {},
   "outputs": [],
   "source": [
    "%%run_and_test python3 -c \"$statements\"\n",
    "\n",
    "'11/1\\n'"
   ]
  },
  {
   "cell_type": "markdown",
   "metadata": {},
   "source": [
    "## Mediants from -33/-3"
   ]
  },
  {
   "cell_type": "code",
   "execution_count": null,
   "metadata": {},
   "outputs": [],
   "source": [
    "statements = 'from mediants import *; print(top_down_mediants_from(-33, -3))'"
   ]
  },
  {
   "cell_type": "code",
   "execution_count": null,
   "metadata": {},
   "outputs": [],
   "source": [
    "%%run_and_test python3 -c \"$statements\"\n",
    "\n",
    "\"['11']\\n\""
   ]
  },
  {
   "cell_type": "markdown",
   "metadata": {},
   "source": [
    "## Mediants to 1/2"
   ]
  },
  {
   "cell_type": "code",
   "execution_count": null,
   "metadata": {},
   "outputs": [],
   "source": [
    "statements = 'from mediants import *; bottom_up_mediants_to(1, 2)'"
   ]
  },
  {
   "cell_type": "code",
   "execution_count": null,
   "metadata": {},
   "outputs": [],
   "source": [
    "%%run_and_test python3 -c \"$statements\"\n",
    "\n",
    "'0/1     1/2     1/1\\n'"
   ]
  },
  {
   "cell_type": "markdown",
   "metadata": {},
   "source": [
    "## Mediants from -1/-2"
   ]
  },
  {
   "cell_type": "code",
   "execution_count": null,
   "metadata": {},
   "outputs": [],
   "source": [
    "statements = 'from mediants import *; print(top_down_mediants_from(-1, -2))'"
   ]
  },
  {
   "cell_type": "code",
   "execution_count": null,
   "metadata": {},
   "outputs": [],
   "source": [
    "%%run_and_test python3 -c \"$statements\"\n",
    "\n",
    "\"['0', '1/2', '1']\\n\""
   ]
  },
  {
   "cell_type": "markdown",
   "metadata": {},
   "source": [
    "## Fraction 41/152"
   ]
  },
  {
   "cell_type": "markdown",
   "metadata": {},
   "source": [
    "### Mediants to 41/152"
   ]
  },
  {
   "cell_type": "code",
   "execution_count": null,
   "metadata": {},
   "outputs": [],
   "source": [
    "statements = 'from mediants import *; bottom_up_mediants_to(41, 152)'"
   ]
  },
  {
   "cell_type": "code",
   "execution_count": null,
   "metadata": {},
   "outputs": [],
   "source": [
    "%%run_and_test python3 -c \"$statements\"\n",
    "\n",
    "'''\n",
    "  0/1    *    1/2         1/1  \\n\n",
    "  0/1    *    1/3         1/2  \\n\n",
    "  0/1         1/4    *    1/3  \\n\n",
    "  1/4    *    2/7         1/3  \\n\n",
    "  1/4    *    3/11        2/7  \\n\n",
    "  1/4         4/15   *    3/11 \\n\n",
    "  4/15        7/26   *    3/11 \\n\n",
    "  7/26   *   10/37        3/11 \\n\n",
    "  7/26   *   17/63       10/37 \\n\n",
    "  7/26       24/89   *   17/63 \\n\n",
    " 24/89       41/152      17/63 \\n\n",
    "'''"
   ]
  },
  {
   "cell_type": "markdown",
   "metadata": {},
   "source": [
    "### Mediants from 41/152"
   ]
  },
  {
   "cell_type": "code",
   "execution_count": null,
   "metadata": {},
   "outputs": [],
   "source": [
    "statements = 'from mediants import *; print(top_down_mediants_from(41, 152))'"
   ]
  },
  {
   "cell_type": "code",
   "execution_count": null,
   "metadata": {},
   "outputs": [],
   "source": [
    "%%run_and_test python3 -c \"$statements\"\n",
    "\n",
    "\"['0', '1/4', '4/15', '7/26', '24/89', '41/152', '17/63', '10/37', '3/11', \"\n",
    "\"'2/7', '1/3', '1/2', '1']\\n\""
   ]
  },
  {
   "cell_type": "markdown",
   "metadata": {},
   "source": [
    "## Fraction 71/83"
   ]
  },
  {
   "cell_type": "markdown",
   "metadata": {},
   "source": [
    "### Mediants to 71/83"
   ]
  },
  {
   "cell_type": "code",
   "execution_count": null,
   "metadata": {},
   "outputs": [],
   "source": [
    "statements = 'from mediants import *; bottom_up_mediants_to(71, 83)'"
   ]
  },
  {
   "cell_type": "code",
   "execution_count": null,
   "metadata": {},
   "outputs": [],
   "source": [
    "%%run_and_test python3 -c \"$statements\"\n",
    "\n",
    "'''\n",
    " 0/1       1/2   *   1/1 \\n\n",
    " 1/2       2/3   *   1/1 \\n\n",
    " 2/3       3/4   *   1/1 \\n\n",
    " 3/4       4/5   *   1/1 \\n\n",
    " 4/5       5/6   *   1/1 \\n\n",
    " 5/6   *   6/7       1/1 \\n\n",
    " 5/6      11/13  *   6/7 \\n\n",
    "11/13     17/20  *   6/7 \\n\n",
    "17/20     23/27  *   6/7 \\n\n",
    "23/27     29/34  *   6/7 \\n\n",
    "29/34     35/41  *   6/7 \\n\n",
    "35/41     41/48  *   6/7 \\n\n",
    "41/48     47/55  *   6/7 \\n\n",
    "47/55     53/62  *   6/7 \\n\n",
    "53/62     59/69  *   6/7 \\n\n",
    "59/69     65/76  *   6/7 \\n\n",
    "65/76     71/83      6/7 \\n\n",
    "'''"
   ]
  },
  {
   "cell_type": "markdown",
   "metadata": {},
   "source": [
    "### Mediants from 71/83"
   ]
  },
  {
   "cell_type": "code",
   "execution_count": null,
   "metadata": {},
   "outputs": [],
   "source": [
    "statements = 'from mediants import *; print(top_down_mediants_from(71, 83))'"
   ]
  },
  {
   "cell_type": "code",
   "execution_count": null,
   "metadata": {},
   "outputs": [],
   "source": [
    "%%run_and_test python3 -c \"$statements\"\n",
    "\n",
    "\"['0', '1/2', '2/3', '3/4', '4/5', '5/6', '11/13', '17/20', '23/27', '29/34', \"\n",
    "\"'35/41', '41/48', '47/55', '53/62', '59/69', '65/76', '71/83', '6/7', '1']\\n\""
   ]
  },
  {
   "cell_type": "markdown",
   "metadata": {},
   "source": [
    "## Fraction 1234/56"
   ]
  },
  {
   "cell_type": "markdown",
   "metadata": {},
   "source": [
    "### Mediants to 1234/56"
   ]
  },
  {
   "cell_type": "code",
   "execution_count": null,
   "metadata": {},
   "outputs": [],
   "source": [
    "statements = 'from mediants import *; bottom_up_mediants_to(1234, 56)'"
   ]
  },
  {
   "cell_type": "code",
   "execution_count": null,
   "metadata": {},
   "outputs": [],
   "source": [
    "%%run_and_test python3 -c \"$statements\"\n",
    "\n",
    "'''\n",
    " 22/1    *   45/2        23/1  \\n\n",
    " 22/1    *   67/3        45/2  \\n\n",
    " 22/1    *   89/4        67/3  \\n\n",
    " 22/1    *  111/5        89/4  \\n\n",
    " 22/1    *  133/6       111/5  \\n\n",
    " 22/1    *  155/7       133/6  \\n\n",
    " 22/1    *  177/8       155/7  \\n\n",
    " 22/1    *  199/9       177/8  \\n\n",
    " 22/1    *  221/10      199/9  \\n\n",
    " 22/1    *  243/11      221/10 \\n\n",
    " 22/1    *  265/12      243/11 \\n\n",
    " 22/1    *  287/13      265/12 \\n\n",
    " 22/1    *  309/14      287/13 \\n\n",
    " 22/1    *  331/15      309/14 \\n\n",
    " 22/1    *  353/16      331/15 \\n\n",
    " 22/1    *  375/17      353/16 \\n\n",
    " 22/1    *  397/18      375/17 \\n\n",
    " 22/1    *  419/19      397/18 \\n\n",
    " 22/1    *  441/20      419/19 \\n\n",
    " 22/1    *  463/21      441/20 \\n\n",
    " 22/1    *  485/22      463/21 \\n\n",
    " 22/1    *  507/23      485/22 \\n\n",
    " 22/1    *  529/24      507/23 \\n\n",
    " 22/1    *  551/25      529/24 \\n\n",
    " 22/1    *  573/26      551/25 \\n\n",
    " 22/1    *  595/27      573/26 \\n\n",
    " 22/1       617/28      595/27 \\n\n",
    "'''"
   ]
  },
  {
   "cell_type": "markdown",
   "metadata": {},
   "source": [
    "### Mediants from 1234/56"
   ]
  },
  {
   "cell_type": "code",
   "execution_count": null,
   "metadata": {},
   "outputs": [],
   "source": [
    "statements = 'from mediants import *; '\\\n",
    "             'print(top_down_mediants_from(1234, 56))'"
   ]
  },
  {
   "cell_type": "code",
   "execution_count": null,
   "metadata": {},
   "outputs": [],
   "source": [
    "%%run_and_test python3 -c \"$statements\"\n",
    "\n",
    "\"['22', '617/28', '595/27', '573/26', '551/25', '529/24', '507/23', '485/22', \"\n",
    "\"'463/21', '441/20', '419/19', '397/18', '375/17', '353/16', '331/15', \"\n",
    "\"'309/14', '287/13', '265/12', '243/11', '221/10', '199/9', '177/8', '155/7', \"\n",
    "\"'133/6', '111/5', '89/4', '67/3', '45/2', '23']\\n\""
   ]
  },
  {
   "cell_type": "markdown",
   "metadata": {},
   "source": [
    "## Fraction -856291/417"
   ]
  },
  {
   "cell_type": "markdown",
   "metadata": {},
   "source": [
    "### Mediants to -856291/417"
   ]
  },
  {
   "cell_type": "code",
   "execution_count": null,
   "metadata": {},
   "outputs": [],
   "source": [
    "statements = 'from mediants import *; bottom_up_mediants_to(-856291, 417)'"
   ]
  },
  {
   "cell_type": "code",
   "execution_count": null,
   "metadata": {},
   "outputs": [],
   "source": [
    "%%run_and_test python3 -c \"$statements\"\n",
    "\n",
    "'''\n",
    "  -2054/1             -4107/2        *    -2053/1      \\n\n",
    "  -4107/2        *    -6160/3             -2053/1      \\n\n",
    "  -4107/2        *   -10267/5             -6160/3      \\n\n",
    "  -4107/2        *   -14374/7            -10267/5      \\n\n",
    "  -4107/2        *   -18481/9            -14374/7      \\n\n",
    "  -4107/2        *   -22588/11           -18481/9      \\n\n",
    "  -4107/2            -26695/13       *   -22588/11     \\n\n",
    " -26695/13           -49283/24       *   -22588/11     \\n\n",
    " -49283/24           -71871/35       *   -22588/11     \\n\n",
    " -71871/35           -94459/46       *   -22588/11     \\n\n",
    " -94459/46          -117047/57       *   -22588/11     \\n\n",
    "-117047/57          -139635/68       *   -22588/11     \\n\n",
    "-139635/68          -162223/79       *   -22588/11     \\n\n",
    "-162223/79       *  -184811/90           -22588/11     \\n\n",
    "-162223/79       *  -347034/169         -184811/90     \\n\n",
    "-162223/79          -509257/248      *  -347034/169    \\n\n",
    "-509257/248         -856291/417         -347034/169    \\n\n",
    "'''"
   ]
  },
  {
   "cell_type": "markdown",
   "metadata": {},
   "source": [
    "### Mediants from 856291/-417"
   ]
  },
  {
   "cell_type": "code",
   "execution_count": null,
   "metadata": {},
   "outputs": [],
   "source": [
    "statements = 'from mediants import *; '\\\n",
    "             'print(top_down_mediants_from(856291, -417))'"
   ]
  },
  {
   "cell_type": "code",
   "execution_count": null,
   "metadata": {},
   "outputs": [],
   "source": [
    "%%run_and_test python3 -c \"$statements\"\n",
    "\n",
    "\"['-2054', '-4107/2', '-26695/13', '-49283/24', '-71871/35', '-94459/46', \"\n",
    "\"'-117047/57', '-139635/68', '-162223/79', '-509257/248', '-856291/417', \"\n",
    "\"'-347034/169', '-184811/90', '-22588/11', '-18481/9', '-14374/7', \"\n",
    "\"'-10267/5', '-6160/3', '-2053']\\n\""
   ]
  }
 ],
 "metadata": {
  "kernelspec": {
   "display_name": "Python 3 (ipykernel)",
   "language": "python",
   "name": "python3"
  },
  "language_info": {
   "codemirror_mode": {
    "name": "ipython",
    "version": 3
   },
   "file_extension": ".py",
   "mimetype": "text/x-python",
   "name": "python",
   "nbconvert_exporter": "python",
   "pygments_lexer": "ipython3",
   "version": "3.10.2"
  },
  "latex_envs": {
   "LaTeX_envs_menu_present": true,
   "autoclose": false,
   "autocomplete": true,
   "bibliofile": "biblio.bib",
   "cite_by": "apalike",
   "current_citInitial": 1,
   "eqLabelWithNumbers": true,
   "eqNumInitial": 1,
   "hotkeys": {
    "equation": "Ctrl-E",
    "itemize": "Ctrl-I"
   },
   "labels_anchors": false,
   "latex_user_defs": false,
   "report_style_numbering": false,
   "user_envs_cfg": false
  },
  "toc": {
   "base_numbering": 1,
   "nav_menu": {},
   "number_sections": true,
   "sideBar": true,
   "skip_h1_title": false,
   "title_cell": "Table of Contents",
   "title_sidebar": "Contents",
   "toc_cell": false,
   "toc_position": {},
   "toc_section_display": true,
   "toc_window_display": false
  },
  "widgets": {
   "application/vnd.jupyter.widget-state+json": {
    "state": {},
    "version_major": 2,
    "version_minor": 0
   }
  }
 },
 "nbformat": 4,
 "nbformat_minor": 4
}
