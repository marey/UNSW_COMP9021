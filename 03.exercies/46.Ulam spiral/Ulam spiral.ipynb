{
 "cells": [
  {
   "cell_type": "code",
   "execution_count": null,
   "metadata": {},
   "outputs": [],
   "source": [
    "load_ext run_and_test"
   ]
  },
  {
   "cell_type": "markdown",
   "metadata": {},
   "source": [
    "# Task"
   ]
  },
  {
   "cell_type": "markdown",
   "metadata": {},
   "source": [
    "Write a program `plane_encoding.py` that implements two functions:\n",
    "\n",
    "* `encode(a, b)`, that takes two natural numbers as inputs and returns a natural number,\n",
    "* `decode(n)`, that takes a natural number as input and returns a pair of natural numbers,\n",
    "\n",
    "for the one-to-one mapping from $\\mathbb N^2$ to $\\mathbb N$, and its inverse, that can be depicted as follows:\n",
    "\n",
    "             36 35 34 33 32 31 30\n",
    "             37 16 15 14 13 12 29\n",
    "             38 17  4  3  2 11 28\n",
    "             39 18  5  0  1 10 27\n",
    "             40 19  6  7  8  9 26\n",
    "             41 20 21 22 23 24 25\n",
    "             42 43 44 45 ...\n",
    "        \n",
    "That is, starting from the point $(0,0)$ of the plane, we move to $(1,0)$ and then spiral counterclockwise.\n",
    "\n",
    "The picture, modified to let numbering start from 1 rather than from 0, so with all numbers increased by 1, is known as _Ulam spiral_."
   ]
  },
  {
   "cell_type": "markdown",
   "metadata": {},
   "source": [
    "# Addendum"
   ]
  },
  {
   "cell_type": "markdown",
   "metadata": {},
   "source": [
    "Assign each strictly positive integer to a position in the above picture as follows: \n",
    "\n",
    "\n",
    "              .  .  .  .  .  .  6\n",
    "              .  .  .  .  .  4  .\n",
    "              .  .  .  .  2  .  .\n",
    "              .  .  .  1  .  .  .\n",
    "              .  .  3  .  .  .  .\n",
    "              .  5  .  .  .  .  .\n",
    "              7  .  .  . ...\n",
    "\n",
    "The numbers in the picture that occupy those positions are 0, 2, 6, 12, 20, 30, 42... More precisely, the number in the picture that occupies the position indicated by the strictly positive integer $n$ is $n^2-n$. Indeed, $1^2-1=0$, and given a strictly positive integer $p$,\n",
    "\n",
    "* the number at position $2p$ is equal to the number of points in the square $S$ of size $(2p-1)\\times(2p-1)$ and with the number $2p-1$ as bottom left corner, plus $2p$ for that many points vertically aligned to the right of $S$, minus 1 as numbering starts with 0, that is, $(2p-1)^2+2p-1=(2p)^2-2p$;\n",
    "* the number at position $2p+1$ is equal to the previous result, plus $2p$ for that many extra points horizontally aligned to the top of $S$, plus $2p$ for that many extra points horizontally aligned to the left of $S$, that is, $(2p)^2-2p+4p=(2p)^2+4p+1-(2p+1)=(2p+1)^2-(2p+1)$.\n",
    "\n",
    "Start numbering from 41 rather than from 0:\n",
    "\n",
    "\n",
    "                        ... 99 98 97\n",
    "             77 76 75 74 73 72 71 96\n",
    "             78 57 56 55 54 53 70 95\n",
    "             79 58 45 44 43 52 69 94\n",
    "             80 59 46 41 42 51 68 93\n",
    "             81 60 47 49 49 50 67 92\n",
    "             82 61 62 63 64 65 66 91\n",
    "             83 84 85 86 87 88 89 90\n",
    "\n",
    "Obviously, the set of numbers on the diagonal that has been considered is no longer $\\{n^2-n\\mid n>0\\}$, but $\\{n^2-n+41\\mid n>0\\}$. Here are the 40 smallest numbers in this set, occuping positions 1 to 40:"
   ]
  },
  {
   "cell_type": "code",
   "execution_count": null,
   "metadata": {},
   "outputs": [],
   "source": [
    "[n ** 2 - n + 41 for n in range(1, 41)]"
   ]
  },
  {
   "cell_type": "markdown",
   "metadata": {},
   "source": [
    "They are all prime. In Ulam spiral, there are also many prominent diagonal, horizontal, and vertical lines that stand out as containing many prime numbers, though not as strikingly."
   ]
  },
  {
   "cell_type": "markdown",
   "metadata": {},
   "source": [
    "# Tests"
   ]
  },
  {
   "cell_type": "markdown",
   "metadata": {},
   "source": [
    "## Encoding"
   ]
  },
  {
   "cell_type": "markdown",
   "metadata": {},
   "source": [
    "### Encoding (0, 0)"
   ]
  },
  {
   "cell_type": "code",
   "execution_count": null,
   "metadata": {
    "tags": []
   },
   "outputs": [],
   "source": [
    "%%run_and_test python3 -c 'from plane_encoding import *; print(encode(0, 0))'\n",
    "\n",
    "'0\\n'"
   ]
  },
  {
   "cell_type": "markdown",
   "metadata": {},
   "source": [
    "### Encoding (1, 0)"
   ]
  },
  {
   "cell_type": "code",
   "execution_count": null,
   "metadata": {},
   "outputs": [],
   "source": [
    "%%run_and_test python3 -c 'from plane_encoding import *; print(encode(1, 0))'\n",
    "\n",
    "'1\\n'"
   ]
  },
  {
   "cell_type": "markdown",
   "metadata": {},
   "source": [
    "### Encoding (1, 1)"
   ]
  },
  {
   "cell_type": "code",
   "execution_count": null,
   "metadata": {
    "tags": []
   },
   "outputs": [],
   "source": [
    "%%run_and_test python3 -c 'from plane_encoding import *; print(encode(1, 1))'\n",
    "\n",
    "'2\\n'"
   ]
  },
  {
   "cell_type": "markdown",
   "metadata": {},
   "source": [
    "### Encoding (0, 1)"
   ]
  },
  {
   "cell_type": "code",
   "execution_count": null,
   "metadata": {},
   "outputs": [],
   "source": [
    "%%run_and_test python3 -c 'from plane_encoding import *; print(encode(0, 1))'\n",
    "\n",
    "'3\\n'"
   ]
  },
  {
   "cell_type": "markdown",
   "metadata": {},
   "source": [
    "### Encoding (-1, 1)"
   ]
  },
  {
   "cell_type": "code",
   "execution_count": null,
   "metadata": {
    "tags": []
   },
   "outputs": [],
   "source": [
    "%%run_and_test python3 -c 'from plane_encoding import *; print(encode(-1, 1))'\n",
    "\n",
    "'4\\n'"
   ]
  },
  {
   "cell_type": "markdown",
   "metadata": {},
   "source": [
    "### Encoding (-1, 0)"
   ]
  },
  {
   "cell_type": "code",
   "execution_count": null,
   "metadata": {},
   "outputs": [],
   "source": [
    "%%run_and_test python3 -c 'from plane_encoding import *; print(encode(-1, 0))'\n",
    "\n",
    "'5\\n'"
   ]
  },
  {
   "cell_type": "markdown",
   "metadata": {},
   "source": [
    "### Encoding (-1, -1)"
   ]
  },
  {
   "cell_type": "code",
   "execution_count": null,
   "metadata": {
    "tags": []
   },
   "outputs": [],
   "source": [
    "%%run_and_test python3 -c 'from plane_encoding import *; print(encode(-1, -1))'\n",
    "\n",
    "'6\\n'"
   ]
  },
  {
   "cell_type": "markdown",
   "metadata": {},
   "source": [
    "### Encoding (0, -1)"
   ]
  },
  {
   "cell_type": "code",
   "execution_count": null,
   "metadata": {},
   "outputs": [],
   "source": [
    "%%run_and_test python3 -c 'from plane_encoding import *; print(encode(0, -1))'\n",
    "\n",
    "'7\\n'"
   ]
  },
  {
   "cell_type": "markdown",
   "metadata": {},
   "source": [
    "### Encoding (1, -1)"
   ]
  },
  {
   "cell_type": "code",
   "execution_count": null,
   "metadata": {
    "tags": []
   },
   "outputs": [],
   "source": [
    "%%run_and_test python3 -c 'from plane_encoding import *; print(encode(1, -1))'\n",
    "\n",
    "'8\\n'"
   ]
  },
  {
   "cell_type": "markdown",
   "metadata": {},
   "source": [
    "### Encoding (2, -1)"
   ]
  },
  {
   "cell_type": "code",
   "execution_count": null,
   "metadata": {},
   "outputs": [],
   "source": [
    "%%run_and_test python3 -c 'from plane_encoding import *; print(encode(2, -1))'\n",
    "\n",
    "'9\\n'"
   ]
  },
  {
   "cell_type": "markdown",
   "metadata": {},
   "source": [
    "### Encoding (2, 0)"
   ]
  },
  {
   "cell_type": "code",
   "execution_count": null,
   "metadata": {
    "tags": []
   },
   "outputs": [],
   "source": [
    "%%run_and_test python3 -c 'from plane_encoding import *; print(encode(2, 0))'\n",
    "\n",
    "'10\\n'"
   ]
  },
  {
   "cell_type": "markdown",
   "metadata": {},
   "source": [
    "### Encoding (9876, 54)"
   ]
  },
  {
   "cell_type": "code",
   "execution_count": null,
   "metadata": {},
   "outputs": [],
   "source": [
    "statements = 'from plane_encoding import *; print(encode(9876, 54))'"
   ]
  },
  {
   "cell_type": "code",
   "execution_count": null,
   "metadata": {
    "tags": []
   },
   "outputs": [],
   "source": [
    "%%run_and_test python3 -c \"$statements\"\n",
    "\n",
    "'390111930\\n'"
   ]
  },
  {
   "cell_type": "markdown",
   "metadata": {},
   "source": [
    "### Encoding (123, 45678)"
   ]
  },
  {
   "cell_type": "code",
   "execution_count": null,
   "metadata": {},
   "outputs": [],
   "source": [
    "statements = 'from plane_encoding import *; print(encode(123, 45678))'"
   ]
  },
  {
   "cell_type": "code",
   "execution_count": null,
   "metadata": {},
   "outputs": [],
   "source": [
    "%%run_and_test python3 -c \"$statements\"\n",
    "\n",
    "'8345872935\\n'"
   ]
  },
  {
   "cell_type": "markdown",
   "metadata": {},
   "source": [
    "### Encoding (203851934, 904579324)"
   ]
  },
  {
   "cell_type": "code",
   "execution_count": null,
   "metadata": {},
   "outputs": [],
   "source": [
    "statements = 'from plane_encoding import *; '\\\n",
    "             'print(encode(203851934, 904579324))'"
   ]
  },
  {
   "cell_type": "code",
   "execution_count": null,
   "metadata": {
    "tags": []
   },
   "outputs": [],
   "source": [
    "%%run_and_test python3 -c \"$statements\"\n",
    "\n",
    "'3273055012524756646\\n'"
   ]
  },
  {
   "cell_type": "markdown",
   "metadata": {},
   "source": [
    "## Decoding"
   ]
  },
  {
   "cell_type": "markdown",
   "metadata": {},
   "source": [
    "### Decoding 0"
   ]
  },
  {
   "cell_type": "code",
   "execution_count": null,
   "metadata": {
    "tags": []
   },
   "outputs": [],
   "source": [
    "%%run_and_test python3 -c 'from plane_encoding import *; print(decode(0))'\n",
    "\n",
    "'(0, 0)\\n'"
   ]
  },
  {
   "cell_type": "markdown",
   "metadata": {},
   "source": [
    "### Decoding 1"
   ]
  },
  {
   "cell_type": "code",
   "execution_count": null,
   "metadata": {},
   "outputs": [],
   "source": [
    "%%run_and_test python3 -c 'from plane_encoding import *; print(decode(1))'\n",
    "\n",
    "'(1, 0)\\n'"
   ]
  },
  {
   "cell_type": "markdown",
   "metadata": {},
   "source": [
    "### Decoding 2"
   ]
  },
  {
   "cell_type": "code",
   "execution_count": null,
   "metadata": {
    "tags": []
   },
   "outputs": [],
   "source": [
    "%%run_and_test python3 -c 'from plane_encoding import *; print(decode(2))'\n",
    "\n",
    "'(1, 1)\\n'"
   ]
  },
  {
   "cell_type": "markdown",
   "metadata": {},
   "source": [
    "### Decoding 3"
   ]
  },
  {
   "cell_type": "code",
   "execution_count": null,
   "metadata": {},
   "outputs": [],
   "source": [
    "%%run_and_test python3 -c 'from plane_encoding import *; print(decode(3))'\n",
    "\n",
    "'(0, 1)\\n'"
   ]
  },
  {
   "cell_type": "markdown",
   "metadata": {},
   "source": [
    "### Decoding 4"
   ]
  },
  {
   "cell_type": "code",
   "execution_count": null,
   "metadata": {
    "tags": []
   },
   "outputs": [],
   "source": [
    "%%run_and_test python3 -c 'from plane_encoding import *; print(decode(4))'\n",
    "\n",
    "'(-1, 1)\\n'"
   ]
  },
  {
   "cell_type": "markdown",
   "metadata": {},
   "source": [
    "### Decoding 5"
   ]
  },
  {
   "cell_type": "code",
   "execution_count": null,
   "metadata": {},
   "outputs": [],
   "source": [
    "%%run_and_test python3 -c 'from plane_encoding import *; print(decode(5))'\n",
    "\n",
    "'(-1, 0)\\n'"
   ]
  },
  {
   "cell_type": "markdown",
   "metadata": {},
   "source": [
    "### Decoding 6"
   ]
  },
  {
   "cell_type": "code",
   "execution_count": null,
   "metadata": {
    "tags": []
   },
   "outputs": [],
   "source": [
    "%%run_and_test python3 -c 'from plane_encoding import *; print(decode(6))'\n",
    "\n",
    "'(-1, -1)\\n'"
   ]
  },
  {
   "cell_type": "markdown",
   "metadata": {},
   "source": [
    "### Decoding 7"
   ]
  },
  {
   "cell_type": "code",
   "execution_count": null,
   "metadata": {},
   "outputs": [],
   "source": [
    "%%run_and_test python3 -c 'from plane_encoding import *; print(decode(7))'\n",
    "\n",
    "'(0, -1)\\n'"
   ]
  },
  {
   "cell_type": "markdown",
   "metadata": {},
   "source": [
    "### Decoding 8"
   ]
  },
  {
   "cell_type": "code",
   "execution_count": null,
   "metadata": {
    "tags": []
   },
   "outputs": [],
   "source": [
    "%%run_and_test python3 -c 'from plane_encoding import *; print(decode(8))'\n",
    "\n",
    "'(1, -1)\\n'"
   ]
  },
  {
   "cell_type": "markdown",
   "metadata": {},
   "source": [
    "### Decoding 9"
   ]
  },
  {
   "cell_type": "code",
   "execution_count": null,
   "metadata": {},
   "outputs": [],
   "source": [
    "%%run_and_test python3 -c 'from plane_encoding import *; print(decode(9))'\n",
    "\n",
    "'(2, -1)\\n'"
   ]
  },
  {
   "cell_type": "markdown",
   "metadata": {},
   "source": [
    "### Decoding 10"
   ]
  },
  {
   "cell_type": "code",
   "execution_count": null,
   "metadata": {
    "tags": []
   },
   "outputs": [],
   "source": [
    "%%run_and_test python3 -c 'from plane_encoding import *; print(decode(10))'\n",
    "\n",
    "'(2, 0)\\n'"
   ]
  },
  {
   "cell_type": "markdown",
   "metadata": {},
   "source": [
    "### Decoding 390111930"
   ]
  },
  {
   "cell_type": "code",
   "execution_count": null,
   "metadata": {},
   "outputs": [],
   "source": [
    "statements = 'from plane_encoding import *; print(decode(390111930))'"
   ]
  },
  {
   "cell_type": "code",
   "execution_count": null,
   "metadata": {
    "tags": []
   },
   "outputs": [],
   "source": [
    "%%run_and_test python3 -c \"$statements\"\n",
    "\n",
    "'(9876, 54)\\n'"
   ]
  },
  {
   "cell_type": "markdown",
   "metadata": {},
   "source": [
    "### Decoding 8345872935"
   ]
  },
  {
   "cell_type": "code",
   "execution_count": null,
   "metadata": {},
   "outputs": [],
   "source": [
    "statements = 'from plane_encoding import *; print(decode(8345872935))'"
   ]
  },
  {
   "cell_type": "code",
   "execution_count": null,
   "metadata": {},
   "outputs": [],
   "source": [
    "%%run_and_test python3 -c \"$statements\"\n",
    "\n",
    "'(123, 45678)\\n'"
   ]
  },
  {
   "cell_type": "markdown",
   "metadata": {},
   "source": [
    "### Decoding 3273055012524756646"
   ]
  },
  {
   "cell_type": "code",
   "execution_count": null,
   "metadata": {},
   "outputs": [],
   "source": [
    "statements = 'from plane_encoding import *; '\\\n",
    "             'print(decode(3273055012524756646))'"
   ]
  },
  {
   "cell_type": "code",
   "execution_count": null,
   "metadata": {
    "tags": []
   },
   "outputs": [],
   "source": [
    "%%run_and_test python3 -c \"$statements\"\n",
    "\n",
    "'(203851934, 904579324)\\n'"
   ]
  }
 ],
 "metadata": {
  "kernelspec": {
   "display_name": "Python 3 (ipykernel)",
   "language": "python",
   "name": "python3"
  },
  "language_info": {
   "codemirror_mode": {
    "name": "ipython",
    "version": 3
   },
   "file_extension": ".py",
   "mimetype": "text/x-python",
   "name": "python",
   "nbconvert_exporter": "python",
   "pygments_lexer": "ipython3",
   "version": "3.10.2"
  },
  "latex_envs": {
   "LaTeX_envs_menu_present": true,
   "autoclose": false,
   "autocomplete": true,
   "bibliofile": "biblio.bib",
   "cite_by": "apalike",
   "current_citInitial": 1,
   "eqLabelWithNumbers": true,
   "eqNumInitial": 1,
   "hotkeys": {
    "equation": "Ctrl-E",
    "itemize": "Ctrl-I"
   },
   "labels_anchors": false,
   "latex_user_defs": false,
   "report_style_numbering": false,
   "user_envs_cfg": false
  },
  "toc": {
   "base_numbering": 1,
   "nav_menu": {},
   "number_sections": true,
   "sideBar": true,
   "skip_h1_title": false,
   "title_cell": "Table of Contents",
   "title_sidebar": "Contents",
   "toc_cell": false,
   "toc_position": {},
   "toc_section_display": true,
   "toc_window_display": false
  },
  "widgets": {
   "application/vnd.jupyter.widget-state+json": {
    "state": {},
    "version_major": 2,
    "version_minor": 0
   }
  }
 },
 "nbformat": 4,
 "nbformat_minor": 4
}
