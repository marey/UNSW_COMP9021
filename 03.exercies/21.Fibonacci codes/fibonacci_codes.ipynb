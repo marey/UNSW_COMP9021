{
 "cells": [
  {
   "cell_type": "code",
   "execution_count": null,
   "metadata": {},
   "outputs": [],
   "source": [
    "load_ext run_and_test"
   ]
  },
  {
   "cell_type": "markdown",
   "metadata": {},
   "source": [
    "# Background"
   ]
  },
  {
   "cell_type": "markdown",
   "metadata": {},
   "source": [
    "Recall that the Fibonacci sequence $(F_i)_{i\\in\\mathbf N}$ is defined by the equations: $F_0=0$, $F_1=1$ and for all $i>1$, $F_i=F_{i-1}+F_{i-2}$. So\n",
    "\n",
    "\\begin{array}{cccccccccc}\n",
    "F_0=0 & F_1=1 & F_2=1 & F_3=2 & F_4=3 & F_5=5 & F_6=8 & F_7=13 & F_8=21 & ...\n",
    "\\end{array}"
   ]
  },
  {
   "cell_type": "markdown",
   "metadata": {},
   "source": [
    "**Lemma 1.**<a name=prop_1></a>$\\ $ _For every nonempty finite subset $I$ of $\\mathbf N\\setminus\\{0,1\\}$ that does not contain two consecutive numbers, $\\Sigma_{i\\in I}F_i<F_{\\max(I)+1}$._"
   ]
  },
  {
   "cell_type": "markdown",
   "metadata": {},
   "source": [
    "_Proof._$\\ $ Proof is by induction. Let $n>0$ be given, and suppose that the claim of the lemma holds for every nonempty subset of $\\{2,\\dots,n\\}$ that does not contain two consecutive numbers. Then for all such subsets $I$ that do not contain $n$, $\\Sigma_{i\\in I}F_i+F_{n+1}<F_n+F_{n+1}=F_{n+2}$, from which it immediately follows that the claim of the lemma holds for every nonempty subset of $\\{2,\\dots,n+1\\}$ that does not contain two consecutive numbers.$\\ $ Q.E.D."
   ]
  },
  {
   "cell_type": "markdown",
   "metadata": {},
   "source": [
    "**Theorem 2.**<a name=prop_2></a>$\\ $ _Let a strictly positive integer $n$ be given. Since 1 is a Fibonacci number, there exists unique strictly positive integers $k,n_0,\\dots,n_k$ such that $n_0$, ..., $n_k$ are Fibonacci numbers, $n_0<\\dots<n_k$ and for all $i\\leq k$, $n_i$ is the largest Fibonacci number at most equal to $n-\\Sigma_{j=i+1}^k n_j$. Set $S=\\{k_0,\\dots,n_k\\}$. Then:_\n",
    "* $n=\\sum S$;\n",
    "* _for all $a,b\\in S$, $a$ and $b$ are not consecutive Fibonacci numbers;_\n",
    "* _if $S'$ is a set of nonzero Fibonacci numbers such that $n=\\sum S'$ and for all $a,b\\in S'$, $a$ and $b$ are not consecutive Fibonacci numbers, then $S=S'$._"
   ]
  },
  {
   "cell_type": "markdown",
   "metadata": {},
   "source": [
    "_Proof._$\\ $ Proof is by induction. Let $m>0$ be given and assume that for all $n\\in\\{1,\\dots,m-1\\}$, the statement of the theorem holds. If $m$ is a Fibonacci number, then $\\{m\\}$ is the set $S$ of Fibonacci numbers described in the statement of the theorem for $n=m$, the first two clauses of the theorem trivially hold, and the last clause immediatly follows from Lemma [1](#prop_1). Suppose that $m$ is not a Fibonacci number. Let $i$ be the strictly positive integer such that $F_i<m<F_{i+1}$. So $0<m-F_i<m$. Consider the set $S$ described in the statement of the theorem for $n=m-F_i$, and call it $X$. Then $X\\cup\\{F_i\\}$ is the set $S$ of Fibonacci numbers described in the statement of the theorem for $n=m$. The first clause of the theorem is trivially satisfied. Since $m-F_i<F_{i+1}-F_i=F_{i-1}$, $F_{i-1}\\notin X$, from which the second clause follows. Let $S'$ be a set as described in the third clause for $n=m$, and suppose for a contradiction that $S\\neq S'$. Set $T=S\\setminus S'$ and $T'=S'\\setminus S$. As $\\Sigma_{i\\in S}F_i=\\Sigma_{i\\in S'}F_i$, neither $T$ nor $T'$ is empty. Since $T\\cap T'=\\varnothing$, $F_{\\max(T)}\\neq F_{\\max(T')}$. Suppose without loss of generality that $F_{\\max(T)}<F_{\\max(T')}$. By Lemma [1](#prop_1), $\\Sigma_{i\\in T}F_i<F_{\\max(T)+1}\\leq F_{\\max(T')}\\leq\\Sigma_{i\\in T'}F_i$, which is impossible since $\\Sigma_{i\\in S}F_i=\\Sigma_{i\\in S'}F_i$ implies $\\Sigma_{i\\in T}F_i=\\Sigma_{i\\in T'}F_i$.$\\ $ Q.E.D."
   ]
  },
  {
   "cell_type": "markdown",
   "metadata": {},
   "source": [
    "By Theorem [2](#prop_2), every strictly positive integer $n$ can be uniquely coded as a string $\\sigma$ of 0s and 1s ending in 1, so of the form $b_2b_3\\dots b_k$ with $k\\geq 2$ and $b_k=1$, such that no two consecutive 1s occur in $\\sigma$ and $n$ is the sum of all $F_i$s, $2\\leq i\\leq k$, with $b_i=1$.\n",
    "For instance, $11=3+8=F_4+F_6$, hence 11 is coded by 00101.\n",
    "\n",
    "The _Fibonacci code_ of $n$ appends 1 to $\\sigma$; the resulting string then ends in two 1s."
   ]
  },
  {
   "cell_type": "markdown",
   "metadata": {},
   "source": [
    "# Task"
   ]
  },
  {
   "cell_type": "markdown",
   "metadata": {},
   "source": [
    "Write a program `fibonacci_codes.py` that implements two functions:\n",
    "\n",
    "* `encode(n)`, that given as argument a strictly positive integer $n$, returns its Fibonacci code;\n",
    "* `decode(s)`, that given as argument a string $s$ consisting 0s and 1s, returns 0 if $s$ cannot be a Fibonacci code, and otherwise returns the integer $s$ is the Fibonacci code of."
   ]
  },
  {
   "cell_type": "markdown",
   "metadata": {},
   "source": [
    "# Tests"
   ]
  },
  {
   "cell_type": "markdown",
   "metadata": {},
   "source": [
    "## Encoding"
   ]
  },
  {
   "cell_type": "markdown",
   "metadata": {},
   "source": [
    "### Encoding 1"
   ]
  },
  {
   "cell_type": "code",
   "execution_count": null,
   "metadata": {},
   "outputs": [],
   "source": [
    "statements = 'from fibonacci_codes import *; print(repr(encode(1)))'"
   ]
  },
  {
   "cell_type": "code",
   "execution_count": null,
   "metadata": {
    "tags": []
   },
   "outputs": [],
   "source": [
    "%%run_and_test python3 -c \"$statements\"\n",
    "\n",
    "\"'11'\\n\""
   ]
  },
  {
   "cell_type": "markdown",
   "metadata": {},
   "source": [
    "### Encoding 2"
   ]
  },
  {
   "cell_type": "code",
   "execution_count": null,
   "metadata": {},
   "outputs": [],
   "source": [
    "statements = 'from fibonacci_codes import *; print(repr(encode(2)))'"
   ]
  },
  {
   "cell_type": "code",
   "execution_count": null,
   "metadata": {},
   "outputs": [],
   "source": [
    "%%run_and_test python3 -c \"$statements\"\n",
    "\n",
    "\"'011'\\n\""
   ]
  },
  {
   "cell_type": "markdown",
   "metadata": {},
   "source": [
    "### Encoding 3"
   ]
  },
  {
   "cell_type": "code",
   "execution_count": null,
   "metadata": {},
   "outputs": [],
   "source": [
    "statements = 'from fibonacci_codes import *; print(repr(encode(3)))'"
   ]
  },
  {
   "cell_type": "code",
   "execution_count": null,
   "metadata": {},
   "outputs": [],
   "source": [
    "%%run_and_test python3 -c \"$statements\"\n",
    "\n",
    "\"'0011'\\n\""
   ]
  },
  {
   "cell_type": "markdown",
   "metadata": {},
   "source": [
    "### Encoding 4"
   ]
  },
  {
   "cell_type": "code",
   "execution_count": null,
   "metadata": {},
   "outputs": [],
   "source": [
    "statements = 'from fibonacci_codes import *; print(repr(encode(4)))'"
   ]
  },
  {
   "cell_type": "code",
   "execution_count": null,
   "metadata": {
    "tags": []
   },
   "outputs": [],
   "source": [
    "%%run_and_test python3 -c \"$statements\"\n",
    "\n",
    "\"'1011'\\n\""
   ]
  },
  {
   "cell_type": "markdown",
   "metadata": {},
   "source": [
    "### Encoding 8"
   ]
  },
  {
   "cell_type": "code",
   "execution_count": null,
   "metadata": {},
   "outputs": [],
   "source": [
    "statements = 'from fibonacci_codes import *; print(repr(encode(8)))'"
   ]
  },
  {
   "cell_type": "code",
   "execution_count": null,
   "metadata": {},
   "outputs": [],
   "source": [
    "%%run_and_test python3 -c \"$statements\"\n",
    "\n",
    "\"'000011'\\n\""
   ]
  },
  {
   "cell_type": "markdown",
   "metadata": {},
   "source": [
    "### Encoding 11"
   ]
  },
  {
   "cell_type": "code",
   "execution_count": null,
   "metadata": {},
   "outputs": [],
   "source": [
    "statements = 'from fibonacci_codes import *; print(repr(encode(11)))'"
   ]
  },
  {
   "cell_type": "code",
   "execution_count": null,
   "metadata": {},
   "outputs": [],
   "source": [
    "%%run_and_test python3 -c \"$statements\"\n",
    "\n",
    "\"'001011'\\n\""
   ]
  },
  {
   "cell_type": "markdown",
   "metadata": {},
   "source": [
    "### Encoding 12"
   ]
  },
  {
   "cell_type": "code",
   "execution_count": null,
   "metadata": {},
   "outputs": [],
   "source": [
    "statements = 'from fibonacci_codes import *; print(repr(encode(12)))'"
   ]
  },
  {
   "cell_type": "code",
   "execution_count": null,
   "metadata": {
    "tags": []
   },
   "outputs": [],
   "source": [
    "%%run_and_test python3 -c \"$statements\"\n",
    "\n",
    "\"'101011'\\n\""
   ]
  },
  {
   "cell_type": "markdown",
   "metadata": {},
   "source": [
    "### Encoding 14"
   ]
  },
  {
   "cell_type": "code",
   "execution_count": null,
   "metadata": {},
   "outputs": [],
   "source": [
    "statements = 'from fibonacci_codes import *; print(repr(encode(14)))'"
   ]
  },
  {
   "cell_type": "code",
   "execution_count": null,
   "metadata": {
    "tags": []
   },
   "outputs": [],
   "source": [
    "%%run_and_test python3 -c \"$statements\"\n",
    "\n",
    "\"'1000011'\\n\""
   ]
  },
  {
   "cell_type": "markdown",
   "metadata": {},
   "source": [
    "## Decoding"
   ]
  },
  {
   "cell_type": "markdown",
   "metadata": {},
   "source": [
    "### Failing to decode '1'"
   ]
  },
  {
   "cell_type": "code",
   "execution_count": null,
   "metadata": {},
   "outputs": [],
   "source": [
    "statements = 'from fibonacci_codes import *; print(repr(decode(\"1\")))'"
   ]
  },
  {
   "cell_type": "code",
   "execution_count": null,
   "metadata": {},
   "outputs": [],
   "source": [
    "%%run_and_test python3 -c \"$statements\"\n",
    "\n",
    "'0\\n'"
   ]
  },
  {
   "cell_type": "markdown",
   "metadata": {},
   "source": [
    "### Failing to decode '01'"
   ]
  },
  {
   "cell_type": "code",
   "execution_count": null,
   "metadata": {},
   "outputs": [],
   "source": [
    "statements = 'from fibonacci_codes import *; print(repr(decode(\"01\")))'"
   ]
  },
  {
   "cell_type": "code",
   "execution_count": null,
   "metadata": {
    "tags": []
   },
   "outputs": [],
   "source": [
    "%%run_and_test python3 -c \"$statements\"\n",
    "\n",
    "'0\\n'"
   ]
  },
  {
   "cell_type": "markdown",
   "metadata": {
    "tags": []
   },
   "source": [
    "### Failing to decode '100011011'"
   ]
  },
  {
   "cell_type": "code",
   "execution_count": null,
   "metadata": {},
   "outputs": [],
   "source": [
    "statements = 'from fibonacci_codes import *; print(repr(decode(\"100011011\")))'"
   ]
  },
  {
   "cell_type": "code",
   "execution_count": null,
   "metadata": {},
   "outputs": [],
   "source": [
    "%%run_and_test python3 -c \"$statements\"\n",
    "\n",
    "'0\\n'"
   ]
  },
  {
   "cell_type": "markdown",
   "metadata": {},
   "source": [
    "### Decoding '11'"
   ]
  },
  {
   "cell_type": "code",
   "execution_count": null,
   "metadata": {},
   "outputs": [],
   "source": [
    "statements = 'from fibonacci_codes import *; print(repr(decode(\"11\")))'"
   ]
  },
  {
   "cell_type": "code",
   "execution_count": null,
   "metadata": {},
   "outputs": [],
   "source": [
    "%%run_and_test python3 -c \"$statements\"\n",
    "\n",
    "'1\\n'"
   ]
  },
  {
   "cell_type": "markdown",
   "metadata": {},
   "source": [
    "### Decoding '011'"
   ]
  },
  {
   "cell_type": "code",
   "execution_count": null,
   "metadata": {},
   "outputs": [],
   "source": [
    "statements = 'from fibonacci_codes import *; print(repr(decode(\"011\")))'"
   ]
  },
  {
   "cell_type": "code",
   "execution_count": null,
   "metadata": {
    "tags": []
   },
   "outputs": [],
   "source": [
    "%%run_and_test python3 -c \"$statements\"\n",
    "\n",
    "'2\\n'"
   ]
  },
  {
   "cell_type": "markdown",
   "metadata": {},
   "source": [
    "### Decoding '0011'"
   ]
  },
  {
   "cell_type": "code",
   "execution_count": null,
   "metadata": {},
   "outputs": [],
   "source": [
    "statements = 'from fibonacci_codes import *; print(repr(decode(\"0011\")))'"
   ]
  },
  {
   "cell_type": "code",
   "execution_count": null,
   "metadata": {},
   "outputs": [],
   "source": [
    "%%run_and_test python3 -c \"$statements\"\n",
    "\n",
    "'3\\n'"
   ]
  },
  {
   "cell_type": "markdown",
   "metadata": {},
   "source": [
    "### Decoding '1011'"
   ]
  },
  {
   "cell_type": "code",
   "execution_count": null,
   "metadata": {},
   "outputs": [],
   "source": [
    "statements = 'from fibonacci_codes import *; print(repr(decode(\"1011\")))'"
   ]
  },
  {
   "cell_type": "code",
   "execution_count": null,
   "metadata": {
    "tags": []
   },
   "outputs": [],
   "source": [
    "%%run_and_test python3 -c \"$statements\"\n",
    "\n",
    "'4\\n'"
   ]
  },
  {
   "cell_type": "markdown",
   "metadata": {},
   "source": [
    "### Decoding '000011'"
   ]
  },
  {
   "cell_type": "code",
   "execution_count": null,
   "metadata": {},
   "outputs": [],
   "source": [
    "statements = 'from fibonacci_codes import *; print(repr(decode(\"000011\")))'"
   ]
  },
  {
   "cell_type": "code",
   "execution_count": null,
   "metadata": {
    "tags": []
   },
   "outputs": [],
   "source": [
    "%%run_and_test python3 -c \"$statements\"\n",
    "\n",
    "'8\\n'"
   ]
  },
  {
   "cell_type": "markdown",
   "metadata": {},
   "source": [
    "### Decoding '001011'"
   ]
  },
  {
   "cell_type": "code",
   "execution_count": null,
   "metadata": {},
   "outputs": [],
   "source": [
    "statements = 'from fibonacci_codes import *; print(repr(decode(\"001011\")))'"
   ]
  },
  {
   "cell_type": "code",
   "execution_count": null,
   "metadata": {
    "tags": []
   },
   "outputs": [],
   "source": [
    "%%run_and_test python3 -c \"$statements\"\n",
    "\n",
    "'11\\n'"
   ]
  },
  {
   "cell_type": "markdown",
   "metadata": {},
   "source": [
    "### Decoding '1000011'"
   ]
  },
  {
   "cell_type": "code",
   "execution_count": null,
   "metadata": {},
   "outputs": [],
   "source": [
    "statements = 'from fibonacci_codes import *; print(repr(decode(\"1000011\")))'"
   ]
  },
  {
   "cell_type": "code",
   "execution_count": null,
   "metadata": {
    "tags": []
   },
   "outputs": [],
   "source": [
    "%%run_and_test python3 -c \"$statements\"\n",
    "\n",
    "'14\\n'"
   ]
  }
 ],
 "metadata": {
  "kernelspec": {
   "display_name": "Python 3 (ipykernel)",
   "language": "python",
   "name": "python3"
  },
  "language_info": {
   "codemirror_mode": {
    "name": "ipython",
    "version": 3
   },
   "file_extension": ".py",
   "mimetype": "text/x-python",
   "name": "python",
   "nbconvert_exporter": "python",
   "pygments_lexer": "ipython3",
   "version": "3.10.2"
  },
  "latex_envs": {
   "LaTeX_envs_menu_present": true,
   "autoclose": false,
   "autocomplete": true,
   "bibliofile": "biblio.bib",
   "cite_by": "apalike",
   "current_citInitial": 1,
   "eqLabelWithNumbers": true,
   "eqNumInitial": 1,
   "hotkeys": {
    "equation": "Ctrl-E",
    "itemize": "Ctrl-I"
   },
   "labels_anchors": false,
   "latex_user_defs": false,
   "report_style_numbering": false,
   "user_envs_cfg": false
  },
  "toc": {
   "base_numbering": 1,
   "nav_menu": {},
   "number_sections": true,
   "sideBar": true,
   "skip_h1_title": false,
   "title_cell": "Table of Contents",
   "title_sidebar": "Contents",
   "toc_cell": false,
   "toc_position": {},
   "toc_section_display": true,
   "toc_window_display": false
  },
  "widgets": {
   "application/vnd.jupyter.widget-state+json": {
    "state": {},
    "version_major": 2,
    "version_minor": 0
   }
  }
 },
 "nbformat": 4,
 "nbformat_minor": 4
}
