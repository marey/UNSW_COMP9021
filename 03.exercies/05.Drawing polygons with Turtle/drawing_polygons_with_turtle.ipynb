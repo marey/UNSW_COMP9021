{
    "metadata": {
        "kernelspec": {
            "name": "python3",
            "display_name": "Python 3 (ipykernel)",
            "language": "python"
        }
    },
    "nbformat": 4,
    "nbformat_minor": 4,
    "cells": [
        {
            "cell_type": "code",
            "execution_count": 10,
            "metadata": {},
            "outputs": [],
            "source": [
                "import zipfile\n",
                "with zipfile.ZipFile('Illustrations.zip') as illustrations:\n",
                "    illustrations.extractall('.')"
            ]
        },
        {
            "cell_type": "code",
            "execution_count": 2,
            "metadata": {},
            "outputs": [],
            "source": [
                "from IPython.display import Video"
            ]
        },
        {
            "attachments": {},
            "cell_type": "markdown",
            "metadata": {},
            "source": [
                "You can refer to the Turtle graphics documentation, available at https://docs.python.org/3.10/library/turtle.html, but you can also complete the tasks below by just studying the sample programs."
            ]
        },
        {
            "attachments": {},
            "cell_type": "markdown",
            "metadata": {},
            "source": [
                "# Example: drawing dodecagrams"
            ]
        },
        {
            "attachments": {},
            "cell_type": "markdown",
            "metadata": {},
            "source": [
                "Study the program `dodecagrams.py`. If you run it, here is what you will observe."
            ]
        },
        {
            "cell_type": "code",
            "execution_count": 11,
            "metadata": {},
            "outputs": [
                {
                    "data": {
                        "text/html": "\u003cvideo src=\"Illustrations/dodecagrams.mov\" controls  width=\"418\"  height=\"418\"\u003e\n      Your browser does not support the \u003ccode\u003evideo\u003c/code\u003e element.\n    \u003c/video\u003e",
                        "text/plain": "\u003cIPython.core.display.Video object\u003e"
                    },
                    "execution_count": 11,
                    "metadata": {},
                    "output_type": "execute_result"
                }
            ],
            "source": [
                "Video('Illustrations/dodecagrams.mov', width=418, height=418)"
            ]
        },
        {
            "attachments": {},
            "cell_type": "markdown",
            "metadata": {},
            "source": [
                "# Task: drawing a hexagram"
            ]
        },
        {
            "attachments": {},
            "cell_type": "markdown",
            "metadata": {},
            "source": [
                "Write a program `hexagram.py` that draws a hexagram that is centered horizontally in the window that displays it, with the colour of the tips alternating red and blue. Here is what you could observe if you run it, though there are many ways to get the final picture."
            ]
        },
        {
            "cell_type": "code",
            "execution_count": 12,
            "metadata": {},
            "outputs": [
                {
                    "data": {
                        "text/html": "\u003cvideo src=\"Illustrations/hexagram.mov\" controls  width=\"418\"  height=\"418\"\u003e\n      Your browser does not support the \u003ccode\u003evideo\u003c/code\u003e element.\n    \u003c/video\u003e",
                        "text/plain": "\u003cIPython.core.display.Video object\u003e"
                    },
                    "execution_count": 12,
                    "metadata": {},
                    "output_type": "execute_result"
                }
            ],
            "source": [
                "Video('Illustrations/hexagram.mov', width=418, height=418)"
            ]
        },
        {
            "attachments": {},
            "cell_type": "markdown",
            "metadata": {},
            "source": [
                "# Example: drawing a dodecagon"
            ]
        },
        {
            "attachments": {},
            "cell_type": "markdown",
            "metadata": {},
            "source": [
                "Study the program `dodecagon.py`. If you run it, here is what you will observe."
            ]
        },
        {
            "cell_type": "code",
            "execution_count": 5,
            "metadata": {},
            "outputs": [
                {
                    "data": {
                        "text/html": "\u003cvideo src=\"Illustrations/dodecagon.mov\" controls  width=\"418\"  height=\"418\"\u003e\n      Your browser does not support the \u003ccode\u003evideo\u003c/code\u003e element.\n    \u003c/video\u003e",
                        "text/plain": "\u003cIPython.core.display.Video object\u003e"
                    },
                    "execution_count": 5,
                    "metadata": {},
                    "output_type": "execute_result"
                }
            ],
            "source": [
                "Video('Illustrations/dodecagon.mov', width=418, height=418)"
            ]
        },
        {
            "attachments": {},
            "cell_type": "markdown",
            "metadata": {},
            "source": [
                "# Task: drawing an octagram"
            ]
        },
        {
            "attachments": {},
            "cell_type": "markdown",
            "metadata": {},
            "source": [
                "Write a program `octagram.py` that draws an octagram, the inscribed octagon being coloured yellow, and the colour of the triangles alternating red and blue. Here is what you could observe if you run it, though there are many ways to get the final picture."
            ]
        },
        {
            "cell_type": "code",
            "execution_count": 6,
            "metadata": {},
            "outputs": [
                {
                    "data": {
                        "text/html": "\u003cvideo src=\"Illustrations/octagram.mov\" controls  width=\"418\"  height=\"418\"\u003e\n      Your browser does not support the \u003ccode\u003evideo\u003c/code\u003e element.\n    \u003c/video\u003e",
                        "text/plain": "\u003cIPython.core.display.Video object\u003e"
                    },
                    "execution_count": 6,
                    "metadata": {},
                    "output_type": "execute_result"
                }
            ],
            "source": [
                "Video('Illustrations/octagram.mov', width=418, height=418)"
            ]
        }
    ]
}
