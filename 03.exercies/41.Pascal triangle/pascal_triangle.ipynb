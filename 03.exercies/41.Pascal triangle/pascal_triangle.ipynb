{
 "cells": [
  {
   "cell_type": "code",
   "execution_count": null,
   "metadata": {},
   "outputs": [],
   "source": [
    "load_ext run_and_test"
   ]
  },
  {
   "cell_type": "markdown",
   "metadata": {},
   "source": [
    "# Background"
   ]
  },
  {
   "cell_type": "markdown",
   "metadata": {},
   "source": [
    "Given a natural number $n$, the $(n+1)$st line of Pascal triangle consists of $n+1$ integers, namely, $n\\choose k$ for $0\\leq k\\leq n$, the number of subsets of size $k$ of a set of size $n$. In particular:\n",
    "\n",
    "* for all natural numbers $n$, $n\\choose 0$ and $n\\choose n$ are equal to 1;\n",
    "* for all strictly positive natural numbers $n$ and for all $k\\in\\{1,\\dots,n-1\\}$, $n\\choose k$ is equal to the sum of $n-1\\choose k-1$ and $n-1\\choose k$."
   ]
  },
  {
   "cell_type": "markdown",
   "metadata": {},
   "source": [
    "# Task"
   ]
  },
  {
   "cell_type": "markdown",
   "metadata": {},
   "source": [
    "Write a program `pascal_triangle.py` that prompts the user for a natural number $n$ and prints out the first $n+1$ lines of Pascal triangle, making sure the numbers are nicely aligned."
   ]
  },
  {
   "cell_type": "markdown",
   "metadata": {},
   "source": [
    "# Tests"
   ]
  },
  {
   "cell_type": "markdown",
   "metadata": {},
   "source": [
    "## Triangle with 4 lines"
   ]
  },
  {
   "cell_type": "code",
   "execution_count": null,
   "metadata": {},
   "outputs": [],
   "source": [
    "%%run_and_test -i'3\\n' python3 pascal_triangle.py\n",
    "\n",
    "'Enter a natural number: ', '3\\n',\n",
    "'''\n",
    "   1\\n\n",
    "  1 1\\n\n",
    " 1 2 1\\n\n",
    "1 3 3 1\\n\n",
    "'''"
   ]
  },
  {
   "cell_type": "markdown",
   "metadata": {},
   "source": [
    "## Triangle with 8 lines"
   ]
  },
  {
   "cell_type": "code",
   "execution_count": null,
   "metadata": {
    "tags": []
   },
   "outputs": [],
   "source": [
    "%%run_and_test -i'7\\n' python3 pascal_triangle.py\n",
    "\n",
    "'Enter a natural number: ', '7\\n',\n",
    "'''\n",
    "               1\\n\n",
    "             1   1\\n\n",
    "           1   2   1\\n\n",
    "         1   3   3   1\\n\n",
    "       1   4   6   4   1\\n\n",
    "     1   5  10  10   5   1\\n\n",
    "   1   6  15  20  15   6   1\\n\n",
    " 1   7  21  35  35  21   7   1\\n\n",
    "'''"
   ]
  },
  {
   "cell_type": "markdown",
   "metadata": {},
   "source": [
    "## Triangle with 12 lines"
   ]
  },
  {
   "cell_type": "code",
   "execution_count": null,
   "metadata": {
    "tags": []
   },
   "outputs": [],
   "source": [
    "%%run_and_test -i'11\\n' python3 pascal_triangle.py\n",
    "\n",
    "'Enter a natural number: ', '11\\n',\n",
    "'''\n",
    "                                   1\\n\n",
    "                                1     1\\n\n",
    "                             1     2     1\\n\n",
    "                          1     3     3     1\\n\n",
    "                       1     4     6     4     1\\n\n",
    "                    1     5    10    10     5     1\\n\n",
    "                 1     6    15    20    15     6     1\\n\n",
    "              1     7    21    35    35    21     7     1\\n\n",
    "           1     8    28    56    70    56    28     8     1\\n\n",
    "        1     9    36    84   126   126    84    36     9     1\\n\n",
    "     1    10    45   120   210   252   210   120    45    10     1\\n\n",
    "  1    11    55   165   330   462   462   330   165    55    11     1\\n\n",
    "'''"
   ]
  }
 ],
 "metadata": {
  "kernelspec": {
   "display_name": "Python 3 (ipykernel)",
   "language": "python",
   "name": "python3"
  },
  "language_info": {
   "codemirror_mode": {
    "name": "ipython",
    "version": 3
   },
   "file_extension": ".py",
   "mimetype": "text/x-python",
   "name": "python",
   "nbconvert_exporter": "python",
   "pygments_lexer": "ipython3",
   "version": "3.10.2"
  },
  "latex_envs": {
   "LaTeX_envs_menu_present": true,
   "autoclose": false,
   "autocomplete": true,
   "bibliofile": "biblio.bib",
   "cite_by": "apalike",
   "current_citInitial": 1,
   "eqLabelWithNumbers": true,
   "eqNumInitial": 1,
   "hotkeys": {
    "equation": "Ctrl-E",
    "itemize": "Ctrl-I"
   },
   "labels_anchors": false,
   "latex_user_defs": false,
   "report_style_numbering": false,
   "user_envs_cfg": false
  },
  "toc": {
   "base_numbering": 1,
   "nav_menu": {},
   "number_sections": true,
   "sideBar": true,
   "skip_h1_title": false,
   "title_cell": "Table of Contents",
   "title_sidebar": "Contents",
   "toc_cell": false,
   "toc_position": {},
   "toc_section_display": true,
   "toc_window_display": false
  },
  "widgets": {
   "application/vnd.jupyter.widget-state+json": {
    "state": {},
    "version_major": 2,
    "version_minor": 0
   }
  }
 },
 "nbformat": 4,
 "nbformat_minor": 4
}
