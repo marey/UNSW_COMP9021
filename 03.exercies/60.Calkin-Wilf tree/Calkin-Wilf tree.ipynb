{
 "cells": [
  {
   "cell_type": "code",
   "execution_count": null,
   "id": "5e045fe7",
   "metadata": {},
   "outputs": [],
   "source": [
    "load_ext run_and_test"
   ]
  },
  {
   "cell_type": "markdown",
   "id": "15db2c77",
   "metadata": {},
   "source": [
    "# Background"
   ]
  },
  {
   "cell_type": "markdown",
   "id": "4847acfc",
   "metadata": {},
   "source": [
    "The Calkin-Wilf tree is a binary tree whose root is labelled with $\\frac{1}{1}$ and such that for all nodes $N$, if $N$ is labelled with the fraction $\\frac{a}{b}$ then\n",
    "\n",
    "* the left child of $N$ is labelled with $\\frac{a}{a+b}$;\n",
    "* the right child of $N$ is labelled with $\\frac{a+b}{b}$.\n",
    "\n",
    "                        a/b\n",
    "                        /\\\n",
    "                       /  \\\n",
    "                      /    \\\n",
    "                     /      \\\n",
    "                 a/(a+b)  (a+b)/b\n",
    "\n",
    "<div><img src=\"calkin_wilf_tree.pdf\" width=\"500\"/></div>"
   ]
  },
  {
   "cell_type": "markdown",
   "id": "6316139c",
   "metadata": {},
   "source": [
    "**Lemma 1.**<a name=prop_1></a>$\\ $ _The fractions that label the nodes of the Calkin-Wilf tree are reduced._"
   ]
  },
  {
   "cell_type": "markdown",
   "id": "ae33098d",
   "metadata": {},
   "source": [
    "_Proof._$\\ $ Suppose for a contraction that a node $N$ of the tree is labelled with a non-reduced fraction $\\frac{a}{b}$. Choose $N$ in such a way that $N$ is as high as possible in the tree. Obviously, $N$ is not the root, so it has a parent $N'$. The label of $N'$ is either $\\frac{a}{b-a}$ or $\\frac{a-b}{b}$ depending on whether $N$ is the left or the right child of $N'$. As any multiple of $a$ and $b$ is also a multiple of $a-b$ and $b-a$, neither $\\frac{a}{b-a}$ nor $\\frac{a-b}{b}$ are reduced; contradiction indeed.$\\ $ Q.E.D."
   ]
  },
  {
   "cell_type": "markdown",
   "id": "63a49151",
   "metadata": {},
   "source": [
    "**Lemma 2.**<a name=prop_2></a>$\\ $ _No fraction labels more than one node of the Calkin-Wilf tree._"
   ]
  },
  {
   "cell_type": "markdown",
   "id": "15169c05",
   "metadata": {},
   "source": [
    "_Proof._$\\ $ Suppose for a contraction that a fraction $\\frac{a}{b}$ labels at least two nodes of the tree. Obviously, that fraction cannot be $\\frac{1}{1}$. Choose $a$ as small as possible, and for that choice of $a$ choose $b$ as small as possible. If $a<b$, then $\\frac{a}{b}$ is the label of at least two nodes that are left children of nodes labelled with $\\frac{a}{b-a}$, contradicting the choice of $b$. If $a>b$, then $\\frac{a}{b}$ is the label of at least two nodes that are right children of nodes labelled with $\\frac{a-b}{b}$, contradicting the choice of $a$.$\\ $ Q.E.D."
   ]
  },
  {
   "cell_type": "markdown",
   "id": "48b5cff5",
   "metadata": {},
   "source": [
    "**Lemma 3.**<a name=prop_3></a>$\\ $ _Every reduced fraction labels at least one node of the Calkin-Wilf tree._"
   ]
  },
  {
   "cell_type": "markdown",
   "id": "d5751131",
   "metadata": {},
   "source": [
    "_Proof._$\\ $ Suppose for a contraction that a reduced fraction $\\frac{a}{b}$ does not label any node of the tree. Obviously, that fraction cannot be $\\frac{1}{1}$. Choose $a$ as small as possible, and for that choice of $a$ choose $b$ as small as possible. If $a<b$, then no node has $\\frac{a}{b}$ as left child, hence no node is labelled with the reduced fraction $\\frac{a}{b-a}$, contradicting the choice of $b$. If $a>b$, then no node has $\\frac{a}{b}$ as right child, hence no node is labelled with the reduced fraction $\\frac{a-b}{b}$, contradicting the choice of $b$.$\\ $ Q.E.D."
   ]
  },
  {
   "cell_type": "markdown",
   "id": "10cf32fa",
   "metadata": {},
   "source": [
    "**Proposition 4.**<a name=prop_4></a>$\\ $ _Every strictly positive rational number labels a unique node of the Calkin-Wilf tree as the reduced fraction that represents it._"
   ]
  },
  {
   "cell_type": "markdown",
   "id": "99205b09",
   "metadata": {},
   "source": [
    "_Proof._$\\ $ The result immediately follows from the previous three lemmas.$\\ $ Q.E.D."
   ]
  },
  {
   "cell_type": "markdown",
   "id": "437fc65e",
   "metadata": {},
   "source": [
    "**Proposition 5.**<a name=prop_5></a>$\\ $ _Enumerating the fractions that label the nodes of the Calkin-Wilf tree, from top to bottom and on a given level from left to right, the denumerator of any fraction is the numerator of the fraction that follows._"
   ]
  },
  {
   "cell_type": "markdown",
   "id": "b458ea4b",
   "metadata": {},
   "source": [
    "_Proof._$\\ $ Proof is by induction. Let a reduced fraction $\\frac{a}{b}$ be given, and suppose that for all fractions that occur before $\\frac{a}{b}$ in the list, the result holds. Let $N$ be the node of the tree that $\\frac{a}{b}$ labels.\n",
    "\n",
    "* If $N$ occurs last on its level, then $b$ is 1 and the fraction that follows $\\frac{a}{b}$ in the list labels the leftmost node on the next level of the tree. That node is labelled by a fraction whose numerator is 1.\n",
    "* If $N$ is the left child of a node $N'$, then $b$ is the sum of numerator and denominator of the fraction that labels $N'$. That sum is the numerator of the fraction that labels the right child of $N'$. That fraction is the one that comes after $\\frac{a}{b}$ in the list.\n",
    "* Suppose that $N$ is not the last node on its level and is the right child of a node $N'$. The label of $N'$ is a fraction whose denominator is $b$. That fraction is followed in the list by a fraction which, by inductive hypothesis, has $b$ as numerator. Morever, that fraction labels a node whose left child is labelled with the fraction that follows $\\frac{a}{b}$ in the list, whose numerator is therefore $b$.\n",
    "\n",
    "So in any case, the fraction that follows $\\frac{a}{b}$ in the list has $b$ as numerator.$\\ $ Q.E.D."
   ]
  },
  {
   "cell_type": "markdown",
   "id": "2cb3c640",
   "metadata": {},
   "source": [
    "Let $\\mathrm{fusc}$ be the function that enumerates the numerators of the fractions that label the nodes of the Calkin-Wilf tree, read from top to bottom and on a given level from left to right: $\\mathrm{fusc}(1)$ is the numerator of the first fraction, namely $\\frac{1}{1}$, so 1; $\\mathrm{fusc}(2)$ is the numerator of the second fraction, namely $\\frac{1}{2}$, so 1; $\\mathrm{fusc}(3)$ is the numerator of the third fraction, namely $\\frac{2}{1}$, so 2... By Proposition [5](#prop_5), $\\bigl(\\frac{\\mathrm{fusc}(n)}{\\mathrm{fusc}(n+1)}\\bigr)_{n>0}$ enumerates the fractions that label the nodes of the Calkin-Wilf tree, from top to bottom and on a given level from left to right."
   ]
  },
  {
   "cell_type": "markdown",
   "id": "40a768f7",
   "metadata": {},
   "source": [
    "**Proposition 6.**<a name=prop_5></a>$\\ $ _$\\mathrm{fusc}(1)=1$ and for all $n>0$:_\n",
    "\n",
    "* $\\mathrm{fusc}(2n)= \\mathrm{fusc}(n)$\n",
    "* $\\mathrm{fusc}(2n+1)=\\mathrm{fusc}(n)+\\mathrm{fusc}(n+1)$"
   ]
  },
  {
   "cell_type": "markdown",
   "id": "23b993cd",
   "metadata": {},
   "source": [
    "_Proof._$\\ $ Let $n>0$ be given. The $n^\\mathrm{th}$ fraction in the list labels a node $N$ whose left child $N_1$ is labelled by the $(2n)^\\mathrm{th}$ fraction in the list and whose right child $N_2$ is labelled by the $(2n+1)^\\mathrm{th}$ fraction in the list. Since the fractions that label $N$ and $N_1$ have the same numerators, $\\mathrm{fusc}(2n)= \\mathrm{fusc}(n)$. Since the fraction that labels $N_1$ has as denominator the sum of $N$'s numerator and denominator, it follows from Proposition [5](#prop_5) that $\\mathrm{fusc}(2n+1)=\\mathrm{fusc}(n)+\\mathrm{fusc}(n+1)$. $\\ $ Q.E.D."
   ]
  },
  {
   "cell_type": "markdown",
   "id": "8d125917",
   "metadata": {},
   "source": [
    "The sequence $\\bigl(\\mathrm{fusc}(n)\\bigr)_{n>0}$, called _Stern's diatomic sequence_, starts as follows, the red values being the sum of two consecutive terms occurring midway in the sequence up to that point:\n",
    "\n",
    "$1\\ 1\\ \\color{red}{2}\\ 1\\ \\color{red}{3}\\ 2\\ \\color{red}{3}\\ 1\\ \\color{red}{4}\\ 3\\ \\color{red}{5}\\ 2\\ \\color{red}{5}\\ 3\\ \\color{red}{4}\\ 1\\ \\color{red}{5}\\ 4\\ \\color{red}{7}\\ 3\\ \\color{red}{8}\\ 5\\ \\color{red}{7}\\ 2\\ \\color{red}{7}\\ 5\\ \\color{red}{8}\\ 3\\ \\color{red}{7}\\ 4\\ \\color{red}{5}\\ 1$\n",
    "\n"
   ]
  },
  {
   "cell_type": "markdown",
   "id": "1d8dd641",
   "metadata": {},
   "source": [
    "# Task"
   ]
  },
  {
   "cell_type": "markdown",
   "id": "22ad9210",
   "metadata": {},
   "source": [
    "Write a program `calkin_wilf.py` that defines two functions:\n",
    "\n",
    "* a generator function `diatomic_sequence()` that generates on demand the members of $\\bigl(\\mathrm{fusc}(n)\\bigr)_{n>0}$;\n",
    "* a function `fraction_in_calkin_wilf(index)` that returns the fraction that labels the $n^{\\mathrm{th}}$ node of the Calkin-Wilf tree, explored from top to bottom and on a given level from left to right."
   ]
  },
  {
   "cell_type": "markdown",
   "id": "ed103474",
   "metadata": {},
   "source": [
    "# Tests"
   ]
  },
  {
   "cell_type": "markdown",
   "id": "9516e739",
   "metadata": {},
   "source": [
    "## Segments of Stern's diatomic sequence"
   ]
  },
  {
   "cell_type": "code",
   "execution_count": null,
   "id": "147ea905",
   "metadata": {},
   "outputs": [],
   "source": [
    "statements = 'from itertools import islice; '\\\n",
    "             'from calkin_wilf import *;'\\\n",
    "             'print(list(islice(diatomic_sequence(), 10)))'"
   ]
  },
  {
   "cell_type": "code",
   "execution_count": null,
   "id": "75cf3a41",
   "metadata": {},
   "outputs": [],
   "source": [
    "%%run_and_test python3 -c \"$statements\"\n",
    "\n",
    "'[1, 1, 2, 1, 3, 2, 3, 1, 4, 3]\\n'"
   ]
  },
  {
   "cell_type": "code",
   "execution_count": null,
   "id": "4ac8a927",
   "metadata": {},
   "outputs": [],
   "source": [
    "statements = 'from itertools import islice; '\\\n",
    "             'from calkin_wilf import *;'\\\n",
    "             'print(list(islice(diatomic_sequence(), 10, 20)))'"
   ]
  },
  {
   "cell_type": "code",
   "execution_count": null,
   "id": "4a68f959",
   "metadata": {},
   "outputs": [],
   "source": [
    "%%run_and_test python3 -c \"$statements\"\n",
    "\n",
    "'[5, 2, 5, 3, 4, 1, 5, 4, 7, 3]\\n'"
   ]
  },
  {
   "cell_type": "code",
   "execution_count": null,
   "id": "c6e5805b",
   "metadata": {},
   "outputs": [],
   "source": [
    "statements = 'from itertools import islice; '\\\n",
    "             'from calkin_wilf import *;'\\\n",
    "             'print(list(islice(diatomic_sequence(), 20, 30)))'"
   ]
  },
  {
   "cell_type": "code",
   "execution_count": null,
   "id": "aa92b69c",
   "metadata": {},
   "outputs": [],
   "source": [
    "%%run_and_test python3 -c \"$statements\"\n",
    "\n",
    "'[8, 5, 7, 2, 7, 5, 8, 3, 7, 4]\\n'"
   ]
  },
  {
   "cell_type": "code",
   "execution_count": null,
   "id": "6e2f0de0",
   "metadata": {},
   "outputs": [],
   "source": [
    "statements = 'from itertools import islice; '\\\n",
    "             'from calkin_wilf import *;'\\\n",
    "             'print(list(islice(diatomic_sequence(), 30, 40)))'"
   ]
  },
  {
   "cell_type": "code",
   "execution_count": null,
   "id": "b8b34bcd",
   "metadata": {},
   "outputs": [],
   "source": [
    "%%run_and_test python3 -c \"$statements\"\n",
    "\n",
    "'[5, 1, 6, 5, 9, 4, 11, 7, 10, 3]\\n'"
   ]
  },
  {
   "cell_type": "code",
   "execution_count": null,
   "id": "0c4d7f77",
   "metadata": {},
   "outputs": [],
   "source": [
    "statements = 'from itertools import islice; '\\\n",
    "             'from calkin_wilf import *;'\\\n",
    "             'print(list(islice(diatomic_sequence(), 40, 50)))'"
   ]
  },
  {
   "cell_type": "code",
   "execution_count": null,
   "id": "d7e6fd0f",
   "metadata": {},
   "outputs": [],
   "source": [
    "%%run_and_test python3 -c \"$statements\"\n",
    "\n",
    "'[11, 8, 13, 5, 12, 7, 9, 2, 9, 7]\\n'"
   ]
  },
  {
   "cell_type": "code",
   "execution_count": null,
   "id": "bc0e3210",
   "metadata": {},
   "outputs": [],
   "source": [
    "statements = 'from itertools import islice; '\\\n",
    "             'from calkin_wilf import *;'\\\n",
    "             'print(list(islice(diatomic_sequence(), 100, 110)))'"
   ]
  },
  {
   "cell_type": "code",
   "execution_count": null,
   "id": "539b05de",
   "metadata": {},
   "outputs": [],
   "source": [
    "%%run_and_test python3 -c \"$statements\"\n",
    "\n",
    "'[19, 12, 17, 5, 18, 13, 21, 8, 19, 11]\\n'"
   ]
  },
  {
   "cell_type": "code",
   "execution_count": null,
   "id": "b2308ff5",
   "metadata": {},
   "outputs": [],
   "source": [
    "statements = 'from itertools import islice; '\\\n",
    "             'from calkin_wilf import *;'\\\n",
    "             'print(list(islice(diatomic_sequence(), 1_000, 1_010)))'"
   ]
  },
  {
   "cell_type": "code",
   "execution_count": null,
   "id": "5915ac80",
   "metadata": {},
   "outputs": [],
   "source": [
    "%%run_and_test python3 -c \"$statements\"\n",
    "\n",
    "'[39, 28, 45, 17, 40, 23, 29, 6, 25, 19]\\n'"
   ]
  },
  {
   "cell_type": "code",
   "execution_count": null,
   "id": "d795ceb9",
   "metadata": {},
   "outputs": [],
   "source": [
    "statements = 'from itertools import islice; '\\\n",
    "             'from calkin_wilf import *;'\\\n",
    "             'print(list(islice(diatomic_sequence(), 10_000, 10_010)))'"
   ]
  },
  {
   "cell_type": "code",
   "execution_count": null,
   "id": "63ba91d3",
   "metadata": {},
   "outputs": [],
   "source": [
    "%%run_and_test python3 -c \"$statements\"\n",
    "\n",
    "'[205, 162, 281, 119, 314, 195, 271, 76, 261, 185]\\n'"
   ]
  },
  {
   "cell_type": "code",
   "execution_count": null,
   "id": "d9070942",
   "metadata": {},
   "outputs": [],
   "source": [
    "statements = 'from itertools import islice; '\\\n",
    "             'from calkin_wilf import *;'\\\n",
    "             'print(list(islice(diatomic_sequence(), 100_000, 100_010)))'"
   ]
  },
  {
   "cell_type": "code",
   "execution_count": null,
   "id": "7a0d52be",
   "metadata": {
    "tags": []
   },
   "outputs": [],
   "source": [
    "%%run_and_test python3 -c \"$statements\"\n",
    "\n",
    "'[713, 586, 1045, 459, 1250, 791, 1123, 332, 1201, 869]\\n'"
   ]
  },
  {
   "cell_type": "code",
   "execution_count": null,
   "id": "66e09544",
   "metadata": {},
   "outputs": [],
   "source": [
    "statements = 'from itertools import islice; '\\\n",
    "             'from calkin_wilf import *;'\\\n",
    "             'print(list(islice(diatomic_sequence(), 1_000_000, 1_000_010)))'"
   ]
  },
  {
   "cell_type": "code",
   "execution_count": null,
   "id": "a847203a",
   "metadata": {
    "tags": []
   },
   "outputs": [],
   "source": [
    "%%run_and_test python3 -c \"$statements\"\n",
    "\n",
    "'[1287, 1096, 2001, 905, 2524, 1619, 2333, 714, 2665, 1951]\\n'"
   ]
  },
  {
   "cell_type": "code",
   "execution_count": null,
   "id": "cb7f5c92",
   "metadata": {},
   "outputs": [],
   "source": [
    "statements = 'from itertools import islice; '\\\n",
    "             'from calkin_wilf import *;'\\\n",
    "             'print(list(islice(diatomic_sequence(), 10_000_000, 10_000_010)))'"
   ]
  },
  {
   "cell_type": "code",
   "execution_count": null,
   "id": "a2922e93",
   "metadata": {
    "tags": []
   },
   "outputs": [],
   "source": [
    "%%run_and_test python3 -c \"$statements\"\n",
    "\n",
    "'[9469, 8220, 15191, 6971, 19664, 12693, 18415, 5722, 21639, 15917]\\n'"
   ]
  },
  {
   "cell_type": "markdown",
   "id": "ccbd50bc",
   "metadata": {},
   "source": [
    "## Fractions in Calkin-Wilf tree"
   ]
  },
  {
   "cell_type": "code",
   "execution_count": null,
   "id": "22d21037",
   "metadata": {},
   "outputs": [],
   "source": [
    "statements = 'from calkin_wilf import *; print(fraction_in_calkin_wilf(1))'"
   ]
  },
  {
   "cell_type": "code",
   "execution_count": null,
   "id": "ea3212f7",
   "metadata": {},
   "outputs": [],
   "source": [
    "%%run_and_test python3 -c \"$statements\"\n",
    "\n",
    "'1/1\\n'"
   ]
  },
  {
   "cell_type": "code",
   "execution_count": null,
   "id": "65d0864c",
   "metadata": {},
   "outputs": [],
   "source": [
    "statements = 'from calkin_wilf import *; print(fraction_in_calkin_wilf(2))'"
   ]
  },
  {
   "cell_type": "code",
   "execution_count": null,
   "id": "068bff00",
   "metadata": {
    "tags": []
   },
   "outputs": [],
   "source": [
    "%%run_and_test python3 -c \"$statements\"\n",
    "\n",
    "'1/2\\n'"
   ]
  },
  {
   "cell_type": "code",
   "execution_count": null,
   "id": "b134813a",
   "metadata": {},
   "outputs": [],
   "source": [
    "statements = 'from calkin_wilf import *; print(fraction_in_calkin_wilf(3))'"
   ]
  },
  {
   "cell_type": "code",
   "execution_count": null,
   "id": "66008399",
   "metadata": {},
   "outputs": [],
   "source": [
    "%%run_and_test python3 -c \"$statements\"\n",
    "\n",
    "'2/1\\n'"
   ]
  },
  {
   "cell_type": "code",
   "execution_count": null,
   "id": "afd30139",
   "metadata": {},
   "outputs": [],
   "source": [
    "statements = 'from calkin_wilf import *; print(fraction_in_calkin_wilf(4))'"
   ]
  },
  {
   "cell_type": "code",
   "execution_count": null,
   "id": "cc88f1c2",
   "metadata": {
    "tags": []
   },
   "outputs": [],
   "source": [
    "%%run_and_test python3 -c \"$statements\"\n",
    "\n",
    "'1/3\\n'"
   ]
  },
  {
   "cell_type": "code",
   "execution_count": null,
   "id": "109a8a4b",
   "metadata": {},
   "outputs": [],
   "source": [
    "statements = 'from calkin_wilf import *; print(fraction_in_calkin_wilf(5))'"
   ]
  },
  {
   "cell_type": "code",
   "execution_count": null,
   "id": "c1a77124",
   "metadata": {
    "tags": []
   },
   "outputs": [],
   "source": [
    "%%run_and_test python3 -c \"$statements\"\n",
    "\n",
    "'3/2\\n'"
   ]
  },
  {
   "cell_type": "code",
   "execution_count": null,
   "id": "1949d150",
   "metadata": {},
   "outputs": [],
   "source": [
    "statements = 'from calkin_wilf import *; print(fraction_in_calkin_wilf(6))'"
   ]
  },
  {
   "cell_type": "code",
   "execution_count": null,
   "id": "58caf0d4",
   "metadata": {},
   "outputs": [],
   "source": [
    "%%run_and_test python3 -c \"$statements\"\n",
    "\n",
    "'2/3\\n'"
   ]
  },
  {
   "cell_type": "code",
   "execution_count": null,
   "id": "7625c7ba",
   "metadata": {},
   "outputs": [],
   "source": [
    "statements = 'from calkin_wilf import *; print(fraction_in_calkin_wilf(7))'"
   ]
  },
  {
   "cell_type": "code",
   "execution_count": null,
   "id": "7edd4117",
   "metadata": {
    "tags": []
   },
   "outputs": [],
   "source": [
    "%%run_and_test python3 -c \"$statements\"\n",
    "\n",
    "'3/1\\n'"
   ]
  },
  {
   "cell_type": "code",
   "execution_count": null,
   "id": "39e61b3a",
   "metadata": {},
   "outputs": [],
   "source": [
    "statements = 'from calkin_wilf import *; print(fraction_in_calkin_wilf(8))'"
   ]
  },
  {
   "cell_type": "code",
   "execution_count": null,
   "id": "5e8903b9",
   "metadata": {
    "tags": []
   },
   "outputs": [],
   "source": [
    "%%run_and_test python3 -c \"$statements\"\n",
    "\n",
    "'1/4\\n'"
   ]
  },
  {
   "cell_type": "code",
   "execution_count": null,
   "id": "95af61f5",
   "metadata": {},
   "outputs": [],
   "source": [
    "statements = 'from calkin_wilf import *; print(fraction_in_calkin_wilf(9))'"
   ]
  },
  {
   "cell_type": "code",
   "execution_count": null,
   "id": "6459dc89",
   "metadata": {},
   "outputs": [],
   "source": [
    "%%run_and_test python3 -c \"$statements\"\n",
    "\n",
    "'4/3\\n'"
   ]
  },
  {
   "cell_type": "code",
   "execution_count": null,
   "id": "3254ed00",
   "metadata": {},
   "outputs": [],
   "source": [
    "statements = 'from calkin_wilf import *; print(fraction_in_calkin_wilf(10))'"
   ]
  },
  {
   "cell_type": "code",
   "execution_count": null,
   "id": "29acc835",
   "metadata": {
    "tags": []
   },
   "outputs": [],
   "source": [
    "%%run_and_test python3 -c \"$statements\"\n",
    "\n",
    "'3/5\\n'"
   ]
  },
  {
   "cell_type": "code",
   "execution_count": null,
   "id": "a81ed7e0",
   "metadata": {},
   "outputs": [],
   "source": [
    "statements = 'from calkin_wilf import *; print(fraction_in_calkin_wilf(11))'"
   ]
  },
  {
   "cell_type": "code",
   "execution_count": null,
   "id": "9d5aa02b",
   "metadata": {
    "tags": []
   },
   "outputs": [],
   "source": [
    "%%run_and_test python3 -c \"$statements\"\n",
    "\n",
    "'5/2\\n'"
   ]
  },
  {
   "cell_type": "code",
   "execution_count": null,
   "id": "6061f98f",
   "metadata": {},
   "outputs": [],
   "source": [
    "statements = 'from calkin_wilf import *; print(fraction_in_calkin_wilf(123))'"
   ]
  },
  {
   "cell_type": "code",
   "execution_count": null,
   "id": "64fdf395",
   "metadata": {
    "tags": []
   },
   "outputs": [],
   "source": [
    "%%run_and_test python3 -c \"$statements\"\n",
    "\n",
    "'14/5\\n'"
   ]
  },
  {
   "cell_type": "code",
   "execution_count": null,
   "id": "7503d3a4",
   "metadata": {},
   "outputs": [],
   "source": [
    "statements = 'from calkin_wilf import *; print(fraction_in_calkin_wilf(1234))'"
   ]
  },
  {
   "cell_type": "code",
   "execution_count": null,
   "id": "5e3be484",
   "metadata": {},
   "outputs": [],
   "source": [
    "%%run_and_test python3 -c \"$statements\"\n",
    "\n",
    "'61/105\\n'"
   ]
  },
  {
   "cell_type": "code",
   "execution_count": null,
   "id": "d6fd421b",
   "metadata": {},
   "outputs": [],
   "source": [
    "statements = 'from calkin_wilf import *; print(fraction_in_calkin_wilf(12345))'"
   ]
  },
  {
   "cell_type": "code",
   "execution_count": null,
   "id": "6eb96613",
   "metadata": {},
   "outputs": [],
   "source": [
    "%%run_and_test python3 -c \"$statements\"\n",
    "\n",
    "'136/95\\n'"
   ]
  },
  {
   "cell_type": "code",
   "execution_count": null,
   "id": "a2cc662c",
   "metadata": {},
   "outputs": [],
   "source": [
    "statements = 'from calkin_wilf import *; '\\\n",
    "             'print(fraction_in_calkin_wilf(123456))'"
   ]
  },
  {
   "cell_type": "code",
   "execution_count": null,
   "id": "13f4ae30",
   "metadata": {},
   "outputs": [],
   "source": [
    "%%run_and_test python3 -c \"$statements\"\n",
    "\n",
    "'64/431\\n'"
   ]
  },
  {
   "cell_type": "code",
   "execution_count": null,
   "id": "983f402f",
   "metadata": {},
   "outputs": [],
   "source": [
    "statements = 'from calkin_wilf import *; '\\\n",
    "             'print(fraction_in_calkin_wilf(1234567))'"
   ]
  },
  {
   "cell_type": "code",
   "execution_count": null,
   "id": "181d354e",
   "metadata": {
    "tags": []
   },
   "outputs": [],
   "source": [
    "%%run_and_test python3 -c \"$statements\"\n",
    "\n",
    "'6279/1951\\n'"
   ]
  },
  {
   "cell_type": "code",
   "execution_count": null,
   "id": "7e25af0a",
   "metadata": {},
   "outputs": [],
   "source": [
    "statements = 'from calkin_wilf import *; '\\\n",
    "             'print(fraction_in_calkin_wilf(12345678))'"
   ]
  },
  {
   "cell_type": "code",
   "execution_count": null,
   "id": "583a5e4a",
   "metadata": {
    "tags": []
   },
   "outputs": [],
   "source": [
    "%%run_and_test python3 -c \"$statements\"\n",
    "\n",
    "'9158/11869\\n'"
   ]
  },
  {
   "cell_type": "code",
   "execution_count": null,
   "id": "6505824b",
   "metadata": {},
   "outputs": [],
   "source": [
    "statements = 'from calkin_wilf import *; '\\\n",
    "             'print(fraction_in_calkin_wilf(123456789))'"
   ]
  },
  {
   "cell_type": "code",
   "execution_count": null,
   "id": "103862a6",
   "metadata": {},
   "outputs": [],
   "source": [
    "%%run_and_test python3 -c \"$statements\"\n",
    "\n",
    "'83116/51639\\n'"
   ]
  },
  {
   "cell_type": "code",
   "execution_count": null,
   "id": "546b61a3",
   "metadata": {},
   "outputs": [],
   "source": [
    "statements = 'from calkin_wilf import *; '\\\n",
    "             'print(fraction_in_calkin_wilf(1234567890))'"
   ]
  },
  {
   "cell_type": "code",
   "execution_count": null,
   "id": "7859a26e",
   "metadata": {
    "tags": []
   },
   "outputs": [],
   "source": [
    "%%run_and_test python3 -c \"$statements\"\n",
    "\n",
    "'134654/231721\\n'"
   ]
  },
  {
   "cell_type": "code",
   "execution_count": null,
   "id": "c0dfd088",
   "metadata": {},
   "outputs": [],
   "source": [
    "statements = 'from calkin_wilf import *; '\\\n",
    "             'print(fraction_in_calkin_wilf(10 ** 20))'"
   ]
  },
  {
   "cell_type": "code",
   "execution_count": null,
   "id": "7758b483",
   "metadata": {
    "tags": []
   },
   "outputs": [],
   "source": [
    "%%run_and_test python3 -c \"$statements\"\n",
    "\n",
    "'263945319/5483345119\\n'"
   ]
  },
  {
   "cell_type": "code",
   "execution_count": null,
   "id": "d367eb52",
   "metadata": {},
   "outputs": [],
   "source": [
    "statements = 'from calkin_wilf import *; '\\\n",
    "             'print(fraction_in_calkin_wilf(10 ** 30))'"
   ]
  },
  {
   "cell_type": "code",
   "execution_count": null,
   "id": "2beff7f4",
   "metadata": {},
   "outputs": [],
   "source": [
    "%%run_and_test python3 -c \"$statements\"\n",
    "\n",
    "'2641828456999/81164366138285\\n'"
   ]
  },
  {
   "cell_type": "code",
   "execution_count": null,
   "id": "ca1c1ed8",
   "metadata": {},
   "outputs": [],
   "source": [
    "statements = 'from calkin_wilf import *; '\\\n",
    "             'print(fraction_in_calkin_wilf(10 ** 40))'"
   ]
  },
  {
   "cell_type": "code",
   "execution_count": null,
   "id": "c96c7e37",
   "metadata": {},
   "outputs": [],
   "source": [
    "%%run_and_test python3 -c \"$statements\"\n",
    "\n",
    "'15620163071382969/637524025588773707\\n'"
   ]
  },
  {
   "cell_type": "code",
   "execution_count": null,
   "id": "bdff6176",
   "metadata": {},
   "outputs": [],
   "source": [
    "statements = 'from calkin_wilf import *; '\\\n",
    "             'print(fraction_in_calkin_wilf(10 ** 50))'"
   ]
  },
  {
   "cell_type": "code",
   "execution_count": null,
   "id": "2f2c2efa",
   "metadata": {},
   "outputs": [],
   "source": [
    "%%run_and_test python3 -c \"$statements\"\n",
    "\n",
    "'167927140074779758557/8514625464619113797783\\n'"
   ]
  },
  {
   "cell_type": "code",
   "execution_count": null,
   "id": "fd061db1",
   "metadata": {},
   "outputs": [],
   "source": [
    "statements = 'from calkin_wilf import *; '\\\n",
    "             'print(fraction_in_calkin_wilf(10 ** 100))'"
   ]
  },
  {
   "cell_type": "code",
   "execution_count": null,
   "id": "5e30b0e9",
   "metadata": {},
   "outputs": [],
   "source": [
    "%%run_and_test python3 -c \"$statements\"\n",
    "\n",
    "'82251501217045168774956398214266294624247/'\n",
    "'8287973375898394057758697362292468481407181\\n'"
   ]
  }
 ],
 "metadata": {
  "kernelspec": {
   "display_name": "Python 3 (ipykernel)",
   "language": "python",
   "name": "python3"
  },
  "language_info": {
   "codemirror_mode": {
    "name": "ipython",
    "version": 3
   },
   "file_extension": ".py",
   "mimetype": "text/x-python",
   "name": "python",
   "nbconvert_exporter": "python",
   "pygments_lexer": "ipython3",
   "version": "3.10.2"
  },
  "latex_envs": {
   "LaTeX_envs_menu_present": true,
   "autoclose": false,
   "autocomplete": true,
   "bibliofile": "biblio.bib",
   "cite_by": "apalike",
   "current_citInitial": 1,
   "eqLabelWithNumbers": true,
   "eqNumInitial": 1,
   "hotkeys": {
    "equation": "Ctrl-E",
    "itemize": "Ctrl-I"
   },
   "labels_anchors": false,
   "latex_user_defs": false,
   "report_style_numbering": false,
   "user_envs_cfg": false
  },
  "toc": {
   "base_numbering": 1,
   "nav_menu": {},
   "number_sections": true,
   "sideBar": true,
   "skip_h1_title": false,
   "title_cell": "Table of Contents",
   "title_sidebar": "Contents",
   "toc_cell": false,
   "toc_position": {},
   "toc_section_display": true,
   "toc_window_display": false
  },
  "widgets": {
   "application/vnd.jupyter.widget-state+json": {
    "state": {},
    "version_major": 2,
    "version_minor": 0
   }
  }
 },
 "nbformat": 4,
 "nbformat_minor": 5
}
