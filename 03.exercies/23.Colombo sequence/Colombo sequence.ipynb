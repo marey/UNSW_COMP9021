{
 "cells": [
  {
   "cell_type": "code",
   "execution_count": null,
   "id": "6d887a7f",
   "metadata": {},
   "outputs": [],
   "source": [
    "load_ext run_and_test"
   ]
  },
  {
   "cell_type": "markdown",
   "id": "ab384580",
   "metadata": {},
   "source": [
    "# Background"
   ]
  },
  {
   "cell_type": "markdown",
   "id": "ab529660",
   "metadata": {},
   "source": [
    "The Colombo sequence consists of 1 repeated some number of times, followed by 2 repeated some number of times, followed by 3 repeated some number of times... in such a way that the $i^{\\mathit th}$ term in the sequence (counting from 1) is equal to the number of times $i$ is repeated in the sequence."
   ]
  },
  {
   "cell_type": "markdown",
   "id": "260692ad",
   "metadata": {},
   "source": [
    "# Task"
   ]
  },
  {
   "cell_type": "markdown",
   "id": "b1de93c1",
   "metadata": {},
   "source": [
    "Write a program `colombo.py` that defines a function `colombo()` meant to take as argument a stricly positive integer $n$, that returns the list consisting of the first $n$ members of the Colombo sequence. "
   ]
  },
  {
   "cell_type": "markdown",
   "id": "30ea826e",
   "metadata": {},
   "source": [
    "# Test"
   ]
  },
  {
   "cell_type": "code",
   "execution_count": null,
   "id": "7b1317dc",
   "metadata": {},
   "outputs": [],
   "source": [
    "statements = 'from colombo import *; from pprint import pprint; '\\\n",
    "             'pprint([colombo(n) for n in range(1, 25)])'"
   ]
  },
  {
   "cell_type": "code",
   "execution_count": null,
   "id": "dbf96c94",
   "metadata": {},
   "outputs": [],
   "source": [
    "%%run_and_test -s 2000 python3 -c \"$statements\"\n",
    "\n",
    "'''\n",
    "[[1],\\n\n",
    " [1, 2],\\n\n",
    " [1, 2, 2],\\n\n",
    " [1, 2, 2, 3],\\n\n",
    " [1, 2, 2, 3, 3],\\n\n",
    " [1, 2, 2, 3, 3, 4],\\n\n",
    " [1, 2, 2, 3, 3, 4, 4],\\n\n",
    " [1, 2, 2, 3, 3, 4, 4, 4],\\n\n",
    " [1, 2, 2, 3, 3, 4, 4, 4, 5],\\n\n",
    " [1, 2, 2, 3, 3, 4, 4, 4, 5, 5],\\n\n",
    " [1, 2, 2, 3, 3, 4, 4, 4, 5, 5, 5],\\n\n",
    " [1, 2, 2, 3, 3, 4, 4, 4, 5, 5, 5, 6],\\n\n",
    " [1, 2, 2, 3, 3, 4, 4, 4, 5, 5, 5, 6, 6],\\n\n",
    " [1, 2, 2, 3, 3, 4, 4, 4, 5, 5, 5, 6, 6, 6],\\n\n",
    " [1, 2, 2, 3, 3, 4, 4, 4, 5, 5, 5, 6, 6, 6, 6],\\n\n",
    " [1, 2, 2, 3, 3, 4, 4, 4, 5, 5, 5, 6, 6, 6, 6, 7],\\n\n",
    " [1, 2, 2, 3, 3, 4, 4, 4, 5, 5, 5, 6, 6, 6, 6, 7, 7],\\n\n",
    " [1, 2, 2, 3, 3, 4, 4, 4, 5, 5, 5, 6, 6, 6, 6, 7, 7, 7],\\n\n",
    " [1, 2, 2, 3, 3, 4, 4, 4, 5, 5, 5, 6, 6, 6, 6, 7, 7, 7, 7],\\n\n",
    " [1, 2, 2, 3, 3, 4, 4, 4, 5, 5, 5, 6, 6, 6, 6, 7, 7, 7, 7, 8],\\n\n",
    " [1, 2, 2, 3, 3, 4, 4, 4, 5, 5, 5, 6, 6, 6, 6, 7, 7, 7, 7, 8, 8],\\n\n",
    " [1, 2, 2, 3, 3, 4, 4, 4, 5, 5, 5, 6, 6, 6, 6, 7, 7, 7, 7, 8, 8, 8],\\n\n",
    " [1, 2, 2, 3, 3, 4, 4, 4, 5, 5, 5, 6, 6, 6, 6, 7, 7, 7, 7, 8, 8, 8, 8],\\n\n",
    " [1, 2, 2, 3, 3, 4, 4, 4, 5, 5, 5, 6, 6, 6, 6, 7, 7, 7, 7, 8, 8, 8, 8, 9]]\\n\n",
    "'''"
   ]
  }
 ],
 "metadata": {
  "kernelspec": {
   "display_name": "Python 3 (ipykernel)",
   "language": "python",
   "name": "python3"
  },
  "language_info": {
   "codemirror_mode": {
    "name": "ipython",
    "version": 3
   },
   "file_extension": ".py",
   "mimetype": "text/x-python",
   "name": "python",
   "nbconvert_exporter": "python",
   "pygments_lexer": "ipython3",
   "version": "3.10.2"
  },
  "latex_envs": {
   "LaTeX_envs_menu_present": true,
   "autoclose": false,
   "autocomplete": true,
   "bibliofile": "biblio.bib",
   "cite_by": "apalike",
   "current_citInitial": 1,
   "eqLabelWithNumbers": true,
   "eqNumInitial": 1,
   "hotkeys": {
    "equation": "Ctrl-E",
    "itemize": "Ctrl-I"
   },
   "labels_anchors": false,
   "latex_user_defs": false,
   "report_style_numbering": false,
   "user_envs_cfg": false
  },
  "toc": {
   "base_numbering": 1,
   "nav_menu": {},
   "number_sections": true,
   "sideBar": true,
   "skip_h1_title": false,
   "title_cell": "Table of Contents",
   "title_sidebar": "Contents",
   "toc_cell": false,
   "toc_position": {},
   "toc_section_display": true,
   "toc_window_display": false
  },
  "widgets": {
   "application/vnd.jupyter.widget-state+json": {
    "state": {},
    "version_major": 2,
    "version_minor": 0
   }
  }
 },
 "nbformat": 4,
 "nbformat_minor": 5
}
