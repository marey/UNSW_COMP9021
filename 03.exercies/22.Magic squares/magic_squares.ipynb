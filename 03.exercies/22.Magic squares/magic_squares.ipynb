{
 "cells": [
  {
   "cell_type": "code",
   "execution_count": null,
   "metadata": {},
   "outputs": [],
   "source": [
    "import zipfile\n",
    "with zipfile.ZipFile('Illustrations.zip') as illustrations:\n",
    "    illustrations.extractall('.')"
   ]
  },
  {
   "cell_type": "code",
   "execution_count": null,
   "metadata": {},
   "outputs": [],
   "source": [
    "%store -r execute_command\n",
    "%store -r import_testing_environment"
   ]
  },
  {
   "cell_type": "code",
   "execution_count": null,
   "metadata": {},
   "outputs": [],
   "source": [
    "import_testing_environment"
   ]
  },
  {
   "cell_type": "markdown",
   "metadata": {},
   "source": [
    "Max running time and max output size in deciseconds and bytes, respectively."
   ]
  },
  {
   "cell_type": "code",
   "execution_count": null,
   "metadata": {},
   "outputs": [],
   "source": [
    "env MAX_RUNNING_TIME 10"
   ]
  },
  {
   "cell_type": "code",
   "execution_count": null,
   "metadata": {},
   "outputs": [],
   "source": [
    "env MAX_OUTPUT_SIZE 1000"
   ]
  },
  {
   "cell_type": "markdown",
   "metadata": {},
   "source": [
    "## Background"
   ]
  },
  {
   "cell_type": "markdown",
   "metadata": {},
   "source": [
    "Given a strictly positive integer $n$, a magic square of order $n$ is a matrix of size $n \\times n$\n",
    "that stores all numbers from 1 up to $n^2$ and such that the sum of the $n$ rows,\n",
    "the sum of the $n$ columns, and the sum of the two main diagonals is constant,\n",
    "hence equal to $n(n^2+1)/2$."
   ]
  },
  {
   "cell_type": "markdown",
   "metadata": {},
   "source": [
    "### The Bachet method"
   ]
  },
  {
   "cell_type": "markdown",
   "metadata": {},
   "source": [
    "Given an odd positive integer $n$, the Bachet method produces a magic square of order $n$. Taking $n=7$ as an example, this method\n",
    "\n",
    "* starts with a square of size $2n-1 \\times 2n-1$ filled as follows:\n",
    "![](Illustrations/bachet_1.pdf)\n",
    "* then 4 times:\n",
    "    * shift the n // 2 top rows n rows below: \n",
    "![](Illustrations/bachet_2.pdf)\n",
    "    * rotates clockwise by 90 degrees:\n",
    "![](Illustrations/bachet_3.pdf)\n",
    "\n",
    "Eventually, one reads the magic square off the centre:\n",
    "![](Illustrations/bachet_4.pdf)"
   ]
  },
  {
   "cell_type": "markdown",
   "metadata": {},
   "source": [
    "### The Siamese method"
   ]
  },
  {
   "cell_type": "markdown",
   "metadata": {},
   "source": [
    "Given an odd positive integer $n$, the Siamese method produces a magic square of order $n$. This method starts with 1 put at the centre of the first row, and having placed number $k < n^2$, places number $k+1$ by moving diagonally up and right by one cell, wrapping around when needed (as if a torus was made out of the square), unless that cell is already occupied, in which case $k+1$ is placed below the cell where $k$ is (with no need to wrap around)."
   ]
  },
  {
   "cell_type": "markdown",
   "metadata": {},
   "source": [
    "### The LUX method"
   ]
  },
  {
   "cell_type": "markdown",
   "metadata": {},
   "source": [
    "Given a positive integer $n$ of the form $4*k + 2$ with $k$ a strictly positive integer, the LUX method produces a magic square of order $n$. This method proceeds as follows.\n",
    "\n",
    "* Consider a matrix of size $2k+1 \\times 2k+1$ that consists of:\n",
    "    * $k+1$ rows of Ls,\n",
    "    * 1 row of Us, and\n",
    "    * $k-1$ rows of Xs,\n",
    "\n",
    "and then exchange the U in the middle with the L above it. For instance, when $n = 10$, that matrix is:\n",
    "\n",
    "        L  L  L  L  L\n",
    "        L  L  L  L  L\n",
    "        L  L  U  L  L\n",
    "        U  U  L  U  U\n",
    "        X  X  X  X  X\n",
    "\n",
    "* Explore all cells of this matrix as for the Siamese method, that is, starting at the cell at the centre of the first row, and then by moving diagonally up and right by one cell, wrapping around when needed (as if a torus was made out of the matrix), unless that cell has been visited already, in which case one moves down one cell (with no need to wrap around). The contents of every visited cell is then replaced by\n",
    "    * if the cell contains L,\n",
    "\n",
    "          i+4  i+1    \n",
    "          i+2  i+3\n",
    "\n",
    "    * if the cell contains U,\n",
    "\n",
    "          i+1 i+4\n",
    "          i+2 i+3\n",
    "\n",
    "    * if the cell contains X with $i$ being the last number that has been used (starting with $i = 0$),\n",
    "\n",
    "          i+1 i+4\n",
    "          i+3 i+2"
   ]
  },
  {
   "cell_type": "markdown",
   "metadata": {},
   "source": [
    "## Task"
   ]
  },
  {
   "cell_type": "markdown",
   "metadata": {},
   "source": [
    "Write a program `magic_squares.py` that implements five functions that for two of them take as argument a list of lists $L$ to represent a (possibly magic) square, and for three of them take as argument a strictly positive integer $n$ to represent the order of a magic square:\n",
    "\n",
    "* `print_square(L)` that displays a square with each element right aligned within a field width of size the number of digits in the largest element of the square; \n",
    "* `is_magic_square(L)` that returns `True` or `False` depending on whether its argument represents or not a magic square;\n",
    "* `bachet_magic_square(n)` that given a stricty positive odd integer $n$ as argument, returns a list of lists that represents the magic square of order $n$ obtained by the Brachet method.\n",
    "* `siamese_magic_square(n)` that given a stricty positive odd integer $n$ as argument, returns a list of lists that represents the magic square of order $n$ obtained by the Siamese method.\n",
    "* `lux_magic_square(n)` that given an integer $n$ of the form $4k+2$ with $k$ a strictly positive integer as argument, returns a list of lists that represents the magic square of order $n$ obtained by the LUX method."
   ]
  },
  {
   "cell_type": "markdown",
   "metadata": {},
   "source": [
    "## Tests"
   ]
  },
  {
   "cell_type": "markdown",
   "metadata": {},
   "source": [
    "### Displaying a magic square"
   ]
  },
  {
   "cell_type": "markdown",
   "metadata": {},
   "source": [
    "Defining the command to execute and test:"
   ]
  },
  {
   "cell_type": "code",
   "execution_count": null,
   "metadata": {},
   "outputs": [],
   "source": [
    "statements = \"'from magic_squares import *; \"\\\n",
    "             \"print_square([[2,7,6], [9,5,1], [4,3,8]])'\"\n",
    "%env COMMAND_TO_EXECUTE=python3 -c $statements"
   ]
  },
  {
   "cell_type": "markdown",
   "metadata": {},
   "source": [
    "Executing the command and capturing its output:"
   ]
  },
  {
   "cell_type": "code",
   "execution_count": null,
   "metadata": {},
   "outputs": [],
   "source": [
    "execute_command"
   ]
  },
  {
   "cell_type": "markdown",
   "metadata": {},
   "source": [
    "Examining the output:"
   ]
  },
  {
   "cell_type": "code",
   "execution_count": null,
   "metadata": {},
   "outputs": [],
   "source": [
    "test_against('2 7 6\\n9 5 1\\n4 3 8\\n')"
   ]
  },
  {
   "cell_type": "markdown",
   "metadata": {},
   "source": [
    "### Checking that a square is magic"
   ]
  },
  {
   "cell_type": "markdown",
   "metadata": {},
   "source": [
    "Defining the command to execute and test:"
   ]
  },
  {
   "cell_type": "code",
   "execution_count": null,
   "metadata": {},
   "outputs": [],
   "source": [
    "statements = \"'from magic_squares import *; \"\\\n",
    "             \"print(is_magic_square([[2,7,6], [9,5,1], [4,3,8]]))'\"\n",
    "%env COMMAND_TO_EXECUTE=python3 -c $statements"
   ]
  },
  {
   "cell_type": "markdown",
   "metadata": {},
   "source": [
    "Executing the command and capturing its output:"
   ]
  },
  {
   "cell_type": "code",
   "execution_count": null,
   "metadata": {},
   "outputs": [],
   "source": [
    "execute_command"
   ]
  },
  {
   "cell_type": "markdown",
   "metadata": {},
   "source": [
    "Examining the output:"
   ]
  },
  {
   "cell_type": "code",
   "execution_count": null,
   "metadata": {},
   "outputs": [],
   "source": [
    "test_against('True\\n')"
   ]
  },
  {
   "cell_type": "markdown",
   "metadata": {},
   "source": [
    "### Displaying a nonmagic square"
   ]
  },
  {
   "cell_type": "markdown",
   "metadata": {},
   "source": [
    "Defining the command to execute and test:"
   ]
  },
  {
   "cell_type": "code",
   "execution_count": null,
   "metadata": {},
   "outputs": [],
   "source": [
    "statements = \"'from magic_squares import *; \"\\\n",
    "             \"print_square([[2,7,6], [1,5,9], [4,3,8]])'\"\n",
    "%env COMMAND_TO_EXECUTE=python3 -c $statements"
   ]
  },
  {
   "cell_type": "markdown",
   "metadata": {},
   "source": [
    "Executing the command and capturing its output:"
   ]
  },
  {
   "cell_type": "code",
   "execution_count": null,
   "metadata": {},
   "outputs": [],
   "source": [
    "execute_command"
   ]
  },
  {
   "cell_type": "markdown",
   "metadata": {},
   "source": [
    "Examining the output:"
   ]
  },
  {
   "cell_type": "code",
   "execution_count": null,
   "metadata": {},
   "outputs": [],
   "source": [
    "test_against('2 7 6\\n1 5 9\\n4 3 8\\n')"
   ]
  },
  {
   "cell_type": "markdown",
   "metadata": {},
   "source": [
    "### Checking that a square is not magic"
   ]
  },
  {
   "cell_type": "markdown",
   "metadata": {},
   "source": [
    "Defining the command to execute and test:"
   ]
  },
  {
   "cell_type": "code",
   "execution_count": null,
   "metadata": {},
   "outputs": [],
   "source": [
    "statements = \"'from magic_squares import *; \"\\\n",
    "             \"print(is_magic_square([[2,7,6], [1,5,9], [4,3,8]]))'\"\n",
    "%env COMMAND_TO_EXECUTE=python3 -c $statements"
   ]
  },
  {
   "cell_type": "markdown",
   "metadata": {},
   "source": [
    "Executing the command and capturing its output:"
   ]
  },
  {
   "cell_type": "code",
   "execution_count": null,
   "metadata": {},
   "outputs": [],
   "source": [
    "execute_command"
   ]
  },
  {
   "cell_type": "markdown",
   "metadata": {},
   "source": [
    "Examining the output:"
   ]
  },
  {
   "cell_type": "code",
   "execution_count": null,
   "metadata": {},
   "outputs": [],
   "source": [
    "test_against('False\\n')"
   ]
  },
  {
   "cell_type": "markdown",
   "metadata": {},
   "source": [
    "### Displaying the magic square of order 7 obtained by the Bachet method"
   ]
  },
  {
   "cell_type": "markdown",
   "metadata": {},
   "source": [
    "Defining the command to execute and test:"
   ]
  },
  {
   "cell_type": "code",
   "execution_count": null,
   "metadata": {},
   "outputs": [],
   "source": [
    "statements = \"'from magic_squares import *; \"\\\n",
    "             \"print_square(bachet_magic_square(7))'\"\n",
    "%env COMMAND_TO_EXECUTE=python3 -c $statements"
   ]
  },
  {
   "cell_type": "markdown",
   "metadata": {},
   "source": [
    "Executing the command and capturing its output:"
   ]
  },
  {
   "cell_type": "code",
   "execution_count": null,
   "metadata": {},
   "outputs": [],
   "source": [
    "execute_command"
   ]
  },
  {
   "cell_type": "markdown",
   "metadata": {},
   "source": [
    "Examining the output:"
   ]
  },
  {
   "cell_type": "code",
   "execution_count": null,
   "metadata": {},
   "outputs": [],
   "source": [
    "test_against('22 47 16 41 10 35  4\\n'\n",
    "             ' 5 23 48 17 42 11 29\\n'\n",
    "             '30  6 24 49 18 36 12\\n'\n",
    "             '13 31  7 25 43 19 37\\n'\n",
    "             '38 14 32  1 26 44 20\\n'\n",
    "             '21 39  8 33  2 27 45\\n'\n",
    "             '46 15 40  9 34  3 28\\n'\n",
    "            )"
   ]
  },
  {
   "cell_type": "markdown",
   "metadata": {},
   "source": [
    "### Displaying the magic square of order 7 obtained by the Siamese method"
   ]
  },
  {
   "cell_type": "markdown",
   "metadata": {},
   "source": [
    "Defining the command to execute and test:"
   ]
  },
  {
   "cell_type": "code",
   "execution_count": null,
   "metadata": {},
   "outputs": [],
   "source": [
    "statements = \"'from magic_squares import *; \"\\\n",
    "             \"print_square(siamese_magic_square(7))'\"\n",
    "%env COMMAND_TO_EXECUTE=python3 -c $statements"
   ]
  },
  {
   "cell_type": "markdown",
   "metadata": {},
   "source": [
    "Executing the command and capturing its output:"
   ]
  },
  {
   "cell_type": "code",
   "execution_count": null,
   "metadata": {},
   "outputs": [],
   "source": [
    "execute_command"
   ]
  },
  {
   "cell_type": "markdown",
   "metadata": {},
   "source": [
    "Examining the output:"
   ]
  },
  {
   "cell_type": "code",
   "execution_count": null,
   "metadata": {
    "scrolled": true
   },
   "outputs": [],
   "source": [
    "test_against('30 39 48  1 10 19 28\\n'\n",
    "             '38 47  7  9 18 27 29\\n'\n",
    "             '46  6  8 17 26 35 37\\n'\n",
    "             ' 5 14 16 25 34 36 45\\n'\n",
    "             '13 15 24 33 42 44  4\\n'\n",
    "             '21 23 32 41 43  3 12\\n'\n",
    "             '22 31 40 49  2 11 20\\n'\n",
    "            )"
   ]
  },
  {
   "cell_type": "markdown",
   "metadata": {},
   "source": [
    "### Displaying the magic square of order 10 obtained by the LUX method"
   ]
  },
  {
   "cell_type": "markdown",
   "metadata": {},
   "source": [
    "Defining the command to execute and test:"
   ]
  },
  {
   "cell_type": "code",
   "execution_count": null,
   "metadata": {},
   "outputs": [],
   "source": [
    "statements = \"'from magic_squares import *; \"\\\n",
    "             \"print_square(lux_magic_square(10))'\"\n",
    "%env COMMAND_TO_EXECUTE=python3 -c $statements"
   ]
  },
  {
   "cell_type": "markdown",
   "metadata": {},
   "source": [
    "Executing the command and capturing its output:"
   ]
  },
  {
   "cell_type": "code",
   "execution_count": null,
   "metadata": {},
   "outputs": [],
   "source": [
    "execute_command"
   ]
  },
  {
   "cell_type": "markdown",
   "metadata": {},
   "source": [
    "Examining the output:"
   ]
  },
  {
   "cell_type": "code",
   "execution_count": null,
   "metadata": {
    "scrolled": true
   },
   "outputs": [],
   "source": [
    "test_against(' 68  65  96  93   4   1  32  29  60  57\\n'\n",
    "             ' 66  67  94  95   2   3  30  31  58  59\\n'\n",
    "             ' 92  89  20  17  28  25  56  53  64  61\\n'\n",
    "             ' 90  91  18  19  26  27  54  55  62  63\\n'\n",
    "             ' 16  13  24  21  49  52  80  77  88  85\\n'\n",
    "             ' 14  15  22  23  50  51  78  79  86  87\\n'\n",
    "             ' 37  40  45  48  76  73  81  84   9  12\\n'\n",
    "             ' 38  39  46  47  74  75  82  83  10  11\\n'\n",
    "             ' 41  44  69  72  97 100   5   8  33  36\\n'\n",
    "             ' 43  42  71  70  99  98   7   6  35  34\\n'\n",
    "            )"
   ]
  }
 ],
 "metadata": {
  "kernelspec": {
   "display_name": "Python 3 (ipykernel)",
   "language": "python",
   "name": "python3"
  },
  "language_info": {
   "codemirror_mode": {
    "name": "ipython",
    "version": 3
   },
   "file_extension": ".py",
   "mimetype": "text/x-python",
   "name": "python",
   "nbconvert_exporter": "python",
   "pygments_lexer": "ipython3",
   "version": "3.9.7"
  },
  "latex_envs": {
   "LaTeX_envs_menu_present": true,
   "autoclose": false,
   "autocomplete": true,
   "bibliofile": "biblio.bib",
   "cite_by": "apalike",
   "current_citInitial": 1,
   "eqLabelWithNumbers": true,
   "eqNumInitial": 1,
   "hotkeys": {
    "equation": "Ctrl-E",
    "itemize": "Ctrl-I"
   },
   "labels_anchors": false,
   "latex_user_defs": false,
   "report_style_numbering": false,
   "user_envs_cfg": false
  },
  "toc": {
   "base_numbering": 1,
   "nav_menu": {},
   "number_sections": true,
   "sideBar": true,
   "skip_h1_title": false,
   "title_cell": "Table of Contents",
   "title_sidebar": "Contents",
   "toc_cell": false,
   "toc_position": {},
   "toc_section_display": true,
   "toc_window_display": false
  }
 },
 "nbformat": 4,
 "nbformat_minor": 4
}
