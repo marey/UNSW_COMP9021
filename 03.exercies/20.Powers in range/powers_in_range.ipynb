{
 "cells": [
  {
   "cell_type": "code",
   "execution_count": null,
   "metadata": {},
   "outputs": [],
   "source": [
    "load_ext run_and_test"
   ]
  },
  {
   "cell_type": "markdown",
   "metadata": {},
   "source": [
    "# Task"
   ]
  },
  {
   "cell_type": "markdown",
   "metadata": {},
   "source": [
    "Write a program `powers_in_range.py` that prompts the user for two positive integers $m$ and $n$, computes all triples $(b,p,k)$ such that:\n",
    "\n",
    "* $b,p\\geq 2$,\n",
    "* $k = b^p$,\n",
    "* $m\\leq k\\leq n$\n",
    "\n",
    "and for each such triple prints out on a line `k = b^p`. The equalities should be listed from smallest $k$ to largest $k$, and for a given $k$ from smallest $b$ to largest $b$. The numbers $k$ should be right aligned in a field of width the number of digits in the largest value of $k$."
   ]
  },
  {
   "cell_type": "markdown",
   "metadata": {},
   "source": [
    "# Tests"
   ]
  },
  {
   "cell_type": "markdown",
   "metadata": {},
   "source": [
    "## From 0 to 1"
   ]
  },
  {
   "cell_type": "code",
   "execution_count": null,
   "metadata": {},
   "outputs": [],
   "source": [
    "%%run_and_test -i'0 1\\n' python3 powers_in_range.py\n",
    "\n",
    "'Input two positive integers: ', '0 1\\n'"
   ]
  },
  {
   "cell_type": "markdown",
   "metadata": {},
   "source": [
    "## From 1000 to 2"
   ]
  },
  {
   "cell_type": "code",
   "execution_count": null,
   "metadata": {},
   "outputs": [],
   "source": [
    "%%run_and_test -i'1000 2\\n' python3 powers_in_range.py\n",
    "\n",
    "'Input two positive integers: ', '1000 2\\n'"
   ]
  },
  {
   "cell_type": "markdown",
   "metadata": {},
   "source": [
    "## From 17 to 21"
   ]
  },
  {
   "cell_type": "code",
   "execution_count": null,
   "metadata": {},
   "outputs": [],
   "source": [
    "%%run_and_test -i'17 21\\n' python3 powers_in_range.py\n",
    "\n",
    "'Input two positive integers: ', '17 21\\n',"
   ]
  },
  {
   "cell_type": "markdown",
   "metadata": {},
   "source": [
    "## From 12 to 34"
   ]
  },
  {
   "cell_type": "code",
   "execution_count": null,
   "metadata": {},
   "outputs": [],
   "source": [
    "%%run_and_test -i'12 34\\n' python3 powers_in_range.py\n",
    "\n",
    "'Input two positive integers: ', '12 34\\n',\n",
    "'''\n",
    "16 = 2^4\\n\n",
    "16 = 4^2\\n\n",
    "25 = 5^2\\n\n",
    "27 = 3^3\\n\n",
    "32 = 2^5\\n\n",
    "'''"
   ]
  },
  {
   "cell_type": "markdown",
   "metadata": {},
   "source": [
    "## From 17 to 210"
   ]
  },
  {
   "cell_type": "code",
   "execution_count": null,
   "metadata": {},
   "outputs": [],
   "source": [
    "%%run_and_test -i'17 210\\n' python3 powers_in_range.py\n",
    "\n",
    "'Input two positive integers: ', '17 210\\n',\n",
    "'''\n",
    " 25 = 5^2\\n\n",
    " 27 = 3^3\\n\n",
    " 32 = 2^5\\n\n",
    " 36 = 6^2\\n\n",
    " 49 = 7^2\\n\n",
    " 64 = 2^6\\n\n",
    " 64 = 4^3\\n\n",
    " 64 = 8^2\\n\n",
    " 81 = 3^4\\n\n",
    " 81 = 9^2\\n\n",
    "100 = 10^2\\n\n",
    "121 = 11^2\\n\n",
    "125 = 5^3\\n\n",
    "128 = 2^7\\n\n",
    "144 = 12^2\\n\n",
    "169 = 13^2\\n\n",
    "196 = 14^2\\n\n",
    "'''"
   ]
  },
  {
   "cell_type": "markdown",
   "metadata": {},
   "source": [
    "## From 56 to 78"
   ]
  },
  {
   "cell_type": "code",
   "execution_count": null,
   "metadata": {},
   "outputs": [],
   "source": [
    "%%run_and_test -i'56 78\\n' python3 powers_in_range.py\n",
    "\n",
    "'Input two positive integers: ', '56 78\\n',\n",
    "'''\n",
    "64 = 2^6\\n\n",
    "64 = 4^3\\n\n",
    "64 = 8^2\\n\n",
    "'''"
   ]
  },
  {
   "cell_type": "markdown",
   "metadata": {},
   "source": [
    "## From 56345 to 66456"
   ]
  },
  {
   "cell_type": "code",
   "execution_count": null,
   "metadata": {},
   "outputs": [],
   "source": [
    "%%run_and_test -i'56345 66456\\n' python3 powers_in_range.py\n",
    "\n",
    "'Input two positive integers: ', '56345 66456\\n',\n",
    "'''\n",
    "56644 = 238^2\\n\n",
    "57121 = 239^2\\n\n",
    "57600 = 240^2\\n\n",
    "58081 = 241^2\\n\n",
    "58564 = 242^2\\n\n",
    "59049 = 3^10\\n\n",
    "59049 = 9^5\\n\n",
    "59049 = 243^2\\n\n",
    "59319 = 39^3\\n\n",
    "59536 = 244^2\\n\n",
    "60025 = 245^2\\n\n",
    "60516 = 246^2\\n\n",
    "61009 = 247^2\\n\n",
    "61504 = 248^2\\n\n",
    "62001 = 249^2\\n\n",
    "62500 = 250^2\\n\n",
    "63001 = 251^2\\n\n",
    "63504 = 252^2\\n\n",
    "64000 = 40^3\\n\n",
    "64009 = 253^2\\n\n",
    "64516 = 254^2\\n\n",
    "65025 = 255^2\\n\n",
    "65536 = 2^16\\n\n",
    "65536 = 4^8\\n\n",
    "65536 = 16^4\\n\n",
    "65536 = 256^2\\n\n",
    "66049 = 257^2\\n\n",
    "'''"
   ]
  },
  {
   "cell_type": "markdown",
   "metadata": {},
   "source": [
    "## From 110500 to 117700"
   ]
  },
  {
   "cell_type": "code",
   "execution_count": null,
   "metadata": {},
   "outputs": [],
   "source": [
    "%%run_and_test -i'110500 117700\\n' python3 powers_in_range.py\n",
    "\n",
    "'Input two positive integers: ', '110500 117700\\n',\n",
    "'''\n",
    "110592 = 48^3\\n\n",
    "110889 = 333^2\\n\n",
    "111556 = 334^2\\n\n",
    "112225 = 335^2\\n\n",
    "112896 = 336^2\\n\n",
    "113569 = 337^2\\n\n",
    "114244 = 338^2\\n\n",
    "114921 = 339^2\\n\n",
    "115600 = 340^2\\n\n",
    "116281 = 341^2\\n\n",
    "116964 = 342^2\\n\n",
    "117649 = 7^6\\n\n",
    "117649 = 49^3\\n\n",
    "117649 = 343^2\\n\n",
    "'''"
   ]
  },
  {
   "cell_type": "markdown",
   "metadata": {},
   "source": [
    "## From 1000000 to 1068003"
   ]
  },
  {
   "cell_type": "code",
   "execution_count": null,
   "metadata": {},
   "outputs": [],
   "source": [
    "%%run_and_test -i'1000000 1068003\\n' python3 powers_in_range.py\n",
    "\n",
    "'Input two positive integers: ', '1000000 1068003\\n',\n",
    "'''\n",
    "1000000 = 10^6\\n\n",
    "1000000 = 100^3\\n\n",
    "1000000 = 1000^2\\n\n",
    "1002001 = 1001^2\\n\n",
    "1004004 = 1002^2\\n\n",
    "1006009 = 1003^2\\n\n",
    "1008016 = 1004^2\\n\n",
    "1010025 = 1005^2\\n\n",
    "1012036 = 1006^2\\n\n",
    "1014049 = 1007^2\\n\n",
    "1016064 = 1008^2\\n\n",
    "1018081 = 1009^2\\n\n",
    "1020100 = 1010^2\\n\n",
    "1022121 = 1011^2\\n\n",
    "1024144 = 1012^2\\n\n",
    "1026169 = 1013^2\\n\n",
    "1028196 = 1014^2\\n\n",
    "1030225 = 1015^2\\n\n",
    "1030301 = 101^3\\n\n",
    "1032256 = 1016^2\\n\n",
    "1034289 = 1017^2\\n\n",
    "1036324 = 1018^2\\n\n",
    "1038361 = 1019^2\\n\n",
    "1040400 = 1020^2\\n\n",
    "1042441 = 1021^2\\n\n",
    "1044484 = 1022^2\\n\n",
    "1046529 = 1023^2\\n\n",
    "1048576 = 2^20\\n\n",
    "1048576 = 4^10\\n\n",
    "1048576 = 16^5\\n\n",
    "1048576 = 32^4\\n\n",
    "1048576 = 1024^2\\n\n",
    "1050625 = 1025^2\\n\n",
    "1052676 = 1026^2\\n\n",
    "1054729 = 1027^2\\n\n",
    "1056784 = 1028^2\\n\n",
    "1058841 = 1029^2\\n\n",
    "1060900 = 1030^2\\n\n",
    "1061208 = 102^3\\n\n",
    "1062961 = 1031^2\\n\n",
    "1065024 = 1032^2\\n\n",
    "1067089 = 1033^2\\n\n",
    "'''"
   ]
  },
  {
   "cell_type": "markdown",
   "metadata": {},
   "source": [
    "## From 342344342 to 344544342"
   ]
  },
  {
   "cell_type": "code",
   "execution_count": null,
   "metadata": {},
   "outputs": [],
   "source": [
    "%%run_and_test -s20000 -i'342344342 344544342\\n' python3 powers_in_range.py\n",
    "\n",
    "'Input two positive integers: ', '342344342 344544342\\n',\n",
    "'''\n",
    "342361009 = 18503^2\\n\n",
    "342398016 = 18504^2\\n\n",
    "342435025 = 18505^2\\n\n",
    "342472036 = 18506^2\\n\n",
    "342509049 = 18507^2\\n\n",
    "342546064 = 18508^2\\n\n",
    "342583081 = 18509^2\\n\n",
    "342620100 = 18510^2\\n\n",
    "342657121 = 18511^2\\n\n",
    "342694144 = 18512^2\\n\n",
    "342731169 = 18513^2\\n\n",
    "342768196 = 18514^2\\n\n",
    "342805225 = 18515^2\\n\n",
    "342842256 = 18516^2\\n\n",
    "342879289 = 18517^2\\n\n",
    "342916324 = 18518^2\\n\n",
    "342953361 = 18519^2\\n\n",
    "342990400 = 18520^2\\n\n",
    "343000000 = 700^3\\n\n",
    "343027441 = 18521^2\\n\n",
    "343064484 = 18522^2\\n\n",
    "343101529 = 18523^2\\n\n",
    "343138576 = 18524^2\\n\n",
    "343175625 = 18525^2\\n\n",
    "343212676 = 18526^2\\n\n",
    "343249729 = 18527^2\\n\n",
    "343286784 = 18528^2\\n\n",
    "343323841 = 18529^2\\n\n",
    "343360900 = 18530^2\\n\n",
    "343397961 = 18531^2\\n\n",
    "343435024 = 18532^2\\n\n",
    "343472089 = 18533^2\\n\n",
    "343509156 = 18534^2\\n\n",
    "343546225 = 18535^2\\n\n",
    "343583296 = 18536^2\\n\n",
    "343620369 = 18537^2\\n\n",
    "343657444 = 18538^2\\n\n",
    "343694521 = 18539^2\\n\n",
    "343731600 = 18540^2\\n\n",
    "343768681 = 18541^2\\n\n",
    "343805764 = 18542^2\\n\n",
    "343842849 = 18543^2\\n\n",
    "343879936 = 18544^2\\n\n",
    "343917025 = 18545^2\\n\n",
    "343954116 = 18546^2\\n\n",
    "343991209 = 18547^2\\n\n",
    "344028304 = 18548^2\\n\n",
    "344065401 = 18549^2\\n\n",
    "344102500 = 18550^2\\n\n",
    "344139601 = 18551^2\\n\n",
    "344176704 = 18552^2\\n\n",
    "344213809 = 18553^2\\n\n",
    "344250916 = 18554^2\\n\n",
    "344288025 = 18555^2\\n\n",
    "344325136 = 18556^2\\n\n",
    "344362249 = 18557^2\\n\n",
    "344399364 = 18558^2\\n\n",
    "344436481 = 18559^2\\n\n",
    "344472101 = 701^3\\n\n",
    "344473600 = 18560^2\\n\n",
    "344510721 = 18561^2\\n\n",
    "'''"
   ]
  },
  {
   "cell_type": "markdown",
   "metadata": {},
   "source": [
    "## From 34359738368 to 34359848368"
   ]
  },
  {
   "cell_type": "code",
   "execution_count": null,
   "metadata": {},
   "outputs": [],
   "source": [
    "%%run_and_test -i'34359738368 34359848368\\n' python3 powers_in_range.py\n",
    "\n",
    "'Input two positive integers: ', '34359738368 34359848368\\n',\n",
    "'''\n",
    "34359738368 = 2^35\\n\n",
    "34359738368 = 32^7\\n\n",
    "34359738368 = 128^5\\n\n",
    "34359812496 = 185364^2\\n\n",
    "34359822251 = 3251^3\\n\n",
    "'''"
   ]
  },
  {
   "cell_type": "markdown",
   "metadata": {},
   "source": [
    "## From 274877906943 to 274878926944"
   ]
  },
  {
   "cell_type": "code",
   "execution_count": null,
   "metadata": {},
   "outputs": [],
   "source": [
    "%%run_and_test -i'274877906943 274878926944\\n' python3 powers_in_range.py\n",
    "\n",
    "'Input two positive integers: ', '274877906943 274878926944\\n',\n",
    "'''\n",
    "274877906944 = 2^38\\n\n",
    "274877906944 = 4^19\\n\n",
    "274877906944 = 524288^2\\n\n",
    "274878578008 = 6502^3\\n\n",
    "'''"
   ]
  }
 ],
 "metadata": {
  "kernelspec": {
   "display_name": "Python 3 (ipykernel)",
   "language": "python",
   "name": "python3"
  },
  "language_info": {
   "codemirror_mode": {
    "name": "ipython",
    "version": 3
   },
   "file_extension": ".py",
   "mimetype": "text/x-python",
   "name": "python",
   "nbconvert_exporter": "python",
   "pygments_lexer": "ipython3",
   "version": "3.10.2"
  },
  "latex_envs": {
   "LaTeX_envs_menu_present": true,
   "autoclose": false,
   "autocomplete": true,
   "bibliofile": "biblio.bib",
   "cite_by": "apalike",
   "current_citInitial": 1,
   "eqLabelWithNumbers": true,
   "eqNumInitial": 1,
   "hotkeys": {
    "equation": "Ctrl-E",
    "itemize": "Ctrl-I"
   },
   "labels_anchors": false,
   "latex_user_defs": false,
   "report_style_numbering": false,
   "user_envs_cfg": false
  },
  "toc": {
   "base_numbering": 1,
   "nav_menu": {},
   "number_sections": true,
   "sideBar": true,
   "skip_h1_title": false,
   "title_cell": "Table of Contents",
   "title_sidebar": "Contents",
   "toc_cell": false,
   "toc_position": {},
   "toc_section_display": true,
   "toc_window_display": false
  },
  "widgets": {
   "application/vnd.jupyter.widget-state+json": {
    "state": {},
    "version_major": 2,
    "version_minor": 0
   }
  }
 },
 "nbformat": 4,
 "nbformat_minor": 4
}
