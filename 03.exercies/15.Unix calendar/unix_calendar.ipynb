{
 "cells": [
  {
   "cell_type": "code",
   "execution_count": null,
   "metadata": {},
   "outputs": [],
   "source": [
    "load_ext run_and_test"
   ]
  },
  {
   "cell_type": "markdown",
   "metadata": {},
   "source": [
    "# Background"
   ]
  },
  {
   "cell_type": "markdown",
   "metadata": {},
   "source": [
    "The _Gregorian calendar_ adopts the following rule for leap years (years when February has 29 rather than 28 days):\n",
    "\n",
    "   Every year that is exactly divisible by four is a leap year, except for years that are exactly divisible by 100, but these centurial years are leap years if they are exactly divisible by 400. For example, the years 1700, 1800, and 1900 are not leap years, but the year 2000 is.\n",
    "   \n",
    "See https://en.wikipedia.org/wiki/Gregorian_calendar for more information on the Gregorian calendar which the previous sentence is quoted from.\n",
    "\n",
    "The Unix `cal` command shows that September lost 11 days in 1752:"
   ]
  },
  {
   "cell_type": "code",
   "execution_count": null,
   "metadata": {},
   "outputs": [],
   "source": [
    "!cal 1752"
   ]
  },
  {
   "cell_type": "markdown",
   "metadata": {},
   "source": [
    "See https://en.wikipedia.org/wiki/1752 for the reason why."
   ]
  },
  {
   "cell_type": "markdown",
   "metadata": {},
   "source": [
    "# Task"
   ]
  },
  {
   "cell_type": "markdown",
   "metadata": {},
   "source": [
    "Without making use of the `calendar` module, write a program `unix_calendar.py` that provides the basic functionality of the Unix `cal` command, but lets weeks start on a Monday rather on a Sunday. The program prompts the user for a year or for a year and a month till the input is as expected.\n",
    "\n",
    "* Years should not be no earlier than 1753.\n",
    "* Month and year can be input in any order.\n",
    "* At least the first three letters of a month have to be provided, and each letter can be of any case.\n",
    "\n",
    "All lines consist of the same number of characters, and the longest lines have an extra space at both ends. The `center()` method from the `str` class can conveniently be used to center year, months, or month followed by year. "
   ]
  },
  {
   "cell_type": "markdown",
   "metadata": {},
   "source": [
    "# Tests"
   ]
  },
  {
   "cell_type": "markdown",
   "metadata": {},
   "source": [
    "## Year 2020"
   ]
  },
  {
   "cell_type": "code",
   "execution_count": null,
   "metadata": {},
   "outputs": [],
   "source": [
    "%%run_and_test -s20000 -i'2020 2020\\n2020\\n' python3 unix_calendar.py\n",
    "\n",
    "\"I will display a calendar, for a year or a month in a year.\\n\n",
    "The year should be no earlier than 1753.\\n\n",
    "Input at least the first three letters of the month's name, if any.\\n\n",
    "\\n\n",
    "Input year, or year and month, or month and year: \", '2020 2020\\n',\n",
    "'Wrong input. Input year, or year and month, or month and year: ', '2020\\n',\n",
    "'\\n\n",
    "                                2020                                \\n\n",
    "       January                February                March         \\n\n",
    " Mo Tu We Th Fr Sa Su   Mo Tu We Th Fr Sa Su   Mo Tu We Th Fr Sa Su \\n\n",
    "        1  2  3  4  5                   1  2                      1 \\n\n",
    "  6  7  8  9 10 11 12    3  4  5  6  7  8  9    2  3  4  5  6  7  8 \\n\n",
    " 13 14 15 16 17 18 19   10 11 12 13 14 15 16    9 10 11 12 13 14 15 \\n\n",
    " 20 21 22 23 24 25 26   17 18 19 20 21 22 23   16 17 18 19 20 21 22 \\n\n",
    " 27 28 29 30 31         24 25 26 27 28 29      23 24 25 26 27 28 29 \\n\n",
    "                                               30 31                \\n\n",
    "        April                   May                    June         \\n\n",
    " Mo Tu We Th Fr Sa Su   Mo Tu We Th Fr Sa Su   Mo Tu We Th Fr Sa Su \\n\n",
    "        1  2  3  4  5                1  2  3    1  2  3  4  5  6  7 \\n\n",
    "  6  7  8  9 10 11 12    4  5  6  7  8  9 10    8  9 10 11 12 13 14 \\n\n",
    " 13 14 15 16 17 18 19   11 12 13 14 15 16 17   15 16 17 18 19 20 21 \\n\n",
    " 20 21 22 23 24 25 26   18 19 20 21 22 23 24   22 23 24 25 26 27 28 \\n\n",
    " 27 28 29 30            25 26 27 28 29 30 31   29 30                \\n\n",
    "         July                  August               September       \\n\n",
    " Mo Tu We Th Fr Sa Su   Mo Tu We Th Fr Sa Su   Mo Tu We Th Fr Sa Su \\n\n",
    "        1  2  3  4  5                   1  2       1  2  3  4  5  6 \\n\n",
    "  6  7  8  9 10 11 12    3  4  5  6  7  8  9    7  8  9 10 11 12 13 \\n\n",
    " 13 14 15 16 17 18 19   10 11 12 13 14 15 16   14 15 16 17 18 19 20 \\n\n",
    " 20 21 22 23 24 25 26   17 18 19 20 21 22 23   21 22 23 24 25 26 27 \\n\n",
    " 27 28 29 30 31         24 25 26 27 28 29 30   28 29 30             \\n\n",
    "                        31                                          \\n\n",
    "       October                November               December       \\n\n",
    " Mo Tu We Th Fr Sa Su   Mo Tu We Th Fr Sa Su   Mo Tu We Th Fr Sa Su \\n\n",
    "           1  2  3  4                      1       1  2  3  4  5  6 \\n\n",
    "  5  6  7  8  9 10 11    2  3  4  5  6  7  8    7  8  9 10 11 12 13 \\n\n",
    " 12 13 14 15 16 17 18    9 10 11 12 13 14 15   14 15 16 17 18 19 20 \\n\n",
    " 19 20 21 22 23 24 25   16 17 18 19 20 21 22   21 22 23 24 25 26 27 \\n\n",
    " 26 27 28 29 30 31      23 24 25 26 27 28 29   28 29 30 31          \\n\n",
    "                        30                                          \\n'"
   ]
  },
  {
   "cell_type": "markdown",
   "metadata": {},
   "source": [
    "## February of the year 2030"
   ]
  },
  {
   "cell_type": "code",
   "execution_count": null,
   "metadata": {},
   "outputs": [],
   "source": [
    "user_input = 'Feb 2030 Feb\\nFeb\\nFe 2030\\nFeb 2030\\n'"
   ]
  },
  {
   "cell_type": "code",
   "execution_count": null,
   "metadata": {},
   "outputs": [],
   "source": [
    "%%run_and_test -i\"$user_input\" python3 unix_calendar.py\n",
    "\n",
    "\"I will display a calendar, for a year or a month in a year.\\n\n",
    "The year should be no earlier than 1753.\\n\n",
    "Input at least the first three letters of the month's name, if any.\\n\n",
    "\\n\n",
    "Input year, or year and month, or month and year: \", 'Feb 2030 Feb\\n',\n",
    "'Wrong input. Input year, or year and month, or month and year: ', 'Feb\\n',\n",
    "'Wrong input. Input year, or year and month, or month and year: ', 'Fe 2030\\n',\n",
    "'Wrong input. Input year, or year and month, or month and year: ',\n",
    "'Feb 2030\\n',\n",
    "'\\n\n",
    "    February 2030     \\n\n",
    " Mo Tu We Th Fr Sa Su \\n\n",
    "              1  2  3 \\n\n",
    "  4  5  6  7  8  9 10 \\n\n",
    " 11 12 13 14 15 16 17 \\n\n",
    " 18 19 20 21 22 23 24 \\n\n",
    " 25 26 27 28          \\n'"
   ]
  },
  {
   "cell_type": "markdown",
   "metadata": {},
   "source": [
    "## Year 1815"
   ]
  },
  {
   "cell_type": "code",
   "execution_count": null,
   "metadata": {},
   "outputs": [],
   "source": [
    "%%run_and_test -s20000 -i'1615 JULY\\n1815\\n' python3 unix_calendar.py\n",
    "\n",
    "\"I will display a calendar, for a year or a month in a year.\\n\n",
    "The year should be no earlier than 1753.\\n\n",
    "Input at least the first three letters of the month's name, if any.\\n\n",
    "\\n\n",
    "Input year, or year and month, or month and year: \", '1615 JULY\\n',\n",
    "'Wrong input. Input year, or year and month, or month and year: ', '1815\\n',\n",
    "'\\n\n",
    "                                1815                                \\n\n",
    "       January                February                March         \\n\n",
    " Mo Tu We Th Fr Sa Su   Mo Tu We Th Fr Sa Su   Mo Tu We Th Fr Sa Su \\n\n",
    "                    1          1  2  3  4  5          1  2  3  4  5 \\n\n",
    "  2  3  4  5  6  7  8    6  7  8  9 10 11 12    6  7  8  9 10 11 12 \\n\n",
    "  9 10 11 12 13 14 15   13 14 15 16 17 18 19   13 14 15 16 17 18 19 \\n\n",
    " 16 17 18 19 20 21 22   20 21 22 23 24 25 26   20 21 22 23 24 25 26 \\n\n",
    " 23 24 25 26 27 28 29   27 28                  27 28 29 30 31       \\n\n",
    " 30 31                                                              \\n\n",
    "        April                   May                    June         \\n\n",
    " Mo Tu We Th Fr Sa Su   Mo Tu We Th Fr Sa Su   Mo Tu We Th Fr Sa Su \\n\n",
    "                 1  2    1  2  3  4  5  6  7             1  2  3  4 \\n\n",
    "  3  4  5  6  7  8  9    8  9 10 11 12 13 14    5  6  7  8  9 10 11 \\n\n",
    " 10 11 12 13 14 15 16   15 16 17 18 19 20 21   12 13 14 15 16 17 18 \\n\n",
    " 17 18 19 20 21 22 23   22 23 24 25 26 27 28   19 20 21 22 23 24 25 \\n\n",
    " 24 25 26 27 28 29 30   29 30 31               26 27 28 29 30       \\n\n",
    "         July                  August               September       \\n\n",
    " Mo Tu We Th Fr Sa Su   Mo Tu We Th Fr Sa Su   Mo Tu We Th Fr Sa Su \\n\n",
    "                 1  2       1  2  3  4  5  6                1  2  3 \\n\n",
    "  3  4  5  6  7  8  9    7  8  9 10 11 12 13    4  5  6  7  8  9 10 \\n\n",
    " 10 11 12 13 14 15 16   14 15 16 17 18 19 20   11 12 13 14 15 16 17 \\n\n",
    " 17 18 19 20 21 22 23   21 22 23 24 25 26 27   18 19 20 21 22 23 24 \\n\n",
    " 24 25 26 27 28 29 30   28 29 30 31            25 26 27 28 29 30    \\n\n",
    " 31                                                                 \\n\n",
    "       October                November               December       \\n\n",
    " Mo Tu We Th Fr Sa Su   Mo Tu We Th Fr Sa Su   Mo Tu We Th Fr Sa Su \\n\n",
    "                    1          1  2  3  4  5                1  2  3 \\n\n",
    "  2  3  4  5  6  7  8    6  7  8  9 10 11 12    4  5  6  7  8  9 10 \\n\n",
    "  9 10 11 12 13 14 15   13 14 15 16 17 18 19   11 12 13 14 15 16 17 \\n\n",
    " 16 17 18 19 20 21 22   20 21 22 23 24 25 26   18 19 20 21 22 23 24 \\n\n",
    " 23 24 25 26 27 28 29   27 28 29 30            25 26 27 28 29 30 31 \\n\n",
    " 30 31                                                              \\n'"
   ]
  },
  {
   "cell_type": "markdown",
   "metadata": {},
   "source": [
    "## August of the year 8573"
   ]
  },
  {
   "cell_type": "code",
   "execution_count": null,
   "metadata": {},
   "outputs": [],
   "source": [
    "%%run_and_test -i'8573 AUGUSTE\\n8573 AUGU\\n' python3 unix_calendar.py\n",
    "\n",
    "\n",
    "\"I will display a calendar, for a year or a month in a year.\\n\n",
    "The year should be no earlier than 1753.\\n\n",
    "Input at least the first three letters of the month's name, if any.\\n\n",
    "\\n\n",
    "Input year, or year and month, or month and year: \", '8573 AUGUSTE\\n',\n",
    "'Wrong input. Input year, or year and month, or month and year: ',\n",
    "'8573 AUGU\\n',\n",
    "'\\n\n",
    "     August 8573      \\n\n",
    " Mo Tu We Th Fr Sa Su \\n\n",
    "                    1 \\n\n",
    "  2  3  4  5  6  7  8 \\n\n",
    "  9 10 11 12 13 14 15 \\n\n",
    " 16 17 18 19 20 21 22 \\n\n",
    " 23 24 25 26 27 28 29 \\n\n",
    " 30 31                \\n'"
   ]
  }
 ],
 "metadata": {
  "kernelspec": {
   "display_name": "Python 3 (ipykernel)",
   "language": "python",
   "name": "python3"
  },
  "language_info": {
   "codemirror_mode": {
    "name": "ipython",
    "version": 3
   },
   "file_extension": ".py",
   "mimetype": "text/x-python",
   "name": "python",
   "nbconvert_exporter": "python",
   "pygments_lexer": "ipython3",
   "version": "3.10.2"
  },
  "latex_envs": {
   "LaTeX_envs_menu_present": true,
   "autoclose": false,
   "autocomplete": true,
   "bibliofile": "biblio.bib",
   "cite_by": "apalike",
   "current_citInitial": 1,
   "eqLabelWithNumbers": true,
   "eqNumInitial": 1,
   "hotkeys": {
    "equation": "Ctrl-E",
    "itemize": "Ctrl-I"
   },
   "labels_anchors": false,
   "latex_user_defs": false,
   "report_style_numbering": false,
   "user_envs_cfg": false
  },
  "toc": {
   "base_numbering": 1,
   "nav_menu": {},
   "number_sections": true,
   "sideBar": true,
   "skip_h1_title": false,
   "title_cell": "Table of Contents",
   "title_sidebar": "Contents",
   "toc_cell": false,
   "toc_position": {},
   "toc_section_display": true,
   "toc_window_display": false
  },
  "widgets": {
   "application/vnd.jupyter.widget-state+json": {
    "state": {},
    "version_major": 2,
    "version_minor": 0
   }
  }
 },
 "nbformat": 4,
 "nbformat_minor": 4
}
