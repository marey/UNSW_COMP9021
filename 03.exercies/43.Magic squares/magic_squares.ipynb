{
 "cells": [
  {
   "cell_type": "code",
   "execution_count": null,
   "metadata": {
    "jupyter": {
     "source_hidden": true
    },
    "tags": []
   },
   "outputs": [],
   "source": [
    "import zipfile\n",
    "with zipfile.ZipFile('Illustrations.zip') as illustrations:\n",
    "    illustrations.extractall('.')"
   ]
  },
  {
   "cell_type": "code",
   "execution_count": null,
   "metadata": {},
   "outputs": [],
   "source": [
    "load_ext run_and_test"
   ]
  },
  {
   "cell_type": "markdown",
   "metadata": {},
   "source": [
    "# Background"
   ]
  },
  {
   "cell_type": "markdown",
   "metadata": {},
   "source": [
    "Given a strictly positive integer $n$, a magic square of order $n$ is a matrix of size $n \\times n$\n",
    "that stores all numbers from 1 up to $n^2$ and such that the sum of the $n$ rows,\n",
    "the sum of the $n$ columns, and the sum of the two main diagonals is constant,\n",
    "hence equal to $n(n^2+1)/2$."
   ]
  },
  {
   "cell_type": "markdown",
   "metadata": {},
   "source": [
    "## The Bachet method"
   ]
  },
  {
   "cell_type": "markdown",
   "metadata": {},
   "source": [
    "Given an odd positive integer $n$, the Bachet method produces a magic square of order $n$. Taking $n=7$ as an example, this method proceeds as follows.\n",
    "\n",
    "* It starts with a square of size $2n-1$ by $2n-1$ filled according to the following pattern:\n",
    "\n",
    "<div><img src=\"Illustrations/bachet_1.pdf\" width=\"400\"/></div>\n",
    "\n",
    "Let us refer\n",
    "    * to $1,\\dots,7$ as the _first diagonal_, to $8,\\dots,14$ as the _second diagonal_, to $15,\\dots,21$ as the _third diagonal_...;\n",
    "    * to the square with 22 at the top left corner, 4 at the top right corner, 46 at the bottom left corner, and 28 at the top right corner, as the _central square_;\n",
    "    * to the equilateral triangles of height 3, above, to the right, below, and to the left of the central square, as the _cyan_, _orange_, _blue_, and _magenta_ triangles, respectively.\n",
    "\n",
    "* Then\n",
    "    * the cyan triangle is displaced all the way to the bottom of the central square, the numbers in the triangle replacing the corresponding cyan dots;\n",
    "    * the orange triangle is displaced all the way to the left of the central square, the numbers in the triangle replacing the corresponding orange dots;\n",
    "    * the blue triangle is displaced all the way to the top of the central square, the numbers in the triangle replacing the corresponding blue dots;\n",
    "    * the magenta triangle is displaced all the way to the right of the central square, the numbers in the triangle replacing the corresponding magenta dots.\n",
    "\n",
    "The resulting square is as shown below.\n",
    "\n",
    "<div><img src=\"Illustrations/bachet_2.pdf\" width=\"400\"/></div>\n",
    "\n",
    "Let us verify that it is a magic square. In the initial configuration, we can read\n",
    "* the numbers on the first diagonal as the sums $1+0,2+0,3+0,\\dots,n+0$;\n",
    "* the numbers on the second diagonal as the sums $1+n,2+n,3+n,\\dots,n+n$;\n",
    "* the numbers on the third diagonal as the sums $1+2n,2+2n,3+2n\\dots,n+2n$\n",
    "* ...\n",
    "* the numbers on the last diagonal as the sums $1+(n-1)n,2+(n-1)n,3+(n-1)n\\dots,n+(n-1)n$.\n",
    "\n",
    "In other words, each of the numbers $k$ between 1 and $n^2$ is written as the sum $\\Bigl(\\bigl((k-1)\\bmod n\\bigr)+1\\Bigr)+\\lfloor\\frac{k-1}{n}\\rfloor n$. This is illustrated below.\n",
    "\n",
    "<div><img src=\"Illustrations/bachet_3.pdf\" width=\"400\"/></div>\n",
    "\n",
    "This results in the following reading of the final configuration, after displacement of the cyan, orange, blue and magenta triangles to the central square. \n",
    "\n",
    "<div><img src=\"Illustrations/bachet_4.pdf\" width=\"400\"/></div>\n",
    "\n",
    "Observe the following.\n",
    "\n",
    "* Within the central square in its original configuration, there is no row and no column with two distinct numbers of the form $i_1+j_1n$ and $i_2+j_2n$ ($1\\leq i_1,i_2\\leq n$) with $i_1=i_2$ or $j_1=j_2$.\n",
    "* By moving down, the cyan triangle\n",
    "    * brings $\\lfloor\\frac{n}{2}\\rfloor$ numbers of the form $1+jn$ to each of the $\\lfloor\\frac{n}{2}\\rfloor$ many rows of the central square, at the bottom, that have no number of that form;\n",
    "    * brings $\\lfloor\\frac{n}{2}\\rfloor-1$ numbers of the form $2+jn$ to each of the $\\lfloor\\frac{n}{2}\\rfloor-1$ many rows of the central square, at the bottom, that have no number of that form;\n",
    "    * ...\n",
    "    * brings 1 number of the form $\\lfloor\\frac{n}{2}\\rfloor+jn$ to the unique row of the central square, at the bottom, that has no number of that form;\n",
    "    * brings $\\lfloor\\frac{n}{2}\\rfloor$ numbers of the form $i+0n$ ($1\\leq i\\leq n$) to each of the $\\lfloor\\frac{n}{2}\\rfloor$ many rows of the central square, at the bottom, that have no number of that form;\n",
    "    * brings $\\lfloor\\frac{n}{2}\\rfloor-1$ numbers of the form $i+1n$ ($1\\leq i\\leq n$) to each of the $\\lfloor\\frac{n}{2}\\rfloor-1$ many rows of the central square, at the bottom, that have no number of that form;\n",
    "    * ...\n",
    "    * brings 1 number of the form $i+(\\lfloor\\frac{n}{2}\\rfloor-1)n$ ($1\\leq i\\leq n$) to the unique row of the central square, at the bottom, that has no number of that form.\n",
    "    \n",
    "The observation on the cyan triangle can be immediately adapted to the orange, blue and magenta triangles. In combination with the first observation, the observations on the 4 triangles imply that within the central square in its final configuration, there is no row and no column with two distinct numbers of the form $i_1+j_1n$ and $i_2+j_2n$ ($1\\leq i_1,i_2\\leq n$) with $i_1=i_2$ or $j_1=j_2$. Hence each row and each column of the central square in its final configuration is equal to $(1+2+3+\\dots+n)+\\bigl(0+1+2+\\dots+(n-1)\\bigr)n$. It remains to check that this sum is also the sum of the elements on both the main diagonal and the antidiagonal, which notice, are complete in the original configuration of the central square. The sum of the numbers on the main diagonal is equal to $(1+2+3+\\dots+n)+n\\lfloor\\frac{n}{2}\\rfloor n$. The sum of the numbers on the antidiagonal is equal to $n\\frac{n+1}{2}+\\bigl(0+\\dots+(n-1)\\bigr)n$. As $n$ is odd, $\\lfloor\\frac{n}{2}\\rfloor=\\frac{n-1}{2}$, and all sums are equal to $\\frac{n(n+1)}{2}+\\frac{(n-1)n}{2}n=\\frac{n(n^2+1)}{2}$."
   ]
  },
  {
   "cell_type": "markdown",
   "metadata": {},
   "source": [
    "## The Siamese method"
   ]
  },
  {
   "cell_type": "markdown",
   "metadata": {},
   "source": [
    "Given an odd positive integer $n$, the Siamese method produces a magic square of order $n$. This method starts with 1 put at the centre of the first row, and having placed number $k < n^2$, places number $k+1$ by moving diagonally up and right by one cell, wrapping around when needed (as if a torus was made out of the square), unless that cell is already occupied, in which case $k+1$ is placed below the cell containing $k$. This is illustrated below for the case $n=7$.\n",
    "\n",
    "<div><img src=\"Illustrations/siamese_1.pdf\" width=\"300\"/></div>\n",
    "\n",
    "Writing again each of the numbers $k$ between 1 and $n^2$ as the sum $\\Bigl(\\bigl((k-1)\\bmod n\\bigr)+1\\Bigr)+\\lfloor\\frac{k-1}{n}\\rfloor n$, the whole square reads as follows.\n",
    "\n",
    "<div><img src=\"Illustrations/siamese_2.pdf\" width=\"300\"/></div>\n",
    "\n",
    "Observe that given $j\\in\\{0,\\dots,n-1\\}$, the numbers of the form $i+jn$, with $i$ ranging between 1 and $n$, form a diagonal (viewed as a closed loop on the torus made out of the square); also observe that those numbers are read in that order by moving up and around on the diagonal, starting at the intersection of the middle column and the first row of the square for the (orange) diagonal determined by $j=0$, starting at the intersection of the previous column and the third row of the square for the (lime) diagonal determined by $j=1$, starting at the intersection of the previous column and the fifth row of the square for the (cyan) diagonal determined by $j=2$... In particular, as $n$ is odd, all colored diagonals start on a different row. Therefore, there is no row and no column with two distinct numbers of the form $i_1+j_1n$ and $i_2+j_2n$ ($1\\leq i_1,i_2\\leq n$) with $i_1=i_2$ or $j_1=j_2$. Hence each row and each column of the square is equal to $(1+2+3+\\dots+n)+\\bigl(0+1+2+\\dots+(n-1)\\bigr)n$. It remains to check that this sum is also the sum of the elements on both the main diagonal and the antidiagonal. The antidiagonal consists of the $n$ numbers of the form $i+\\lfloor\\frac{n}{2}\\rfloor n$ for $i\\in\\{1,\\dots,n\\}$, which as $n$ is odd, add up to $\\frac{n(n+1)}{2}+n\\frac{(n-1)}{2}n$. Now for the main diagonal. Reading its numbers from the top left corner to the bottom right corner, we observe that if $n_1=i_1+j_1n$ and $n_2=i_2+j_2n$ ($1\\leq i_1,i_2\\leq n$) are one number and the one that follows on that diagonal, then $i_2=i_1+3\\bmod n$ and $j_2 = j_1+2\\bmod n$, because\n",
    "\n",
    "* $n_1$ and $n_2$ belong to two distinct colored diagonals, separated by one colored diagonal,\n",
    "* the beginning of the diagonal where $n_2$ is located is two columns to the left (wrapping around if needed) of the beginning of the diagonal where $n_1$ is located,\n",
    "* the column where $n_2$ is located is one column to the right (wrapping around if needed) of the column where $n_1$ is located, and\n",
    "* the numbers at the beginning of the diagonals where $n_1$ and $n_2$ are located are of the form $1+j_1n$ and $1+j_2n$, respectively.\n",
    "\n",
    "We infer the following.\n",
    "\n",
    "* As $n$ is odd, for all $j\\in\\{0,\\dots,n-1\\}$, the main diagonal contains a number of the form $i+jn$ ($1\\leq i\\leq n$).\n",
    "* If $n$ is not a multiple of 3, then for all $i\\in\\{1,\\dots,n\\}$, the main diagonal contains a number of the form $i+jn$. Suppose that $n$ is a multiple of 3. Set $S_1=1+4+7+\\dots+(n-2)$, $S_2=2+5+8+\\dots+(n-1)$, and $S_3=3+6+9+\\dots+n$. Clearly, each of $S_1$, $S_2$ and $S_3$ is a sum of $\\frac{n}{3}$ numbers, and since the summands of $S_2$ are between the corresponding summands of $S_1$ and $S_3$, $3S_2$ is equal to $S_1+S_2+S_3$, hence is the sum of all numbers between 1 and $n$. Also, note that the number on the middle of the main diagonal, at the centre of the square, is of the form $\\frac{n+1}{2}+jn$, and as $(2,5,8,\\dots,n-1)$ has an odd number of elements, $\\frac{n+1}{2}$ occurs in that sequence (in the middle). Hence for each of the $\\frac{n}{3}$ summands $j$ in $S_2$, there are three numbers on the main diagonal of the form $i+jn$ ($1\\leq i\\leq n$).\n",
    "\n",
    "This completes the verification that the main diagonal has the desired sum."
   ]
  },
  {
   "cell_type": "markdown",
   "metadata": {},
   "source": [
    "## The LUX method"
   ]
  },
  {
   "cell_type": "markdown",
   "metadata": {},
   "source": [
    "Given a strictly positive integer $k$ and a magic square $M$ of order $2k+1$, the LUX method produces a magic square of order $4*k + 2$. This method proceeds as follows.\n",
    "\n",
    "* Consider a matrix of size $2k+1$ by $2k+1$ that consists of:\n",
    "    * $k+1$ rows of Ls,\n",
    "    * 1 row of Us, and\n",
    "    * $k-1$ rows of Xs,\n",
    "\n",
    "and then exchange the L at the centre with the U below. For instance, with $k = 3$, the matrix is:\n",
    "\n",
    "        L  L  L  L  L  L  L\n",
    "        L  L  L  L  L  L  L\n",
    "        L  L  L  L  L  L  L\n",
    "        L  L  L  U  L  L  L\n",
    "        U  U  U  L  U  U  U\n",
    "        X  X  X  X  X  X  X\n",
    "        X  X  X  X  X  X  X\n",
    "\n",
    "* Explore each cell of this matrix as directed by $M$, and make its contents:\n",
    "    * if the cell is of type L,\n",
    "\n",
    "          k+4  k+1    \n",
    "          k+2  k+3\n",
    "\n",
    "    * if the cell is of type U,\n",
    "\n",
    "          k+1 k+4\n",
    "          k+2 k+3\n",
    "\n",
    "    * if the cell is of type X,\n",
    "\n",
    "          k+1 k+4\n",
    "          k+3 k+2\n",
    "\n",
    "with $k$ being the last number that has been used in the process (starting with $k=0$). (We will refer to the previous 3 matrices of size 2 by 2 as the L, U, and X patterns, respectively.)\n",
    " \n",
    "For instance, let $M$ be the magic square of order 7 obtained by applying the Siamese method, so $M$ is:\n",
    "\n",
    "        30 39 48  1 10 19 28\n",
    "        38 47  7  9 18 27 29\n",
    "        46  6  8 17 26 35 37\n",
    "         5 14 16 25 34 36 45\n",
    "        13 15 24 33 42 44  4\n",
    "        21 23 32 41 43  3 12\n",
    "        22 31 40 49  2 11 20\n",
    "\n",
    "The magic square obtained from $M$ by applying the LUX method is then:\n",
    " \n",
    "        120 117 156 153 192 189   4   1  40  37  76  73 112 109\n",
    "        118 119 154 155 190 191   2   3  38  39  74  75 110 111\n",
    "        152 149 188 185  28  25  36  33  72  69 108 105 116 113\n",
    "        150 151 186 187  26  27  34  35  70  71 106 107 114 115\n",
    "        184 181  24  21  32  29  68  65 104 101 140 137 148 145\n",
    "        182 183  22  23  30  31  66  67 102 103 138 139 146 147\n",
    "         20  17  56  53  64  61  97 100 136 133 144 141 180 177\n",
    "         18  19  54  55  62  63  98  99 134 135 142 143 178 179\n",
    "         49  52  57  60  93  96 132 129 165 168 173 176  13  16\n",
    "         50  51  58  59  94  95 130 131 166 167 174 175  14  15\n",
    "         81  84  89  92 125 128 161 164 169 172   9  12  45  48\n",
    "         83  82  91  90 127 126 163 162 171 170  11  10  47  46\n",
    "         85  88 121 124 157 160 193 196   5   8  41  44  77  80\n",
    "         87  86 123 122 159 158 195 194   7   6  43  42  79  78\n",
    "\n",
    "Let us check the validity of the LUX method. Let $n$ be an odd number at least equal to 3. We have seen that the numbers on a row, a column, the main diagonal, or the antidiagonal of a magic square of order $n$ add up to $S=\\frac{n(n^2+1)}{2}$. For a magic square of order $2n$, that expression becomes $\\frac{2n\\bigl((2n)^2+1\\bigr)}{2}=\\frac{n(8n^2+2)}{2}=8\\frac{n(n^2+1)}{2}-3n$, so $8S-3n$.\n",
    "\n",
    "Let $M$ be a magic square of order $n$, let $\\widetilde{M}$ be the matrix of Ls, Us and Xs of size $n$ times $n$ defined above, and let $\\widehat{M}$ be the square obtained from $M$ by applying the LUX method. Let $k\\in\\{1,\\dots,n^2\\}$ be given. When visiting for the $k$th time a cell $C$ of $\\widetilde{M}$, at the location where $M$ contains $k$, the numbers 1, 2, ..., $4(k-1)$ have been assigned to $4(k-1)$ cells in $\\widehat{M}$, and $4(k-1)+1$, $4(k-1)+2$, $4(k-1)+3$, $4(k-1)+4$ are about to be placed in the 4 cells of $\\widehat{M}$ that are associated with $C$.\n",
    "\n",
    "Let $(x_1, \\dots, x_n)$ be one of $M$'s row, say $R$. As both $4+1=5$ and $2+3=5$, it follows from the previous remark together with both lines that make up the L, U and X patterns that the two rows in $\\widehat{M}$ that are associated with $R$ consist of numbers that in both cases, add up to $\\bigl(8(x_1-1)+5\\bigr)+\\dots+\\bigl(8(x_n-1)+5\\bigr)=8(x_1+\\dots+x_n)-8n+5n=8(x_1+\\dots+x_n)-3n$. Hence all rows in $\\widehat{M}$ consist of numbers that add up to the right sum for $\\widehat{M}$ to be a magic square of order $2n$.\n",
    "\n",
    "The same kind of verification can be done for $\\widehat{M}$'s columns, $\\widehat{M}$'s main diagonal, and $\\widehat{M}$'s antidiagonal. Indeed, let $k$ be the integer such that $2k+1=n$.\n",
    "\n",
    "* For the odd columns of $\\widehat{M}$, determined by the first columns of the L, U and X patterns, note that $6(k+1)+3+4(k-1)=5n$.\n",
    "* For the even columns of $\\widehat{M}$, determined by the second columns of the L, U and X patterns, note that $4(k+1)+7+6(k-1)=5n$.\n",
    "* For the main diagonal of $\\widehat{M}$, determined by the main diagonals of the L, U and X patterns, note that $7k+4\\times 2+3(k-1)=5n$.\n",
    "* For the antidiagonal of $\\widehat{M}$, determined by the antidiagonals of the L, U and X patterns, note that $3k+6\\times 2+7(k-1)=5n$."
   ]
  },
  {
   "cell_type": "markdown",
   "metadata": {},
   "source": [
    "# Task"
   ]
  },
  {
   "cell_type": "markdown",
   "metadata": {},
   "source": [
    "Write a program `magic_squares.py` that implements five functions that for three of them take as argument a list of lists $L$ to represent a (possibly magic) square, and for two of them take as argument a strictly positive integer $n$ to represent the order of a magic square:\n",
    "\n",
    "* `print_square(L)` that displays a square with each element right aligned within a field width of size the number of digits in the largest element of the square; \n",
    "* `is_magic_square(L)` that returns `True` or `False` depending on whether its argument represents or not a magic square;\n",
    "* `bachet_magic_square(n)` that given a stricty positive odd integer $n$ as argument, returns a list of lists that represents the magic square of order $n$ obtained by the Brachet method.\n",
    "* `siamese_magic_square(n)` that given a stricty positive odd integer $n$ as argument, returns a list of lists that represents the magic square of order $n$ obtained by the Siamese method.\n",
    "* `lux_magic_square(L)` that given as argument a magic square $L$ of odd order n, returns a list of lists that represents the magic square of order $2n$ obtained from $L$ by the LUX method."
   ]
  },
  {
   "cell_type": "markdown",
   "metadata": {},
   "source": [
    "# Tests"
   ]
  },
  {
   "cell_type": "markdown",
   "metadata": {},
   "source": [
    "## Displaying a magic square"
   ]
  },
  {
   "cell_type": "code",
   "execution_count": null,
   "metadata": {},
   "outputs": [],
   "source": [
    "statements = 'from magic_squares import *; '\\\n",
    "             'print_square([[2,7,6], [9,5,1], [4,3,8]])'"
   ]
  },
  {
   "cell_type": "code",
   "execution_count": null,
   "metadata": {},
   "outputs": [],
   "source": [
    "%%run_and_test python3 -c \"$statements\"\n",
    "\n",
    "'''\n",
    "2 7 6\\n\n",
    "9 5 1\\n\n",
    "4 3 8\\n\n",
    "'''"
   ]
  },
  {
   "cell_type": "markdown",
   "metadata": {},
   "source": [
    "## Checking that a square is magic"
   ]
  },
  {
   "cell_type": "code",
   "execution_count": null,
   "metadata": {},
   "outputs": [],
   "source": [
    "statements = 'from magic_squares import *; '\\\n",
    "             'print(is_magic_square([[2,7,6], [9,5,1], [4,3,8]]))'"
   ]
  },
  {
   "cell_type": "code",
   "execution_count": null,
   "metadata": {},
   "outputs": [],
   "source": [
    "%%run_and_test python3 -c \"$statements\"\n",
    "\n",
    "'True\\n'"
   ]
  },
  {
   "cell_type": "markdown",
   "metadata": {},
   "source": [
    "## Displaying a nonmagic square"
   ]
  },
  {
   "cell_type": "code",
   "execution_count": null,
   "metadata": {},
   "outputs": [],
   "source": [
    "statements = 'from magic_squares import *; '\\\n",
    "             'print_square([[2,7,6], [1,5,9], [4,3,8]])'"
   ]
  },
  {
   "cell_type": "code",
   "execution_count": null,
   "metadata": {},
   "outputs": [],
   "source": [
    "%%run_and_test python3 -c \"$statements\"\n",
    "\n",
    "'''\n",
    "2 7 6\\n\n",
    "1 5 9\\n\n",
    "4 3 8\\n\n",
    "'''"
   ]
  },
  {
   "cell_type": "markdown",
   "metadata": {},
   "source": [
    "## Checking that a square is not magic"
   ]
  },
  {
   "cell_type": "code",
   "execution_count": null,
   "metadata": {},
   "outputs": [],
   "source": [
    "statements = 'from magic_squares import *; '\\\n",
    "             'print(is_magic_square([[2,7,6], [1,5,9], [4,3,8]]))'"
   ]
  },
  {
   "cell_type": "code",
   "execution_count": null,
   "metadata": {},
   "outputs": [],
   "source": [
    "%%run_and_test python3 -c \"$statements\"\n",
    "\n",
    "'False\\n'"
   ]
  },
  {
   "cell_type": "markdown",
   "metadata": {},
   "source": [
    "## The Bachet method"
   ]
  },
  {
   "cell_type": "markdown",
   "metadata": {},
   "source": [
    "### Displaying the magic square of order 5 obtained by the Bachet method"
   ]
  },
  {
   "cell_type": "code",
   "execution_count": null,
   "metadata": {},
   "outputs": [],
   "source": [
    "statements = 'from magic_squares import *; '\\\n",
    "             'print_square(bachet_magic_square(5))'"
   ]
  },
  {
   "cell_type": "code",
   "execution_count": null,
   "metadata": {},
   "outputs": [],
   "source": [
    "%%run_and_test python3 -c \"$statements\"\n",
    "\n",
    "'''\n",
    "11 24  7 20  3\\n\n",
    " 4 12 25  8 16\\n\n",
    "17  5 13 21  9\\n\n",
    "10 18  1 14 22\\n\n",
    "23  6 19  2 15\\n\n",
    "'''"
   ]
  },
  {
   "cell_type": "markdown",
   "metadata": {},
   "source": [
    "### Displaying the magic square of order 7 obtained by the Bachet method"
   ]
  },
  {
   "cell_type": "code",
   "execution_count": null,
   "metadata": {},
   "outputs": [],
   "source": [
    "statements = 'from magic_squares import *; '\\\n",
    "             'print_square(bachet_magic_square(7))'"
   ]
  },
  {
   "cell_type": "code",
   "execution_count": null,
   "metadata": {},
   "outputs": [],
   "source": [
    "%%run_and_test python3 -c \"$statements\"\n",
    "\n",
    "'''\n",
    "22 47 16 41 10 35  4\\n\n",
    " 5 23 48 17 42 11 29\\n\n",
    "30  6 24 49 18 36 12\\n\n",
    "13 31  7 25 43 19 37\\n\n",
    "38 14 32  1 26 44 20\\n\n",
    "21 39  8 33  2 27 45\\n\n",
    "46 15 40  9 34  3 28\\n\n",
    "'''"
   ]
  },
  {
   "cell_type": "markdown",
   "metadata": {},
   "source": [
    "### Displaying the magic square of order 9 obtained by the Bachet method"
   ]
  },
  {
   "cell_type": "code",
   "execution_count": null,
   "metadata": {},
   "outputs": [],
   "source": [
    "statements = 'from magic_squares import *; '\\\n",
    "             'print_square(bachet_magic_square(9))'"
   ]
  },
  {
   "cell_type": "code",
   "execution_count": null,
   "metadata": {},
   "outputs": [],
   "source": [
    "%%run_and_test python3 -c \"$statements\"\n",
    "\n",
    "'''\n",
    "37 78 29 70 21 62 13 54  5\\n\n",
    " 6 38 79 30 71 22 63 14 46\\n\n",
    "47  7 39 80 31 72 23 55 15\\n\n",
    "16 48  8 40 81 32 64 24 56\\n\n",
    "57 17 49  9 41 73 33 65 25\\n\n",
    "26 58 18 50  1 42 74 34 66\\n\n",
    "67 27 59 10 51  2 43 75 35\\n\n",
    "36 68 19 60 11 52  3 44 76\\n\n",
    "77 28 69 20 61 12 53  4 45\\n\n",
    "'''"
   ]
  },
  {
   "cell_type": "markdown",
   "metadata": {},
   "source": [
    "### Displaying the magic square of order 11 obtained by the Bachet method"
   ]
  },
  {
   "cell_type": "code",
   "execution_count": null,
   "metadata": {},
   "outputs": [],
   "source": [
    "statements = 'from magic_squares import *; '\\\n",
    "             'print_square(bachet_magic_square(11))'"
   ]
  },
  {
   "cell_type": "code",
   "execution_count": null,
   "metadata": {},
   "outputs": [],
   "source": [
    "%%run_and_test python3 -c \"$statements\"\n",
    "\n",
    "'''\n",
    " 56 117  46 107  36  97  26  87  16  77   6\\n\n",
    "  7  57 118  47 108  37  98  27  88  17  67\\n\n",
    " 68   8  58 119  48 109  38  99  28  78  18\\n\n",
    " 19  69   9  59 120  49 110  39  89  29  79\\n\n",
    " 80  20  70  10  60 121  50 100  40  90  30\\n\n",
    " 31  81  21  71  11  61 111  51 101  41  91\\n\n",
    " 92  32  82  22  72   1  62 112  52 102  42\\n\n",
    " 43  93  33  83  12  73   2  63 113  53 103\\n\n",
    "104  44  94  23  84  13  74   3  64 114  54\\n\n",
    " 55 105  34  95  24  85  14  75   4  65 115\\n\n",
    "116  45 106  35  96  25  86  15  76   5  66\\n\n",
    "'''"
   ]
  },
  {
   "cell_type": "markdown",
   "metadata": {},
   "source": [
    "## The Siamese method"
   ]
  },
  {
   "cell_type": "markdown",
   "metadata": {},
   "source": [
    "### Displaying the magic square of order 5 obtained by the Siamese method"
   ]
  },
  {
   "cell_type": "code",
   "execution_count": null,
   "metadata": {},
   "outputs": [],
   "source": [
    "statements = 'from magic_squares import *; '\\\n",
    "             'print_square(siamese_magic_square(5))'"
   ]
  },
  {
   "cell_type": "code",
   "execution_count": null,
   "metadata": {
    "run_control": {
     "marked": false
    },
    "tags": []
   },
   "outputs": [],
   "source": [
    "%%run_and_test python3 -c \"$statements\"\n",
    "\n",
    "'''\n",
    "17 24  1  8 15\\n\n",
    "23  5  7 14 16\\n\n",
    " 4  6 13 20 22\\n\n",
    "10 12 19 21  3\\n\n",
    "11 18 25  2  9\\n\n",
    "'''"
   ]
  },
  {
   "cell_type": "markdown",
   "metadata": {},
   "source": [
    "### Displaying the magic square of order 7 obtained by the Siamese method"
   ]
  },
  {
   "cell_type": "code",
   "execution_count": null,
   "metadata": {},
   "outputs": [],
   "source": [
    "statements = 'from magic_squares import *; '\\\n",
    "             'print_square(siamese_magic_square(7))'"
   ]
  },
  {
   "cell_type": "code",
   "execution_count": null,
   "metadata": {
    "run_control": {
     "marked": false
    },
    "tags": []
   },
   "outputs": [],
   "source": [
    "%%run_and_test python3 -c \"$statements\"\n",
    "\n",
    "'''\n",
    "30 39 48  1 10 19 28\\n\n",
    "38 47  7  9 18 27 29\\n\n",
    "46  6  8 17 26 35 37\\n\n",
    " 5 14 16 25 34 36 45\\n\n",
    "13 15 24 33 42 44  4\\n\n",
    "21 23 32 41 43  3 12\\n\n",
    "22 31 40 49  2 11 20\\n\n",
    "'''"
   ]
  },
  {
   "cell_type": "markdown",
   "metadata": {},
   "source": [
    "### Displaying the magic square of order 9 obtained by the Siamese method"
   ]
  },
  {
   "cell_type": "code",
   "execution_count": null,
   "metadata": {},
   "outputs": [],
   "source": [
    "statements = 'from magic_squares import *; '\\\n",
    "             'print_square(siamese_magic_square(9))'"
   ]
  },
  {
   "cell_type": "code",
   "execution_count": null,
   "metadata": {
    "run_control": {
     "marked": false
    }
   },
   "outputs": [],
   "source": [
    "%%run_and_test python3 -c \"$statements\"\n",
    "\n",
    "'''\n",
    "47 58 69 80  1 12 23 34 45\\n\n",
    "57 68 79  9 11 22 33 44 46\\n\n",
    "67 78  8 10 21 32 43 54 56\\n\n",
    "77  7 18 20 31 42 53 55 66\\n\n",
    " 6 17 19 30 41 52 63 65 76\\n\n",
    "16 27 29 40 51 62 64 75  5\\n\n",
    "26 28 39 50 61 72 74  4 15\\n\n",
    "36 38 49 60 71 73  3 14 25\\n\n",
    "37 48 59 70 81  2 13 24 35\\n\n",
    "'''"
   ]
  },
  {
   "cell_type": "markdown",
   "metadata": {},
   "source": [
    "### Displaying the magic square of order 11 obtained by the Siamese method"
   ]
  },
  {
   "cell_type": "code",
   "execution_count": null,
   "metadata": {},
   "outputs": [],
   "source": [
    "statements = 'from magic_squares import *; '\\\n",
    "             'print_square(siamese_magic_square(11))'"
   ]
  },
  {
   "cell_type": "code",
   "execution_count": null,
   "metadata": {
    "run_control": {
     "marked": false
    }
   },
   "outputs": [],
   "source": [
    "%%run_and_test python3 -c \"$statements\"\n",
    "\n",
    "'''\n",
    " 68  81  94 107 120   1  14  27  40  53  66\\n\n",
    " 80  93 106 119  11  13  26  39  52  65  67\\n\n",
    " 92 105 118  10  12  25  38  51  64  77  79\\n\n",
    "104 117   9  22  24  37  50  63  76  78  91\\n\n",
    "116   8  21  23  36  49  62  75  88  90 103\\n\n",
    "  7  20  33  35  48  61  74  87  89 102 115\\n\n",
    " 19  32  34  47  60  73  86  99 101 114   6\\n\n",
    " 31  44  46  59  72  85  98 100 113   5  18\\n\n",
    " 43  45  58  71  84  97 110 112   4  17  30\\n\n",
    " 55  57  70  83  96 109 111   3  16  29  42\\n\n",
    " 56  69  82  95 108 121   2  15  28  41  54\\n\n",
    "'''"
   ]
  },
  {
   "cell_type": "markdown",
   "metadata": {},
   "source": [
    "## The LUX method"
   ]
  },
  {
   "cell_type": "markdown",
   "metadata": {},
   "source": [
    "### Displaying the magic square obtained by the LUX method from the magic square of order 3 obtained by the Bachet method"
   ]
  },
  {
   "cell_type": "code",
   "execution_count": null,
   "metadata": {},
   "outputs": [],
   "source": [
    "statements = 'from magic_squares import *; '\\\n",
    "             'print_square(lux_from(bachet_magic_square(3)))'"
   ]
  },
  {
   "cell_type": "code",
   "execution_count": null,
   "metadata": {
    "tags": []
   },
   "outputs": [],
   "source": [
    "%%run_and_test python3 -c \"$statements\"\n",
    "\n",
    "'''\n",
    "16 13 36 33  8  5\\n\n",
    "14 15 34 35  6  7\\n\n",
    "12  9 17 20 28 25\\n\n",
    "10 11 18 19 26 27\\n\n",
    "29 32  4  1 21 24\\n\n",
    "30 31  2  3 22 23\\n\n",
    "'''"
   ]
  },
  {
   "cell_type": "markdown",
   "metadata": {},
   "source": [
    "### Displaying the magic square obtained by the LUX method from the magic square of order 3 obtained by the Siamese method"
   ]
  },
  {
   "cell_type": "code",
   "execution_count": null,
   "metadata": {},
   "outputs": [],
   "source": [
    "statements = 'from magic_squares import *; '\\\n",
    "             'print_square(lux_from(siamese_magic_square(3)))'"
   ]
  },
  {
   "cell_type": "code",
   "execution_count": null,
   "metadata": {
    "tags": []
   },
   "outputs": [],
   "source": [
    "%%run_and_test python3 -c \"$statements\"\n",
    "\n",
    "'''\n",
    "32 29  4  1 24 21\\n\n",
    "30 31  2  3 22 23\\n\n",
    "12  9 17 20 28 25\\n\n",
    "10 11 18 19 26 27\\n\n",
    "13 16 36 33  5  8\\n\n",
    "14 15 34 35  6  7\\n\n",
    "'''"
   ]
  },
  {
   "cell_type": "markdown",
   "metadata": {},
   "source": [
    "### Displaying the magic square obtained by the LUX method from the magic square of order 5 obtained by the Bachet method"
   ]
  },
  {
   "cell_type": "code",
   "execution_count": null,
   "metadata": {},
   "outputs": [],
   "source": [
    "statements = 'from magic_squares import *; '\\\n",
    "             'print_square(lux_from(bachet_magic_square(5)))'"
   ]
  },
  {
   "cell_type": "code",
   "execution_count": null,
   "metadata": {},
   "outputs": [],
   "source": [
    "%%run_and_test python3 -c \"$statements\"\n",
    "\n",
    "'''\n",
    " 44  41  96  93  28  25  80  77  12   9\\n\n",
    " 42  43  94  95  26  27  78  79  10  11\\n\n",
    " 16  13  48  45 100  97  32  29  64  61\\n\n",
    " 14  15  46  47  98  99  30  31  62  63\\n\n",
    " 68  65  20  17  49  52  84  81  36  33\\n\n",
    " 66  67  18  19  50  51  82  83  34  35\\n\n",
    " 37  40  69  72   4   1  53  56  85  88\\n\n",
    " 38  39  70  71   2   3  54  55  86  87\\n\n",
    " 89  92  21  24  73  76   5   8  57  60\\n\n",
    " 91  90  23  22  75  74   7   6  59  58\\n\n",
    "'''"
   ]
  },
  {
   "cell_type": "markdown",
   "metadata": {},
   "source": [
    "### Displaying the magic square obtained by the LUX method from the magic square of order 5 obtained by the Siamese method"
   ]
  },
  {
   "cell_type": "code",
   "execution_count": null,
   "metadata": {},
   "outputs": [],
   "source": [
    "statements = 'from magic_squares import *; '\\\n",
    "             'print_square(lux_from(siamese_magic_square(5)))'"
   ]
  },
  {
   "cell_type": "code",
   "execution_count": null,
   "metadata": {},
   "outputs": [],
   "source": [
    "%%run_and_test python3 -c \"$statements\"\n",
    "\n",
    "'''\n",
    " 68  65  96  93   4   1  32  29  60  57\\n\n",
    " 66  67  94  95   2   3  30  31  58  59\\n\n",
    " 92  89  20  17  28  25  56  53  64  61\\n\n",
    " 90  91  18  19  26  27  54  55  62  63\\n\n",
    " 16  13  24  21  49  52  80  77  88  85\\n\n",
    " 14  15  22  23  50  51  78  79  86  87\\n\n",
    " 37  40  45  48  76  73  81  84   9  12\\n\n",
    " 38  39  46  47  74  75  82  83  10  11\\n\n",
    " 41  44  69  72  97 100   5   8  33  36\\n\n",
    " 43  42  71  70  99  98   7   6  35  34\\n\n",
    "'''"
   ]
  },
  {
   "cell_type": "markdown",
   "metadata": {},
   "source": [
    "### Displaying the magic square obtained by the LUX method from the magic square of order 7 obtained by the Bachet method"
   ]
  },
  {
   "cell_type": "code",
   "execution_count": null,
   "metadata": {},
   "outputs": [],
   "source": [
    "statements = 'from magic_squares import *; '\\\n",
    "             'print_square(lux_from(bachet_magic_square(7)))'"
   ]
  },
  {
   "cell_type": "code",
   "execution_count": null,
   "metadata": {
    "tags": []
   },
   "outputs": [],
   "source": [
    "%%run_and_test python3 -c \"$statements\"\n",
    "\n",
    "'''\n",
    " 88  85 188 185  64  61 164 161  40  37 140 137  16  13\\n\n",
    " 86  87 186 187  62  63 162 163  38  39 138 139  14  15\\n\n",
    " 20  17  92  89 192 189  68  65 168 165  44  41 116 113\\n\n",
    " 18  19  90  91 190 191  66  67 166 167  42  43 114 115\\n\n",
    "120 117  24  21  96  93 196 193  72  69 144 141  48  45\\n\n",
    "118 119  22  23  94  95 194 195  70  71 142 143  46  47\\n\n",
    " 52  49 124 121  28  25  97 100 172 169  76  73 148 145\\n\n",
    " 50  51 122 123  26  27  98  99 170 171  74  75 146 147\\n\n",
    "149 152  53  56 125 128   4   1 101 104 173 176  77  80\\n\n",
    "150 151  54  55 126 127   2   3 102 103 174 175  78  79\\n\n",
    " 81  84 153 156  29  32 129 132   5   8 105 108 177 180\\n\n",
    " 83  82 155 154  31  30 131 130   7   6 107 106 179 178\\n\n",
    "181 184  57  60 157 160  33  36 133 136   9  12 109 112\\n\n",
    "183 182  59  58 159 158  35  34 135 134  11  10 111 110\\n\n",
    "'''"
   ]
  },
  {
   "cell_type": "markdown",
   "metadata": {},
   "source": [
    "### Displaying the magic square obtained by the LUX method from the magic square of order 7 obtained by the Siamese method"
   ]
  },
  {
   "cell_type": "code",
   "execution_count": null,
   "metadata": {},
   "outputs": [],
   "source": [
    "statements = 'from magic_squares import *; '\\\n",
    "             'print_square(lux_from(siamese_magic_square(7)))'"
   ]
  },
  {
   "cell_type": "code",
   "execution_count": null,
   "metadata": {
    "tags": []
   },
   "outputs": [],
   "source": [
    "%%run_and_test python3 -c \"$statements\"\n",
    "\n",
    "'''\n",
    "120 117 156 153 192 189   4   1  40  37  76  73 112 109\\n\n",
    "118 119 154 155 190 191   2   3  38  39  74  75 110 111\\n\n",
    "152 149 188 185  28  25  36  33  72  69 108 105 116 113\\n\n",
    "150 151 186 187  26  27  34  35  70  71 106 107 114 115\\n\n",
    "184 181  24  21  32  29  68  65 104 101 140 137 148 145\\n\n",
    "182 183  22  23  30  31  66  67 102 103 138 139 146 147\\n\n",
    " 20  17  56  53  64  61  97 100 136 133 144 141 180 177\\n\n",
    " 18  19  54  55  62  63  98  99 134 135 142 143 178 179\\n\n",
    " 49  52  57  60  93  96 132 129 165 168 173 176  13  16\\n\n",
    " 50  51  58  59  94  95 130 131 166 167 174 175  14  15\\n\n",
    " 81  84  89  92 125 128 161 164 169 172   9  12  45  48\\n\n",
    " 83  82  91  90 127 126 163 162 171 170  11  10  47  46\\n\n",
    " 85  88 121 124 157 160 193 196   5   8  41  44  77  80\\n\n",
    " 87  86 123 122 159 158 195 194   7   6  43  42  79  78\\n\n",
    "'''"
   ]
  }
 ],
 "metadata": {
  "kernelspec": {
   "display_name": "Python 3 (ipykernel)",
   "language": "python",
   "name": "python3"
  },
  "language_info": {
   "codemirror_mode": {
    "name": "ipython",
    "version": 3
   },
   "file_extension": ".py",
   "mimetype": "text/x-python",
   "name": "python",
   "nbconvert_exporter": "python",
   "pygments_lexer": "ipython3",
   "version": "3.10.2"
  },
  "latex_envs": {
   "LaTeX_envs_menu_present": true,
   "autoclose": false,
   "autocomplete": true,
   "bibliofile": "biblio.bib",
   "cite_by": "apalike",
   "current_citInitial": 1,
   "eqLabelWithNumbers": true,
   "eqNumInitial": 1,
   "hotkeys": {
    "equation": "Ctrl-E",
    "itemize": "Ctrl-I"
   },
   "labels_anchors": false,
   "latex_user_defs": false,
   "report_style_numbering": false,
   "user_envs_cfg": false
  },
  "toc": {
   "base_numbering": 1,
   "nav_menu": {},
   "number_sections": true,
   "sideBar": true,
   "skip_h1_title": false,
   "title_cell": "Table of Contents",
   "title_sidebar": "Contents",
   "toc_cell": false,
   "toc_position": {},
   "toc_section_display": true,
   "toc_window_display": false
  },
  "widgets": {
   "application/vnd.jupyter.widget-state+json": {
    "state": {},
    "version_major": 2,
    "version_minor": 0
   }
  }
 },
 "nbformat": 4,
 "nbformat_minor": 4
}
