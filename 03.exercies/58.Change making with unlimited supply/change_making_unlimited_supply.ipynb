{
 "cells": [
  {
   "cell_type": "code",
   "execution_count": null,
   "metadata": {},
   "outputs": [],
   "source": [
    "load_ext run_and_test"
   ]
  },
  {
   "cell_type": "markdown",
   "metadata": {},
   "source": [
    "# Background"
   ]
  },
  {
   "cell_type": "markdown",
   "metadata": {},
   "source": [
    "Given a number of face values $v_1$, ..., $v_k$ with $v_1<\\dots<v_k$, an infinite supply of coins for each of those face values, and an integer $x$, we want to get all combinations of coins that amount to $\\$ x$, using the minimal number of coins (there can be no solution, a unique solution, or many solutions). This can be solved using dynamic programming, thanks to an approach that we illustrate for the case where the face values are $\\$1$, $\\$2$, $\\$3$ and $\\$5$ and the desired amount is $\\$9$. The approach consists in creating in one way or another part of the table below, line by line, from top to bottom. The entries in the superdiagonal (that is, the cells at the intersection of the $\\$1$ row and the $\\$1$ column,  at the intersection of the $\\$2$ row and the $\\$2$ column, ...), give the solutions for all amounts between $\\$1$ and $\\$9$:\n",
    "\n",
    "* For $\\$1$, there is a unique solution, namely, one $\\$1$ coin.\n",
    "* For $\\$2$, there is a unique solution, namely, one $\\$2$ coin.\n",
    "* For $\\$3$, there is a unique solution, namely, one $\\$3$ coin.\n",
    "* For $\\$4$, there is are 2 solutions, namely, one $\\$1$ coin and one $\\$3$ coin, or two $\\$2$ coins.\n",
    "* ...\n",
    "* For $\\$9$, there is are 3 solutions, namely, one $\\$1$ coin, one $\\$3$ coin and one $\\$5$ coin, or two $\\$2$ coins and one $\\$5$ coin, or three $\\$3$ coins.\n",
    "\n",
    "So the last entry in the superdiagonal gives the desired solution.\n",
    "\n",
    "All other values in the table yield all ways to obtain an amount of $\\$y$ from an amount of $\\$y-\\$1$, $\\$y-\\$2$, $\\$y-\\$3$ and $\\$y-\\$5$, by adding to each of those amounts $\\$1$, $\\$2$, $\\$3$ and $\\$5$, respectively:\n",
    "\n",
    "* To obtain $\\$1$, add $\\$1$ to all solutions for an amount of $\\$0$, resulting in one $\\$1$ coin. This yields a unique solution of one $\\$1$ coin. \n",
    "* To obtain $\\$2$,\n",
    "  * add $\\$2$ to all solutions for an amount of $\\$0$, resulting in one $\\$2$ coin;\n",
    "  * add $\\$1$ to all solutions for an amount of $\\$1$, resulting in two $\\$1$ coins.\n",
    "\n",
    "  This yields a unique solution of one $\\$2$ coin. \n",
    "* To obtain $\\$3$,\n",
    "  * add $\\$3$ to all solutions for an amount of $\\$0$, resulting in one $\\$3$ coin;\n",
    "  * add $\\$2$ to all solutions for an amount of $\\$1$, resulting in one $\\$1$ coin and one $\\$2$ coin;\n",
    "  * add $\\$1$ to all solutions for an amount of $\\$2$, resulting in one $\\$1$ coin and one $\\$2$ coin.\n",
    "\n",
    "  This yields a unique solution of one $\\$3$ coin. \n",
    "* To obtain $\\$4$,\n",
    "  * add $\\$3$ to all solutions for an amount of $\\$1$, resulting in one $\\$1$ coin and one $\\$3$ coin;\n",
    "  * add $\\$2$ to all solutions for an amount of $\\$2$, resulting in two $\\$2$ coins;\n",
    "  * add $\\$1$ to all solutions for an amount of $\\$3$, resulting in one $\\$1$ coin and one $\\$3$ coin.\n",
    "\n",
    "  This yields two solutions of one $\\$1$ coin and one $\\$3$ coin, or two $\\$2$ coins.\n",
    "* ...\n",
    "* To obtain $\\$9$,\n",
    "  * add $\\$5$ to all solutions for an amount of $\\$4$, resulting in one $\\$1$ coin, one $\\$3$ coin and one $\\$5$ coin, or in two $\\$2$ coins and one $\\$5$ coin;\n",
    "  * add $\\$3$ to all solutions for an amount of $\\$6$, resulting in one $\\$1$ coin, one $\\$3$ coin and one $\\$5$ coin, or in three $\\$3$ coins;\n",
    "  * add $\\$2$ to all solutions for an amount of $\\$7$, resulting in two $\\$2$ coins and one $\\$5$ coin;\n",
    "  * add $\\$1$ to all solutions for an amount of $\\$8$, resulting in one $\\$1$ coin, one $\\$3$ coin and one $\\$5$ coin.\n",
    "\n",
    "  This yields three solutions of one $\\$1$ coin, one $\\$3$ coin and one $\\$5$ coin, or two $\\$2$ coins and one $\\$5$ coin, or three $\\$3$ coins.\n",
    "\n",
    "|Amount|\\\\$0                 |\\\\$1                 |\\\\$2                 |\\\\$3                 |\\\\$4                 |\\\\$5                 |\\\\$6                 |\\\\$7                 |\\\\$8                 |\\\\$9                 |\n",
    "| ---- | ------------------- | ------------------- | ------------------- | ------------------- | ------------------- | ------------------- | ------------------- | ------------------- | ------------------- | ------------------- |\n",
    "| \\\\$1 |1\\\\$1                |1\\\\$1                |                     |                     |                     |                     |                     |                     |                     |                     |\n",
    "| \\\\$2 |1\\\\$2                |2\\\\$1                |1\\\\$2                |                     |                     |                     |                     |                     |                     |                     |\n",
    "| \\\\$3 |1\\\\$3                |1\\\\$1+1\\\\$2          |1\\\\$1+1\\\\$2          |1\\\\$3                |                     |                     |                     |                     |                     |                     |\n",
    "| \\\\$4 |                     |1\\\\$1+1\\\\$3          |2\\\\$2                |1\\\\$1+1\\\\$3          |1\\\\$1+1\\\\$3           |                     |                     |                     |                     |                     |\n",
    "|      |                     |                     |                     |                     |2\\\\$2                 |                     |                     |                     |                     |                     |\n",
    "| \\\\$5 |1\\\\$5                |                     |1\\\\$2+1\\\\$3          |1\\\\$2+1\\\\$3          |2\\\\$1+1\\\\$3           |1\\\\$5                |                     |                     |                     |                     |\n",
    "|      |                     |                      |                     |                    |1\\\\$1+2\\\\$2           |                     |                     |                     |                     |                     |\n",
    "| \\\\$6 |                     |1\\\\$1+1\\\\$5           |                     |2\\\\$3               |1\\\\$1+1\\\\$2+1\\\\$3     |1\\\\$1+1\\\\$5          |1\\\\$1+1\\\\$5          |                     |                     |                     |\n",
    "|      |                     |                      |                     |                    |3\\\\$2                     |                     |2\\\\$3                |                     |                     |                     |\n",
    "| \\\\$7 |                     |                     |1\\\\$2+1\\\\$5           |                    |1\\\\$1+2\\\\$3           |1\\\\$2+1\\\\$5          |2\\\\$1+1\\\\$5          |1\\\\$2+1\\\\$5          |                     |                     |\n",
    "|      |                     |                      |                     |                    |2\\\\$2+1\\\\$3           |                     |1\\\\$1+2\\\\$3          |                     |                     |                     |\n",
    "| \\\\$8 |                     |                     |                     |1\\\\$3+1\\\\$5          |                     |1\\\\$3+1\\\\$5          |1\\\\$1+1\\\\$2+1\\\\$5    |1\\\\$1+1\\\\$2+1\\\\$5    |1\\\\$3+1\\\\$5          |                     |\n",
    "|      |                     |                      |                     |                    |                     |                     |1\\\\$2+2\\\\$3          |                     |                     |                     |\n",
    "| \\\\$9 |                     |                     |                     |                     |1\\\\$1+1\\\\$3+1\\\\$5     |                     |1\\\\$1+1\\\\$3+1\\\\$5    |2\\\\$2+1\\\\$5          |1\\\\$1+1\\\\$3+1\\\\$5    |1\\\\$1+1\\\\$3+1\\\\$5    |\n",
    "|      |                     |                     |                     |                     |2\\\\$2+1\\\\$5           |                     |3\\\\$3                |                     |                     |2\\\\$2+1\\\\$5          |\n",
    "|      |                     |                     |                     |                     |                     |                     |                     |                     |                     |3\\\\$3                |"
   ]
  },
  {
   "cell_type": "markdown",
   "metadata": {},
   "source": [
    "# Task"
   ]
  },
  {
   "cell_type": "markdown",
   "metadata": {},
   "source": [
    "Write a program `unlimited_supply.py` that prompts the user for:\n",
    "\n",
    "* a nonempty list of strictly positive integers meant to represent coin face values,\n",
    "* a strictly positive integer meant to represent a desired amount\n",
    "\n",
    "and ouputs whether there is no way, a unique way, or $n$ many ways with $n$ at least equal to 2, to get that amount, minimising the number of coins being used. In case there is at least one solution, all solutions are output too.\n",
    "\n",
    "* Face values for a given solution are ordered from smallest to largest.\n",
    "* Solutions, in case there are at least two of them, are output in lexicographic order.\n",
    "* Face values are right aligned.\n",
    "\n",
    "The `literal_eval()` function from the `ast` module might prove useful."
   ]
  },
  {
   "cell_type": "markdown",
   "metadata": {},
   "source": [
    "# Tests"
   ]
  },
  {
   "cell_type": "markdown",
   "metadata": {},
   "source": [
    "## No solution"
   ]
  },
  {
   "cell_type": "code",
   "execution_count": null,
   "metadata": {},
   "outputs": [],
   "source": [
    "%%run_and_test -i'[2, 50]\\n99\\n' python3 unlimited_supply.py\n",
    "\n",
    "'Input a list of coin face values:\\n\n",
    "    ', '[2, 50]\\n',\n",
    "'Input the desired amount: ', '99\\n',\n",
    "'\\n\n",
    "There is no solution.\\n'"
   ]
  },
  {
   "cell_type": "markdown",
   "metadata": {},
   "source": [
    "## A unique solution"
   ]
  },
  {
   "cell_type": "code",
   "execution_count": null,
   "metadata": {},
   "outputs": [],
   "source": [
    "%%run_and_test -i'[1, 20, 50]\\n60\\n' python3 unlimited_supply.py\n",
    "\n",
    "'Input a list of coin face values:\\n\n",
    "\n",
    "    ', '[1, 20, 50]\\n',\n",
    "'Input the desired amount: ', '60\\n',\n",
    "'\\n\n",
    "There is a unique solution:\\n\n",
    "$20: 3\\n'"
   ]
  },
  {
   "cell_type": "markdown",
   "metadata": {},
   "source": [
    "## 2 solutions"
   ]
  },
  {
   "cell_type": "code",
   "execution_count": null,
   "metadata": {
    "tags": []
   },
   "outputs": [],
   "source": [
    "%%run_and_test -i'[3, 7, 11, 18, 27]\\n239\\n' python3 unlimited_supply.py\n",
    "\n",
    "'Input a list of coin face values:\\n\n",
    "\n",
    "    ', '[3, 7, 11, 18, 27]\\n',\n",
    "'Input the desired amount: ', '239\\n',\n",
    "'\\n\n",
    "There are 2 solutions:\\n\n",
    " $3: 1\\n\n",
    "$11: 1\\n\n",
    "$18: 2\\n\n",
    "$27: 7\\n\n",
    "\\n\n",
    " $7: 2\\n\n",
    "$18: 2\\n\n",
    "$27: 7\\n'"
   ]
  },
  {
   "cell_type": "markdown",
   "metadata": {},
   "source": [
    "## 3 solutions"
   ]
  },
  {
   "cell_type": "code",
   "execution_count": null,
   "metadata": {
    "tags": []
   },
   "outputs": [],
   "source": [
    "%%run_and_test -i'[3,  7,  8,  11,  16]\\n197\\n' python3 unlimited_supply.py\n",
    "\n",
    "'Input a list of coin face values:\\n\n",
    "\n",
    "    ', '[3,  7,  8,  11,  16]\\n',\n",
    "'Input the desired amount: ', '197\\n',\n",
    "'\\n\n",
    "There are 3 solutions:\\n\n",
    " $3: 1\\n\n",
    " $7: 1\\n\n",
    "$11: 1\\n\n",
    "$16: 11\\n\n",
    "\\n\n",
    " $7: 1\\n\n",
    " $8: 1\\n\n",
    "$11: 2\\n\n",
    "$16: 10\\n\n",
    "\\n\n",
    " $7: 3\\n\n",
    "$16: 11\\n'"
   ]
  },
  {
   "cell_type": "markdown",
   "metadata": {},
   "source": [
    "## 4 solutions"
   ]
  },
  {
   "cell_type": "code",
   "execution_count": null,
   "metadata": {},
   "outputs": [],
   "source": [
    "%%run_and_test -i'[1, 2, 3, 10, 20, 30]\\n107\\n' python3 unlimited_supply.py\n",
    "\n",
    "'Input a list of coin face values:\\n\n",
    "\n",
    "    ', '[1, 2, 3, 10, 20, 30]\\n',\n",
    "'Input the desired amount: ', '107\\n',\n",
    "'\\n\n",
    "There are 4 solutions:\\n\n",
    " $1: 1\\n\n",
    " $3: 2\\n\n",
    "$10: 1\\n\n",
    "$30: 3\\n\n",
    "\\n\n",
    " $1: 1\\n\n",
    " $3: 2\\n\n",
    "$20: 2\\n\n",
    "$30: 2\\n\n",
    "\\n\n",
    " $2: 2\\n\n",
    " $3: 1\\n\n",
    "$10: 1\\n\n",
    "$30: 3\\n\n",
    "\\n\n",
    " $2: 2\\n\n",
    " $3: 1\\n\n",
    "$20: 2\\n\n",
    "$30: 2\\n'"
   ]
  },
  {
   "cell_type": "markdown",
   "metadata": {},
   "source": [
    "## 5 solutions"
   ]
  },
  {
   "cell_type": "code",
   "execution_count": null,
   "metadata": {},
   "outputs": [],
   "source": [
    "%%run_and_test -i'[4, 9, 15, 23, 27]\\n986\\n' python3 unlimited_supply.py\n",
    "\n",
    "'Input a list of coin face values:\\n\n",
    "\n",
    "    ', '[4, 9, 15, 23, 27]\\n',\n",
    "'Input the desired amount: ', '986\\n',\n",
    "'\\n\n",
    "There are 5 solutions:\\n\n",
    " $9: 2\\n\n",
    "$23: 1\\n\n",
    "$27: 35\\n\n",
    "\\n\n",
    "$15: 1\\n\n",
    "$23: 7\\n\n",
    "$27: 30\\n\n",
    "\\n\n",
    "$15: 2\\n\n",
    "$23: 4\\n\n",
    "$27: 32\\n\n",
    "\\n\n",
    "$15: 3\\n\n",
    "$23: 1\\n\n",
    "$27: 34\\n\n",
    "\\n\n",
    "$23: 10\\n\n",
    "$27: 28\\n'"
   ]
  },
  {
   "cell_type": "markdown",
   "metadata": {},
   "source": [
    "## 6 solutions"
   ]
  },
  {
   "cell_type": "code",
   "execution_count": null,
   "metadata": {},
   "outputs": [],
   "source": [
    "%%run_and_test -i'[11, 12, 13, 17, 18, 19]\\n7422\\n' python3 unlimited_supply.py\n",
    "\n",
    "'Input a list of coin face values:\\n\n",
    "\n",
    "    ', '[11, 12, 13, 17, 18, 19]\\n',\n",
    "'Input the desired amount: ', '7422\\n',\n",
    "'\\n\n",
    "There are 6 solutions:\\n\n",
    "$12: 1\\n\n",
    "$19: 390\\n\n",
    "\\n\n",
    "$13: 1\\n\n",
    "$18: 1\\n\n",
    "$19: 389\\n\n",
    "\\n\n",
    "$17: 1\\n\n",
    "$18: 5\\n\n",
    "$19: 385\\n\n",
    "\\n\n",
    "$17: 2\\n\n",
    "$18: 3\\n\n",
    "$19: 386\\n\n",
    "\\n\n",
    "$17: 3\\n\n",
    "$18: 1\\n\n",
    "$19: 387\\n\n",
    "\\n\n",
    "$18: 7\\n\n",
    "$19: 384\\n'"
   ]
  }
 ],
 "metadata": {
  "kernelspec": {
   "display_name": "Python 3 (ipykernel)",
   "language": "python",
   "name": "python3"
  },
  "language_info": {
   "codemirror_mode": {
    "name": "ipython",
    "version": 3
   },
   "file_extension": ".py",
   "mimetype": "text/x-python",
   "name": "python",
   "nbconvert_exporter": "python",
   "pygments_lexer": "ipython3",
   "version": "3.10.2"
  },
  "latex_envs": {
   "LaTeX_envs_menu_present": true,
   "autoclose": false,
   "autocomplete": true,
   "bibliofile": "biblio.bib",
   "cite_by": "apalike",
   "current_citInitial": 1,
   "eqLabelWithNumbers": true,
   "eqNumInitial": 1,
   "hotkeys": {
    "equation": "Ctrl-E",
    "itemize": "Ctrl-I"
   },
   "labels_anchors": false,
   "latex_user_defs": false,
   "report_style_numbering": false,
   "user_envs_cfg": false
  },
  "toc": {
   "base_numbering": 1,
   "nav_menu": {},
   "number_sections": true,
   "sideBar": true,
   "skip_h1_title": false,
   "title_cell": "Table of Contents",
   "title_sidebar": "Contents",
   "toc_cell": false,
   "toc_position": {},
   "toc_section_display": true,
   "toc_window_display": false
  },
  "widgets": {
   "application/vnd.jupyter.widget-state+json": {
    "state": {},
    "version_major": 2,
    "version_minor": 0
   }
  }
 },
 "nbformat": 4,
 "nbformat_minor": 4
}
