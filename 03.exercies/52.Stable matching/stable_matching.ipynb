{
 "cells": [
  {
   "cell_type": "code",
   "execution_count": null,
   "metadata": {},
   "outputs": [],
   "source": [
    "load_ext run_and_test"
   ]
  },
  {
   "cell_type": "markdown",
   "metadata": {},
   "source": [
    "# Background"
   ]
  },
  {
   "cell_type": "markdown",
   "metadata": {},
   "source": [
    "Consider two natural numbers $n$ and $m$, $n$ men, $m$ woman, each of the $n$ men ranking the $m$ women from most preferred to least preferred, each of the $m$ women ranking the $n$ men from most preferred to least preferred too. The aim is match men to women so that marriages are stable, in the sense that:\n",
    "\n",
    "* all men or all women are married;\n",
    "* no married individual prefers an unmarried individual to his or her spouse;\n",
    "* no two individuals are married and both prefer each other to their respective spouses.\n",
    "\n",
    "Gale and Shapley proposed an algorithm to yield stable marriages (so with $\\min(n,m)$ couples). There are 2 versions of the algorithm, that exchange the role of men and women, namely, the men-proposing version, and the women-propositing version; presentation will follow the former.\n",
    "\n",
    "The algorithm operates in rounds. There are rounds for as long as there is still at least one man who has not been rejected by all women.\n",
    "\n",
    "At the beginning of every round, there is a set of men who are conditionally engaged to some woman (that set is empty at the beginning). Each man who is not conditionally engaged proposes to the woman he prefers amongst those who have not previously rejected him. Then each woman who got at least one proposal rejects all but the man she prefers amongst those who just proposed to her (so none in case she got a unique proposal), and that man $M$ as well in case she is conditionally engaged to a man $M'$ she prefers (which does not happen if she did not get any proposal in the previous rounds); if she prefers $M$ to $M'$ then $M$ replaces $M'$, the former becoming conditionally engaged, the latter being no longer so. \n",
    "\n",
    "We illustrate the algorithm considering 4 men, namely, Anton, Brian, Colin and Diego, and 4 women, namely, Agnes, Betsy, Chloe and Diana.\n",
    "\n",
    "Men's preferences are as follows, read by columns:\n",
    "\n",
    "|       | Anton | Brian | Colin | Diego |\n",
    "| ----- | ----- | ----- | ----- | ----- |      \n",
    "| Agnes |   3   |   3   |   2   |   4   |\n",
    "| Betsy |   2   |   2   |   3   |   3   |\n",
    "| Chloe |   4   |   4   |   1   |   2   |\n",
    "| Diana |   1   |   1   |   4   |   1   |\n",
    "\n",
    "Women's preferences are as follows, read by rows:\n",
    "\n",
    "|       | Anton | Brian | Colin | Diego |\n",
    "| ----- | ----- | ----- | ----- | ----- |      \n",
    "| Agnes |   1   |   3   |   2   |   4   |\n",
    "| Betsy |   4   |   3   |   1   |   2   |\n",
    "| Chloe |   1   |   4   |   3   |   2   |\n",
    "| Diana |   1   |   4   |   3   |   2   |\n",
    "\n",
    "After the first round, that sees all men propose, we have:\n",
    "\n",
    "|       | Anton | Brian | Colin | Diego |\n",
    "| ----- | ----- | ----- | ----- | ----- |      \n",
    "| Agnes |       |       |       |       |\n",
    "| Betsy |       |       |       |       |\n",
    "| Chloe |       |       |   ✔   |       |\n",
    "| Diana |   ✔   |   ✘   |       |   ✘   |\n",
    "\n",
    "After the second round, that sees Brian and Diego propose, we have:\n",
    "\n",
    "|       | Anton | Brian | Colin | Diego |\n",
    "| ----- | ----- | ----- | ----- | ----- |      \n",
    "| Agnes |       |       |       |       |\n",
    "| Betsy |       |   ✔   |       |       |\n",
    "| Chloe |       |       |   ✘   |   ✔   |\n",
    "| Diana |   ✔   |   ✘   |       |   ✘   |\n",
    "\n",
    "After the third and last round, that sees Colin propose, we have:\n",
    "\n",
    "|       | Anton | Brian | Colin | Diego |\n",
    "| ----- | ----- | ----- | ----- | ----- |      \n",
    "| Agnes |       |       |   ✔   |       |\n",
    "| Betsy |       |   ✔   |       |       |\n",
    "| Chloe |       |       |   ✘   |   ✔   |\n",
    "| Diana |   ✔   |   ✘   |       |   ✘   |"
   ]
  },
  {
   "cell_type": "markdown",
   "metadata": {},
   "source": [
    "**Proposition 1.**$\\ $ _The men-proposing version of the algorithm yields stable marriages._"
   ]
  },
  {
   "cell_type": "markdown",
   "metadata": {},
   "source": [
    "_Proof._$\\ $ Since there are $nm$ possible rejections, and any woman rejects any man at most once, the algorithm terminates. Either all men or all women eventually found a match: otherwise, there is a woman who was not proposed to by any man, and a man who has not found a match could then still propose to her. Consider a man $M$. If $M$ is single then he was rejected by all women, and so every woman prefers her spouse to him. If $M$ is not single then he proposed to all women he prefers to his spouse before he proposed to the latter, the others having rejected him and ending up married to a man they prefer to him. Hence all marriages are stable.$\\ $ Q.E.D."
   ]
  },
  {
   "cell_type": "markdown",
   "metadata": {},
   "source": [
    "Say that a man or a woman is _attainable_ to a woman or a man, respectively, if both are matched together in at least one set of stable marriages."
   ]
  },
  {
   "cell_type": "markdown",
   "metadata": {},
   "source": [
    "**Proposition 2.<a name=prop_2></a>**$\\ $ _The men-proposing version of the algorithm yields marriages with the following properties._\n",
    "\n",
    "* _It matches every man to his most preferred attainable woman._\n",
    "* _It matches every woman to her least preferred attainable man._"
   ]
  },
  {
   "cell_type": "markdown",
   "metadata": {},
   "source": [
    "_Proof._$\\ $ For a contradiction, suppose that the first claim of the proposition does not hold. Consider the first round of the men-proposing algorithm when a man is rejected by his most preferred attainable woman. Let $M$ and $W$ be such a man and woman, respectively. At the end of his round, $W$ is provisionally matched to another man, $M'$. So $W$ prefers $M'$ to $M$, and by the choice of the round, $W$ is a woman that $M'$ prefers to his most preferred attainable woman or she is that woman. Consider a set of stable marriages where $M$ and $W$ are matched, that exists by the definition of attainability. In that set, $M'$ is matched to a woman $W'$ he likes less no more than his most preferred attainable woman, hence less than $W$. But that set cannot exist as $W$ prefers $M'$ to $M$ and $M'$ prefers $W$ to $W'$, a contradiction, as desired.\n",
    "\n",
    "For a contradiction again, suppose that the second claim of the proposition does not hold. By the first part, we can consider a woman $W$ such that the men-proposing algorithm matches $W$ to the man $M$ she is the most preferred attainable woman of, whom she likes less than her least preferred attainable man, $M'$. Consider a set of stable marriages where $W$ and $M'$ are matched, that exists by the definition of attainability. In that set, $M$ is matched to another woman, $W'$. But that set cannot exist as $W$ prefers $M'$ to $M$ and $M'$ prefers $W$ to $W'$, a contradiction, as desired.$\\ $ Q.E.D."
   ]
  },
  {
   "cell_type": "markdown",
   "metadata": {},
   "source": [
    "**Corollary 3.**$\\ $ _Given a man $M$ and a woman $W$, if both the men-proposing and the women-proposing versions of the algorithm match $M$ to $W$, then $M$ and $W$ are matched in all sets of stable marriages._"
   ]
  },
  {
   "cell_type": "markdown",
   "metadata": {},
   "source": [
    "**Corollary 4.**$\\ $ _All sets of stable marriages involve the same men and women._"
   ]
  },
  {
   "cell_type": "markdown",
   "metadata": {},
   "source": [
    "_Proof._$\\ $ If two sets of stable marriages involved different men, then there would be more men than women, hence some woman would be most preferred by at least two men, contradicting part 1 of Proposition [2](#prop_2).\n",
    "If two sets of stable marriages involved different women, then there would be more women than men, hence some man would be least preferred by at least two women, contradicting part 2 of Proposition [2](#prop_2).$\\ $ Q.E.D."
   ]
  },
  {
   "cell_type": "markdown",
   "metadata": {},
   "source": [
    "# Task"
   ]
  },
  {
   "cell_type": "markdown",
   "metadata": {},
   "source": [
    "Write a program `stable_matching.py` that implements a class `GaleShapley` with the following methods (and possibly others):\n",
    "\n",
    "* `__init__(self)`, that prompts the user to provide the preferences of $n$ men for $m$ women (for arbitrary natural numbers $n$ and $m$), and the other way around. For the expression of those preferences, men are identified as 1, ..., $n$ and women as 1, ..., $m$. The preferences for a given man is a permutation of $\\{1,...,m\\}$, provided as a list, that enumerates the women from most preferred to least preferred for this man. Similarly, the preferences for a given woman is a permutation of $\\{1,...,n\\}$, provided as a list, that enumerates the men from most preferred to least preferred for this woman. Men preferences are provided as a single list, consisting of the lists of individual preferences, from that of the first man to that of the last man. Similarly, women preferences are provided as a single list, consisting of the lists of individual preferences, from that of the first woman to that of the last woman.\n",
    "    * The user is prompted until input is as expected, with $n$ and $m$ determined from the first input (the list of preferences for men).\n",
    "    * The user is also offered to optionally input names for men and names for women. In the output, individuals are referred to by those names rather than by 1, ..., $n$ for men or 1, ..., $m$ for women. If names are not provided, then the individuals are not referred to by 1, ..., $n$ or 1, ..., $m$ either, but by \"man 1\", ..., \"man n\" or \"woman 1\", ..., \"woman m\", respectively.\n",
    "* `stable_matching(self, men_proposing=True)`, that applies the Gale Shapley algorithm, using by default the men-proposing version of the algorithm, unless the function's second argument is set to False, in which case the women-proposing version of the algorithm is used. The function outputs the matches, with proposers listed first, in lexicographic order.\n",
    "\n",
    "The `literal_eval()` function from the `ast` module migth prove useful. The \"marriage symbol\" is the Unicode character `'\\u26ad'`."
   ]
  },
  {
   "cell_type": "markdown",
   "metadata": {},
   "source": [
    "# Tests"
   ]
  },
  {
   "cell_type": "markdown",
   "metadata": {},
   "source": [
    "## First example"
   ]
  },
  {
   "cell_type": "markdown",
   "metadata": {},
   "source": [
    "### Men-proposing version "
   ]
  },
  {
   "cell_type": "code",
   "execution_count": null,
   "metadata": {},
   "outputs": [],
   "source": [
    "user_input = '[[4,2,1,3], [4,2,1,3], [3,1,2,4], [4,3,2,1]]\\n'\\\n",
    "             '[[1,3,2,4], [3,4,2,1], [1,4,3,2], [1,4,3,2]]\\n'\\\n",
    "             'Anton Brian Colin Diego\\nAgnes Betsy Chloe Diana\\n'\n",
    "statements = 'from stable_matching import *; GaleShapley().stable_matching()'"
   ]
  },
  {
   "cell_type": "code",
   "execution_count": null,
   "metadata": {},
   "outputs": [],
   "source": [
    "%%run_and_test -i\"$user_input\" python3 -c \"$statements\"\n",
    "\n",
    "'Enter a list of n lists, each of which is a permutation of {1, ..., m},\\n\n",
    "to express the preferences of n men for m women:\\n\n",
    "    ', '[[4,2,1,3], [4,2,1,3], [3,1,2,4], [4,3,2,1]]\\n',\n",
    "'Enter a list of 4 lists, each of which is a permutation of {1, ..., 4},\\n\n",
    "to express the preferences of the women for the men:\\n\n",
    "    ', '[[1,3,2,4], [3,4,2,1], [1,4,3,2], [1,4,3,2]]\\n',\n",
    "'Optionally input 4 names for the men.\\n\n",
    "In case you do not input 4 distinct strings,\\n\n",
    "then the men will referred to as \"man 1\", ..., \"man 4\":\\n\n",
    "    ', 'Anton Brian Colin Diego\\n',\n",
    "'Optionally input 4 names for the women.\\n\n",
    "In case you do not input 4 distinct strings,\\n\n",
    "then the women will referred to as \"woman 1\", ..., \"woman 4\":\\n\n",
    "    ', 'Agnes Betsy Chloe Diana\\n',\n",
    "'The matches are:\\n\n",
    "Anton ⚭ Diana\\n\n",
    "Brian ⚭ Betsy\\n\n",
    "Colin ⚭ Agnes\\n\n",
    "Diego ⚭ Chloe\\n'"
   ]
  },
  {
   "cell_type": "markdown",
   "metadata": {},
   "source": [
    "### Women-proposing version "
   ]
  },
  {
   "cell_type": "code",
   "execution_count": null,
   "metadata": {},
   "outputs": [],
   "source": [
    "user_input = '[[4,2,1,3], [4,2,1,3], [3,1,2,4], [4,3,2,1]]\\n'\\\n",
    "             '[[1,3,2,4], [3,4,2,1], [1,4,3,2], [1,4,3,2]]\\n'\\\n",
    "             'Anton Brian Colin Diego\\\\nAgnes Betsy Chloe Diana\\n'\n",
    "statements = 'from stable_matching import *; '\\\n",
    "             'GaleShapley().stable_matching(False)'"
   ]
  },
  {
   "cell_type": "code",
   "execution_count": null,
   "metadata": {},
   "outputs": [],
   "source": [
    "%%run_and_test -i\"$user_input\" python3 -c \"$statements\"\n",
    "\n",
    "'Enter a list of n lists, each of which is a permutation of {1, ..., m},\\n\n",
    "to express the preferences of n men for m women:\\n\n",
    "    ', '[[4,2,1,3], [4,2,1,3], [3,1,2,4], [4,3,2,1]]\\n',\n",
    "'Enter a list of 4 lists, each of which is a permutation of {1, ..., 4},\\n\n",
    "to express the preferences of the women for the men:\\n\n",
    "    ', '[[1,3,2,4], [3,4,2,1], [1,4,3,2], [1,4,3,2]]\\n',\n",
    "'Optionally input 4 names for the men.\\n\n",
    "In case you do not input 4 distinct strings,\\n\n",
    "then the men will referred to as \"man 1\", ..., \"man 4\":\\n\n",
    "    ', 'Anton Brian Colin Diego\\n',\n",
    "'Optionally input 4 names for the women.\\n\n",
    "In case you do not input 4 distinct strings,\\n\n",
    "then the women will referred to as \"woman 1\", ..., \"woman 4\":\\n\n",
    "    ', 'Agnes Betsy Chloe Diana\\n',\n",
    "'The matches are:\\n\n",
    "Agnes ⚭ Colin\\n\n",
    "Betsy ⚭ Brian\\n\n",
    "Chloe ⚭ Diego\\n\n",
    "Diana ⚭ Anton\\n'"
   ]
  },
  {
   "cell_type": "markdown",
   "metadata": {},
   "source": [
    "## Second example"
   ]
  },
  {
   "cell_type": "markdown",
   "metadata": {},
   "source": [
    "### Men-proposing version, with input that is not immediately correct"
   ]
  },
  {
   "cell_type": "code",
   "execution_count": null,
   "metadata": {},
   "outputs": [],
   "source": [
    "user_input = '[[1, 2, 3, 4, 1, 4, 3, 2], [2, 1, 3, 4], [4, 2, 3, 1]]\\n'\\\n",
    "             '[[1, 2, 3, 4], [1, 0, 3, 2], [2, 1, 3, 4], [4, 2, 3, 1]]\\n'\\\n",
    "             '[[1, 2, 3, 4], [1, 4, 3, 2], [2, 1, 3, 4], [4, 2, 2, 1]]\\n'\\\n",
    "             '[[1, 2, 3, 4], [1, 4, 3, 2], [2, 1, 3, 4], [4, 2, 3, 1]]\\n'\\\n",
    "             '[[2, 1, 3], [1, 2, 3], [3, 2, 1]]\\n'\\\n",
    "             '[[4, 3, 1, 2], [2, 4, 1, 3], [4, 1, 2, 3], [3, 2, 1, 4]]\\n\\n\\n'\n",
    "statements = 'from stable_matching import *; GaleShapley().stable_matching()'"
   ]
  },
  {
   "cell_type": "code",
   "execution_count": null,
   "metadata": {},
   "outputs": [],
   "source": [
    "%%run_and_test -s20000 -i\"$user_input\" python3 -c \"$statements\"\n",
    "\n",
    "'Enter a list of n lists, each of which is a permutation of {1, ..., m},\\n\n",
    "to express the preferences of n men for m women:\\n\n",
    "    ', '[[1, 2, 3, 4, 1, 4, 3, 2], [2, 1, 3, 4], [4, 2, 3, 1]]\\n',\n",
    "'Your input is incorrect.\\n\n",
    "Enter a list of n lists, each of which is a permutation of {1, ..., m},\\n\n",
    "to express the preferences of n men for m women:\\n\n",
    "    ', '[[1, 2, 3, 4], [1, 0, 3, 2], [2, 1, 3, 4], [4, 2, 3, 1]]\\n',\n",
    "'Your input is incorrect.\\n\n",
    "Enter a list of n lists, each of which is a permutation of {1, ..., m},\\n\n",
    "to express the preferences of n men for m women:\\n\n",
    "    ', '[[1, 2, 3, 4], [1, 4, 3, 2], [2, 1, 3, 4], [4, 2, 2, 1]]\\n',\n",
    "'Your input is incorrect.\\n\n",
    "Enter a list of n lists, each of which is a permutation of {1, ..., m},\\n\n",
    "to express the preferences of n men for m women:\\n\n",
    "    ', '[[1, 2, 3, 4], [1, 4, 3, 2], [2, 1, 3, 4], [4, 2, 3, 1]]\\n',\n",
    "'Enter a list of 4 lists, each of which is a permutation of {1, ..., 4},\\n\n",
    "to express the preferences of the women for the men:\\n\n",
    "    ', '[[2, 1, 3], [1, 2, 3], [3, 2, 1]]\\n',\n",
    "'Your input is incorrect.\\n\n",
    "Enter a list of 4 lists, each of which is a permutation of {1, ..., 4},\\n\n",
    "to express the preferences of the women for the men:\\n\n",
    "    ', '[[4, 3, 1, 2], [2, 4, 1, 3], [4, 1, 2, 3], [3, 2, 1, 4]]\\n',\n",
    "'Optionally input 4 names for the men.\\n\n",
    "In case you do not input 4 distinct strings,\\n\n",
    "then the men will referred to as \"man 1\", ..., \"man 4\":\\n\n",
    "    ', '\\n',\n",
    "'Optionally input 4 names for the women.\\n\n",
    "In case you do not input 4 distinct strings,\\n\n",
    "then the women will referred to as \"woman 1\", ..., \"woman 4\":\\n\n",
    "    ', '\\n',\n",
    "'The matches are:\\n\n",
    "man 1 ⚭ woman 3\\n\n",
    "man 2 ⚭ woman 4\\n\n",
    "man 3 ⚭ woman 1\\n\n",
    "man 4 ⚭ woman 2\\n'"
   ]
  },
  {
   "cell_type": "markdown",
   "metadata": {},
   "source": [
    "### Women-proposing version"
   ]
  },
  {
   "cell_type": "code",
   "execution_count": null,
   "metadata": {},
   "outputs": [],
   "source": [
    "user_input = '[[1, 2, 3, 4], [1, 4, 3, 2], [2, 1, 3, 4], [4, 2, 3, 1]]\\n'\\\n",
    "             '[[4, 3, 1, 2], [2, 4, 1, 3], [4, 1, 2, 3], [3, 2, 1, 4]]\\n\\n\\n'\n",
    "statements = 'from stable_matching import *; '\\\n",
    "             'GaleShapley().stable_matching(False)'"
   ]
  },
  {
   "cell_type": "code",
   "execution_count": null,
   "metadata": {},
   "outputs": [],
   "source": [
    "%%run_and_test -i\"$user_input\" python3 -c \"$statements\"\n",
    "\n",
    "'Enter a list of n lists, each of which is a permutation of {1, ..., m},\\n\n",
    "to express the preferences of n men for m women:\\n\n",
    "    ', '[[1, 2, 3, 4], [1, 4, 3, 2], [2, 1, 3, 4], [4, 2, 3, 1]]\\n',\n",
    "'Enter a list of 4 lists, each of which is a permutation of {1, ..., 4},\\n\n",
    "to express the preferences of the women for the men:\\n\n",
    "    ', '[[4, 3, 1, 2], [2, 4, 1, 3], [4, 1, 2, 3], [3, 2, 1, 4]]\\n',\n",
    "'Optionally input 4 names for the men.\\n\n",
    "In case you do not input 4 distinct strings,\\n\n",
    "then the men will referred to as \"man 1\", ..., \"man 4\":\\n\n",
    "    ', '\\n',\n",
    "'Optionally input 4 names for the women.\\n\n",
    "In case you do not input 4 distinct strings,\\n\n",
    "then the women will referred to as \"woman 1\", ..., \"woman 4\":\\n\n",
    "    ', '\\n',\n",
    "'The matches are:\\n\n",
    "woman 1 ⚭ man 3\\n\n",
    "woman 2 ⚭ man 4\\n\n",
    "woman 3 ⚭ man 1\\n\n",
    "woman 4 ⚭ man 2\\n'"
   ]
  },
  {
   "cell_type": "markdown",
   "metadata": {},
   "source": [
    "## Third example "
   ]
  },
  {
   "cell_type": "markdown",
   "metadata": {},
   "source": [
    "### Men-proposing version"
   ]
  },
  {
   "cell_type": "code",
   "execution_count": null,
   "metadata": {},
   "outputs": [],
   "source": [
    "user_input = '[[3, 1, 4, 2], [2, 1, 4, 3], [2, 4, 1, 3], [3, 1, 2, 4]]\\n'\\\n",
    "             '[[2, 3, 4, 1], [4, 2, 3, 1], [1, 4, 3, 2], [4, 1, 2, 3]]\\n'\\\n",
    "             'Paul John Peter Jack\\nLisa Gina Laura Andrea\\n'\n",
    "statements = 'from stable_matching import *; GaleShapley().stable_matching()'"
   ]
  },
  {
   "cell_type": "code",
   "execution_count": null,
   "metadata": {},
   "outputs": [],
   "source": [
    "%%run_and_test -i\"$user_input\" python3 -c \"$statements\"\n",
    "\n",
    "'Enter a list of n lists, each of which is a permutation of {1, ..., m},\\n\n",
    "to express the preferences of n men for m women:\\n\n",
    "    ', '[[3, 1, 4, 2], [2, 1, 4, 3], [2, 4, 1, 3], [3, 1, 2, 4]]\\n',\n",
    "'Enter a list of 4 lists, each of which is a permutation of {1, ..., 4},\\n\n",
    "to express the preferences of the women for the men:\\n\n",
    "    ', '[[2, 3, 4, 1], [4, 2, 3, 1], [1, 4, 3, 2], [4, 1, 2, 3]]\\n',\n",
    "'Optionally input 4 names for the men.\\n\n",
    "In case you do not input 4 distinct strings,\\n\n",
    "then the men will referred to as \"man 1\", ..., \"man 4\":\\n\n",
    "    ', 'Paul John Peter Jack\\n',\n",
    "'Optionally input 4 names for the women.\\n\n",
    "In case you do not input 4 distinct strings,\\n\n",
    "then the women will referred to as \"woman 1\", ..., \"woman 4\":\\n\n",
    "    ', 'Lisa Gina Laura Andrea\\n',\n",
    "'The matches are:\\n\n",
    "Jack ⚭ Lisa\\n\n",
    "John ⚭ Gina\\n\n",
    "Paul ⚭ Laura\\n\n",
    "Peter ⚭ Andrea\\n'"
   ]
  },
  {
   "cell_type": "markdown",
   "metadata": {},
   "source": [
    "### Women-proposing version "
   ]
  },
  {
   "cell_type": "code",
   "execution_count": null,
   "metadata": {},
   "outputs": [],
   "source": [
    "user_input = '[[3, 1, 4, 2], [2, 1, 4, 3], [2, 4, 1, 3], [3, 1, 2, 4]]\\n'\\\n",
    "             '[[2, 3, 4, 1], [4, 2, 3, 1], [1, 4, 3, 2], [4, 1, 2, 3]]\\n'\\\n",
    "             'Paul John Peter Jack\\nLisa Gina Laura Andrea\\n'\n",
    "statements = 'from stable_matching import *; '\\\n",
    "             'GaleShapley().stable_matching(False)'"
   ]
  },
  {
   "cell_type": "code",
   "execution_count": null,
   "metadata": {},
   "outputs": [],
   "source": [
    "%%run_and_test -i\"$user_input\" python3 -c \"$statements\"\n",
    "\n",
    "'Enter a list of n lists, each of which is a permutation of {1, ..., m},\\n\n",
    "to express the preferences of n men for m women:\\n\n",
    "    ', '[[3, 1, 4, 2], [2, 1, 4, 3], [2, 4, 1, 3], [3, 1, 2, 4]]\\n',\n",
    "'Enter a list of 4 lists, each of which is a permutation of {1, ..., 4},\\n\n",
    "to express the preferences of the women for the men:\\n\n",
    "    ', '[[2, 3, 4, 1], [4, 2, 3, 1], [1, 4, 3, 2], [4, 1, 2, 3]]\\n',\n",
    "'Optionally input 4 names for the men.\\n\n",
    "In case you do not input 4 distinct strings,\\n\n",
    "then the men will referred to as \"man 1\", ..., \"man 4\":\\n\n",
    "    ', 'Paul John Peter Jack\\n',\n",
    "'Optionally input 4 names for the women.\\n\n",
    "In case you do not input 4 distinct strings,\\n\n",
    "then the women will referred to as \"woman 1\", ..., \"woman 4\":\\n\n",
    "    ', 'Lisa Gina Laura Andrea\\n',\n",
    "'The matches are:\\n\n",
    "Andrea ⚭ Peter\\n\n",
    "Gina ⚭ Jack\\n\n",
    "Laura ⚭ Paul\\n\n",
    "Lisa ⚭ John\\n'"
   ]
  },
  {
   "cell_type": "markdown",
   "metadata": {},
   "source": [
    "## Fourth example"
   ]
  },
  {
   "cell_type": "markdown",
   "metadata": {},
   "source": [
    "### Men-proposing version "
   ]
  },
  {
   "cell_type": "code",
   "execution_count": null,
   "metadata": {},
   "outputs": [],
   "source": [
    "user_input = '[[1, 2, 3], [2, 3, 1], [1, 3, 2]]\\n'\\\n",
    "             '[[2, 3, 1], [2, 3, 1], [1, 2, 3]]\\n\\n\\n'\n",
    "statements = 'from stable_matching import *; GaleShapley().stable_matching()'"
   ]
  },
  {
   "cell_type": "code",
   "execution_count": null,
   "metadata": {},
   "outputs": [],
   "source": [
    "%%run_and_test -i\"$user_input\" python3 -c \"$statements\"\n",
    "\n",
    "'Enter a list of n lists, each of which is a permutation of {1, ..., m},\\n\n",
    "to express the preferences of n men for m women:\\n\n",
    "    ', '[[1, 2, 3], [2, 3, 1], [1, 3, 2]]\\n',\n",
    "'Enter a list of 3 lists, each of which is a permutation of {1, ..., 3},\\n\n",
    "to express the preferences of the women for the men:\\n\n",
    "    ', '[[2, 3, 1], [2, 3, 1], [1, 2, 3]]\\n',\n",
    "'Optionally input 3 names for the men.\\n\n",
    "In case you do not input 3 distinct strings,\\n\n",
    "then the men will referred to as \"man 1\", ..., \"man 3\":\\n\n",
    "    ', '\\n',\n",
    "'Optionally input 3 names for the women.\\n\n",
    "In case you do not input 3 distinct strings,\\n\n",
    "then the women will referred to as \"woman 1\", ..., \"woman 3\":\\n\n",
    "    ', '\\n',\n",
    "'The matches are:\\n\n",
    "man 1 ⚭ woman 3\\n\n",
    "man 2 ⚭ woman 2\\n\n",
    "man 3 ⚭ woman 1\\n'"
   ]
  },
  {
   "cell_type": "markdown",
   "metadata": {},
   "source": [
    "### Women-proposing version "
   ]
  },
  {
   "cell_type": "code",
   "execution_count": null,
   "metadata": {},
   "outputs": [],
   "source": [
    "user_input = '[[1, 2, 3], [2, 3, 1], [1, 3, 2]]\\n'\\\n",
    "             '[[2, 3, 1], [2, 3, 1], [1, 2, 3]]\\n\\n\\n'\n",
    "statements = 'from stable_matching import *; '\\\n",
    "             'GaleShapley().stable_matching(False)'"
   ]
  },
  {
   "cell_type": "code",
   "execution_count": null,
   "metadata": {},
   "outputs": [],
   "source": [
    "%%run_and_test -i\"$user_input\" python3 -c \"$statements\"\n",
    "\n",
    "'Enter a list of n lists, each of which is a permutation of {1, ..., m},\\n\n",
    "to express the preferences of n men for m women:\\n\n",
    "    ', '[[1, 2, 3], [2, 3, 1], [1, 3, 2]]\\n',\n",
    "'Enter a list of 3 lists, each of which is a permutation of {1, ..., 3},\\n\n",
    "to express the preferences of the women for the men:\\n\n",
    "    ', '[[2, 3, 1], [2, 3, 1], [1, 2, 3]]\\n',\n",
    "'Optionally input 3 names for the men.\\n\n",
    "In case you do not input 3 distinct strings,\\n\n",
    "then the men will referred to as \"man 1\", ..., \"man 3\":\\n\n",
    "    ', '\\n',\n",
    "'Optionally input 3 names for the women.\\n\n",
    "In case you do not input 3 distinct strings,\\n\n",
    "then the women will referred to as \"woman 1\", ..., \"woman 3\":\\n\n",
    "    ', '\\n',\n",
    "'The matches are:\\n\n",
    "woman 1 ⚭ man 3\\n\n",
    "woman 2 ⚭ man 2\\n\n",
    "woman 3 ⚭ man 1\\n'"
   ]
  },
  {
   "cell_type": "markdown",
   "metadata": {},
   "source": [
    "## Fifth example"
   ]
  },
  {
   "cell_type": "markdown",
   "metadata": {},
   "source": [
    "### Men-proposing version "
   ]
  },
  {
   "cell_type": "code",
   "execution_count": null,
   "metadata": {},
   "outputs": [],
   "source": [
    "user_input = '[[2, 1], [2, 1], [1, 2]]\\n[[1, 2, 3], [2, 3, 1]]\\n\\n\\n'\n",
    "statements = 'from stable_matching import *; GaleShapley().stable_matching()'"
   ]
  },
  {
   "cell_type": "code",
   "execution_count": null,
   "metadata": {},
   "outputs": [],
   "source": [
    "%%run_and_test -i\"$user_input\" python3 -c \"$statements\"\n",
    "\n",
    "'Enter a list of n lists, each of which is a permutation of {1, ..., m},\\n\n",
    "to express the preferences of n men for m women:\\n\n",
    "    ', '[[2, 1], [2, 1], [1, 2]]\\n',\n",
    "'Enter a list of 2 lists, each of which is a permutation of {1, ..., 3},\\n\n",
    "to express the preferences of the women for the men:\\n\n",
    "    ', '[[1, 2, 3], [2, 3, 1]]\\n',\n",
    "'Optionally input 3 names for the men.\\n\n",
    "In case you do not input 3 distinct strings,\\n\n",
    "then the men will referred to as \"man 1\", ..., \"man 3\":\\n\n",
    "    ', '\\n',\n",
    "'Optionally input 2 names for the women.\\n\n",
    "In case you do not input 2 distinct strings,\\n\n",
    "then the women will referred to as \"woman 1\", ..., \"woman 2\":\\n\n",
    "    ', '\\n',\n",
    "'The matches are:\\n\n",
    "man 1 ⚭ woman 1\\n\n",
    "man 2 ⚭ woman 2\\n'"
   ]
  },
  {
   "cell_type": "markdown",
   "metadata": {},
   "source": [
    "### Women-proposing version "
   ]
  },
  {
   "cell_type": "code",
   "execution_count": null,
   "metadata": {},
   "outputs": [],
   "source": [
    "user_input = '[[2, 1], [2, 1], [1, 2]]\\n[[1, 2, 3], [2, 3, 1]]\\n\\n\\n'\n",
    "statements = 'from stable_matching import *; '\\\n",
    "             'GaleShapley().stable_matching(False)'"
   ]
  },
  {
   "cell_type": "code",
   "execution_count": null,
   "metadata": {},
   "outputs": [],
   "source": [
    "%%run_and_test -i\"$user_input\" python3 -c \"$statements\"\n",
    "\n",
    "'Enter a list of n lists, each of which is a permutation of {1, ..., m},\\n\n",
    "to express the preferences of n men for m women:\\n\n",
    "    ', '[[2, 1], [2, 1], [1, 2]]\\n',\n",
    "'Enter a list of 2 lists, each of which is a permutation of {1, ..., 3},\\n\n",
    "to express the preferences of the women for the men:\\n\n",
    "    ', '[[1, 2, 3], [2, 3, 1]]\\n',\n",
    "'Optionally input 3 names for the men.\\n\n",
    "In case you do not input 3 distinct strings,\\n\n",
    "then the men will referred to as \"man 1\", ..., \"man 3\":\\n\n",
    "    ', '\\n',\n",
    "'Optionally input 2 names for the women.\\n\n",
    "In case you do not input 2 distinct strings,\\n\n",
    "then the women will referred to as \"woman 1\", ..., \"woman 2\":\\n\n",
    "    ', '\\n',\n",
    "'The matches are:\\n\n",
    "woman 1 ⚭ man 1\\n\n",
    "woman 2 ⚭ man 2\\n'"
   ]
  }
 ],
 "metadata": {
  "kernelspec": {
   "display_name": "Python 3 (ipykernel)",
   "language": "python",
   "name": "python3"
  },
  "language_info": {
   "codemirror_mode": {
    "name": "ipython",
    "version": 3
   },
   "file_extension": ".py",
   "mimetype": "text/x-python",
   "name": "python",
   "nbconvert_exporter": "python",
   "pygments_lexer": "ipython3",
   "version": "3.10.2"
  },
  "latex_envs": {
   "LaTeX_envs_menu_present": true,
   "autoclose": false,
   "autocomplete": true,
   "bibliofile": "biblio.bib",
   "cite_by": "apalike",
   "current_citInitial": 1,
   "eqLabelWithNumbers": true,
   "eqNumInitial": 1,
   "hotkeys": {
    "equation": "Ctrl-E",
    "itemize": "Ctrl-I"
   },
   "labels_anchors": false,
   "latex_user_defs": false,
   "report_style_numbering": false,
   "user_envs_cfg": false
  },
  "toc": {
   "base_numbering": 1,
   "nav_menu": {},
   "number_sections": true,
   "sideBar": true,
   "skip_h1_title": false,
   "title_cell": "Table of Contents",
   "title_sidebar": "Contents",
   "toc_cell": false,
   "toc_position": {},
   "toc_section_display": true,
   "toc_window_display": false
  },
  "widgets": {
   "application/vnd.jupyter.widget-state+json": {
    "state": {},
    "version_major": 2,
    "version_minor": 0
   }
  }
 },
 "nbformat": 4,
 "nbformat_minor": 4
}
