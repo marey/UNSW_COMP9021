{
 "cells": [
  {
   "cell_type": "code",
   "execution_count": null,
   "metadata": {},
   "outputs": [],
   "source": [
    "load_ext run_and_test"
   ]
  },
  {
   "cell_type": "markdown",
   "metadata": {},
   "source": [
    "# Background"
   ]
  },
  {
   "cell_type": "markdown",
   "metadata": {},
   "source": [
    "We consider 5 dice $\\mathit{die}_1$, ..., $\\mathit{die}_5$ with 4, 6, 8, 12, and 20 faces, respectively. We randomly chose one of $\\mathit{die}_1$, ..., $\\mathit{die}_5$, say $\\mathit{die}$, and cast it again and again. The aim is to, after each cast, estimate the probability that $\\mathit{die}$ is actually $\\mathit{die}_i$, for $i\\in\\{1,\\dots,5\\}$.\n",
    "\n",
    "Let $p$ denote the probability distribution under consideration. Let $H_i$ be the hypothesis that $\\mathit{die}$ is $\\mathit{die}_i$, $i\\in\\{1,\\dots,5\\}$.\n",
    "\n",
    "Before the first cast, $p(H_i)=0.2$ for all $i\\in\\{1,\\dots,5\\}$.\n",
    "\n",
    "After each cast, the values of $p(H_i)$, $i\\in\\{1,\\dots,5\\}$, are updated using Bayes' rule. More precisely, a new cast of $\\mathit{die}$ yields a particular number $n$ between 1 and $\\mathit{die}$'s number of faces. Denoting by $D$ the event that $n$ is observed as the outcome of the cast, Bayes' rule states that for all $i\\in\\{1,\\dots,5\\}$, $p(H_i)$, the *prior*, is changed to $p(H_i/D)$, the *posterior*, with:\n",
    "\n",
    "\\begin{equation}\n",
    "p(H_i/D) = p(D/H_i) * p(H_i) / p(D)\\tag{*}\\label{*}\n",
    "\\end{equation}\n",
    "\n",
    "In Equation $\\eqref{*}$, $p(D/H_i)$, that is, the probability of observing $n$ if the chosen die is $\\mathit{die}_i$, is equal to 1 over $\\mathit{die}_i$'s number of faces if $\\mathit{die}_i$ has at least $n$ faces (so it is possible for $\\mathit{die}_i$ to yield $n$), and to 0 otherwise. As for $p(D)$, it can be computed thanks to the equality:\n",
    "\n",
    "\\begin{equation}\n",
    "p(D) = \\Sigma_{i=1}^5p(D/H_i)p(H_i)\n",
    "\\end{equation}"
   ]
  },
  {
   "cell_type": "markdown",
   "metadata": {},
   "source": [
    "# Task"
   ]
  },
  {
   "cell_type": "markdown",
   "metadata": {},
   "source": [
    "Write a program `bayes_rule.py` that executes as follows.\n",
    "\n",
    "* It randomly selects $\\mathit{die}$ as one of the 5 possible dice and lets the user know which die that is.\n",
    "* It prompts the user for the desired number of times $\\mathit{die}$ is to be cast.  If that number is at most 5, then the probabilities $p(H_i)$, $i\\in\\{1,\\dots,5\\}$, after each cast are computed and displayed. If that number is greater than 5, then the probabilities $p(H_i)$, $i\\in\\{1,\\dots,5\\}$, after each of the first 5 casts are computed and displayed, followed by the final probability values after all casts have been performed.\n",
    "\n",
    "To be able to replicate a given simulation, the program first prompts the user to optionally use a seed. If an integer is input then it is given as argument to the `seed()` function from the `random` module; otherwise, `seed()` is given 0 as argument.\n",
    "\n",
    "* The chosen die $\\mathit{die}$ is randomly chosen with a call to the `choice()` function from the random module, applied to a sequence that refers to the 5 possible dice, from the one with the least number of faces to the one with the largest number of faces.\n",
    "* Then each cast is simulated with a call to the `choice()` function, with as argument the sequence of all integers between 1 and $\\mathit{die}$'s number of faces (given as a list, or a tuple, or a range).\n",
    "\n",
    "Probabilities are given as percents with 2 digits after the decimal point. "
   ]
  },
  {
   "cell_type": "markdown",
   "metadata": {},
   "source": [
    "# Tests"
   ]
  },
  {
   "cell_type": "markdown",
   "metadata": {},
   "source": [
    "## Casting the die with 12 faces once"
   ]
  },
  {
   "cell_type": "code",
   "execution_count": null,
   "metadata": {},
   "outputs": [],
   "source": [
    "%%run_and_test -i'\\n1\\n' python3 bayes_rule.py\n",
    "\n",
    "'Feed seed if desired: ', '\\n',\n",
    "'Enter the desired number of times a randomly chosen die will be cast: ',\n",
    "'1\\n',\n",
    "'\\n\n",
    "This is a secret, but the chosen die is the one with 12 faces.\\n\n",
    "\\n\n",
    "Casting the chosen die... Outcome: 7\\n\n",
    "The updated dice probabilities are:\\n\n",
    "     4: 0.00%\\n\n",
    "     6: 0.00%\\n\n",
    "     8: 48.39%\\n\n",
    "    12: 32.26%\\n\n",
    "    20: 19.35%\\n'"
   ]
  },
  {
   "cell_type": "markdown",
   "metadata": {},
   "source": [
    "## Casting the die with 4 faces once"
   ]
  },
  {
   "cell_type": "code",
   "execution_count": null,
   "metadata": {
    "run_control": {
     "marked": false
    }
   },
   "outputs": [],
   "source": [
    "%%run_and_test -i'2\\n1\\n' python3 bayes_rule.py\n",
    "\n",
    "'Feed seed if desired: ', '2\\n',\n",
    "'Enter the desired number of times a randomly chosen die will be cast: ',\n",
    "'1\\n',\n",
    "'\\n\n",
    "This is a secret, but the chosen die is the one with 4 faces.\\n\n",
    "\\n\n",
    "Casting the chosen die... Outcome: 1\\n\n",
    "The updated dice probabilities are:\\n\n",
    "     4: 37.04%\\n\n",
    "     6: 24.69%\\n\n",
    "     8: 18.52%\\n\n",
    "    12: 12.35%\\n\n",
    "    20: 7.41%\\n'"
   ]
  },
  {
   "cell_type": "markdown",
   "metadata": {},
   "source": [
    "## Casting the die with 20 faces once"
   ]
  },
  {
   "cell_type": "code",
   "execution_count": null,
   "metadata": {
    "run_control": {
     "marked": false
    }
   },
   "outputs": [],
   "source": [
    "%%run_and_test -i'17\\n1\\n' python3 bayes_rule.py\n",
    "\n",
    "'Feed seed if desired: ', '17\\n',\n",
    "'Enter the desired number of times a randomly chosen die will be cast: ',\n",
    "'1\\n',\n",
    "'\\n\n",
    "This is a secret, but the chosen die is the one with 20 faces.\\n\n",
    "\\n\n",
    "Casting the chosen die... Outcome: 14\\n\n",
    "The updated dice probabilities are:\\n\n",
    "     4: 0.00%\\n\n",
    "     6: 0.00%\\n\n",
    "     8: 0.00%\\n\n",
    "    12: 0.00%\\n\n",
    "    20: 100.00%\\n'"
   ]
  },
  {
   "cell_type": "markdown",
   "metadata": {},
   "source": [
    "## Casting the die with 6 faces twice"
   ]
  },
  {
   "cell_type": "code",
   "execution_count": null,
   "metadata": {},
   "outputs": [],
   "source": [
    "%%run_and_test -i'1\\n2\\n' python3 bayes_rule.py\n",
    "\n",
    "'Feed seed if desired: ', '1\\n',\n",
    "'Enter the desired number of times a randomly chosen die will be cast: ',\n",
    "'2\\n',\n",
    "'\\n\n",
    "This is a secret, but the chosen die is the one with 6 faces.\\n\n",
    "\\n\n",
    "Casting the chosen die... Outcome: 5\\n\n",
    "The updated dice probabilities are:\\n\n",
    "     4: 0.00%\\n\n",
    "     6: 39.22%\\n\n",
    "     8: 29.41%\\n\n",
    "    12: 19.61%\\n\n",
    "    20: 11.76%\\n\n",
    "\\n\n",
    "Casting the chosen die... Outcome: 1\\n\n",
    "The updated dice probabilities are:\\n\n",
    "     4: 0.00%\\n\n",
    "     6: 52.56%\\n\n",
    "     8: 29.57%\\n\n",
    "    12: 13.14%\\n\n",
    "    20: 4.73%\\n'"
   ]
  },
  {
   "cell_type": "markdown",
   "metadata": {},
   "source": [
    "## Casting the die with 8 faces thrice"
   ]
  },
  {
   "cell_type": "code",
   "execution_count": null,
   "metadata": {},
   "outputs": [],
   "source": [
    "%%run_and_test -i'23\\n3\\n' python3 bayes_rule.py\n",
    "\n",
    "'Feed seed if desired: ', '23\\n',\n",
    "'Enter the desired number of times a randomly chosen die will be cast: ',\n",
    "'3\\n',\n",
    "'\\n\n",
    "This is a secret, but the chosen die is the one with 8 faces.\\n\n",
    "\\n\n",
    "Casting the chosen die... Outcome: 2\\n\n",
    "The updated dice probabilities are:\\n\n",
    "     4: 37.04%\\n\n",
    "     6: 24.69%\\n\n",
    "     8: 18.52%\\n\n",
    "    12: 12.35%\\n\n",
    "    20: 7.41%\\n\n",
    "\\n\n",
    "Casting the chosen die... Outcome: 1\\n\n",
    "The updated dice probabilities are:\\n\n",
    "     4: 54.18%\\n\n",
    "     6: 24.08%\\n\n",
    "     8: 13.55%\\n\n",
    "    12: 6.02%\\n\n",
    "    20: 2.17%\\n\n",
    "\\n\n",
    "Casting the chosen die... Outcome: 5\\n\n",
    "The updated dice probabilities are:\\n\n",
    "     4: 0.00%\\n\n",
    "     6: 63.54%\\n\n",
    "     8: 26.80%\\n\n",
    "    12: 7.94%\\n\n",
    "    20: 1.72%\\n'"
   ]
  },
  {
   "cell_type": "markdown",
   "metadata": {},
   "source": [
    "## Casting the die with 12 faces 5 times"
   ]
  },
  {
   "cell_type": "code",
   "execution_count": null,
   "metadata": {},
   "outputs": [],
   "source": [
    "%%run_and_test -i'9\\n5\\n' python3 bayes_rule.py\n",
    "\n",
    "'Feed seed if desired: ', '9\\n',\n",
    "'Enter the desired number of times a randomly chosen die will be cast: ',\n",
    "'5\\n',\n",
    "'\\n\n",
    "This is a secret, but the chosen die is the one with 12 faces.\\n\n",
    "\\n\n",
    "Casting the chosen die... Outcome: 10\\n\n",
    "The updated dice probabilities are:\\n\n",
    "     4: 0.00%\\n\n",
    "     6: 0.00%\\n\n",
    "     8: 0.00%\\n\n",
    "    12: 62.50%\\n\n",
    "    20: 37.50%\\n\n",
    "\\n\n",
    "Casting the chosen die... Outcome: 6\\n\n",
    "The updated dice probabilities are:\\n\n",
    "     4: 0.00%\\n\n",
    "     6: 0.00%\\n\n",
    "     8: 0.00%\\n\n",
    "    12: 73.53%\\n\n",
    "    20: 26.47%\\n\n",
    "\\n\n",
    "Casting the chosen die... Outcome: 5\\n\n",
    "The updated dice probabilities are:\\n\n",
    "     4: 0.00%\\n\n",
    "     6: 0.00%\\n\n",
    "     8: 0.00%\\n\n",
    "    12: 82.24%\\n\n",
    "    20: 17.76%\\n\n",
    "\\n\n",
    "Casting the chosen die... Outcome: 3\\n\n",
    "The updated dice probabilities are:\\n\n",
    "     4: 0.00%\\n\n",
    "     6: 0.00%\\n\n",
    "     8: 0.00%\\n\n",
    "    12: 88.53%\\n\n",
    "    20: 11.47%\\n\n",
    "\\n\n",
    "Casting the chosen die... Outcome: 3\\n\n",
    "The updated dice probabilities are:\\n\n",
    "     4: 0.00%\\n\n",
    "     6: 0.00%\\n\n",
    "     8: 0.00%\\n\n",
    "    12: 92.79%\\n\n",
    "    20: 7.21%\\n'"
   ]
  },
  {
   "cell_type": "markdown",
   "metadata": {},
   "source": [
    "## Casting the die with 6 faces 20 times"
   ]
  },
  {
   "cell_type": "code",
   "execution_count": null,
   "metadata": {},
   "outputs": [],
   "source": [
    "%%run_and_test -i'8\\n20\\n' python3 bayes_rule.py\n",
    "\n",
    "'Feed seed if desired: ', '8\\n',\n",
    "'Enter the desired number of times a randomly chosen die will be cast: ',\n",
    "'20\\n',\n",
    "'\\n\n",
    "This is a secret, but the chosen die is the one with 6 faces.\\n\n",
    "\\n\n",
    "Casting the chosen die... Outcome: 3\\n\n",
    "The updated dice probabilities are:\\n\n",
    "     4: 37.04%\\n\n",
    "     6: 24.69%\\n\n",
    "     8: 18.52%\\n\n",
    "    12: 12.35%\\n\n",
    "    20: 7.41%\\n\n",
    "\\n\n",
    "Casting the chosen die... Outcome: 4\\n\n",
    "The updated dice probabilities are:\\n\n",
    "     4: 54.18%\\n\n",
    "     6: 24.08%\\n\n",
    "     8: 13.55%\\n\n",
    "    12: 6.02%\\n\n",
    "    20: 2.17%\\n\n",
    "\\n\n",
    "Casting the chosen die... Outcome: 2\\n\n",
    "The updated dice probabilities are:\\n\n",
    "     4: 68.20%\\n\n",
    "     6: 20.21%\\n\n",
    "     8: 8.52%\\n\n",
    "    12: 2.53%\\n\n",
    "    20: 0.55%\\n\n",
    "\\n\n",
    "Casting the chosen die... Outcome: 2\\n\n",
    "The updated dice probabilities are:\\n\n",
    "     4: 78.49%\\n\n",
    "     6: 15.51%\\n\n",
    "     8: 4.91%\\n\n",
    "    12: 0.97%\\n\n",
    "    20: 0.13%\\n\n",
    "\\n\n",
    "Casting the chosen die... Outcome: 6\\n\n",
    "The updated dice probabilities are:\\n\n",
    "     4: 0.00%\\n\n",
    "     6: 78.68%\\n\n",
    "     8: 18.67%\\n\n",
    "    12: 2.46%\\n\n",
    "    20: 0.19%\\n\n",
    "\\n\n",
    "The final probabilities are:\\n\n",
    "     4: 0.00%\\n\n",
    "     6: 99.68%\\n\n",
    "     8: 0.32%\\n\n",
    "    12: 0.00%\\n\n",
    "    20: 0.00%\\n'"
   ]
  },
  {
   "cell_type": "markdown",
   "metadata": {},
   "source": [
    "## Casting the die with 4 faces 100 times"
   ]
  },
  {
   "cell_type": "code",
   "execution_count": null,
   "metadata": {},
   "outputs": [],
   "source": [
    "%%run_and_test -i'31\\n100\\n' python3 bayes_rule.py\n",
    "\n",
    "'Feed seed if desired: ', '31\\n',\n",
    "'Enter the desired number of times a randomly chosen die will be cast: ',\n",
    "'100\\n',\n",
    "'\\n\n",
    "This is a secret, but the chosen die is the one with 4 faces.\\n\n",
    "\\n\n",
    "Casting the chosen die... Outcome: 4\\n\n",
    "The updated dice probabilities are:\\n\n",
    "     4: 37.04%\\n\n",
    "     6: 24.69%\\n\n",
    "     8: 18.52%\\n\n",
    "    12: 12.35%\\n\n",
    "    20: 7.41%\\n\n",
    "\\n\n",
    "Casting the chosen die... Outcome: 1\\n\n",
    "The updated dice probabilities are:\\n\n",
    "     4: 54.18%\\n\n",
    "     6: 24.08%\\n\n",
    "     8: 13.55%\\n\n",
    "    12: 6.02%\\n\n",
    "    20: 2.17%\\n\n",
    "\\n\n",
    "Casting the chosen die... Outcome: 4\\n\n",
    "The updated dice probabilities are:\\n\n",
    "     4: 68.20%\\n\n",
    "     6: 20.21%\\n\n",
    "     8: 8.52%\\n\n",
    "    12: 2.53%\\n\n",
    "    20: 0.55%\\n\n",
    "\\n\n",
    "Casting the chosen die... Outcome: 2\\n\n",
    "The updated dice probabilities are:\\n\n",
    "     4: 78.49%\\n\n",
    "     6: 15.51%\\n\n",
    "     8: 4.91%\\n\n",
    "    12: 0.97%\\n\n",
    "    20: 0.13%\\n\n",
    "\\n\n",
    "Casting the chosen die... Outcome: 1\\n\n",
    "The updated dice probabilities are:\\n\n",
    "     4: 85.66%\\n\n",
    "     6: 11.28%\\n\n",
    "     8: 2.68%\\n\n",
    "    12: 0.35%\\n\n",
    "    20: 0.03%\\n\n",
    "\\n\n",
    "The final probabilities are:\\n\n",
    "     4: 100.00%\\n\n",
    "     6: 0.00%\\n\n",
    "     8: 0.00%\\n\n",
    "    12: 0.00%\\n\n",
    "    20: 0.00%\\n'"
   ]
  }
 ],
 "metadata": {
  "kernelspec": {
   "display_name": "Python 3 (ipykernel)",
   "language": "python",
   "name": "python3"
  },
  "language_info": {
   "codemirror_mode": {
    "name": "ipython",
    "version": 3
   },
   "file_extension": ".py",
   "mimetype": "text/x-python",
   "name": "python",
   "nbconvert_exporter": "python",
   "pygments_lexer": "ipython3",
   "version": "3.10.2"
  },
  "latex_envs": {
   "LaTeX_envs_menu_present": true,
   "autoclose": false,
   "autocomplete": true,
   "bibliofile": "biblio.bib",
   "cite_by": "apalike",
   "current_citInitial": 1,
   "eqLabelWithNumbers": true,
   "eqNumInitial": 1,
   "hotkeys": {
    "equation": "Ctrl-E",
    "itemize": "Ctrl-I"
   },
   "labels_anchors": false,
   "latex_user_defs": false,
   "report_style_numbering": false,
   "user_envs_cfg": false
  },
  "toc": {
   "base_numbering": 1,
   "nav_menu": {},
   "number_sections": true,
   "sideBar": true,
   "skip_h1_title": false,
   "title_cell": "Table of Contents",
   "title_sidebar": "Contents",
   "toc_cell": false,
   "toc_position": {},
   "toc_section_display": true,
   "toc_window_display": false
  },
  "widgets": {
   "application/vnd.jupyter.widget-state+json": {
    "state": {},
    "version_major": 2,
    "version_minor": 0
   }
  }
 },
 "nbformat": 4,
 "nbformat_minor": 4
}
