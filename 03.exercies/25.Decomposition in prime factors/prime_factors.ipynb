{
 "cells": [
  {
   "cell_type": "code",
   "execution_count": null,
   "id": "brutal-coupon",
   "metadata": {},
   "outputs": [],
   "source": [
    "load_ext run_and_test"
   ]
  },
  {
   "cell_type": "markdown",
   "id": "stretch-villa",
   "metadata": {},
   "source": [
    "# Task"
   ]
  },
  {
   "cell_type": "markdown",
   "id": "closed-instruction",
   "metadata": {},
   "source": [
    "Write a program `prime_factors.py` that implements a function `prime_factors_of()` that takes one argument, meant to be a natural number $n$. If $n$ is smaller than 2 then the function returns; otherwise, the function prints out a line that displays $n$'s decomposition in prime factors, enumerating the prime factors from smallest to largest, and with multiplicities appearing only when they are greater than 1."
   ]
  },
  {
   "cell_type": "markdown",
   "id": "53773dd5-fd08-4891-ad8a-c8ec7a13df52",
   "metadata": {},
   "source": [
    "# Tests"
   ]
  },
  {
   "cell_type": "code",
   "execution_count": null,
   "id": "pretty-visibility",
   "metadata": {},
   "outputs": [],
   "source": [
    "statements = 'from prime_factors import *; prime_factors_of(2)'"
   ]
  },
  {
   "cell_type": "code",
   "execution_count": null,
   "id": "alike-stanford",
   "metadata": {},
   "outputs": [],
   "source": [
    "%%run_and_test python3 -c \"$statements\"\n",
    "\n",
    "'2 = 2\\n'"
   ]
  },
  {
   "cell_type": "code",
   "execution_count": null,
   "id": "interim-lancaster",
   "metadata": {},
   "outputs": [],
   "source": [
    "statements = 'from prime_factors import *; prime_factors_of(3)'"
   ]
  },
  {
   "cell_type": "code",
   "execution_count": null,
   "id": "widespread-apollo",
   "metadata": {},
   "outputs": [],
   "source": [
    "%%run_and_test python3 -c \"$statements\"\n",
    "\n",
    "'3 = 3\\n'"
   ]
  },
  {
   "cell_type": "code",
   "execution_count": null,
   "id": "political-direction",
   "metadata": {},
   "outputs": [],
   "source": [
    "statements = 'from prime_factors import *; prime_factors_of(4)'"
   ]
  },
  {
   "cell_type": "code",
   "execution_count": null,
   "id": "manufactured-demand",
   "metadata": {},
   "outputs": [],
   "source": [
    "%%run_and_test python3 -c \"$statements\"\n",
    "\n",
    "'4 = 2^2\\n'"
   ]
  },
  {
   "cell_type": "code",
   "execution_count": null,
   "id": "subjective-daisy",
   "metadata": {},
   "outputs": [],
   "source": [
    "statements = 'from prime_factors import *; prime_factors_of(5)'"
   ]
  },
  {
   "cell_type": "code",
   "execution_count": null,
   "id": "tamil-bradley",
   "metadata": {},
   "outputs": [],
   "source": [
    "%%run_and_test python3 -c \"$statements\"\n",
    "\n",
    "'5 = 5\\n'"
   ]
  },
  {
   "cell_type": "code",
   "execution_count": null,
   "id": "resistant-algebra",
   "metadata": {},
   "outputs": [],
   "source": [
    "statements = 'from prime_factors import *; prime_factors_of(6)'"
   ]
  },
  {
   "cell_type": "code",
   "execution_count": null,
   "id": "lined-adapter",
   "metadata": {},
   "outputs": [],
   "source": [
    "%%run_and_test python3 -c \"$statements\"\n",
    "\n",
    "'6 = 2 x 3\\n'"
   ]
  },
  {
   "cell_type": "code",
   "execution_count": null,
   "id": "failing-destiny",
   "metadata": {},
   "outputs": [],
   "source": [
    "statements = 'from prime_factors import *; prime_factors_of(7)'"
   ]
  },
  {
   "cell_type": "code",
   "execution_count": null,
   "id": "automatic-level",
   "metadata": {},
   "outputs": [],
   "source": [
    "%%run_and_test python3 -c \"$statements\"\n",
    "\n",
    "'7 = 7\\n'"
   ]
  },
  {
   "cell_type": "code",
   "execution_count": null,
   "id": "organic-colleague",
   "metadata": {},
   "outputs": [],
   "source": [
    "statements = 'from prime_factors import *; prime_factors_of(8)'"
   ]
  },
  {
   "cell_type": "code",
   "execution_count": null,
   "id": "intellectual-grounds",
   "metadata": {},
   "outputs": [],
   "source": [
    "%%run_and_test python3 -c \"$statements\"\n",
    "\n",
    "'8 = 2^3\\n'"
   ]
  },
  {
   "cell_type": "code",
   "execution_count": null,
   "id": "thrown-anthropology",
   "metadata": {},
   "outputs": [],
   "source": [
    "statements = 'from prime_factors import *; prime_factors_of(9)'"
   ]
  },
  {
   "cell_type": "code",
   "execution_count": null,
   "id": "welcome-minority",
   "metadata": {},
   "outputs": [],
   "source": [
    "%%run_and_test python3 -c \"$statements\"\n",
    "\n",
    "'9 = 3^2\\n'"
   ]
  },
  {
   "cell_type": "code",
   "execution_count": null,
   "id": "genetic-target",
   "metadata": {},
   "outputs": [],
   "source": [
    "statements = 'from prime_factors import *; prime_factors_of(10)'"
   ]
  },
  {
   "cell_type": "code",
   "execution_count": null,
   "id": "stupid-burke",
   "metadata": {},
   "outputs": [],
   "source": [
    "%%run_and_test python3 -c \"$statements\"\n",
    "\n",
    "'10 = 2 x 5\\n'"
   ]
  },
  {
   "cell_type": "code",
   "execution_count": null,
   "id": "national-manitoba",
   "metadata": {},
   "outputs": [],
   "source": [
    "statements = 'from prime_factors import *; prime_factors_of(11)'"
   ]
  },
  {
   "cell_type": "code",
   "execution_count": null,
   "id": "chubby-transition",
   "metadata": {},
   "outputs": [],
   "source": [
    "%%run_and_test python3 -c \"$statements\"\n",
    "\n",
    "'11 = 11\\n'"
   ]
  },
  {
   "cell_type": "code",
   "execution_count": null,
   "id": "raising-recipient",
   "metadata": {},
   "outputs": [],
   "source": [
    "statements = 'from prime_factors import *; prime_factors_of(12)'"
   ]
  },
  {
   "cell_type": "code",
   "execution_count": null,
   "id": "seeing-portfolio",
   "metadata": {},
   "outputs": [],
   "source": [
    "%%run_and_test python3 -c \"$statements\"\n",
    "\n",
    "'12 = 2^2 x 3\\n'"
   ]
  },
  {
   "cell_type": "code",
   "execution_count": null,
   "id": "desirable-peoples",
   "metadata": {},
   "outputs": [],
   "source": [
    "statements = 'from prime_factors import *; prime_factors_of(13)'"
   ]
  },
  {
   "cell_type": "code",
   "execution_count": null,
   "id": "executed-prerequisite",
   "metadata": {},
   "outputs": [],
   "source": [
    "%%run_and_test python3 -c \"$statements\"\n",
    "\n",
    "'13 = 13\\n'"
   ]
  },
  {
   "cell_type": "code",
   "execution_count": null,
   "id": "cathedral-malpractice",
   "metadata": {},
   "outputs": [],
   "source": [
    "statements = 'from prime_factors import *; prime_factors_of(14)'"
   ]
  },
  {
   "cell_type": "code",
   "execution_count": null,
   "id": "quarterly-prague",
   "metadata": {},
   "outputs": [],
   "source": [
    "%%run_and_test python3 -c \"$statements\"\n",
    "\n",
    "'14 = 2 x 7\\n'"
   ]
  },
  {
   "cell_type": "code",
   "execution_count": null,
   "id": "polish-ability",
   "metadata": {},
   "outputs": [],
   "source": [
    "statements = 'from prime_factors import *; prime_factors_of(15)'"
   ]
  },
  {
   "cell_type": "code",
   "execution_count": null,
   "id": "russian-conducting",
   "metadata": {
    "tags": []
   },
   "outputs": [],
   "source": [
    "%%run_and_test python3 -c \"$statements\"\n",
    "\n",
    "'15 = 3 x 5\\n'"
   ]
  },
  {
   "cell_type": "code",
   "execution_count": null,
   "id": "compound-likelihood",
   "metadata": {},
   "outputs": [],
   "source": [
    "statements = 'from prime_factors import *; prime_factors_of(16)'"
   ]
  },
  {
   "cell_type": "code",
   "execution_count": null,
   "id": "controlled-drive",
   "metadata": {
    "tags": []
   },
   "outputs": [],
   "source": [
    "%%run_and_test python3 -c \"$statements\"\n",
    "\n",
    "'16 = 2^4\\n'"
   ]
  },
  {
   "cell_type": "code",
   "execution_count": null,
   "id": "freelance-council",
   "metadata": {},
   "outputs": [],
   "source": [
    "statements = 'from prime_factors import *; prime_factors_of(17)'"
   ]
  },
  {
   "cell_type": "code",
   "execution_count": null,
   "id": "juvenile-variable",
   "metadata": {
    "tags": []
   },
   "outputs": [],
   "source": [
    "%%run_and_test python3 -c \"$statements\"\n",
    "\n",
    "'17 = 17\\n'"
   ]
  },
  {
   "cell_type": "code",
   "execution_count": null,
   "id": "running-frost",
   "metadata": {},
   "outputs": [],
   "source": [
    "statements = 'from prime_factors import *; prime_factors_of(18)'"
   ]
  },
  {
   "cell_type": "code",
   "execution_count": null,
   "id": "extraordinary-topic",
   "metadata": {
    "tags": []
   },
   "outputs": [],
   "source": [
    "%%run_and_test python3 -c \"$statements\"\n",
    "\n",
    "'18 = 2 x 3^2\\n'"
   ]
  },
  {
   "cell_type": "code",
   "execution_count": null,
   "id": "systematic-toolbox",
   "metadata": {},
   "outputs": [],
   "source": [
    "statements = 'from prime_factors import *; prime_factors_of(19)'"
   ]
  },
  {
   "cell_type": "code",
   "execution_count": null,
   "id": "armed-munich",
   "metadata": {
    "tags": []
   },
   "outputs": [],
   "source": [
    "%%run_and_test python3 -c \"$statements\"\n",
    "\n",
    "'19 = 19\\n'"
   ]
  },
  {
   "cell_type": "code",
   "execution_count": null,
   "id": "iraqi-leave",
   "metadata": {},
   "outputs": [],
   "source": [
    "statements = 'from prime_factors import *; prime_factors_of(20)'"
   ]
  },
  {
   "cell_type": "code",
   "execution_count": null,
   "id": "binding-georgia",
   "metadata": {
    "tags": []
   },
   "outputs": [],
   "source": [
    "%%run_and_test python3 -c \"$statements\"\n",
    "\n",
    "'20 = 2^2 x 5\\n'"
   ]
  },
  {
   "cell_type": "code",
   "execution_count": null,
   "id": "opponent-circus",
   "metadata": {},
   "outputs": [],
   "source": [
    "statements = 'from prime_factors import *; prime_factors_of(123456789)'"
   ]
  },
  {
   "cell_type": "code",
   "execution_count": null,
   "id": "minimal-precipitation",
   "metadata": {
    "tags": []
   },
   "outputs": [],
   "source": [
    "%%run_and_test python3 -c \"$statements\"\n",
    "\n",
    "'123456789 = 3^2 x 3607 x 3803\\n'"
   ]
  },
  {
   "cell_type": "code",
   "execution_count": null,
   "id": "magnetic-aviation",
   "metadata": {},
   "outputs": [],
   "source": [
    "n = '36922589523355488684862534309606828646354858539339639340108704606'\\\n",
    "    '86027831695461222301192671449678638056692404147215681314705828383'\\\n",
    "    '71860677594255943413907726272489256364738940659009068949467780202'\\\n",
    "    '70362243511617241359521'"
   ]
  },
  {
   "cell_type": "code",
   "execution_count": null,
   "id": "fluid-costa",
   "metadata": {},
   "outputs": [],
   "source": [
    "%%run_and_test python3 -c \"from prime_factors import *; prime_factors_of({n})\"\n",
    "\n",
    "'3692258952335548868486253430960682864635485853933963934010870460686027'\n",
    "'8316954612223011926714496786380566924041472156813147058283837186067759'\n",
    "'4255943413907726272489256364738940659009068949467780202703622435116172'\n",
    "'41359521 = 3^456\\n'"
   ]
  },
  {
   "cell_type": "code",
   "execution_count": null,
   "id": "center-server",
   "metadata": {},
   "outputs": [],
   "source": [
    "statements = 'from prime_factors import *; prime_factors_of(10987654321)'"
   ]
  },
  {
   "cell_type": "code",
   "execution_count": null,
   "id": "extraordinary-collection",
   "metadata": {
    "tags": []
   },
   "outputs": [],
   "source": [
    "%%run_and_test python3 -c \"$statements\"\n",
    "\n",
    "'10987654321 = 7 x 28843 x 54421\\n'"
   ]
  },
  {
   "cell_type": "code",
   "execution_count": null,
   "id": "handmade-street",
   "metadata": {},
   "outputs": [],
   "source": [
    "statements = 'from prime_factors import *; prime_factors_of(61801109293727521)'"
   ]
  },
  {
   "cell_type": "code",
   "execution_count": null,
   "id": "quality-burton",
   "metadata": {
    "tags": []
   },
   "outputs": [],
   "source": [
    "%%run_and_test python3 -c \"$statements\"\n",
    "\n",
    "'61801109293727521 = 15767^4\\n'"
   ]
  },
  {
   "cell_type": "code",
   "execution_count": null,
   "id": "sustainable-importance",
   "metadata": {},
   "outputs": [],
   "source": [
    "statements = 'from prime_factors import *; prime_factors_of(184910763580163)'"
   ]
  },
  {
   "cell_type": "code",
   "execution_count": null,
   "id": "abroad-welding",
   "metadata": {
    "tags": []
   },
   "outputs": [],
   "source": [
    "%%run_and_test python3 -c \"$statements\"\n",
    "\n",
    "'184910763580163 = 1871 x 9883 x 9999991\\n'"
   ]
  },
  {
   "cell_type": "code",
   "execution_count": null,
   "id": "declared-allowance",
   "metadata": {},
   "outputs": [],
   "source": [
    "statements = 'from prime_factors import *; prime_factors_of(1629753239888549)'"
   ]
  },
  {
   "cell_type": "code",
   "execution_count": null,
   "id": "russian-record",
   "metadata": {
    "tags": []
   },
   "outputs": [],
   "source": [
    "%%run_and_test python3 -c \"$statements\"\n",
    "\n",
    "'1629753239888549 = 43 x 307 x 123456801749\\n'"
   ]
  },
  {
   "cell_type": "code",
   "execution_count": null,
   "id": "confidential-brazilian",
   "metadata": {},
   "outputs": [],
   "source": [
    "statements = 'from prime_factors import *; prime_factors_of(56473829102938475)'"
   ]
  },
  {
   "cell_type": "code",
   "execution_count": null,
   "id": "figured-canvas",
   "metadata": {
    "tags": []
   },
   "outputs": [],
   "source": [
    "%%run_and_test python3 -c \"$statements\"\n",
    "\n",
    "'56473829102938475 = 5^2 x 17 x 25247 x 33587 x 156703\\n'"
   ]
  },
  {
   "cell_type": "code",
   "execution_count": null,
   "id": "described-motor",
   "metadata": {},
   "outputs": [],
   "source": [
    "statements = 'from prime_factors import *; prime_factors_of(82311053390368807)'"
   ]
  },
  {
   "cell_type": "code",
   "execution_count": null,
   "id": "sized-buying",
   "metadata": {
    "tags": []
   },
   "outputs": [],
   "source": [
    "%%run_and_test python3 -c \"$statements\"\n",
    "\n",
    "'82311053390368807 = 19 x 109 x 601 x 1723 x 5147 x 7457\\n'"
   ]
  },
  {
   "cell_type": "code",
   "execution_count": null,
   "id": "damaged-bailey",
   "metadata": {},
   "outputs": [],
   "source": [
    "n = '39432893368239525177618160696609253114756798884358663164737126662'\\\n",
    "    '21797249817016714601521420059923119520886060694598194151288213951'\\\n",
    "    '21318552530963312476414965556731428635381658618698494471961222810'\\\n",
    "    '72583212012701664593206561371414742663876212120378695162016062870'\\\n",
    "    '27897843301130159520851620311758504293980894611113948118519486873'\\\n",
    "    '600000000000000000000000000000000000000000000000'"
   ]
  },
  {
   "cell_type": "code",
   "execution_count": null,
   "id": "statutory-collectible",
   "metadata": {},
   "outputs": [],
   "source": [
    "%%run_and_test python3 -c \"from prime_factors import *; prime_factors_of({n})\"\n",
    "\n",
    "'3943289336823952517761816069660925311475679888435866316473712666221797'\n",
    "'2498170167146015214200599231195208860606945981941512882139512131855253'\n",
    "'0963312476414965556731428635381658618698494471961222810725832120127016'\n",
    "'6459320656137141474266387621212037869516201606287027897843301130159520'\n",
    "'8516203117585042939808946111139481185194868736000000000000000000000000'\n",
    "'00000000000000000000000 = 2^194 x 3^97 x 5^47 x 7^32 x 11^19 x 13^16 '\n",
    "'x 17^11 x 19^10 x 23^8 x 29^6 x 31^6 x 37^5 x 41^4 x 43^4 x 47^4 '\n",
    "'x 53^3 x 59^3 x 61^3 x 67^2 x 71^2 x 73^2 x 79^2 x 83^2 x 89^2 x 97^2 '\n",
    "'x 101 x 103 x 107 x 109 x 113 x 127 x 131 x 137 x 139 x 149 x 151 '\n",
    "'x 157 x 163 x 167 x 173 x 179 x 181 x 191 x 193 x 197 x 199\\n'"
   ]
  },
  {
   "cell_type": "code",
   "execution_count": null,
   "id": "athletic-graduate",
   "metadata": {},
   "outputs": [],
   "source": [
    "n = '40011134721649543559227865125076495739953571724258202517733473404'\\\n",
    "     '88464711742976236140344291273574646568072437939828736'"
   ]
  },
  {
   "cell_type": "code",
   "execution_count": null,
   "id": "voluntary-boulder",
   "metadata": {},
   "outputs": [],
   "source": [
    "%%run_and_test python3 -c \"from prime_factors import *; prime_factors_of({n})\"\n",
    "\n",
    "'4001113472164954355922786512507649573995357172425820251773347340488464'\n",
    "'711742976236140344291273574646568072437939828736 = 2^11 x 11^2 '\n",
    "'x 827^5 x 32233^8 x 11999461^7 x 1000000005721\\n'"
   ]
  }
 ],
 "metadata": {
  "kernelspec": {
   "display_name": "Python 3 (ipykernel)",
   "language": "python",
   "name": "python3"
  },
  "language_info": {
   "codemirror_mode": {
    "name": "ipython",
    "version": 3
   },
   "file_extension": ".py",
   "mimetype": "text/x-python",
   "name": "python",
   "nbconvert_exporter": "python",
   "pygments_lexer": "ipython3",
   "version": "3.10.2"
  },
  "latex_envs": {
   "LaTeX_envs_menu_present": true,
   "autoclose": false,
   "autocomplete": true,
   "bibliofile": "biblio.bib",
   "cite_by": "apalike",
   "current_citInitial": 1,
   "eqLabelWithNumbers": true,
   "eqNumInitial": 1,
   "hotkeys": {
    "equation": "Ctrl-E",
    "itemize": "Ctrl-I"
   },
   "labels_anchors": false,
   "latex_user_defs": false,
   "report_style_numbering": false,
   "user_envs_cfg": false
  },
  "toc": {
   "base_numbering": 1,
   "nav_menu": {},
   "number_sections": true,
   "sideBar": true,
   "skip_h1_title": false,
   "title_cell": "Table of Contents",
   "title_sidebar": "Contents",
   "toc_cell": false,
   "toc_position": {},
   "toc_section_display": true,
   "toc_window_display": false
  },
  "widgets": {
   "application/vnd.jupyter.widget-state+json": {
    "state": {},
    "version_major": 2,
    "version_minor": 0
   }
  }
 },
 "nbformat": 4,
 "nbformat_minor": 5
}
