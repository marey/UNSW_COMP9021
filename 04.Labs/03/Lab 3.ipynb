{
 "cells": [
  {
   "cell_type": "code",
   "execution_count": null,
   "id": "aee64c49-ca43-4009-a902-b58b04f98cc1",
   "metadata": {},
   "outputs": [],
   "source": [
    "load_ext run_and_test"
   ]
  },
  {
   "cell_type": "markdown",
   "id": "61a00437-51d6-4375-b2fd-2abd198c8035",
   "metadata": {},
   "source": [
    "# Exercise 1"
   ]
  },
  {
   "cell_type": "markdown",
   "id": "60107adf-6d8d-4910-b19d-573867674c9d",
   "metadata": {},
   "source": [
    "## Templates"
   ]
  },
  {
   "cell_type": "code",
   "execution_count": 1,
   "id": "e36caab2-da32-4bb0-b34b-5d5c2f9d6fc0",
   "metadata": {},
   "outputs": [
    {
     "data": {
      "text/plain": [
       "\u001b[0;31m# Assume that the arguments m and n are integers at least equal to 0.\u001b[0m\u001b[0;34m\u001b[0m\n",
       "\u001b[0;34m\u001b[0m\u001b[0;34m\u001b[0m\n",
       "\u001b[0;34m\u001b[0m\u001b[0;32mdef\u001b[0m \u001b[0mf1\u001b[0m\u001b[0;34m(\u001b[0m\u001b[0mm\u001b[0m\u001b[0;34m,\u001b[0m \u001b[0mn\u001b[0m\u001b[0;34m)\u001b[0m\u001b[0;34m:\u001b[0m\u001b[0;34m\u001b[0m\n",
       "\u001b[0;34m\u001b[0m     \u001b[0;32mreturn\u001b[0m \u001b[0;34m''\u001b[0m\u001b[0;34m\u001b[0m\n",
       "\u001b[0;34m\u001b[0m    \u001b[0;31m# REPLACE THE RETURN STATEMENT ABOVE WITH YOUR CODE\u001b[0m\u001b[0;34m\u001b[0m\u001b[0;34m\u001b[0m\u001b[0m\n"
      ]
     },
     "metadata": {},
     "output_type": "display_data"
    }
   ],
   "source": [
    "%pycat exercise_3_1_template.py"
   ]
  },
  {
   "cell_type": "code",
   "execution_count": null,
   "id": "8ad69a68-6f67-4a3f-a5ca-e7648f50731f",
   "metadata": {},
   "outputs": [],
   "source": [
    "%%writefile exercise_3_1.py\n",
    "# Assume that the arguments m and n are integers at least equal to 0.\n",
    "\n",
    "def f1(m, n):\n",
    "     return ''\n",
    "    # REPLACE THE RETURN STATEMENT ABOVE WITH YOUR CODE"
   ]
  },
  {
   "cell_type": "markdown",
   "id": "3261d2e9-30b2-4f44-805b-abd8fba954d9",
   "metadata": {},
   "source": [
    "## Tests"
   ]
  },
  {
   "cell_type": "code",
   "execution_count": null,
   "id": "c9ce9145-cc2f-4a6c-8f32-4f1104617557",
   "metadata": {},
   "outputs": [],
   "source": [
    "%%run_and_test python3 -c \"from exercise_3_1 import f1; print(f1(0, 0))\"\n",
    "\n",
    "'\\n'"
   ]
  },
  {
   "cell_type": "code",
   "execution_count": null,
   "id": "6406f056-0d6c-4ef4-84f1-96b9d2fc4299",
   "metadata": {},
   "outputs": [],
   "source": [
    "%%run_and_test python3 -c \"from exercise_3_1 import f1; print(f1(0, 1))\"\n",
    "\n",
    "'\\n'"
   ]
  },
  {
   "cell_type": "code",
   "execution_count": null,
   "id": "5f222f6d-de39-48f7-8758-9e7d6bb87bb7",
   "metadata": {},
   "outputs": [],
   "source": [
    "%%run_and_test python3 -c \"from exercise_3_1 import f1; print(f1(1, 0))\"\n",
    "\n",
    "'\\n'"
   ]
  },
  {
   "cell_type": "code",
   "execution_count": null,
   "id": "79cbcf6d-b51e-4711-a5f7-2634558e8189",
   "metadata": {},
   "outputs": [],
   "source": [
    "%%run_and_test python3 -c \"from exercise_3_1 import f1; print(f1(1, 1))\"\n",
    "\n",
    "'_\\n'"
   ]
  },
  {
   "cell_type": "code",
   "execution_count": null,
   "id": "f7ad5417-4e60-459e-8720-04b46b7660c0",
   "metadata": {},
   "outputs": [],
   "source": [
    "%%run_and_test python3 -c \"from exercise_3_1 import f1; print(f1(2, 2))\"\n",
    "\n",
    "'_|_ * _|_\\n'"
   ]
  },
  {
   "cell_type": "code",
   "execution_count": null,
   "id": "eb558323-596f-4f49-8a2f-3420c10746b1",
   "metadata": {},
   "outputs": [],
   "source": [
    "%%run_and_test python3 -c \"from exercise_3_1 import f1; print(f1(3, 2))\"\n",
    "\n",
    "'_|_ * _|_ * _|_\\n'"
   ]
  },
  {
   "cell_type": "code",
   "execution_count": null,
   "id": "d36dd738-defa-413d-8152-c816d89154cc",
   "metadata": {},
   "outputs": [],
   "source": [
    "%%run_and_test python3 -c \"from exercise_3_1 import f1; print(f1(2, 3))\"\n",
    "\n",
    "'_|_|_ * _|_|_\\n'"
   ]
  },
  {
   "cell_type": "code",
   "execution_count": null,
   "id": "f882a138-cdba-4564-aad1-3bbfb1a066d1",
   "metadata": {},
   "outputs": [],
   "source": [
    "%%run_and_test python3 -c \"from exercise_3_1 import f1; print(f1(7, 4))\"\n",
    "\n",
    "'_|_|_|_ * _|_|_|_ * _|_|_|_ * _|_|_|_ * _|_|_|_ * _|_|_|_ * _|_|_|_\\n'"
   ]
  },
  {
   "cell_type": "code",
   "execution_count": null,
   "id": "1a7863f2-3656-4f9b-aadd-b798c7af77d0",
   "metadata": {},
   "outputs": [],
   "source": [
    "%%run_and_test python3 -c \"from exercise_3_1 import f1; print(f1(4, 7))\"\n",
    "\n",
    "'_|_|_|_|_|_|_ * _|_|_|_|_|_|_ * _|_|_|_|_|_|_ * _|_|_|_|_|_|_\\n'"
   ]
  },
  {
   "cell_type": "markdown",
   "id": "4337ff30-30e1-422c-811b-23b90e2e4df3",
   "metadata": {},
   "source": [
    "# Exercise 2"
   ]
  },
  {
   "cell_type": "markdown",
   "id": "f8a06e00-0068-4ffb-b96e-7a11de9111ee",
   "metadata": {},
   "source": [
    "## Templates"
   ]
  },
  {
   "cell_type": "code",
   "execution_count": 2,
   "id": "64329c13-c8e4-476a-9877-214c3c958bcb",
   "metadata": {},
   "outputs": [
    {
     "data": {
      "text/plain": [
       "\u001b[0;31m# Assume that the argument n is an integer at least equal to 0.\u001b[0m\u001b[0;34m\u001b[0m\n",
       "\u001b[0;34m\u001b[0m\u001b[0;31m#\u001b[0m\u001b[0;34m\u001b[0m\n",
       "\u001b[0;34m\u001b[0m\u001b[0;31m# Even digits are white, odd digits are black.\u001b[0m\u001b[0;34m\u001b[0m\n",
       "\u001b[0;34m\u001b[0m\u001b[0;31m#\u001b[0m\u001b[0;34m\u001b[0m\n",
       "\u001b[0;34m\u001b[0m\u001b[0;31m# The output is printed out, not returned.\u001b[0m\u001b[0;34m\u001b[0m\n",
       "\u001b[0;34m\u001b[0m\u001b[0;34m\u001b[0m\n",
       "\u001b[0;34m\u001b[0m\u001b[0;32mdef\u001b[0m \u001b[0mf2\u001b[0m\u001b[0;34m(\u001b[0m\u001b[0mn\u001b[0m\u001b[0;34m)\u001b[0m\u001b[0;34m:\u001b[0m\u001b[0;34m\u001b[0m\n",
       "\u001b[0;34m\u001b[0m    \u001b[0;32mreturn\u001b[0m \u001b[0;34m''\u001b[0m\u001b[0;34m\u001b[0m\n",
       "\u001b[0;34m\u001b[0m    \u001b[0;31m# REPLACE THE RETURN STATEMENT ABOVE WITH YOUR CODE\u001b[0m\u001b[0;34m\u001b[0m\u001b[0;34m\u001b[0m\u001b[0m\n"
      ]
     },
     "metadata": {},
     "output_type": "display_data"
    }
   ],
   "source": [
    "%pycat exercise_3_2_template.py"
   ]
  },
  {
   "cell_type": "code",
   "execution_count": null,
   "id": "e8fc6f1d-74b7-4e1e-aada-eeb8389cd85a",
   "metadata": {},
   "outputs": [],
   "source": [
    "%%writefile exercise_3_2.py\n",
    "# Assume that the argument n is an integer at least equal to 0.\n",
    "#\n",
    "# Even digits are white, odd digits are black.\n",
    "#\n",
    "# The output is printed out, not returned.\n",
    "\n",
    "def f2(n):\n",
    "    return ''\n",
    "    # REPLACE THE RETURN STATEMENT ABOVE WITH YOUR CODE"
   ]
  },
  {
   "cell_type": "markdown",
   "id": "52531881-98a8-45ed-940d-b367e0db0cc0",
   "metadata": {},
   "source": [
    "## Tests"
   ]
  },
  {
   "cell_type": "code",
   "execution_count": null,
   "id": "a739e91a-aa2a-4041-8b9b-b463751e2c1a",
   "metadata": {},
   "outputs": [],
   "source": [
    "%%run_and_test python3 -c \"from exercise_3_2 import f2; f2(0)\"\n",
    "\n",
    "'⬜\\n'"
   ]
  },
  {
   "cell_type": "code",
   "execution_count": null,
   "id": "6e2bb8e8-8b27-4556-a861-1dd9128efc0c",
   "metadata": {},
   "outputs": [],
   "source": [
    "%%run_and_test python3 -c \"from exercise_3_2 import f2; f2(1)\"\n",
    "\n",
    "'⬛\\n'"
   ]
  },
  {
   "cell_type": "code",
   "execution_count": null,
   "id": "2f14d1bf-24c8-494a-8bdf-8e5ae2e0c206",
   "metadata": {},
   "outputs": [],
   "source": [
    "%%run_and_test python3 -c \"from exercise_3_2 import f2; f2(1234)\"\n",
    "\n",
    "'⬛⬜⬛⬜\\n'"
   ]
  },
  {
   "cell_type": "code",
   "execution_count": null,
   "id": "266174f9-b6a1-42a8-a43e-410291be7318",
   "metadata": {},
   "outputs": [],
   "source": [
    "%%run_and_test python3 -c \"from exercise_3_2 import f2; f2(4321)\"\n",
    "\n",
    "'⬜⬛⬜⬛\\n'"
   ]
  },
  {
   "cell_type": "code",
   "execution_count": null,
   "id": "db72506c-2b81-4415-9f41-48d9e4c8e498",
   "metadata": {},
   "outputs": [],
   "source": [
    "%%run_and_test python3 -c \"from exercise_3_2 import f2; f2(78859860)\"\n",
    "\n",
    "'⬛⬜⬜⬛⬛⬜⬜⬜\\n'"
   ]
  },
  {
   "cell_type": "code",
   "execution_count": null,
   "id": "76e0d38a-cebb-4459-baca-89b0a8e607a6",
   "metadata": {},
   "outputs": [],
   "source": [
    "%%run_and_test python3 -c \"from exercise_3_2 import f2; f2(60182278221381523805)\"\n",
    "\n",
    "'⬜⬜⬛⬜⬜⬜⬛⬜⬜⬜⬛⬛⬜⬛⬛⬜⬛⬜⬜⬛\\n'"
   ]
  },
  {
   "cell_type": "markdown",
   "id": "64043c39-e10e-4b3f-8caf-74f44370099e",
   "metadata": {},
   "source": [
    "# Exercise 3"
   ]
  },
  {
   "cell_type": "markdown",
   "id": "f18b73d5-162f-4c61-b37f-1cc74d4b98c8",
   "metadata": {},
   "source": [
    "## Templates"
   ]
  },
  {
   "cell_type": "code",
   "execution_count": 3,
   "id": "d8afe383-ccc4-4369-9914-5f8802bd2337",
   "metadata": {},
   "outputs": [
    {
     "data": {
      "text/plain": [
       "\u001b[0;31m# Assume that the argument n is an integer at least equal to 0.\u001b[0m\u001b[0;34m\u001b[0m\n",
       "\u001b[0;34m\u001b[0m\u001b[0;31m#\u001b[0m\u001b[0;34m\u001b[0m\n",
       "\u001b[0;34m\u001b[0m\u001b[0;31m# Bases range from the smallest possible, at least equal to 2, to 10.\u001b[0m\u001b[0;34m\u001b[0m\n",
       "\u001b[0;34m\u001b[0m\u001b[0;31m#\u001b[0m\u001b[0;34m\u001b[0m\n",
       "\u001b[0;34m\u001b[0m\u001b[0;31m# The output is printed out, not returned.\u001b[0m\u001b[0;34m\u001b[0m\n",
       "\u001b[0;34m\u001b[0m\u001b[0;34m\u001b[0m\n",
       "\u001b[0;34m\u001b[0m\u001b[0;32mdef\u001b[0m \u001b[0mf3\u001b[0m\u001b[0;34m(\u001b[0m\u001b[0mn\u001b[0m\u001b[0;34m)\u001b[0m\u001b[0;34m:\u001b[0m\u001b[0;34m\u001b[0m\n",
       "\u001b[0;34m\u001b[0m    \u001b[0;32mpass\u001b[0m\u001b[0;34m\u001b[0m\n",
       "\u001b[0;34m\u001b[0m    \u001b[0;31m# REPLACE THE PASS STATEMENT ABOVE WITH YOUR CODE\u001b[0m\u001b[0;34m\u001b[0m\u001b[0;34m\u001b[0m\u001b[0m\n"
      ]
     },
     "metadata": {},
     "output_type": "display_data"
    }
   ],
   "source": [
    "%pycat exercise_3_3_template.py"
   ]
  },
  {
   "cell_type": "code",
   "execution_count": null,
   "id": "a47f0ecd-3734-42ff-bdfc-1fe8b72365af",
   "metadata": {},
   "outputs": [],
   "source": [
    "%%writefile exercise_3_3.py\n",
    "# Assume that the argument n is an integer at least equal to 0.\n",
    "#\n",
    "# Bases range from the smallest possible, at least equal to 2, to 10.\n",
    "#\n",
    "# The output is printed out, not returned.\n",
    "\n",
    "def f3(n):\n",
    "    pass\n",
    "    # REPLACE THE PASS STATEMENT ABOVE WITH YOUR CODE"
   ]
  },
  {
   "cell_type": "markdown",
   "id": "d60c512b-07fa-4955-a8b5-4aad939a69b1",
   "metadata": {},
   "source": [
    "## Tests"
   ]
  },
  {
   "cell_type": "code",
   "execution_count": null,
   "id": "55fd6caf-3d4a-43ef-b9fa-1fcb4dcf6280",
   "metadata": {},
   "outputs": [],
   "source": [
    "%%run_and_test python3 -c \"from exercise_3_3 import f3; f3(0)\"\n",
    "\n",
    "'''\n",
    "0 is 0 in base 2\\n\n",
    "0 is 0 in base 3\\n\n",
    "0 is 0 in base 4\\n\n",
    "0 is 0 in base 5\\n\n",
    "0 is 0 in base 6\\n\n",
    "0 is 0 in base 7\\n\n",
    "0 is 0 in base 8\\n\n",
    "0 is 0 in base 9\\n\n",
    "0 is 0 in base 10\\n\n",
    "'''"
   ]
  },
  {
   "cell_type": "code",
   "execution_count": null,
   "id": "634455b3-59bb-463c-bdeb-938aed8e1d91",
   "metadata": {},
   "outputs": [],
   "source": [
    "%%run_and_test python3 -c \"from exercise_3_3 import f3; f3(7)\"\n",
    "\n",
    "'''\n",
    "7 is 7 in base 8\\n\n",
    "7 is 7 in base 9\\n\n",
    "7 is 7 in base 10\\n\n",
    "'''"
   ]
  },
  {
   "cell_type": "code",
   "execution_count": null,
   "id": "b0e0db5d-65c5-4ab1-b850-513e21cfc508",
   "metadata": {},
   "outputs": [],
   "source": [
    "%%run_and_test python3 -c \"from exercise_3_3 import f3; f3(1298)\"\n",
    "\n",
    "'1298 is 1298 in base 10\\n'"
   ]
  },
  {
   "cell_type": "code",
   "execution_count": null,
   "id": "d44d6ca6-b2e7-4115-9a89-cdb92b1bd7e4",
   "metadata": {},
   "outputs": [],
   "source": [
    "%%run_and_test python3 -c \"from exercise_3_3 import f3; f3(2143)\"\n",
    "\n",
    "'''\n",
    "2143 is 298 in base 5\\n\n",
    "2143 is 495 in base 6\\n\n",
    "2143 is 766 in base 7\\n\n",
    "2143 is 1123 in base 8\\n\n",
    "2143 is 1578 in base 9\\n\n",
    "2143 is 2143 in base 10\\n\n",
    "'''"
   ]
  },
  {
   "cell_type": "code",
   "execution_count": null,
   "id": "0aa51345-6e73-4ddf-b6f7-549b292c4c30",
   "metadata": {},
   "outputs": [],
   "source": [
    "%%run_and_test python3 -c \"from exercise_3_3 import f3; f3(37520763776565530)\"\n",
    "\n",
    "'''\n",
    "37520763776565530 is 1113872387468120 in base 8\\n\n",
    "37520763776565530 is 7120008273869829 in base 9\\n\n",
    "37520763776565530 is 37520763776565530 in base 10\\n\n",
    "'''"
   ]
  },
  {
   "cell_type": "markdown",
   "id": "28ad2ebd-3e95-467a-a6d4-579633d7c97d",
   "metadata": {},
   "source": [
    "# Exercise 4"
   ]
  },
  {
   "cell_type": "markdown",
   "id": "1349083d-8991-4734-8d21-1a6d8a943a57",
   "metadata": {},
   "source": [
    "## Templates"
   ]
  },
  {
   "cell_type": "code",
   "execution_count": 4,
   "id": "6052dbd0-0899-4bdd-b898-052bacecdb9f",
   "metadata": {},
   "outputs": [
    {
     "data": {
      "text/plain": [
       "\u001b[0;31m# Assume that the argument n is an integer at least equal to 0\u001b[0m\u001b[0;34m\u001b[0m\n",
       "\u001b[0;34m\u001b[0m\u001b[0;31m# and the argument base is an integer between 2 and 9 included.\u001b[0m\u001b[0;34m\u001b[0m\n",
       "\u001b[0;34m\u001b[0m\u001b[0;34m\u001b[0m\n",
       "\u001b[0;34m\u001b[0m\u001b[0;32mdef\u001b[0m \u001b[0mf4\u001b[0m\u001b[0;34m(\u001b[0m\u001b[0mn\u001b[0m\u001b[0;34m,\u001b[0m \u001b[0mbase\u001b[0m\u001b[0;34m)\u001b[0m\u001b[0;34m:\u001b[0m\u001b[0;34m\u001b[0m\n",
       "\u001b[0;34m\u001b[0m    \u001b[0;32mreturn\u001b[0m \u001b[0;34m{\u001b[0m\u001b[0;34m}\u001b[0m\u001b[0;34m\u001b[0m\n",
       "\u001b[0;34m\u001b[0m    \u001b[0;31m# REPLACE THE RETURN STATEMENT ABOVE WITH YOUR CODE\u001b[0m\u001b[0;34m\u001b[0m\u001b[0;34m\u001b[0m\u001b[0m\n"
      ]
     },
     "metadata": {},
     "output_type": "display_data"
    }
   ],
   "source": [
    "%pycat exercise_3_4_template.py"
   ]
  },
  {
   "cell_type": "code",
   "execution_count": null,
   "id": "a6de8fc3-7bf6-413d-b09e-675eabab4d39",
   "metadata": {},
   "outputs": [],
   "source": [
    "%%writefile exercise_3_4.py\n",
    "# Assume that the argument n is an integer at least equal to 0\n",
    "# and the argument base is an integer between 2 and 9 included.\n",
    "\n",
    "def f4(n, base):\n",
    "    return {}\n",
    "    # REPLACE THE RETURN STATEMENT ABOVE WITH YOUR CODE"
   ]
  },
  {
   "cell_type": "markdown",
   "id": "6890423b-0ec3-437c-a105-b2bc3a7a7924",
   "metadata": {},
   "source": [
    "## Tests"
   ]
  },
  {
   "cell_type": "code",
   "execution_count": null,
   "id": "2be75349-17df-4a7c-8386-902d911e877f",
   "metadata": {},
   "outputs": [],
   "source": [
    "%%run_and_test python3 -c \"from exercise_3_4 import f4; print(f4(0, 3))\"\n",
    "\n",
    "'{0: (0,)}\\n'"
   ]
  },
  {
   "cell_type": "code",
   "execution_count": null,
   "id": "77ff3a6e-579a-425c-9faf-4da734a8c93f",
   "metadata": {},
   "outputs": [],
   "source": [
    "statements = 'from exercise_3_4 import f4; '\\\n",
    "             'D = f4(5, 2); '\\\n",
    "             'print({e: D[e] for e in sorted(D)})'"
   ]
  },
  {
   "cell_type": "code",
   "execution_count": null,
   "id": "46007e4a-77ae-42ad-beea-7febd37115d6",
   "metadata": {},
   "outputs": [],
   "source": [
    "%%run_and_test python3 -c \"$statements\"\n",
    "\n",
    "'{0: (0,), 1: (1,), 2: (1, 0), 3: (1, 1), 4: (1, 0, 0), 5: (1, 0, 1)}\\n'"
   ]
  },
  {
   "cell_type": "code",
   "execution_count": null,
   "id": "8e581da8-c96e-4605-b89d-31672ccb1180",
   "metadata": {},
   "outputs": [],
   "source": [
    "statements = 'from exercise_3_4 import f4; '\\\n",
    "             'D = f4(7, 3); '\\\n",
    "             'print({e: D[e] for e in sorted(D)})'"
   ]
  },
  {
   "cell_type": "code",
   "execution_count": null,
   "id": "174d915d-9287-45aa-b0b4-6d77293d6e13",
   "metadata": {},
   "outputs": [],
   "source": [
    "%%run_and_test python3 -c \"$statements\"\n",
    "\n",
    "'{0: (0,), 1: (1,), 2: (2,), 3: (1, 0), 4: (1, 1), 5: (1, 2), 6: (2, 0), 7: (2, 1)}\\n'"
   ]
  },
  {
   "cell_type": "code",
   "execution_count": null,
   "id": "e3826c0d-d08f-4378-a256-56362261f743",
   "metadata": {},
   "outputs": [],
   "source": [
    "statements = 'from exercise_3_4 import f4; '\\\n",
    "             'D = f4(11, 5); '\\\n",
    "             'print({e: D[e] for e in sorted(D)})'"
   ]
  },
  {
   "cell_type": "code",
   "execution_count": null,
   "id": "614edab7-6466-4822-8e33-e00470ae2e6b",
   "metadata": {},
   "outputs": [],
   "source": [
    "%%run_and_test python3 -c \"$statements\"\n",
    "\n",
    "'{0: (0,), 1: (1,), 2: (2,), 3: (3,), 4: (4,), 5: (1, 0), '\n",
    "'6: (1, 1), 7: (1, 2), 8: (1, 3), 9: (1, 4), 10: (2, 0), 11: (2, 1)}\\n'"
   ]
  },
  {
   "cell_type": "code",
   "execution_count": null,
   "id": "a73cc6b8-977f-4e12-b551-32998b7ebe0d",
   "metadata": {},
   "outputs": [],
   "source": [
    "statements = 'from exercise_3_4 import f4; '\\\n",
    "             'D = f4(22, 8); '\\\n",
    "             'print({e: D[e] for e in sorted(D)})'"
   ]
  },
  {
   "cell_type": "code",
   "execution_count": null,
   "id": "480e813f-8d93-47ef-b649-4ac543fa1101",
   "metadata": {},
   "outputs": [],
   "source": [
    "%%run_and_test python3 -c \"$statements\"\n",
    "\n",
    "'{0: (0,), 1: (1,), 2: (2,), 3: (3,), 4: (4,), 5: (5,), 6: (6,), 7: (7,), 8: (1, 0), '\n",
    "'9: (1, 1), 10: (1, 2), 11: (1, 3), 12: (1, 4), 13: (1, 5), 14: (1, 6), 15: (1, 7), '\n",
    "'16: (2, 0), 17: (2, 1), 18: (2, 2), 19: (2, 3), 20: (2, 4), 21: (2, 5), 22: (2, 6)}\\n'"
   ]
  },
  {
   "cell_type": "markdown",
   "id": "24908afd-411a-41fa-82b5-399c7e081a4e",
   "metadata": {},
   "source": [
    "# Exercise 5"
   ]
  },
  {
   "cell_type": "markdown",
   "id": "fa583ae3-ab25-4b6a-b1b6-6ecd5196a4eb",
   "metadata": {},
   "source": [
    "## Templates"
   ]
  },
  {
   "cell_type": "code",
   "execution_count": 5,
   "id": "34218b66-ecc4-4949-85ce-9a60df99d4c1",
   "metadata": {},
   "outputs": [
    {
     "data": {
      "text/plain": [
       "\u001b[0;31m# Assume that the argument integral_part is an integer at least equal to 0\u001b[0m\u001b[0;34m\u001b[0m\n",
       "\u001b[0;34m\u001b[0m\u001b[0;31m# and the argument fractional_part is an integer strictly greater than 0.\u001b[0m\u001b[0;34m\u001b[0m\n",
       "\u001b[0;34m\u001b[0m\u001b[0;31m#\u001b[0m\u001b[0;34m\u001b[0m\n",
       "\u001b[0;34m\u001b[0m\u001b[0;31m# The output is printed out, not returned.\u001b[0m\u001b[0;34m\u001b[0m\n",
       "\u001b[0;34m\u001b[0m\u001b[0;34m\u001b[0m\n",
       "\u001b[0;34m\u001b[0m\u001b[0;32mdef\u001b[0m \u001b[0mf5\u001b[0m\u001b[0;34m(\u001b[0m\u001b[0mintegral_part\u001b[0m\u001b[0;34m,\u001b[0m \u001b[0mfractional_part\u001b[0m\u001b[0;34m)\u001b[0m\u001b[0;34m:\u001b[0m\u001b[0;34m\u001b[0m\n",
       "\u001b[0;34m\u001b[0m    \u001b[0;32mpass\u001b[0m\u001b[0;34m\u001b[0m\n",
       "\u001b[0;34m\u001b[0m    \u001b[0;31m# REPLACE THE PASS STATEMENT ABOVE WITH YOUR CODE\u001b[0m\u001b[0;34m\u001b[0m\u001b[0;34m\u001b[0m\u001b[0m\n"
      ]
     },
     "metadata": {},
     "output_type": "display_data"
    }
   ],
   "source": [
    "%pycat exercise_3_5_template.py"
   ]
  },
  {
   "cell_type": "code",
   "execution_count": null,
   "id": "6b931f68-5ebf-464d-b373-74d73bb320e4",
   "metadata": {},
   "outputs": [],
   "source": [
    "%%writefile exercise_3_5.py\n",
    "# Assume that the argument integral_part is an integer at least equal to 0\n",
    "# and the argument fractional_part is an integer strictly greater than 0.\n",
    "#\n",
    "# The output is printed out, not returned.\n",
    "\n",
    "def f5(integral_part, fractional_part):\n",
    "    pass\n",
    "    # REPLACE THE PASS STATEMENT ABOVE WITH YOUR CODE"
   ]
  },
  {
   "cell_type": "markdown",
   "id": "802b4e2e-78df-412f-89e7-dbfe49177322",
   "metadata": {},
   "source": [
    "## Tests"
   ]
  },
  {
   "cell_type": "code",
   "execution_count": null,
   "id": "e0ef00aa-ea7d-4c8d-a73f-f7d18fe71f8e",
   "metadata": {},
   "outputs": [],
   "source": [
    "%%run_and_test python3 -c \"from exercise_3_5 import f5; f5(0, 1)\"\n",
    "\n",
    "'With 2 digits after the decimal point, '\n",
    "'0.1 prints out with 1 trailing zero, '\n",
    "'namely, as 0.10\\n'"
   ]
  },
  {
   "cell_type": "code",
   "execution_count": null,
   "id": "0dfbac93-56c9-4336-ae43-3a867bd0acc5",
   "metadata": {},
   "outputs": [],
   "source": [
    "%%run_and_test python3 -c \"from exercise_3_5 import f5; f5(0, 11)\"\n",
    "\n",
    "'With 4 digits after the decimal point, '\n",
    "'0.11 prints out with 2 trailing zeroes, '\n",
    "'namely, as 0.1100\\n'"
   ]
  },
  {
   "cell_type": "code",
   "execution_count": null,
   "id": "435eaa55-9342-43ed-b4c0-2c8a80a963e4",
   "metadata": {},
   "outputs": [],
   "source": [
    "%%run_and_test python3 -c \"from exercise_3_5 import f5; f5(0, 11111111)\"\n",
    "\n",
    "'With 16 digits after the decimal point, '\n",
    "'0.11111111 prints out with 8 trailing zeroes, '\n",
    "'namely, as 0.1111111100000000\\n'"
   ]
  },
  {
   "cell_type": "code",
   "execution_count": null,
   "id": "0a34fd89-66c3-4680-891f-81220447f399",
   "metadata": {},
   "outputs": [],
   "source": [
    "%%run_and_test python3 -c \"from exercise_3_5 import f5; f5(0, 111111111)\"\n",
    "\n",
    "'With 18 digits after the decimal point, '\n",
    "'0.111111111 prints out as 0.111111110999999999\\n'"
   ]
  },
  {
   "cell_type": "code",
   "execution_count": null,
   "id": "2830ba14-e546-42a8-9942-4babec8dd732",
   "metadata": {},
   "outputs": [],
   "source": [
    "%%run_and_test python3 -c \"from exercise_3_5 import f5; f5(378, 212408)\"\n",
    "\n",
    "'With 12 digits after the decimal point, '\n",
    "'378.212408 prints out with 6 trailing zeroes, '\n",
    "'namely, as 378.212408000000\\n'"
   ]
  },
  {
   "cell_type": "code",
   "execution_count": null,
   "id": "05a1a4c1-bda5-488c-b870-d544578dfe2b",
   "metadata": {},
   "outputs": [],
   "source": [
    "%%run_and_test python3 -c \"from exercise_3_5 import f5; f5(378, 2124089)\"\n",
    "\n",
    "'With 14 digits after the decimal point, '\n",
    "'378.2124089 prints out as 378.21240890000001\\n'"
   ]
  },
  {
   "cell_type": "code",
   "execution_count": null,
   "id": "56569922-8814-48d0-9570-157451cca37c",
   "metadata": {},
   "outputs": [],
   "source": [
    "%%run_and_test python3 -c \"from exercise_3_5 import f5; f5(123456789, 4320)\"\n",
    "\n",
    "'With 8 digits after the decimal point, '\n",
    "'123456789.4320 prints out with 4 trailing zeroes, '\n",
    "'namely, as 123456789.43200000\\n'"
   ]
  },
  {
   "cell_type": "code",
   "execution_count": null,
   "id": "095aa051-b8d4-411d-b30a-aa0b7cf167aa",
   "metadata": {},
   "outputs": [],
   "source": [
    "%%run_and_test python3 -c \"from exercise_3_5 import f5; f5(123456789, 43201)\"\n",
    "\n",
    "'With 10 digits after the decimal point, '\n",
    "'123456789.43201 prints out as 123456789.4320099950\\n'"
   ]
  },
  {
   "cell_type": "markdown",
   "id": "623c4438-f40a-44b4-923a-4593ba0e2688",
   "metadata": {},
   "source": [
    "# Exercise 6"
   ]
  },
  {
   "cell_type": "markdown",
   "id": "4dd3046c-85d1-4b85-bd5e-bbbf291d28ae",
   "metadata": {},
   "source": [
    "## Templates"
   ]
  },
  {
   "cell_type": "code",
   "execution_count": 6,
   "id": "dbf86932-d077-432f-b8bf-1863ac41457e",
   "metadata": {},
   "outputs": [
    {
     "data": {
      "text/plain": [
       "\u001b[0;31m# Assume that the argument L is a list of lists of integers\u001b[0m\u001b[0;34m\u001b[0m\n",
       "\u001b[0;34m\u001b[0m\u001b[0;31m# that are all of the same length, say a strictly positive\u001b[0m\u001b[0;34m\u001b[0m\n",
       "\u001b[0;34m\u001b[0m\u001b[0;31m# integer n, and that fields is a list that represents a\u001b[0m\u001b[0;34m\u001b[0m\n",
       "\u001b[0;34m\u001b[0m\u001b[0;31m# permutation of {1, ..., n}.\u001b[0m\u001b[0;34m\u001b[0m\n",
       "\u001b[0;34m\u001b[0m\u001b[0;31m#\u001b[0m\u001b[0;34m\u001b[0m\n",
       "\u001b[0;34m\u001b[0m\u001b[0;31m# L has to be sorted considering in a list L' of length n\u001b[0m\u001b[0;34m\u001b[0m\n",
       "\u001b[0;34m\u001b[0m\u001b[0;31m# - first the element of L' whose position is given by the\u001b[0m\u001b[0;34m\u001b[0m\n",
       "\u001b[0;34m\u001b[0m\u001b[0;31m#   first member of fields,\u001b[0m\u001b[0;34m\u001b[0m\n",
       "\u001b[0;34m\u001b[0m\u001b[0;31m# - if n >= 2, then the element of L' whose position is given by the\u001b[0m\u001b[0;34m\u001b[0m\n",
       "\u001b[0;34m\u001b[0m\u001b[0;31m#   second member of fields,\u001b[0m\u001b[0;34m\u001b[0m\n",
       "\u001b[0;34m\u001b[0m\u001b[0;31m# - ...\u001b[0m\u001b[0;34m\u001b[0m\n",
       "\u001b[0;34m\u001b[0m\u001b[0;31m# - finally, the element of L' whose position is given by the\u001b[0m\u001b[0;34m\u001b[0m\n",
       "\u001b[0;34m\u001b[0m\u001b[0;31m#   last member of fields.\u001b[0m\u001b[0;34m\u001b[0m\n",
       "\u001b[0;34m\u001b[0m\u001b[0;34m\u001b[0m\n",
       "\u001b[0;34m\u001b[0m\u001b[0;32mdef\u001b[0m \u001b[0mf6\u001b[0m\u001b[0;34m(\u001b[0m\u001b[0mL\u001b[0m\u001b[0;34m,\u001b[0m \u001b[0mfields\u001b[0m\u001b[0;34m)\u001b[0m\u001b[0;34m:\u001b[0m\u001b[0;34m\u001b[0m\n",
       "\u001b[0;34m\u001b[0m    \u001b[0;32mreturn\u001b[0m \u001b[0;34m[\u001b[0m\u001b[0;34m]\u001b[0m\u001b[0;34m\u001b[0m\n",
       "\u001b[0;34m\u001b[0m    \u001b[0;31m# REPLACE THE RETURN STATEMENT ABOVE WITH YOUR CODE\u001b[0m\u001b[0;34m\u001b[0m\u001b[0;34m\u001b[0m\u001b[0m\n"
      ]
     },
     "metadata": {},
     "output_type": "display_data"
    }
   ],
   "source": [
    "%pycat exercise_3_6_template.py"
   ]
  },
  {
   "cell_type": "code",
   "execution_count": null,
   "id": "6c192672-9c7b-417a-be21-f8c33157f36e",
   "metadata": {},
   "outputs": [],
   "source": [
    "%%writefile exercise_3_6.py\n",
    "# Assume that the argument L is a list of lists of integers\n",
    "# that are all of the same length, say a strictly positive\n",
    "# integer n, and that fields is a list that represents a\n",
    "# permutation of {1, ..., n}.\n",
    "#\n",
    "# L has to be sorted considering in a list L' of length n\n",
    "# - first the element of L' whose position is given by the\n",
    "#   first member of fields,\n",
    "# - if n >= 2, then the element of L' whose position is given by the\n",
    "#   second member of fields,\n",
    "# - ...\n",
    "# - finally, the element of L' whose position is given by the\n",
    "#   last member of fields.\n",
    "\n",
    "def f6(L, fields):\n",
    "    return []\n",
    "    # REPLACE THE RETURN STATEMENT ABOVE WITH YOUR CODE"
   ]
  },
  {
   "cell_type": "markdown",
   "id": "6a137784-1134-4556-b1bc-6d84f21bda85",
   "metadata": {},
   "source": [
    "## Tests"
   ]
  },
  {
   "cell_type": "code",
   "execution_count": null,
   "id": "f0bbb91e-cf96-4376-b17a-2e611800b6bf",
   "metadata": {},
   "outputs": [],
   "source": [
    "statements = 'from exercise_3_6 import f6; '\\\n",
    "             'L = [[3], [0], [1], [0], [8], [4], [0], [4], [7]]; '\\\n",
    "             'print(f6(L, [1]))'"
   ]
  },
  {
   "cell_type": "code",
   "execution_count": null,
   "id": "c4365148-9520-4a3f-a885-1581302f88b3",
   "metadata": {},
   "outputs": [],
   "source": [
    "%%run_and_test python3 -c \"$statements\"\n",
    "\n",
    "'[[0], [0], [0], [1], [3], [4], [4], [7], [8]]\\n'"
   ]
  },
  {
   "cell_type": "code",
   "execution_count": null,
   "id": "27171ed3-6805-4ed8-925b-1533a450b1cd",
   "metadata": {},
   "outputs": [],
   "source": [
    "statements = 'from exercise_3_6 import f6; '\\\n",
    "             'L = [[3, 3], [0, 0], [0, 2], [0, 1], [1, 1], [3, 2]]; '\\\n",
    "             'print(f6(L, [1, 2]))'"
   ]
  },
  {
   "cell_type": "code",
   "execution_count": null,
   "id": "8622a89c-b362-4ed8-a51b-b7678d11fb8e",
   "metadata": {},
   "outputs": [],
   "source": [
    "%%run_and_test python3 -c \"$statements\"\n",
    "\n",
    "'[[0, 0], [0, 1], [0, 2], [1, 1], [3, 2], [3, 3]]\\n'"
   ]
  },
  {
   "cell_type": "code",
   "execution_count": null,
   "id": "df09230a-18e8-4bab-8470-9e4b1fca0068",
   "metadata": {},
   "outputs": [],
   "source": [
    "statements = 'from exercise_3_6 import f6; '\\\n",
    "             'L = [[3, 3], [0, 0], [0, 2], [0, 1], [1, 1], [3, 2]]; '\\\n",
    "             'print(f6(L, [2, 1]))'"
   ]
  },
  {
   "cell_type": "code",
   "execution_count": null,
   "id": "1397b4f2-be70-4f07-b68b-ef4809b90d30",
   "metadata": {},
   "outputs": [],
   "source": [
    "%%run_and_test python3 -c \"$statements\"\n",
    "\n",
    "'[[0, 0], [0, 1], [1, 1], [0, 2], [3, 2], [3, 3]]\\n'"
   ]
  },
  {
   "cell_type": "code",
   "execution_count": null,
   "id": "ef0d1019-b21a-4537-bfe7-1bd4c5dfd80c",
   "metadata": {},
   "outputs": [],
   "source": [
    "statements = 'from exercise_3_6 import f6; '\\\n",
    "             'L = [[2, 3, 2], [2, 4, 3], [2, 2, 4], [3, 3, 4], '\\\n",
    "                  '[1, 3, 4], [1, 3, 2], [4, 1, 3], [3, 2, 2]]; '\\\n",
    "             'print(f6(L, [2, 3, 1]))'"
   ]
  },
  {
   "cell_type": "code",
   "execution_count": null,
   "id": "1734a164-7956-4d14-87a8-ae30a6f1ce80",
   "metadata": {},
   "outputs": [],
   "source": [
    "%%run_and_test python3 -c \"$statements\"\n",
    "\n",
    "'[[4, 1, 3], [3, 2, 2], [2, 2, 4], [1, 3, 2], '\n",
    " '[2, 3, 2], [1, 3, 4], [3, 3, 4], [2, 4, 3]]\\n'"
   ]
  },
  {
   "cell_type": "code",
   "execution_count": null,
   "id": "ae206b86-bf8d-40df-baef-e2b679e1dbdb",
   "metadata": {},
   "outputs": [],
   "source": [
    "statements = 'from exercise_3_6 import f6; '\\\n",
    "             'L = [[1, 2, 2, 3, 1], [3, 0, 3, 2, 3], [3, 2, 1, 0, 3], '\\\n",
    "                  '[2, 3, 0, 2, 2], [1, 2, 0, 1, 3], [0, 0, 1, 3, 1], '\\\n",
    "                  '[1, 1, 0, 0, 1], [0, 2, 0, 3, 3], [2, 2, 1, 2, 2], '\\\n",
    "                  '[2, 3, 3, 0, 1], [1, 3, 0, 0, 0], [2, 1, 2, 3, 3]]; '\\\n",
    "             'print(f6(L, [3, 2, 4, 5, 1]))'"
   ]
  },
  {
   "cell_type": "code",
   "execution_count": null,
   "id": "2e95bd92-9c47-4261-8ce9-3d784c166e83",
   "metadata": {},
   "outputs": [],
   "source": [
    "%%run_and_test python3 -c \"$statements\"\n",
    "\n",
    "'[[1, 1, 0, 0, 1], [1, 2, 0, 1, 3], [0, 2, 0, 3, 3], '\n",
    " '[1, 3, 0, 0, 0], [2, 3, 0, 2, 2], [0, 0, 1, 3, 1], '\n",
    " '[3, 2, 1, 0, 3], [2, 2, 1, 2, 2], [2, 1, 2, 3, 3], '\n",
    " '[1, 2, 2, 3, 1], [3, 0, 3, 2, 3], [2, 3, 3, 0, 1]]\\n'"
   ]
  },
  {
   "cell_type": "code",
   "execution_count": null,
   "id": "0739e6ac-f275-4b7b-8750-afadad7a932f",
   "metadata": {},
   "outputs": [],
   "source": [
    "statements = 'from exercise_3_6 import f6; '\\\n",
    "             'L = [[1, 0, 1, 0, 0, 0], [0, 1, 0, 1, 0, 0], [1, 0, 0, 1, 0, 1], '\\\n",
    "                  '[1, 1, 0, 0, 1, 0], [0, 1, 1, 1, 1, 1], [1, 1, 1, 1, 1, 1], '\\\n",
    "                  '[0, 1, 0, 0, 1, 0], [1, 1, 1, 1, 0, 0], [0, 0, 1, 0, 1, 0], '\\\n",
    "                  '[0, 0, 0, 1, 1, 1], [0, 0, 1, 1, 0, 0], [1, 1, 1, 0, 1, 1], '\\\n",
    "                  '[1, 1, 0, 0, 0, 1], [0, 1, 0, 0, 0, 1], [0, 0, 1, 1, 0, 1], '\\\n",
    "                  '[0, 0, 1, 0, 1, 1], [1, 1, 0, 1, 1, 0], [1, 0, 0, 1, 1, 1], '\\\n",
    "                  '[1, 0, 0, 0, 1, 1], [0, 1, 1, 0, 1, 1]]; '\\\n",
    "             'print(f6(L, [4, 3, 6, 2, 5, 1]))'"
   ]
  },
  {
   "cell_type": "code",
   "execution_count": null,
   "id": "4d131d54-bbbe-4c8c-a39d-8838e50c1f63",
   "metadata": {},
   "outputs": [],
   "source": [
    "%%run_and_test python3 -c \"$statements\"\n",
    "\n",
    "'[[0, 1, 0, 0, 1, 0], [1, 1, 0, 0, 1, 0], [1, 0, 0, 0, 1, 1], '\n",
    " '[0, 1, 0, 0, 0, 1], [1, 1, 0, 0, 0, 1], [1, 0, 1, 0, 0, 0], '\n",
    " '[0, 0, 1, 0, 1, 0], [0, 0, 1, 0, 1, 1], [0, 1, 1, 0, 1, 1], '\n",
    " '[1, 1, 1, 0, 1, 1], [0, 1, 0, 1, 0, 0], [1, 1, 0, 1, 1, 0], '\n",
    " '[1, 0, 0, 1, 0, 1], [0, 0, 0, 1, 1, 1], [1, 0, 0, 1, 1, 1], '\n",
    " '[0, 0, 1, 1, 0, 0], [1, 1, 1, 1, 0, 0], [0, 0, 1, 1, 0, 1], '\n",
    " '[0, 1, 1, 1, 1, 1], [1, 1, 1, 1, 1, 1]]\\n'"
   ]
  }
 ],
 "metadata": {
  "kernelspec": {
   "display_name": "Python 3 (ipykernel)",
   "language": "python",
   "name": "python3"
  },
  "language_info": {
   "codemirror_mode": {
    "name": "ipython",
    "version": 3
   },
   "file_extension": ".py",
   "mimetype": "text/x-python",
   "name": "python",
   "nbconvert_exporter": "python",
   "pygments_lexer": "ipython3",
   "version": "3.12.6"
  }
 },
 "nbformat": 4,
 "nbformat_minor": 5
}
