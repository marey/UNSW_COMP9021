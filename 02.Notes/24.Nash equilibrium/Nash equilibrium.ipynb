{
 "cells": [
  {
   "cell_type": "code",
   "execution_count": null,
   "metadata": {},
   "outputs": [],
   "source": [
    "# Does not need to be executed if\n",
    "# ~/.ipython/profile_default/ipython_config.py\n",
    "# exists and contains:\n",
    "# c.InteractiveShell.ast_node_interactivity = 'all'\n",
    "\n",
    "from IPython.core.interactiveshell import InteractiveShell\n",
    "InteractiveShell.ast_node_interactivity = 'all'"
   ]
  },
  {
   "cell_type": "code",
   "execution_count": null,
   "metadata": {},
   "outputs": [],
   "source": [
    "import zipfile\n",
    "with zipfile.ZipFile('Illustrations.zip') as illustrations:\n",
    "    illustrations.extractall('.')"
   ]
  },
  {
   "cell_type": "code",
   "execution_count": null,
   "metadata": {
    "init_cell": true,
    "run_control": {
     "marked": false
    }
   },
   "outputs": [],
   "source": [
    "from IPython.display import set_matplotlib_formats\n",
    "set_matplotlib_formats('retina')"
   ]
  },
  {
   "cell_type": "code",
   "execution_count": null,
   "metadata": {
    "init_cell": true,
    "run_control": {
     "marked": false
    }
   },
   "outputs": [],
   "source": [
    "from itertools import product\n",
    "import matplotlib.pyplot as plt\n",
    "from matplotlib.patches import Rectangle, Circle\n",
    "import re"
   ]
  },
  {
   "cell_type": "markdown",
   "metadata": {},
   "source": [
    "### $2\\times2$ games, pure strategies, and Pareto optimality"
   ]
  },
  {
   "cell_type": "markdown",
   "metadata": {},
   "source": [
    "Consider two players, Ruth and Charlie, who both can take one of two possible decisions. Each of the four pairs $(d_R,d_C)$ of possible decisions taken by both players is associated with a pair $(p_R,p_C)$ of expected _payoffs_ (the indexes $R$ and $C$ refer to Ruth and Charlie, respectively).\n",
    "\n",
    "For a first example, consider the _prisoner's dilemma_. Ruth and Charlie are imprisoned for serious charges, but evidence is missing to convict them for those. Ruth and Charlie, who are held in separate cells and cannot communicate, are each offered the following deal, knowing that the other is offered the same deal:\n",
    "\n",
    "* if one of them confesses and the partner remains silent, then the one who confessed will go free while the confession will be used to sentence the other to 10 years in jail;\n",
    "* if both confess, then they will both spend 8 years in jail;\n",
    "* if neither confesses, then they will both spend 1 year in jail for the minor crime that can be proved without additional evidence.\n",
    "\n",
    "<div><img src=\"Illustrations/table_1.pdf\" width=\"350\"/></div>\n",
    "\n",
    "Both Ruth and Charlie deciding to confess is a _Nash equilibrium_:\n",
    "\n",
    "* Charlie confessing, Ruth finds herself better off by confessing (-8) than by not confessing (-10); \n",
    "* Ruth confessing, Charlie finds himself better off by confessing (-8) than by not confessing (-10).\n",
    "\n",
    "Note that Ruth and Charlie would in fact be better off if they did not confess (they would spend 1 year rather than 8 years in jail). But that is not what Game theory recommends, and that is not what is observed in practice either... A way to express that Ruth and Charlie would be better off if they did not testify is to say that this pair of decisions is not _Pareto optimal_: there exists another pair of decisions (namely, both of them not testifying) associated with an outcome which is at least as good for both players, and better for at least one of them (in this case, better for both of them).\n",
    "\n",
    "For a second example, consider the _game of chicken_. Ruth and Charlie drive towards each other at high speed following a white line drawn on the middle of the road. If both swerve (chicken out), then it is a draw (0 to both). If one swerves and the other does not, then the one who did not chicken out wins (1) while the other one loses (-1). If neither chickens out, then they won't have a chance to play again, and their common payoff could be reasonably set to $-\\infty$, but we set it arbitrarily to -10.\n",
    "\n",
    "<div><img src=\"Illustrations/table_2.pdf\" width=\"300\"/></div>\n",
    "\n",
    "Ruth not chickening out and Charlie chickening out is a Nash equilibrium:\n",
    "\n",
    "* Charlie swerving, Ruth finds herself better off by not swerving (1) than by swerving (0); \n",
    "* Ruth not swerving, Charlie finds himself better off by swerving (-1) than by not swerving (-10).\n",
    "\n",
    "By symmetry, Ruth chickening out and Charlie not chickening out is also a Nash equilibrium."
   ]
  },
  {
   "cell_type": "markdown",
   "metadata": {},
   "source": [
    "### Mixed strategies"
   ]
  },
  {
   "cell_type": "markdown",
   "metadata": {},
   "source": [
    "Testifying or not testifying, swerving or not swerving, are _pure strategies_. More generally, Ruth can testify or swerve with probability $p$, and Charlie can testify or swerve with probability $q$. Ruth opts for a pure strategy iff $p$ is 0 or 1, and similarly Charlie opts for a pure strategy iff $q$ is 0 or 1; otherwise, they opt for a _mixed strategy_.\n",
    "\n",
    "Let us consider the game of chicken with both Ruth and Charlie swerving with probability $0.9$. Then Ruth's expectation is $0.1(0.1\\times -10+0.9\\times 1)+0.9(0.1\\times -1+0.9\\times 0)=-0.1$; by symmetry, Charlie's expectation is also $-0.1$. It turns out that this strategy is also a Nash equilibrium, as we now show.\n",
    "\n",
    "If Ruth swerves with probability $p$ and Charlie swerves with probability $q$, then Ruth's expectation is equal to\n",
    "\n",
    "\\begin{equation*}\n",
    "(1-p)[(1-q)\\times -10+q\\times 1]+p[(1-q)\\times -1+q\\times 0]\n",
    "\\end{equation*}\n",
    "\n",
    "which simplifies to\n",
    "\n",
    "\\begin{equation*}\n",
    "(-10q+9)p+11q-10\n",
    "\\end{equation*}\n",
    "\n",
    "Ruth's aim is to _maximise_ her expectation, that is, maximise the value of the above expression, which is achieved by:\n",
    "\n",
    "* setting $p$ to 0 if $q>0.9$;\n",
    "* setting $p$ to 1 if $q<0.9$;\n",
    "* taking for $p$ an arbitrary value if $q=0.9$.\n",
    "\n",
    "By symmetry, Charlie maximises his expectation by:\n",
    "\n",
    "* setting $q$ to 0 if $p>0.9$;\n",
    "* setting $q$ to 1 if $p<0.9$;\n",
    "* taking for $q$ an arbitrary value if $p=0.9$.\n",
    "\n",
    "This means that both players accepting the opponent's strategy as it is (they can only decide for themselves), Ruth and Charlie will both not regret their strategy in three cases, the three Nash equilibria:\n",
    "\n",
    "* $p=0$ and $q=1$\n",
    "* $p=1$ and $q=0$\n",
    "* $p=0.9$ and $q=0.9$\n",
    "\n",
    "<div><img src=\"Illustrations/chicken.pdf\" width=\"400\"/></div>"
   ]
  },
  {
   "cell_type": "markdown",
   "metadata": {},
   "source": [
    "### No regret graphs"
   ]
  },
  {
   "cell_type": "markdown",
   "metadata": {},
   "source": [
    "Use the following notation for Ruth's and Charlie's payoffs:\n",
    "\n",
    "<div><img src=\"Illustrations/table_3.pdf\" width=\"200\"/></div>\n",
    "\n",
    "Then Ruth's expectation is\n",
    "\n",
    "\\begin{equation*}\n",
    "(1-p)[(1-q)a_1+qa_2]+p[(1-q)a_3+qa_4]\n",
    "\\end{equation*}\n",
    "\n",
    "which can be written as\n",
    "\n",
    "\\begin{equation*}\n",
    "(a_1-a_2-a_3+a_4)pq+(a_3-a_1)p+(a_2-a_1)q+a_1\n",
    "\\end{equation*}\n",
    "\n",
    "whereas Charlie's expectation is\n",
    "\n",
    "\\begin{equation*}\n",
    "(1-p)[(1-q)b_1+qb_2]+p[(1-q)b_3+qb_4]\n",
    "\\end{equation*}\n",
    "\n",
    "which can be written as\n",
    "\n",
    "\\begin{equation*}\n",
    "(b_1-b_2-b_3+b_4)pq+(b_3-b_1)p+(b_2-b_1)q+b_1\n",
    "\\end{equation*}\n",
    "\n",
    "Set:\n",
    "\n",
    "* $D_R = a_1-a_2-a_3+a_4$ and $D_C = b_1-b_2-b_3+b_4$;\n",
    "* $E_R=a_3-a_1$ and $E_C=b_2-b_1$;\n",
    "* $F_R=a_2-a_1$ and $F_C=b_3-b_1$.\n",
    "\n",
    "So Ruth's expectation is $(D_R q + E_R)p + F_R q + a_1$ and Charlie's expectation is $(D_C p + E_C)q + F_C p + b_1$.\n",
    "Both players aim at maximising their expectation, which determines:\n",
    "\n",
    "* Ruth's No regret graph, consisting of all pairs of numbers of the form:\n",
    "    * $(0, q)$ with $D_R q + E_R < 0$,\n",
    "    * $(p, q)$ with $0\\leq p\\leq 1$ and $D_R q + E_R = 0$,\n",
    "    * $(1, q)$ with $D_R q + E_R > 0$;\n",
    "* Charlie's No regret graph, consisting of all pairs of numbers of the form:\n",
    "    * $(p, 0)$ with $D_C p + E_C < 0$,\n",
    "    * $(p, q)$ with $0\\leq q\\leq 1$ and $D_C p + E_C = 0$,\n",
    "    * $(q, 1)$ with $D_C p + E_C > 0$.\n",
    "    \n",
    "The possible No regret graphs for Ruth are:\n",
    "\n",
    "![](Illustrations/ruth_graph.pdf)\n",
    "\n",
    "The possible No regret graphs for Charlie are:\n",
    "\n",
    "![](Illustrations/charlie_graph.pdf)\n",
    "\n",
    "Any possible No regret graph for Ruth intersects any No regret graph for Charlie, which shows the existence of a Nash equilibrium; the Nash equilibria are all intersection points.\n",
    "\n",
    "Note from the graphs that if Ruth achieves a Nash equilibrium using a pure strategy, then Charlie can also use a pure strategy; similarly, if Charlie achieves a Nash equilibrium using a pure strategy then Ruth can also use a pure strategy.\n",
    "\n",
    "Note from the equations that when Ruth achieves a Nash equilibrium using a mixed strategy, then $D_R q + E_R=0$ and her expectation does not depend on her own probability of choosing one decision over the alternative; similarly, when Charlie achieves a Nash equilibrium using a mixed strategy, then $D_C p + E_C=0$ and his expectation does not depend on his own probability of choosing one decision over the alternative.\n",
    "\n",
    "Write $D$, $E$ and $F$ to refer to either $D_R$, $E_R$ and $F_R$, or to $D_C$, $E_C$ and $F_C$. What determines the actual No regret graph depends on:\n",
    "\n",
    "* whether $D$ is equal to 0 or not.\n",
    "    * If $D$ is equal to 0, whether $E$ is strictly negative (a probability of 0 is best), equal to 0 (any probability is fine), or strictly positive (a probability of 1 is best).\n",
    "    * If $D$ is not equal to 0, whether $-\\frac{E}{D}$ is strictly negative, or equal to 0, or strictly betweeen 0 and 1, or equal to 1, or strictly greater than 1.\n",
    "        * If $-\\frac{E}{D}$ is strictly negative or strictly greater than 1 (in which case $Dx + E$ is always strictly positive or stricly negative for any $x\\in[0,1]$), whether $E$ is positive (a probability of 1 is best, as seen with $x=0$) or negative (a probability of 0 is best, as seen with $x=0$).\n",
    "        * If $-\\frac{E}{D}$ is between 0 and 1, whether $D$ is positive (a probability of 1 is best when the other player's probability is greater than $-\\frac{E}{D}$, whereas a probability of 0 is best when the other player's probability is smaller than $-\\frac{E}{D}$ ) or negative (a probability of 0 is best when the other player's probability is greater than $-\\frac{E}{D}$, whereas a probability of 1 is best when the other player's probability is smaller than $-\\frac{E}{D}$ ).\n",
    "        \n",
    "In particular, the cases where $D$ is equal to 0 and $E$ is either strictly negative or strictly positive determine the same No regret graphs as the cases where $D$ is not equal to 0 and $-\\frac{E}{D}$ is not between 0 and 1 and $E$ is either negative or positive, respectively."
   ]
  },
  {
   "cell_type": "markdown",
   "metadata": {},
   "source": [
    "### Implementation"
   ]
  },
  {
   "cell_type": "markdown",
   "metadata": {},
   "source": [
    "To systematically examine all cases, let us define appropriate payoffs examples in the form of 4-tuples, meant to denote:\n",
    "\n",
    "* $(a_1, a_2, a_3, a_4)$ if they represent Ruth's payoffs;\n",
    "* $(b_1, b_2, b_3, b_4)$ if they represent Charlie's payoffs."
   ]
  },
  {
   "cell_type": "code",
   "execution_count": null,
   "metadata": {
    "run_control": {
     "marked": false
    }
   },
   "outputs": [],
   "source": [
    "payoffs_examples = (1, 2, 2, 4), (0, -1, 0, 0), (3, 1, 1, 4), (1, 1, 0, 1),\\\n",
    "                   (4, 2, 2, 1), (-1, -1, 0, -1), (2, 3, 4, -3), (0, 1, 0, 0),\\\n",
    "                   (0, 0, 0, 0), (1, 2, 2, 3), (2, 1, 1, 0)"
   ]
  },
  {
   "cell_type": "markdown",
   "metadata": {},
   "source": [
    "We will design and implement functions where the payoffs for one player are not meant to be represented as one 4-tuple, but as two 2-tuples:\n",
    "\n",
    "* $((a_1, a_2), (a_3, a_4))$ for Ruth\n",
    "* $((b_1, b_2), (b_3, b_4))$ for Charlie\n",
    "\n",
    "Since $a_1$ corresponds to $b_1$, $a_2$ to $b_3$, $a_3$ to $b_2$, and $a_4$ to $b_4$, we create from `payoffs_examples` the following lists of pairs of pairs, so as to let each member of `payoffs_examples` play a symmetric role for Ruth and Charlie, and simplify testing:"
   ]
  },
  {
   "cell_type": "code",
   "execution_count": null,
   "metadata": {
    "run_control": {
     "marked": false
    }
   },
   "outputs": [],
   "source": [
    "ruth_payoffs_examples = [((a1, a2), (a3, a4))\n",
    "                             for (a1, a2, a3, a4) in payoffs_examples\n",
    "                        ]\n",
    "charlie_payoffs_examples = [((a1, a3), (a2, a4))\n",
    "                                for (a1, a2, a3, a4) in payoffs_examples\n",
    "                           ]"
   ]
  },
  {
   "cell_type": "markdown",
   "metadata": {},
   "source": [
    "Using those two lists, let us demonstrate that the members of `payoffs_examples` illustrate all possible cases of No regret graphs as previously organised:"
   ]
  },
  {
   "cell_type": "code",
   "execution_count": null,
   "metadata": {
    "run_control": {
     "marked": false
    }
   },
   "outputs": [],
   "source": [
    "def case_analysis(payoffs_per_player):\n",
    "    print()\n",
    "    D = dict.fromkeys('Ruth', 'Charlie')\n",
    "    E = dict.fromkeys('Ruth', 'Charlie')\n",
    "    for player in payoffs_per_player:\n",
    "        payoffs = payoffs_per_player[player]\n",
    "        D[player] = payoffs[0][0] - payoffs[0][1] - payoffs[1][0]\\\n",
    "                    + payoffs[1][1]\n",
    "        E[player] = payoffs[int(player == 'Ruth')][int(player == 'Charlie')]\\\n",
    "                    - payoffs[0][0]\n",
    "        if D[player]:\n",
    "            cut = -E[player] / D[player]\n",
    "            if cut < 0 or cut > 1:\n",
    "                if E[player] > 0:\n",
    "                    graph = '1(a)'\n",
    "                else:\n",
    "                     graph = '5(a)'\n",
    "            if cut == 0:\n",
    "                if D[player] > 0:\n",
    "                    graph = 2\n",
    "                else:\n",
    "                    graph = 8\n",
    "            elif cut == 1:\n",
    "                if D[player] > 0:\n",
    "                    graph = 4\n",
    "                else:\n",
    "                    graph = 6\n",
    "            elif 0 < cut < 1:\n",
    "                if D[player] > 0:\n",
    "                    graph = 3\n",
    "                else:\n",
    "                    graph = 7\n",
    "        else:\n",
    "            cut = 'undef'\n",
    "            if E[player] > 0:\n",
    "                graph = '1(b)'\n",
    "            elif E[player] < 0:\n",
    "                graph = '5(b)'\n",
    "            else:\n",
    "                graph = 9\n",
    "        print(f'{player:9}{D[player]:3}{E[player]:5}{cut:>8}   {graph}')"
   ]
  },
  {
   "cell_type": "code",
   "execution_count": null,
   "metadata": {
    "run_control": {
     "marked": false
    }
   },
   "outputs": [],
   "source": [
    "print('Player     D    E    -E/D   No regret graph')\n",
    "for payoffs_per_player in ({'Ruth': ruth_payoffs, 'Charlie': charlie_payoffs\n",
    "                           } for (ruth_payoffs, charlie_payoffs) in\n",
    "                                    zip(ruth_payoffs_examples,\n",
    "                                        charlie_payoffs_examples\n",
    "                                       )\n",
    "                          ):\n",
    "    case_analysis(payoffs_per_player)"
   ]
  },
  {
   "cell_type": "markdown",
   "metadata": {},
   "source": [
    "Let us now conduct the full analysis for all nine cases of Non regret graphs (using `payoffs_examples` without its last two members, so just selecting a single representative for each of Cases 1 and 5 of the No regret graphs). Keep writing $D$, $E$ and $F$ to refer to either $D_R$, $E_R$ and $F_R$, or to $D_C$, $E_C$ and $F_C$, and also write $v$ to refer to $q$ or $p$ (note: not $p$ or $q$), respectively. The function below, `analyse()`, defines one set and three dictionaries:\n",
    "\n",
    "* the set `all_good`: it is initialised to the empty set, and will have `'Ruth'` or `'Charlie'` as member if the player's No regret graph falls under Case 9.\n",
    "* the dictionary `segments`: with `player` set to either `'Ruth'` or `'Charlie'`, `segments[player]` is initialised to `[None, None]`.\n",
    "    * `segments[player][0]` will be changed to a tuple of the form $(a, b)$, $0\\leq a<b\\leq 1$, in case $Dv+E\\leq 0$ holds and either $D\\neq 0$ or $E\\neq 0$, so if the No regret graph for `player` does not fall under Case 9 and has a \"low\" boundary line segment (vertically on the left for Ruth, horizontally at the bottom for Charlie).\n",
    "    *  `segments[player][1]` will be changed to a tuple of the form $(a, b)$, $0\\leq a<b\\leq 1$, in case $Dv+E\\geq 0$ holds and either $D\\neq 0$ or $E\\neq 0$, so if the No regret graph for `player` does not fall under Case 9 and has a \"high\" boundary line segment (vertically on the right for Ruth, horizontally at the top for Charlie).\n",
    "* the dictionary `probas`: with `player` set to either `'Ruth'` or `'Charlie'`, `probas[player]` is initialised to `None`. If there is a unique $v\\in[0,1]$ such that $Dv+E=0$, then it will be changed to $v$'s value.\n",
    "* the dictionary `expectations`: with `player` set to either `'Ruth'` or `'Charlie'`, `probas[player]` is initialised to `None`. If there is a unique $v\\in(0,1)$ such that $Dv+E=0$, then it will be changed to `player`'s expectation in case the other player choses not to testify/swerve/... with probability $v$. This is the only case where the expectation might not be one of the payoffs, and it corresponds to the Nash equilibrium that is the intersection the two inner line segments when the Regret lines of both players fall under one of Cases 3 and 7.\n",
    "\n",
    "Cases 4 and 8 of the Non regret graphs have a \"low\" boundary line segment, while Cases 2 and 6 have a \"high\" boundary line segment. As `case_analysis()` shows, under the assumptions that $D\\neq 0$ and $-\\frac{E}{D}\\in\\{0,1\\}$:\n",
    "\n",
    "* Case 4 or Case 8 holds iff either $-\\frac{E}{D}=0$ and $D<0$, or $-\\frac{E}{D}=1$ and $D>0$;\n",
    "* Case 2 or Case 6 holds iff either $-\\frac{E}{D}=0$ and $D>0$, or $-\\frac{E}{D}=1$ and $D<0$.\n",
    "\n",
    "Boolean xor, `^`, that returns `True` iff one operand evaluates to `True` and the other to `False`, offers a good way to capture the previous distinction:"
   ]
  },
  {
   "cell_type": "code",
   "execution_count": null,
   "metadata": {
    "run_control": {
     "marked": false
    }
   },
   "outputs": [],
   "source": [
    "print('cut    D    low (0) or')\n",
    "print('            right (1)')\n",
    "for cut, D in product((0, 1), (-1, 1)):\n",
    "    print(f'{cut:3}{D:5}    {int((cut == 1) ^ (D > 0))}')"
   ]
  },
  {
   "cell_type": "markdown",
   "metadata": {},
   "source": [
    "To conduct the full analysis and generate all relevant information for all cases of No regret graphs, `analyse()` is essentially a \"fleshed out\" version of `case_analysis()`:"
   ]
  },
  {
   "cell_type": "code",
   "execution_count": null,
   "metadata": {
    "run_control": {
     "marked": false
    }
   },
   "outputs": [],
   "source": [
    "def analyse(payoffs_per_player):\n",
    "    all_good = set()\n",
    "    segments = {player: [None, None] for player in payoffs_per_player}\n",
    "    probas = dict.fromkeys(payoffs_per_player)\n",
    "    expectations = dict.fromkeys(payoffs_per_player)\n",
    "    D = dict.fromkeys(payoffs_per_player)\n",
    "    E = dict.fromkeys(payoffs_per_player)\n",
    "    F = dict.fromkeys(payoffs_per_player)\n",
    "    for player in payoffs_per_player:\n",
    "        payoffs = payoffs_per_player[player]\n",
    "        D[player] = payoffs[0][0] - payoffs[0][1] - payoffs[1][0]\\\n",
    "                    + payoffs[1][1]\n",
    "        E[player] = payoffs[int(player == 'Ruth')][int(player == 'Charlie')]\\\n",
    "                    - payoffs[0][0]\n",
    "        if D[player]:\n",
    "            cut = -E[player] / D[player]\n",
    "            if cut < 0 or cut > 1:\n",
    "                segments[player][1 - int(E[player] < 0)] = 0, 1\n",
    "            else:\n",
    "                probas[player] = cut\n",
    "                if cut in {0, 1}:\n",
    "                    segments[player][int((cut == 1) ^ (D[player] > 0))] = 0, 1\n",
    "                else:\n",
    "                    F[player] = payoffs[int(player == 'Charlie')]\\\n",
    "                                       [int(player == 'Ruth')] - payoffs[0][0]\n",
    "                    expectations[player] = F[player] * probas[player]\\\n",
    "                                           + payoffs[0][0]\n",
    "                    segments[player][int(D[player] < 0)] = 0, probas[player]\n",
    "                    segments[player][int(D[player] > 0)] = probas[player], 1\n",
    "        elif E[player]:\n",
    "            segments[player][1 - int(E[player] < 0)] = 0, 1\n",
    "        else:\n",
    "            all_good.add(player)\n",
    "    return all_good, segments, probas, expectations"
   ]
  },
  {
   "cell_type": "code",
   "execution_count": null,
   "metadata": {
    "run_control": {
     "marked": false
    }
   },
   "outputs": [],
   "source": [
    "print('Player   all_good   low segment   high segment   proba   expectation')\n",
    "for payoffs_per_player in ({'Ruth': ruth_payoffs, 'Charlie': charlie_payoffs}\n",
    "                               for (ruth_payoffs, charlie_payoffs) in\n",
    "                                    zip(ruth_payoffs_examples[: -2],\n",
    "                                        charlie_payoffs_examples[: -2]\n",
    "                                       )\n",
    "                          ):\n",
    "    print()\n",
    "    outcome = analyse(payoffs_per_player)\n",
    "    for player in 'Ruth', 'Charlie':\n",
    "        s_1, s_2, s_3, s_4, s_5 = (str(player in outcome[0]),\n",
    "                                   str(outcome[1][player][0]),\n",
    "                                   str(outcome[1][player][1]),\n",
    "                                   str(outcome[2][player]),\n",
    "                                   str(outcome[3][player])\n",
    "                                  )\n",
    "        print(f'{player:9}{s_1:11}{s_2:14}{s_3:15}{s_4:8}{s_5}')"
   ]
  },
  {
   "cell_type": "markdown",
   "metadata": {},
   "source": [
    "For the game of chicken, the analysis yields the following:"
   ]
  },
  {
   "cell_type": "code",
   "execution_count": null,
   "metadata": {
    "run_control": {
     "marked": false
    }
   },
   "outputs": [],
   "source": [
    "analyse({'Ruth': ((-10, 1), (-1, 0)), 'Charlie': ((-10, -1), (1, 0))})"
   ]
  },
  {
   "cell_type": "markdown",
   "metadata": {},
   "source": [
    "The following function determines which of the lower left corner ($i=0$ and $j=0$), top left corner ($i=0$ and $j=1$), lower right corner ($i=1$ and $j=0$), and upper right corner ($i=1$ and $j=1$) of the No regret graphs are (pure) Nash equilibria. "
   ]
  },
  {
   "cell_type": "code",
   "execution_count": null,
   "metadata": {
    "run_control": {
     "marked": false
    }
   },
   "outputs": [],
   "source": [
    "def is_pure_equilibrium(i, j, all_good, segments, probas):\n",
    "    return all(X[0] in all_good or segments[X[0]][X[1]]\\\n",
    "                                   and segments[X[0]][X[1]][X[2]] == X[2]\n",
    "               or probas[X[0]] == X[2] for X in {('Ruth', i, j),\n",
    "                                                 ('Charlie', j, i)\n",
    "                                                }\n",
    "              )"
   ]
  },
  {
   "cell_type": "markdown",
   "metadata": {},
   "source": [
    "Note the use of `all()` in `is_pure_equilibrium()`, whose dual is `any()`:"
   ]
  },
  {
   "cell_type": "code",
   "execution_count": null,
   "metadata": {},
   "outputs": [],
   "source": [
    "any([0, '', {}, set()]), any({}), any(range(1))\n",
    "any((0, '', {}, 2, set())), any(' '), any({False: None, 1: None})\n",
    "all((1, ' a', {1: 2}, set('b'))), all('False'), all({})\n",
    "all([1, ' a', {1: 2}, False, set('b')]), all({0}), all({0: 1, 1: 1})"
   ]
  },
  {
   "cell_type": "markdown",
   "metadata": {},
   "source": [
    "We test `is_pure_equilibrium()` on all 9 cases of corresponding pairs of No regret graphs:"
   ]
  },
  {
   "cell_type": "code",
   "execution_count": null,
   "metadata": {
    "run_control": {
     "marked": false
    }
   },
   "outputs": [],
   "source": [
    "print('Lower left  Lower right Upper left  Upper right')\n",
    "for payoffs_per_player in ({'Ruth': ruth_payoffs, 'Charlie': charlie_payoffs\n",
    "                           } for (ruth_payoffs, charlie_payoffs) in\n",
    "                                    zip(ruth_payoffs_examples[: -2],\n",
    "                                        charlie_payoffs_examples[: -2]\n",
    "                                       )\n",
    "                          ):\n",
    "    print()\n",
    "    for (i, j) in product(range(2), repeat=2):\n",
    "        v = is_pure_equilibrium(i, j, *analyse(payoffs_per_player)[: 3])\n",
    "        print(f'{str(v):12}', end='')"
   ]
  },
  {
   "cell_type": "markdown",
   "metadata": {},
   "source": [
    "Finally, we draw the 81 possible combinations of 9 cases of No regret graphs for Ruth and for Charlie. We indicate the pure Nash equilibria with red circles, also draw red circles at the intersection of No regret inner line segments, draw in red the parts of the No regret boundary line segments that overlap with a line segment of the No regret graph for the other player, while all other parts of the line segments are drawn using the players' dedicated colours, and for the 9th case of No regret graphs, we fill the whole area with the appropriate colour. For each axes for any of the 9 x 9 cells that make up the figure, retrieved with the `gca()` function of the `matplotlib.pyplot` module as the current axes (_gca_ is for _Get Current Axes_), we make use of:\n",
    "\n",
    "* `axis('off')`, which can be qualified with either `plt` or `plt.gca()`, to remove frame, labels and ticks;\n",
    "* `add_patch()`, qualified with `plt.gca()`, to draw rectangles and circles, with\n",
    "    * `Rectangle()`, imported from `matplotlib.patches`, that takes as first argument the pair of coordinates of the lower left corner, as as second argument the rectangle's width, and as third argument the rectangle's height.\n",
    "    * `Circle()`, imported from `matplotlib.patches`, that takes as first argument the pair of coordinates of the circle's centre, and as second argument the circle's radius. "
   ]
  },
  {
   "cell_type": "code",
   "execution_count": null,
   "metadata": {
    "run_control": {
     "marked": false
    }
   },
   "outputs": [],
   "source": [
    "def draw_rectangle(colour):\n",
    "    plt.gca().add_patch(Rectangle((0, 0), 1, 1, color=colour))\n",
    "\n",
    "def draw_line(pt_1, pt_2, colour):\n",
    "    plt.plot(pt_1, pt_2, c=colour, linewidth=2)\n",
    "\n",
    "def draw_rectangles(all_good, colours):\n",
    "    if 'Ruth' in all_good:\n",
    "        if 'Charlie' in all_good:\n",
    "            draw_rectangle(colours['Nash'])\n",
    "        else:\n",
    "            draw_rectangle(colours['Ruth'])\n",
    "    elif 'Charlie' in all_good:\n",
    "        draw_rectangle(colours['Charlie'])\n",
    "\n",
    "def draw_outer_lines(all_good, segments, probas, colours):\n",
    "    x_y = {'Ruth': lambda x, j: ((x, x), (j[0], j[1])),\n",
    "           'Charlie': lambda y, i: ((i[0], i[1]), (y, y))\n",
    "          }\n",
    "    for i in range(2):\n",
    "        for player_1, player_2 in ('Ruth', 'Charlie'), ('Charlie', 'Ruth'):\n",
    "            if segments[player_1][i]:\n",
    "                # In case the segment S under consideration intersects\n",
    "                # an inner line segment S' (of length 1) for the other\n",
    "                # player, then S' has been drawn already.\n",
    "                # The intersection of S and S' is drawn again using\n",
    "                # 'Nash' colour.\n",
    "                colour = colours[player_1] if player_2 not in all_good\\\n",
    "                                              and (probas[player_2] is None\n",
    "                                                   or probas[player_2] != i\n",
    "                                                  ) else colours['Nash']\n",
    "                draw_line(*x_y[player_1](i, segments[player_1][i]), colour)\n",
    "\n",
    "def draw_inner_lines(all_good, probas, colours):\n",
    "    x_y = {'Ruth': lambda p: ((0, 1), (p, p)),\n",
    "           'Charlie': lambda p: ((p, p), (0, 1))\n",
    "          }\n",
    "    for player_1, player_2 in ('Ruth', 'Charlie'), ('Charlie', 'Ruth'):\n",
    "        if probas[player_1] is not None:\n",
    "            if player_2 in all_good:\n",
    "                draw_line(*x_y[player_1](probas[player_1]), colours['Nash'])\n",
    "            elif probas[player_1] is not None:\n",
    "                draw_line(*x_y[player_1](probas[player_1]), colours[player_1])\n",
    "\n",
    "def draw_intersecting_nash_equilibria(probas, expectations, colours):\n",
    "    if expectations['Ruth'] is not None and\\\n",
    "       expectations['Charlie'] is not None:\n",
    "        plt.gca().add_patch(Circle((probas['Charlie'], probas['Ruth']), 0.03,\n",
    "                                   color=colours['Nash']\n",
    "                                  )\n",
    "                           )\n",
    "\n",
    "def draw_pure_nash_equilibria(all_good, segments, probas, colours):\n",
    "    for i, j in product(range(2), repeat=2):\n",
    "        if is_pure_equilibrium(i, j, all_good, segments, probas):\n",
    "            plt.gca().add_patch(Circle((i, j), 0.03, color=colours['Nash']))"
   ]
  },
  {
   "cell_type": "code",
   "execution_count": null,
   "metadata": {
    "run_control": {
     "marked": false
    }
   },
   "outputs": [],
   "source": [
    "def draw_all_no_regret_graphs():\n",
    "    colours = {'Ruth': 'blue', 'Charlie': 'olive', 'Nash': 'red'}\n",
    "    plt.figure(figsize=(15, 15))\n",
    "    i = 0\n",
    "    for ruth_payoffs in ruth_payoffs_examples[: -2]:\n",
    "        for charlie_payoffs in charlie_payoffs_examples[: -2]:\n",
    "            i += 1\n",
    "            plt.subplot(9, 9, i)\n",
    "            plt.axis('off')\n",
    "            all_good, segments, probas, expectations =\\\n",
    "                    analyse({'Ruth': ruth_payoffs, 'Charlie': charlie_payoffs})\n",
    "            draw_rectangles(all_good, colours)\n",
    "            draw_inner_lines(all_good, probas, colours)\n",
    "            draw_outer_lines(all_good, segments, probas, colours)\n",
    "            draw_intersecting_nash_equilibria(probas, expectations, colours)\n",
    "            draw_pure_nash_equilibria(all_good, segments, probas, colours)\n",
    "            \n",
    "draw_all_no_regret_graphs();"
   ]
  },
  {
   "cell_type": "markdown",
   "metadata": {},
   "source": [
    "The program `nash_equilibrium_calculator.py` creates a widget that expects the 4 pairs of payoffs, $(a_1,b_1)$, $(a_2,b_2)$, $(a_3,b_3)$ and $(a_4,b_4)$ to be entered in this form, all numbers being integers, with possibly spaces on either side of the parentheses and commas. To check input validity and extract the data, we take advantage of the syntax of regular expressions and make use of the `re` module and its `search()` function. This function tries and find a match between a pattern string and part of a data string, the pattern and the string being provided as first and second arguments, respectively. When the first argument can match many parts of the second argument, `search()` looks for the longest leftmost part. A character matches itself, while a dot matches any character:"
   ]
  },
  {
   "cell_type": "code",
   "execution_count": null,
   "metadata": {
    "run_control": {
     "marked": false
    }
   },
   "outputs": [],
   "source": [
    "re.search('cde', 'abcdef')\n",
    "re.search('...', 'abcdef')\n",
    "re.search('.c.', 'abcdef')"
   ]
  },
  {
   "cell_type": "markdown",
   "metadata": {},
   "source": [
    "`\\d` matches any digit, while `\\D` matches any nondigit:"
   ]
  },
  {
   "cell_type": "code",
   "execution_count": null,
   "metadata": {
    "run_control": {
     "marked": false
    }
   },
   "outputs": [],
   "source": [
    "re.search('\\d\\d', '_ab123')\n",
    "re.search('\\D\\D', '_ab123')"
   ]
  },
  {
   "cell_type": "markdown",
   "metadata": {},
   "source": [
    "`\\s` matches any space, while `\\S` matches any nonspace character:"
   ]
  },
  {
   "cell_type": "code",
   "execution_count": null,
   "metadata": {
    "run_control": {
     "marked": false
    }
   },
   "outputs": [],
   "source": [
    "re.search('\\s\\s\\s', ' a1? \\t\\n!')\n",
    "re.search('\\S\\S\\S', ' a1? \\t\\n!')"
   ]
  },
  {
   "cell_type": "markdown",
   "metadata": {},
   "source": [
    "`\\w` matches any character that can be part of a word (Python identifier), that is, a letter, the underscore or a digit, while `\\W` matches any other character:"
   ]
  },
  {
   "cell_type": "code",
   "execution_count": null,
   "metadata": {
    "run_control": {
     "marked": false
    }
   },
   "outputs": [],
   "source": [
    "re.search('\\w\\w\\w', ' |+a_2| ')\n",
    "re.search('\\W\\W\\W', ' |+a_2| ')"
   ]
  },
  {
   "cell_type": "markdown",
   "metadata": {},
   "source": [
    "A question mark requests an optional occurrence of the pattern it applies to, which can be parenthesised to delimit its scope:"
   ]
  },
  {
   "cell_type": "code",
   "execution_count": null,
   "metadata": {
    "run_control": {
     "marked": false
    }
   },
   "outputs": [],
   "source": [
    "re.search('\\d\\s?\\d', 'a12b')\n",
    "re.search('\\d\\s?\\d', 'a1 2b')\n",
    "re.search('\\s(\\d\\d)?\\s', 'a 12 b')\n",
    "re.search('\\s(\\d\\d)?\\s', 'a  b')"
   ]
  },
  {
   "cell_type": "markdown",
   "metadata": {},
   "source": [
    "A star requests an arbitrary (possibly empty) repetition of the pattern it applies to, which can be parenthesised to delimit its scope:"
   ]
  },
  {
   "cell_type": "code",
   "execution_count": null,
   "metadata": {
    "run_control": {
     "marked": false
    }
   },
   "outputs": [],
   "source": [
    "# The empty initial sequence is the longest leftmost substring of 'a123456b'\n",
    "# consisting of digits\n",
    "re.search('\\d*', 'a123456b')\n",
    "re.search('\\d\\d\\d*', 'a123456b')\n",
    "re.search('\\d(\\d\\d)*', 'a123456b')"
   ]
  },
  {
   "cell_type": "markdown",
   "metadata": {},
   "source": [
    "A plus requests an arbitrary nonempty repetition of the pattern it applies to, which can be parenthesised to delimit its scope:"
   ]
  },
  {
   "cell_type": "code",
   "execution_count": null,
   "metadata": {
    "run_control": {
     "marked": false
    }
   },
   "outputs": [],
   "source": [
    "re.search('.\\d+', 'a123456b')\n",
    "re.search('(.\\d)+', 'a123456b')"
   ]
  },
  {
   "cell_type": "markdown",
   "metadata": {},
   "source": [
    "Square brackets define character classes, surrounding the characters accepted for the match. In this context, any character with a special meaning (dot, question mark, star, plus, parenthesis...) loses its special meaning and is treated as a literal characters; to lose its special meaning outside a character class, such a character can be escaped:"
   ]
  },
  {
   "cell_type": "code",
   "execution_count": null,
   "metadata": {
    "run_control": {
     "marked": false
    }
   },
   "outputs": [],
   "source": [
    "re.search('[.]', 'abcabc.123456.defdef')\n",
    "re.search('[cba]+', 'abcabc.123456.defdef')\n",
    "re.search('.[\\d]*', 'abcabc.123456.defdef')\n",
    "re.search('\\.[\\d]*', 'abcabc.123456.defdef')\n",
    "re.search('[.\\d]+', 'abcabc.123456.defdef')"
   ]
  },
  {
   "cell_type": "markdown",
   "metadata": {},
   "source": [
    "Ranges of letters or digits can be provided within square brackets, letting a hyphen separate the first and last characters in the range. A hyphen placed after the opening square bracket or before the closing square bracket is interpreted as a literal character:"
   ]
  },
  {
   "cell_type": "code",
   "execution_count": null,
   "metadata": {
    "run_control": {
     "marked": false
    }
   },
   "outputs": [],
   "source": [
    "re.search('[e-h]+', 'ahgfea')\n",
    "re.search('[B-D]+', 'ABCBDA')\n",
    "re.search('[4-7]+', '154465571')\n",
    "re.search('[-e-gb]+', 'a--bg--fbe--z')\n",
    "re.search('[73-5-]+', '14-34-576')"
   ]
  },
  {
   "cell_type": "markdown",
   "metadata": {},
   "source": [
    "Within a square bracket, a caret after placed after the opening square bracket excludes the characters that follow within the brackets:"
   ]
  },
  {
   "cell_type": "code",
   "execution_count": null,
   "metadata": {
    "run_control": {
     "marked": false
    }
   },
   "outputs": [],
   "source": [
    "re.search('[^4-60]+', '0172853')\n",
    "re.search('[^-u-w]+', '-stv')"
   ]
  },
  {
   "cell_type": "markdown",
   "metadata": {},
   "source": [
    "A caret at the beginning of the pattern string matches the beginning of the data string; a dollar at the end of the pattern string matches the end of the data string:"
   ]
  },
  {
   "cell_type": "code",
   "execution_count": null,
   "metadata": {
    "run_control": {
     "marked": false
    }
   },
   "outputs": [],
   "source": [
    "re.search('\\d*', 'abc')\n",
    "re.search('^\\d*', 'abc')\n",
    "re.search('\\d*$', 'abc')\n",
    "# re.search('^\\d*$', 'abc') returns no match\n",
    "re.search('^\\s*\\d*\\s*$', ' 345 ')"
   ]
  },
  {
   "cell_type": "markdown",
   "metadata": {},
   "source": [
    "Escaping a dollar at the end of the pattern string, escaping a caret at the beginning of the pattern string or after the opening square bracket of a character class, makes dollar and caret lose the special meaning they have in those contexts context and let them be treated as literal characters:"
   ]
  },
  {
   "cell_type": "code",
   "execution_count": null,
   "metadata": {
    "run_control": {
     "marked": false
    }
   },
   "outputs": [],
   "source": [
    "re.search('\\$', '$*')\n",
    "re.search('\\^', '*^')\n",
    "re.search('[\\^]', '^*')\n",
    "re.search('[^^]', '^*')"
   ]
  },
  {
   "cell_type": "markdown",
   "metadata": {},
   "source": [
    "Whereas square brackets surround alternative characters, a vertical bar separates alternative patterns:"
   ]
  },
  {
   "cell_type": "code",
   "execution_count": null,
   "metadata": {
    "run_control": {
     "marked": false
    }
   },
   "outputs": [],
   "source": [
    "re.search('two|three|four', 'one three two')\n",
    "re.search('|two|three|four', 'one three two')\n",
    "re.search('[1-3]+|[4-6]+', '01234567')\n",
    "re.search('([1-3]|[4-6])+', '01234567')\n",
    "re.search('_\\d+|[a-z]+_', '_abc_def_234_')\n",
    "re.search('_(\\d+|[a-z]+)_', '_abc_def_234_')"
   ]
  },
  {
   "cell_type": "markdown",
   "metadata": {},
   "source": [
    "Parentheses allow matched parts to be saved. The object returned by `re.search()` has a `group()` method that without argument, returns the whole match and with arguments, returns partial matches; it also has a `groups()` method that returns all partial matches:"
   ]
  },
  {
   "cell_type": "code",
   "execution_count": null,
   "metadata": {
    "run_control": {
     "marked": false
    }
   },
   "outputs": [],
   "source": [
    "R = re.search('((\\d+) ((\\d+) \\d+)) (\\d+ (\\d+))', '  1 23 456 78 9 0 ')\n",
    "\n",
    "R\n",
    "R.group()\n",
    "R.groups()\n",
    "[R.group(i) for i in range(len(R.groups()) + 1)]"
   ]
  },
  {
   "cell_type": "markdown",
   "metadata": {},
   "source": [
    "Pairs of parentheses can therefore play two roles:\n",
    "\n",
    "* surround patterns to which question marks, stars or pluses can be applied to;\n",
    "* delimit the patterns to capture and save.\n",
    "\n",
    "To let a pair of parentheses play the first role only, let `?:` follow the opening parenthesis:"
   ]
  },
  {
   "cell_type": "code",
   "execution_count": null,
   "metadata": {
    "run_control": {
     "marked": false
    }
   },
   "outputs": [],
   "source": [
    "# Separated by any sequence of characters, two strings of the form an\n",
    "# optional + or -, followed by\n",
    "# - either 0\n",
    "# - or a nonzero digit followed with a (possibly empty) sequence of\n",
    "#   digits\n",
    "R = re.search('([+-]?(?:0|[1-9]\\d*)).*([+-]?(?:0|[1-9]\\d*))',\n",
    "              ' a = -3014, b = 0 '\n",
    "             )\n",
    "\n",
    "R\n",
    "R.groups()"
   ]
  },
  {
   "cell_type": "markdown",
   "metadata": {},
   "source": [
    "The following function checks that its argument is a string:\n",
    "\n",
    "0. that from the beginning: `^`\n",
    "1. consists of possibly some spaces: `␣*`\n",
    "2. followed by an opening parenthesis: <code>\\\\&#40;</code>\n",
    "3. possibly followed by spaces: `␣*`\n",
    "4. possibly followed by either + or -: `[+-]?`\n",
    "5. followed by either 0, or a nonzero digit followed by any sequence of digits: `0|[1-9]\\d*`\n",
    "6. possibly followed by spaces: `␣*`\n",
    "7. followed by a comma: `,`\n",
    "8. followed by characters matching the pattern described by 1-7\n",
    "9. followed by a closing parenthesis: <code>\\\\&#41;</code>\n",
    "10. possibly followed by some spaces: `␣*`\n",
    "11. all the way to the end: `$`\n",
    "\n",
    "Pairs of parentheses surround both numbers to match to capture them. For point 5, a surrounding pair of parentheses is needed; `?:` makes it non-capturing:"
   ]
  },
  {
   "cell_type": "code",
   "execution_count": null,
   "metadata": {
    "run_control": {
     "marked": false
    }
   },
   "outputs": [],
   "source": [
    "def validate_and_extract_payoffs(provided_input):\n",
    "    pattern = '^ *\\( *([+-]?(?:0|[1-9]\\d*)) *, *([+-]?(?:0|[1-9]\\d*)) *\\) *$'\n",
    "    match = re.search(pattern, provided_input)\n",
    "    if match:\n",
    "        return (match.groups())\n",
    "    \n",
    "validate_and_extract_payoffs('(+0, -7 )')\n",
    "validate_and_extract_payoffs('  (-3014,0)  ')"
   ]
  }
 ],
 "metadata": {
  "kernelspec": {
   "display_name": "Python 3",
   "language": "python",
   "name": "python3"
  },
  "language_info": {
   "codemirror_mode": {
    "name": "ipython",
    "version": 3
   },
   "file_extension": ".py",
   "mimetype": "text/x-python",
   "name": "python",
   "nbconvert_exporter": "python",
   "pygments_lexer": "ipython3",
   "version": "3.9.2"
  },
  "latex_envs": {
   "LaTeX_envs_menu_present": true,
   "autoclose": false,
   "autocomplete": true,
   "bibliofile": "biblio.bib",
   "cite_by": "apalike",
   "current_citInitial": 1,
   "eqLabelWithNumbers": true,
   "eqNumInitial": 1,
   "hotkeys": {
    "equation": "Ctrl-E",
    "itemize": "Ctrl-I"
   },
   "labels_anchors": false,
   "latex_user_defs": false,
   "report_style_numbering": false,
   "user_envs_cfg": false
  },
  "toc": {
   "base_numbering": 1,
   "nav_menu": {},
   "number_sections": true,
   "sideBar": true,
   "skip_h1_title": false,
   "title_cell": "Table of Contents",
   "title_sidebar": "Contents",
   "toc_cell": false,
   "toc_position": {},
   "toc_section_display": true,
   "toc_window_display": false
  }
 },
 "nbformat": 4,
 "nbformat_minor": 2
}
