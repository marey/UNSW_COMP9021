{
 "cells": [
  {
   "cell_type": "code",
   "execution_count": null,
   "metadata": {},
   "outputs": [],
   "source": [
    "# Does not need to be executed if\n",
    "# ~/.ipython/profile_default/ipython_config.py\n",
    "# exists and contains:\n",
    "# get_config().InteractiveShell.ast_node_interactivity = 'all'\n",
    "\n",
    "from IPython.core.interactiveshell import InteractiveShell\n",
    "InteractiveShell.ast_node_interactivity = 'all'"
   ]
  },
  {
   "cell_type": "markdown",
   "metadata": {},
   "source": [
    "Let $n$ be an integer at least equal to 1. A total of $n$ disks all of different sizes, stacked at position 0, have to be moved to position 2, with position 1 available, thanks to a succession of moves each of which consists of removing the disk at the top of a stack and bringing it to the top of another (possibly empty) stack. At any stage of the game, no disk should be above a smaller disk; in particular, at the beginning of the game, all disks are stacked from largest to smallest.\n",
    "\n",
    "It is necessary to eventually move the largest disk from position 0 to position 2. That is possible only when the $n-1$ smaller disks have been moved away from position 0 and stacked at position 1. Then, with the largest disk having found its final position at the base of position 2, those disks have to be moved away from position 1 and stacked at position 2. This is illustrated as follows for $n=4$.\n",
    "\n",
    "Initial configuration:\n",
    "\n",
    "![](stage_1.pdf)\n",
    "\n",
    "After the $n-1$ smaller disks have been moved from position 0 to position 1:\n",
    "\n",
    "![](stage_2.pdf)\n",
    "\n",
    "Largest disk moved from position 0 to position 2:\n",
    "\n",
    "![](stage_3.pdf)\n",
    "\n",
    "Final configuration, after the $n-1$ smaller disks have been moved from position 1 to position 2:\n",
    "\n",
    "![](stage_4.pdf)\n",
    "\n",
    "The recursive implementation immediately follows from that observation:"
   ]
  },
  {
   "cell_type": "code",
   "execution_count": null,
   "metadata": {},
   "outputs": [],
   "source": [
    "def recursive_towers(n, start_pos, end_pos, extra_pos):\n",
    "    if n == 1:\n",
    "        print('Move smallest disk from position', start_pos, 'to position',\n",
    "              end_pos\n",
    "             )\n",
    "    else:\n",
    "        recursive_towers(n - 1, start_pos, extra_pos, end_pos)\n",
    "        print('Move disk of size', n, 'from position', start_pos,\n",
    "              'to position', end_pos\n",
    "             )\n",
    "        recursive_towers(n - 1, extra_pos, end_pos, start_pos)\n",
    "\n",
    "recursive_towers(4, 0, 2, 1)"
   ]
  },
  {
   "cell_type": "markdown",
   "metadata": {},
   "source": [
    "Also, that observation establishes that the output of the recursive implementation is not only a solution; it is in fact the only possible solution for that optimal number of moves, equal to $2^n-1$, as shown by induction on $n$:\n",
    "\n",
    "* If $n=1$, then $2^n-1=1$, and 1 move is necessary and sufficient indeed.\n",
    "* If $2^n-1$ moves are necessary and sufficient to move $n$ disks, then $(2^n-1)\\times 2 + 1= 2^{n+1}-1$ moves are necessary and sufficient indeed to move $n+1$ disks.\n",
    "\n",
    "Moving the smaller $n-1$ disks, then moving the largest disk, then moving the $n-1$ smaller disks again to move the $n$ disks, done recursively, shows that the Hanoi of towers puzzle is equivalent to that of putting ticks of $n$ different sizes on a ruler, as illustrated next for $n=4$:\n",
    "\n",
    "![](ruler.pdf)\n",
    "\n",
    "This shows that every second move involves moving the smallest disk; the other moves are clearly imposed. So to convert the recursive implementation into an iterative implementation, it suffices to determine where to move the smallest disk every time it has to be moved.\n",
    "\n",
    "Place the three positions, 0, 1 and 2, on a ring.\n",
    "\n",
    "![](cycle.pdf)\n",
    "\n",
    "* Moving the $n$ disks from position 0 to position 2 can be visualised as moving on the ring counterclockwise.\n",
    "* Moving the $n-1$ disks from position 0 to position 1 can be visualised as moving on the ring clockwise.\n",
    "* Moving the $n-1$ disks from position 1 to position 2 can be visualised as moving on the ring clockwise.\n",
    "\n",
    "It follows that:\n",
    "\n",
    "* the stack of $n$ disks have to be moved from where they are to the next position counterclockwise, which if $n>1$ involves\n",
    "* twice moving the stack of the $n-1$ smaller disks from where they are to the next position clockwise, which if $n>2$ involves\n",
    "* four times moving the stack of the $n-2$ smaller disks from where they are to the next position counterclockwise, which if $n>3$ involves\n",
    "* eight times moving the stack of the $n-3$ smaller disks from where they are to the next position clockwise\n",
    "* ...\n",
    "\n",
    "Hence:\n",
    "\n",
    "* if $n$ is even then the smallest disk always has to be moved to the next position clockwise, that is, from 0 to 1, from 1 to 2, and from 2 to 0;\n",
    "* if $n$ is odd then the smallest disk always has to be moved to the next position counterclockwise, that is, from 0 to 2, from 2 to 1, and from 1 to 0.\n",
    "\n",
    "Note that the expression `1 - n % 2 * 2` evalues to 1 if `n` is even, and to -1 if `n` is odd:"
   ]
  },
  {
   "cell_type": "code",
   "execution_count": null,
   "metadata": {},
   "outputs": [],
   "source": [
    "n = 2; 1 - n % 2 * 2\n",
    "n = 3; 1 - n % 2 * 2"
   ]
  },
  {
   "cell_type": "markdown",
   "metadata": {},
   "source": [
    "So `1 - n % 2 * 2` just needs to be added to the currrent position of the smallest disk to, modulo 3, give the next position of the smallest disk.\n",
    "\n",
    "We can use a tuple of 3 lists, `stacks`, to represent the stacks of disks at position 0, 1 and 2, respectively. We can use the integers between 1 and $n$ to denote the $n$ disks, from smallest to largest. To start with, all disks are on the first stack, stacked up from largest to smallest:"
   ]
  },
  {
   "cell_type": "code",
   "execution_count": null,
   "metadata": {},
   "outputs": [],
   "source": [
    "n = 4\n",
    "stacks = list(range(n, 0, -1)), [], []\n",
    "\n",
    "stacks"
   ]
  },
  {
   "cell_type": "markdown",
   "metadata": {},
   "source": [
    "The smallest disk is at position 0. With $n$ set to 4, it will have to move clockwise, so to position 1. A combination of `pop()` and `append()` realises the move:"
   ]
  },
  {
   "cell_type": "code",
   "execution_count": null,
   "metadata": {},
   "outputs": [],
   "source": [
    "small_disk_pos = 0\n",
    "direction = 1 - n % 2 * 2\n",
    "new_small_disk_pos = (small_disk_pos + direction) % 3\n",
    "\n",
    "print('Move smallest disk to position', new_small_disk_pos)\n",
    "stacks[new_small_disk_pos].append(stacks[small_disk_pos].pop())\n",
    "\n",
    "stacks"
   ]
  },
  {
   "cell_type": "markdown",
   "metadata": {},
   "source": [
    "When not moving the smallest disk, one has to work with the two positions different to the new position of the smallest disk:"
   ]
  },
  {
   "cell_type": "code",
   "execution_count": null,
   "metadata": {},
   "outputs": [],
   "source": [
    "small_disk_pos = new_small_disk_pos\n",
    "\n",
    "small_disk_pos\n",
    "(small_disk_pos + 1) % 3\n",
    "(small_disk_pos + 2) % 3"
   ]
  },
  {
   "cell_type": "markdown",
   "metadata": {},
   "source": [
    "If there is an empty stack at one of these positions, then that position should be the destination position for the next move. Otherwise, if the stacks at both positions are not empty, then the position whose stack has the largest disk at the top should be the destination position. So to determine the destination position, one can sort both positions using a key which can be $n+1$ for a position where the stack is empty, and for a position where the stack $S$ is not empty, the integer between 1 and n that represents the size of the disk at the top of $S$; that way, the position sorted second (and last) is guaranteed to be the destination position. The second move is again realised by a combination of `pop()` and `append()`:"
   ]
  },
  {
   "cell_type": "code",
   "execution_count": null,
   "metadata": {},
   "outputs": [],
   "source": [
    "stacks\n",
    "\n",
    "from_pos, to_pos = sorted(((small_disk_pos + 1) % 3, (small_disk_pos + 2) % 3),\n",
    "                          key=lambda x: not stacks[x] and n + 1\n",
    "                                        or stacks[x][-1]\n",
    "                         )\n",
    "print('Move disk from position', from_pos, 'to position', to_pos)\n",
    "stacks[to_pos].append(stacks[from_pos].pop())\n",
    "\n",
    "stacks"
   ]
  },
  {
   "cell_type": "markdown",
   "metadata": {},
   "source": [
    "It suffices to perform those operations again and again. Illustrating doing them twice again:"
   ]
  },
  {
   "cell_type": "code",
   "execution_count": null,
   "metadata": {},
   "outputs": [],
   "source": [
    "stacks\n",
    "\n",
    "new_small_disk_pos = (small_disk_pos + direction) % 3\n",
    "print('Move smallest disk to position', new_small_disk_pos)\n",
    "stacks[new_small_disk_pos].append(stacks[small_disk_pos].pop())\n",
    "\n",
    "stacks\n",
    "\n",
    "small_disk_pos = new_small_disk_pos\n",
    "from_pos, to_pos = sorted(((small_disk_pos + 1) % 3, (small_disk_pos + 2) % 3),\n",
    "                          key=lambda x: not stacks[x] and n + 1\n",
    "                                        or stacks[x][-1]\n",
    "                         )\n",
    "print('Move disk from position', from_pos, 'to position', to_pos)\n",
    "stacks[to_pos].append(stacks[from_pos].pop())\n",
    "\n",
    "stacks"
   ]
  },
  {
   "cell_type": "code",
   "execution_count": null,
   "metadata": {},
   "outputs": [],
   "source": [
    "stacks\n",
    "\n",
    "new_small_disk_pos = (small_disk_pos + direction) % 3\n",
    "print('Move smallest disk to position', new_small_disk_pos)\n",
    "stacks[new_small_disk_pos].append(stacks[small_disk_pos].pop())\n",
    "\n",
    "stacks\n",
    "\n",
    "small_disk_pos = new_small_disk_pos\n",
    "from_pos, to_pos = sorted(((small_disk_pos + 1) % 3, (small_disk_pos + 2) % 3),\n",
    "                          key=lambda x: not stacks[x] and n + 1\n",
    "                                        or stacks[x][-1]\n",
    "                         )\n",
    "print('Move disk from position', from_pos, 'to position', to_pos)\n",
    "stacks[to_pos].append(stacks[from_pos].pop())\n",
    "\n",
    "stacks"
   ]
  },
  {
   "cell_type": "markdown",
   "metadata": {},
   "source": [
    "Putting it all together:"
   ]
  },
  {
   "cell_type": "code",
   "execution_count": null,
   "metadata": {},
   "outputs": [],
   "source": [
    "def iterative_towers(n, start_pos, end_pos, extra_pos):\n",
    "    small_disk_pos = 0\n",
    "    direction = 1 - n % 2 * 2\n",
    "    stacks = list(range(n, 0, -1)), [], []\n",
    "    for i in range(2 ** n - 1):\n",
    "        if i % 2 == 0:\n",
    "            new_small_disk_pos = (small_disk_pos + direction) % 3\n",
    "            print('Move smallest disk from position', small_disk_pos,\n",
    "                  'to position', new_small_disk_pos\n",
    "                 )\n",
    "            stacks[new_small_disk_pos].append(stacks[small_disk_pos].pop())\n",
    "            small_disk_pos = new_small_disk_pos\n",
    "        else:\n",
    "            from_pos, to_pos = sorted(((small_disk_pos + 1) % 3,\n",
    "                                       (small_disk_pos + 2) % 3\n",
    "                                      ), key=lambda x: not stacks[x] and n + 1\n",
    "                                                       or stacks[x][-1]\n",
    "                                     )\n",
    "            stacks[to_pos].append(stacks[from_pos].pop())\n",
    "            print('Move disk of size', stacks[to_pos][-1], 'from position',\n",
    "                  from_pos, 'to position', to_pos\n",
    "                 )\n",
    "\n",
    "iterative_towers(4, 0, 2, 1)"
   ]
  },
  {
   "cell_type": "markdown",
   "metadata": {},
   "source": [
    "Rather than displaying instructions on which disk to move from where to where, let us display the successive states of the three stacks starting with the initial configuration of the game, ending with the final configuration of the game, representing a disk of size $n$ as $2n-1$ successive hyphens. For this purpose, we could immediately adapt `iterative_towers()`, but let us rather adapt `recursive_towers()` to a similar function, `recursive_towers_variant()`, replacing the `print()` statements in `recursive_towers()` with calls to a function `display_move()`, which itself will call a function `display_towers()`. The function `display_move()` can know from `recursive_towers_variant()` from which stack the disk at the top should be popped, and to (the top of) which stack that disk should be moved at this stage of the game. Once the pop and move operations have been performed, `display_towers()` can display the three stacks. Working with 3 stacks, moving a disk from the top of one stack to the top of another stack, is what `iterative_towers()` implements, and we can borrow from that implementation. To let the stacks \"survive\" between successive calls to the functions, we could use global variables, but we can also make use of function parameters with lists as default values. The values of the default parameters can be manipuled thanks to the function's `__defaults__` attribute:"
   ]
  },
  {
   "cell_type": "code",
   "execution_count": null,
   "metadata": {},
   "outputs": [],
   "source": [
    "def f(arg_1, arg_2, arg_3=[], arg_4=set(), arg_5={}):\n",
    "    pass\n",
    "\n",
    "f.__defaults__\n",
    "\n",
    "f.__defaults__[0].extend((10, 11, 12))\n",
    "f.__defaults__[1].add(20)\n",
    "f.__defaults__[2][0] = 'A'\n",
    "f.__defaults__\n",
    "\n",
    "for default in f.__defaults__:\n",
    "    default.clear()\n",
    "f.__defaults__"
   ]
  },
  {
   "cell_type": "markdown",
   "metadata": {},
   "source": [
    "If we let `display_towers()` have parameters with default values that represent the three stacks, so `display_towers()` can keep track of the various states of the stacks as the game is being played, then we can let `display_move()` perform the pop and move operations on `display_towers()`'s parameters. The functions `recursive_towers_variant()`, `display_move()` and `display_towers()` can then be implemented as follows; they all take an extra argument, `w`, meant to denote the width of the largest disk, so that `display_towers()` knows how to center the disks that make up the stacks:"
   ]
  },
  {
   "cell_type": "code",
   "execution_count": null,
   "metadata": {},
   "outputs": [],
   "source": [
    "def recursive_towers_variant(n, start_pos, end_pos, extra_pos, w):\n",
    "    if n == 1:\n",
    "        display_move(start_pos, end_pos, w)\n",
    "    else:\n",
    "        recursive_towers_variant(n - 1, start_pos, extra_pos, end_pos, w)\n",
    "        display_move(start_pos, end_pos, w)\n",
    "        recursive_towers_variant(n - 1, extra_pos, end_pos, start_pos, w)"
   ]
  },
  {
   "cell_type": "code",
   "execution_count": null,
   "metadata": {},
   "outputs": [],
   "source": [
    "def display_move(start_pos, end_pos, w):\n",
    "    display_towers.__defaults__[end_pos].append(\n",
    "                                   display_towers.__defaults__[start_pos].pop()\n",
    "                                               )\n",
    "    display_towers(w)"
   ]
  },
  {
   "cell_type": "code",
   "execution_count": null,
   "metadata": {},
   "outputs": [],
   "source": [
    "def display_towers(w, stack_1=[], stack_2=[], stack_3=[]):\n",
    "    stacks = stack_1, stack_2, stack_3\n",
    "    print()\n",
    "    for i in range(max(len(stack) for stack in stacks) - 1, -1, -1):\n",
    "        print('  '.join(\n",
    "                f'{i < len(stack) and \"-\" * (stack[i] * 2 - 1) or \"\":^{w}}'\n",
    "                            for stack in stacks\n",
    "                       )\n",
    "             )\n",
    "    print()"
   ]
  },
  {
   "cell_type": "markdown",
   "metadata": {},
   "source": [
    "Finally, we define a function, `recursive_towers_display_solution()`, meant to take as argument the number of disks, that sets `display_towers()`'s three default arguments to what they should be before the game starts (the preliminary calls to `clear()` are necessary if the function is summoned more than once), displays the initial configuration of the game, and calls `recursive_towers_variant()` to play the game and display each new configuration all the way to the end of the game:"
   ]
  },
  {
   "cell_type": "code",
   "execution_count": null,
   "metadata": {},
   "outputs": [],
   "source": [
    "def recursive_towers_display_solution(n):\n",
    "    for stack in display_towers.__defaults__:\n",
    "        stack.clear()\n",
    "    display_towers.__defaults__[0].extend(range(n, 0, -1))\n",
    "    w = 2 * n - 1\n",
    "    display_towers(w)\n",
    "    recursive_towers_variant(n, 0, 2, 1, w)"
   ]
  },
  {
   "cell_type": "code",
   "execution_count": null,
   "metadata": {},
   "outputs": [],
   "source": [
    "recursive_towers_display_solution(4)"
   ]
  }
 ],
 "metadata": {
  "kernelspec": {
   "display_name": "Python 3 (ipykernel)",
   "language": "python",
   "name": "python3"
  },
  "language_info": {
   "codemirror_mode": {
    "name": "ipython",
    "version": 3
   },
   "file_extension": ".py",
   "mimetype": "text/x-python",
   "name": "python",
   "nbconvert_exporter": "python",
   "pygments_lexer": "ipython3",
   "version": "3.9.7"
  },
  "latex_envs": {
   "LaTeX_envs_menu_present": true,
   "autoclose": false,
   "autocomplete": true,
   "bibliofile": "biblio.bib",
   "cite_by": "apalike",
   "current_citInitial": 1,
   "eqLabelWithNumbers": true,
   "eqNumInitial": 1,
   "hotkeys": {
    "equation": "Ctrl-E",
    "itemize": "Ctrl-I"
   },
   "labels_anchors": false,
   "latex_user_defs": false,
   "report_style_numbering": false,
   "user_envs_cfg": false
  },
  "toc": {
   "base_numbering": 1,
   "nav_menu": {},
   "number_sections": true,
   "sideBar": true,
   "skip_h1_title": false,
   "title_cell": "Table of Contents",
   "title_sidebar": "Contents",
   "toc_cell": false,
   "toc_position": {},
   "toc_section_display": true,
   "toc_window_display": false
  }
 },
 "nbformat": 4,
 "nbformat_minor": 4
}
