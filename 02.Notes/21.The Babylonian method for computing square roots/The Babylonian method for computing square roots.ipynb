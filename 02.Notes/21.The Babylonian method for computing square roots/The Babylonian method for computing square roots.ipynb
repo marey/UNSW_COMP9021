{
 "cells": [
  {
   "cell_type": "code",
   "execution_count": null,
   "metadata": {},
   "outputs": [],
   "source": [
    "# Does not need to be executed if\n",
    "# ~/.ipython/profile_default/ipython_config.py\n",
    "# exists and contains:\n",
    "# c.InteractiveShell.ast_node_interactivity = 'all'\n",
    "\n",
    "from IPython.core.interactiveshell import InteractiveShell\n",
    "InteractiveShell.ast_node_interactivity = 'all'"
   ]
  },
  {
   "cell_type": "markdown",
   "metadata": {},
   "source": [
    "Let $a$ and $x$ be strictly positive real numbers. Let $(x_n)_{n\\in\\mathbb N}$ be the sequence defined as:\n",
    "\n",
    "* $x_0 = x$;\n",
    "* for all $n\\in\\mathbb N$, $x_{n+1} = \\frac{1}{2}(x_n+\\frac{a}{x_n})$.\n",
    "\n",
    "If $x_n=\\sqrt{a}$ for some $n\\in\\mathbb N$, then clearly $x_m=\\sqrt{a}$ for all $m\\geq n$. Note that given $n\\in\\mathbb N$, if $x_n<\\sqrt{a}$ then $\\frac{a}{x_n}>\\sqrt{a}$, and if $x_n>\\sqrt{a}$ then $\\frac{a}{x_n}<\\sqrt{a}$, so $x_{n+1}$ is the average of a number that is smaller with $\\sqrt{a}$ with a number that is greater than $\\sqrt{a}$. Actually, $(x_n)_{n\\in\\mathbb N}$ quadratically converges to $\\sqrt{a}$, as we now show. For all $n\\in\\mathbb N$, set $\\varepsilon_n=\\frac{x_n}{\\sqrt{a}}-1$. It suffices to show that:\n",
    "\n",
    "1. $(\\varepsilon_n)_{n\\in\\mathbb N}$ converges to 0, and\n",
    "2. when $n$ is large enough, $\\varepsilon_{n+1}<\\varepsilon_n^2$.\n",
    "\n",
    "It is trivially verified by induction that $x_n>0$ for all $n\\in\\mathbb N$, hence $\\varepsilon_n>-1$ for all $n\\in\\mathbb N$. Let $n\\in\\mathbb N$ be given. Then $\\varepsilon_{n+1}=\\frac{x_n+\\frac{a}{x_n}}{2\\sqrt{a}}-1=\\frac{x_n^2+a-2\\sqrt{a}x_n}{2\\sqrt{a}x_n}$. Also, $\\varepsilon_n^2=(\\frac{x_n-\\sqrt{a}}{\\sqrt{a}})^2=\\frac{x_n^2-2x_n\\sqrt{a}+a}{a}$ and $\\sqrt{a}=\\frac{x_n}{1+\\varepsilon_n}$. Hence $\\varepsilon_{n+1}=\\frac{\\varepsilon_n^2\\sqrt{a}}{2x_n}=\\frac{\\epsilon_n^2}{2(1+\\varepsilon_n)}$; in particular, $\\varepsilon_{n+1}\\geq 0$. It follows that for all $n>0$:\n",
    "\n",
    "* $\\varepsilon_{n+1}\\leq\\frac{\\epsilon_n^2}{2(1+0)}=\\frac{\\epsilon_n^2}{2}$\n",
    "* $\\varepsilon_{n+1}\\leq\\frac{\\epsilon_n^2}{2(\\epsilon_n)}=\\frac{\\epsilon_n}{2}$\n",
    "\n",
    "that is, $\\varepsilon_{n+1}\\leq\\min(\\frac{\\epsilon_n^2}{2},\\frac{\\epsilon_n}{2})$, from which 1 and 2 follow immediately.\n",
    "\n",
    "The following generator function allows one to generate on demand an initial segment of a sequence of the form $(f(x), f^2(x), f^3(x), f^4(x), \\dots)$:"
   ]
  },
  {
   "cell_type": "code",
   "execution_count": null,
   "metadata": {},
   "outputs": [],
   "source": [
    "def iterate(f, x):\n",
    "    while True:\n",
    "        next_x = f(x)\n",
    "        yield next_x\n",
    "        x = next_x"
   ]
  },
  {
   "cell_type": "markdown",
   "metadata": {},
   "source": [
    "Applied to $f:x\\mapsto x+3$ and $x=5$, `iterate()` is a generator for the sequence $(5 +3, (5+3)+3, ((5+3)+3)+3, (((5+3)+3)+3)+3, \\dots)$:"
   ]
  },
  {
   "cell_type": "code",
   "execution_count": null,
   "metadata": {},
   "outputs": [],
   "source": [
    "S = iterate(lambda x: x + 3, 5)\n",
    "next(S)\n",
    "next(S)\n",
    "next(S)\n",
    "next(S)"
   ]
  },
  {
   "cell_type": "markdown",
   "metadata": {},
   "source": [
    "Let $x_0$ be a strictly positive integer. For all $n\\in\\mathbb N$, let $x_{n+1}$ be $\\frac{n}{2}$ if $n$ is even, and $3x+1$ if $n$ is odd. The Collatz conjecture states that 1 eventually occurs in $(x_n)_{n\\in\\mathbb N}$; equivalently, $(x_n)_{n\\in\\mathbb N}$ ends in $(1,4,2,1,4,2\\dots)$. We can define the sequence with the lambda expression `lambda x: 3 * x + 1 if x % 2 else x // 2`. We can pass it as first argument to `iterate()` and from the result, define another lambda expression to just have to choose the sequence’s starting point. We illustrate by generating the first few members of the sequence for $x_0=2$, $x_0=3$, $x_0=6$, and $x_0=7$:"
   ]
  },
  {
   "cell_type": "code",
   "execution_count": null,
   "metadata": {},
   "outputs": [],
   "source": [
    "S = lambda a: iterate(lambda x: 3 * x + 1 if x % 2 else x // 2, a)\n",
    "\n",
    "S_2 = S(2)\n",
    "[next(S_2) for _ in range(10)]\n",
    "\n",
    "S_3 = S(3)\n",
    "[next(S_3) for _ in range(10)]\n",
    "\n",
    "S_6 = S(6)\n",
    "[next(S_6) for _ in range(10)]\n",
    "\n",
    "S_7 = S(7)\n",
    "[next(S_7) for _ in range(20)]"
   ]
  },
  {
   "cell_type": "markdown",
   "metadata": {},
   "source": [
    "Using the same technique, let us use `iterate()` to compute approximations of the square roots of 2 and 3, starting with initial guesses of 100 and 1,000, respectively:"
   ]
  },
  {
   "cell_type": "code",
   "execution_count": null,
   "metadata": {},
   "outputs": [],
   "source": [
    "S = lambda x: lambda a: iterate(lambda x: (x + a / x) / 2 , x)\n",
    "\n",
    "S_100_2 = S(100)(2)\n",
    "list(next(S_100_2) for _ in range(12))\n",
    "\n",
    "S_1000_3 = S(1_000)(3)\n",
    "list(next(S_1000_3) for _ in range(15))"
   ]
  },
  {
   "cell_type": "markdown",
   "metadata": {},
   "source": [
    "Finally, let us make `iterate()` an __inner function__ of a function `square_root()` meant to compute the square root of its first argument, up to a precision given by its second argument:"
   ]
  },
  {
   "cell_type": "code",
   "execution_count": null,
   "metadata": {},
   "outputs": [],
   "source": [
    "def square_root(a, ε):\n",
    "    def iterate(f, x):\n",
    "        while True:\n",
    "            next_x = f(x)\n",
    "            yield next_x\n",
    "            x = next_x\n",
    "\n",
    "    x = 1\n",
    "    approximating_sequence = iterate(lambda x: (x + a / x) / 2 , x)\n",
    "    next_x = next(approximating_sequence)\n",
    "    while abs(next_x - x) > ε:\n",
    "        next_x, x = next(approximating_sequence), next_x\n",
    "    return next_x"
   ]
  },
  {
   "cell_type": "code",
   "execution_count": null,
   "metadata": {},
   "outputs": [],
   "source": [
    "square_root(2, 0.000001)\n",
    "square_root(3, 0.000001)"
   ]
  }
 ],
 "metadata": {
  "kernelspec": {
   "display_name": "Python 3 (ipykernel)",
   "language": "python",
   "name": "python3"
  },
  "language_info": {
   "codemirror_mode": {
    "name": "ipython",
    "version": 3
   },
   "file_extension": ".py",
   "mimetype": "text/x-python",
   "name": "python",
   "nbconvert_exporter": "python",
   "pygments_lexer": "ipython3",
   "version": "3.9.7"
  },
  "latex_envs": {
   "LaTeX_envs_menu_present": true,
   "autoclose": false,
   "autocomplete": true,
   "bibliofile": "biblio.bib",
   "cite_by": "apalike",
   "current_citInitial": 1,
   "eqLabelWithNumbers": true,
   "eqNumInitial": 1,
   "hotkeys": {
    "equation": "Ctrl-E",
    "itemize": "Ctrl-I"
   },
   "labels_anchors": false,
   "latex_user_defs": false,
   "report_style_numbering": false,
   "user_envs_cfg": false
  },
  "toc": {
   "base_numbering": 1,
   "nav_menu": {},
   "number_sections": true,
   "sideBar": true,
   "skip_h1_title": false,
   "title_cell": "Table of Contents",
   "title_sidebar": "Contents",
   "toc_cell": false,
   "toc_position": {},
   "toc_section_display": true,
   "toc_window_display": false
  }
 },
 "nbformat": 4,
 "nbformat_minor": 2
}
