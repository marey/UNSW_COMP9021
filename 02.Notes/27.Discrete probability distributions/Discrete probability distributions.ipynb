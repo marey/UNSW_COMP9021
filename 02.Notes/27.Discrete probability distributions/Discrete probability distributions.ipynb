{
 "cells": [
  {
   "cell_type": "code",
   "execution_count": null,
   "metadata": {},
   "outputs": [],
   "source": [
    "# Does not need to be executed if\n",
    "# ~/.ipython/profile_default/ipython_config.py\n",
    "# exists and contains:\n",
    "# c.InteractiveShell.ast_node_interactivity = 'all'\n",
    "\n",
    "from IPython.core.interactiveshell import InteractiveShell\n",
    "InteractiveShell.ast_node_interactivity = 'all'"
   ]
  },
  {
   "cell_type": "code",
   "execution_count": null,
   "metadata": {
    "init_cell": true
   },
   "outputs": [],
   "source": [
    "from collections.abc import Set\n",
    "from fractions import Fraction"
   ]
  },
  {
   "cell_type": "markdown",
   "metadata": {},
   "source": [
    "A _finite probability distribution_ is a mapping $\\mu$ from a finite set $S$ to the set of nonnegative real numbers with $\\Sigma_{e\\in S}\\mu(e)=1$. An _event_ is a subset of $S$, and its probability is defined as $\\Sigma_{e\\in E}\\mu(e)$.\n",
    "\n",
    "Let us restrict ourselves to finite probability distributions that assign rational numbers to all members of its domain.  We can then accurately compute the probability of an event thanks to the `Fraction` class of the `fractions` module. This class allows for the creation of `fraction` objects from a variety of arguments, which the usual arithmetic operators can be applied to:"
   ]
  },
  {
   "cell_type": "code",
   "execution_count": null,
   "metadata": {},
   "outputs": [],
   "source": [
    "Fraction(2, 6), Fraction('6/10'), Fraction('1.234')\n",
    "Fraction(Fraction(3, 2), Fraction(5, 4))\n",
    "Fraction(1, 3) + Fraction(1, 4)\n",
    "Fraction(4, 4) - Fraction(2, 5)\n",
    "Fraction(1, 2) * Fraction(3, 4)\n",
    "Fraction(-3, 7) / Fraction(7, 3)\n",
    "Fraction(1, 2) ** 4"
   ]
  },
  {
   "cell_type": "markdown",
   "metadata": {},
   "source": [
    "Let us cater for the creation of probability distributions either from a nonempty finite set $S$, in which case the distribution will be _uniform_, assigning 1 over the number of elements in $S$ to each member of $S$, or from a dictionary whose keys are the members of $S$ and whose values are the associated probabilities, required to all be `Fraction` objects that add up to 1. If those conditions are not met, it is natural to raise an exception. We create a new type of Exception specifically designed for that purpose:"
   ]
  },
  {
   "cell_type": "code",
   "execution_count": null,
   "metadata": {},
   "outputs": [],
   "source": [
    "class FiniteProbabilityDistributionError(Exception):\n",
    "    pass"
   ]
  },
  {
   "cell_type": "code",
   "execution_count": null,
   "metadata": {},
   "outputs": [],
   "source": [
    "raise FiniteProbabilityDistributionError('Not happy with this!')"
   ]
  },
  {
   "cell_type": "markdown",
   "metadata": {},
   "source": [
    "One way to gracefully terminate the execution of a program when an exception is raised, simply printing out the associated error message, is to use the `except ... as ...` syntax:"
   ]
  },
  {
   "cell_type": "code",
   "execution_count": null,
   "metadata": {},
   "outputs": [],
   "source": [
    "try:\n",
    "    raise FiniteProbabilityDistributionError('Not happy with this!')\n",
    "except FiniteProbabilityDistributionError as error:\n",
    "    print(error)"
   ]
  },
  {
   "cell_type": "markdown",
   "metadata": {},
   "source": [
    "To test the type of an object, we can use the `isinstance()` function; it takes the object as first argument and the type as second argument. If one intends to work with sets, then it is natural to provide `set` as second argument to `isinstance()`, but a more robust solution is to instead test against the `Set` class from the `collections.abc` module. `Set` is an abstract class that demands that 3 special methods be implemented, based on the idea that a set is any object with the following properties:\n",
    "\n",
    "* one can ask how many elements it contains;\n",
    "* one can ask of something whether it belongs to it;\n",
    "* one can request that its elements be generated, in an arbitrary order."
   ]
  },
  {
   "cell_type": "code",
   "execution_count": null,
   "metadata": {},
   "outputs": [],
   "source": [
    "class TwoElementSetError(Exception):\n",
    "    pass\n",
    "\n",
    "class TwoElementSet(Set):\n",
    "    def __init__(self, a, b):\n",
    "        if a == b:\n",
    "            raise TwoElementSetError('Set members should be distinct')\n",
    "        self.a = a\n",
    "        self.b = b\n",
    "        \n",
    "    # Three abstract methods have to be implemented:\n",
    "    # * __contains()__\n",
    "    # * __iter()__\n",
    "    # * __len()__\n",
    "\n",
    "S = TwoElementSet(3, 5)"
   ]
  },
  {
   "cell_type": "code",
   "execution_count": null,
   "metadata": {},
   "outputs": [],
   "source": [
    "class TwoElementSet(Set):\n",
    "    def __init__(self, a, b):\n",
    "        if a == b:\n",
    "            raise TwoElementSetError('Set members should be distinct')\n",
    "        self.a = a\n",
    "        self.b = b\n",
    "\n",
    "    def __contains__(self, x):\n",
    "        return x == self.a or x == self.b\n",
    "\n",
    "    def __iter__(self):\n",
    "        yield self.a\n",
    "        yield self.b\n",
    "\n",
    "    def __len__(self):\n",
    "        return 2\n",
    "\n",
    "S = TwoElementSet(3, 5)\n",
    "\n",
    "3 in S, 4 in S\n",
    "list(S)\n",
    "len(S)\n",
    "isinstance(S, set), isinstance(S, Set)\n",
    "isinstance({3, 5}, set), isinstance({3, 5}, Set)"
   ]
  },
  {
   "cell_type": "markdown",
   "metadata": {},
   "source": [
    "We now have everything we need to create objects meant to represent a finite probability distribution, with a dictionary as an object attribute to record the function:"
   ]
  },
  {
   "cell_type": "code",
   "execution_count": null,
   "metadata": {},
   "outputs": [],
   "source": [
    "class FiniteProbabilityDistribution:\n",
    "    def __init__(self, μ):\n",
    "        if isinstance(μ, Set):\n",
    "            if not len(μ):\n",
    "                raise FiniteProbabilityDistributionError(\n",
    "                                  'The sample space should not be empty'\n",
    "                                                        )                \n",
    "            self.μ = {outcome: Fraction(1, len(μ)) for outcome in μ}\n",
    "        else:\n",
    "            if any(not isinstance(fraction, Fraction)\n",
    "                       for fraction in μ.values()\n",
    "                  ):\n",
    "                raise FiniteProbabilityDistributionError(\n",
    "                                     'Probabilities should be Fractions'\n",
    "                                                        )\n",
    "            if sum(μ.values()) != 1:\n",
    "                raise FiniteProbabilityDistributionError(\n",
    "                                      'Probabilities should add up to 1'\n",
    "                                                        )\n",
    "            self.μ = μ\n",
    "\n",
    "    def __repr__(self):\n",
    "            return f'FiniteProbabilityDistribution({self.μ})'\n",
    "\n",
    "    def __str__(self):\n",
    "        return '\\n'.join(outcome + ' : ' + str(self.μ[outcome])\n",
    "                             for outcome in sorted(self.μ)\n",
    "                        )    \n",
    "\n",
    "try:\n",
    "    pd = FiniteProbabilityDistribution(set())\n",
    "except FiniteProbabilityDistributionError as error:\n",
    "    print(error)\n",
    "try:\n",
    "    pd = FiniteProbabilityDistribution({'a': 0.5, 'b': 0.5})\n",
    "except FiniteProbabilityDistributionError as error:\n",
    "    print(error)\n",
    "try:\n",
    "    pd = FiniteProbabilityDistribution({'a': Fraction(1, 2),\n",
    "                                        'b': Fraction(1, 3)\n",
    "                                       }\n",
    "                                      )\n",
    "except FiniteProbabilityDistributionError as error:\n",
    "    print(error)\n",
    "    \n",
    "pd_1 = FiniteProbabilityDistribution({'a': Fraction(3, 8), 'b': Fraction(1, 8),\n",
    "                                      'c': Fraction(1, 3), 'd': Fraction(1, 6)\n",
    "                                     }\n",
    "                                    )\n",
    "pd_1\n",
    "print(pd_1)\n",
    "\n",
    "pd_2 = FiniteProbabilityDistribution(set('abcdefghijkl'))\n",
    "pd_2\n",
    "print(pd_2)"
   ]
  },
  {
   "cell_type": "markdown",
   "metadata": {},
   "source": [
    "We create a class for events of a finite probability distribution, making sure it consists of members of the domain of the latter, with the empty event as a default, and computing the probability of an event on creation:"
   ]
  },
  {
   "cell_type": "code",
   "execution_count": null,
   "metadata": {},
   "outputs": [],
   "source": [
    "class Event:\n",
    "    def __init__(self, distribution, outcomes=set()):\n",
    "        if any(outcome not in distribution.μ for outcome in outcomes):\n",
    "            raise FiniteProbabilityDistributionError(\n",
    "                                'Event not for probability distribution'\n",
    "                                                    )\n",
    "        self.distribution = distribution\n",
    "        self.outcomes = outcomes\n",
    "        self.probability = sum(self.distribution.μ[outcome]\n",
    "                                   for outcome in self.outcomes\n",
    "                              )\n",
    "\n",
    "    def __repr__(self):\n",
    "            return f'Event({repr(self.distribution)}, {self.outcomes})'\n",
    "\n",
    "    def __str__(self):\n",
    "        return ''.join(('{', ', '.join(sorted(self.outcomes)), '} : ',\n",
    "                        str(self.probability)\n",
    "                       )\n",
    "                      )\n",
    "\n",
    "try:\n",
    "    E = Event(pd_1, set('aCd'))\n",
    "except FiniteProbabilityDistributionError as error:\n",
    "    print(error)\n",
    "\n",
    "E_1 = Event(pd_1, {'a', 'b'})\n",
    "E_1\n",
    "print(E_1)\n",
    "\n",
    "E_2 = Event(pd_1, {'b', 'c', 'd'})\n",
    "E_2\n",
    "print(E_2)\n",
    "\n",
    "E_3 = Event(pd_1, {'b', 'd'})\n",
    "E_3\n",
    "print(E_3)\n",
    "\n",
    "F_1 = Event(pd_2, set('abcdijkl'))\n",
    "F_1\n",
    "print(F_1)\n",
    "\n",
    "F_2 = Event(pd_2, set('abcdef'))\n",
    "F_2\n",
    "print(F_2)\n",
    "\n",
    "F_3 = Event(pd_2, set('bce'))\n",
    "F_3\n",
    "print(F_3)"
   ]
  },
  {
   "cell_type": "markdown",
   "metadata": {},
   "source": [
    "From a probability distribution $\\mu$ and an event $E$ with a nonzero probability, on can define the conditionalisation of $\\mu$ on $E$, another probability distribution. To this aim, we add a `conditionalised_by()` method to the `FiniteProbabilityDistribution` class:"
   ]
  },
  {
   "cell_type": "code",
   "execution_count": null,
   "metadata": {},
   "outputs": [],
   "source": [
    "class FiniteProbabilityDistribution(FiniteProbabilityDistribution):\n",
    "    def conditionalised_by(self, event):\n",
    "        if event.distribution.μ is not self.μ:\n",
    "            raise FiniteProbabilityDistributionError(\n",
    "                          'Cannot conditionalise distribution on event '\n",
    "                          'for another probability distribution'\n",
    "                                                    )\n",
    "        if not event.probability:\n",
    "            raise FiniteProbabilityDistributionError(\n",
    "                                  'Cannot conditionalise on event with '\n",
    "                                  'probability mass of 0'\n",
    "                                                    )\n",
    "        return FiniteProbabilityDistribution(\n",
    "                    {outcome: self.μ[outcome] / event.probability\n",
    "                        for outcome in event.outcomes\n",
    "                    }\n",
    "                                            )\n",
    "\n",
    "pd_1 = FiniteProbabilityDistribution({'a': Fraction(3, 8), 'b': Fraction(1, 8),\n",
    "                                      'c': Fraction(1, 3), 'd': Fraction(1, 6)\n",
    "                                     }\n",
    "                                    )\n",
    "E_1 = Event(pd_1, {'a', 'b'})\n",
    "\n",
    "pd_2 = FiniteProbabilityDistribution(set('abcdefghijkl'))\n",
    "F_1 = Event(pd_2, set('abcdijkl'))\n",
    "\n",
    "try:\n",
    "    pd = pd_1.conditionalised_by(F_1)\n",
    "except FiniteProbabilityDistributionError as error:\n",
    "    print(error)\n",
    "    \n",
    "print()\n",
    "\n",
    "print(pd_1.conditionalised_by(E_1))\n",
    "\n",
    "print()\n",
    "\n",
    "print(pd_2.conditionalised_by(F_1))"
   ]
  },
  {
   "cell_type": "markdown",
   "metadata": {},
   "source": [
    "A probability distribution and events $A$ and $B$ determine the events $\\overline{A}$, $A\\cap B$, $A\\cup B$ and $A|B$ and their associated probabilities. Python has a number of operators, in particular, $\\sim$, $\\&$, $+$ and $|$, which can have as operands objects created from a class $C$ provided that $C$ implements the special methods `__invert()__`, `__and()__`, `__add()__` and `__or()__`, respectively. We consider that $\\sim A$, $A\\& B$ and $A+B$ are reasonable notational alternatives to $\\overline{A}$, $A\\cap B$ and $A\\cup B$ and implement all four special methods. For $A\\cap B$, $A\\cup B$ and $A|B$, we first check that $A$ and $B$ are events for the same probability distribution $\\mu$. The implementation immediately follows from the definition of all four events. Note that $A|B$ is an event not for $\\mu$, but for $\\mu$ given $B$:"
   ]
  },
  {
   "cell_type": "code",
   "execution_count": null,
   "metadata": {},
   "outputs": [],
   "source": [
    "class Event(Event):\n",
    "    def __invert__(self):\n",
    "        return Event(self.distribution,\n",
    "                     set(self.distribution.μ) - self.outcomes\n",
    "                    )\n",
    "\n",
    "    def __and__(self, other):\n",
    "        if self.distribution.μ is not other.distribution.μ:\n",
    "            raise FiniteProbabilityDistributionError(\n",
    "                               'Cannot take intersection of events for '\n",
    "                               'distinct probability distributions'\n",
    "                                                    )\n",
    "        return Event(self.distribution, self.outcomes & other.outcomes)\n",
    "\n",
    "    def __add__(self, other):\n",
    "        if self.distribution.μ is not other.distribution.μ:\n",
    "            raise FiniteProbabilityDistributionError(\n",
    "                             'Cannot take union of events for distinct '\n",
    "                             'probability distributions'\n",
    "                                                    )\n",
    "        return Event(self.distribution, self.outcomes | other.outcomes)\n",
    "\n",
    "    def __or__(self, other):\n",
    "        if self.distribution.μ is not other.distribution.μ:\n",
    "            raise FiniteProbabilityDistributionError(\n",
    "                             'Cannot conditionalise event on event for '\n",
    "                             'another probability distribution'\n",
    "                                                    )\n",
    "        return Event(self.distribution.conditionalised_by(other),\n",
    "                     self.outcomes & other.outcomes\n",
    "                    )\n",
    "\n",
    "E_1 = Event(pd_1, {'a', 'b'})\n",
    "E_2 = Event(pd_1, {'b', 'c', 'd'})\n",
    "E_3 = Event(pd_1, {'b', 'd'})\n",
    "F_1 = Event(pd_2, set('abcdijkl'))\n",
    "F_2 = Event(pd_2, set('abcdef'))\n",
    "F_3 = Event(pd_2, set('bce'))\n",
    "\n",
    "try:\n",
    "    print(E_1 & F_1)\n",
    "except FiniteProbabilityDistributionError as error:\n",
    "    print(error)\n",
    "try:\n",
    "    print(E_1 + F_1)\n",
    "except FiniteProbabilityDistributionError as error:\n",
    "    print(error)\n",
    "try:\n",
    "    print(E_1 | F_1)\n",
    "except FiniteProbabilityDistributionError as error:\n",
    "    print(error)\n",
    "try:\n",
    "    print(E_1 | Event(pd_1))\n",
    "except FiniteProbabilityDistributionError as error:\n",
    "    print(error)\n",
    "\n",
    "print()\n",
    "\n",
    "print(~E_1)\n",
    "print(E_1 & E_2)\n",
    "print(E_1 + E_2)\n",
    "print(E_3 | E_2)\n",
    "print(E_1 | E_2)\n",
    "print(E_1 | ~E_1)\n",
    "\n",
    "print()\n",
    "\n",
    "print(~F_1)\n",
    "print(F_1 & F_2)\n",
    "print(F_1 + F_2)\n",
    "print(F_3 | F_2)\n",
    "print(F_1 | F_2)"
   ]
  },
  {
   "cell_type": "markdown",
   "metadata": {},
   "source": [
    "The following function checks whether two events $A$ and $B$ are for the same probability distribution $\\mu$, and in case they are, determines whether they are independent, that is, whether $\\mu(A)\\times \\mu(B)=\\mu(A\\cap B)$:"
   ]
  },
  {
   "cell_type": "code",
   "execution_count": null,
   "metadata": {},
   "outputs": [],
   "source": [
    "def are_independent(event_1, event_2):\n",
    "    if event_1.distribution.μ is not event_2.distribution.μ:\n",
    "        raise FiniteProbabilityDistributionError(\n",
    "                     'Both events not for same probability distribution'\n",
    "                                                )\n",
    "    return event_1.probability * event_2.probability ==\\\n",
    "                                               (event_1 & event_2).probability\n",
    "\n",
    "try:\n",
    "    are_independent(E_1, F_1)\n",
    "except FiniteProbabilityDistributionError as error:\n",
    "    print(error)\n",
    "\n",
    "are_independent(E_1, E_2)\n",
    "are_independent(F_1, F_2)"
   ]
  }
 ],
 "metadata": {
  "kernelspec": {
   "display_name": "Python 3",
   "language": "python",
   "name": "python3"
  },
  "language_info": {
   "codemirror_mode": {
    "name": "ipython",
    "version": 3
   },
   "file_extension": ".py",
   "mimetype": "text/x-python",
   "name": "python",
   "nbconvert_exporter": "python",
   "pygments_lexer": "ipython3",
   "version": "3.9.4"
  },
  "latex_envs": {
   "LaTeX_envs_menu_present": true,
   "autoclose": false,
   "autocomplete": true,
   "bibliofile": "biblio.bib",
   "cite_by": "apalike",
   "current_citInitial": 1,
   "eqLabelWithNumbers": true,
   "eqNumInitial": 1,
   "hotkeys": {
    "equation": "Ctrl-E",
    "itemize": "Ctrl-I"
   },
   "labels_anchors": false,
   "latex_user_defs": false,
   "report_style_numbering": false,
   "user_envs_cfg": false
  },
  "toc": {
   "base_numbering": 1,
   "nav_menu": {},
   "number_sections": true,
   "sideBar": true,
   "skip_h1_title": false,
   "title_cell": "Table of Contents",
   "title_sidebar": "Contents",
   "toc_cell": false,
   "toc_position": {},
   "toc_section_display": true,
   "toc_window_display": false
  }
 },
 "nbformat": 4,
 "nbformat_minor": 2
}
