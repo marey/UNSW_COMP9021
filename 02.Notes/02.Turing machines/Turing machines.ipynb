{
 "cells": [
  {
   "cell_type": "code",
   "execution_count": null,
   "metadata": {},
   "outputs": [],
   "source": [
    "# Does not need to be executed if\n",
    "# ~/.ipython/profile_default/ipython_config.py\n",
    "# exists and contains:\n",
    "# get_config().InteractiveShell.ast_node_interactivity = 'all'\n",
    "\n",
    "from IPython.core.interactiveshell import InteractiveShell\n",
    "InteractiveShell.ast_node_interactivity = 'all'"
   ]
  },
  {
   "cell_type": "markdown",
   "metadata": {},
   "source": [
    "A Turing Machine (TM) is an idealised model of a computer. Whereas real computers have finite memory, a TM has infinite memory, represented as a _tape_ of consecutive _cells_, each of which contains either the _symbol_ 0 or the symbol 1, that extends infinitely both left and right. To represent a finite section of the tape of a TM, a particular kind of __object__, namely, a Python __list__, is appropriate. We just need to define a Python list whose elements are the __integers__ 0 and 1, that Python also represents as objects. We can then let a __variable__, say `tape`, denote what the list __literal__ `[0, 0, 1, 1, 1, 0]` itself denotes, namely, a sequence of bits stored in computer memory meant to be interpreted as the Python list that consists of the integers 0, 0, 1, 1, 1 and 0. This is a particular kind of __statement__: an __assignment__. It involves two __expressions__: the list literal and the variable, the list literal itself  involving many occurrences of two expressions: `0` and `1`. Expressions are to be __evaluated__; the result of the evaluation is a mathematical entity, the expression's __value__. Statements are to be __executed__. In the following cell, on the line that precedes the statement `tape = [0, 0, 1, 1, 1, 0]` and on the line of that statement, following it, are two __comments__. When running the cell, `tape = [0, 0, 1, 1, 1, 0]` is executed. Then `tape` is evaluated and a \"standard\" expression is output whose value is the same as `tape`'s value; that expression happens to be the list literal that `tape` has been assigned to:"
   ]
  },
  {
   "cell_type": "code",
   "execution_count": null,
   "metadata": {},
   "outputs": [],
   "source": [
    "# 6 consecutive cells of a TM\n",
    "tape = [0, 0, 1, 1, 1, 0] # Some cells contain 0, others contain 1\n",
    "tape"
   ]
  },
  {
   "cell_type": "markdown",
   "metadata": {},
   "source": [
    "To more conveniently create a list with a repeating pattern (e.g., a list consisting of nothing but 0's, or a list consisting of nothing but 1's, or a list where 0's and 1's alternate), one can use the `*` binary __operator__. When both operands are numbers, `*` is multiplication. When running the following cell, the expression `3*5` evaluates to the number 15, and `15`, a more \"standard\" expression that also evaluates to 15, is output:"
   ]
  },
  {
   "cell_type": "code",
   "execution_count": null,
   "metadata": {},
   "outputs": [],
   "source": [
    "3 * 5"
   ]
  },
  {
   "cell_type": "markdown",
   "metadata": {},
   "source": [
    "When one operand is a list $L$ and the other operand is a positive integer $n$, `*` duplicates $L$ $n$ many times. Again, \"standard\" expressions are output whose values are the same as those of the expressions that make up all lines in the following cell, the comment being ignored:"
   ]
  },
  {
   "cell_type": "code",
   "execution_count": null,
   "metadata": {},
   "outputs": [],
   "source": [
    "[0] * 0 # The empty list\n",
    "1 * [0]\n",
    "[1] * 7\n",
    "5 * [0, 1]"
   ]
  },
  {
   "cell_type": "markdown",
   "metadata": {},
   "source": [
    "One can refer to individual members of a list via their __index__, in relation to an increasing enumeration of its elements from left to right, starting with 0, or in relation to a decreasing enumeration of its elements from right to left, starting with -1. To illustrate this claim, we use the `print()` __function__. This function takes an arbitrary number of __arguments__, and outputs \"standard\" expressions whose values are the same as those of the arguments; by default, in the output, two consecutive expressions are separated by a space. In both invocations of `print()` in the cell below, `print()` receives 6 arguments. These invocations are statements, which are executed when running the cell, and the arguments to `print()` are displayed as \"standard\" expressions with the same values as a side effect:"
   ]
  },
  {
   "cell_type": "code",
   "execution_count": null,
   "metadata": {},
   "outputs": [],
   "source": [
    "print(tape[0], tape[1], tape[2], tape[3], tape[4], tape[5])\n",
    "print(tape[-1], tape[-2], tape[-3], tape[-4], tape[-5], tape[-6])"
   ]
  },
  {
   "cell_type": "markdown",
   "metadata": {},
   "source": [
    "So the positive index of the last element of a nonempty list is equal to the length of the list minus 1, and the negative index of the first element of a nonempty list is equal to minus the length of the list. The length of a list is what the `len()` function returns when it receives (an expression that evaluates to that) list as argument:"
   ]
  },
  {
   "cell_type": "code",
   "execution_count": null,
   "metadata": {},
   "outputs": [],
   "source": [
    "len(tape)"
   ]
  },
  {
   "cell_type": "markdown",
   "metadata": {},
   "source": [
    "Using an index which is at least equal to the length of the list generates an `IndexError` __exception__:"
   ]
  },
  {
   "cell_type": "code",
   "execution_count": null,
   "metadata": {},
   "outputs": [],
   "source": [
    "tape[len(tape)]"
   ]
  },
  {
   "cell_type": "markdown",
   "metadata": {},
   "source": [
    "Using an index which is smaller than minus the length of the list also generates an `IndexError` exception. The code in the following cell makes use of two operators: unary `-`, which negates its unique operand, and binary `-`, which subtracts its second operand from its first operand, the former operator taking precedence over the latter:"
   ]
  },
  {
   "cell_type": "code",
   "execution_count": null,
   "metadata": {},
   "outputs": [],
   "source": [
    "tape[-len(tape) - 1]"
   ]
  },
  {
   "cell_type": "markdown",
   "metadata": {},
   "source": [
    "Let us define a function to nicely display what `tape` represents on demand. To start with, we just design the function. We let the __body__ of the __function definition__ consist of nothing but comments that describe what the function is meant to do. Running the contents of the following cell shows that Python does not accept this function definition as such (EOF is for End Of File):"
   ]
  },
  {
   "cell_type": "code",
   "execution_count": null,
   "metadata": {},
   "outputs": [],
   "source": [
    "def display_tape():\n",
    "    # Draw a horizontal line to represent\n",
    "    #   the top boundary of the tape fragment.\n",
    "    # Draw the tape fragment's cell contents,\n",
    "    #   also drawing vertical line segments as cell boundaries.\n",
    "    # Draw a horizontal line to represent\n",
    "    #   the bottom boundary of the tape fragment."
   ]
  },
  {
   "cell_type": "markdown",
   "metadata": {},
   "source": [
    "The body of a function definition should consist of at least one statement. We can make `pass` the only statement. The function definition is now acceptable (though it is only provisional, as we have not __implemented__ the function so that it can behave as __specified__ by the comments in the function body):"
   ]
  },
  {
   "cell_type": "code",
   "execution_count": null,
   "metadata": {},
   "outputs": [],
   "source": [
    "def display_tape():\n",
    "    # Draw a horizontal line to represent\n",
    "    #   the top boundary of the tape fragment.\n",
    "    # Draw the tape fragment's cell contents,\n",
    "    #   also drawing vertical line segments as cell boundaries.\n",
    "    # Draw a horizontal line to represent\n",
    "    #   the bottom boundary of the tape fragment.\n",
    "    pass"
   ]
  },
  {
   "cell_type": "markdown",
   "metadata": {},
   "source": [
    "When __called__, a function __returns__ a value. An expression having that value, the function call itself being such an expression, can be assigned to a variable. A `return` statement allows one to explicitly let a function return a value:"
   ]
  },
  {
   "cell_type": "code",
   "execution_count": null,
   "metadata": {},
   "outputs": [],
   "source": [
    "def f():\n",
    "    return 2\n",
    "\n",
    "f() # Returns 2, as shown when running the cell\n",
    "x = f()\n",
    "print(x)"
   ]
  },
  {
   "cell_type": "markdown",
   "metadata": {},
   "source": [
    "A function that does not eventually execute a `return` statement still returns some value, namely, the special value that the \"standard\" expression `None` evaluates to:"
   ]
  },
  {
   "cell_type": "code",
   "execution_count": null,
   "metadata": {},
   "outputs": [],
   "source": [
    "display_tape() # Returns None, which is not shown when running the cell\n",
    "x = display_tape()\n",
    "print(x)"
   ]
  },
  {
   "cell_type": "markdown",
   "metadata": {},
   "source": [
    "A function can also explicitly return (the value that is the result of evaluating) `None`:"
   ]
  },
  {
   "cell_type": "code",
   "execution_count": null,
   "metadata": {},
   "outputs": [],
   "source": [
    "def f():\n",
    "    return None\n",
    "\n",
    "f() # Returns None, which is not shown when running the cell\n",
    "x = f()\n",
    "print(x)"
   ]
  },
  {
   "cell_type": "markdown",
   "metadata": {},
   "source": [
    "Getting back to the comments in `display_tape()`'s body, we see that we have to twice draw a line. This can be achieved by printing out a (representation of a) __string__ of hyphens. More generally, a string is a sequence of __characters__. String literals can be delimited with single quotes; a backslash allows one to escape a single quote and make it part of the string:"
   ]
  },
  {
   "cell_type": "code",
   "execution_count": null,
   "metadata": {},
   "outputs": [],
   "source": [
    "string = 'A string with \\' (single quote), not \", as delimiter'\n",
    "string\n",
    "print(string)"
   ]
  },
  {
   "cell_type": "markdown",
   "metadata": {},
   "source": [
    "Alternatively, string literals can be delimited with double quotes; then double quotes, not single quotes, need to be escaped to be part of the string:"
   ]
  },
  {
   "cell_type": "code",
   "execution_count": null,
   "metadata": {},
   "outputs": [],
   "source": [
    "string = \"A string with \\\" (double quote), not ', as delimiter\"\n",
    "string\n",
    "print(string)"
   ]
  },
  {
   "cell_type": "markdown",
   "metadata": {},
   "source": [
    "String literals can span many lines: just use either three single quotes or three double quotes as delimiters. One could escape new line characters and define those string literals with single or double quotes as delimiters, but they would not read as well:"
   ]
  },
  {
   "cell_type": "code",
   "execution_count": null,
   "metadata": {},
   "outputs": [],
   "source": [
    "string = '''A string containing both ' and \"\n",
    "with \\''' (triple quote) as delimiter;\n",
    "it actually contains four single quotes,\n",
    "one of which is escaped'''\n",
    "string\n",
    "print(string)"
   ]
  },
  {
   "cell_type": "code",
   "execution_count": null,
   "metadata": {},
   "outputs": [],
   "source": [
    "string = \"\"\"\n",
    "A string containing both ' and \"\n",
    "delimited with triple quotes    \n",
    "(observe: 4 spaces at the end of the previous line)\n",
    "and containing five new line characters\n",
    "\"\"\"\n",
    "string\n",
    "print(string)"
   ]
  },
  {
   "cell_type": "markdown",
   "metadata": {},
   "source": [
    "The `*` operator can also be used with a string and a positive integer as operands:"
   ]
  },
  {
   "cell_type": "code",
   "execution_count": null,
   "metadata": {},
   "outputs": [],
   "source": [
    "# The empty string\n",
    "'acb' * 0\n",
    "1 * 'abc'\n",
    "'abc' * 2\n",
    "3 * 'abc'"
   ]
  },
  {
   "cell_type": "markdown",
   "metadata": {},
   "source": [
    "Since `display_tape()` has to twice draw the same line, it is preferable not to duplicate code and define an auxiliary function, say `draw_horizontal_line()`, to draw that line, and let `display_tape()` call `draw_horizontal_line()` twice. As `display_tape()`, the function `draw_horizontal_line()` takes no argument. In the function body, `tape` is used as a __global__ variable: `tape` has been __declared__ outside the function body, but `tape`'s value can still be retrieved in the function body. We define the function and then call it:"
   ]
  },
  {
   "cell_type": "code",
   "execution_count": null,
   "metadata": {},
   "outputs": [],
   "source": [
    "def draw_horizontal_line():\n",
    "    # multiplication takes precedence over addition\n",
    "    print('-' * (2 * len(tape) + 1))\n",
    "    \n",
    "draw_horizontal_line()"
   ]
  },
  {
   "cell_type": "markdown",
   "metadata": {},
   "source": [
    "We can now partially implement `display_tape()`, removing the `pass` statement, and replacing the first and last comments in its body with calls to `draw_horizontal_line()`:"
   ]
  },
  {
   "cell_type": "code",
   "execution_count": null,
   "metadata": {},
   "outputs": [],
   "source": [
    "def display_tape():\n",
    "    draw_horizontal_line()\n",
    "    # Output cell contents, delimited with |'s.\n",
    "    draw_horizontal_line()\n",
    "    \n",
    "display_tape()"
   ]
  },
  {
   "cell_type": "markdown",
   "metadata": {},
   "source": [
    "To complete the implementation of `display_tape()`, we need to write code that outputs a string consisting of the characters `'|'`, `'0'` and `'1'`. From `tape`, a (variable that evaluates to a) list consisting of the integers (that are the values of) `0` and `1`, we could obtain a corresponding list consisting of the characters (that are the values of) `'0'` and `'1'`, letting `str()` convert numbers to strings, and making use of a __list comprehension__. The following expression reads as: the list of all elements of the form `str(symbol)` where `symbol` ranges over `tape`, from beginning to end:"
   ]
  },
  {
   "cell_type": "code",
   "execution_count": null,
   "metadata": {},
   "outputs": [],
   "source": [
    "[str(symbol) for symbol in tape]"
   ]
  },
  {
   "cell_type": "markdown",
   "metadata": {},
   "source": [
    "One could then use a particular function, the `join()` __method__ of the `str` __class__, to create a string from the (one character) strings in the former list. If `join()` is applied to the empty string, then all those characters are \"glued\" together: "
   ]
  },
  {
   "cell_type": "code",
   "execution_count": null,
   "metadata": {},
   "outputs": [],
   "source": [
    "''.join([str(symbol) for symbol in tape])"
   ]
  },
  {
   "cell_type": "markdown",
   "metadata": {},
   "source": [
    "We could \"glue\" the characters with any other string:"
   ]
  },
  {
   "cell_type": "code",
   "execution_count": null,
   "metadata": {},
   "outputs": [],
   "source": [
    "'+A+'.join([str(symbol) for symbol in tape])"
   ]
  },
  {
   "cell_type": "markdown",
   "metadata": {},
   "source": [
    "This is what we want:"
   ]
  },
  {
   "cell_type": "code",
   "execution_count": null,
   "metadata": {},
   "outputs": [],
   "source": [
    "'|'.join([str(symbol) for symbol in tape])"
   ]
  },
  {
   "cell_type": "markdown",
   "metadata": {},
   "source": [
    "The previous expression is correct, but not as good as it could and should be. Indeed, the expression is evaluated by processing all elements that make up (the list that is the value of) `tape` to create the list (that is the value of) `[str(symbol) for symbol in tape]`, and then processing all elements that make up that second list to create the desired string. A better option is to use a __generator expression__:"
   ]
  },
  {
   "cell_type": "code",
   "execution_count": null,
   "metadata": {},
   "outputs": [],
   "source": [
    "(str(symbol) for symbol in tape)"
   ]
  },
  {
   "cell_type": "markdown",
   "metadata": {},
   "source": [
    "A generator expression is a potential sequence of elements. One way to actualise the sequence and retrieve each of its members, one by one, is to call the `next()` function; when all elements have been retrieved, a new call to `next()` generates a `StopIteration` exception:"
   ]
  },
  {
   "cell_type": "code",
   "execution_count": null,
   "metadata": {},
   "outputs": [],
   "source": [
    "E = (str(symbol) for symbol in tape)\n",
    "next(E)\n",
    "next(E)\n",
    "next(E)\n",
    "next(E)\n",
    "next(E)\n",
    "next(E)\n",
    "next(E)\n",
    "next(E)"
   ]
  },
  {
   "cell_type": "markdown",
   "metadata": {},
   "source": [
    "Any (expression that evaluates to a) generator expression can be passed as an argument to `list()` which behind the scene, calls `next()` until `StopIteration` is generated, letting it gracefully complete the construction of the list:"
   ]
  },
  {
   "cell_type": "code",
   "execution_count": null,
   "metadata": {},
   "outputs": [],
   "source": [
    "# The full syntax would be list((str(symbol) for symbol in tape)),\n",
    "# but Python lets us  simplify it and omit one pair of parentheses.\n",
    "list(str(symbol) for symbol in tape)"
   ]
  },
  {
   "cell_type": "markdown",
   "metadata": {},
   "source": [
    "`join()` also accepts a generator expression rather than a list as argument. In the code below, `join()` processes the `'0'`'s and `'1'`'s it receives from the generator expression `(str(symbol) for symbol in tape)`, as that generator expression processes the `0`'s and `1`'s that make up the list `tape`. The desired string is created \"on the fly\"; no intermediate list is created:"
   ]
  },
  {
   "cell_type": "code",
   "execution_count": null,
   "metadata": {},
   "outputs": [],
   "source": [
    "'|'.join(str(symbol) for symbol in tape)"
   ]
  },
  {
   "cell_type": "markdown",
   "metadata": {},
   "source": [
    "We also want to display a vertical bar at both ends. This can be done by concatenating three strings into one. For that purpose, one can use the `+` binary operator. When both operands are numbers, `+` is addition, but when both operands are strings, `+` is concatenation:"
   ]
  },
  {
   "cell_type": "code",
   "execution_count": null,
   "metadata": {},
   "outputs": [],
   "source": [
    "'ABC' + 'DEF'"
   ]
  },
  {
   "cell_type": "markdown",
   "metadata": {},
   "source": [
    "`+` is left associative. Therefore, in the following statement, the first occurrence of `+` creates a new string $S$ from its operands, and the second occurrence of `+` creates a new string from $S$ and its second operand:"
   ]
  },
  {
   "cell_type": "code",
   "execution_count": null,
   "metadata": {},
   "outputs": [],
   "source": [
    "'|' + '|'.join(str(symbol) for symbol in tape) + '|'"
   ]
  },
  {
   "cell_type": "markdown",
   "metadata": {},
   "source": [
    "Since our aim is only to display a sequence of characters, we do not need to create a new string from three strings: we can instead let `print()` take those three strings as arguments and print them out changing the separator from the default, a space, to an empty string, using the optional __keyword only__ parameter `sep` to `print()`. Compare:"
   ]
  },
  {
   "cell_type": "code",
   "execution_count": null,
   "metadata": {},
   "outputs": [],
   "source": [
    "print('|', '|'.join(str(symbol) for symbol in tape), '|')\n",
    "print('|', '|'.join(str(symbol) for symbol in tape), '|', sep = '')"
   ]
  },
  {
   "cell_type": "markdown",
   "metadata": {},
   "source": [
    "We now have the full implementation of `display_tape()`:"
   ]
  },
  {
   "cell_type": "code",
   "execution_count": null,
   "metadata": {},
   "outputs": [],
   "source": [
    "def display_tape():\n",
    "    draw_horizontal_line()\n",
    "    print('|', '|'.join(str(e) for e in tape), '|', sep = '')\n",
    "    draw_horizontal_line()\n",
    "    \n",
    "display_tape()"
   ]
  },
  {
   "cell_type": "markdown",
   "metadata": {},
   "source": [
    "Besides a tape, a TM has a _head_, that can be positioned below one of the cells that make up the tape, thereby revealing its contents to the TM. A TM does not have a global view of the tape, it only has a very local view, that of a single cell, but the contents of that cell changes over time as the TM moves its head left or right. A TM also has a _program_ to perform some computation. We assume that before computation starts, the tape has been \"initialised\" in such a way that only a finite number of cells contain the symbol 1, some cell contains 1, and the head is positioned below the cell that contains the leftmost 1. The section of the tape that spans between the cells that store the leftmost and rightmost 1's is meant to encode some data (numbers, text, images, videos...).\n",
    "\n",
    "At any stage of the computation, including before it starts and when it ends, if it ever comes to an end, the TM is in one of a finite number of _states_. The program of a TM consists of a finite set of _instructions_, each instruction being a quintuple of the form \n",
    "$(\\mathit{state}, \\mathit{symbol}, \\mathit{new\\_state}, \\mathit{new\\_symbol}, \\mathit{direction})$, with the following intended meaning: if the current state of the TM is $\\mathit{state}$, and if the head of the TM is currently positioned under a cell that stores $\\mathit{symbol}$, then the contents of that cell becomes $\\mathit{new\\_symbol}$ (which can be the same as $\\mathit{symbol}$), the state of the TM becomes $\\mathit{new\\_state}$ (which can be the same as $\\mathit{state}$), and the head of the TM moves one cell to the right or one cell to the left depending on whether $\\mathit{direction}$ is R or L. A TM is _deterministic_. This means that at any stage, at most one instruction can be executed: its program does not have two distinct instructions that both start with the same first two elements, with the same state and symbol. Computation runs for as long as some instruction can be executed. Either there is always such an instruction, in which case computation never terminates, or at some stage no instruction can be executed, in which case computation ends.\n",
    "\n",
    "For illustration purposes, assume that `tape` is set to `[0, 0, 1, 1, 1, 1, 0]` and represents a segment of the tape that contains all 1's on the tape. Suppose that the head of the TM is positioned below the cell that stores the leftmost 1, corresponding to the member of `tape` of index 2, as it is meant to be before computation starts. Suppose that there are two possible states, green and blue. Also suppose that the initial state, that is, the state of the TM before computation starts, is green. If the program of the TM has no instruction whose first two members are green and 1, then computation stops. One the other hand, if the program has one such instruction, then that instruction is one of the following 8 instructions, and the TM executes it:\n",
    "\n",
    "* (green, 1, green, 1, R): the state of the TM remains green, `tape` is left unchanged, and the head of the TM moves right (so positions itself below the cell that corresponds to `1` at index 3 in `tape`).\n",
    "* (green, 1, green, 1, L): the state of the TM remains green, `tape` is left unchanged, and the head of the TM moves left (so positions itself below the cell that corresponds to `0` at index 1 in `tape`).\n",
    "* (green, 1, green, 0, R): the state of the TM remains green, the `1` in `tape` at index 2 is changed to `0`, and the head of the TM moves right (so positions itself below the cell that corresponds to `1` at index 3 in `tape`).\n",
    "* (green, 1, green, 0, L): the state of the TM remains green, the `1` in `tape` at index 2 is changed to `0`, and the head of the TM moves left (so positions itself below the cell that corresponds to `0` at index 1 in `tape`).\n",
    "* (green, 1, blue, 1, R): the state of the TM changes to blue, `tape` is left unchanged, and the head of the TM moves right (so positions itself below the cell that corresponds to `1` at index 3 in `tape`).\n",
    "* (green, 1, blue, 1, L): the state of the TM changes to blue, `tape` is left unchanged, and the head of the TM moves left (so positions itself below the cell that corresponds to `0` at index 1 in `tape`).\n",
    "* (green, 1, blue, 0, R): the state of the TM changes to blue, the `1` in `tape` at index 2 is changed to `0`, and the head of the TM moves right (so positions itself below the cell that corresponds to `1` at index 3 in `tape`).\n",
    "* (green, 1, blue, 0, L): the state of the TM changes to blue, the `1` in `tape` at index 2 is changed to `0`, and the head of the TM moves left (so positions itself below the cell that corresponds to `0` at index 1 in `tape`).\n",
    "\n",
    "Intuitively, a state captures some memory of the past. If infinitely many states were available, it would be possible to remember everything that happened since computation started. As only finitely many states are available, states can usually keep track of only part of what happened; for instance, one usually cannot remember how many 1's have been overwritten with 0's since computation started, but finitely many states are enough to remember whether that number is even or odd.\n",
    "\n",
    "We provide sample TM programs to compute various functions from $\\mathbf N^*$ to $\\mathbf N$, or from $\\mathbf N^*\\times\\mathbf N^*$ to $\\mathbf N$ ($\\mathbf N$ denotes the set of natural numbers, and $\\mathbf N^*$ the set of strictly positive natural numbers):\n",
    "\n",
    "* the successor function, that maps $n$ to $n+1$\n",
    "* the parity function, that maps $n$ to 0 if $n$ is even, and to 1 otherwise\n",
    "* division by 2, that maps $n$ to $\\lfloor\\frac{n}{2}\\rfloor$\n",
    "* addition\n",
    "* multiplication\n",
    "\n",
    "For the first three programs, data is for a single nonzero natural number, encoded in unary: 1 is encoded as 1, 2 as 11, 3 as 111, 4 as 1111... For the last two programs, data is for two nonzero natural numbers, both encoded in unary, and separated by a single 0.\n",
    "\n",
    "For all programs, when computation stops, data is \"erased\" and the tape just stores the natural number $r$ that is the result of the computation, represented in unary.\n",
    "\n",
    "* If $r>0$, the head of the TM is positioned under the cell that stores the leftmost 1.\n",
    "* If $r=0$, the tape contains nothing but 0's and the head is positioned anywhere on the tape.\n",
    "\n",
    "These TM programs are saved in the files:\n",
    "\n",
    "* `successor.txt`\n",
    "* `parity.txt`\n",
    "* `division_by_2.txt`\n",
    "* `addition.txt`\n",
    "* `multiplication.txt`\n",
    "\n",
    "The program `turing_machine_simulator.py` creates a widget to experiment with those programs and others. It has a Help menu. Rather than representing the head of the TM in one way or another, it identifies the cell that the head is currently positioned under by displaying its contents in boldface red.\n",
    "\n",
    "Let us now examine how to process the contents of a file containing the program of a TM, say `division_by_2.txt`. The `open()` function returns a handle to a file, which we can make the value of a variable on which we can then operate to read and extract the contents of the file, before eventually closing it. `open()` expects to be given as argument a string that represents the location of the file. Using the name of the file for the string makes the location relative to the __working directory__, which is fine here since `division_by_2.txt` is indeed stored in the working directory. By default, `open()` works in reading mode; this is appropriate since we do not want to overwrite or modify `division_by_2.txt`:"
   ]
  },
  {
   "cell_type": "code",
   "execution_count": null,
   "metadata": {},
   "outputs": [],
   "source": [
    "TM_program_file = open('division_by_2.txt')\n",
    "TM_program_file\n",
    "# Operate on TM_program_file to read and process\n",
    "# the contents of division_by_2.txt.\n",
    "TM_program_file.close()"
   ]
  },
  {
   "cell_type": "markdown",
   "metadata": {},
   "source": [
    "The previous syntax is simple, but it is preferable to opt for an alternative and use a __context manager__, that gracefully closes the file after it has been processed, or earlier in case problems happen during processing:"
   ]
  },
  {
   "cell_type": "code",
   "execution_count": null,
   "metadata": {},
   "outputs": [],
   "source": [
    "with open('division_by_2.txt') as TM_program_file:\n",
    "    TM_program_file\n",
    "    # Operate on TM_program_file to read and process\n",
    "    # the contents of division_by_2.txt"
   ]
  },
  {
   "cell_type": "markdown",
   "metadata": {},
   "source": [
    "The contents of the file can be extracted all at once, as a list of strings, one string per line in the file:"
   ]
  },
  {
   "cell_type": "code",
   "execution_count": null,
   "metadata": {},
   "outputs": [],
   "source": [
    "with open('division_by_2.txt') as TM_program_file:\n",
    "    TM_program_file.readlines()"
   ]
  },
  {
   "cell_type": "markdown",
   "metadata": {},
   "source": [
    "When dealing with very large files, storing the whole file contents as a list of strings can be too ineffective. Instead, lines can be read one by one on demand with the `readline()` method:"
   ]
  },
  {
   "cell_type": "code",
   "execution_count": null,
   "metadata": {},
   "outputs": [],
   "source": [
    "with open('division_by_2.txt') as TM_program_file:\n",
    "    TM_program_file.readline()\n",
    "    TM_program_file.readline()\n",
    "    TM_program_file.readline()\n",
    "    TM_program_file.readline()"
   ]
  },
  {
   "cell_type": "markdown",
   "metadata": {},
   "source": [
    "In fact, `open()` returns an __iterator__, that is, an object of the same type as a generator expression, which `next()` can be applied to; essentially, `readline()` is just alternative syntax for `next()`:"
   ]
  },
  {
   "cell_type": "code",
   "execution_count": null,
   "metadata": {},
   "outputs": [],
   "source": [
    "with open('division_by_2.txt') as TM_program_file:\n",
    "    next(TM_program_file)\n",
    "    next(TM_program_file)\n",
    "    next(TM_program_file)\n",
    "    next(TM_program_file)"
   ]
  },
  {
   "cell_type": "markdown",
   "metadata": {},
   "source": [
    "Iterators are usually best processed with a `for` statement, a kind of __loop__. Behind the scene, `for` calls `next()` until the latter generates a `StopIteration` exception, which lets it gracefully exit the loop. Note that since every line of the file being processed yields a string that ends in a new line character, and `print()` \"goes to the next line\" by default, that is, outputs a new line character, the output of the following code fragment shows one blank line between two consecutive lines:"
   ]
  },
  {
   "cell_type": "code",
   "execution_count": null,
   "metadata": {},
   "outputs": [],
   "source": [
    "with open('division_by_2.txt') as TM_program_file:\n",
    "    for line in TM_program_file:\n",
    "        print(line)"
   ]
  },
  {
   "cell_type": "markdown",
   "metadata": {},
   "source": [
    "These blank lines can be eliminated from the output by changing the value of the keyword only parameter `end` of `print()` from the default new line character to an empty string:"
   ]
  },
  {
   "cell_type": "code",
   "execution_count": null,
   "metadata": {},
   "outputs": [],
   "source": [
    "with open('division_by_2.txt') as TM_program_file:\n",
    "    for line in TM_program_file:\n",
    "        print(line, end = '')"
   ]
  },
  {
   "cell_type": "markdown",
   "metadata": {},
   "source": [
    "We are only interested in lines that represent instructions, neither in lines that represent a comment nor by blank lines. For the former, the `startswith()` method of the `str` class is useful:"
   ]
  },
  {
   "cell_type": "code",
   "execution_count": null,
   "metadata": {},
   "outputs": [],
   "source": [
    "'A string'.startswith('')\n",
    "'A string'.startswith('A')\n",
    "'A string'.startswith('A ')\n",
    "'A string'.startswith('A s')\n",
    "'A string'.startswith('a')"
   ]
  },
  {
   "cell_type": "markdown",
   "metadata": {},
   "source": [
    "For the latter, the `isspace()` method of the `str` class is useful:"
   ]
  },
  {
   "cell_type": "code",
   "execution_count": null,
   "metadata": {},
   "outputs": [],
   "source": [
    "''.isspace()\n",
    "' a'.isspace()\n",
    "' '.isspace()\n",
    "'   '.isspace()\n",
    "# \\t is for tab\n",
    "'   \\t   \\n'.isspace()\n",
    "'''\n",
    "   \n",
    "\n",
    "\n",
    "'''.isspace()"
   ]
  },
  {
   "cell_type": "markdown",
   "metadata": {},
   "source": [
    "Using `startswith()` and `isspace()` as part of the __Boolean expression__ that makes up the __condition__ of an `if` statement, a kind of __test__, whose body is executed if and only if the condition evaluates to (the value of the \"special\" expression) `True` rather than (the value of the \"special\" expression) `False`, we can output only lines that represent instructions:"
   ]
  },
  {
   "cell_type": "code",
   "execution_count": null,
   "metadata": {},
   "outputs": [],
   "source": [
    "with open('division_by_2.txt') as TM_program_file:\n",
    "    for line in TM_program_file:\n",
    "        if not line.startswith('#') and not line.isspace():\n",
    "            print(line, end = '')"
   ]
  },
  {
   "cell_type": "markdown",
   "metadata": {},
   "source": [
    "Alternatively, we can test the _negation_ of the condition of the `if` statement in the previous code fragment (applying one of _de Morgan's laws_ to get a _disjunction_ from a _conjunction_ as well as applying _double negation elimination_) and use a `continue` statement not to process any further any line that is not of interest:"
   ]
  },
  {
   "cell_type": "code",
   "execution_count": null,
   "metadata": {},
   "outputs": [],
   "source": [
    "with open('division_by_2.txt') as TM_program_file:\n",
    "    for line in TM_program_file:\n",
    "        if line.startswith('#') or line.isspace():\n",
    "            continue\n",
    "        print(line, end = '')"
   ]
  },
  {
   "cell_type": "markdown",
   "metadata": {},
   "source": [
    "After an instruction has been retrieved, it is necessary to isolate its 5 components. The `split()` method of the `str` class is useful. We can pass to `split()` a nonempty string as argument:"
   ]
  },
  {
   "cell_type": "code",
   "execution_count": null,
   "metadata": {},
   "outputs": [],
   "source": [
    "'aXaaXaaaXaaaXaaXaX'.split('a')\n",
    "'aXaaXaaaXaaaXaaXaX'.split('aa')\n",
    "'aXaaXaaaXaaaXaaXaX'.split('aaa')\n",
    "'aXaaXaaaXaaaXaaXaX'.split('aaaa')"
   ]
  },
  {
   "cell_type": "markdown",
   "metadata": {},
   "source": [
    "If no argument is passed to `split()`, then any longest sequence of space characters will play the role of separator, and any leading or trailing sequence of space characters will be ignored:"
   ]
  },
  {
   "cell_type": "code",
   "execution_count": null,
   "metadata": {},
   "outputs": [],
   "source": [
    "'  \\n\\t  X X\\tX\\nX   \\t  \\n   X'.split()"
   ]
  },
  {
   "cell_type": "markdown",
   "metadata": {},
   "source": [
    "So we can now get from each instruction a list of 5 strings:"
   ]
  },
  {
   "cell_type": "code",
   "execution_count": null,
   "metadata": {},
   "outputs": [],
   "source": [
    "with open('division_by_2.txt') as TM_program_file:\n",
    "    for line in TM_program_file:\n",
    "        if line.startswith('#') or line.isspace():\n",
    "            continue\n",
    "        print(line.split())"
   ]
  },
  {
   "cell_type": "markdown",
   "metadata": {},
   "source": [
    "A list of 5 strings is not the best representation of an instruction. Recall that since a TM is deterministic, no two distinct instructions share the same first two elements. A good way to put it is that the program of a TM is a function that maps a pair of the form $(\\mathit{state}, \\mathit{symbol})$ to a triple of the form $(\\mathit{new\\_state}, \\mathit{new\\_symbol}, \\mathit{direction})$: $(\\mathit{state}, \\mathit{symbol})$ represents a possible configuration (what is possibly the current state and the symbol stored in the cell that the head of the TM is currently positioned under), while $(\\mathit{new\\_state}, \\mathit{new\\_symbol}, \\mathit{direction})$ represents what to do in case the computation is at a stage when that possible configuration happens to be the current one. To represent functions, mappings, Python offers __dictionaries__, that associate values to __keys__:"
   ]
  },
  {
   "cell_type": "code",
   "execution_count": null,
   "metadata": {},
   "outputs": [],
   "source": [
    "# An empty dictionary\n",
    "{}\n",
    "# A dictionary with 4 keys, mapping names of digits to digits.\n",
    "{'one': 1, 'two': 2, 'three': 3, 'four': 4}\n",
    "# A dictionary with 4 keys, mapping English words to German translations\n",
    "{'tap': 'Hahn', 'table': 'Tisch', 'rooster': 'Hahn', 'train': 'Zug'}\n",
    "# A dictionary with 3 keys, mapping German words to English translations\n",
    "{'Hahn': ['tap', 'rooster'], 'Tisch': ['table'], 'Zug': ['train']}"
   ]
  },
  {
   "cell_type": "markdown",
   "metadata": {},
   "source": [
    "Observe how we mapped an English word to a German word, but a German word to a list of English words: this is because the English words under consideration all have a single German translation, whereas some of the German words under consideration have more than one English translation."
   ]
  },
  {
   "cell_type": "markdown",
   "metadata": {},
   "source": [
    "Getting back to our TM instructions, we could think of creating a dictionary `TM_program` that would have for each instruction of the form $(\\mathit{state}, \\mathit{symbol}, \\mathit{new\\_state}, \\mathit{new\\_symbol}, \\mathit{direction})$, the list $[\\mathit{state}, \\mathit{symbol}]$ as a key and the list $[\\mathit{new\\_state}, \\mathit{new\\_symbol}, \\mathit{direction}]$ as value for that key. That does not work:"
   ]
  },
  {
   "cell_type": "code",
   "execution_count": null,
   "metadata": {},
   "outputs": [],
   "source": [
    "{['del1', '1']: ['del2', '0', 'R']}"
   ]
  },
  {
   "cell_type": "markdown",
   "metadata": {},
   "source": [
    "The keys of a dictionary should be __immutable__ objects, that is, objects that cannot change. It is possible to change a dictionary by adding or removing a key together with its associated value, but an existing key cannot be modified. A list is __mutable__, as it can be changed in many ways. It is for instance possible to change one of the members of a list:"
   ]
  },
  {
   "cell_type": "code",
   "execution_count": null,
   "metadata": {},
   "outputs": [],
   "source": [
    "L = [10, 11, 12]\n",
    "L[1] = 21\n",
    "L"
   ]
  },
  {
   "cell_type": "markdown",
   "metadata": {},
   "source": [
    "It is possible to add elements to a list:"
   ]
  },
  {
   "cell_type": "code",
   "execution_count": null,
   "metadata": {},
   "outputs": [],
   "source": [
    "L = [10, 11, 12]\n",
    "L.append(13)\n",
    "L"
   ]
  },
  {
   "cell_type": "markdown",
   "metadata": {},
   "source": [
    "It is possible to remove elements from a list:"
   ]
  },
  {
   "cell_type": "code",
   "execution_count": null,
   "metadata": {},
   "outputs": [],
   "source": [
    "L = [10, 11, 12]\n",
    "L.remove(11)\n",
    "L"
   ]
  },
  {
   "cell_type": "markdown",
   "metadata": {},
   "source": [
    "__Tuples__ offer alternatives to lists to define sequences of values. Tuple literals are surrounded by parentheses rather than by square brackets. In many contexts, the parentheses are optional as commas are all what is needed to define a tuple:"
   ]
  },
  {
   "cell_type": "code",
   "execution_count": null,
   "metadata": {},
   "outputs": [],
   "source": [
    "# The empty tuple\n",
    "()\n",
    "(10,)\n",
    "10,\n",
    "(10, 11)\n",
    "10, 11\n",
    "(10, 11, 12)\n",
    "10, 11, 12\n",
    "# Not a tuple, but 10 surrounded by parentheses\n",
    "(10)"
   ]
  },
  {
   "cell_type": "markdown",
   "metadata": {},
   "source": [
    "It is not possible to change the value of one of the members of a tuple:"
   ]
  },
  {
   "cell_type": "code",
   "execution_count": null,
   "metadata": {},
   "outputs": [],
   "source": [
    "T = 10, 11, 12\n",
    "T[1] = 21"
   ]
  },
  {
   "cell_type": "markdown",
   "metadata": {},
   "source": [
    "It is not possible to add or remove elements to or from a tuple: there is no append nor remove method for tuples. Tuples can be dictionary keys. Dictionary values can be lists or tuples, only the keys should be immutable:"
   ]
  },
  {
   "cell_type": "code",
   "execution_count": null,
   "metadata": {},
   "outputs": [],
   "source": [
    "{('del1', '1'): ['del2', '0', 'R']}\n",
    "{('del1', '1'): ('del2', '0', 'R')}"
   ]
  },
  {
   "cell_type": "markdown",
   "metadata": {},
   "source": [
    "Let us opt for representing the program of a TM as a dictionary where both keys and values are tuples. One can start with an empty dictionary and add a new key and its associated value every time a new instruction is processed:"
   ]
  },
  {
   "cell_type": "code",
   "execution_count": null,
   "metadata": {},
   "outputs": [],
   "source": [
    "TM_program = {}\n",
    "with open('division_by_2.txt') as TM_program_file:\n",
    "    for line in TM_program_file:\n",
    "        if line.startswith('#') or line.isspace():\n",
    "            continue\n",
    "        instruction = line.split()\n",
    "        # Simplified syntax, without parentheses for keys and values.\n",
    "        # The full syntax would be be:\n",
    "        # TM_program[(instruction[0], instruction[1])] =\\\n",
    "        #         (instruction[2], instruction[3], instruction[4])\n",
    "        # \\ used for line continuation\n",
    "        TM_program[instruction[0], instruction[1]] =\\\n",
    "                instruction[2], instruction[3], instruction[4]\n",
    "TM_program"
   ]
  },
  {
   "cell_type": "markdown",
   "metadata": {},
   "source": [
    "The previous code fragment is not as readable as it can be. Python lets us assign each element of a list or a tuple to each of the corresponding elements of a list or a tuple of the same length:"
   ]
  },
  {
   "cell_type": "code",
   "execution_count": null,
   "metadata": {},
   "outputs": [],
   "source": [
    "[a1, b1, c1] = [10, 11, 12]\n",
    "# Simplified syntax for what could also be written as\n",
    "# (a2, b2, c2) = (21, 22, 23)\n",
    "# or\n",
    "# a2, b2, c2 = (21, 22, 23)\n",
    "# or\n",
    "# (a2, b2, c2) = 21, 22, 23\n",
    "a2, b2, c2 = 21, 22, 23\n",
    "# Simplified syntax for what could also be written as\n",
    "# [a3, b3, c3] = (31, 32, 33)\n",
    "[a3, b3, c3] = 31, 32, 33\n",
    "# Simplified syntax for what could also be written as\n",
    "# (a4, b4, c4) = [41, 42, 43]\n",
    "a4, b4, c4 = [41, 42, 43]\n",
    "\n",
    "[a1, b1, c1, a2, b2, c2, a3, b3, c3, a4, b4, c4]\n",
    "# Simplified syntax for what could also be written as\n",
    "# (a1, b1, c1, a2, b2, c2, a3, b3, c3, a4, b4, c4)\n",
    "a1, b1, c1, a2, b2, c2, a3, b3, c3, a4, b4, c4"
   ]
  },
  {
   "cell_type": "markdown",
   "metadata": {},
   "source": [
    "Though functionally equivalent to what we wrote above, the following code fragment is more readable:"
   ]
  },
  {
   "cell_type": "code",
   "execution_count": null,
   "metadata": {},
   "outputs": [],
   "source": [
    "TM_program = {}\n",
    "with open('division_by_2.txt') as TM_program_file:\n",
    "    for line in TM_program_file:\n",
    "        if line.startswith('#') or line.isspace():\n",
    "            continue\n",
    "        state, symbol, new_state, new_symbol, direction = line.split()\n",
    "        # Simplified syntax, without parentheses for both keys and\n",
    "        # values. The full syntax would be be:\n",
    "        # TM_program[(state, symbol)] = (new_state, new_symbol, direction)\n",
    "        TM_program[state, symbol] = new_state, new_symbol, direction\n",
    "TM_program"
   ]
  },
  {
   "cell_type": "markdown",
   "metadata": {},
   "source": [
    "States and directions are naturally represented as strings. On the other hand, it would be simpler and more natural to represent symbols as the integers `0` and `1`, not as the strings `'0'` and `'1'`, all the more so that `tape` consists of `0`'s and `1`'s, not `'0'`'s and `'1'`'s. One can get the latter from the former with `int()`:"
   ]
  },
  {
   "cell_type": "code",
   "execution_count": null,
   "metadata": {},
   "outputs": [],
   "source": [
    "int('0')\n",
    "int('1')\n",
    "int('17')\n",
    "int('-23')"
   ]
  },
  {
   "cell_type": "markdown",
   "metadata": {},
   "source": [
    "So we can improve our code further as follows:"
   ]
  },
  {
   "cell_type": "code",
   "execution_count": null,
   "metadata": {},
   "outputs": [],
   "source": [
    "TM_program = {}\n",
    "with open('division_by_2.txt') as TM_program_file:\n",
    "    for line in TM_program_file:\n",
    "        if line.startswith('#') or line.isspace():\n",
    "            continue\n",
    "        state, symbol, new_state, new_symbol, direction = line.split()\n",
    "        TM_program[state, int(symbol)] =\\\n",
    "                new_state, int(new_symbol), direction\n",
    "TM_program"
   ]
  },
  {
   "cell_type": "markdown",
   "metadata": {},
   "source": [
    "Now that the program of the TM has been captured in a form that seems appropriate for further use, we can write code to simulate computation. Recall that `tape` represents only a finite section of the tape. As computation progresses, larger and larger sections of the tape are potentially explored, possibly requiring to extend `tape` accordingly, left or right. The widget does this. Here, in order to simplify our task, we assume that `tape` is defined in such a way that it is large enough and contains enough `0`'s at both ends for the head of the TM not to go beyond the section determined by `tape`, for the input under consideration, so there are enough `0`'s left and right of the `1`'s in `tape` that encode the input for all instructions to be executed within `tape`'s boundaries. With this in mind, and knowing how the division by 2 program works, let us set `tape` as follows, so set for an input of 7:"
   ]
  },
  {
   "cell_type": "code",
   "execution_count": null,
   "metadata": {},
   "outputs": [],
   "source": [
    "tape = [0, 0, 0, 1, 1, 1, 1, 1, 1, 1, 0, 0, 0, 0, 0, 0]"
   ]
  },
  {
   "cell_type": "markdown",
   "metadata": {},
   "source": [
    "When computation ends, there should be only 3 consecutive `1`'s in `tape` since $\\lfloor\\frac{7}{2}\\rfloor = 3$. At any stage of the computation, we need to know the current state and the head's current position. Before computation starts, the current state is the initial state, set to `'del1'`:"
   ]
  },
  {
   "cell_type": "code",
   "execution_count": null,
   "metadata": {},
   "outputs": [],
   "source": [
    "current_state = 'del1'"
   ]
  },
  {
   "cell_type": "markdown",
   "metadata": {},
   "source": [
    "The head is supposed to be positioned below the cell of the tape that contains the leftmost 1. The `index()` method of the `str` class makes it easy to determine that position within `tape`:"
   ]
  },
  {
   "cell_type": "code",
   "execution_count": null,
   "metadata": {},
   "outputs": [],
   "source": [
    "current_position = tape.index(1)\n",
    "current_position"
   ]
  },
  {
   "cell_type": "markdown",
   "metadata": {},
   "source": [
    "We know how to find out the contents of the cell which the head is currently positioned under, that is, the current symbol:"
   ]
  },
  {
   "cell_type": "code",
   "execution_count": null,
   "metadata": {},
   "outputs": [],
   "source": [
    "current_symbol = tape[current_position]\n",
    "current_symbol"
   ]
  },
  {
   "cell_type": "markdown",
   "metadata": {},
   "source": [
    "At this stage, is there a (unique) instruction to execute? Yes if and only if `TM_program` has `(current_state, current_symbol)` as one of its keys:"
   ]
  },
  {
   "cell_type": "code",
   "execution_count": null,
   "metadata": {},
   "outputs": [],
   "source": [
    "(current_state, current_symbol) in TM_program.keys()"
   ]
  },
  {
   "cell_type": "markdown",
   "metadata": {},
   "source": [
    "Instead of asking whether a given object is one of the keys of a dictionary, one can more simply ask whether the object is in the dictionary (as a key):"
   ]
  },
  {
   "cell_type": "code",
   "execution_count": null,
   "metadata": {},
   "outputs": [],
   "source": [
    "(current_state, current_symbol) in TM_program"
   ]
  },
  {
   "cell_type": "markdown",
   "metadata": {},
   "source": [
    "One can then retrieve the rest of the instruction, its \"to do\" part:"
   ]
  },
  {
   "cell_type": "code",
   "execution_count": null,
   "metadata": {},
   "outputs": [],
   "source": [
    "new_state, new_symbol, direction = TM_program[current_state, current_symbol]\n",
    "new_state\n",
    "new_symbol\n",
    "direction"
   ]
  },
  {
   "cell_type": "markdown",
   "metadata": {},
   "source": [
    "Executing that instruction means changing `tape[current_symbol]` to `new_symbol` (more precisely, letting `tape[current_symbol]` evaluate to the value that `new_symbol` evaluates to, by letting `tape[current_symbol]` denote the bits in memory that `new_symbol` denotes), changing the current state from `current_state` to `new_state`, changing `current_position` from the value it currently has to that value to plus or minus 1 depending on whether `direction` is `'R'` or `'L'`, respectively, and changing `current_symbol` to the value stored in `tape` at the index which is the new value of `current_position`. We make use of an `if ... then` expression to assign one of two values to `current_position`:"
   ]
  },
  {
   "cell_type": "code",
   "execution_count": null,
   "metadata": {},
   "outputs": [],
   "source": [
    "tape[current_position] = new_symbol\n",
    "current_state = new_state\n",
    "current_position = current_position + 1 if direction == 'R'\\\n",
    "                                        else current_position - 1\n",
    "current_symbol = tape[current_position]\n",
    "\n",
    "tape\n",
    "current_state\n",
    "current_position\n",
    "current_symbol"
   ]
  },
  {
   "cell_type": "markdown",
   "metadata": {},
   "source": [
    "This should be done again and again for as long as there is some instruction to execute, as determined by whether or not `(current_state, current_symbol)` is one of the keys of `TM_program`. To better visualise computation, we can, at every stage of the computation, output a graphical representation of `tape` and below, output the value of `current_state` with its leftmost character right below the symbol in the cell that the head is positioned under. Let us define a function for that purpose:"
   ]
  },
  {
   "cell_type": "code",
   "execution_count": null,
   "metadata": {},
   "outputs": [],
   "source": [
    "def display_current_configuration():\n",
    "    display_tape()\n",
    "    print('  ' * current_position, current_state)"
   ]
  },
  {
   "cell_type": "markdown",
   "metadata": {},
   "source": [
    "Let us start from scratch and check that `display_current_configuration()` works as intended:"
   ]
  },
  {
   "cell_type": "code",
   "execution_count": null,
   "metadata": {},
   "outputs": [],
   "source": [
    "tape = [0, 0, 0, 1, 1, 1, 1, 1, 1, 1, 0, 0, 0, 0, 0, 0]\n",
    "current_state = 'del1'\n",
    "current_position = tape.index(1)\n",
    "current_symbol = tape[current_position]\n",
    "display_current_configuration()"
   ]
  },
  {
   "cell_type": "markdown",
   "metadata": {},
   "source": [
    "Let us now simulate the first 3 stages of the computation:"
   ]
  },
  {
   "cell_type": "code",
   "execution_count": null,
   "metadata": {},
   "outputs": [],
   "source": [
    "new_state, new_symbol, direction =\\\n",
    "        TM_program[current_state, current_symbol]\n",
    "tape[current_position] = new_symbol\n",
    "current_state = new_state\n",
    "current_position = current_position + 1 if direction == 'R'\\\n",
    "                                        else current_position - 1\n",
    "current_symbol = tape[current_position]\n",
    "display_current_configuration()"
   ]
  },
  {
   "cell_type": "code",
   "execution_count": null,
   "metadata": {},
   "outputs": [],
   "source": [
    "new_state, new_symbol, direction =\\\n",
    "        TM_program[current_state, current_symbol]\n",
    "tape[current_position] = new_symbol\n",
    "current_state = new_state\n",
    "current_position = current_position + 1 if direction == 'R'\\\n",
    "                                        else current_position - 1\n",
    "current_symbol = tape[current_position]\n",
    "display_current_configuration()"
   ]
  },
  {
   "cell_type": "code",
   "execution_count": null,
   "metadata": {},
   "outputs": [],
   "source": [
    "new_state, new_symbol, direction =\\\n",
    "        TM_program[current_state, current_symbol]\n",
    "tape[current_position] = new_symbol\n",
    "current_state = new_state\n",
    "current_position = current_position + 1 if direction == 'R'\\\n",
    "                                        else current_position - 1\n",
    "current_symbol = tape[current_position]\n",
    "display_current_configuration()"
   ]
  },
  {
   "cell_type": "markdown",
   "metadata": {},
   "source": [
    "A `while` statement, another kind of loop, lets us execute those 6 statements again and again, for as long as `(current_state, current_symbol)` is one of the keys of `TM_program`:"
   ]
  },
  {
   "cell_type": "code",
   "execution_count": null,
   "metadata": {},
   "outputs": [],
   "source": [
    "tape = [0, 0, 0, 1, 1, 1, 1, 1, 1, 1, 0, 0, 0, 0, 0, 0]\n",
    "current_state = 'del1'\n",
    "current_position = tape.index(1)\n",
    "current_symbol = tape[current_position]\n",
    "display_current_configuration()\n",
    "while (current_state, current_symbol) in TM_program:\n",
    "    new_state, new_symbol, direction =\\\n",
    "            TM_program[current_state, current_symbol]\n",
    "    tape[current_position] = new_symbol\n",
    "    current_state = new_state\n",
    "    current_position = current_position + 1 if direction == 'R'\\\n",
    "                                            else current_position - 1\n",
    "    current_symbol = tape[current_position]\n",
    "    display_current_configuration()"
   ]
  },
  {
   "cell_type": "markdown",
   "metadata": {},
   "source": [
    "Observe the following:"
   ]
  },
  {
   "cell_type": "code",
   "execution_count": null,
   "metadata": {},
   "outputs": [],
   "source": [
    "direction = 'R'\n",
    "direction == 'R'\n",
    "# direction == 'R' evaluates to True, which is then converted to 1\n",
    "# for the arithmetic expression to make sense\n",
    "2 * (direction == 'R') - 1"
   ]
  },
  {
   "cell_type": "code",
   "execution_count": null,
   "metadata": {},
   "outputs": [],
   "source": [
    "direction = 'L'\n",
    "direction == 'R'\n",
    "# direction == 'R' evaluates to False, which is then converted to 0\n",
    "# for the arithmetic expression to make sense\n",
    "2 * (direction == 'R') - 1"
   ]
  },
  {
   "cell_type": "markdown",
   "metadata": {},
   "source": [
    "This allows one to change the simulation loop as follows:"
   ]
  },
  {
   "cell_type": "code",
   "execution_count": null,
   "metadata": {},
   "outputs": [],
   "source": [
    "tape = [0, 0, 0, 1, 1, 0, 0, 0]\n",
    "current_state = 'del1'\n",
    "current_position = tape.index(1)\n",
    "current_symbol = tape[current_position]\n",
    "display_current_configuration()\n",
    "while (current_state, current_symbol) in TM_program:\n",
    "    new_state, new_symbol, direction =\\\n",
    "            TM_program[current_state, current_symbol]\n",
    "    tape[current_position] = new_symbol\n",
    "    current_state = new_state\n",
    "    # Alternative notation for\n",
    "    # current_position = current_position + 2 * (direction == 'R') - 1\n",
    "    current_position += 2 * (direction == 'R') - 1\n",
    "    current_symbol = tape[current_position]\n",
    "    display_current_configuration()"
   ]
  }
 ],
 "metadata": {
  "kernelspec": {
   "display_name": "Python 3 (ipykernel)",
   "language": "python",
   "name": "python3"
  },
  "language_info": {
   "codemirror_mode": {
    "name": "ipython",
    "version": 3
   },
   "file_extension": ".py",
   "mimetype": "text/x-python",
   "name": "python",
   "nbconvert_exporter": "python",
   "pygments_lexer": "ipython3",
   "version": "3.9.7"
  },
  "latex_envs": {
   "LaTeX_envs_menu_present": true,
   "autoclose": false,
   "autocomplete": true,
   "bibliofile": "biblio.bib",
   "cite_by": "apalike",
   "current_citInitial": 1,
   "eqLabelWithNumbers": true,
   "eqNumInitial": 1,
   "hotkeys": {
    "equation": "Ctrl-E",
    "itemize": "Ctrl-I"
   },
   "labels_anchors": false,
   "latex_user_defs": false,
   "report_style_numbering": false,
   "user_envs_cfg": false
  },
  "toc": {
   "base_numbering": 1,
   "nav_menu": {},
   "number_sections": true,
   "sideBar": true,
   "skip_h1_title": false,
   "title_cell": "Table of Contents",
   "title_sidebar": "Contents",
   "toc_cell": false,
   "toc_position": {},
   "toc_section_display": true,
   "toc_window_display": false
  }
 },
 "nbformat": 4,
 "nbformat_minor": 2
}
