{
 "cells": [
  {
   "cell_type": "code",
   "execution_count": null,
   "metadata": {},
   "outputs": [],
   "source": [
    "# Does not need to be executed if\n",
    "# ~/.ipython/profile_default/ipython_config.py\n",
    "# exists and contains:\n",
    "# c.InteractiveShell.ast_node_interactivity = 'all'\n",
    "\n",
    "from IPython.core.interactiveshell import InteractiveShell\n",
    "InteractiveShell.ast_node_interactivity = 'all'"
   ]
  },
  {
   "cell_type": "markdown",
   "metadata": {},
   "source": [
    "An elementary cellular automaton (ECA) determines for each possible sequence of 3 consecutive pixels, say $a$, $b$ and $c$, each of which is either black or white (1 or 0), whether the pixel below $b$ should be black or white. That is 2 possible outcomes for each of the $2^3$ possible sequences of 3 pixels, hence there are $2^{2^3}=256$ elementary cellular automata. The 256 ECAs can be put in one-to-one correspondence with the 256 natural numbers smaller than 256 based on the following coding scheme.\n",
    "\n",
    "Let $E$ be a natural number smaller than 256. Let $\\widehat{E}=e_7e_6e_5e_4e_3e_2e_1e_0$ be this number represented in base 2 as an 8 bit number. For all natural numbers $P$ smaller than 8, let $\\widetilde P=p_2p_1p_0$ be this number represented in base 2 as a 3 bit number. Then $E$ encodes the ECA such that for all $P<8$, the pixel below the middle pixel of $\\widetilde P$ should be $e_P$. For instance:\n",
    "\n",
    "* $\\widehat{0}=00000000$, so 0 encodes the following ECA:\n",
    "\\begin{array}{cccccccc}\n",
    "111 & 110 & 101 & 100 & 011 & 010 & 001 & 000\\\\  \n",
    " 0 & 0 & 0 & 0 & 0 & 0 & 0 & 0\n",
    "\\end{array}\n",
    "* $\\widehat{90}=01011010$, so 90 encodes the following ECA:\n",
    "\\begin{array}{cccccccc}\n",
    "111 & 110 & 101 & 100 & 011 & 010 & 001 & 000\\\\  \n",
    " 0 & 1 & 0 & 1 & 1 & 0 & 1 & 0\n",
    "\\end{array}\n",
    "* $\\widehat{255}=11111111$, so 255 encodes the following ECA:\n",
    "\\begin{array}{cccccccc}\n",
    "111 & 110 & 101 & 100 & 011 & 010 & 001 & 000\\\\  \n",
    " 1 & 1 & 1 & 1 & 1 & 1 & 1 & 1\n",
    "\\end{array}\n",
    "\n",
    "We talk about \"rule $E$\" to refer to the ECA mapped to $E$ by this correspondence.\n",
    "\n",
    "For a better visualisation, let us represent Rule 90 using black and white squares instead of 1s and 0s:\n",
    "\n",
    "\\begin{array}{cccccccc}\n",
    "\\blacksquare\\blacksquare\\blacksquare & \\blacksquare\\blacksquare\\Box & \\blacksquare\\Box\\blacksquare & \\blacksquare\\Box\\Box & \\Box\\blacksquare\\blacksquare & \\Box\\blacksquare\\Box & \\Box\\Box\\blacksquare & \\Box\\Box\\Box\\\\  \n",
    " \\Box & \\blacksquare & \\Box & \\blacksquare & \\blacksquare & \\Box & \\blacksquare & \\Box\n",
    "\\end{array}\n",
    "\n",
    "There are two standard ways to consider the workings of an ECA:\n",
    "\n",
    "* start with a random sequence of black and white pixels, infinite on both sides, or\n",
    "* start with a unique black pixel and on both sides, an infinite sequence of white pixels.\n",
    "\n",
    "The program `elementary_cellular_automata.py` creates a widget that has features for both workings; here we consider the second workings only. In any case, the conditions imposed by an ECA fully determine the infinite sequence of pixels $l_2$ below an infinite sequence of pixels $l_1$, and then fully determine the infinite sequence of pixels $l_3$ below $l_2$, and then fully determine the infinite sequence of pixels $l_4$ below $l_3$... For instance, with Rule 90, the first 8 sequences are as follows (all pixels that are not shown on both sides of all 8 lines are white):\n",
    "\n",
    "\\begin{array}{cccccccc}\n",
    "\\Box\\Box\\Box\\Box\\Box\\Box\\Box\\blacksquare\\Box\\Box\\Box\\Box\\Box\\Box\\Box\\\\\n",
    "\\Box\\Box\\Box\\Box\\Box\\Box\\blacksquare\\Box\\blacksquare\\Box\\Box\\Box\\Box\\Box\\Box\\\\\n",
    "\\Box\\Box\\Box\\Box\\Box\\blacksquare\\Box\\Box\\Box\\blacksquare\\Box\\Box\\Box\\Box\\Box\\\\\n",
    "\\Box\\Box\\Box\\Box\\blacksquare\\Box\\blacksquare\\Box\\blacksquare\\Box\\blacksquare\\Box\\Box\\Box\\Box\\\\\n",
    "\\Box\\Box\\Box\\blacksquare\\Box\\Box\\Box\\Box\\Box\\Box\\Box\\blacksquare\\Box\\Box\\Box\\\\\n",
    "\\Box\\Box\\blacksquare\\Box\\blacksquare\\Box\\Box\\Box\\Box\\Box\\blacksquare\\Box\\blacksquare\\Box\\Box\\\\\n",
    "\\Box\\blacksquare\\Box\\Box\\Box\\blacksquare\\Box\\Box\\Box\\blacksquare\\Box\\Box\\Box\\blacksquare\\Box\\\\\n",
    "\\blacksquare\\Box\\blacksquare\\Box\\blacksquare\\Box\\blacksquare\\Box\\blacksquare\\Box\\blacksquare\\Box\\blacksquare\\Box\\blacksquare\n",
    "\\end{array}\n",
    "\n",
    "It is clear that the picture that results from this process is a cone. More precisely, working with rule $E$ and writing as above $\\widehat{E}=e_7e_6e_5e_4e_3e_2e_1e_0$,\n",
    "\n",
    "* if $e_0=0$ then all all pixels around the cone are white;\n",
    "* if $e_0=1$ and $e_7=1$ then all all pixels around the cone are black (except for the first line of course);\n",
    "* if $e_0=1$ and $e_7=0$ then successive lines around the cone alternate between all white and all black.\n",
    "\n",
    "Our aim is to write code to draw a similar kind of picture as the one above, for any ECA, encoded as an integer between 0 and 255 (the widget also accepts 8 consecutive 0s and 1s). To capture the encoded ECA, we first define a function, `decoded_rule()`, meant to take an integer whose value is a natural number $E$ smaller than 256 as argument and return a dictionary whose keys are triples of `0`s and `1`s with an associated value of `0` or `1` as determined by rule $E$. For instance, with rule 90, the dictionary would be `{(1, 1, 1): 0, (1, 1, 0): 1, (1, 0, 1): 0, (1, 0, 0): 1, (0, 1, 1): 1, (0, 1, 0): 0, (0, 0, 1): 1, (0, 0, 0): 0}`.\n",
    "\n",
    "An integer can be represented as a string in any of bases 2, 8, 10 (the default), or 16, with two variants for base 16 to use either lowercase or uppercase letters for the \"digits\" 10 up to 15:"
   ]
  },
  {
   "cell_type": "code",
   "execution_count": null,
   "metadata": {},
   "outputs": [],
   "source": [
    "# b: binary\n",
    "# o: octal\n",
    "# x or X: hexadecimal\n",
    "f'90', f'{90:b}', f'{90:o}', f'{90:x}', f'{90:X}'"
   ]
  },
  {
   "cell_type": "markdown",
   "metadata": {},
   "source": [
    "Formatting allows one to possibly pad either spaces or `0`s to the left of the integer representation to make sure the field width has a minimal value:"
   ]
  },
  {
   "cell_type": "code",
   "execution_count": null,
   "metadata": {},
   "outputs": [],
   "source": [
    "# A field width of 6 at least, padding with spaces if needed\n",
    "f'{90:6}', f'{90:6b}', f'{90:6o}', f'{90:6x}', f'{90:6X}'\n",
    "# A field width of 6 at least, padding with 0s if needed\n",
    "f'{90:06}', f'{90:06b}', f'{90:06o}', f'{90:06x}', f'{90:06X}'"
   ]
  },
  {
   "cell_type": "markdown",
   "metadata": {},
   "source": [
    "When formatting integers, padding is to the left, which corresponds to a right alignment. This is also the default when formatting floating point numbers, whereas strings are left aligned by default. In any case, we can use `<`, `^` or `>` just after `:` in the format specification to left align, centre align or right align the value, respectively. Moreover, `0` can be used in the format specifier in combination with `<`, `^` or `>` when formatting integers, floating point numbers or strings, but without `<`, `^` or `>` only when formatting integers or floating point numbers as it implies that the padding `0`s, if any, are inserted to the right of the `+` or `-` sign, if any, which makes sense for numbers but not for strings:"
   ]
  },
  {
   "cell_type": "code",
   "execution_count": null,
   "metadata": {},
   "outputs": [],
   "source": [
    "# A field width of 8 at least, padding with spaces if needed,\n",
    "# with a left, centre, right or default alignment\n",
    "f'{-90:<8}', f'{-90:^8}', f'{-90:>8}', f'{-90:8}'\n",
    "f'{-90.:<8}', f'{-90.:^8}', f'{-90.:>8}', f'{-90.:8}'\n",
    "f'{\"-90\":<8}', f'{\"-90\":^8}', f'{\"-90\":>8}', f'{\"-90\":8}'\n",
    "\n",
    "# A field width of 8 at least, padding with 0s if needed,\n",
    "# with a left, centre, right or default alignment, the latter\n",
    "# being applicable only when formatting numbers as the 0 format\n",
    "# specifier then requires that the 0s be padded to the right of\n",
    "# the + or - sign, if any.\n",
    "f'{-90:<08}', f'{-90:^08}', f'{-90:>08}', f'{-90:08}'\n",
    "f'{-90.:<08}', f'{-90.:^08}', f'{-90.:>08}', f'{-90.:08}'\n",
    "f'{\"-90\":<08}', f'{\"-90\":^08}', f'{\"-90\":>08}' # f'{\"-90\":08}' is illegal"
   ]
  },
  {
   "cell_type": "markdown",
   "metadata": {},
   "source": [
    "So the list of 8 bits that define a rule is easy to get by formatting the rule number in binary with a field width of 8 within a list comprehension:"
   ]
  },
  {
   "cell_type": "code",
   "execution_count": null,
   "metadata": {},
   "outputs": [],
   "source": [
    "[int(d) for d in f'{90:08b}']"
   ]
  },
  {
   "cell_type": "markdown",
   "metadata": {},
   "source": [
    "To generate the keys, we could use the same technique, first formatting all natural numbers smaller than 8 in binary with a field width of 3:"
   ]
  },
  {
   "cell_type": "code",
   "execution_count": null,
   "metadata": {},
   "outputs": [],
   "source": [
    "for i in range(8):\n",
    "    print(f'{i:03b}')"
   ]
  },
  {
   "cell_type": "markdown",
   "metadata": {},
   "source": [
    "Getting a string of characters from a number, and then a list of digits from the string, is not the best approach. Note that if $n$ is a natural number, then integer division of $n$ by 10 shifts all digits in the decimal representation of $n$ by one, \"losing\" the rightmost one in the process, equal to $n$ modulo 10.\n",
    "\n",
    "A syntactic digression is necessary to properly read the code fragment that follows. An identifier can start with an underscore, and it can even just consist of an underscore. It is good practice to use `_` in a statement of the form `for _ in range(n): ...` to indicate that the code loops `n` many times, as opposed to a statement of the form `for i in range(n): ...` where all values between 0 and `n` minus 1 are generated and assigned to `i`, which is then used in one way or another in the body of the loop. We make use of this convention to illustrate the previous observation:"
   ]
  },
  {
   "cell_type": "code",
   "execution_count": null,
   "metadata": {},
   "outputs": [],
   "source": [
    "n = 21078\n",
    "print(n); print()\n",
    "for _ in range(7):\n",
    "    n, d = divmod(n, 10)\n",
    "    print(n, d)"
   ]
  },
  {
   "cell_type": "markdown",
   "metadata": {},
   "source": [
    "More generally, if $n$ and $k$ are natural numbers, then dividing $n$ by $10^k$ shifts all digits in the decimal representation of $n$ by $k$, \"losing\" the $k$ rightmost ones in the process, which make up the number $n$ modulo $10^k$:"
   ]
  },
  {
   "cell_type": "code",
   "execution_count": null,
   "metadata": {},
   "outputs": [],
   "source": [
    "n = 16503421078003459\n",
    "print(n); print()\n",
    "for _ in range(7):\n",
    "    n, d = divmod(n, 1_000)\n",
    "    print(n, d)"
   ]
  },
  {
   "cell_type": "markdown",
   "metadata": {},
   "source": [
    "Similarly, if $n$ is a natural number, then integer division of $n$ by 2 shifts all digits in the binary representation of $n$ by one, \"losing\" the rightmost one in the process, equal to $n$ modulo 2:"
   ]
  },
  {
   "cell_type": "code",
   "execution_count": null,
   "metadata": {},
   "outputs": [],
   "source": [
    "n = 214\n",
    "print(f'{n:b}'); print()\n",
    "for _ in range(9):\n",
    "    n, d = divmod(n, 2)\n",
    "    print(f'{n:b} {d:b}')"
   ]
  },
  {
   "cell_type": "markdown",
   "metadata": {},
   "source": [
    "More generally, if $n$ and $k$ are natural numbers, then dividing $n$ by $2^k$ shifts all digits in the binary representation of $n$ by $k$, \"losing\" the $k$ rightmost ones in the process, which make up the number $n$ modulo $2^k$:"
   ]
  },
  {
   "cell_type": "code",
   "execution_count": null,
   "metadata": {},
   "outputs": [],
   "source": [
    "n = 2345678\n",
    "print(f'{n:b}'); print()\n",
    "for _ in range(9):\n",
    "    n, d = divmod(n, 8)\n",
    "    print(f'{n:b} {d:b}')"
   ]
  },
  {
   "cell_type": "markdown",
   "metadata": {},
   "source": [
    "So the keys of the dictionary that `decoded_rule()` should return can be generated as follows:"
   ]
  },
  {
   "cell_type": "code",
   "execution_count": null,
   "metadata": {},
   "outputs": [],
   "source": [
    "for p in range(8):\n",
    "    p // 4, p // 2 % 2, p % 2"
   ]
  },
  {
   "cell_type": "markdown",
   "metadata": {},
   "source": [
    "Putting it all together, with the help of a __dictionary comprehension__:"
   ]
  },
  {
   "cell_type": "code",
   "execution_count": null,
   "metadata": {},
   "outputs": [],
   "source": [
    "def record_rule(E):\n",
    "    values = [int(d) for d in f'{E:08b}']\n",
    "    return {(p // 4, p // 2 % 2, p % 2): values[7 - p] for p in range(8)}\n",
    "\n",
    "# As Rule 90 is symmetric, had we written values[p]\n",
    "# instead of values[7 - p], we would not see the mistake.\n",
    "record_rule(90)\n",
    "record_rule(41)"
   ]
  },
  {
   "cell_type": "markdown",
   "metadata": {},
   "source": [
    "Rather than displaying lines of `0`s and `1`s, it is preferable to take advantage of the Unicode character set and instead, display lines of white and black squares. The Unicode character set considerably extends the ASCII character set. A Unicode character has a code point, a natural number which when it is smaller than 128, is the ASCII code of an ASCII character. The `ord()` function returns the code point of the (string consisting of the unique) character provided as argument:"
   ]
  },
  {
   "cell_type": "code",
   "execution_count": null,
   "metadata": {},
   "outputs": [],
   "source": [
    "ord('+')\n",
    "ord('⬛')\n",
    "ord('😋')"
   ]
  },
  {
   "cell_type": "markdown",
   "metadata": {},
   "source": [
    "Conversely, the `chr()` function takes an integer whose value is a natural number $n$ as argument and returns the character with $n$ as code point:"
   ]
  },
  {
   "cell_type": "code",
   "execution_count": null,
   "metadata": {},
   "outputs": [],
   "source": [
    "chr(43)\n",
    "chr(11035)\n",
    "chr(128523)"
   ]
  },
  {
   "cell_type": "markdown",
   "metadata": {},
   "source": [
    "Code points are more often represented in base 16. More generally, integer literals can use either binary, octal, decimal, or hexadecimal representations:"
   ]
  },
  {
   "cell_type": "code",
   "execution_count": null,
   "metadata": {},
   "outputs": [],
   "source": [
    "# 0b, 0o, and either 0x or 0X, are prefixes\n",
    "# for base 2, 8, and 16, respectively.\n",
    "# 43 in base 2, 8, 10, and 16\n",
    "0b101011, 0o53, 43, 0X2b\n",
    "# 11035 in base 2, 8, 10, and 16\n",
    "0b10101100011011, 0o25433, 11035, 0x2b1b\n",
    "# 128523 in base 2, 8, 10, and 16\n",
    "0b11111011000001011, 0o373013, 128523, 0x1F60B"
   ]
  },
  {
   "cell_type": "markdown",
   "metadata": {},
   "source": [
    "When written in base 16, code points are at most 8 hexadecimal digits long. A character whose code point has at least 5 hexadecimal digits has one Unicode string representation that starts with `\\U`, followed by 8 hexadecimal digits (leading `0`s are used when needed):"
   ]
  },
  {
   "cell_type": "code",
   "execution_count": null,
   "metadata": {},
   "outputs": [],
   "source": [
    "'\\U0001f60b'"
   ]
  },
  {
   "cell_type": "markdown",
   "metadata": {},
   "source": [
    "A character whose code point has at most 4 hexadecimal digits has two Unicode string representations; one that starts with `\\u` followed by 4 hexadecimal digits, another that starts with `\\U` followed by 8 hexadecimal digits (in both cases, leading `0`s are used when needed):"
   ]
  },
  {
   "cell_type": "code",
   "execution_count": null,
   "metadata": {},
   "outputs": [],
   "source": [
    "'\\u002B', '\\U0000002B'\n",
    "'\\u2b1b', '\\U00002b1b'"
   ]
  },
  {
   "cell_type": "markdown",
   "metadata": {},
   "source": [
    "String representations can also start with `\\N` followed by the character name (all of whose letters can be either lowercase or uppercase) surrounded by curly braces:"
   ]
  },
  {
   "cell_type": "code",
   "execution_count": null,
   "metadata": {},
   "outputs": [],
   "source": [
    "'\\N{plus sign}'\n",
    "'\\N{Black Large Square}'\n",
    "'\\N{FACE SAVOURING DELICIOUS FOOD}'"
   ]
  },
  {
   "cell_type": "markdown",
   "metadata": {},
   "source": [
    "Recall that we want to draw a segment of a line $l$ determined by the workings of an ECA, starting with a line with a single black pixel and infinitely many white pixels on both sides. We now define a function, `display_line()`, that can fill this purpose. There are three arguments to `display_line()`:\n",
    "\n",
    "* The first argument is denoted by `bit_sequence` and meant to take as value a tuple that represents the pixels on that part of $l$ that intersects the cone determined by the workings of the ECA. For instance, with Rule 90, for the first four lines, `bit_sequence` takes the values `(1,)`, `(1, 0, 1)`, `(1, 0, 0, 0, 1)`, `(1, 0, 0, 0, 1)` and `(1, 0, 1, 0, 1, 0, 1)`, respectively.\n",
    "* The second argument is denoted by `end_bit` and meant to take the value `0` or `1` and represent the pixel outside the cone on $l$. For instance, with Rule 90, it is `0`.\n",
    "* The third argument is denoted by `nb_of_end_bits` and meant to take as value a natural number, possibly equal to 0, that represents the number of times we want to display the pixel outside the cone on $l$, on each side.\n",
    "\n",
    "`display_line()` makes use of an auxiliary function to display the pixel outside the cone; it calls it twice, one for each side of the cone. It also makes use of the fact that the unicode strings `'\\u2b1c'` and `'\\u2b1b'` depict white and black squares, respectively:"
   ]
  },
  {
   "cell_type": "code",
   "execution_count": null,
   "metadata": {},
   "outputs": [],
   "source": [
    "def display_end_squares(end_square, nb_of_end_squares):\n",
    "    print(end_square * nb_of_end_squares, end='')\n",
    "\n",
    "def display_line(bit_sequence, end_bit, nb_of_end_bits):\n",
    "    squares = {0: '\\u2b1c', 1: '\\u2b1b'}\n",
    "    display_end_squares(squares[end_bit], nb_of_end_bits)\n",
    "    print(''.join(squares[b] for b in bit_sequence), end='')\n",
    "    display_end_squares(squares[end_bit], nb_of_end_bits)\n",
    "    print()\n",
    "    \n",
    "display_line((1, 0, 1, 0, 1, 0, 1), 0, 4)\n",
    "display_line((1, 0, 1, 0, 1, 0, 1, 0, 1, 0, 1, 0, 1, 0, 1), 0, 0)"
   ]
  },
  {
   "cell_type": "markdown",
   "metadata": {},
   "source": [
    "With `record_rule()` and `display_line()` in hand, not much is left to complete our task of drawing the segments of the first few lines of pixels as determined by the workings of an ECA starting with a line consisting of nothing but white pixels, with the exception of a single black pixel. The function `display_ECA()` takes two arguments. The first one is denoted by `rule_nb` and meant to take as value the natural number smaller than 256 that encodes the ECA we want to work with. The second one is denoted by `size` and meant to take as value the number of white pixels to display on both sides of the black pixel in the middle of the first line segment; hence the first line segment consists of `2 * size + 1` many pixels. The function `display_ECA()` will draw `size + 1` many line segments: that way, the last line segment will span from left to right boundaries of the cone, whereas the penultimate line segment will have one pixel outside the cone on both sides, the second last line segment will have two pixels outside the cone on both sides, etc.\n",
    "\n",
    "At any stage, `new_line` will denote a tuple representing the sequence of pixels that make up a given line segment spanning from left to right boundaries of the cone, and `end_bit` will represent the pixel outside the cone (always equal to 0 for Rule 90). In order to determine the next line segment from the current one, we add two copies of `end_bit` at the beginning of `new_line`, and two copies of `end_bit` at the end, making up `current_line`. So:\n",
    "\n",
    "* `current_line[0]`, `current_line[1]` and `current_line[2]` evaluate to the pixel outside the cone for the first two, and the pixel on the left boundary of the cone for the third one, and determine the pixel on the left boundary of the cone on the next line.\n",
    "* `current_line[-3]`, `current_line[-2]` and `current_line[-1]` evaluate to the pixel outside the cone for the last two, and the pixel on the right boundary of the cone for the first one, and determine the pixel on the right boundary of the cone on the next line.\n",
    "* As `end_bit` evaluates to the pixel outside the cone, `(end_bit, end_bit, end_bit)` determines the pixel outside the cone on the next line."
   ]
  },
  {
   "cell_type": "code",
   "execution_count": null,
   "metadata": {},
   "outputs": [],
   "source": [
    "def display_ECA(rule_nb, size):\n",
    "    bit_below = record_rule(rule_nb)\n",
    "    new_line = [1]\n",
    "    end_bit = 0\n",
    "    display_line(new_line, end_bit, size)\n",
    "    for n in range(size):\n",
    "        current_line = [end_bit] * 2 + new_line + [end_bit] * 2\n",
    "        new_line = [bit_below[current_line[i], current_line[i + 1],\n",
    "                              current_line[i + 2]\n",
    "                             ] for i in range(len(current_line) - 2)\n",
    "                   ]\n",
    "        end_bit = bit_below[end_bit, end_bit, end_bit]\n",
    "        display_line(new_line, end_bit, size - n - 1)"
   ]
  },
  {
   "cell_type": "markdown",
   "metadata": {},
   "source": [
    "Rule 90 is an example where the outside of the cone consists of nothing but white pixels:"
   ]
  },
  {
   "cell_type": "code",
   "execution_count": null,
   "metadata": {},
   "outputs": [],
   "source": [
    "display_ECA(90, 7)"
   ]
  },
  {
   "cell_type": "markdown",
   "metadata": {},
   "source": [
    "Rule 107 is an example where outside the cone, black and white half-infinite lines alternate:"
   ]
  },
  {
   "cell_type": "code",
   "execution_count": null,
   "metadata": {},
   "outputs": [],
   "source": [
    "display_ECA(107, 12)"
   ]
  },
  {
   "cell_type": "markdown",
   "metadata": {},
   "source": [
    "Rule 149 is an example where the outside of the cone consists of nothing but black pixels, except for the first line of course:"
   ]
  },
  {
   "cell_type": "code",
   "execution_count": null,
   "metadata": {},
   "outputs": [],
   "source": [
    "display_ECA(149, 18)"
   ]
  },
  {
   "cell_type": "markdown",
   "metadata": {},
   "source": [
    "Though there are 256 ECA's, only a quarter are really different due to symmetries. The _mirrored rule_ of a rule exhibits vertical symmetry: given three pixels $p_0$, $p_1$ and $p_2$, the pixel imposed by a rule $E$ below the middle pixel of $p_0p_1p_2$ is the pixel imposed by the mirrored rule of rule $E$ below the middle pixel of $p_2p_1p_0$. Rule 90 exhibits vertical symmetry, hence it is its own mirrored rule.\n",
    "\n",
    " Let us define a function, `mirrored_rule()`, meant to get a rule as argument and return its mirrored rule. Given $E<256$, and writing the representation of $E$ in base 2 as the 8 bit number $e_7e_6e_5e_4e_3e_2e_1e_0$, the mirrored rule of $E$ is then $e_7e_3e_5e_1e_6e_2e_4e_0$, as reflected by the correspondence between\n",
    "\\begin{array}{cccccccc}\n",
    "111 & 110 & 101 & 100 & 011 & 010 & 001 & 000 \n",
    "\\end{array}\n",
    "and\n",
    "\\begin{array}{cccccccc}\n",
    "111 & 011 & 101 & 001 & 110 & 010 & 100 & 000\n",
    "\\end{array}\n",
    "`mirrored_rule()` could generate from its argument `E` the formatted string `f'{E:08b}'`, say `s`, then create the new string `''.join((s[0], s[4], s[2], s[6], s[1], s[5], s[3], s[7]))`, and convert the latter into an integer. By default, `int()` converts a string that represents an integer in base 10, but it can also accept representations for other bases:"
   ]
  },
  {
   "cell_type": "code",
   "execution_count": null,
   "metadata": {},
   "outputs": [],
   "source": [
    "# With 0 as second argument, interpret the base from the literal\n",
    "int('0b101011', 0), int('43', 0), int('0o53', 0), int('0X2b', 0)\n",
    "int('101011', 2), int('0b101011', 2)\n",
    "int('1121', 3)\n",
    "int('223', 4)\n",
    "int('133', 5)\n",
    "int('53', 8), int('0o53', 8),\n",
    "int('2b', 16), int('0X2b', 16)\n",
    "# 36 is the largest base\n",
    "int('17', 36)\n",
    "int('z', 36), int('Z', 36)"
   ]
  },
  {
   "cell_type": "markdown",
   "metadata": {},
   "source": [
    "Let us still not \"hardcode\" the sequence of bits as `(s[0], s[4], s[2], s[6], s[1], s[5], s[3], s[7])`, but generate it. Let us first examine the `sorted()` function. By default, `sorted()` returns the list of members of its argument in their default order:"
   ]
  },
  {
   "cell_type": "code",
   "execution_count": null,
   "metadata": {},
   "outputs": [],
   "source": [
    "sorted([2, -2, 1, -1, 0])\n",
    "# Lexicographic/lexical/dictionary/alphabetic order\n",
    "# Uppercase letters precede lowercase letters in the ASCII,\n",
    "# hence in the Unicode, character set\n",
    "sorted(('a', 'b', 'ab', 'bb', 'abc', 'C'))\n",
    "sorted({(2, 1, 0), (0, 1, 2), (1, 2, 0), (1, 0, 2)})"
   ]
  },
  {
   "cell_type": "markdown",
   "metadata": {},
   "source": [
    "`sorted()` has the `reverse` keyword-only parameter:"
   ]
  },
  {
   "cell_type": "code",
   "execution_count": null,
   "metadata": {},
   "outputs": [],
   "source": [
    "sorted([2, -2, 1, -1, 0], reverse=True)\n",
    "sorted(('a', 'b', 'ab', 'bb', 'abc', 'C'), reverse=True)\n",
    "sorted({(2, 1, 0), (0, 1, 2), (1, 2, 0), (1, 0, 2)}, reverse=True)"
   ]
  },
  {
   "cell_type": "markdown",
   "metadata": {},
   "source": [
    "`sorted()` also has the `key` keyword-only parameter, for an argument which should evaluate to a __callable__, e.g., a function. The callable is called on all elements of the collection to sort, and elements are sorted in the natural order of the values it returns:"
   ]
  },
  {
   "cell_type": "code",
   "execution_count": null,
   "metadata": {},
   "outputs": [],
   "source": [
    "sorted([2, -2, 1, -1, 0], key=abs)\n",
    "sorted(('a', 'b', 'ab', 'bb', 'abc', 'C'), key=str.lower)\n",
    "sorted(('a', 'b', 'ab', 'bb', 'abc', 'C'), key=len)"
   ]
  },
  {
   "cell_type": "markdown",
   "metadata": {},
   "source": [
    "We can also set `key` to an own defined function:"
   ]
  },
  {
   "cell_type": "code",
   "execution_count": null,
   "metadata": {},
   "outputs": [],
   "source": [
    "def _2_0_1(s):\n",
    "    return s[2], s[0], s[1]\n",
    "\n",
    "def _2_1_0(s):\n",
    "    return s[2], s[1], s[0]\n",
    "\n",
    "sorted({(2, 1, 0), (0, 1, 2), (1, 2, 0), (1, 0, 2)}, key=_2_0_1)\n",
    "sorted({(2, 1, 0), (0, 1, 2), (1, 2, 0), (1, 0, 2)}, key=_2_1_0)    "
   ]
  },
  {
   "cell_type": "markdown",
   "metadata": {},
   "source": [
    "So we could generate the sequence (0, 4, 2, 6, 1, 5, 3, 7) as follows:"
   ]
  },
  {
   "cell_type": "code",
   "execution_count": null,
   "metadata": {},
   "outputs": [],
   "source": [
    "def three_two_one(p):\n",
    "    return p % 2, p // 2 % 2, p // 4\n",
    "\n",
    "for p in sorted(range(8), key=three_two_one):\n",
    "    p, f'{p:03b}'"
   ]
  },
  {
   "cell_type": "markdown",
   "metadata": {},
   "source": [
    "There is a better way, using a __lambda expression__. Lambda expressions offer a concise way to define functions, that do not need to be named:"
   ]
  },
  {
   "cell_type": "code",
   "execution_count": null,
   "metadata": {},
   "outputs": [],
   "source": [
    "# Functions taking no argument, so returning a constant\n",
    "f = lambda: 3; f()\n",
    "(lambda: (1, 2, 3))()"
   ]
  },
  {
   "cell_type": "code",
   "execution_count": null,
   "metadata": {},
   "outputs": [],
   "source": [
    "# Functions, the first of which is identity, taking one argument\n",
    "f = lambda x: x; f(3)\n",
    "(lambda x: 2 * x + 1)(3)"
   ]
  },
  {
   "cell_type": "code",
   "execution_count": null,
   "metadata": {},
   "outputs": [],
   "source": [
    "# Functions taking two arguments\n",
    "f = lambda x, y: 2 * (x + y); f(3, 7)\n",
    "(lambda x, y: x + y)([1, 2, 3], [4, 5, 6])"
   ]
  },
  {
   "cell_type": "markdown",
   "metadata": {},
   "source": [
    "Putting everything together, we can define `mirrored_rule()` as follows:"
   ]
  },
  {
   "cell_type": "code",
   "execution_count": null,
   "metadata": {},
   "outputs": [],
   "source": [
    "def mirrored_rule(E):\n",
    "    return int(''.join(f'{E:08b}'[i] for i in sorted(\n",
    "                        range(8), key=lambda i: (i % 2, i // 2 % 2, i // 4)\n",
    "                                                    )  \n",
    "                      ), 2\n",
    "              )\n",
    "\n",
    "mirrored_rule(90)\n",
    "mirrored_rule(107)\n",
    "mirrored_rule(149)"
   ]
  },
  {
   "cell_type": "markdown",
   "metadata": {},
   "source": [
    "Another symmetry between ECAs emerges by exchanging all 0s to 1s and all 1s to 0s. This maps rules to their _complementaries_. For instance, the complementary of rule 90, represented as\n",
    "\n",
    "\\begin{array}{cccccccc}\n",
    "111 & 110 & 101 & 100 & 011 & 010 & 001 & 000\\\\  \n",
    " 0 & 1 & 0 & 1 & 1 & 0 & 1 & 0\n",
    "\\end{array}\n",
    "\n",
    "is represented as\n",
    "\n",
    "\\begin{array}{cccccccc}\n",
    "000 & 001 & 010 & 011 & 100 & 101 & 110 & 111\\\\  \n",
    " 1 & 0 & 1 & 0 & 0 & 1 & 0 & 1\n",
    "\\end{array}\n",
    "\n",
    "hence is the rule whose binary representation is 10100101 (10100101 read from right to left), hence is rule 165. Let us define a function, `complementary_rule()`, meant to get a rule as argument and return its complementary rule:"
   ]
  },
  {
   "cell_type": "code",
   "execution_count": null,
   "metadata": {},
   "outputs": [],
   "source": [
    "def complementary_rule(E):\n",
    "    return int(''.join({'0': '1', '1': '0'}[c] for c in reversed(f'{E:08b}')\n",
    "                      ), 2\n",
    "              )\n",
    "\n",
    "complementary_rule(90)\n",
    "complementary_rule(107)\n",
    "complementary_rule(149)"
   ]
  },
  {
   "cell_type": "markdown",
   "metadata": {},
   "source": [
    "A rule can be its own mirror, or its own complementary, but it cannot be both. For most rules, the rule itself, and its mirror, and its complementary, are all different, exhibiting minimum symmetry:"
   ]
  },
  {
   "cell_type": "code",
   "execution_count": null,
   "metadata": {},
   "outputs": [],
   "source": [
    "display_ECA(60, 15)\n",
    "print()\n",
    "display_ECA(mirrored_rule(60), 15)\n",
    "print()\n",
    "display_ECA(complementary_rule(60), 15)\n",
    "print()\n",
    "display_ECA(complementary_rule(mirrored_rule(60)), 15)"
   ]
  }
 ],
 "metadata": {
  "kernelspec": {
   "display_name": "Python 3 (ipykernel)",
   "language": "python",
   "name": "python3"
  },
  "language_info": {
   "codemirror_mode": {
    "name": "ipython",
    "version": 3
   },
   "file_extension": ".py",
   "mimetype": "text/x-python",
   "name": "python",
   "nbconvert_exporter": "python",
   "pygments_lexer": "ipython3",
   "version": "3.9.7"
  },
  "latex_envs": {
   "LaTeX_envs_menu_present": true,
   "autoclose": false,
   "autocomplete": true,
   "bibliofile": "biblio.bib",
   "cite_by": "apalike",
   "current_citInitial": 1,
   "eqLabelWithNumbers": true,
   "eqNumInitial": 1,
   "hotkeys": {
    "equation": "Ctrl-E",
    "itemize": "Ctrl-I"
   },
   "labels_anchors": false,
   "latex_user_defs": false,
   "report_style_numbering": false,
   "user_envs_cfg": false
  },
  "toc": {
   "base_numbering": 1,
   "nav_menu": {},
   "number_sections": true,
   "sideBar": true,
   "skip_h1_title": false,
   "title_cell": "Table of Contents",
   "title_sidebar": "Contents",
   "toc_cell": false,
   "toc_position": {},
   "toc_section_display": true,
   "toc_window_display": false
  }
 },
 "nbformat": 4,
 "nbformat_minor": 2
}
