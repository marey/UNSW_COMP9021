{
 "cells": [
  {
   "cell_type": "code",
   "execution_count": null,
   "metadata": {},
   "outputs": [],
   "source": [
    "# Does not need to be executed if\n",
    "# ~/.ipython/profile_default/ipython_config.py\n",
    "# exists and contains:\n",
    "# get_config().InteractiveShell.ast_node_interactivity = 'all'\n",
    "\n",
    "from IPython.core.interactiveshell import InteractiveShell\n",
    "InteractiveShell.ast_node_interactivity = 'all'"
   ]
  },
  {
   "cell_type": "code",
   "execution_count": null,
   "metadata": {
    "init_cell": true
   },
   "outputs": [],
   "source": [
    "from math import log10\n",
    "from numbers import Real"
   ]
  },
  {
   "cell_type": "markdown",
   "metadata": {},
   "source": [
    "### Borrowing or saving money"
   ]
  },
  {
   "cell_type": "markdown",
   "metadata": {},
   "source": [
    "We consider the situation where Jane has an initial sum of $S_0$ in her account, and at regular intervals, adds to that account a positive or negative amount (so in effect, adds to or removes money from that account), say $\\Delta$, with an interest of $r$ applying to the time period between two successive operations. For $i$ a strictly positive integer, let $S_i$ denote the sum in Jane's account after $i$ time periods. Then we have for all $i\\in\\mathbf N$:\n",
    "\n",
    "\\begin{equation}\\label{eq}\n",
    "S_i=S_0(1+r)^i + \\Delta\\Sigma_{j=0}^{i-1}(1+r)^j\n",
    "\\end{equation}\n",
    "\n",
    "as we immediately verify by induction: (\\ref{eq}) trivially holds for $i=0$, and given $i\\in\\mathbf N$, if (\\ref{eq}) holds for $i$ then \n",
    "\n",
    "\\begin{equation*}\n",
    "S_{i+1}=S_i(1+r) + \\Delta=\\bigl(S_0(1+r)^i + \\Delta\\Sigma_{j=0}^{i-1}(1+r)^j\\bigr)(1+r) + \\Delta=S_0(1+r)^{i+1} + \\Delta\\Sigma_{j=1}^i(1+r)^j + \\Delta=S_0(1+r)^{i+1} + \\Delta\\Sigma_{j=0}^i(1+r)^j\n",
    "\\end{equation*}"
   ]
  },
  {
   "cell_type": "markdown",
   "metadata": {},
   "source": [
    "#### Saving"
   ]
  },
  {
   "cell_type": "markdown",
   "metadata": {},
   "source": [
    "In the case of an investment, then $\\Delta$ is equal to $S_0$ and operations happen once a year. Assuming that after $N$ years, Jane can close her account and decides to do so, then she would not add the last amount of $\\Delta$, so the final amount, the sum eventually available to her, say $S$, would be:\n",
    "\n",
    "\\begin{equation*}\n",
    "S=S_N-\\Delta=\\Delta(1+r)^N + \\Delta\\Sigma_{j=0}^{N-1}(1+r)^j-\\Delta=\\Delta\\Sigma_{j=1}^N(1+r)^j=\\frac{\\Delta}{r}\\bigl((1+r)^{N+1}-(1+r)\\bigr)\n",
    "\\end{equation*}\n",
    "\n",
    "We therefore have the following equations:\n",
    "\n",
    "* $S = \\frac{\\Delta}{r}\\bigl((1+r)^{N+1}-(1+r)\\bigr)$\n",
    "* $\\displaystyle\\Delta = \\frac{Sr}{(1+r)^{N+1}-(1+r)}$\n",
    "* $\\displaystyle N=\\frac{\\log_{10}\\Bigl(\\bigl(\\frac{Sr}{\\Delta}+(1+r)\\bigr)\\Bigr)}{\\log_{10}(1+r)} - 1$"
   ]
  },
  {
   "cell_type": "markdown",
   "metadata": {},
   "source": [
    "#### Borrowing"
   ]
  },
  {
   "cell_type": "markdown",
   "metadata": {},
   "source": [
    "In the case of a loan over $N$ years, the operations happen once a month, and the final sum eventually becomes 0:\n",
    "\n",
    "\\begin{equation*}\n",
    "0=S_{12N}=S_0(1+r)^{12N} + \\Delta\\Sigma_{j=0}^{12(N-1)}(1+r)^j=S_0(1+r)^{12N}+\\frac{\\Delta}{r}\\bigl((1+r)^{12N}-1\\bigr)\n",
    "\\end{equation*}\n",
    "\n",
    "We therefore have the following equations:\n",
    "\n",
    "* $\\displaystyle S_0=-\\frac{\\Delta\\bigl((1+r)^{12N}-1\\bigr)}{r(1+r)^{12N}}$\n",
    "* $\\displaystyle\\Delta = -\\frac{S_0(1+r)^{12N}r}{(1+r)^{12N}-1}$\n",
    "* $\\displaystyle N=\\frac{\\log_{10}(\\frac{\\Delta}{rS_0+\\Delta})}{12\\log_{10}(1+r)}$"
   ]
  },
  {
   "cell_type": "markdown",
   "metadata": {},
   "source": [
    "#### Effective interest rate"
   ]
  },
  {
   "cell_type": "markdown",
   "metadata": {},
   "source": [
    "Let $R$ be the annual interest rate. First a period, year, semester, quarter or month, is chosen. Let $d$ be 1, 2, 4 or 12, respectively (note that 1, 2, 4 and 12 are the number of years, semesters, quarters and months in a year, respectively). The interest rate is first reduced to $R/d$ and declared to be the interest for the chosen period, that is, the interest that has to be paid at the end of that period. This corresponds to an effective interest rate for the year, say $\\widetilde{R}$, equal to $(1+R/d)^d-1$, which corresponds to an effective interest rate for the month equal to the number $\\widehat{R}$ such that $(1+\\widehat{R})^{12}=1+\\widetilde{R}$, yielding $\\widehat{R}=(1+\\widetilde{R})^{\\frac{1}{12}}-1$.\n",
    "\n",
    "* For savings, $r=\\widetilde{R}$, which is all the more advantageous to Jane that $d$ is larger.\n",
    "* For loans, $r=\\widehat{R}$, which is all the more advantageous to Jane that $d$ is smaller."
   ]
  },
  {
   "cell_type": "markdown",
   "metadata": {},
   "source": [
    "### Design and implementation"
   ]
  },
  {
   "cell_type": "markdown",
   "metadata": {},
   "source": [
    "Let us create three classes, `Account`, `Loan` and `Savings`, the last two being subclasses of the first one since a loan account and a savings account are particular kinds of accounts. We define a few strings as class attributes to, at any time, let objects created from those classes keep track of what is known and what is unknown. More precisely:\n",
    "\n",
    "* The interest will have to be fixed to a stricly positive floating point number when the object is created.\n",
    "* The reference period, year, semester, quarter or month, will have to be fixed when the object is created too.\n",
    "* The term amount, that is, the sum of money that is credited every year if the account is a savings account and that is debited every month if the account is a loan account, can be set or not to some value at any time, including when the object is created.\n",
    "* The duration, that is, the number of years the account will remain open, and whose balance has to be equal to 0 at closure time in case the account is a loan account, can be set or not to some value at any time, including when the object is created.\n",
    "* The initial sum only makes sense for a loan account; it is the sum of money that is borrowed when the account is opened. It can be set or not to some value at any time, including when the object is created.\n",
    "* The final sum only makes sense for a savings account; it is the sum of money that is available when the account is closed. It can be set or not to some value at any time, including when the object is created.\n",
    "\n",
    "In any circumstance, including when the object is created, at least one of the parameters whose value can not be set should not be set; in case there is only one such parameter, then that parameter will be computed from all others.\n",
    "\n",
    "We also define as a class attribute a dictionary for the number of months that make up each of the possible periods:"
   ]
  },
  {
   "cell_type": "code",
   "execution_count": null,
   "metadata": {},
   "outputs": [],
   "source": [
    "class Account:\n",
    "    INTEREST = 'interest'\n",
    "    REFERENCE_PERIOD = 'reference_period'\n",
    "    TERM_AMOUNT = 'term_amount'\n",
    "    DURATION = 'duration'\n",
    "    INITIAL_SUM = 'initial_sum'\n",
    "    FINAL_SUM = 'final_sum'\n",
    "    nb_in_year = {'year' : 1, 'semester' : 2, 'quarter' : 4, 'month' : 12} \n",
    "\n",
    "class Savings(Account):\n",
    "    pass\n",
    "\n",
    "class Loan(Account):\n",
    "    pass"
   ]
  },
  {
   "cell_type": "markdown",
   "metadata": {},
   "source": [
    "If we create an object `account` of type `Account`, then `account.INTEREST` is first looked for as an object attribute and not found, then looked for as an `Account` attribute and found. If we create an object `loan` of type `Loan`, then `loan.INTEREST` is first looked for as an object attribute and not found, then looked for as a `Loan` attribute and not found, then looked for as an `Account` attribute and found. Later, we will see methods of the `Loan` and `Savings` classes that refer to `Account.INTEREST` rather than to `self.INTEREST`; that way, they will find `'interest'` directly in the parent class rather than indirectly, exploring from the object to the own class and from the own class to the parent class:"
   ]
  },
  {
   "cell_type": "code",
   "execution_count": null,
   "metadata": {},
   "outputs": [],
   "source": [
    "account = Account()\n",
    "loan = Loan()\n",
    "\n",
    "Account.INTEREST\n",
    "account.INTEREST\n",
    "loan.INTEREST"
   ]
  },
  {
   "cell_type": "markdown",
   "metadata": {},
   "source": [
    "Let us create a particular kind of exception, to raise for the case where all of the parameters that can optionally be set are provided some nonzero value, leaving no unknown:"
   ]
  },
  {
   "cell_type": "code",
   "execution_count": null,
   "metadata": {},
   "outputs": [],
   "source": [
    "class NoUnknownException(Exception):\n",
    "    pass"
   ]
  },
  {
   "cell_type": "markdown",
   "metadata": {},
   "source": [
    "Durations are expected to be integers, while interests, term amounts, initial sums and final sums are expected to be either floating point numbers or integers. To check the latter, the `Real` class from the `numbers` module is useful: "
   ]
  },
  {
   "cell_type": "code",
   "execution_count": null,
   "metadata": {},
   "outputs": [],
   "source": [
    "isinstance(1, int), isinstance(1, float), isinstance(1, Real)\n",
    "isinstance(1., int), isinstance(1., float), isinstance(1., Real)"
   ]
  },
  {
   "cell_type": "markdown",
   "metadata": {},
   "source": [
    "Let us define an `Account` method, `check_type()`, to check whether the value of an attribute of an object of type `Account` (which could therefore be more precisely of type `Loan` or `Savings`), is of the expected type:"
   ]
  },
  {
   "cell_type": "code",
   "execution_count": null,
   "metadata": {},
   "outputs": [],
   "source": [
    "class Account(Account):\n",
    "    def check_type(self, parameter, parameter_name, valid_type):\n",
    "        if not isinstance(parameter, valid_type):\n",
    "            raise TypeError(f'{parameter_name} should be of type {valid_type}')\n",
    "            \n",
    "class Savings(Account):\n",
    "    pass\n",
    "\n",
    "class Loan(Account):\n",
    "    pass"
   ]
  },
  {
   "cell_type": "code",
   "execution_count": null,
   "metadata": {},
   "outputs": [],
   "source": [
    "loan = Loan()\n",
    "loan._interest = 0.08\n",
    "# Returns None\n",
    "loan.check_type(loan._interest, Account.INTEREST, Real)\n",
    "loan._interest = '0.08'\n",
    "# Raises a TypeError exception\n",
    "loan.check_type(loan._interest, Account.INTEREST, Real)"
   ]
  },
  {
   "cell_type": "markdown",
   "metadata": {},
   "source": [
    "The builtin `setattr()` function allows one to set an object's attribute to some value via a variable name (a string) rather than via a variable. This will prove useful to let a method set the value of some attribute, determined as a string, only known at run time:"
   ]
  },
  {
   "cell_type": "code",
   "execution_count": null,
   "metadata": {},
   "outputs": [],
   "source": [
    "account = Account()\n",
    "account._interest = 0.08\n",
    "setattr(account, '_duration', 20)\n",
    "account.__dict__"
   ]
  },
  {
   "cell_type": "markdown",
   "metadata": {},
   "source": [
    "Let us define an `Account` method, `set_parameter()`, to set an attribute of an object of type `Account` (which could therefore be more precisely of type `Loan` or `Savings`) to some value, which in case it is not equal to 0, is imposed to be positive, except for the term amount of a `Loan` object that should be negative (to be debited from the account). In case the attribute has been set to a nonzero value, then the method will remove its name from the set of unknown parameters, making sure that the set does not become empty; otherwise, a `NoUnknownException` will be raised:"
   ]
  },
  {
   "cell_type": "code",
   "execution_count": null,
   "metadata": {},
   "outputs": [],
   "source": [
    "class Account(Account):\n",
    "    def set_parameter(self, parameter, parameter_name, sign):\n",
    "        if parameter * sign < 0:\n",
    "            raise ValueError(f'{parameter_name} should be of opposite sign')\n",
    "        if parameter:\n",
    "            if parameter_name in self._unknowns:\n",
    "                if len(self._unknowns) == 1:\n",
    "                    raise NoUnknownException(f'{parameter_name} is the only '\n",
    "                                             'unknown parameter'\n",
    "                                            )\n",
    "                self._unknowns.remove(parameter_name)\n",
    "        else:\n",
    "            self._unknowns.add(parameter_name)\n",
    "        setattr(self, '_' + parameter_name, parameter)\n",
    "            \n",
    "class Savings(Account):\n",
    "    pass\n",
    "\n",
    "class Loan(Account):\n",
    "    pass"
   ]
  },
  {
   "cell_type": "code",
   "execution_count": null,
   "metadata": {},
   "outputs": [],
   "source": [
    "loan = Loan()\n",
    "loan._unknowns = {Account.INITIAL_SUM, Account.TERM_AMOUNT, Account.DURATION}\n",
    "loan.set_parameter(836.44, Account.TERM_AMOUNT, -1)"
   ]
  },
  {
   "cell_type": "code",
   "execution_count": null,
   "metadata": {},
   "outputs": [],
   "source": [
    "loan = Loan()\n",
    "loan._unknowns = {Account.INITIAL_SUM, Account.TERM_AMOUNT, Account.DURATION}\n",
    "loan.set_parameter(-836.44, Account.TERM_AMOUNT, -1)\n",
    "loan.set_parameter(20, Account.DURATION, 1)\n",
    "\n",
    "loan.__dict__"
   ]
  },
  {
   "cell_type": "code",
   "execution_count": null,
   "metadata": {},
   "outputs": [],
   "source": [
    "loan = Loan()\n",
    "loan._unknowns = {Account.INITIAL_SUM, Account.TERM_AMOUNT, Account.DURATION}\n",
    "loan.set_parameter(-836.44, Account.TERM_AMOUNT, -1)\n",
    "loan.set_parameter(20, Account.DURATION, 1)\n",
    "loan.set_parameter(100000, Account.INITIAL_SUM, 1)"
   ]
  },
  {
   "cell_type": "markdown",
   "metadata": {},
   "source": [
    "Let us bundle the `check_type()` and `set_parameter()` methods of the `Account` class into a `check_and_set_parameter()` method:"
   ]
  },
  {
   "cell_type": "code",
   "execution_count": null,
   "metadata": {},
   "outputs": [],
   "source": [
    "class Account(Account):\n",
    "    def check_and_set_parameter(self, parameter, parameter_name, valid_types,\n",
    "                                sign\n",
    "                               ):\n",
    "        self.check_type(parameter, parameter_name, valid_types)\n",
    "        self.set_parameter(parameter, parameter_name, sign)\n",
    "            \n",
    "class Savings(Account):\n",
    "    pass\n",
    "\n",
    "class Loan(Account):\n",
    "    pass"
   ]
  },
  {
   "cell_type": "code",
   "execution_count": null,
   "metadata": {},
   "outputs": [],
   "source": [
    "savings = Savings()\n",
    "savings._unknowns = {Account.TERM_AMOUNT, Account.FINAL_SUM, Account.DURATION}\n",
    "savings.check_and_set_parameter(1000, Account.TERM_AMOUNT, Real, 1)\n",
    "savings.check_and_set_parameter(1000, Account.DURATION, int, 1)\n",
    "\n",
    "savings.__dict__"
   ]
  },
  {
   "cell_type": "markdown",
   "metadata": {},
   "source": [
    "Let us add to `Account` two methods, `set_interest()` and `set_reference_period()`, to fix the values of the interest and the reference period, respectively. As those have to be set at object creation and should not be modified afterwards, it is not appropriate to use `set_parameter()`. We can still make use of `check_type()` to check that the interest is a strictly positive real value; checking that the reference value is one of `'year'`, `'semester'`, `'quarter'` or `'month'` can be done directly.\n",
    "\n",
    "Let us also add to `Account` a method, `set_effective_interest()`, to compute the effective interest from the interest and the reference period.\n",
    "\n",
    "Finally, let us add to `Acccount` two methods, `set_term_amount()` and `set_duration()`, to set or change or remove (by assigning 0) the values of the term amount and the duration, respectively. Given an object of type `Savings`, say `savings`, a call such as `savings.set_term_amount(1000)` would look for `set_term_amount()` first unsuccessfully as an attribute of `savings`, then unsuccessfully as an attribute of `Savings`, and finally successfully as an attribute of `Account`. In the body of `set_term_amount()`, the statement `isinstance(self, Savings)`, with `self` referring to `savings` would then evaluate to `True` (and so `2 * isinstance(self, Savings) - 1` would evaluate to 1, whereas it would evaluate to -1 if `self` was referring to an object of type `Loan`):"
   ]
  },
  {
   "cell_type": "code",
   "execution_count": null,
   "metadata": {},
   "outputs": [],
   "source": [
    "class Account(Account):\n",
    "    def set_interest(self, interest):\n",
    "        self.check_type(interest, Account.INTEREST, Real)\n",
    "        if interest == 0:\n",
    "            raise ValueError('Interest should not be 0')          \n",
    "        if interest < 0:\n",
    "            raise ValueError('Interest should not be negative')\n",
    "        self._interest = interest\n",
    "\n",
    "    def set_reference_period(self, reference_period):\n",
    "        if reference_period not in Account.nb_in_year:\n",
    "            raise ValueError('Reference period should be one of '\n",
    "                             f'{list(Account.nb_in_year)}'\n",
    "                            )\n",
    "        self._reference_period = reference_period\n",
    "\n",
    "    def set_effective_interest(self):\n",
    "        self.effective_interest =\\\n",
    "              ((1 + self._interest / Account.nb_in_year[self._reference_period]\n",
    "               ) ** Account.nb_in_year[self._reference_period] - 1\n",
    "              )\n",
    "    def set_term_amount(self, term_amount):\n",
    "        # An amount added to Savings account, and deducted from a Loans\n",
    "        # account.\n",
    "        self.check_and_set_parameter(term_amount, Account.TERM_AMOUNT, Real,\n",
    "                                     2 * isinstance(self, Savings) - 1\n",
    "                                    )\n",
    "\n",
    "    def set_duration(self, duration):\n",
    "        self.check_and_set_parameter(duration, Account.DURATION, int, 1)\n",
    "        \n",
    "class Savings(Account):\n",
    "    def set_final_sum(self, final_sum):\n",
    "        self.check_and_set_parameter(final_sum, Account.FINAL_SUM, Real, 1)\n",
    "        \n",
    "class Loan(Account):\n",
    "    def set_initial_sum(self, initial_sum):\n",
    "        self.check_and_set_parameter(initial_sum, Account.INITIAL_SUM, Real, 1)"
   ]
  },
  {
   "cell_type": "code",
   "execution_count": null,
   "metadata": {},
   "outputs": [],
   "source": [
    "savings = Savings()\n",
    "savings._unknowns = {Account.TERM_AMOUNT, Account.FINAL_SUM, Account.DURATION}\n",
    "savings.set_interest(0.08)\n",
    "savings.set_reference_period('year')\n",
    "savings.set_duration(25)\n",
    "savings.set_effective_interest()\n",
    "savings.set_final_sum(78954.42)\n",
    "\n",
    "savings.__dict__"
   ]
  },
  {
   "cell_type": "code",
   "execution_count": null,
   "metadata": {},
   "outputs": [],
   "source": [
    "loan = Loan()\n",
    "loan._unknowns = {Account.INITIAL_SUM, Account.TERM_AMOUNT, Account.DURATION}\n",
    "loan.set_interest(0.08)\n",
    "loan.set_reference_period('year')\n",
    "loan.set_duration(25)\n",
    "loan.set_effective_interest()\n",
    "loan.set_initial_sum(100000)\n",
    "\n",
    "loan.__dict__"
   ]
  },
  {
   "cell_type": "markdown",
   "metadata": {},
   "source": [
    "We do not want the user to change the value of the interest, but it is wishful thinking:"
   ]
  },
  {
   "cell_type": "code",
   "execution_count": null,
   "metadata": {},
   "outputs": [],
   "source": [
    "loan._interest = 0.25\n",
    "loan.__dict__"
   ]
  },
  {
   "cell_type": "markdown",
   "metadata": {},
   "source": [
    "We can't prevent the user to change the value of `_interest`. But we can define a new variable, `interest`, and use the `@property` decorator to let the user access its value (the property is defined to just retrieve the value of `_interest` and present it to the user as the value of `interest`), without the user being able to modify that value via the name `interest`. So `interest` is part of the public interface while `_interest` is not. If they have access to the source code then users can see the name `_interest`, understand its purpose, not restrict themselves to the public interface, and modify the value of `_interest`. But without looking at the implementation, users are not aware of the existence of `_interest`; they can only see and understand the purpose of `interest`, access its value when needed, but never change it. The same can be done with the `_reference_period` attribute, letting the `@property` decorator introduce a read only attribute `reference_period`:"
   ]
  },
  {
   "cell_type": "code",
   "execution_count": null,
   "metadata": {},
   "outputs": [],
   "source": [
    "class Account(Account):\n",
    "    @property\n",
    "    def interest(self):\n",
    "        return self._interest\n",
    "    \n",
    "    @property\n",
    "    def reference_period(self):\n",
    "        return self._reference_period\n",
    "        \n",
    "class Savings(Account, Savings):\n",
    "    pass\n",
    "\n",
    "class Loan(Account, Loan):\n",
    "    pass"
   ]
  },
  {
   "cell_type": "code",
   "execution_count": null,
   "metadata": {},
   "outputs": [],
   "source": [
    "savings = Savings()\n",
    "savings.set_interest(0.08)\n",
    "\n",
    "savings.interest\n",
    "savings.interest = 0.25"
   ]
  },
  {
   "cell_type": "code",
   "execution_count": null,
   "metadata": {},
   "outputs": [],
   "source": [
    "loan = Loan()\n",
    "loan.set_reference_period('month')\n",
    "\n",
    "loan.reference_period\n",
    "loan.reference_period = 'quarter'"
   ]
  },
  {
   "cell_type": "markdown",
   "metadata": {},
   "source": [
    "Let us add a `@property` decorator to the `Account`, `Savings` and `Loan` classes to create new attributes: `term_amount` and `duration` (in `Account`), `final_sum` (in `Savings`) and `initial_sum` (in `Loan`), that again just retrieve the value of the corresponding attribute with a leading underscore. If that was all we did, then these four names would, like `interest` and `reference_period`, refer to read only attributes. Rather, let us complement `term_amount`, `duration`, `final_sum` and `initial_sum` with the `@term_amount.setter`, <code>@duration.setter</code>, `@final_sum.setter` and `@initial_sum.setter` decorators, respectively. Their bodies make up the code to execute when assignments to `term_amount`, `duration`, `final_sum` or `initial_sum`, respectively, are requested. As expected, the code includes corresponding assignments to `_term_amount`, `_duration`, `_final_sum` or `_initial_sum`, respectively. But other tasks can also be performed. Here, in all four cases, we call an `Account` method, `update()`, that just prints out a message; that function will later be reimplemented for purposes more useful to our problem:"
   ]
  },
  {
   "cell_type": "code",
   "execution_count": null,
   "metadata": {},
   "outputs": [],
   "source": [
    "class Account(Account):\n",
    "    @property\n",
    "    def term_amount(self):\n",
    "        return self._term_amount\n",
    "\n",
    "    @term_amount.setter\n",
    "    def term_amount(self, term_amount):\n",
    "        self.set_term_amount(term_amount)\n",
    "        self.update()\n",
    "\n",
    "    @property\n",
    "    def duration(self):\n",
    "        return self._duration\n",
    "\n",
    "    @duration.setter\n",
    "    def duration(self, duration):\n",
    "        self.set_duration(duration)\n",
    "        self.update()\n",
    "\n",
    "    def update(self):\n",
    "        print('I set or changed the value of at least one attribute!')\n",
    "\n",
    "class Savings(Account, Savings):\n",
    "    @property\n",
    "    def final_sum(self):\n",
    "        return self._final_sum\n",
    "\n",
    "    @final_sum.setter\n",
    "    def final_sum(self, final_sum):\n",
    "        self.set_final_sum(final_sum)\n",
    "        self.update()\n",
    "\n",
    "class Loan(Account, Loan):\n",
    "    @property\n",
    "    def initial_sum(self):\n",
    "        return self._initial_sum\n",
    "\n",
    "    @initial_sum.setter\n",
    "    def initial_sum(self, initial_sum):\n",
    "        self.set_initial_sum(initial_sum)\n",
    "        self.update()"
   ]
  },
  {
   "cell_type": "code",
   "execution_count": null,
   "metadata": {},
   "outputs": [],
   "source": [
    "savings = Savings()\n",
    "savings._unknowns = {Account.TERM_AMOUNT, Account.FINAL_SUM, Account.DURATION}\n",
    "savings.set_interest(0.08)\n",
    "savings.set_reference_period('year')\n",
    "savings.set_duration(25)\n",
    "savings.set_effective_interest()\n",
    "savings.set_final_sum(78954.42)\n",
    "\n",
    "savings.final_sum = 0\n",
    "savings.final_sum\n",
    "\n",
    "savings.term_amount = 1000\n",
    "savings.term_amount"
   ]
  },
  {
   "cell_type": "code",
   "execution_count": null,
   "metadata": {},
   "outputs": [],
   "source": [
    "loan = Loan()\n",
    "loan._unknowns = {Account.INITIAL_SUM, Account.TERM_AMOUNT, Account.DURATION}\n",
    "loan.set_interest(0.08)\n",
    "loan.set_reference_period('year')\n",
    "loan.set_duration(25)\n",
    "loan.set_effective_interest()\n",
    "loan.set_initial_sum(100000)\n",
    "\n",
    "loan.initial_sum = 0\n",
    "loan.initial_sum\n",
    "\n",
    "loan.duration = 20\n",
    "loan.duration"
   ]
  },
  {
   "cell_type": "markdown",
   "metadata": {},
   "source": [
    "Let us define the `__init__()` methods of `Account`, `Savings` and `Loans` to automatically, at object creation, set the values of the `_unknowns`, `_interest`, `_reference_period` and `effective_interest` attributes, and possibly set some but not all of the following attributes: `_duration`, `_term_amount`, `_final_sum` for objects of type `Savings`, and `_initial_sum` for objects of type `Loan`. The call to `__super__()` as the first statement in the body of the `__init__()` method of the `Savings` and `Loan` classes (with `interest`, `reference_period`, `term_amount`, `duration`, `final_sum` for `Savings`, and `initial_sum` for `Loan` as keyword only arguments, with default values for all except `interest`) allows one to first execute the `__init__()` method of the `Account` class. The next two statements in the bodies of the `__init__()` methods of the `Savings` and `Loan` classes complete object initialisation with what is specific to `Savings` and `Loan` objects, respectively. The last statement in the bodies of these methods calls the `update()` method, which is still to be reimplemented:"
   ]
  },
  {
   "cell_type": "code",
   "execution_count": null,
   "metadata": {},
   "outputs": [],
   "source": [
    "class Account(Account):\n",
    "    def __init__(self, *, interest, reference_period, term_amount, duration):\n",
    "        # We will remove INITIAL_SUM from _unknowns when dealing with an\n",
    "        # object of class Savings, and remove FINAL_SUM from _unknowns\n",
    "        # when dealing with an object of class Loan.\n",
    "        self._unknowns = {Account.INITIAL_SUM, Account.TERM_AMOUNT,\n",
    "                          Account.FINAL_SUM, Account.DURATION\n",
    "                         }\n",
    "        self.set_interest(interest)\n",
    "        self.set_reference_period(reference_period)\n",
    "        self.set_effective_interest()\n",
    "        self.set_term_amount(term_amount)\n",
    "        self.set_duration(duration)\n",
    "        \n",
    "class Savings(Account, Savings):\n",
    "    # term_amount is a yearly deposit\n",
    "    def __init__(self, *, interest, reference_period='year', term_amount=0,\n",
    "                 duration=0, final_sum=0\n",
    "                ):\n",
    "        super().__init__(interest=interest, reference_period=reference_period,\n",
    "                         term_amount=term_amount, duration=duration\n",
    "                        )\n",
    "        self._unknowns.remove(Account.INITIAL_SUM)\n",
    "        self.set_final_sum(final_sum)\n",
    "        self.update()\n",
    "\n",
    "class Loan(Account, Loan):\n",
    "    # term_amount is a monthly repayment\n",
    "    def __init__(self, *, interest, reference_period='year', term_amount=0,\n",
    "                 duration=0, initial_sum=0\n",
    "                ):\n",
    "        super().__init__(interest=interest, reference_period=reference_period,\n",
    "                         term_amount=term_amount, duration=duration\n",
    "                        )\n",
    "        self._unknowns.remove(Account.FINAL_SUM)\n",
    "        self.set_initial_sum(initial_sum)\n",
    "        self.update()"
   ]
  },
  {
   "cell_type": "code",
   "execution_count": null,
   "metadata": {},
   "outputs": [],
   "source": [
    "savings = Savings(interest=0.08, duration=25, final_sum=78954.42)\n",
    "savings.__dict__"
   ]
  },
  {
   "cell_type": "code",
   "execution_count": null,
   "metadata": {},
   "outputs": [],
   "source": [
    "loan = Loan(interest=0.08, duration=25, initial_sum=100000)\n",
    "loan.__dict__"
   ]
  },
  {
   "cell_type": "markdown",
   "metadata": {},
   "source": [
    "Let us complete the implementation of all three classes. In `Account`, we reimplement `update()` so that at object creation, as well as every time the value of an attribute is changed, the following happens:\n",
    "\n",
    "* The interest and the reference period are displayed.\n",
    "* In case exactly one attribute amongst `term_amount`, `duration` and `final_sum` (for `Savings` object) or `initial_sum` (for `Loan` objects) is not set, then that attribute is computed by a call to a method, `solve()`, that determines the value of that attribute from the values of all others, thanks to one of the equations that have been established in Sections [Saving](#Saving) and [Borrowing](#Borrowing).\n",
    "* For a `Loan` object, the borrowed sum is either unknown, which is then explicitly mentioned, or its value is displayed.\n",
    "* The yearly deposit for a `Savings` object, the monthly repayments for a `Loan` object, are either unknown, which is then explicitly reported, or their values are displayed.\n",
    "* For a `Savings` object, the sum that is available at the end is either unknown, which is then explicitly mentioned, or its value is displayed.\n",
    "* The duration of the savings or the loan is either unknown, which is then explicitly reported, or its value is displayed.\n",
    "\n",
    "When looking for attributes, the class $C$ an object belongs to is explored before the classes $C$ derives from. In particular, an object of type `Savings` or `Loan` finds `update()` in `Account`, the parent class, and when executing `update()`, `solve` is found in `Savings` or `Loan`, respectively, the object's own class.\n",
    "\n",
    "Note that in the body of the `solve()` method (with respect to its implementation both in the `Savings` class and in the `Loan` class), the right hand sides of the assignments make use of `self.duration` and `self.term_amount` (as well as `self.final_sum` for the version in `Savings`, and `self.initial_sum` for the version in `Loan`), whereas they could more directly make use of `self._duration`, `self._term_amount`, `self._final_sum` and `self._initial_sum`, respectively. The left hand sides of the assignments, on the other hand, do refer to the underlined versions of the attributes, and have to do so. Indeed, if they referred to the nonunderlined versions of the attributes, then the `setter` part of the `property` decorators would have to be executed, resulting in either:\n",
    "\n",
    "* the `NoUnknownException` being triggered, or\n",
    "* `update()` being called recursively forever (that is, until the recursion stacks overflows). "
   ]
  },
  {
   "cell_type": "code",
   "execution_count": null,
   "metadata": {},
   "outputs": [],
   "source": [
    "class Account(Account):\n",
    "    def update(self):\n",
    "        all_known = self.solve()\n",
    "        print(f'Annual interest:\\t {float(self.interest * 100):.2f}%')\n",
    "        print('Reference period:\\t', self.reference_period)\n",
    "        if isinstance(self, Loan):\n",
    "            if all_known or Account.INITIAL_SUM not in self._unknowns:\n",
    "                print(f'Sum borrowed:\\t\\t {float(self.initial_sum):.2f}')\n",
    "            else:\n",
    "                print('Sum borrowed:\\t\\t Unknown')\n",
    "        if all_known or Account.TERM_AMOUNT not in self._unknowns:\n",
    "            if isinstance(self, Savings):\n",
    "                print(f'Yearly deposits:\\t {float(self.term_amount):.2f}')\n",
    "            else:\n",
    "                print(f'Monthly repayments:\\t {float(self.term_amount):.2f}')\n",
    "        else:\n",
    "            if isinstance(self, Savings):\n",
    "                print('Yearly deposits:\\t Unknown')\n",
    "            else:\n",
    "                print('Monthly repayments:\\t Unknown')\n",
    "        if isinstance(self, Savings):\n",
    "            if all_known or Account.FINAL_SUM not in self._unknowns:       \n",
    "                print(f'Available sum:\\t\\t {float(self.final_sum):.2f}')\n",
    "            else:\n",
    "                print('Available sum:\\t\\t Unknown')\n",
    "        if all_known or Account.DURATION not in self._unknowns:\n",
    "            print('Duration (in years):\\t', round(self.duration))\n",
    "        else:\n",
    "            print('Duration (in years):\\t Unknown')\n",
    "        print()\n",
    "\n",
    "class Savings(Account, Savings):\n",
    "    def solve(self):\n",
    "        if len(self._unknowns) != 1:\n",
    "            return False\n",
    "        if Account.FINAL_SUM in self._unknowns:\n",
    "            self._final_sum = self.term_amount / self.effective_interest\\\n",
    "                              * ((1 + self.effective_interest)\n",
    "                                 ** (self.duration + 1) - 1\n",
    "                                 - self.effective_interest\n",
    "                                )\n",
    "        elif Account.TERM_AMOUNT in self._unknowns:\n",
    "            self._term_amount = self.final_sum * self.effective_interest\\\n",
    "                                / ((1 + self.effective_interest)\n",
    "                                   ** (self.duration + 1) - 1\n",
    "                                   - self.effective_interest\n",
    "                                  )\n",
    "        else:\n",
    "            self._duration = log10(self.final_sum * self.effective_interest\n",
    "                                   / self.term_amount\n",
    "                                   + (1 + self.effective_interest)\n",
    "                                  ) / log10(1 + self.effective_interest) - 1\n",
    "        return True\n",
    "\n",
    "class Loan(Account, Loan):\n",
    "    def solve(self):\n",
    "        if len(self._unknowns) != 1:\n",
    "            return False\n",
    "        monthly_interest = (1 + self.effective_interest) ** (1 / 12) - 1\n",
    "        if Account.INITIAL_SUM in self._unknowns:\n",
    "            self._initial_sum = -self.term_amount\\\n",
    "                                * ((1 + monthly_interest)\n",
    "                                   ** (12 * self.duration) - 1\n",
    "                                  ) / monthly_interest\\\n",
    "                                  / (1 + monthly_interest)\\\n",
    "                                    ** (12 * self.duration)\n",
    "        elif Account.TERM_AMOUNT in self._unknowns:\n",
    "            self._term_amount = -self.initial_sum * (1 + monthly_interest)\\\n",
    "                                                    ** (12 * self.duration)\\\n",
    "                                * monthly_interest\\\n",
    "                                / ((1 + monthly_interest)\n",
    "                                   ** (12 * self.duration) - 1\n",
    "                                  )\n",
    "        else:\n",
    "            self._duration = log10(self.term_amount / (monthly_interest\n",
    "                                                       * self.initial_sum\n",
    "                                                       + self.term_amount\n",
    "                                                      )\n",
    "                                  ) / (12 * log10(1 + monthly_interest))\n",
    "        return True"
   ]
  },
  {
   "cell_type": "code",
   "execution_count": null,
   "metadata": {},
   "outputs": [],
   "source": [
    "savings = Savings(term_amount=1000, interest=0.08, duration=25)\n",
    "savings.term_amount = 0\n",
    "savings.final_sum = 78954.42\n",
    "savings.duration = 0\n",
    "savings.term_amount = 1000.00"
   ]
  },
  {
   "cell_type": "code",
   "execution_count": null,
   "metadata": {},
   "outputs": [],
   "source": [
    "loan = Loan(initial_sum=100000, interest=0.08, duration=20,\n",
    "            reference_period='month'\n",
    "           )\n",
    "loan.initial_sum = 0\n",
    "loan.term_amount = -836.44\n",
    "loan.duration = 0\n",
    "loan.initial_sum = 100000.0"
   ]
  }
 ],
 "metadata": {
  "kernelspec": {
   "display_name": "Python 3 (ipykernel)",
   "language": "python",
   "name": "python3"
  },
  "language_info": {
   "codemirror_mode": {
    "name": "ipython",
    "version": 3
   },
   "file_extension": ".py",
   "mimetype": "text/x-python",
   "name": "python",
   "nbconvert_exporter": "python",
   "pygments_lexer": "ipython3",
   "version": "3.9.7"
  },
  "latex_envs": {
   "LaTeX_envs_menu_present": true,
   "autoclose": false,
   "autocomplete": true,
   "bibliofile": "biblio.bib",
   "cite_by": "apalike",
   "current_citInitial": 1,
   "eqLabelWithNumbers": true,
   "eqNumInitial": 1,
   "hotkeys": {
    "equation": "Ctrl-E",
    "itemize": "Ctrl-I"
   },
   "labels_anchors": false,
   "latex_user_defs": false,
   "report_style_numbering": false,
   "user_envs_cfg": false
  },
  "toc": {
   "base_numbering": 1,
   "nav_menu": {},
   "number_sections": true,
   "sideBar": true,
   "skip_h1_title": false,
   "title_cell": "Table of Contents",
   "title_sidebar": "Contents",
   "toc_cell": false,
   "toc_position": {},
   "toc_section_display": true,
   "toc_window_display": false
  }
 },
 "nbformat": 4,
 "nbformat_minor": 2
}
