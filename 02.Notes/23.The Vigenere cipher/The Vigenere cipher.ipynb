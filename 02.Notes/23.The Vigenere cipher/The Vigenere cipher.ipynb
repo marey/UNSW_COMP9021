{
 "cells": [
  {
   "cell_type": "code",
   "execution_count": null,
   "metadata": {
    "scrolled": true
   },
   "outputs": [],
   "source": [
    "# Does not need to be executed if\n",
    "# ~/.ipython/profile_default/ipython_config.py\n",
    "# exists and contains:\n",
    "# c.InteractiveShell.ast_node_interactivity = 'all'\n",
    "\n",
    "from IPython.core.interactiveshell import InteractiveShell\n",
    "InteractiveShell.ast_node_interactivity = 'all'"
   ]
  },
  {
   "cell_type": "code",
   "execution_count": null,
   "metadata": {
    "init_cell": true,
    "scrolled": true
   },
   "outputs": [],
   "source": [
    "from string import printable\n",
    "from collections import Counter\n",
    "from operator import itemgetter\n",
    "from itertools import product\n",
    "from re import split"
   ]
  },
  {
   "cell_type": "markdown",
   "metadata": {},
   "source": [
    "Consider a message all written in capital letters. The _Caesar code_ fixes a natural number $n$ between 1 and 25 and shifts all letters $n$ positions to the right, wrapping around when needed, leaving all other characters such as spaces unchanged. For instance, the message ALEA JACTA EST becomes\n",
    "\n",
    "* with $n = 1$: BMFB KBDUB FTU\n",
    "* with $n = 2$: CNGC LCEVC GUV\n",
    "* ...\n",
    "* with $n = 10$: KVOK TKMDK OCD\n",
    "* ...\n",
    "* with $n = 25$: ZKDZ IZBSZ DRS\n",
    "\n",
    "The _Vigenere cipher_ offers a generalisation as follows. Choose a word written all in uppercase letters as the key, for instance, RAW. Since RAW consists of 3 letters, write the letters that make up the message over 3 columns:\n",
    "\n",
    "ALE  \n",
    "AJA  \n",
    "CTA  \n",
    "EST\n",
    "\n",
    "As R, A and W are the 18th, 1st and 23rd letters of the alphabet, respectively, all letters in the first column are shifted 18 positions to the right, all letters in the second column are shifted 1 position to the right, and all letters in the third column are shifted 23 positions to the right, wrapping around when needed:\n",
    "\n",
    "SMB  \n",
    "SKX  \n",
    "UUX  \n",
    "WTQ\n",
    "\n",
    "This results in the encrypted message: SMBS KXUUX WTQ\n",
    "\n",
    "Let us not distinguish between (capital) letters and other characters, but rather let the Vigenere cipher encrypt all characters in a message with a key that itself can be any sequence of characters. The `string` module defines a string consisting of all printable ASCII characters; it could be a good candidate for which characters to allow both in message and key:"
   ]
  },
  {
   "cell_type": "code",
   "execution_count": null,
   "metadata": {
    "scrolled": true
   },
   "outputs": [],
   "source": [
    "printable"
   ]
  },
  {
   "cell_type": "markdown",
   "metadata": {},
   "source": [
    "`'\\r'` is the carriage return character:"
   ]
  },
  {
   "cell_type": "code",
   "execution_count": null,
   "metadata": {
    "scrolled": true
   },
   "outputs": [],
   "source": [
    "print('00000\\r11')"
   ]
  },
  {
   "cell_type": "markdown",
   "metadata": {},
   "source": [
    "ASCII characters can be represented as `\\x` followed by their ASCII code in the form of two hexadecimal digits: "
   ]
  },
  {
   "cell_type": "code",
   "execution_count": null,
   "metadata": {
    "scrolled": false
   },
   "outputs": [],
   "source": [
    "ord('c'), f\"{ord('c'):x}\", '\\x63'\n",
    "# f-strings cannot embed backslashes,\n",
    "# so we instead use the format string method.\n",
    "ord('\\n'), '{:x}'.format(ord('\\n')), '\\x0a'"
   ]
  },
  {
   "cell_type": "markdown",
   "metadata": {},
   "source": [
    "`'\\x0b'` and `'\\x0c'` are the vertical tab and form feed characters, respectively; Jupyter ignores them. For code run from the command line, `'\\x0b'` and `'\\x0c'` behave the same: the next character follows the previous one but on the next line (form feed is meant to force a printer to move to the next sheet of paper). Both `'\\x0b'` and `'\\x0c'` actually have escaped characters as alternatives, namely, `'\\v'` and `'\\f'`, respectively:"
   ]
  },
  {
   "cell_type": "code",
   "execution_count": null,
   "metadata": {
    "scrolled": true
   },
   "outputs": [],
   "source": [
    "'\\v', '\\f'"
   ]
  },
  {
   "cell_type": "markdown",
   "metadata": {},
   "source": [
    "It is sensible to ignore the last 3 characters in `printable` and accept all others as the possible constituents of messages and keys:"
   ]
  },
  {
   "cell_type": "code",
   "execution_count": null,
   "metadata": {
    "scrolled": true
   },
   "outputs": [],
   "source": [
    "characters = printable[: -3]\n",
    "len(characters)"
   ]
  },
  {
   "cell_type": "markdown",
   "metadata": {},
   "source": [
    "Any character in `characters` can be used in keys and determine by how much to shift characters in messages; the values of the shifts are given by the positions in `characters` of the characters that make up the key. It would be inefficient to look for the position of a given character in `characters` every time it is needed: for instance, if a key was 7 characters long and started with `'G'`, it would be inefficient to scan `characters` left to right from the beginning, to find `'G'` at position 42 and infer that the first, eight, fiftieth... characters in the message to encrypt should be shifted 42 positions to the right, wrapping around if needed. We define a dictionary with the characters in `characters` as keys, and their positions in `characters` as values, so the latter can be obtained from the former in constant time: "
   ]
  },
  {
   "cell_type": "code",
   "execution_count": null,
   "metadata": {
    "scrolled": true
   },
   "outputs": [],
   "source": [
    "shifts = {characters[i]: i for i in range(len(characters))}\n",
    "print(shifts)"
   ]
  },
  {
   "cell_type": "markdown",
   "metadata": {},
   "source": [
    "Let us give an example of a message and its encryption with the key `'Take it Easy!'` (we will see below how the encryption has been computed, now it is given and supposed to have been properly computed). `'Take it Easy!'` is a key of length 13, so we align the key, the message displayed over 13 columns, and the encrypted message displayed over 13 columns. As the message length is not a multiple of 13, the last lines of message and encrypted message are less than 13 characters long; formatted strings can be given a field width to display a string, padding with spaces to the right for shorter strings, ignoring the field width for longer strings:"
   ]
  },
  {
   "cell_type": "code",
   "execution_count": null,
   "metadata": {
    "scrolled": true
   },
   "outputs": [],
   "source": [
    "print('|'.join(f'{w:4}' for w in ('Alice', 'was', 'beginning', 'to', 'get',\n",
    "                                  'very', 'tired'\n",
    "                                 )\n",
    "              )\n",
    "     )"
   ]
  },
  {
   "cell_type": "markdown",
   "metadata": {},
   "source": [
    "Next to key and message, we display the ASCII codes of the characters in key and message, similarly aligned. We observed that `characters` has 97 characters.\n",
    "\n",
    "* The first character in `key`, namely, `'T'`, has position 55 in `characters`. The first character in `message`, namely `'A'`, has position 36 in `characters`; it is therefore encrypted in `encrypted_message` as the character that in `characters`, has position $(55 + 36)\\bmod 97 = 91 \\bmod 97 = 91$, namely, `'|'`.\n",
    "* The fifth character in `key`, namely a space, has position 94 in `characters`. The fifth character in `message`, namely `'e'`, has position 14 in `characters`; it is therefore encrypted in `encrypted_message` as the character that in `characters`, has position $(94 + 14)\\bmod 97 = 108 \\bmod 97 = 11$, namely, `'b'`."
   ]
  },
  {
   "cell_type": "code",
   "execution_count": null,
   "metadata": {
    "scrolled": true
   },
   "outputs": [],
   "source": [
    "message = (\"Alice was beginning to get very tired of sitting by her \"\n",
    "           \"sister on the bank, and of having nothing to do: once or \"\n",
    "           \"twice she had peeped into the book her sister was reading, \"\n",
    "           \"but it had no pictures or conversations in it, 'and what \"\n",
    "           \"is the use of a book,' thought Alice, 'without pictures or \"\n",
    "           \"conversations?'\"\n",
    "          )\n",
    "\n",
    "encrypted_message = ('|vCqbfZ7\\'7DM;,xHwkyqq#7IM|QFyFvfWf&oFv])7MwqLL'\n",
    "                     'kU7D\\'X+oLbpAVqSBpW\\\\QDBs|tDkY@pI\\\\\\'7It|zDsWxI'\n",
    "                     'v\\\\<DBwkyqq#7FWGQyHqbfRoBDYQ-(7MvbfK7R7RM/=oxbf'\n",
    "                     'FWlBDJMX%yIy|zHoBCK!|(BhK7KqoSkFQ\\\\*@hprLqf(7JI'\n",
    "                     '.QxIbmAFq)BG!X<BhqlFYb&CC\"=<xMbfFqf(@p5+;nhKesW'\n",
    "                     '|WCp\"<(7OGbfRcBkpJ]<u~?|LKl)qJ\"X|vCqb|q$+sVP]\\\\'\n",
    "                     'DhDfuWr&oUv]?7wCkNHo\\'kVQ];C5?'\n",
    "                    )\n",
    "\n",
    "\n",
    "key = 'Take it Easy!'\n",
    "print(f'{key}' + '  ' + ' '.join(f'{shifts[c]:2}' for c in key))\n",
    "print()\n",
    "print('\\n'.join(f'{message[i * 13 : (i + 1) * 13]:13}  ' +\n",
    "                ' '.join(f'{shifts[c]:2}'\n",
    "                              for c in message[i * 13 : (i + 1) * 13]\n",
    "                        ) for i in range(len(message) // 13 + 1)\n",
    "               )\n",
    "     )\n",
    "print()\n",
    "print('\\n'.join(f'{encrypted_message[i * 13 : (i + 1) * 13]:13}  ' +\n",
    "                ' '.join(f'{shifts[c]:2}'\n",
    "                              for c in encrypted_message[i * 13 : (i + 1) * 13]\n",
    "                        ) for i in range(len(encrypted_message) // 13 + 1)\n",
    "               )\n",
    "     )"
   ]
  },
  {
   "cell_type": "markdown",
   "metadata": {},
   "source": [
    "Let us write a function, `encrypt()`, to encrypt a message, and a function, `decrypt()`, to decrypt an encrypted message, both with a key $K$ provided as first argument, the message being provided as second argument. Both functions perform almost identically:\n",
    "\n",
    "* To encrypt a message $M$, one goes over each character in $M$, determine its index $i$ modulo the length of $K$, and shifts it to the right in `characters` by $n$ with $n$ the position in `characters` of the character in $K$ of index $i$, wrapping around if needed.\n",
    "* To decrypt an encrypted message $E$, one goes over each character in $E$, determine its index $i$ modulo the length of $K$, and shifts it to the left in `characters` by $n$ with $n$ equal to the position in `characters` of the character in $K$ of index $i$, wrapping around if needed.\n",
    "\n",
    "It is therefore natural to define an auxiliary function, `encrypt_or_decrypt()` called by both `encrypt()` and `decrypt()`, being directed by either whether shifting should be \"to the right\" or \"to the left\", which corresponds to adding or subtracting positions:"
   ]
  },
  {
   "cell_type": "code",
   "execution_count": null,
   "metadata": {
    "scrolled": true
   },
   "outputs": [],
   "source": [
    "def encrypt(key, text):\n",
    "    return encrypt_or_decrypt(key, text, 1)\n",
    "\n",
    "def decrypt(key, text):\n",
    "    return encrypt_or_decrypt(key, text, -1)\n",
    "\n",
    "def encrypt_or_decrypt(key, text, mode):\n",
    "    return ''.join(characters[(shifts[text[i]]\n",
    "                               + shifts[key[i % len(key)]] * mode\n",
    "                              ) % len(shifts)\n",
    "                             ] for i in range(len(text))\n",
    "                  )\n",
    "\n",
    "encrypt(key, message)\n",
    "print()\n",
    "decrypt(key, encrypted_message)\n",
    "print()\n",
    "encrypt(key, decrypt(key, encrypted_message))\n",
    "print()\n",
    "decrypt(key, encrypt(key, message))"
   ]
  },
  {
   "cell_type": "markdown",
   "metadata": {},
   "source": [
    "Let us now tackle the task of breaking the code of an encrypted message $E$, that is, discovering the key $K$ that was used to encrypt a message $M$ into $E$, and decrypting $E$ into $M$ with $K$. A program can only tentatively suggest candidates for $K$ that the user would then have to validate. Also, the program might not always succeed, especially when the encrypted message is short. Let us fix an upper bound on the length of $K$, the first of a number of parameters we will use in our heuristics:"
   ]
  },
  {
   "cell_type": "code",
   "execution_count": null,
   "metadata": {
    "scrolled": true
   },
   "outputs": [],
   "source": [
    "max_key_length = 16"
   ]
  },
  {
   "cell_type": "markdown",
   "metadata": {},
   "source": [
    "With that value, the number of possible keys is huge:"
   ]
  },
  {
   "cell_type": "code",
   "execution_count": null,
   "metadata": {
    "scrolled": true
   },
   "outputs": [],
   "source": [
    "sum(len(characters) ** i for i in range(1, 17))"
   ]
  },
  {
   "cell_type": "markdown",
   "metadata": {},
   "source": [
    "If the message is long enough, it is likely to contain many $n$-grams (i.e., $n$ consecutive characters) that occur many times, and less likely but still likely enough, $n$-grams with many vertically aligned occurrences. For instance, \"the\", \"ing\", \"able\" could be $n$-grams (with $n$ equal to 3, 3 and 4, respectively) some of whose occurrences in a message could be aligned:\n",
    "\n",
    ". . . . t h e . .  \n",
    ". . . . . . . . .  \n",
    ". a b l e . . . .  \n",
    ". . . . . . i n g  \n",
    ". . . . . . . . .  \n",
    ". . . . . . i n g  \n",
    ". . . . . . . . .  \n",
    ". . . . . . . . .  \n",
    ". . . . . . . . .  \n",
    ". . . . t h e . .  \n",
    ". a b l e . . . .  \n",
    ". . . . t h e . .  \n",
    ". . . . . . . . .  \n",
    ". . . . . . . . .  \n",
    ". . . . . . i n g\n",
    "\n",
    "All vertically aligned occurrences of a given $n$-gram are identically encrypted. Hence one can look for $n$-grams in the encrypted message that occur many times, and assume that they have a significant chance to correspond to $n$-grams in the original message that happen to be vertically aligned. Suppose for instance that %)O occurs many times in the encrypted message. Suppose that the second occurrence of %)O is 40 positions to the right of the first occurrence of %)O. Conjecturing that both occurrences of %)O are aligned, and assuming that the key is at most 16 characters long, there are 4 options (writing ~ for a slot for a character):\n",
    "\n",
    "* The key is 4 characters long and the second occurrence of %)O is 10 lines below the first occurrence of %)O, e.g.:  \n",
    "      ~ % ) O  \n",
    "      ~ ~ ~ ~  \n",
    "      ~ ~ ~ ~  \n",
    "      ~ ~ ~ ~  \n",
    "      ~ ~ ~ ~  \n",
    "      ~ ~ ~ ~  \n",
    "      ~ ~ ~ ~  \n",
    "      ~ ~ ~ ~  \n",
    "      ~ ~ ~ ~  \n",
    "      ~ ~ ~ ~  \n",
    "      ~ % ) O\n",
    "* The key is 5 characters long and the second occurrence of %)O is 8 lines below the first occurrence of %)O, e.g.:  \n",
    "      ~ % ) O ~  \n",
    "      ~ ~ ~ ~ ~  \n",
    "      ~ ~ ~ ~ ~  \n",
    "      ~ ~ ~ ~ ~  \n",
    "      ~ ~ ~ ~ ~  \n",
    "      ~ ~ ~ ~ ~  \n",
    "      ~ ~ ~ ~ ~  \n",
    "      ~ ~ ~ ~ ~  \n",
    "      ~ % ) O ~\n",
    "* The key is 8 characters long and the second occurrence of %)O is 5 lines below the first occurrence of %)O, e.g.:  \n",
    "      ~ ~ % ) O ~ ~ ~  \n",
    "      ~ ~ ~ ~ ~ ~ ~ ~   \n",
    "      ~ ~ ~ ~ ~ ~ ~ ~   \n",
    "      ~ ~ ~ ~ ~ ~ ~ ~   \n",
    "      ~ ~ ~ ~ ~ ~ ~ ~   \n",
    "      ~ ~ % ) O ~ ~ ~\n",
    "* The key is 10 characters long and the second occurrence of %)O is 4 lines below the first occurrence of %)O, e.g.:  \n",
    "      ~ ~ ~ % ) O ~ ~ ~ ~  \n",
    "      ~ ~ ~ ~ ~ ~ ~ ~ ~ ~  \n",
    "      ~ ~ ~ ~ ~ ~ ~ ~ ~ ~  \n",
    "      ~ ~ ~ ~ ~ ~ ~ ~ ~ ~  \n",
    "      ~ ~ ~ % ) O ~ ~ ~ ~\n",
    "      \n",
    "In other words, the conjecture that two successive occurrences of an $n$-gram are aligned leads to the conclusion that the length of the key is a divisor at least equal to $n$ and at most equal to the value of `max_key_length` of the distance between (the start of) both occurrences. The following function returns a generator expression for the relevant divisors of its first argument, namely, those of its factors that are at least equal to its second argument and at most equal to the value of `max_key_length`:"
   ]
  },
  {
   "cell_type": "code",
   "execution_count": null,
   "metadata": {
    "scrolled": true
   },
   "outputs": [],
   "source": [
    "def factors_from_successive_n_grams(num, min_value):\n",
    "    return (i for i in range(min_value, max_key_length + 1) if num % i == 0)\n",
    "\n",
    "tuple(factors_from_successive_n_grams(40, 3))"
   ]
  },
  {
   "cell_type": "markdown",
   "metadata": {},
   "source": [
    "`factors_from_successive_n_grams()` returns a generator expression; each factor will be retrieved on demand, e.g., by calls to `next()`, or thanks to a `for` statement. We would like to generate on demand not just the relevant factors of the distance between two successive occurrences of a given $n$-gram, but the relevant factors of the distances of all pairs of successive occurrences of all $n$-grams (for the chosen values of $n$). To this aim, we introduce another mechanism, namely, generator functions. A generator function is a function with `yield` statements in its body. A `yield` statement can, but does not have to, be followed by an expression. In case an expression follows, the value of that expression is provided when the `yield` statement is executed; otherwise, `None` is provided. In any case, execution of the generator function then stops, waiting to be resumed, possibly, on demand:"
   ]
  },
  {
   "cell_type": "code",
   "execution_count": null,
   "metadata": {
    "scrolled": true
   },
   "outputs": [],
   "source": [
    "def f(n):\n",
    "    print('Before yielding', n)\n",
    "    yield n\n",
    "    print('Before yielding', n + 1)\n",
    "    yield n + 1\n",
    "    print('Before yielding None')\n",
    "    yield\n",
    "    print('Before yielding', n + 2)\n",
    "    yield n + 2\n",
    "    print('After yielding', n + 2)\n",
    "    \n",
    "F = f(10)\n",
    "F\n",
    "\n",
    "next(F)\n",
    "next(F)\n",
    "next(F)\n",
    "next(F)\n",
    "next(F)"
   ]
  },
  {
   "cell_type": "markdown",
   "metadata": {},
   "source": [
    "A generator function can also contain `return` statements:"
   ]
  },
  {
   "cell_type": "code",
   "execution_count": null,
   "metadata": {
    "scrolled": true
   },
   "outputs": [],
   "source": [
    "def f(n):\n",
    "    print('Before yielding', n)\n",
    "    yield n\n",
    "    print('Before yielding', n + 1)\n",
    "    yield n + 1\n",
    "    print('Before returning')\n",
    "    return\n",
    "    # Won't be printed out\n",
    "    print('After returning')\n",
    "    # Won't be yielded\n",
    "    yield n + 2\n",
    "    \n",
    "F = f(10)\n",
    "F\n",
    "\n",
    "next(F)\n",
    "next(F)\n",
    "next(F)\n",
    "next(F)\n",
    "next(F)"
   ]
  },
  {
   "cell_type": "markdown",
   "metadata": {},
   "source": [
    "A generator function can yield values yielded by another generator function or any other iterable:"
   ]
  },
  {
   "cell_type": "code",
   "execution_count": null,
   "metadata": {
    "scrolled": true
   },
   "outputs": [],
   "source": [
    "def f():\n",
    "    yield 1\n",
    "    yield 2\n",
    "    \n",
    "def g():\n",
    "    yield 0\n",
    "    for x in f():\n",
    "        yield x\n",
    "    for x in range(3, 6):\n",
    "        yield x\n",
    "    for x in (x for x in [6, 7, 8]):\n",
    "        yield x\n",
    "    for x in [9, 10]:\n",
    "        yield x\n",
    "\n",
    "G = g()\n",
    "for x in G:\n",
    "    print(x, end=' ')"
   ]
  },
  {
   "cell_type": "markdown",
   "metadata": {},
   "source": [
    "In such a context, `yield from` statements offer a more concise alternative:"
   ]
  },
  {
   "cell_type": "code",
   "execution_count": null,
   "metadata": {
    "scrolled": true
   },
   "outputs": [],
   "source": [
    "def f():\n",
    "    yield 1\n",
    "    yield 2\n",
    "    \n",
    "def g():\n",
    "    yield 0\n",
    "    yield from f()\n",
    "    yield from range(3, 6)\n",
    "    yield from (x for x in [6, 7, 8])\n",
    "    yield from [9, 10]\n",
    "\n",
    "list(g())"
   ]
  },
  {
   "cell_type": "markdown",
   "metadata": {},
   "source": [
    "Let us get back to the problem of discovering successive occurrences of $n$-grams. As part of our heuristics, let us set the sizes of $n$-grams to look for to the default values of 3, 4 and 5:"
   ]
  },
  {
   "cell_type": "code",
   "execution_count": null,
   "metadata": {
    "scrolled": true
   },
   "outputs": [],
   "source": [
    "n_gram_range = range(3, 6)"
   ]
  },
  {
   "cell_type": "markdown",
   "metadata": {},
   "source": [
    "To look for substrings within a string, we can use either `find()` or `index()` `str`'s  methods. They are exactly the same, except that `find()` returns `-1` whereas `index()` raises a `ValueError` exception when they fail to find their argument as a substring. Both methods take an optional second argument and a second optional third argument to limit the search within a narrower range than the full string to which the method is applied:"
   ]
  },
  {
   "cell_type": "code",
   "execution_count": null,
   "metadata": {
    "scrolled": true
   },
   "outputs": [],
   "source": [
    "'123123'.find('2')\n",
    "'123123'.find('2', 2)\n",
    "'123123'.find('2', 2, 4)"
   ]
  },
  {
   "cell_type": "markdown",
   "metadata": {},
   "source": [
    "When we find a pair of occurrences of a 5-gram, we are guaranteed to find as well 2 pairs of occurrences of 4-grams, and 3 pairs of occurrences of 3-grams, but there does not seem to be a good reason to prevent the redundancy (in particular because between two consecutive occurrences of an $n$-gram that extends a substring $s$, there can be other occurrences of $s$ in between). The following code fragment takes as example the first 91 characters of `message` (so the first 7 lines of `message` displayed over 13 columns as above) and collects in a list the relevant factors of the distances between all successive occurrences of all 3, 4 and 5-grams in this text. We trace execution and display, in particular, the contexts in which two successive occurrences of a 3, 4 or 5-gram have been detected:"
   ]
  },
  {
   "cell_type": "code",
   "execution_count": null,
   "metadata": {
    "scrolled": true
   },
   "outputs": [],
   "source": [
    "text = message[: 91]\n",
    "\n",
    "relevant_factors = []\n",
    "for n in (n_gram_range):\n",
    "    print(f'Looking for consecutive occurrences of {n}-grams:')\n",
    "    for i in range(len(text) - 2 * n + 1):\n",
    "        n_gram = text[i : i + n]\n",
    "        j = text.find(n_gram, i + n)\n",
    "        if j != -1:\n",
    "            print(f'  Found \"{n_gram}\" at indexes {i} and {j}\\n'\n",
    "                  f'  {text[i : j + n]}\\n'\n",
    "                  f'  Distance: {j - i}. Adding as factors:'\n",
    "                  f' {tuple(factors_from_successive_n_grams(j - i, n))}\\n'\n",
    "                 )\n",
    "            relevant_factors.extend(factors_from_successive_n_grams(j - i, n))\n",
    "            \n",
    "print(relevant_factors)"
   ]
  },
  {
   "cell_type": "markdown",
   "metadata": {},
   "source": [
    "It turns out that in these first seven lines, we do not get a single factor of 13: no 3-, 4- or 5-gram has two aligned successive occurrences. The search for successive occurrences of $n$-grams is anyway meant to be done in the encrypted message, and results are different; we used the original message for a friendlier illustration of the technique.\n",
    "\n",
    "The following generator function adapts the previous code to, for an arbitrary text passed as argument, not collect in a list the relevant factors of the distances between all successive occurrences of all $n$-grams in the text (for the chosen values of $n$), but have a mechanism to return them on demand:"
   ]
  },
  {
   "cell_type": "code",
   "execution_count": null,
   "metadata": {
    "scrolled": true
   },
   "outputs": [],
   "source": [
    "def all_collected_factors(text):\n",
    "    for n in n_gram_range:\n",
    "        for i in range(len(text) - 2 * n + 1):\n",
    "            j = text.find(text[i : i + n], i + n)\n",
    "            if j != -1:\n",
    "                yield from factors_from_successive_n_grams(j - i, n)\n",
    "\n",
    "print(list(all_collected_factors(encrypted_message)))"
   ]
  },
  {
   "cell_type": "markdown",
   "metadata": {},
   "source": [
    "Arguably, the more frequent a factor is, the more likely it is to be equal to the length of the key that has been used to encrypt the message. We therefore want to rank, from most frequent to least frequent, all factors that have been collected for all consecutive pairs of $n$-grams. The first step is to count each factor. Thanks to the `Counter` class from the `collections` module, it is straightforward to get from a collection a (type of object that embeds a) dictionary whose keys and values are the members of the collection and the number of times they occur in the collection, respectively:"
   ]
  },
  {
   "cell_type": "code",
   "execution_count": null,
   "metadata": {
    "scrolled": true
   },
   "outputs": [],
   "source": [
    "Counter([4, 5, 10, 13, 4, 5, 10, 13, 4, 5, 10, 13, 4, 8, 13])"
   ]
  },
  {
   "cell_type": "markdown",
   "metadata": {},
   "source": [
    "Factors should be ranked from the most frequent ones to the least frequent ones, but what to do when two factors have equal counts? E.g., what if both 8 and 16 occur 6,811 times? (This is the case when encrypting the text in `carroll.txt` with the key `'0123456789ABCDEF'`.) It seems probable that if the key length was 8 rather than 16, then we would have more $n$-grams that reveal vertical alignments over 8 columns than $n$-grams that reveal vertical alignments over 16 columns (actually, not having a single extra factor of 8 strongly suggests that the key length is 16 indeed). So we decide to rank the divisors from most frequent ones to least frequent ones, and for a given count, from largest ones to smallest ones. So the key of the sorting method needs to take into account first the values of the dictionary embedded in the counter, and then the keys. We can retrieve from a dictionary (be it embedded in a counter) keys only, values only, or both keys and values, in the form of list-like objects:"
   ]
  },
  {
   "cell_type": "code",
   "execution_count": null,
   "metadata": {
    "scrolled": true
   },
   "outputs": [],
   "source": [
    "D = {4: 4, 5: 3, 10: 3, 13: 4, 8: 1}\n",
    "D.keys()\n",
    "D.values()\n",
    "D.items()"
   ]
  },
  {
   "cell_type": "markdown",
   "metadata": {},
   "source": [
    "The third way of sorting the items of a dictionary offers the solution to ranking properly our collected factors:"
   ]
  },
  {
   "cell_type": "code",
   "execution_count": null,
   "metadata": {
    "scrolled": true
   },
   "outputs": [],
   "source": [
    "D = {4: 4, 5: 3, 10: 3, 13: 4, 8: 1}\n",
    "\n",
    "sorted(D.items(), reverse=True)\n",
    "[x[0] for x in sorted(D.items(), reverse=True)]\n",
    "\n",
    "sorted(D.items(), key=lambda x: x[1], reverse=True)\n",
    "[x[0] for x in sorted(D.items(), key=lambda x: x[1], reverse=True)]\n",
    "\n",
    "sorted(D.items(), key=lambda x: (x[1], x[0]), reverse=True)\n",
    "[x[0] for x in sorted(D.items(), key=lambda x: (x[1], x[0]), reverse=True)]"
   ]
  },
  {
   "cell_type": "markdown",
   "metadata": {},
   "source": [
    "Rather than using a lambda expression, we can also use `itemgetter()` from the `operator` module:"
   ]
  },
  {
   "cell_type": "code",
   "execution_count": null,
   "metadata": {
    "scrolled": true
   },
   "outputs": [],
   "source": [
    "L = ['A', 'B', 'C']\n",
    "itemgetter(0)(L)\n",
    "itemgetter(0, 2)(L)\n",
    "itemgetter(2, 0, 1)(L)\n",
    "\n",
    "D = {4: 4, 5: 3, 10: 3, 13: 4, 8: 1}\n",
    "sorted(D.items(), key=itemgetter(1, 0), reverse=True)\n",
    "[x[0] for x in sorted(D.items(), key=itemgetter(1, 0), reverse=True)]"
   ]
  },
  {
   "cell_type": "markdown",
   "metadata": {},
   "source": [
    "Having with `all_collected_factors()` a mechanism to generate some key lengths from most promising to least promising, we still would like to consider all possible key lengths between 1 and the value of `max_key_length`, starting with 1 (in case the message has actually been encrypted with the simple Caesar code), then those given by `all_collected_factors()`, and finally all others, from shortest to longest. This is the purpose of the following generator function:"
   ]
  },
  {
   "cell_type": "code",
   "execution_count": null,
   "metadata": {
    "scrolled": true
   },
   "outputs": [],
   "source": [
    "def key_lengths_from_most_to_least_promising(text):\n",
    "    yield 1\n",
    "    key_lengths =\\\n",
    "            [x[0] for x in sorted(Counter(all_collected_factors(text)).items(),\n",
    "                                  key=itemgetter(1, 0), reverse=True\n",
    "                                 )\n",
    "            ]\n",
    "    yield from key_lengths\n",
    "    yield from\\\n",
    "            (i for i in range(2, max_key_length + 1) if i not in key_lengths)\n",
    "\n",
    "list(key_lengths_from_most_to_least_promising(encrypted_message))"
   ]
  },
  {
   "cell_type": "markdown",
   "metadata": {},
   "source": [
    "For all $n<13$, the $n$-th character of `key` encrypts the $n$-th column of `message`, yielding the $n$-th column of `encrypted_message`, which can be decrypted back to the $n$-th column of `message`:  "
   ]
  },
  {
   "cell_type": "code",
   "execution_count": null,
   "metadata": {
    "scrolled": true
   },
   "outputs": [],
   "source": [
    "for n in range(13):\n",
    "    decrypt(key[n], encrypted_message[n :: 13])"
   ]
  },
  {
   "cell_type": "markdown",
   "metadata": {},
   "source": [
    "Compare with the result obtained when decrypting the $n$-th column of `encrypted_message` not with the right character (the $n$-th character in `key`), but with an arbitrary character:"
   ]
  },
  {
   "cell_type": "code",
   "execution_count": null,
   "metadata": {
    "scrolled": true
   },
   "outputs": [],
   "source": [
    "for n in range(13):\n",
    "    decrypt('m+2I|b~!AxZ=I', encrypted_message[n :: 13])"
   ]
  },
  {
   "cell_type": "markdown",
   "metadata": {},
   "source": [
    "The columns derived from the correct key contain more letters. But is that all? Is the distribution of letters in a given column good, in some sense? A column consisting of nothing but q's, z's and j's would not appear as natural. \n",
    "\n",
    "\"etaoinshrdlcumwfgypbvkjxqz\" is all lowercase letters ordered in decreasing frequency of use in English: \"e\" is most common, then comes \"t\", then \"a\"...\n",
    "\n",
    "A good distribution of letters in a given column should be relatively consistent with the ordering of letters given by the previous sequence. The notion of etaoin score will turn this idea into a precise measure.\n",
    "\n",
    "Consider the first column, \"Ai fh do epbeg ooneoAurn\". Let us convert all letters to lowercase and get a count of the number of occurrences of the letters that occur in the resulting string:"
   ]
  },
  {
   "cell_type": "code",
   "execution_count": null,
   "metadata": {
    "scrolled": true
   },
   "outputs": [],
   "source": [
    "column = Counter(c.lower() for c in 'Ai fh do epbeg ooneoAurn' if c.isalpha())\n",
    "print(column)"
   ]
  },
  {
   "cell_type": "markdown",
   "metadata": {},
   "source": [
    "Let us order the letters by decreasing frequency in `column`. When two letters $\\alpha$ and $\\beta$ share the same count, let us be \"pessimistic\" about `column`'s quality and rank $\\alpha$ before $\\beta$ if $\\alpha$ occurs after $\\beta$ in \"etaoinshrdlcumwfgypbvkjxqz\". So \"o\" comes first with 4 occurrences, then comes \"e\" with 3 occurrences. Both \"a\" and \"n\" have 2 occurrences, but \"a\" is more frequent than \"n\" in English (they occur at index 2 and 5 in `'etaoinshrdlcumwfgypbvkjxqz'`, respectively), so we rank \"n\" before \"a\". All other letters occur only once in `column`, with \"b\" least frequent in English, so ranked next, and \"i\" most frequent in English, so ranked last:"
   ]
  },
  {
   "cell_type": "code",
   "execution_count": null,
   "metadata": {
    "scrolled": true
   },
   "outputs": [],
   "source": [
    "ranked_letters_in_column = ''.join(\n",
    "       sorted(column,\n",
    "              key=lambda x: (column[x], 'etaoinshrdlcumwfgypbvkjxqz'.index(x)),\n",
    "              reverse=True\n",
    "             )\n",
    "                                 )\n",
    "\n",
    "ranked_letters_in_column"
   ]
  },
  {
   "cell_type": "markdown",
   "metadata": {},
   "source": [
    "The previous code can be improved by defining from `'etaoinshrdlcumwfgypbvkjxqz'` a dictionary thanks to which the index in that string of a lowercase letter can be more effectively retrieved, similarly to the way the dictionary `shifts` has been defined from the string `characters`:"
   ]
  },
  {
   "cell_type": "code",
   "execution_count": null,
   "metadata": {
    "scrolled": true
   },
   "outputs": [],
   "source": [
    "etaoin = {'etaoinshrdlcumwfgypbvkjxqz'[i]: i for i in range(26)}\n",
    "\n",
    "ranked_letters_in_column = ''.join(\n",
    "             sorted(column, key=lambda x: (column[x], etaoin[x]), reverse=True)\n",
    "                                  )\n",
    "\n",
    "ranked_letters_in_column"
   ]
  },
  {
   "cell_type": "markdown",
   "metadata": {},
   "source": [
    "The etaoin score of `ranked_letters_in_column` is actually a function of both `ranked_letters_in_column` and a nonzero natural number $l$ at most equal to the length of this string: for such a number $l$, it is equal to the number of elements common to the initial segments of `'oenabpgfudrhi'` and `'etaoinshrdlcumwfgypbvkjxqz'` of length $l$. Let us display for $l$ at most equal to 10, $l$ itself, then those initial segments of length $l$, then the letters both segments have in common, then the number of those letters, so the corresponding etaoin score:"
   ]
  },
  {
   "cell_type": "code",
   "execution_count": null,
   "metadata": {
    "scrolled": true
   },
   "outputs": [],
   "source": [
    "for i in range(1, 11):\n",
    "    s_1 = ranked_letters_in_column[: i]\n",
    "    s_2 = 'etaoinshrdlcumwfgypbvkjxqz'[: i]\n",
    "    s = ''.join(set(s_1) & set(s_2))\n",
    "    print(f'{i:2} {s_1:10} {s_2:10} {s:9} {len(s)}')"
   ]
  },
  {
   "cell_type": "markdown",
   "metadata": {},
   "source": [
    "Converting strings to sets and taking their intersections is not the most efficient approach here. We can instead look whether each of the first $l$ letters in `ranked_letters_in_column` is one of the first $l$ characters in `'etaoinshrdlcumwfgypbvkjxqz'`. To get the etaoin score of `ranked_letters_in_column` for $l=10$, we need to see how many times the `if` statement below evaluates to true:"
   ]
  },
  {
   "cell_type": "code",
   "execution_count": null,
   "metadata": {
    "scrolled": true
   },
   "outputs": [],
   "source": [
    "for i in range(10):\n",
    "    s = ranked_letters_in_column[i]\n",
    "    print(s, end=' ')\n",
    "    print('occurs' if etaoin[s] < 10 else 'does not occur in',\n",
    "          'etaoinshrdlcumwfgypbvkjxqz'[: 10]\n",
    "         )"
   ]
  },
  {
   "cell_type": "markdown",
   "metadata": {},
   "source": [
    "This is easily done with the `sum()` function:"
   ]
  },
  {
   "cell_type": "code",
   "execution_count": null,
   "metadata": {
    "scrolled": true
   },
   "outputs": [],
   "source": [
    "sum(1 for i in range(10) if etaoin[ranked_letters_in_column[i]] < 10)"
   ]
  },
  {
   "cell_type": "markdown",
   "metadata": {},
   "source": [
    "Putting it all together in a function:"
   ]
  },
  {
   "cell_type": "code",
   "execution_count": null,
   "metadata": {
    "scrolled": true
   },
   "outputs": [],
   "source": [
    "def etaoin_score(text, length):\n",
    "    letter_counts = Counter(c.lower() for c in text if c.isalpha())\n",
    "    ranked_letters = sorted(letter_counts,\n",
    "                            key=lambda x: (letter_counts[x], etaoin[x]),\n",
    "                            reverse=True\n",
    "                           )\n",
    "    return sum(1 for i in range(min(length, len(ranked_letters)))\n",
    "                     if etaoin[ranked_letters[i]] < length\n",
    "              )\n",
    "\n",
    "etaoin_score('Ai fh do epbeg ooneoAurn', 10)"
   ]
  },
  {
   "cell_type": "markdown",
   "metadata": {},
   "source": [
    "As part of the heuristic, we have to chose a value for the second argument `length` of `etaoin_score()`, which clearly should be neither too small not too large:"
   ]
  },
  {
   "cell_type": "code",
   "execution_count": null,
   "metadata": {
    "scrolled": true
   },
   "outputs": [],
   "source": [
    "etaoin_length = 6"
   ]
  },
  {
   "cell_type": "markdown",
   "metadata": {},
   "source": [
    "The 8th column of `message` displayed over 13 columns has be encrypted with \"E\", the 8th character of \"Take it Easy!\". Deciphering this column with \"E\" and \"e\" shows similar results, with at many positions, the same letter, but lowercase for one, and uppercase for the other. The etaoin score is the same for both:"
   ]
  },
  {
   "cell_type": "code",
   "execution_count": null,
   "metadata": {
    "scrolled": true
   },
   "outputs": [],
   "source": [
    "decrypt('E', encrypted_message[8 :: 13])\n",
    "decrypt('e', encrypted_message[8 :: 13])\n",
    "\n",
    "etaoin_score(decrypt('E', encrypted_message[8 :: 13]), etaoin_length)\n",
    "etaoin_score(decrypt('e', encrypted_message[8 :: 13]), etaoin_length)"
   ]
  },
  {
   "cell_type": "markdown",
   "metadata": {},
   "source": [
    "If we assume that the original message is \"usual\" text, with mostly lowercase letters, then we should consider \"E\" to be more promising than \"e\". More generally, when deciphering a given column of the encrypted message with two letters, if the ataoin scores differ, then the letter with the highest score is arguably more likely to be correct; but if both ataoin scores are the same, then the letter that yields the highest proportion of lowercase letters over all letters is arguably more likely to be correct.\n",
    "\n",
    "The following code fragment tentatively deciphers the 8th column of `encryped_message` with each of the 97 members of `characters` (1-character subkeys). It computes the 97 etaoin scores as well as the 97 proportions of lowercase letters over all letters plus 1 (to prevent division by 0). It then ranks each of the 97 1-character subkeys in decreasing value of etaoin score, and for a given etaoin score, in decreasing proportion of lowercase letters. Eventually, it displays the top 10 results, together with the corresponding tentative deciphering of the 8th column:"
   ]
  },
  {
   "cell_type": "code",
   "execution_count": null,
   "metadata": {
    "scrolled": true
   },
   "outputs": [],
   "source": [
    "scores = []\n",
    "for subkey in characters:\n",
    "    decrypted_column = decrypt(subkey, encrypted_message[8 :: 13])\n",
    "    nb_of_lowercase_letters = 0\n",
    "    nb_of_letters = 1\n",
    "    for c in (c for c in decrypted_column if c.isalpha()):\n",
    "        nb_of_letters += 1\n",
    "        if c.islower():\n",
    "            nb_of_lowercase_letters += 1\n",
    "    scores.append((subkey, etaoin_score(decrypted_column, etaoin_length),\n",
    "                   nb_of_lowercase_letters / nb_of_letters\n",
    "                  )\n",
    "                 )\n",
    "scores.sort(key=itemgetter(1, 2), reverse=True)\n",
    "\n",
    "for scored_subkey in scores[: 10]:\n",
    "    print(scored_subkey, decrypt(scored_subkey[0], encrypted_message[8 :: 13]))"
   ]
  },
  {
   "cell_type": "markdown",
   "metadata": {},
   "source": [
    "Given a tentative key length $l$, hoped to be the actual length of the hidden key, there are $l$ 1-character subkeys to discover, one for each column of the message displayed over $l$ many columns. One would like to consider, for each column, nothing but its most promising 1-character subkeys. Restricting ourselves to, for each column, its $k$ most promising subkeys, a total of $k^l$ full keys can then be assembled from the $l$ 1-character subkeys. So $k$ has to be small. Let us still make it another parameter of the overall heuristics and set it to a default of 2:"
   ]
  },
  {
   "cell_type": "code",
   "execution_count": null,
   "metadata": {
    "scrolled": true
   },
   "outputs": [],
   "source": [
    "nb_of_options_for_subkey = 2"
   ]
  },
  {
   "cell_type": "markdown",
   "metadata": {},
   "source": [
    "To easily generate all possible keys from all choices of 1-character subkeys, the `product` class from the `itertools` module is useful:"
   ]
  },
  {
   "cell_type": "code",
   "execution_count": null,
   "metadata": {
    "scrolled": true
   },
   "outputs": [],
   "source": [
    "# The cartesian product {0, 1} x {'A', 'B'} x {'c', 'd'}\n",
    "list(product(range(2), ['A', 'B'], (x for x in 'cd')))\n",
    "# The cartesian product ({0, 1} x {'A', 'B'})^2\n",
    "list(product(range(2), ['A', 'B'], repeat=2))"
   ]
  },
  {
   "cell_type": "markdown",
   "metadata": {},
   "source": [
    "The following code fragment passes as an argument to `list()` a generator expression to generate all keys of length 3 from a triple of 2 possible options for each of three 1-character subkeys, with `'0'` or `'1'` for the first subkey, `'A'` or `'B'` for the second subkey, `'c'` or `'d'` for the third subkey:  "
   ]
  },
  {
   "cell_type": "code",
   "execution_count": null,
   "metadata": {
    "scrolled": true
   },
   "outputs": [],
   "source": [
    "subkeys = ('0', '1'), ('A', 'B'), ('c', 'd')\n",
    "\n",
    "list(key for key in (''.join(subkey) for subkey in product(*subkeys)))"
   ]
  },
  {
   "cell_type": "markdown",
   "metadata": {},
   "source": [
    "Having assembled a complete key from 1-character subkeys, the encrypted message can be tentatively decrypted as a whole. Whereas 1-character subkeys look more or less promising depending on the distribution of letters in a tentatively decrypted column, whole keys look more or less promising depending on whether the tentatively decrypted message contains enough letters amongst all characters, and enough English words amongst all words, here defining a word as a longest sequence of consecutive letters. So any longest sequence of consecutive nonletters is a word separator; that is something not for the `split()` method of the `str` class, but for the `split()` function of the `re` module, using the syntax of regular expressions:"
   ]
  },
  {
   "cell_type": "code",
   "execution_count": null,
   "metadata": {
    "scrolled": true
   },
   "outputs": [],
   "source": [
    "# Using any of the characters between the square brackets as a separator\n",
    "split('[+$(^?=_)]', '0+$abc(^?DEF=_')\n",
    "# Using any longest nonempty sequence of the characters between the\n",
    "# square brackets as a separator\n",
    "split('[+$(^?=_)]+', '0+$abc(^?DEF=_')\n",
    "# Using any lowercase letter as a separator\n",
    "split('[a-z]', '0+$abc(^?DEF=_')\n",
    "# Using anything but a lowercase letter as a separator\n",
    "split('[^a-z]', '0+$abc(^?DEF=_')\n",
    "# Using any longest nonempty sequence of letters as a separator\n",
    "split('[a-zA-Z]+', '0+$abc(^?DEF=_')\n",
    "# Using any longest nonempty sequence of anything but letters or digits\n",
    "# as a separator\n",
    "split('[^a-zA-Z0-9]+', '0+$abc(^?DEF=_')"
   ]
  },
  {
   "cell_type": "markdown",
   "metadata": {},
   "source": [
    "So `'[^a-zA-Z]+'` is the regular expression we need:"
   ]
  },
  {
   "cell_type": "code",
   "execution_count": null,
   "metadata": {
    "scrolled": true
   },
   "outputs": [],
   "source": [
    "print(split('[^a-zA-Z]+', message))"
   ]
  },
  {
   "cell_type": "markdown",
   "metadata": {},
   "source": [
    "To complete the heuristics, we make use of two last parameters. First, a desired fraction of letters over all letters in the tentatively deciphered message, set to a default of 70%. Second, a desired fraction of English words over all words in the tentatively deciphered message, set to a default of 50%:"
   ]
  },
  {
   "cell_type": "code",
   "execution_count": null,
   "metadata": {
    "scrolled": true
   },
   "outputs": [],
   "source": [
    "fraction_of_letters = 0.7\n",
    "fraction_of_words = .5"
   ]
  },
  {
   "cell_type": "markdown",
   "metadata": {},
   "source": [
    "With `dictionary` denoting a list of all lowercase English words (first read from a file in practice), the following function returns `True` or `False` depending on whether the tentatively decrypted message passed as first argument looks right or not. In case the function returns `True`, the tentatively decrypted message will be displayed to the user to accept, or to reject, in which case the program will resume its search for the correct key:"
   ]
  },
  {
   "cell_type": "code",
   "execution_count": null,
   "metadata": {
    "scrolled": true
   },
   "outputs": [],
   "source": [
    "def looks_like_English(text, dictionary):\n",
    "    if sum(1 for c in text if c.isalpha()) / len(text) < fraction_of_letters:\n",
    "        return False\n",
    "    possible_words = split('[^a-zA-Z]+', text)\n",
    "    nb_of_words = sum(1 for w in possible_words if w in dictionary)\n",
    "    return nb_of_words / len(possible_words) > fraction_of_words"
   ]
  },
  {
   "cell_type": "markdown",
   "metadata": {},
   "source": [
    "We are ready to put everything together.\n",
    "\n",
    "* A function `encrypt_file()` is designed to encrypt the text contained in a file, whose name is provided as second argument, the first argument being the encryption key. By default, the function displays the encrypted message to the screen, but the third argument, set by default to `None`, can be changed to the name of a file and the encrypted message will then be written to this file instead.\n",
    "    * To read from a file, the second argument should be the name of an existing file. Otherwise, `open()` will raise a `FileNotFoundError` exception, which the code catches in an `except` statement.\n",
    "    * To write to a new file or overwrite the contents of an existing file, the `open()` function is given `'w'` as second argument.\n",
    "    * `encrypt_file()` just calls the `encrypt()` function to perform the encryption. That function expects the message to encrypt to be given as a single string, with as many embedded `'\\n'` characters in the string as there are lines in the message. To read the whole contents of a file as a single string, we use the `read()` method of the object returned by the `open()` function.\n",
    "* A function `decrypt_file()` is designed to decrypt the text contained in a file, whose name is provided as second argument, the first argument being the encryption key. By default, the function displays the decrypted message to the screen, but the third argument, set by default to `None`, can be changed to the name of a file and the decrypted message will then be written to this file instead, provided that it does not exist.\n",
    "    * To write to a new file, the `open()` function is given `'x'` as second argument; in case the file exists, then `open()` will not overwrite it but instead, raise a `FileExistsError` exception.\n",
    "    * `decrypt_file()` just calls the `decrypt()` function to perform the decryption, also using `read()` to get the message to decrypt as a single string.\n",
    "* A function `break_key_for_file()` is designed to try and break the key of an encrypted message stored in a file whose name is passed as argument to `break_key_for_file()`. Here again, `read()` is used to get the text to decrypt (from a key that first, has to be discovered) as a single string, that is passed an an argument to another function, `break_key()`.\n",
    "    * `break_key()` opens a file meant to contain a list of English words, one per line. The `strip()` method is used to discard the new line character that ends each line of this file, the `lower()` method to convert each word to all lowercase.\n",
    "    * `break_key()` quickly displays all keys it comes up with to tentatively decrypt the encrypted message; carriage return is used to quickly display all keys of a given length on a single line, each such key overwriting the previous one.\n",
    "    * When `looks_like_English()` returns `True`, `break_key()` displays the first 200 characters of the tentatively deciphered message, and prompts the user to express whether the message has been successfully decrypted, or whether search for another key should be resumed. In case it exhausts all keys it comes up with, none of which is either proposed to or validated by the user, `break_key()` admits defeat."
   ]
  },
  {
   "cell_type": "code",
   "execution_count": null,
   "metadata": {
    "scrolled": true
   },
   "outputs": [],
   "source": [
    "dictionary_file = 'dictionary.txt'\n",
    "\n",
    "def encrypt_file(key, filename, encrypted_filename=None):\n",
    "    try:\n",
    "        with open(filename) as file:\n",
    "            if encrypted_filename:\n",
    "                with open(encrypted_filename, 'w') as encrypted_file:\n",
    "                    print(encrypt(key, file.read()), end='',\n",
    "                          file=encrypted_file\n",
    "                         )\n",
    "            else:\n",
    "                return encrypt(key, file.read())\n",
    "    except FileNotFoundError:\n",
    "        print(f'Could not open {filename}, giving up.')\n",
    "\n",
    "def decrypt_file(key, filename, decrypted_filename=None):\n",
    "    try:\n",
    "        with open(filename) as file:\n",
    "            if decrypted_filename:\n",
    "                try:\n",
    "                    with open(decrypted_filename, 'x') as decrypted_file:\n",
    "                        print(decrypt(key, file.read()), file=decrypted_file)\n",
    "                except FileExistsError:\n",
    "                    print(f'{decrypted_filename} exists, giving up.')\n",
    "            else:\n",
    "                return decrypt(key, file.read())\n",
    "    except FileNotFoundError:\n",
    "        print(f'Could not open {filename}, giving up.')\n",
    "\n",
    "def break_key_for_file(filename):\n",
    "    try:\n",
    "        with open(filename) as file:\n",
    "            break_key(file.read())\n",
    "    except FileNotFoundError:\n",
    "        print(f'Could not open {filename}, giving up.')\n",
    "\n",
    "def break_key(text):\n",
    "    try:\n",
    "        with open(dictionary_file) as file:\n",
    "            dictionary = {w.strip().lower() for w in file}\n",
    "    except FileNotFoundError:\n",
    "        print(f'Could not open the file {dictionary_file}, giving up.')\n",
    "        return\n",
    "    for key_length in key_lengths_from_most_to_least_promising(text):\n",
    "        print(f'\\nNow working with keys of length {key_length}')\n",
    "        subkeys = []\n",
    "        for n in range(key_length):\n",
    "            scores = []\n",
    "            for subkey in characters:\n",
    "                decrypted_column = decrypt(subkey, text[n :: key_length])\n",
    "                nb_of_lowercase_letters = 0\n",
    "                nb_of_letters = 1\n",
    "                letters = (c for c in decrypted_column if c.isalpha())\n",
    "                for c in letters:\n",
    "                    nb_of_letters += 1\n",
    "                    if c.islower():\n",
    "                        nb_of_lowercase_letters += 1\n",
    "                scores.append((subkey,\n",
    "                               etaoin_score(decrypted_column, etaoin_length),\n",
    "                               nb_of_lowercase_letters / nb_of_letters\n",
    "                              )\n",
    "                             )\n",
    "            scores.sort(key=itemgetter(1, 2), reverse=True)\n",
    "            subkeys.append(x[0] for x in scores[: nb_of_options_for_subkey])\n",
    "        for key in (''.join(subkey) for subkey in product(*subkeys)):\n",
    "            print('\\r', key, end='')\n",
    "            decrypted_text = decrypt(key, text)\n",
    "            if looks_like_English(decrypted_text, dictionary):\n",
    "                print('\\nWhat about this?\\n')\n",
    "                print(decrypted_text[: 200], '...', sep='')\n",
    "                print()\n",
    "                print('Enter Y[es] if happy, otherwise press any key '\n",
    "                      \"and I'll keep working.\"\n",
    "                     )\n",
    "                yes_or_no = input('> ')\n",
    "                if yes_or_no in {'YES', 'Yes', 'yes', 'Y', 'y'}:\n",
    "                    print(f'The key is: \"{key}\"')\n",
    "                    return\n",
    "    print('Sorry, I did my best...')"
   ]
  },
  {
   "cell_type": "code",
   "execution_count": null,
   "metadata": {
    "scrolled": true
   },
   "outputs": [],
   "source": [
    "encrypt_file('Take it Easy!', 'carroll.txt', 'encrypted_carroll.txt')\n",
    "break_key_for_file('encrypted_carroll.txt')"
   ]
  }
 ],
 "metadata": {
  "kernelspec": {
   "display_name": "Python 3 (ipykernel)",
   "language": "python",
   "name": "python3"
  },
  "language_info": {
   "codemirror_mode": {
    "name": "ipython",
    "version": 3
   },
   "file_extension": ".py",
   "mimetype": "text/x-python",
   "name": "python",
   "nbconvert_exporter": "python",
   "pygments_lexer": "ipython3",
   "version": "3.9.7"
  },
  "latex_envs": {
   "LaTeX_envs_menu_present": true,
   "autoclose": false,
   "autocomplete": true,
   "bibliofile": "biblio.bib",
   "cite_by": "apalike",
   "current_citInitial": 1,
   "eqLabelWithNumbers": true,
   "eqNumInitial": 1,
   "hotkeys": {
    "equation": "Ctrl-E",
    "itemize": "Ctrl-I"
   },
   "labels_anchors": false,
   "latex_user_defs": false,
   "report_style_numbering": false,
   "user_envs_cfg": false
  },
  "toc": {
   "base_numbering": 1,
   "nav_menu": {},
   "number_sections": true,
   "sideBar": true,
   "skip_h1_title": false,
   "title_cell": "Table of Contents",
   "title_sidebar": "Contents",
   "toc_cell": false,
   "toc_position": {},
   "toc_section_display": true,
   "toc_window_display": false
  }
 },
 "nbformat": 4,
 "nbformat_minor": 2
}
