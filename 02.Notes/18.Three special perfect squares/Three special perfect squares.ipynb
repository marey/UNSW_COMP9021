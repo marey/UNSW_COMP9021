{
 "cells": [
  {
   "cell_type": "code",
   "execution_count": null,
   "metadata": {},
   "outputs": [],
   "source": [
    "# Does not need to be executed if\n",
    "# ~/.ipython/profile_default/ipython_config.py\n",
    "# exists and contains:\n",
    "# get_config().InteractiveShell.ast_node_interactivity = 'all'\n",
    "\n",
    "from IPython.core.interactiveshell import InteractiveShell\n",
    "InteractiveShell.ast_node_interactivity = 'all'"
   ]
  },
  {
   "cell_type": "code",
   "execution_count": null,
   "metadata": {
    "init_cell": true
   },
   "outputs": [],
   "source": [
    "from math import sqrt"
   ]
  },
  {
   "cell_type": "markdown",
   "metadata": {},
   "source": [
    "We aim to find all triples $(a,b,c)$ of natural numbers such that:\n",
    "\n",
    "* $a<b<c$;\n",
    "* $a$, $b$ and $c$ are perfect squares;\n",
    "* 0 occurs in none of $a$, $b$ and $c$;\n",
    "* every nonzero digit occurs exactly once in one of $a$, $b$ and $c$.\n",
    "\n",
    "For instance $(25, 841, 7396)$ is a solution since $25=5^2$, $841=29^2$, $7396=86^2$, and we see that each of 1, 2, 3, 4, 5, 6, 7, 8 and 9 occurs once and only once in 25, 841 or 7396.\n",
    "\n",
    "A bad strategy would be to generate natural numbers, check whether they are perfect squares, and in case they aren't, discard them. A much better strategy is to generate nothing but perfect squares.\n",
    "\n",
    "*  Since we need 3 perfect squares and use up each of the 9 nonzero digits once and only once, $c$ can consist of at most 7 digits, leaving one digit to $a$ and 1 digit to $b$. There are three 1-digit nonzero perfect squares: 1, 4 and 9. So a largest possible value for $c$ is obtained by setting $a$ to 1, $b$ to 4, and $c$ to 9876532.\n",
    "* A largest possible value for $a$ is 997: otherwise, $b$ would consist of at least 3 digits and $c$ would consist of at least 4 digits, for a total of at least 10 digits.\n",
    "* A largest possible value for $b$ is 9998: otherwise, $c$ would consist of at least 5 digits and $a$ takes at least one digit, for a total of at least 10 digits.\n",
    "\n",
    "We could therefore look for solutions with the following code structure:"
   ]
  },
  {
   "cell_type": "code",
   "execution_count": null,
   "metadata": {},
   "outputs": [],
   "source": [
    "for i in range(1, int(sqrt(997)) + 1):\n",
    "    a = i ** 2\n",
    "    for j in range(i + 1, int(sqrt(9998)) + 1):\n",
    "        b = j ** 2\n",
    "        for k in range(j + 1, int(sqrt(9876532)) + 1):\n",
    "            c = k ** 2\n",
    "            # Check whether (a, b, c) is a solution;\n",
    "            # display it if it."
   ]
  },
  {
   "cell_type": "markdown",
   "metadata": {},
   "source": [
    "Let us see how many triples would be considered with the previous code structure:"
   ]
  },
  {
   "cell_type": "code",
   "execution_count": null,
   "metadata": {},
   "outputs": [],
   "source": [
    "sum(1 for i in range(1, int(sqrt(997)) + 1)\n",
    "        for j in range(i + 1, int(sqrt(9998)) + 1)\n",
    "            for k in range(j + 1, int(sqrt(9876532)) + 1)\n",
    "   )"
   ]
  },
  {
   "cell_type": "markdown",
   "metadata": {},
   "source": [
    "There is no need to consider candidates for $b$ (and $c$) in case the code generates a value for $a$ that can be discarded because it contains at least one occurrence of 0 or at least two occurrences of the same digit; there is also no need to consider candidates for $c$ in case the code generates a value for $b$ that can be discarded because it contains at least one occurrence of 0 or some digit occurs at least twice in $a$ and $b$ considered together. So a better code structure is:"
   ]
  },
  {
   "cell_type": "code",
   "execution_count": null,
   "metadata": {},
   "outputs": [],
   "source": [
    "for i in range(1, int(sqrt(997)) + 1):\n",
    "    a = i ** 2\n",
    "    # If a contains 0 or many occurrences of the same digit:\n",
    "    #     continue\n",
    "    for j in range(i + 1, int(sqrt(9998)) + 1):\n",
    "        b = j ** 2\n",
    "        # If b contains 0 or digits that occur in a or many occurrences\n",
    "        # f the same digit:\n",
    "        #     continue\n",
    "        for k in range(j + 1, int(sqrt(9876532)) + 1):\n",
    "            c = k ** 2\n",
    "            # Check whether (a, b, c) is a solution;\n",
    "            # display it if it is."
   ]
  },
  {
   "cell_type": "markdown",
   "metadata": {},
   "source": [
    "It seems that 0 plays a special role, but one can \"pretend\" that 0 is being generated in the first place, in which case we want to consider only candidates for $a$ which consist of nothing but distinct digits none of which belongs to the set $S_0$ of digits \"seen\" before (namely, $\\{0\\}$), and then consider only candidates for $b$ which consist of nothing but distinct digits none of which belongs to the set $S_1$ of digits seen before (namely, the union of $S_0$ with the set of digits that occur in $a$), and then consider only candidates for $c$ which consist of nothing but distinct digits none of which belongs to the set $S_2$ of digits seen before (namely, the union of $S_1$ with the set of digits that occur in $b$).\n",
    "\n",
    "We will examine three techniques to keep track of the digits seen before, and to check that the candidate for $a$, $b$ or $c$ under consideration consists of nothing but distinct new digits.\n",
    "\n",
    "With the first technique, we work with sets of digit characters rather than sets of digits, e.g., with `{'0'}` rather than `{0}`, with `{'0', '2', '4', '5', '7', '8'}` rather than `{0, 2, 4, 5, 7, 8}`.  Having such a set $S$ of digit characters for the digits seen before (or \"pretended\" to be seen before in the case of 0), and considering a candidate $n$ for $a$, $b$ or $c$, we get a string $s$ from $n$, then a set $T$ of characters from $s$. Then all digits in $n$ are distinct and different to the digits seen before iff the number of digits in $n$ plus the number of (distinct) digits seen before, the latter being the cardinality of $S$, is equal to the cardinality of $S\\cup T$. The cardinality of a set can be computed with the `len()` function. The number of digits in $n$ is nothing but the length of $s$, which can also be computed with the `len()` function. The union of two sets can be computed with the `|` operator:"
   ]
  },
  {
   "cell_type": "code",
   "execution_count": null,
   "metadata": {},
   "outputs": [],
   "source": [
    "# Assume that 0, 2 and 5 are the digits seen before\n",
    "S = {'0', '2', '5'}\n",
    "\n",
    "# All digits in b are distinct and different to the digits seen before,\n",
    "# so all good\n",
    "b = 784\n",
    "str(b), set(str(b)), S | set(str(b))\n",
    "len(S) + len(str(b)), len(S | set(str(b)))\n",
    "\n",
    "# Not all digits in b are distinct, so not good\n",
    "b = 676\n",
    "str(b), set(str(b)), S | set(str(b))\n",
    "len(S) + len(str(b)), len(S | set(str(b)))\n",
    "\n",
    "# Some digits in b have been seen before, so not good\n",
    "b = 729\n",
    "str(b), set(str(b)), S | set(str(b))\n",
    "len(S) + len(str(b)), len(S | set(str(b)))"
   ]
  },
  {
   "cell_type": "markdown",
   "metadata": {},
   "source": [
    "Rather than using the `|` operator, one can also call the `union` method, to be distinguished from the `update()` method: the latter does not return a new set but changes the set to which the method is applied. Also note that one can get the union of more than two sets: "
   ]
  },
  {
   "cell_type": "code",
   "execution_count": null,
   "metadata": {},
   "outputs": [],
   "source": [
    "S = {2, 4, 6}\n",
    "\n",
    "S.union((3, 5, 7)), S\n",
    "S.update((3, 5, 7)), S\n",
    "S.union((10, 11), {20, 21, 22}, [30]), S\n",
    "S.update((10, 11), {20, 21, 22}, [30]), S\n",
    "{2, 4, 6} | {10, 11} | {20, 21, 22} | {30}"
   ]
  },
  {
   "cell_type": "markdown",
   "metadata": {},
   "source": [
    "The same distinction applies to intersection, difference, and symmetric difference, which for intersection and difference (but not symmetric difference), also accept many arguments, and which also have their own operators:"
   ]
  },
  {
   "cell_type": "code",
   "execution_count": null,
   "metadata": {},
   "outputs": [],
   "source": [
    "S = {2, 3, 4, 5, 6, 7}\n",
    "\n",
    "S.intersection((4, 5, 6, 7, 8, 9)), S\n",
    "S.intersection_update((4, 5, 6, 7, 8, 9)), S\n",
    "S.intersection((5, 6, 7, 8), {6, 7, 8, 9}, [7, 8, 10]), S\n",
    "S.intersection_update((5, 6, 7, 8), {6, 7, 8, 9}, [7, 8, 10]), S\n",
    "{2, 3, 4, 5, 6, 7} & {5, 6, 7, 8} & {6, 7, 8, 9} & {7, 8, 10}"
   ]
  },
  {
   "cell_type": "code",
   "execution_count": null,
   "metadata": {},
   "outputs": [],
   "source": [
    "S = {2, 3, 4, 5, 6, 7}\n",
    "\n",
    "S.difference((0, 1, 4, 5)), S\n",
    "S.difference_update((0, 1, 4, 5)), S\n",
    "S.difference((2, 8, 9), {6, 8, 9, 10}, [10, 11]), S\n",
    "S.difference_update((2, 8, 9), {6, 8, 9, 10}, [10, 11]), S\n",
    "{2, 3, 4, 5, 6, 7} - {2, 8, 9} - {6, 8, 9, 10} - {10, 11}"
   ]
  },
  {
   "cell_type": "code",
   "execution_count": null,
   "metadata": {},
   "outputs": [],
   "source": [
    "S = {2, 3, 4, 5, 6}\n",
    "\n",
    "S.symmetric_difference((4, 5, 6, 7, 8)), S\n",
    "S.symmetric_difference_update((4, 5, 6, 7, 8)), S\n",
    "{2, 3, 4, 5, 6} ^ {4, 5, 6, 7, 8} ^ {2, 3, 8, 9} ^ {0, 1}"
   ]
  },
  {
   "cell_type": "markdown",
   "metadata": {},
   "source": [
    "Let us write a function `digits_if_ok_1()` with two parameters, `number`, meant to be assigned a natural number, and `digits_seen_before`,  meant to be assigned a set of digit characters. The function is expected to return `None` if as characters, it is not the case that the digits in `number` are all distinct and different to those in `digits_seen_before`; otherwise, `digits_if_ok_1()` is expected to return a new set of digit characters that extends `digits_seen_before` with those in `number`:"
   ]
  },
  {
   "cell_type": "code",
   "execution_count": null,
   "metadata": {},
   "outputs": [],
   "source": [
    "def digits_if_ok_1(number, digits_seen_before):\n",
    "    number_str = str(number)\n",
    "    digits_seen_now = digits_seen_before | set(number_str)\n",
    "    if len(digits_seen_now) != len(digits_seen_before) + len(number_str):\n",
    "        return\n",
    "    return digits_seen_now\n",
    "\n",
    "digits_if_ok_1(784, {'0', '2', '5'})\n",
    "print(digits_if_ok_1(676, {'0', '2', '5'}))\n",
    "print(digits_if_ok_1(729, {'0', '2', '5'}))"
   ]
  },
  {
   "cell_type": "markdown",
   "metadata": {},
   "source": [
    "We can now find out how many triples will be considered with the better code structure previously outlined:"
   ]
  },
  {
   "cell_type": "code",
   "execution_count": null,
   "metadata": {},
   "outputs": [],
   "source": [
    "nb_of_triples = 0\n",
    "\n",
    "for i in range(1, int(sqrt(997)) + 1):\n",
    "    a = i ** 2\n",
    "    a_digits_and_0 = digits_if_ok_1(a, {'0'})\n",
    "    if not a_digits_and_0:\n",
    "        continue\n",
    "    for j in range(i + 1, int(sqrt(9998)) + 1):\n",
    "        b = j ** 2\n",
    "        a_b_digits_and_0 = digits_if_ok_1(b, a_digits_and_0)\n",
    "        if not a_b_digits_and_0:\n",
    "            continue\n",
    "        for k in range(j + 1, int(sqrt(9876532)) + 1):\n",
    "            nb_of_triples += 1\n",
    "            \n",
    "nb_of_triples"
   ]
  },
  {
   "cell_type": "markdown",
   "metadata": {},
   "source": [
    "To complete the implementation, it suffices to also check whether the digits in $c$ are distinct and different to those seen before, and if that is the case, check that 10 digits have been seen altogether (since we included 0 to start with). We complement the code with a count for the number of solutions being discovered:  "
   ]
  },
  {
   "cell_type": "code",
   "execution_count": null,
   "metadata": {},
   "outputs": [],
   "source": [
    "nb_of_solutions = 0\n",
    "\n",
    "for i in range(1, int(sqrt(997)) + 1):\n",
    "    a = i ** 2\n",
    "    a_digits_and_0 = digits_if_ok_1(a, {'0'})\n",
    "    if not a_digits_and_0:\n",
    "        continue\n",
    "    for j in range(i + 1, int(sqrt(9998)) + 1):\n",
    "        b = j ** 2\n",
    "        a_b_digits_and_0 = digits_if_ok_1(b, a_digits_and_0)\n",
    "        if not a_b_digits_and_0:\n",
    "            continue\n",
    "        for k in range(j + 1, int(sqrt(9876532)) + 1):\n",
    "            c = k ** 2\n",
    "            a_b_c_digits_and_0 = digits_if_ok_1(c, a_b_digits_and_0)\n",
    "            if not a_b_c_digits_and_0 or len(a_b_c_digits_and_0) != 10:\n",
    "                continue\n",
    "            print(f'{a:7} {b:7} {c:7}')\n",
    "            nb_of_solutions += 1\n",
    "\n",
    "print('Altogether,', nb_of_solutions, 'solutions have been discovered.')"
   ]
  },
  {
   "cell_type": "markdown",
   "metadata": {},
   "source": [
    "With the second technique, we work with sets of digits. Having such a set $S$ of digits for the digits seen before (or \"pretended\" to be seen before in the case of 0), and considering a candidate $n$ for $a$, $b$ or $c$, we extract the rightmost digit $d$ in $n$, give up on that candidate in case $d$ belongs to $S$ but add $d$ to $S$ otherwise, and proceed this way for all remaining digits in $n$, if any. Computation of $n$ modulo 10 and integer division by 10 return the rightmost digit and the remaining digits in $n$, respectively. The function `digits_if_ok_2()` implements this technique:"
   ]
  },
  {
   "cell_type": "code",
   "execution_count": null,
   "metadata": {},
   "outputs": [],
   "source": [
    "def digits_if_ok_2(number, seen_digits):\n",
    "    while number:\n",
    "        number, digit = divmod(number, 10)\n",
    "        if digit in seen_digits:\n",
    "            return\n",
    "        seen_digits.add(digit)\n",
    "    return seen_digits\n",
    "\n",
    "digits_if_ok_2(784, {0, 2, 5})\n",
    "print(digits_if_ok_2(676, {0, 2, 5}))\n",
    "print(digits_if_ok_2(729, {0, 2, 5}))"
   ]
  },
  {
   "cell_type": "markdown",
   "metadata": {},
   "source": [
    "Assume that we adjust the code that discovers and outputs all solutions with the second technique by just\n",
    "\n",
    "* changing `a_digits_and_0 = digits_if_ok_1(a, {'0'})` to  `a_digits_and_0 = digits_if_ok_2(a, {0})`, and\n",
    "* changing the other two calls to `digits_if_ok_1()` to calls to `digits_if_ok_2()`.\n",
    "\n",
    "We know that there are solutions for $a=5^2=25$ together with both $b=28^2=784$ and $b=29^2=841$. This means that\n",
    "\n",
    "* at some point, `a_digits_and_0` will evaluate to `{0, 2, 5}`,\n",
    "* `a_b_digits_and_0 = digits_if_ok_2(784, a_digits_and_0)` will be executed, and later\n",
    "* `a_b_digits_and_0 = digits_if_ok_2(841, a_digits_and_0)` will be executed.\n",
    "\n",
    "The following code fragment demonstrates that we will not get the expected results, and why:"
   ]
  },
  {
   "cell_type": "code",
   "execution_count": null,
   "metadata": {},
   "outputs": [],
   "source": [
    "a_digits_and_0 = {0, 2, 5}\n",
    "a_b_digits_and_0 = digits_if_ok_2(784, a_digits_and_0)\n",
    "print(a_b_digits_and_0)\n",
    "a_digits_and_0\n",
    "a_b_digits_and_0 = digits_if_ok_2(841, a_digits_and_0)\n",
    "print(a_b_digits_and_0)"
   ]
  },
  {
   "cell_type": "markdown",
   "metadata": {},
   "source": [
    "In the following code fragment, we see:\n",
    "\n",
    "* `f(n)` make `a` denote what `n` denotes, namely, the integer 1, represented somewhere in memory, before the statement `a = 10` makes `a` denote another integer, namely, 10, represented elsewhere in memory;\n",
    "* `g(A)` make `A` denote what `S` denotes, namely, the set {2}, represented somewhere in memory, before the statement `A = {20}` makes `B` denote another set, namely, {20}, represented elsewhere in memory;\n",
    "* `h(B)` make `B` denote what `L` denotes, namely, the list [3], represented somewhere in memory, before the statement `B = [30]` makes `B` denote another list, namely, [30], represented elsewhere in memory."
   ]
  },
  {
   "cell_type": "code",
   "execution_count": null,
   "metadata": {},
   "outputs": [],
   "source": [
    "n = 1\n",
    "S = {2}\n",
    "L = [3]\n",
    "\n",
    "def f(a):\n",
    "    print(a)\n",
    "    a = 10\n",
    "    \n",
    "def g(A):\n",
    "    print(A)\n",
    "    A = {20}\n",
    "    \n",
    "def h(B):\n",
    "    print(B)\n",
    "    B = [30]\n",
    "    \n",
    "f(n); n\n",
    "g(S); S\n",
    "h(L); L"
   ]
  },
  {
   "cell_type": "markdown",
   "metadata": {},
   "source": [
    "In the following code fragment, we see:\n",
    "\n",
    "* `g(A)` make `A` denote what `S` denotes, namely, the set {2}, represented somewhere in memory, before the statement `A.add(20)` changes that set to {2, 20} by letting the representation of {2, 20} replace the representation of {2} in memory;\n",
    "* `h(B)` make `B` denote what `L` denotes, namely, the list [3], represented somewhere in memory, before the statement `B.append(30)` changes that list to [3, 30] by letting the representation of [3, 30] replace the representation of [3] in memory."
   ]
  },
  {
   "cell_type": "code",
   "execution_count": null,
   "metadata": {},
   "outputs": [],
   "source": [
    "S = {2}\n",
    "L = [3]\n",
    "\n",
    "def g(A):\n",
    "    print(A)\n",
    "    A.add(20)\n",
    "    \n",
    "def h(B):\n",
    "    print(B)\n",
    "    B.append(30)\n",
    "    \n",
    "g(S); S\n",
    "h(L); L"
   ]
  },
  {
   "cell_type": "markdown",
   "metadata": {},
   "source": [
    "We infer that `digits_if_ok_2()` should receive as second argument not the set of digits seen before, but a copy of that set; the copy will be extended with the digits in the number passed as first argument in case those digits are all distinct and different to the digits seen before, leaving the first argument unmodified; `set()`, `list()`, `tuple()`, return a set, a list, a tuple, respectively, consisting of the elements that make up their arguments: "
   ]
  },
  {
   "cell_type": "code",
   "execution_count": null,
   "metadata": {},
   "outputs": [],
   "source": [
    "S = {1, 2, 3}\n",
    "L = [1, 2, 3]\n",
    "T = 1, 2, 3\n",
    "s = '123'\n",
    "\n",
    "set(S), set(L), set(T), set(s)\n",
    "list(S), list(L), list(T), list(s)\n",
    "tuple(S), tuple(L), tuple(T), tuple(s)"
   ]
  },
  {
   "cell_type": "markdown",
   "metadata": {},
   "source": [
    "The problematic code fragment can then be amended as follows:"
   ]
  },
  {
   "cell_type": "code",
   "execution_count": null,
   "metadata": {},
   "outputs": [],
   "source": [
    "a_digits_and_0 = {0, 2, 5}\n",
    "a_b_digits_and_0 = digits_if_ok_2(784, set(a_digits_and_0))\n",
    "print(a_b_digits_and_0)\n",
    "a_digits_and_0\n",
    "a_b_digits_and_0 = digits_if_ok_2(841, set(a_digits_and_0))\n",
    "print(a_b_digits_and_0)"
   ]
  },
  {
   "cell_type": "markdown",
   "metadata": {},
   "source": [
    "The solution based on the second technique is then a simple modification of the implementation based on the first technique:"
   ]
  },
  {
   "cell_type": "code",
   "execution_count": null,
   "metadata": {},
   "outputs": [],
   "source": [
    "nb_of_solutions = 0\n",
    "\n",
    "for i in range(1, int(sqrt(997)) + 1):\n",
    "    a = i ** 2\n",
    "    a_digits_and_0 = digits_if_ok_2(a, {0})\n",
    "    if not a_digits_and_0:\n",
    "        continue\n",
    "    for j in range(i + 1, int(sqrt(9998)) + 1):\n",
    "        b = j ** 2\n",
    "        a_b_digits_and_0 = digits_if_ok_2(b, set(a_digits_and_0))\n",
    "        if not a_b_digits_and_0:\n",
    "            continue\n",
    "        for k in range(j + 1, int(sqrt(9876532)) + 1):\n",
    "            c = k ** 2\n",
    "            a_b_c_digits_and_0 = digits_if_ok_2(c, set(a_b_digits_and_0))\n",
    "            if not a_b_c_digits_and_0 or len(a_b_c_digits_and_0) != 10:\n",
    "                continue\n",
    "            print(f'{a:7} {b:7} {c:7}')\n",
    "            nb_of_solutions += 1\n",
    "\n",
    "print('Altogether,', nb_of_solutions, 'solutions have been discovered.')"
   ]
  },
  {
   "cell_type": "markdown",
   "metadata": {},
   "source": [
    "With the third technique, we work with natural numbers smaller than $2^{10}$ to encode sets of digits: given $k<10$ and $0\\leq n_0<...<n_k\\leq 9$, we let $2^{n_0}+\\dots+2^{n_k}$ encode the set $\\{n_0,\\dots,n_k\\}$. In other words, we let the positions of the bits set to 1 in the representation of a number $e$ smaller than $2^{10}$ as a 10-bit number encode the members of the set encoded by $e$, the rightmost position being position 0, the second rightmost position being position 1, etc.:"
   ]
  },
  {
   "cell_type": "code",
   "execution_count": null,
   "metadata": {},
   "outputs": [],
   "source": [
    "e = 0\n",
    "e, f'{e:010b}', {i for i in range(10) if f'{e:010b}'[9 - i] == '1'}\n",
    "\n",
    "e = 2 ** 0 + 2 ** 3 + 2 ** 5 + 2 ** 8\n",
    "e, f'{e:010b}', {i for i in range(10) if f'{e:010b}'[9 - i] == '1'}\n",
    "\n",
    "e = 2 ** 3 + 2 ** 5 + 2 ** 9\n",
    "e, f'{e:010b}', {i for i in range(10) if f'{e:010b}'[9 - i] == '1'}\n",
    "\n",
    "e = 2 ** 10 - 1\n",
    "e, f'{e:010b}', {i for i in range(10) if f'{e:010b}'[9 - i] == '1'}"
   ]
  },
  {
   "cell_type": "markdown",
   "metadata": {},
   "source": [
    "Having a number $e$ encoding the digits seen before (or \"pretended\" to be seen before in the case of 0), and considering a candidate $n$ for $a$, $b$ or $c$, we extract the rightmost digit $d$ in $n$, give up on that candidate in case $d$ is one of the digits encoded in $e$, but let a new number encode $d$ together with the digits encoded in $e$ otherwise, and proceed this way for all remaining digits in $n$, if any. Before we see a possible implementation of the third technique, let us see binary bitwise operations in action.\n",
    "\n",
    "Dividing a number $n$ by $2^0$, $2^1$, $2^3$, $2^4$... can be seen as \"pushing\" $n$ written in binary by 0, 1, 2, 3, 4... positions to the right, which can also be achieved with the `>>` operator:"
   ]
  },
  {
   "cell_type": "code",
   "execution_count": null,
   "metadata": {},
   "outputs": [],
   "source": [
    "n = 22\n",
    "\n",
    "for k in range(5):\n",
    "    print(k, f'{n // 2 ** k:2}', f'{n >> k:2}', f'{n >> k:010b}')"
   ]
  },
  {
   "cell_type": "markdown",
   "metadata": {},
   "source": [
    "Multiplying a number $n$ by $2^0$, $2^1$, $2^3$, $2^4$... can be seen as \"pushing\" $n$ written in binary by 0, 1, 2, 3, 4... positions to the left, \"filling the gaps\" with 0's, which can also be achieved with the `<<` operator:"
   ]
  },
  {
   "cell_type": "code",
   "execution_count": null,
   "metadata": {},
   "outputs": [],
   "source": [
    "n = 22\n",
    "\n",
    "for k in range(5):\n",
    "    print(k, f'{n * 2 ** k:3}', f'{n << k:3}', f'{n << k:010b}')"
   ]
  },
  {
   "cell_type": "markdown",
   "metadata": {},
   "source": [
    "In particular, $2^0$, $2^1$, $2^3$, $2^4$... are also 1 pushed 0, 1, 2, 3, 4... positions to the left: these are the numbers that in binary, have a single 1 at position 0, 1, 2, 3, 4...: "
   ]
  },
  {
   "cell_type": "code",
   "execution_count": null,
   "metadata": {},
   "outputs": [],
   "source": [
    "for k in range(5):\n",
    "    print(k, f'{2 ** k:2}', f'{1 << k:2}', f'{1 << k:010b}')"
   ]
  },
  {
   "cell_type": "markdown",
   "metadata": {},
   "source": [
    "With bitwise or, `|`, we get a number with a bit of 1 at a given position iff at least one operand has a bit of 1 at that position:"
   ]
  },
  {
   "cell_type": "code",
   "execution_count": null,
   "metadata": {},
   "outputs": [],
   "source": [
    "x = 0\n",
    "y = 2 ** 0 + 2 ** 3 + 2 ** 4\n",
    "print(f'{x:6}', f'{y:6}', f'{x | y:6}')\n",
    "print(f'{x:06b}', f'{y:06b}', f'{x | y:06b}')\n",
    "\n",
    "x = 2 ** 0 + 2 ** 3 + 2 ** 4\n",
    "y = 2 ** 6 - 1\n",
    "print(f'{x:6}', f'{y:6}', f'{x | y:6}')\n",
    "print(f'{x:06b}', f'{y:06b}', f'{x | y:06b}')\n",
    "\n",
    "x = 2 ** 0 + 2 ** 2\n",
    "y = 2 ** 1 + 2 ** 5\n",
    "print(f'{x:6}', f'{y:6}', f'{x | y:6}')\n",
    "print(f'{x:06b}', f'{y:06b}', f'{x | y:06b}')\n",
    "\n",
    "x = 2 ** 0 + 2 ** 2 + 2 ** 4\n",
    "y = 2 ** 3 + 2 ** 4 + 2 ** 5\n",
    "print(f'{x:6}', f'{y:6}', f'{x | y:6}')\n",
    "print(f'{x:06b}', f'{y:06b}', f'{x | y:06b}')"
   ]
  },
  {
   "cell_type": "markdown",
   "metadata": {},
   "source": [
    "With bitwise and, `&`, we get a number with a bit of 1 at a given position iff both operands have a bit of 1 at that position:"
   ]
  },
  {
   "cell_type": "code",
   "execution_count": null,
   "metadata": {},
   "outputs": [],
   "source": [
    "x = 0\n",
    "y = 2 ** 0 + 2 ** 3 + 2 ** 4\n",
    "print(f'{x:6}', f'{y:6}', f'{x & y:6}')\n",
    "print(f'{x:06b}', f'{y:06b}', f'{x & y:06b}')\n",
    "\n",
    "x = 2 ** 0 + 2 ** 3 + 2 ** 4\n",
    "y = 2 ** 6 - 1\n",
    "print(f'{x:6}', f'{y:6}', f'{x & y:6}')\n",
    "print(f'{x:06b}', f'{y:06b}', f'{x & y:06b}')\n",
    "\n",
    "x = 2 ** 0 + 2 ** 2\n",
    "y = 2 ** 1 + 2 ** 5\n",
    "print(f'{x:6}', f'{y:6}', f'{x & y:6}')\n",
    "print(f'{x:06b}', f'{y:06b}', f'{x & y:06b}')\n",
    "\n",
    "x = 2 ** 0 + 2 ** 2 + 2 ** 4\n",
    "y = 2 ** 3 + 2 ** 4 + 2 ** 5\n",
    "print(f'{x:6}', f'{y:6}', f'{x & y:6}')\n",
    "print(f'{x:06b}', f'{y:06b}', f'{x & y:06b}')"
   ]
  },
  {
   "cell_type": "markdown",
   "metadata": {},
   "source": [
    "With bitwise xor, `^`, we get a number with a bit of 1 at a given position iff exactly one operand has a bit of 1 at that position:"
   ]
  },
  {
   "cell_type": "code",
   "execution_count": null,
   "metadata": {},
   "outputs": [],
   "source": [
    "x = 0\n",
    "y = 2 ** 0 + 2 ** 3 + 2 ** 4\n",
    "print(f'{x:6}', f'{y:6}', f'{x ^ y:6}')\n",
    "print(f'{x:06b}', f'{y:06b}', f'{x ^ y:06b}')\n",
    "\n",
    "x = 2 ** 0 + 2 ** 3 + 2 ** 4\n",
    "y = 2 ** 6 - 1\n",
    "print(f'{x:6}', f'{y:6}', f'{x ^ y:6}')\n",
    "print(f'{x:06b}', f'{y:06b}', f'{x ^ y:06b}')\n",
    "\n",
    "x = 2 ** 0 + 2 ** 2\n",
    "y = 2 ** 1 + 2 ** 5\n",
    "print(f'{x:6}', f'{y:6}', f'{x ^ y:6}')\n",
    "print(f'{x:06b}', f'{y:06b}', f'{x ^ y:06b}')\n",
    "\n",
    "x = 2 ** 0 + 2 ** 2 + 2 ** 4\n",
    "y = 2 ** 3 + 2 ** 4 + 2 ** 5\n",
    "print(f'{x:6}', f'{y:6}', f'{x ^ y:6}')\n",
    "print(f'{x:06b}', f'{y:06b}', f'{x ^ y:06b}')"
   ]
  },
  {
   "cell_type": "markdown",
   "metadata": {},
   "source": [
    "So to check whether a digit $d$ is one of the digits encoded in $e$, and get a new number $f$ that encodes $d$ together with the digits encoded in $e$ in case $d$ is a new digit, it suffices to take the bitwise or of $e$ with 1 pushed $d$ positions to the left; either $d$ is not a new digit in which case this is $e$, or $d$ is a new digit in which case this is the desired $f$. The following code fragment illustrates with $e$ encoding the set $\\{0,2,4\\}$, and $d$ ranging all possible digits:"
   ]
  },
  {
   "cell_type": "code",
   "execution_count": null,
   "metadata": {},
   "outputs": [],
   "source": [
    "e = 2 ** 0 + 2 ** 2 + 2 ** 5\n",
    "print(f'  {e:3}', ' ' * 10, f'{e:010b}')\n",
    "for d in range(10):\n",
    "    x = 1 << d\n",
    "    y = e | 1 << d\n",
    "    print(d, f'{x:3}', f'{x:010b}', f'{y:010b}', y == e)"
   ]
  },
  {
   "cell_type": "markdown",
   "metadata": {},
   "source": [
    "Based on these considerations, we can implement the third technique in the form of the function `digits_if_ok_3()`:"
   ]
  },
  {
   "cell_type": "code",
   "execution_count": null,
   "metadata": {},
   "outputs": [],
   "source": [
    "def digits_if_ok_3(number, digits_seen_before):\n",
    "    while number:\n",
    "        number, digit = divmod(number, 10)\n",
    "        digits_seen_now = digits_seen_before | 1 << digit\n",
    "        if digits_seen_now == digits_seen_before:\n",
    "            return\n",
    "        digits_seen_before = digits_seen_now\n",
    "    return digits_seen_before\n",
    "\n",
    "k = 2 ** 0 + 2 ** 2 + 2 ** 5\n",
    "k, f'{k:010b}', {i for i in range(10) if f'{k:010b}'[9 - i] == '1'}\n",
    "\n",
    "e = digits_if_ok_3(784, 2 ** 0 + 2 ** 2 + 2 ** 5)\n",
    "e, f'{e:010b}', {i for i in range(10) if f'{e:010b}'[9 - i] == '1'}\n",
    "print(digits_if_ok_3(676, 2 ** 2 + 2 ** 4))\n",
    "print(digits_if_ok_3(729, 2 ** 2 + 2 ** 4))"
   ]
  },
  {
   "cell_type": "markdown",
   "metadata": {},
   "source": [
    "We can then adjust the code that discovers and outputs all solutions with the first technique by just\n",
    "\n",
    "* changing `a_digits_and_0 = digits_if_ok_1(a, {'0'})` to  `a_digits_and_0 = digits_if_ok_3(a, 1)` since 1 encodes 0 as a singleton set,\n",
    "* changing the other two calls to `digits_if_ok_1()` to calls to `digits_if_ok_3()`, and\n",
    "* eventually checking whether `a_b_c_digits_and_0` is is not `None` and evaluates to $2^{10} - 1$, which in base 2, reads as 10 consecutive 1's, therefore encoding all 10 digits:"
   ]
  },
  {
   "cell_type": "code",
   "execution_count": null,
   "metadata": {},
   "outputs": [],
   "source": [
    "nb_of_solutions = 0\n",
    "\n",
    "for i in range(1, int(sqrt(997)) + 1):\n",
    "    a = i ** 2\n",
    "    a_digits_and_0 = digits_if_ok_3(a, 1)\n",
    "    if not a_digits_and_0:\n",
    "        continue\n",
    "    for j in range(i + 1, int(sqrt(9998)) + 1):\n",
    "        b = j ** 2\n",
    "        a_b_digits_and_0 = digits_if_ok_3(b, a_digits_and_0)\n",
    "        if not a_b_digits_and_0:\n",
    "            continue\n",
    "        for k in range(j + 1, int(sqrt(9876532)) + 1):\n",
    "            c = k ** 2\n",
    "            a_b_c_digits_and_0 = digits_if_ok_3(c, a_b_digits_and_0)\n",
    "            if not a_b_c_digits_and_0 or a_b_c_digits_and_0 != 2 ** 10 - 1:\n",
    "                continue\n",
    "            print(f'{a:7} {b:7} {c:7}')\n",
    "            nb_of_solutions += 1\n",
    "\n",
    "print('Altogether,', nb_of_solutions, 'solutions have been discovered.')"
   ]
  }
 ],
 "metadata": {
  "kernelspec": {
   "display_name": "Python 3 (ipykernel)",
   "language": "python",
   "name": "python3"
  },
  "language_info": {
   "codemirror_mode": {
    "name": "ipython",
    "version": 3
   },
   "file_extension": ".py",
   "mimetype": "text/x-python",
   "name": "python",
   "nbconvert_exporter": "python",
   "pygments_lexer": "ipython3",
   "version": "3.9.7"
  },
  "latex_envs": {
   "LaTeX_envs_menu_present": true,
   "autoclose": false,
   "autocomplete": true,
   "bibliofile": "biblio.bib",
   "cite_by": "apalike",
   "current_citInitial": 1,
   "eqLabelWithNumbers": true,
   "eqNumInitial": 1,
   "hotkeys": {
    "equation": "Ctrl-E",
    "itemize": "Ctrl-I"
   },
   "labels_anchors": false,
   "latex_user_defs": false,
   "report_style_numbering": false,
   "user_envs_cfg": false
  },
  "toc": {
   "base_numbering": 1,
   "nav_menu": {},
   "number_sections": true,
   "sideBar": true,
   "skip_h1_title": false,
   "title_cell": "Table of Contents",
   "title_sidebar": "Contents",
   "toc_cell": false,
   "toc_position": {},
   "toc_section_display": true,
   "toc_window_display": false
  }
 },
 "nbformat": 4,
 "nbformat_minor": 2
}
