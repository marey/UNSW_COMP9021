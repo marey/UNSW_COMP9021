{
 "cells": [
  {
   "cell_type": "code",
   "execution_count": null,
   "metadata": {},
   "outputs": [],
   "source": [
    "# Does not need to be executed if\n",
    "# ~/.ipython/profile_default/ipython_config.py\n",
    "# exists and contains:\n",
    "# get_config().InteractiveShell.ast_node_interactivity = 'all'\n",
    "\n",
    "from IPython.core.interactiveshell import InteractiveShell\n",
    "InteractiveShell.ast_node_interactivity = 'all'"
   ]
  },
  {
   "cell_type": "code",
   "execution_count": null,
   "metadata": {
    "init_cell": true,
    "scrolled": true
   },
   "outputs": [],
   "source": [
    "from math import gcd"
   ]
  },
  {
   "cell_type": "markdown",
   "metadata": {},
   "source": [
    "A real number is rational if and only if a pattern eventually appears in its decimal expansion that repeats forever. So $\\pi$, being irrational, is such that no finite sequence of consecutive digits in 3.14159265358979... eventually repeats forever. On the other hand,\n",
    "\n",
    "* $\\frac{25}{12}=2.08333...3...$\n",
    "* $\\frac{97}{21}=4.619047619047619047...619047...$\n",
    "* $\\frac{11941}{49950}=0.23905905905...905...$\n",
    "\n",
    "The decimal expansion is unique except for fractions that in reduced form, have a power of 10 as denominator: those fractions have two decimal expansions, one that ends in 0 repeating forever, another one that ends in 9 repeating forever. For instance, $\\frac{1234567}{1000}=1234.567000...0...=1234.566999...9...$.\n",
    "\n",
    "We want to, given two nonempty strings of digits $\\sigma$ and $\\tau$ (that we treat as strings or numbers depending on the context), find out the unique natural numbers $p$ and $q$ such that the decimal expansion of $\\frac{p}{q}$ reads as $0.\\sigma\\tau\\tau\\tau...\\tau...$ and\n",
    "\n",
    "* either $p=0$ and $q=1$ (case where $\\sigma$ and $\\tau$ consist of nothing but 0's), or\n",
    "* $p$ and $q$ are coprime, so $\\frac{p}{q}$ is in reduced form (including the case where\n",
    "$p=1$ and $q=1$ because $\\sigma$ and $\\tau$ consist of nothing but 9's).\n",
    "\n",
    "For instance, if $\\sigma=23$ and $\\tau=905$, then $p=11941$ and $q=49950$.\n",
    "\n",
    "Writing $|\\sigma|$ for the length (number of digits) in a string of digits $\\sigma$, we compute:\n",
    "\n",
    "\\begin{split}\n",
    "0.\\sigma\\tau\\tau\\tau\\dots\\tau\\dots & = \\sigma 10^{-|\\sigma|} + \\tau(10^{-|\\sigma|-|\\tau|}\n",
    "                         + 10^{-|\\sigma|-2|\\tau|} + 10^{-|\\sigma|-3|\\tau|} + \\dots)\\\\\n",
    "          & = \\sigma 10^{-|\\sigma|} + \\frac{\\tau 10^{-|\\sigma|-|\\tau|}}{(1 - 10^{-|\\tau|})}\\\\\n",
    "          & = \\sigma 10^{-|\\sigma|} + \\frac{\\tau 10^{-|\\sigma|}}{(10^{|\\tau|} - 1)}\\\\\n",
    "          & = \\frac{\\sigma 10^{-|\\sigma|} (10^{|\\tau|} - 1) + \\tau 10^{-|\\sigma|}}{(10^{|\\tau|} - 1)}\\\\\n",
    "          & = \\frac{\\sigma (10^{|\\tau|} - 1) + \\tau}{(10^{|\\tau|} - 1) 10^{|\\sigma|}}\n",
    "\\end{split}\n",
    "\n",
    "Reducing the last fraction if needed provides the desired answer.\n",
    "\n",
    "The result of the previous computation immediately translates to the function that follows:"
   ]
  },
  {
   "cell_type": "code",
   "execution_count": null,
   "metadata": {
    "scrolled": true
   },
   "outputs": [],
   "source": [
    "def compute_fraction(sigma, tau):\n",
    "    numerator = int(sigma) * (10 ** len(tau) - 1) + int(tau)\n",
    "    denominator = (10 ** len(tau) - 1) * 10 ** len(sigma)\n",
    "    return numerator, denominator\n",
    "\n",
    "compute_fraction('23', '905')\n",
    "compute_fraction('000', '97')\n",
    "compute_fraction('97', '000')\n",
    "compute_fraction('01234', '543210')"
   ]
  },
  {
   "cell_type": "markdown",
   "metadata": {},
   "source": [
    "To reduce a fraction, it suffices to divide its numerator and its denominator by their gcd (greatest common divisor). The `math` module has a `gcd` function:"
   ]
  },
  {
   "cell_type": "code",
   "execution_count": null,
   "metadata": {
    "scrolled": true
   },
   "outputs": [],
   "source": [
    "gcd(1234541976, 99999900000)"
   ]
  },
  {
   "cell_type": "markdown",
   "metadata": {},
   "source": [
    "Let us implement the gcd function ourselves, following Euclid's algorithm, which is based on the following reasoning. Let $a$ and $b$ be two natural numbers with $b>0$. Since $a = \\lfloor\\frac{a}{b}\\rfloor b + a\\bmod b$:\n",
    "\n",
    "* if $n$ divides both $a$ and $b$ then it divides both $a$ and $\\lfloor\\frac{a}{b}\\rfloor b$, hence it divides $a - \\lfloor\\frac{a}{b}\\rfloor b$, hence it divides $a\\bmod b$;\n",
    "* conversely, if $n$ divides both $b$ and $a\\bmod b$ then it divides $\\lfloor\\frac{a}{b}\\rfloor b + a\\bmod b$, hence it divides $a$.\n",
    "\n",
    "Hence $n$ divides both $a$ and $b$ iff $n$ divides both $b$ and $a\\bmod b$. So $\\gcd(a,b)=\\gcd(b,a\\bmod b)$.\n",
    "\n",
    "Since $a\\bmod b<b$, we get a sequence of equalities of the form:\n",
    "$\\gcd(a,b)=\\gcd(a_1,b_1)=\\gcd(a_2,b_2)=\\dots=\\gcd(a_{k-1},b_{k-1})=\\gcd(a_k,0)$\n",
    "with $k\\geq 1$ and $b>b_1>b_2>\\dots>b_{k-1}>0$; as $\\gcd(a_k,0)=a_k$, $a_k$ is the gcd of $a$ and $b$.\n",
    "\n",
    "To compute $\\lfloor\\frac{a}{b}\\rfloor$, Python offers the `//` operator; to compute $a\\bmod b$, the `%` operator:"
   ]
  },
  {
   "cell_type": "code",
   "execution_count": null,
   "metadata": {
    "scrolled": true
   },
   "outputs": [],
   "source": [
    "# True division.\n",
    "# The result is always a floating point number.\n",
    "8 / 2, 8.0 / 2, 8 / 2.0, 8.0 / 2.0\n",
    "\n",
    "# Integer division.\n",
    "# The result is an integer iff both arguments are integers.\n",
    "9 // 2, 9.0 // 2, 9 // 2.0, 9.0 // 2.0\n",
    "\n",
    "# Remainder.\n",
    "# The result is an integer iff both arguments are integers.\n",
    "9 % 2, 9.0 % 2, 9 % 2.0, 9.0 % 2.0"
   ]
  },
  {
   "cell_type": "markdown",
   "metadata": {},
   "source": [
    "If $a$ and $b$ are arbitrary numbers (not necessarily integers) with $b\\neq 0$, then the equality $a = qb + r$ together with the conditions\n",
    "\n",
    "* $q$ is an integer\n",
    "* $|r|<|b|$\n",
    "* $r\\neq 0\\rightarrow(r>0\\leftrightarrow b>0)$\n",
    "\n",
    "determine $q$ and $r$ uniquely; `//` and `%` operate accordingly:"
   ]
  },
  {
   "cell_type": "code",
   "execution_count": null,
   "metadata": {
    "scrolled": true
   },
   "outputs": [],
   "source": [
    "5 // 2, 5 % 2\n",
    "-5 // 2, -5 % 2\n",
    "5 // -2, 5 % -2\n",
    "-5 // -2, -5 % -2\n",
    "print()\n",
    "\n",
    "7.5 // 2, 7.5 % 2\n",
    "-7.5 // 2, -7.5 % 2\n",
    "7.5 // -2, 7.5 % -2\n",
    "-7.5 // -2, -7.5 % -2"
   ]
  },
  {
   "cell_type": "markdown",
   "metadata": {},
   "source": [
    "The `divmod()` function offers an alternative to the previous combined use of `//` and `%`: "
   ]
  },
  {
   "cell_type": "code",
   "execution_count": null,
   "metadata": {
    "scrolled": true
   },
   "outputs": [],
   "source": [
    "divmod(5, 2)\n",
    "divmod(-5, 2)\n",
    "divmod(5, -2)\n",
    "divmod(-5, -2)\n",
    "print()\n",
    "\n",
    "divmod(7.5, 2)\n",
    "divmod(-7.5, 2)\n",
    "divmod(7.5, -2)\n",
    "divmod(-7.5, -2)"
   ]
  },
  {
   "cell_type": "markdown",
   "metadata": {},
   "source": [
    "Let us get back to Euclid's algorithm, so assume again that $a$ and $b$ are two natural numbers with $b>0$. To implement the algorithm and compute $\\gcd(a,b)$, it suffices to have two variables, say `a` and `b`, initialised to $a$ and $b$, and then change the value of `a` to $b$ and change the value of `b` to $a\\bmod b$, and do that again and again until `b` gets the value 0. To change the value of `a` to $a\\bmod b$ and change the value of `b` to $b$, it seems necessary to introduce a third variable:"
   ]
  },
  {
   "cell_type": "code",
   "execution_count": null,
   "metadata": {
    "scrolled": true
   },
   "outputs": [],
   "source": [
    "a = 30\n",
    "b = 18\n",
    "c = a % b\n",
    "a = b\n",
    "b = c\n",
    "a, b"
   ]
  },
  {
   "cell_type": "markdown",
   "metadata": {},
   "source": [
    "But Python makes it easier:"
   ]
  },
  {
   "cell_type": "code",
   "execution_count": null,
   "metadata": {
    "scrolled": true
   },
   "outputs": [],
   "source": [
    "a = 30\n",
    "b = 18\n",
    "# Evaluate the expression on the right hand side;\n",
    "# the result is the tuple (18, 12).\n",
    "# Then assign that result to the tuple on the left,\n",
    "# component by component.\n",
    "a, b = b, a % b\n",
    "a, b"
   ]
  },
  {
   "cell_type": "markdown",
   "metadata": {},
   "source": [
    "Note that when the value of `a` is strictly smaller than the value of `b`, then `a, b = b, a % b` exchanges the values of `a` and `b`:"
   ]
  },
  {
   "cell_type": "code",
   "execution_count": null,
   "metadata": {
    "scrolled": true
   },
   "outputs": [],
   "source": [
    "a = 12\n",
    "b = 18\n",
    "a, b = b, a % b\n",
    "a, b"
   ]
  },
  {
   "cell_type": "markdown",
   "metadata": {},
   "source": [
    "On the other hand, if the value of `a` is at least equal to the value of `b`, then this holds too after `a, b = b, a % b` has been executed. Let us trace all stages in the execution of Euclid's algorithm. The code makes use of a `while` statement whose condition is not a boolean expression. Applying `bool()` to an expression reveals which one of `True` or `False` the expression evaluates to in contexts where one or the other is expected:"
   ]
  },
  {
   "cell_type": "code",
   "execution_count": null,
   "metadata": {
    "scrolled": true
   },
   "outputs": [],
   "source": [
    "bool(None)\n",
    "bool(0), bool(5), bool(-3)\n",
    "bool(0.0), bool(0.1), bool(-3.14)\n",
    "bool([]), bool([0]), bool([[]])\n",
    "bool({}), bool({0: 0}), bool({0: None, 1: None})\n",
    "bool(''), bool(' '), bool('0000')"
   ]
  },
  {
   "cell_type": "code",
   "execution_count": null,
   "metadata": {
    "scrolled": true
   },
   "outputs": [],
   "source": [
    "def trace_our_gcd(a, b):\n",
    "    while b:\n",
    "        a, b = b, a % b\n",
    "        print(a, b)\n",
    "    \n",
    "for a, b in (1233, 1233), (1233, 990), (990, 1233):\n",
    "    print(f'\\nTracing the computation of gcd of {a} and {b}:')\n",
    "    trace_our_gcd(a, b)"
   ]
  },
  {
   "cell_type": "markdown",
   "metadata": {},
   "source": [
    "The gcd is the value of `a` when exiting the `while` loop:"
   ]
  },
  {
   "cell_type": "code",
   "execution_count": null,
   "metadata": {
    "scrolled": true
   },
   "outputs": [],
   "source": [
    "def our_gcd(a, b):\n",
    "    while b:\n",
    "        a, b = b, a % b\n",
    "    return a"
   ]
  },
  {
   "cell_type": "markdown",
   "metadata": {},
   "source": [
    "`compute_fraction()` returns the numerator and denominator of a fraction that another function, say `reduce()`, can easily reduce thanks to `our_gcd()`. It is natural to let `reduce()` take two arguments, the numerator and the denominator of the fraction to simplify, respectively. But `compute_fraction()` returns those as the first and second elements of a tuple; a function always returns a single value. Between the parentheses that surround the arguments of a function `f()`, one can insert an expression that evaluates to a tuple and precede it with the `*` symbol, which \"unpacks\" the members of the tuple and make them the arguments of `f()`:"
   ]
  },
  {
   "cell_type": "code",
   "execution_count": null,
   "metadata": {
    "scrolled": true
   },
   "outputs": [],
   "source": [
    "def f(a, b):\n",
    "    return 2 * a, 2 * b\n",
    "\n",
    "# Makes a equal to (1, 3), and provides no value to b.\n",
    "f((1, 3))"
   ]
  },
  {
   "cell_type": "code",
   "execution_count": null,
   "metadata": {
    "scrolled": true
   },
   "outputs": [],
   "source": [
    "f(1, 3)\n",
    "# f(f(1, 3)) would be f((2, 6)); f(*f(1, 3)) is f(2, 6)\n",
    "f(*f(1, 3))\n",
    "f(*f(*f(1, 3)))"
   ]
  },
  {
   "cell_type": "markdown",
   "metadata": {},
   "source": [
    "The `*` symbol can also be used in the definition of a function and precede the name of a parameter. It then has the opposite effect, namely, it makes a tuple out of all arguments that are provided to the function:"
   ]
  },
  {
   "cell_type": "code",
   "execution_count": null,
   "metadata": {
    "scrolled": true
   },
   "outputs": [],
   "source": [
    "# x is the tuple of all arguments passed to f().\n",
    "def f(*x):\n",
    "    return x * 2\n",
    "\n",
    "f()\n",
    "f(0)\n",
    "f(f(0))\n",
    "f(*f(0))\n",
    "f(f(f(0)))\n",
    "f(f(*f(0)))\n",
    "f(*f(*f(0)))"
   ]
  },
  {
   "cell_type": "markdown",
   "metadata": {},
   "source": [
    "Thanks to this syntax, it is possible to let `reduce()` as well as another function `output()` take two arguments `numerator` and `denominator`, and \"pipe\" `compute_fraction()`, `reduce()` and `output()` together so that the unpacked returned value of one function becomes the arguments of the function that follows:"
   ]
  },
  {
   "cell_type": "code",
   "execution_count": null,
   "metadata": {
    "scrolled": true
   },
   "outputs": [],
   "source": [
    "def reduce(numerator, denominator):\n",
    "    if numerator == 0:\n",
    "        return 0, 1\n",
    "    the_gcd = our_gcd(numerator, denominator)\n",
    "    return numerator // the_gcd, denominator // the_gcd    "
   ]
  },
  {
   "cell_type": "code",
   "execution_count": null,
   "metadata": {
    "scrolled": true
   },
   "outputs": [],
   "source": [
    "def output(numerator, denominator):\n",
    "    print(f'{numerator}/{denominator}')"
   ]
  },
  {
   "cell_type": "code",
   "execution_count": null,
   "metadata": {
    "scrolled": true
   },
   "outputs": [],
   "source": [
    "output(*reduce(*compute_fraction('23', '905')))\n",
    "output(*reduce(*compute_fraction('000', '97')))\n",
    "output(*reduce(*compute_fraction('97', '000')))\n",
    "output(*reduce(*compute_fraction('01234', '543210')))"
   ]
  }
 ],
 "metadata": {
  "kernelspec": {
   "display_name": "Python 3 (ipykernel)",
   "language": "python",
   "name": "python3"
  },
  "language_info": {
   "codemirror_mode": {
    "name": "ipython",
    "version": 3
   },
   "file_extension": ".py",
   "mimetype": "text/x-python",
   "name": "python",
   "nbconvert_exporter": "python",
   "pygments_lexer": "ipython3",
   "version": "3.9.7"
  },
  "latex_envs": {
   "LaTeX_envs_menu_present": true,
   "autoclose": false,
   "autocomplete": true,
   "bibliofile": "biblio.bib",
   "cite_by": "apalike",
   "current_citInitial": 1,
   "eqLabelWithNumbers": true,
   "eqNumInitial": 1,
   "hotkeys": {
    "equation": "Ctrl-E",
    "itemize": "Ctrl-I"
   },
   "labels_anchors": false,
   "latex_user_defs": false,
   "report_style_numbering": false,
   "user_envs_cfg": false
  },
  "toc": {
   "base_numbering": 1,
   "nav_menu": {},
   "number_sections": true,
   "sideBar": true,
   "skip_h1_title": false,
   "title_cell": "Table of Contents",
   "title_sidebar": "Contents",
   "toc_cell": false,
   "toc_position": {},
   "toc_section_display": true,
   "toc_window_display": false
  }
 },
 "nbformat": 4,
 "nbformat_minor": 2
}
