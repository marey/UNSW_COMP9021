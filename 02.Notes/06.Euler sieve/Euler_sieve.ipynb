{
 "cells": [
  {
   "cell_type": "code",
   "execution_count": null,
   "metadata": {},
   "outputs": [],
   "source": [
    "# Does not need to be executed if\n",
    "# ~/.ipython/profile_default/ipython_config.py\n",
    "# exists and contains:\n",
    "# get_config().InteractiveShell.ast_node_interactivity = 'all'\n",
    "\n",
    "from IPython.core.interactiveshell import InteractiveShell\n",
    "InteractiveShell.ast_node_interactivity = 'all'"
   ]
  },
  {
   "cell_type": "code",
   "execution_count": null,
   "metadata": {
    "init_cell": true
   },
   "outputs": [],
   "source": [
    "%config InlineBackend.figure_format = 'retina'"
   ]
  },
  {
   "cell_type": "code",
   "execution_count": null,
   "metadata": {
    "init_cell": true
   },
   "outputs": [],
   "source": [
    "from math import sqrt\n",
    "from timeit import timeit\n",
    "from itertools import zip_longest\n",
    "import matplotlib.pyplot as plt"
   ]
  },
  {
   "cell_type": "markdown",
   "metadata": {},
   "source": [
    "With Eratosthenes' sieve, a number can be crossed out more than once. For instance, in case $n\\geq 12$, 12 will be crossed out as a multiple of 2 and then as a multiple of 3. Euler's sieve works with a list of numbers initialised as the list of all numbers between 2 and $n$ that, at a given stage, has lost those of its members that have been found out not to be prime, and that eventually has lost all of its nonprime numbers.\n",
    "\n",
    "Let us try the following, to find out that there is a flaw.\n",
    "\n",
    "* The first member of the list contains 2; multiplying 2 with 2 and the following members of the list up to and excluding the first number greater than $\\lfloor\\frac{n}{2}\\rfloor$, should remove all proper multiples of 2 at most equal to $n$.\n",
    "* The next member of the resulting list should contain 3; multiplying 3 with 3 and the following members of the list up to and excluding the first number greater than $\\lfloor\\frac{n}{3}\\rfloor$, should remove all proper multiples of 3 at most equal to $n$ that remain, namely, those that are not multiple of 2.\n",
    "* The next member of the resulting list should contain 5; multiplying 5 with 5 and the following members of the list up to and excluding the first number greater than $\\lfloor\\frac{n}{5}\\rfloor$ should remove all proper multiples of 5 at most equal to $n$ that remain, namely, those that are not multiples of 2 or 3...\n",
    "* ...\n",
    "\n",
    "For illustration purposes, let us fix $n$ to some value, assign that value to a variable `n`, and define `sieve` accordingly:"
   ]
  },
  {
   "cell_type": "code",
   "execution_count": null,
   "metadata": {},
   "outputs": [],
   "source": [
    "n = 25\n",
    "sieve = list(range(2, n + 1))"
   ]
  },
  {
   "cell_type": "code",
   "execution_count": null,
   "metadata": {},
   "outputs": [],
   "source": [
    "def print_sieve_contents():\n",
    "    for p in sieve:\n",
    "        print(f'{p:3}', end='')\n",
    "        \n",
    "print_sieve_contents()"
   ]
  },
  {
   "cell_type": "markdown",
   "metadata": {},
   "source": [
    "To observe how, with `n` set to `25`, proper multiples of 2 are crossed out, we call the following function with `i` set to `0` as argument:"
   ]
  },
  {
   "cell_type": "code",
   "execution_count": null,
   "metadata": {},
   "outputs": [],
   "source": [
    "def eliminate_proper_multiples(i):\n",
    "    print(f'Now eliminating proper multiples of {sieve[i]}')\n",
    "    j = i\n",
    "    while j < len(sieve):\n",
    "        factor = sieve[i] * sieve[j]\n",
    "        if factor <= n:\n",
    "            print(f' Eliminating {sieve[i]} * {sieve[j]} = {factor}')\n",
    "            sieve.remove(factor)\n",
    "            j += 1\n",
    "        else:\n",
    "            break"
   ]
  },
  {
   "cell_type": "code",
   "execution_count": null,
   "metadata": {},
   "outputs": [],
   "source": [
    "eliminate_proper_multiples(0)\n",
    "print_sieve_contents()"
   ]
  },
  {
   "cell_type": "markdown",
   "metadata": {},
   "source": [
    "We see the flaw. Having first eliminated $2\\times 2$, 4 is not longer in the list, which prevents 8 from being eliminated, and the same holds for other multiples of 2.\n",
    "\n",
    "This suggests to, for an arbitrary value of $n$, amend the procedure as follows.\n",
    "\n",
    "* using 2, the first number in the list:\n",
    "    * remove $2^2$, $2^3$, $2^4$, ..., up to $2^r$ for the largest $r$ with $2^r\\leq n$,\n",
    "    * remove $2\\times 3$, $2^2\\times 3$, $2^3\\times 3$, ..., up to $2^r\\times 3$ for the largest $r$ with $2^r\\times 3\\leq n$,\n",
    "    * as 4 is no longer in the list, remove $2\\times 5$, $2^2\\times 5$, $2^3\\times 5$, ..., up to $2^r\\times 5$ for the largest $r$ with $2^r\\times 5\\leq n$,\n",
    "    * as 6 is no longer in the list, remove $2\\times 7$, $2^2\\times 7$, $2^3\\times 7$, ..., up to $2^r\\times 7$ for the largest $r$ with $2^r\\times 7\\leq n$,\n",
    "    * as 8 is no longer in the list, remove $2\\times 9$, $2^2\\times 9$, $2^3\\times 9$, ..., up to $2^r\\times 9$ for the largest $r$ with $2^r\\times 9\\leq n$,\n",
    "    * ...\n",
    "* using 3, the next number in what remains of the list:\n",
    "    * remove $3^2$, $3^3$, $3^4$, ..., up to $3^r$ for the largest $r$ with $3^r\\leq n$,\n",
    "    * as 4 is no longer in the list, remove $3\\times 5$, $3^2\\times 5$, $3^3\\times 5$, ..., up to $3^r\\times 5$ for the largest $r$ with $3^r\\times 5\\leq n$,\n",
    "    * as 6 is no longer in the list, remove $3\\times 7$, $3^2\\times 7$, $3^3\\times 7$, ..., up to $3^r\\times 7$ for the largest $r$ with $3^r\\times 7\\leq n$,\n",
    "    * as 8, 9 and 10 are no longer in the list, remove $3\\times 11$, $3^2\\times 11$, $3^3\\times 11$, ...., up to $3^r\\times 11$ for the largest $r$ with $3^r\\times 11\\leq n$,\n",
    "    * ...\n",
    "* ...\n",
    "\n",
    "We stop when the next number in what remains in the list exceeds $\\lfloor\\sqrt{n}\\rfloor$.\n",
    "\n",
    "Let us verify that the procedure is correct. At stage $k$, all proper multiples of the $k$th prime number $p_k$ at most equal to $n$ are removed from the list. This is verified by induction. Indeed, if during stage $k$, a number $m$ in $\\{2,3,\\dots, n\\}$ with $p_k m\\leq n$ is not considered then:\n",
    "\n",
    "* either $m$ is smaller than $p_k$, in which case it is a multiple of at least one of $p_1$, ..., $p_{k-1}$, which implies that $p_k\\times m$ is also a multiple of at least one of $p_1$, ..., $p_{k-1}$, so by inductive hypothesis, $p_k\\times m$ was removed from the list during one of the previous stages,\n",
    "* or $m$ is greater than $p_k$ but no longer belongs to the list (it is a number such as 4, 6, 8 at stage 1, or a number such as 4, 6, 8, 9, 10 at stage 2), in which case:\n",
    "    * either $m$ was removed during one of the previous stages, hence $m$ is a multiple of at least one of $p_1$, ..., $p_{k-1}$, which implies as in the previous case that $p_k\\times m$ was also removed from the list, \n",
    "    * or $m$ is a multiple of $p_k$ which was removed earlier in the current stage, so $m$ is a number of the form $p_k^r m'$ for some $r\\geq 1$ and some number $m'$ which was then found in what remained of the list, therefore $p_k m=p_k^{r+1}m'$ was also removed from the list earlier in the current stage.\n",
    "\n",
    "To observe how, with `n` set to `25`, nonzero powers of 2 times 2, 3, 5, 7, 9 and 11, nonzero powers of 3 times 3, 5 and 7, and nonzero powers of 5 times 5 are eliminated, the following function is successively called with `i` set to `0` and `k` set to `0`, `1`, `2`, `3`, `4` and `5` as arguments, then with `i` set to `1` and `k` set to `0`, `1` and `2` as arguments, then with `i` set to `2` and `k` set to `0` as arguments:"
   ]
  },
  {
   "cell_type": "code",
   "execution_count": null,
   "metadata": {},
   "outputs": [],
   "source": [
    "def eliminate_proper_multiples(i, k):\n",
    "    # We assume that this function will be called in the order\n",
    "    #   eliminate_proper_multiples(0, 0)\n",
    "    #   eliminate_proper_multiples(0, 1)\n",
    "    #   ...\n",
    "    #   eliminate_proper_multiples(1, 0)\n",
    "    #   eliminate_proper_multiples(1, 1)\n",
    "    #   ...\n",
    "    print('Now eliminating multiples of the form a nonzero power of '\n",
    "          f'{sieve[i]} times {sieve[i + k]}'\n",
    "         )\n",
    "    factor = sieve[i] * sieve[i + k]\n",
    "    power = 1\n",
    "    while factor <= n:\n",
    "        print(f' Eliminating {sieve[i]}^{power} x {sieve[i + k]} = {factor}')\n",
    "        sieve.remove(factor)\n",
    "        factor *= sieve[i]\n",
    "        power += 1"
   ]
  },
  {
   "cell_type": "code",
   "execution_count": null,
   "metadata": {},
   "outputs": [],
   "source": [
    "sieve = list(range(2, n + 1))\n",
    "print_sieve_contents()"
   ]
  },
  {
   "cell_type": "code",
   "execution_count": null,
   "metadata": {},
   "outputs": [],
   "source": [
    "eliminate_proper_multiples(0, 0)\n",
    "print_sieve_contents()"
   ]
  },
  {
   "cell_type": "code",
   "execution_count": null,
   "metadata": {},
   "outputs": [],
   "source": [
    "eliminate_proper_multiples(0, 1)\n",
    "print_sieve_contents()"
   ]
  },
  {
   "cell_type": "code",
   "execution_count": null,
   "metadata": {},
   "outputs": [],
   "source": [
    "eliminate_proper_multiples(0, 2)\n",
    "print_sieve_contents()"
   ]
  },
  {
   "cell_type": "code",
   "execution_count": null,
   "metadata": {},
   "outputs": [],
   "source": [
    "eliminate_proper_multiples(0, 3)\n",
    "print_sieve_contents()"
   ]
  },
  {
   "cell_type": "code",
   "execution_count": null,
   "metadata": {},
   "outputs": [],
   "source": [
    "eliminate_proper_multiples(0, 4)\n",
    "print_sieve_contents()"
   ]
  },
  {
   "cell_type": "code",
   "execution_count": null,
   "metadata": {},
   "outputs": [],
   "source": [
    "eliminate_proper_multiples(0, 5)\n",
    "print_sieve_contents()"
   ]
  },
  {
   "cell_type": "code",
   "execution_count": null,
   "metadata": {},
   "outputs": [],
   "source": [
    "eliminate_proper_multiples(1, 0)\n",
    "print_sieve_contents()"
   ]
  },
  {
   "cell_type": "code",
   "execution_count": null,
   "metadata": {},
   "outputs": [],
   "source": [
    "eliminate_proper_multiples(1, 1)\n",
    "print_sieve_contents()"
   ]
  },
  {
   "cell_type": "code",
   "execution_count": null,
   "metadata": {},
   "outputs": [],
   "source": [
    "eliminate_proper_multiples(1, 2)\n",
    "print_sieve_contents()"
   ]
  },
  {
   "cell_type": "code",
   "execution_count": null,
   "metadata": {},
   "outputs": [],
   "source": [
    "eliminate_proper_multiples(2, 0)\n",
    "print_sieve_contents()"
   ]
  },
  {
   "cell_type": "markdown",
   "metadata": {},
   "source": [
    "To observe more synthetically how, with `n` set to `25`, proper multiples of 2, proper multiples of 3 that are not multiples of 2, and proper multiples of 5, equal to $\\lfloor\\sqrt 25\\rfloor$, that are multiples of neither 2 nor 3, are eliminated, we successively call the following function with `i` set to `0`, `1` and `2` as argument:"
   ]
  },
  {
   "cell_type": "code",
   "execution_count": null,
   "metadata": {},
   "outputs": [],
   "source": [
    "def eliminate_proper_multiples(i):\n",
    "    # We assume that this function will be called in the order\n",
    "    #   eliminate_proper_multiples(0)\n",
    "    #   eliminate_proper_multiples(1)\n",
    "    #   eliminate_proper_multiples(2)\n",
    "    #   ...\n",
    "    k = 0\n",
    "    while True:\n",
    "        factor = sieve[i] * sieve[i + k]\n",
    "        if factor > n:\n",
    "            break\n",
    "        print('Now eliminating multiples of the form '\n",
    "              f'a nonzero power of {sieve[i]} times {sieve[i + k]}'\n",
    "             )\n",
    "        power = 1\n",
    "        while factor <= n:\n",
    "            print(' Eliminating '\n",
    "                  f'{sieve[i]}^{power} x {sieve[i + k]} = {factor}'\n",
    "                 )\n",
    "            sieve.remove(factor)\n",
    "            factor *= sieve[i]\n",
    "            power += 1\n",
    "        k += 1"
   ]
  },
  {
   "cell_type": "code",
   "execution_count": null,
   "metadata": {},
   "outputs": [],
   "source": [
    "sieve = list(range(2, n + 1))\n",
    "print_sieve_contents()"
   ]
  },
  {
   "cell_type": "code",
   "execution_count": null,
   "metadata": {},
   "outputs": [],
   "source": [
    "eliminate_proper_multiples(0)\n",
    "print_sieve_contents()"
   ]
  },
  {
   "cell_type": "code",
   "execution_count": null,
   "metadata": {},
   "outputs": [],
   "source": [
    "eliminate_proper_multiples(1)\n",
    "print_sieve_contents()"
   ]
  },
  {
   "cell_type": "code",
   "execution_count": null,
   "metadata": {},
   "outputs": [],
   "source": [
    "eliminate_proper_multiples(2)\n",
    "print_sieve_contents()"
   ]
  },
  {
   "cell_type": "markdown",
   "metadata": {},
   "source": [
    "Putting it all together:"
   ]
  },
  {
   "cell_type": "code",
   "execution_count": null,
   "metadata": {},
   "outputs": [],
   "source": [
    "def first_sieve_of_primes_up_to(n):\n",
    "    sieve = list(range(2, n + 1))\n",
    "    i = 0\n",
    "    while sieve[i] <= round(sqrt(n)):\n",
    "        k = 0\n",
    "        while True:\n",
    "            factor = sieve[i] * sieve[i + k]\n",
    "            if factor > n:\n",
    "                break\n",
    "            while factor <= n:\n",
    "                sieve.remove(factor)\n",
    "                factor *= sieve[i]\n",
    "            k += 1\n",
    "        i += 1\n",
    "    return sieve"
   ]
  },
  {
   "cell_type": "markdown",
   "metadata": {},
   "source": [
    "We can reuse `nicely_display()` as defined in relation to Eratosthenes' sieve:"
   ]
  },
  {
   "cell_type": "code",
   "execution_count": null,
   "metadata": {},
   "outputs": [],
   "source": [
    "def nicely_display(sequence, max_size):\n",
    "    field_width = max_size + 2\n",
    "    nb_of_fields = 80 // field_width\n",
    "    count = 0\n",
    "    for e in sequence:\n",
    "        print(f'{e:{field_width}}', end='')\n",
    "        count += 1\n",
    "        if count % nb_of_fields == 0:\n",
    "            print()"
   ]
  },
  {
   "cell_type": "markdown",
   "metadata": {},
   "source": [
    "`first_sieve_of_primes_up_to()` returns precisely the list of numbers that we want to display, so we make it the first argument of `nicely_display()`:"
   ]
  },
  {
   "cell_type": "code",
   "execution_count": null,
   "metadata": {},
   "outputs": [],
   "source": [
    "primes = first_sieve_of_primes_up_to(1_000)\n",
    "nicely_display(primes, len(str(primes[-1])))"
   ]
  },
  {
   "cell_type": "markdown",
   "metadata": {},
   "source": [
    "Euler's sieve's algorithm is more complicated than Eratosthenes' sieve's algorithm, but much less effective: "
   ]
  },
  {
   "cell_type": "code",
   "execution_count": null,
   "metadata": {},
   "outputs": [],
   "source": [
    "timeit('first_sieve_of_primes_up_to(20_000)', globals=globals(), number=1)"
   ]
  },
  {
   "cell_type": "markdown",
   "metadata": {},
   "source": [
    "To understand why, and try and address the inefficiency, let us examine the cost of performing some operations on lists and sets, by timing those operations and plotting collected data.\n",
    "\n",
    "The `plot()` function from the `matplotlib.pyplot` module allows one to easily plot data. It expects two arguments: an enumerable of $x$-coordinates and an enumerable of $y$-coordinates. Usually, we rather have an enumerable of pairs, one for each point to plot, the first and second components of the pair being the point's $x$- and $y$-coordinates, respectively. For instance, from the function $f:x\\mapsto 2x$, we could generate the list of points `[(0, 0), (1, 2), (3, 6), (4, 8), (9, 18)]`; `plot()` should then be given `[0, 1, 3, 4, 9]` as first argument, and `[0, 2, 6, 8, 18]` as second argument (or any other enumerable representing the same sequence of data). The `zip()` function makes it easy to get the latter two lists from the former list:"
   ]
  },
  {
   "cell_type": "code",
   "execution_count": null,
   "metadata": {},
   "outputs": [],
   "source": [
    "list(zip((0, 0), (1, 2), (3, 6), (4, 8), (9, 18)))"
   ]
  },
  {
   "cell_type": "markdown",
   "metadata": {},
   "source": [
    "More generally, `zip()` accepts arbitrary enumerables as arguments. The size of those enumerables can differ: what is zipped is the enumerables truncated if needed to the size of the shortest one:"
   ]
  },
  {
   "cell_type": "code",
   "execution_count": null,
   "metadata": {},
   "outputs": [],
   "source": [
    "list(zip(range(1, 5), [11, 12, 13], [21, 22, 23, 24, 25], (31, 32, 33)))"
   ]
  },
  {
   "cell_type": "markdown",
   "metadata": {},
   "source": [
    "Observe that `zip()` is self-inverse, after some of the arguments have possibly been truncated to the size of the shortest one:"
   ]
  },
  {
   "cell_type": "code",
   "execution_count": null,
   "metadata": {},
   "outputs": [],
   "source": [
    "list(zip(*zip((0, 0), (1, 2), (3, 6), (4, 8), (9, 18))))\n",
    "list(zip(*zip(range(1, 5), [11, 12, 13], [21, 22, 23, 24, 25], (31, 32, 33))))"
   ]
  },
  {
   "cell_type": "markdown",
   "metadata": {},
   "source": [
    "In applications where one needs to extend the enumerables to the size of the longest sequence, then the `itertools` module comes to the rescue with the `zip_longest()` function, that accepts an optional `fillvalue` keyword only argument, set to `None` by default:"
   ]
  },
  {
   "cell_type": "code",
   "execution_count": null,
   "metadata": {},
   "outputs": [],
   "source": [
    "list(zip_longest([1], [11, 12], [21, 22, 23, 25], [31, 32]))\n",
    "list(zip_longest([1], [11, 12], [21, 22, 23, 25], [31, 32], fillvalue=-1))"
   ]
  },
  {
   "cell_type": "markdown",
   "metadata": {},
   "source": [
    "Let us first examine the relative cost of creating, from a given collection, a list versus a set:"
   ]
  },
  {
   "cell_type": "code",
   "execution_count": null,
   "metadata": {},
   "outputs": [],
   "source": [
    "data = []\n",
    "for i in range(0, 10_000_000, 500_000):\n",
    "    data.append((timeit(f'list(range({i}))', number=1),\n",
    "                 timeit(f'set(range({i}))', number=1)\n",
    "                )\n",
    "               )\n",
    "plt.plot(*zip(*data));"
   ]
  },
  {
   "cell_type": "markdown",
   "metadata": {},
   "source": [
    "Creating these lists and sets takes time, all the more so that their size is larger. For a given large enough size, creating a list and creating a set do not take the same time. When estimating operations on lists or sets, we want to measure the time it takes to apply that operation to the list or set, without including the extra time needed to create them. When comparing the performance of a given operation on a list versus that same operation on a set, it is even more important not to take into account the time needed to create them, since as observed, that time differs.   The `setup` argument of the `timeit()` function allows us to execute some statements prior to executing the statements whose running time we want to estimate.\n",
    "\n",
    "Retrieving, in a list of size 10 million, the element whose index is a multiple of 500,000, does not significantly depend on the value of the index. As that operation is so efficient, we perform it 10 million times to make the evaluation more precise:"
   ]
  },
  {
   "cell_type": "code",
   "execution_count": null,
   "metadata": {},
   "outputs": [],
   "source": [
    "data = []\n",
    "for i in range(0, 10_000_000, 500_000):\n",
    "    data.append((i, timeit(f'L[{i}]', setup='L = [None] * 10_000_000',\n",
    "                           number=10_000_000\n",
    "                          )\n",
    "                )\n",
    "               )\n",
    "plt.plot(*zip(*data));"
   ]
  },
  {
   "cell_type": "markdown",
   "metadata": {},
   "source": [
    "The next experiment consists in popping, in a list of size 10 thousand, the element whose index is a multiple of 500. The operation is performed 100,000 times, again to make the evaluation more precise, but the setup code is executed only once, so after each call to `pop()`, we append an element to the end of the list so as to maintain its size. The smaller the index is, that is, the closer the element being popped is to the beginning of the list, the larger is the number of elements that have to be \"shifted\" from right to left to fill the vacancy left by that element:"
   ]
  },
  {
   "cell_type": "code",
   "execution_count": null,
   "metadata": {},
   "outputs": [],
   "source": [
    "data = []\n",
    "for i in range(0, 10_000, 500):\n",
    "    data.append((i, timeit(f'L.pop({i}); L.append(None)',\n",
    "                           setup='L = [None] * 10_000', number=100_000\n",
    "                          )\n",
    "                )\n",
    "               )\n",
    "plt.plot(*zip(*data));"
   ]
  },
  {
   "cell_type": "markdown",
   "metadata": {},
   "source": [
    "The next experiment consists in removing, in a list of size 14,500, an element (0), whose first occurrence has an index that is a multiple of 500, up to and including 9,500. The operation is performed 5,000 times, again to make the evaluation more precise; we again append an element to the end of the list so as to maintain its size. The cost of finding an element $e$ that is further and further away from the beginning of the list increases more than the cost of \"shifting\" fewer and fewer elements from right to left to fill the vacancy left by removing $e$ decreases:"
   ]
  },
  {
   "cell_type": "code",
   "execution_count": null,
   "metadata": {},
   "outputs": [],
   "source": [
    "data = []\n",
    "for i in range(0, 10_000, 500):\n",
    "    data.append((i, timeit('L.remove(0); L.append(None)',\n",
    "                           setup=f'L = [None] * {i} + [0] * (14_500 - {i})',\n",
    "                           number=5_000\n",
    "                          )\n",
    "                )\n",
    "               )\n",
    "plt.plot(*zip(*data));"
   ]
  },
  {
   "cell_type": "markdown",
   "metadata": {},
   "source": [
    "The next experiment consists in removing, in the set of all numbers between 0 included and 10 thousand excluded, the multiples of 500. The operation is performed 1,000,000 times, again to make the evaluation more precise; right after we have removed an element from the set, we bring it back. We see the benefit of working with sets rather than lists, when we can afford it, when we often need to remove elements:"
   ]
  },
  {
   "cell_type": "code",
   "execution_count": null,
   "metadata": {},
   "outputs": [],
   "source": [
    "data = []\n",
    "for i in range(0, 10_000, 500):\n",
    "    data.append((i, timeit(f'S.remove({i}); S.add({i})',\n",
    "                           setup='S = set(range(10_000))', number=1_000_000\n",
    "                          )\n",
    "                )\n",
    "               )\n",
    "plt.plot(*zip(*data));"
   ]
  },
  {
   "cell_type": "markdown",
   "metadata": {},
   "source": [
    "So though Euler's sieve sounded as a good idea and a possible improvement over Eratosthenes' sieve, it turned out to perform much worse because often applying the `remove()` method to a list is not efficient: it is on average linear in the length of the list. But applying the `remove()` method to a set is efficient: it has constant complexity. This suggests to, at every stage when all proper multiples of a (prime) number $p$ have to be eliminated, convert the list of numbers that are still left to a set, remove those multiples from the set, and then convert the resulting set back to a list. Sorting is costly, but being performed only as many times as there are prime numbers smaller than $\\lfloor\\sqrt n\\rfloor$, it could still bring an improvement.\n",
    "\n",
    "Also, that allows one to get back to the original idea of eliminating all proper multiples at most equal to $n$ of a given prime number $p$ that are not multiples of smaller prime numbers by multiplying $p$ with all numbers at least equal to $p$ in `sieve`, until the product exceeds $n$. The approach is flawed if numbers are eliminated from `sieve`, but it is valid if numbers are eliminated from a copy of `sieve` as a set. To demonstrate it, we define a new version of `eliminate_proper_multiples_from_set()` that makes use of a `global` __declaration__, a notion that we now introduce.\n",
    "\n",
    "The value of a global variable can be accessed from within a function:"
   ]
  },
  {
   "cell_type": "code",
   "execution_count": null,
   "metadata": {},
   "outputs": [],
   "source": [
    "a = 1\n",
    "\n",
    "def f():\n",
    "    print(a)\n",
    "\n",
    "f()\n",
    "a"
   ]
  },
  {
   "cell_type": "markdown",
   "metadata": {},
   "source": [
    "A function can define a local variable with the same name as a global variable, the former then hiding the latter within the function:"
   ]
  },
  {
   "cell_type": "code",
   "execution_count": null,
   "metadata": {},
   "outputs": [],
   "source": [
    "a = 1\n",
    "\n",
    "def f():\n",
    "    a = 2\n",
    "    print(a)\n",
    "    \n",
    "f()\n",
    "a"
   ]
  },
  {
   "cell_type": "markdown",
   "metadata": {},
   "source": [
    "A function can change the value of a global variable. It cannot then define a local variable with the same name, and the global variable has to be declared as `global` within the function:"
   ]
  },
  {
   "cell_type": "code",
   "execution_count": null,
   "metadata": {},
   "outputs": [],
   "source": [
    "a = 1\n",
    "\n",
    "def f():\n",
    "    global a\n",
    "    print(a)\n",
    "    a = 2\n",
    "    \n",
    "f()\n",
    "a"
   ]
  },
  {
   "cell_type": "markdown",
   "metadata": {},
   "source": [
    "In the following code fragment, the assignment of `2` to `a` makes `a` a __local__ variable of the function `f()`. Within a function, a variable is either global (the `global` declaration being necessary if and only if the function has a statement that assigns some value to that variable) or local; it is not global in parts of the function, and local in other parts. And since one cannot get the value of a variable before that variable has been assigned a value, the definition of `f()` below is incorrect:"
   ]
  },
  {
   "cell_type": "code",
   "execution_count": null,
   "metadata": {},
   "outputs": [],
   "source": [
    "a = 1\n",
    "\n",
    "def f():\n",
    "    print(a)\n",
    "    a = 2\n",
    "\n",
    "f()"
   ]
  },
  {
   "cell_type": "markdown",
   "metadata": {},
   "source": [
    "Now, to observe how, with `n` set to `25`, proper multiples of 2, proper multiples of 3 that are not multiples of 2, and proper multiples of 5, equal to $\\lfloor\\sqrt 25\\rfloor$, that are multiples of neither 2 nor 3, are eliminated, we successively call the following function with `i` set to `0`, `1` and `2` as argument:"
   ]
  },
  {
   "cell_type": "code",
   "execution_count": null,
   "metadata": {},
   "outputs": [],
   "source": [
    "def eliminate_proper_multiples_from_set(i):\n",
    "    # We assume that this function will be called in the order\n",
    "    #   eliminate_proper_multiples(0)\n",
    "    #   eliminate_proper_multiples(1)\n",
    "    #   eliminate_proper_multiples(2)\n",
    "    #   ...\n",
    "    global sieve\n",
    "    sieve_as_set = set(sieve)\n",
    "    print(f'Now eliminating proper multiples of {sieve[i]}')\n",
    "    j = i\n",
    "    while j < len(sieve):\n",
    "        factor = sieve[i] * sieve[j]\n",
    "        if factor <= n:\n",
    "            print(f' Eliminating {sieve[i]} * {sieve[j]} = {factor}')\n",
    "            sieve_as_set.remove(factor)\n",
    "            j += 1\n",
    "        else:\n",
    "            break\n",
    "    sieve = sorted(sieve_as_set)"
   ]
  },
  {
   "cell_type": "code",
   "execution_count": null,
   "metadata": {},
   "outputs": [],
   "source": [
    "sieve = list(range(2, n + 1))\n",
    "print_sieve_contents()"
   ]
  },
  {
   "cell_type": "code",
   "execution_count": null,
   "metadata": {},
   "outputs": [],
   "source": [
    "eliminate_proper_multiples_from_set(0)\n",
    "print_sieve_contents()"
   ]
  },
  {
   "cell_type": "code",
   "execution_count": null,
   "metadata": {},
   "outputs": [],
   "source": [
    "eliminate_proper_multiples_from_set(1)\n",
    "print_sieve_contents()"
   ]
  },
  {
   "cell_type": "code",
   "execution_count": null,
   "metadata": {},
   "outputs": [],
   "source": [
    "eliminate_proper_multiples_from_set(2)\n",
    "print_sieve_contents()"
   ]
  },
  {
   "cell_type": "markdown",
   "metadata": {},
   "source": [
    "Putting it all together:"
   ]
  },
  {
   "cell_type": "code",
   "execution_count": null,
   "metadata": {},
   "outputs": [],
   "source": [
    "def second_sieve_of_primes_up_to(n):\n",
    "    sieve = list(range(2, n + 1))\n",
    "    i = 0\n",
    "    while sieve[i] <= round(sqrt(n)):\n",
    "        sieve_as_set = set(sieve)\n",
    "        k = 0\n",
    "        while True:\n",
    "            factor = sieve[i] * sieve[i + k]\n",
    "            if factor > n:\n",
    "                break\n",
    "            sieve_as_set.remove(factor)\n",
    "            k += 1\n",
    "        sieve = sorted(sieve_as_set)\n",
    "        i += 1\n",
    "    return sieve"
   ]
  },
  {
   "cell_type": "code",
   "execution_count": null,
   "metadata": {},
   "outputs": [],
   "source": [
    "primes = second_sieve_of_primes_up_to(1_000)\n",
    "nicely_display(primes, len(str(primes[-1])))"
   ]
  },
  {
   "cell_type": "markdown",
   "metadata": {},
   "source": [
    "This second version of Euler's sieve is indeed more efficient than the first version, but it is still less efficient than Eratosthenes' sieve:"
   ]
  },
  {
   "cell_type": "code",
   "execution_count": null,
   "metadata": {},
   "outputs": [],
   "source": [
    "timeit('second_sieve_of_primes_up_to(500_000)', globals=globals(), number=1)"
   ]
  }
 ],
 "metadata": {
  "kernelspec": {
   "display_name": "Python 3 (ipykernel)",
   "language": "python",
   "name": "python3"
  },
  "language_info": {
   "codemirror_mode": {
    "name": "ipython",
    "version": 3
   },
   "file_extension": ".py",
   "mimetype": "text/x-python",
   "name": "python",
   "nbconvert_exporter": "python",
   "pygments_lexer": "ipython3",
   "version": "3.9.7"
  },
  "latex_envs": {
   "LaTeX_envs_menu_present": true,
   "autoclose": false,
   "autocomplete": true,
   "bibliofile": "biblio.bib",
   "cite_by": "apalike",
   "current_citInitial": 1,
   "eqLabelWithNumbers": true,
   "eqNumInitial": 1,
   "hotkeys": {
    "equation": "Ctrl-E",
    "itemize": "Ctrl-I"
   },
   "labels_anchors": false,
   "latex_user_defs": false,
   "report_style_numbering": false,
   "user_envs_cfg": false
  },
  "toc": {
   "base_numbering": 1,
   "nav_menu": {},
   "number_sections": true,
   "sideBar": true,
   "skip_h1_title": false,
   "title_cell": "Table of Contents",
   "title_sidebar": "Contents",
   "toc_cell": false,
   "toc_position": {},
   "toc_section_display": true,
   "toc_window_display": false
  }
 },
 "nbformat": 4,
 "nbformat_minor": 2
}
