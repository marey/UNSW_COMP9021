{
 "cells": [
  {
   "cell_type": "code",
   "execution_count": null,
   "metadata": {},
   "outputs": [],
   "source": [
    "# Does not need to be executed if\n",
    "# ~/.ipython/profile_default/ipython_config.py\n",
    "# exists and contains:\n",
    "# get_config().InteractiveShell.ast_node_interactivity = 'all'\n",
    "\n",
    "from IPython.core.interactiveshell import InteractiveShell\n",
    "InteractiveShell.ast_node_interactivity = 'all'"
   ]
  },
  {
   "cell_type": "code",
   "execution_count": null,
   "metadata": {
    "init_cell": true
   },
   "outputs": [],
   "source": [
    "from random import random\n",
    "from itertools import count\n",
    "from argparse import ArgumentParser\n",
    "import re\n",
    "import os\n",
    "import numpy as np\n",
    "import matplotlib.pyplot as plt\n",
    "import matplotlib.animation as animation"
   ]
  },
  {
   "cell_type": "markdown",
   "metadata": {},
   "source": [
    "The game of life offers a simplistic model of living cells coming to life, surviving, and dying. It is played on a 2-dimensional grid. We first assume that the grid is bounded. To start with, it supports an initial population distribution. Every living cell has at most 8 neighbouring living cells (positioned horizontally, vertically, and diagonally). The population evolves in stages. At every stage:\n",
    "\n",
    "* living cells surrounded by exactly 2 or 3 living cells survive; with less than 2, they die of loneliness, and with more than 3, they die of overcrowding;\n",
    "* empty positions surrounded by exactly 3 neighbouring living cells are nice and cosy, and see a cell come to life.\n",
    "\n",
    "For instance, consider a grid of size at least 5 x 5 whose center is initially populated as follows:\n",
    "\n",
    "$\\begin{array}{cccccc}\n",
    "      &       &       &       &       \\\\\n",
    "      & \\star & \\star & \\star &       \\\\\n",
    "      & \\star &       & \\star &       \\\\\n",
    "      & \\star & \\star & \\star &       \\\\\n",
    "      &       &       &       &\n",
    "\\end{array}$\n",
    "\n",
    "For the next three stages, the population distribution will become first\n",
    "\n",
    "$\\begin{array}{cccccc}\n",
    "      &       & \\star &       &       \\\\\n",
    "      & \\star &       & \\star &       \\\\\n",
    "\\star &       &       &       & \\star \\\\\n",
    "      & \\star &       & \\star &       \\\\\n",
    "      &       & \\star &       &\n",
    "\\end{array}$\n",
    "\n",
    "and then\n",
    "\n",
    "$\\begin{array}{cccccc}\n",
    "      &       & \\star &       &       \\\\\n",
    "      & \\star & \\star & \\star &       \\\\\n",
    "\\star & \\star &       & \\star & \\star \\\\\n",
    "      & \\star & \\star & \\star &       \\\\\n",
    "      &       & \\star &       &\n",
    "\\end{array}$\n",
    "\n",
    "and then\n",
    "\n",
    "$\\begin{array}{cccccc}\n",
    "      & \\star & \\star & \\star &       \\\\\n",
    "\\star &       &       &       & \\star \\\\\n",
    "\\star &       &       &       & \\star \\\\\n",
    "\\star &       &       &       & \\star \\\\\n",
    "      & \\star & \\star & \\star &       \\\\\n",
    "\\end{array}$\n",
    "\n",
    "Let us work with a grid of size 10 x 10. First, let us create a grid for a lifeless world, filled with nothing but 0's. Let us also write a function to display the contents of the grid:"
   ]
  },
  {
   "cell_type": "code",
   "execution_count": null,
   "metadata": {},
   "outputs": [],
   "source": [
    "size = 10\n",
    "grid = [[0] * size for _ in range(size)]\n",
    "\n",
    "def display_grid():\n",
    "    for row in grid:\n",
    "        print(*row)\n",
    "        \n",
    "display_grid()"
   ]
  },
  {
   "cell_type": "markdown",
   "metadata": {},
   "source": [
    "We want the grid to store some 1's that represent living cells. We fix an expected density of living cells, say 30%, and 100 times, generate a number between 0 and 1, for a living cell if the generated number is less than 0.3, and for an empty position otherwise. Let us first initialise `grid` to a list of 10 lists of 10 `0`'s, before each member of `grid`'s 10 members is given a chance of 0.3 to be changed to a `1`:"
   ]
  },
  {
   "cell_type": "code",
   "execution_count": null,
   "metadata": {},
   "outputs": [],
   "source": [
    "density = 0.3\n",
    "grid = [[0 for _ in range(size)] for _ in range(size)]\n",
    "for i in range(size):\n",
    "    for j in range(size):\n",
    "        if random() < density:\n",
    "            grid[i][j] = 1\n",
    "\n",
    "display_grid()"
   ]
  },
  {
   "cell_type": "markdown",
   "metadata": {},
   "source": [
    "This could have been more concisely achieved as follows:"
   ]
  },
  {
   "cell_type": "code",
   "execution_count": null,
   "metadata": {},
   "outputs": [],
   "source": [
    "grid = [[None] * size for _ in range(size)]\n",
    "for i in range(size):\n",
    "    for j in range(size):\n",
    "        grid[i][j] = int(random() < density)\n",
    "\n",
    "display_grid()"
   ]
  },
  {
   "cell_type": "markdown",
   "metadata": {},
   "source": [
    "But the following code fragment would not be appropriate:"
   ]
  },
  {
   "cell_type": "code",
   "execution_count": null,
   "metadata": {},
   "outputs": [],
   "source": [
    "grid = [[None] * size] * size\n",
    "for i in range(size):\n",
    "    for j in range(size):\n",
    "        grid[i][j] = int(random() < density)\n",
    "\n",
    "display_grid()"
   ]
  },
  {
   "cell_type": "markdown",
   "metadata": {},
   "source": [
    "Indeed,\n",
    "\n",
    "* `0` denotes the representation in memory of a structure $Z$ that models the integer 0;\n",
    "* `[0] * size` denotes the representation in memory of a list $L$ consisting of 10 times that representation in memory of $Z$;\n",
    "* `[[0] * size] * size` denotes the representation in memory of a list $L'$ consisting of 10 times that representation in memory of $L$.\n",
    "\n",
    "A statement of the form `grid[i][j]` then lets one of the 10 members of $L$ change from a representation in memory of $Z$ to a representation in memory of a structure $U$ that models the integer 1. This change in $L$ is reflected in the 10 denotations of $L$ in $L'$. The following code fragment illustrates further:"
   ]
  },
  {
   "cell_type": "code",
   "execution_count": null,
   "metadata": {},
   "outputs": [],
   "source": [
    "L = [[0] * 3] * 2; L\n",
    "L[0][1] = 10; L\n",
    "L[1][2] = 20; L"
   ]
  },
  {
   "cell_type": "markdown",
   "metadata": {},
   "source": [
    "That being said, using two list comprehensions is the best way to define a list of lists of randomly generated `0`'s and `1`'s following the desired distribution:"
   ]
  },
  {
   "cell_type": "code",
   "execution_count": null,
   "metadata": {},
   "outputs": [],
   "source": [
    "density = 0.3\n",
    "grid = [[int(random() < density) for _ in range(size)] for _ in range(size)]\n",
    "\n",
    "display_grid()"
   ]
  },
  {
   "cell_type": "markdown",
   "metadata": {},
   "source": [
    "Let us write an alternative to `display_grid()` for a nicer output, black and white squares rather than 1's and 0's:"
   ]
  },
  {
   "cell_type": "code",
   "execution_count": null,
   "metadata": {},
   "outputs": [],
   "source": [
    "def display_population():\n",
    "    squares = {0: '\\u2b1c', 1: '\\u2b1b'}\n",
    "    for row in grid:\n",
    "        print(''.join(f'{squares[e]}' for e in row))\n",
    "\n",
    "display_population()"
   ]
  },
  {
   "cell_type": "markdown",
   "metadata": {},
   "source": [
    "To compute the next stage of living cells distribution, it suffices to define a new grid meant to represent, at the intersection of row $i$ and column $j$, a living cell if there is currently a living cell at that location and there are exactly 2 neighbouring living cells, or if there are exactly 3 neighbouring living cells (either there is a living cell at that location and it survives, or there is no living cell at that location and one appears). Eventually, we make the original grid denote the new grid (necessitating the `global grid` statement). When computing neighbours, we have to pay attention to positions that have only 5 or 3 neighbours rather than 8 because they are along one of the grid's boundaries or at one of grid's corners:"
   ]
  },
  {
   "cell_type": "code",
   "execution_count": null,
   "metadata": {},
   "outputs": [],
   "source": [
    "def next_generation():\n",
    "    global grid\n",
    "    new_grid = [[None] * size for _ in range(size)]\n",
    "    for i in range(size):\n",
    "        for j in range(size):\n",
    "            nb_of_neighbours = 0\n",
    "            # Above left\n",
    "            if i and j and grid[i - 1][j - 1]:\n",
    "                nb_of_neighbours += 1\n",
    "            # Above\n",
    "            if i and grid[i - 1][j]:\n",
    "                nb_of_neighbours += 1\n",
    "            # Above right\n",
    "            if i and j < size - 1 and grid[i - 1][j + 1]:\n",
    "                nb_of_neighbours += 1\n",
    "            # Left\n",
    "            if j and grid[i][j - 1]:\n",
    "                nb_of_neighbours += 1\n",
    "            # Right\n",
    "            if j < size - 1 and grid[i][j + 1]:\n",
    "                nb_of_neighbours += 1\n",
    "            # Below left\n",
    "            if i < size - 1 and j and grid[i + 1][j - 1]:\n",
    "                nb_of_neighbours += 1\n",
    "            # Below\n",
    "            if i < size - 1 and grid[i + 1][j]:\n",
    "                nb_of_neighbours += 1\n",
    "            # Below right\n",
    "            if i < size - 1 and j < size - 1 and grid[i + 1][j + 1]:\n",
    "                nb_of_neighbours += 1\n",
    "            new_grid[i][j] = int(grid[i][j] and nb_of_neighbours == 2\n",
    "                                 or nb_of_neighbours == 3\n",
    "                                )\n",
    "    grid = new_grid\n",
    "    \n",
    "next_generation()\n",
    "display_population()\n",
    "print()\n",
    "\n",
    "next_generation()\n",
    "display_population()"
   ]
  },
  {
   "cell_type": "markdown",
   "metadata": {},
   "source": [
    "The code is awkward because of the care exercised for the boundary positions. We can instead work with a grid of size 12 x 12, having in mind a surrounding \"frame\" (first row, last row, first column, last column), where no cell will ever come to life, but that provides exactly 8 neighbours to all positions within the frame. The cost of using a bit of extra space is more than compensated by the gain in elegance, and to a lesser extent, efficiency:"
   ]
  },
  {
   "cell_type": "code",
   "execution_count": null,
   "metadata": {},
   "outputs": [],
   "source": [
    "framed_grid = [[0] * (size + 2) for _ in range(size + 2)]\n",
    "for i in range(1, size + 1):\n",
    "    for j in range(1, size + 1):\n",
    "        framed_grid[i][j] = int(random() < density)\n",
    "\n",
    "def display_population_within_frame():\n",
    "    squares = {0: '\\u2b1c', 1: '\\u2b1b'}\n",
    "    for i in range(1, size + 1):\n",
    "        print(''.join(f'{squares[framed_grid[i][j]]}'\n",
    "                              for j in range(1, size + 1)\n",
    "                     )\n",
    "             )\n",
    "        \n",
    "def next_generation_within_frame():\n",
    "    global framed_grid\n",
    "    new_framed_grid = [[0] * (size + 2) for _ in range(size + 2)]\n",
    "    for i in range(1, size + 1):\n",
    "        for j in range(1, size + 1):\n",
    "            nb_of_neighbours = sum((framed_grid[i - 1][j - 1],\n",
    "                                    framed_grid[i - 1][j],\n",
    "                                    framed_grid[i - 1][j + 1],\n",
    "                                    framed_grid[i][j - 1],\n",
    "                                    framed_grid[i][j + 1],\n",
    "                                    framed_grid[i + 1][j - 1],\n",
    "                                    framed_grid[i + 1][j],\n",
    "                                    framed_grid[i + 1][j + 1]\n",
    "                                   )\n",
    "                                  )\n",
    "            new_framed_grid[i][j] = int(framed_grid[i][j]\n",
    "                                        and nb_of_neighbours == 2\n",
    "                                        or nb_of_neighbours == 3\n",
    "                                       )\n",
    "    framed_grid = new_framed_grid\n",
    "\n",
    "display_population_within_frame()\n",
    "print()\n",
    "\n",
    "next_generation_within_frame()\n",
    "display_population_within_frame()\n",
    "print()\n",
    "\n",
    "next_generation_within_frame()\n",
    "display_population_within_frame()"
   ]
  },
  {
   "cell_type": "markdown",
   "metadata": {},
   "source": [
    "A Python list can contain all kinds of values, of all types. This flexibility comes at the cost of efficiency. When the members of a list are all of the same type, then the `numpy` module and its `array` class offer more powerful operations, that are implemented very effectively. The shape of an `array` can change to treat a sequence of data all of the same type, stored consecutively in memory, as a list, or as a list of lists, or as a list of lists of lists... The following illustrates:"
   ]
  },
  {
   "cell_type": "code",
   "execution_count": null,
   "metadata": {},
   "outputs": [],
   "source": [
    "# 1 dimension\n",
    "L = np.array([0, 1, 2, 3, 4, 5, 6, 7])\n",
    "\n",
    "# Type inferred from the values used for initialisation, size is number\n",
    "# of elements, independy of shape, which represents the number of\n",
    "# dimensions, and the number of elements in each dimension.\n",
    "L, L.dtype, L.size, L.shape\n",
    "# Viewed in 2 dimensions, in various ways.\n",
    "L.reshape((1, 8))\n",
    "L.reshape((8, 1))\n",
    "L.reshape((2, 4))\n",
    "L.reshape((4, 2))\n",
    "# Viewed in 3 dimensions.\n",
    "L.reshape((2, 2, 2))\n",
    "L\n",
    "# Changing the element of index 0 of each of the three dimensions.\n",
    "L.reshape(2, 2, 2)[0, 0, 0] = 10\n",
    "# L has been changed, it was all the same data viewed differently.\n",
    "L"
   ]
  },
  {
   "cell_type": "markdown",
   "metadata": {},
   "source": [
    "Consistently with the fact that the shape of an `array` is only a matter of viewing in a particular way a linear sequence of data, and can change dynamically, elements or sections of an `array` will be denoted using a single pair of square brackets with in between, as many indexes or slices are there are dimensions in the current view. This syntax has been used in the last assignment of the previous code fragment. Observe that the number of slices between square brackets corresponds to the number of dimensions of the view of the extracted data:"
   ]
  },
  {
   "cell_type": "code",
   "execution_count": null,
   "metadata": {},
   "outputs": [],
   "source": [
    "L = np.array(range(16))\n",
    "\n",
    "L\n",
    "L[10]\n",
    "L[8 : 13]"
   ]
  },
  {
   "cell_type": "code",
   "execution_count": null,
   "metadata": {},
   "outputs": [],
   "source": [
    "L = np.array(range(16)).reshape(2, 8)\n",
    "\n",
    "L\n",
    "L[1, 2]\n",
    "L[1, :]\n",
    "L[1 : 2, :]\n",
    "L[:, 3]\n",
    "L[:, 3 : 4]"
   ]
  },
  {
   "cell_type": "code",
   "execution_count": null,
   "metadata": {},
   "outputs": [],
   "source": [
    "L = np.array(range(16)).reshape(2, 2, 4)\n",
    "\n",
    "L\n",
    "L[1, 0, 2]\n",
    "L[1, 1, 1 :]\n",
    "L[1, :, 1 : 3]\n",
    "L[0 : 1, 0 : 1, 1 : 3]"
   ]
  },
  {
   "cell_type": "markdown",
   "metadata": {},
   "source": [
    "The `zeroes` function of the `numpy` module provides a convenient way to define an `array` of a given shape, with elements all initialised to 0:"
   ]
  },
  {
   "cell_type": "code",
   "execution_count": null,
   "metadata": {},
   "outputs": [],
   "source": [
    "np.zeros((2, 2))\n",
    "np.zeros((2, 2), np.int)"
   ]
  },
  {
   "cell_type": "markdown",
   "metadata": {},
   "source": [
    "Assigning a given value to all members of a section of an `array` is more easily done than with Python lists. We first let `np_framed_grid` be of size (7, 7) rather than (12, 12) to more effectively illustrate the technique, explained next, used in our last implementation:"
   ]
  },
  {
   "cell_type": "code",
   "execution_count": null,
   "metadata": {},
   "outputs": [],
   "source": [
    "np_framed_grid = np.zeros((7, 7), np.int)\n",
    "np_framed_grid[2 : 5, 2 : 5] = 1\n",
    "np_framed_grid[3, 3] = 0\n",
    "\n",
    "# A \"framed\" grid\n",
    "np_framed_grid\n",
    "# The \"inside\" of the grid, without the surrounding \"frame\"\n",
    "np_framed_grid[1 : -1, 1 : -1]"
   ]
  },
  {
   "cell_type": "markdown",
   "metadata": {},
   "source": [
    "Notice the following:\n",
    "\n",
    "* If a copy of the grid is shifted one position to the right and one position below, then every position \"inside the frame\" of the original grid will be aligned with a 1 or a 0 of the shifted copy depending on whether there is a neighbouring living cell to the left of and above that position.\n",
    "* If a copy of the grid is shifted one position to the right, then every position \"inside the frame\" of the original grid will be aligned with a 1 or a 0 of the shifted copy depending on whether there is a neighbouring living cell to the left of that position.\n",
    "* If a copy of the grid is shifted one position to the right and one position above, then every position \"inside the frame\" of the original grid will be aligned with a 1 or a 0 of the shifted copy depending on whether there is a neighbouring living cell to the left of and below that position.\n",
    "\n",
    "The following code fragment defines three `array`s for truncated copies of the grid to align the positions of the grid \"inside the frame\" with their neighbouring living cells, if any, to the left and above, to the left, or to the left and below, respectively:"
   ]
  },
  {
   "cell_type": "code",
   "execution_count": null,
   "metadata": {},
   "outputs": [],
   "source": [
    "np_above_left = np_framed_grid[: -2, : -2]\n",
    "np_left = np_framed_grid[1 : -1, : -2]\n",
    "np_below_left = np_framed_grid[2 :, : -2]\n",
    "\n",
    "np_above_left\n",
    "np_left\n",
    "np_below_left"
   ]
  },
  {
   "cell_type": "markdown",
   "metadata": {},
   "source": [
    "Similarly, we define two `array`s for truncated copies of the grid to align the positions of the grid \"inside the frame\" with their neighbouring living cells, if any, above or below, respectively:"
   ]
  },
  {
   "cell_type": "code",
   "execution_count": null,
   "metadata": {},
   "outputs": [],
   "source": [
    "np_above = np_framed_grid[: -2, 1 : -1]\n",
    "np_below = np_framed_grid[2 :, 1 : -1]\n",
    "\n",
    "np_above\n",
    "np_below"
   ]
  },
  {
   "cell_type": "markdown",
   "metadata": {},
   "source": [
    "Similarly, we define three `array`s for truncated copies of the grid to align the positions of the grid \"inside the frame\" with their neighbouring living cells, if any, to the right and above, to the right, or to the right and below, respectively:"
   ]
  },
  {
   "cell_type": "code",
   "execution_count": null,
   "metadata": {},
   "outputs": [],
   "source": [
    "np_above_right = np_framed_grid[: -2, 2 :]\n",
    "np_right = np_framed_grid[1 : -1, 2 :]\n",
    "np_below_right = np_framed_grid[2 :, 2 :]\n",
    "\n",
    "np_above_right\n",
    "np_right\n",
    "np_below_right"
   ]
  },
  {
   "cell_type": "markdown",
   "metadata": {},
   "source": [
    "Adding `array`s of the same shape corresponds to matrix addition. In other words, adding up the 8 `array`s just defined yields an `array` that represents the number of neighbouring living cells at any position \"inside the frame\":"
   ]
  },
  {
   "cell_type": "code",
   "execution_count": null,
   "metadata": {},
   "outputs": [],
   "source": [
    "np_above_left + np_left + np_below_left + np_above + np_below + np_above_right\\\n",
    "+ np_right + np_below_right"
   ]
  },
  {
   "cell_type": "markdown",
   "metadata": {},
   "source": [
    "Boolean operators can also be applied element for element to two `array`s of the same shape:"
   ]
  },
  {
   "cell_type": "code",
   "execution_count": null,
   "metadata": {},
   "outputs": [],
   "source": [
    "A = np.array((0, 0, 1, 2)).reshape(2, 2)\n",
    "B = np.array((True, False, True, False)).reshape(2, 2)\n",
    "\n",
    "A\n",
    "B\n",
    "np.logical_or(A, B)\n",
    "np.logical_and(A, B).astype(np.int)"
   ]
  },
  {
   "cell_type": "markdown",
   "metadata": {},
   "source": [
    "So the key elements of the game of life can be alternatively implemented using `array`s as follows:"
   ]
  },
  {
   "cell_type": "code",
   "execution_count": null,
   "metadata": {
    "scrolled": true
   },
   "outputs": [],
   "source": [
    "np_framed_grid = np.zeros((size + 2, size + 2), np.int)\n",
    "for i in range(1, size - 1):\n",
    "    for j in range(1, size - 1):\n",
    "        np_framed_grid[i, j] = int(random() < density)\n",
    "\n",
    "def display_population_within_frame():\n",
    "    squares = {0: '\\u2b1c', 1: '\\u2b1b'}\n",
    "    for i in range(1, size + 1):\n",
    "        print(''.join(f'{squares[np_framed_grid[i][j]]}'\n",
    "                              for j in range(1, size + 1)\n",
    "                     )\n",
    "             )\n",
    "        \n",
    "def np_next_generation_within_frame():\n",
    "    global np_framed_grid\n",
    "    number_of_neighbours = np.zeros((size + 2, size + 2))\n",
    "    number_of_neighbours[1 : -1, 1 : -1] =\\\n",
    "            np_framed_grid[: -2, : -2] + np_framed_grid[: -2, 1 : -1]\\\n",
    "            + np_framed_grid[: -2, 2 :] + np_framed_grid[1 : -1, : -2]\\\n",
    "            + np_framed_grid[1 : -1, 2 :] + np_framed_grid[2 :, : -2]\\\n",
    "            + np_framed_grid[2 :, 1 : -1] + np_framed_grid[2 :, 2 :]\n",
    "    np_framed_grid = np.logical_or(np.logical_and(np_framed_grid == 1,\n",
    "                                               number_of_neighbours == 2\n",
    "                                              ), number_of_neighbours == 3\n",
    "                               ).astype(np.int)\n",
    "\n",
    "display_population_within_frame()\n",
    "print()\n",
    "\n",
    "np_next_generation_within_frame()\n",
    "display_population_within_frame()\n",
    "print()\n",
    "\n",
    "np_next_generation_within_frame()\n",
    "display_population_within_frame()"
   ]
  },
  {
   "cell_type": "markdown",
   "metadata": {},
   "source": [
    "Let us see how to create movies of population evolutions, starting from initial populations read from rle files (rle is for \"run length encoded\"); `gosperglidergun.rle` is an example of such a file, that the `cat` Jupyter magic command lets us display:"
   ]
  },
  {
   "cell_type": "code",
   "execution_count": null,
   "metadata": {},
   "outputs": [],
   "source": [
    "cat gosperglidergun.rle"
   ]
  },
  {
   "cell_type": "markdown",
   "metadata": {},
   "source": [
    "The first line after the comment lines indicates that a pattern that occupies 36 columns and 9 rows will follow. (B3/S23 is for Birth if 3 neighbouring living cells, Survival if 2 or 3 neighbouring living cells, so a description of the rules of the game of life.) Then comes the description of the pattern. Such a description can span many lines. It ends in an exclamation mark. It consists of:\n",
    "\n",
    "* `$` to indicate moving one row below, or in case a positive integer $k$ precedes `$`, $k$ rows below;\n",
    "* `b` to indicate an empty position, or in case a positive integer $k$ precedes `b`, $k$ consecutive empty positions;\n",
    "* `o` to indicate a living cell, or in case a positive integer $k$ precedes `o`, $k$ consecutive living cells.\n",
    "\n",
    "So the pattern described in `gosperglidergun.rle` has a first row consisting of 24 empty positions followed by 1 living cell followed by 11 empty positions, for a total of 36 positions, but it is not necessary to indicate trailing empty positions, so rather than `24bo11b$`, we could have read `24bo$`. We see this abbreviation used for the last row, where 12 empty positions are followed by 2 living cells; the 12 empty positions at the end are implicit.\n",
    "\n",
    "The first pieces of information to extract from `gosperglidergun.rle` seem to be the values of `x` and `y`. They are not indispensable, but due to the potential use of the abbreviation previously mentioned, the pattern description can be more easily processed if `x`'s value is known, and knowing `y`'s value too does not harm. We take advantage of the `re` module and its `search()` function:"
   ]
  },
  {
   "cell_type": "code",
   "execution_count": null,
   "metadata": {},
   "outputs": [],
   "source": [
    "with open('gosperglidergun.rle') as file:\n",
    "    for line in file:\n",
    "        if line.startswith('#'):\n",
    "            continue\n",
    "        x, y = (int(e) for e in re.search('(\\d+)[^\\d]*(\\d+)', line).groups())\n",
    "        break\n",
    "\n",
    "x, y"
   ]
  },
  {
   "cell_type": "markdown",
   "metadata": {},
   "source": [
    "The following lines can all be read and stripped of any space at both ends, including the final new line character, then concatenated into a new single string, from which a string without the final exclamation mark can be obtained and split into substrings separated by a dollar sign:"
   ]
  },
  {
   "cell_type": "code",
   "execution_count": null,
   "metadata": {},
   "outputs": [],
   "source": [
    "with open('gosperglidergun.rle') as file:\n",
    "    for line in file:\n",
    "        if line.startswith('#'):\n",
    "            continue\n",
    "        x, y = (int(e) for e in re.search('(\\d+)[^\\d]*(\\d+)', line).groups())\n",
    "        break\n",
    "    lines = ''.join(line.strip() for line in file)[: -1].split('$')\n",
    "\n",
    "lines"
   ]
  },
  {
   "cell_type": "markdown",
   "metadata": {},
   "source": [
    "The previous implementation of the evolution of a population assumed that the game of life is played on a finite grid whose boundaries have their role in how life evolves; for instance, a cluster of living cell could bounce back on a grid boundary. As the comment in `gosperglidergun.rle` indicates, part of the interest in the game of life has been to find patterns \"with unbounded growth\". To be faithful to the interpretation of the game where the grid is not the whole universe, but only a finite window in an unbounded universe, we will create movies supposed to run for a predetermined number of generations, with a default value of 1,000 that the user will be able to change, but the movie will stop as soon as a living cell touches on the \"frame\" of the grid, if that happens before the movie is set to end:"
   ]
  },
  {
   "cell_type": "code",
   "execution_count": null,
   "metadata": {},
   "outputs": [],
   "source": [
    "max_nb_of_iterations = 1_000"
   ]
  },
  {
   "cell_type": "markdown",
   "metadata": {},
   "source": [
    "The movie is all the more likely to end before `max_nb_of_iterations` many evolution steps have taken place that there is little free space around the area occupied by the pattern decoded from the rle file. By default, we set the horizontal and vertical dimensions of the grid to 5 times the max of `x` and `y`, but the user will also be able to change this default value:"
   ]
  },
  {
   "cell_type": "code",
   "execution_count": null,
   "metadata": {},
   "outputs": [],
   "source": [
    "pattern_size_multiplier = 5\n",
    "size = max(x, y) * pattern_size_multiplier\n",
    "\n",
    "size"
   ]
  },
  {
   "cell_type": "markdown",
   "metadata": {},
   "source": [
    "To position the rectangular part of the grid occupied by the pattern roughly at the centre, we set the coordinates `i` (row index) and `j` (column index) of the top left corner of that rectangular area accordingly:"
   ]
  },
  {
   "cell_type": "code",
   "execution_count": null,
   "metadata": {},
   "outputs": [],
   "source": [
    "i, j = (size - y) // 2, (size - x) // 2\n",
    "\n",
    "i, j"
   ]
  },
  {
   "cell_type": "markdown",
   "metadata": {},
   "source": [
    "Each member of `lines` needs to be analysed to change some `0`'s to `1`'s in `grid`. For better illustration, we set `lines`, `i` and `j` manually to the following values:\n",
    "\n",
    "`lines = ['', '50', 'b', '2b50', 'o50', '2o', 'b2o5bob8o10b', '2o5b8obo11b13o50']`  \n",
    "`i = 0`  \n",
    "`j = 0`\n",
    "\n",
    "* The first member of lines, namely, `''`, should make `i` become 1 (0+1). There is no `0` to change to `1` on the first row of the grid.\n",
    "* The second member of lines, namely, `'50'`, should make `i` become 51 (1+50). There is no `0` to change to `1` on the next 50 rows of the grid.\n",
    "* The third member of lines, namely, `'b'`, should make `i` become 52 (51+1). There is no `0` to change to `1` on the 52nd row of the grid.\n",
    "* The fourth member of lines, namely, `'2b50'`, should make `i` become 102 (52+50). There is no `0` to change to `1` on the 53rd row of the grid, nor on the next 50 rows of the grid.\n",
    "* The fifth member of lines, namely, `'o50'`, should make `i` become 152 (102+50). On the 103rd row of the grid, the `0`'s between positions 0 included and 1 (0+1) excluded should be changed to `1`.\n",
    "* The sixth member of lines, namely, `'2o'`, should make `i` become 153 (152+1). On the 153rd row of the grid, the `0`'s between positions 0 included and 2 (0+2) excluded should be changed to `1`.\n",
    "* The seventh member of lines, namely, `'b2o5bob8o10b'`, should make `i` become 154 (153+1). On the 154th row of the grid, the `0`'s between positions 1 included and 3 (1+2) excluded, between positions 8 (3+5) included and 9 (8+1) excluded, and between positions 10 (9+1) included and 18 (10+8) excluded, should be changed to `1`.\n",
    "* The eighth member of lines, namely, `'2o5b8obo11b13o50'`, should make `i` become 204 (154+50). On the 155th row of the grid, the `0`'s between positions 0 included and 2 (0+2) excluded, between positions 7 (2+5) included and 15 (7+8) excluded, between positions 16 (15+1) included and 17 (16+1) excluded, and between positions 28 (17+11) included and 41 (28+13) excluded, should be changed to `1`.\n",
    "\n",
    "To achieve this, we can, for each member of `lines`, separate the digits at the end, if any, from the rest:\n",
    "\n",
    "* `('', '')`\n",
    "* `('', '50')`\n",
    "* `('b', '')`\n",
    "* `('2b', '50')`\n",
    "* `('o', '50')`\n",
    "* `('2o', '')`\n",
    "* `('b2o5bob8o10b', '')`\n",
    "* `('2o5b8obo11b13o', '50')`\n",
    "\n",
    "The second member of each pair indicates which value `i` should be increased by (1 if empty string). The first member of each pair except the first two, which are empty, can then be split using `b` as a separator:\n",
    "\n",
    "* `('', '')`\n",
    "* `('2', '')`\n",
    "* `('o',)`\n",
    "* `('2o',)`\n",
    "* `('', '2o5', 'o', '8o10', '')`\n",
    "* `('2o5', '8o', 'o11', '13o')`\n",
    "\n",
    "For those of the previous tuples that end in an empty string, that empty string indicates that there is no further living cell on the corresponding row, and there is no need to process that string, so it is enough to process:\n",
    "\n",
    "* `('',)`\n",
    "* `('2',)`\n",
    "* `('o',)`\n",
    "* `('2o',)`\n",
    "* `('', '2o5', 'o', '8o10')`\n",
    "* `('2o5', '8o', 'o11', '13o')`\n",
    "\n",
    "In each of the previous tuples, each nonempty string $s$ where `o` occurs indicates first a number of living cells (1 if $s$ is empty or starts with `o`), and in case $s$ is not the tuple's last member, a number of empty positions to follow (1 if $s$ ends in `o`). The three strings where `o` does not occur all start a tuple, and indicate the position (1 if $s$ is empty) occupied that the leftmost living cell on that row, if any; all other rows definitely have at least one living cell, the leftmost of which occupies position 0. So from the previous tuples, one can derive the following sequences of start positions of runs of living cells or runs of empty positions, beginning with a run of living cells, if any:\n",
    "\n",
    "* `[1]`\n",
    "* `[2]`\n",
    "* `[0, 1, 2]`\n",
    "* `[0, 2, 3]`\n",
    "* `[1, 3, 8, 9, 10, 18, 28]`\n",
    "* `[0, 2, 7, 15, 16, 17, 28, 41, 42]`\n",
    "\n",
    "The runs of living cells are then described by the following pairs, who first element indicates the start of the run and whose second element indicates the position past the end of the run:\n",
    "\n",
    "* `[]`\n",
    "* `[]`\n",
    "* `[[0, 1]]`\n",
    "* `[[0, 2]]`\n",
    "* `[[1, 3], [8, 9], [10, 18]]`\n",
    "* `[[0, 2], [7, 15], [16, 17], [28, 41]]`\n",
    "\n",
    "The next piece of code follows the approach just described up to the penultimate enumeration, and traces computation: "
   ]
  },
  {
   "cell_type": "code",
   "execution_count": null,
   "metadata": {},
   "outputs": [],
   "source": [
    "lines = '', '50', 'b', '2b50', 'o50', '2o', 'b2o5bob8o10b', '2o5b8obo11b13o50'\n",
    "i, j = 0, 0\n",
    "\n",
    "for line in lines:\n",
    "    print()\n",
    "    if not line:\n",
    "        print('Case 0: line is empty')\n",
    "        i += 1\n",
    "        print('Make i equal to', i)\n",
    "        continue\n",
    "    if line.isdigit():\n",
    "        print('Case 1: line is', line)\n",
    "        i += int(line)\n",
    "        print('Make i equal to ', i)\n",
    "        continue\n",
    "    print('Case 2: line is', line)\n",
    "    line, nb_of_new_lines = re.match('(.*[^\\d])(\\d*)', line).groups()\n",
    "    print('line becomes', line)\n",
    "    try:\n",
    "        i += int(nb_of_new_lines)\n",
    "        print('\\tCase 2.1: make i equal to', i)\n",
    "    except ValueError:\n",
    "        i += 1\n",
    "        print('\\tCase 2.2: make i equal to', i)\n",
    "    line = line.split('b')\n",
    "    print('\\tAfter splitting with \"b\", line becomes:', line)\n",
    "    if line[0].find('o') >= 0:\n",
    "        run_spans = [j]           \n",
    "        print('\\t\\tCase I: run_spans initialised to:', run_spans)\n",
    "    else:\n",
    "        try:\n",
    "            run_spans = [j + int(line.pop(0))]\n",
    "            print('\\t\\tCase II.1: run_spans initialised to:', run_spans)\n",
    "            print('\\t\\tline becomes', line)\n",
    "        except ValueError:\n",
    "            run_spans = [j + 1]                \n",
    "            print('\\t\\tCase II.2: run_spans initialised to:', run_spans)\n",
    "            print('\\t\\tline becomes', line)\n",
    "    for e in line:\n",
    "        if not e:\n",
    "            print('\\t\\tEmpty string, not processed')\n",
    "            break\n",
    "        print('\\t\\tProcessing', e, 'split with \"o\" to', e.split('o'))\n",
    "        for run_span in e.split('o'):\n",
    "            try:\n",
    "                run_spans.append(run_spans[-1] + int(run_span))\n",
    "                print('\\t\\t\\tCase α, run_spans becomes:', run_spans)\n",
    "            except ValueError:\n",
    "                run_spans.append(run_spans[-1] + 1)\n",
    "                print('\\t\\t\\tCase β, run_spans becomes:', run_spans)"
   ]
  },
  {
   "cell_type": "markdown",
   "metadata": {},
   "source": [
    "We can now put together all the code that reads the contents of an `.rle` file, computes `x` and `y`, defines `grid` with the appropriate size, initialises it with `0`'s, and replaces some `0`'s by `1`'s as directed by the pattern in the `.rle` file. We use the `gosperglidergun.rle` file again:"
   ]
  },
  {
   "cell_type": "code",
   "execution_count": null,
   "metadata": {},
   "outputs": [],
   "source": [
    "with open('gosperglidergun.rle') as file:\n",
    "    for line in file:\n",
    "        if line.startswith('#'):\n",
    "            continue\n",
    "        x, y = (int(e) for e in re.search('(\\d+)[^\\d]*(\\d+)', line).groups())\n",
    "        break\n",
    "    lines = ''.join(line.strip() for line in file)[: -1].split('$')\n",
    "size = max(x, y) * pattern_size_multiplier\n",
    "grid = np.zeros((size, size), np.int)\n",
    "i, j = (size - y) // 2, (size - x) // 2\n",
    "for line in lines:\n",
    "    if not line:\n",
    "        i += 1\n",
    "        continue\n",
    "    if line.isdigit():\n",
    "        i += int(line)\n",
    "        continue\n",
    "    line, nb_of_new_lines = re.match('(.*[^\\d])(\\d*)', line).groups()\n",
    "    line = line.split('b')\n",
    "    if line[0].find('o') >= 0:\n",
    "        run_lengths = [j]           \n",
    "    else:\n",
    "        try:\n",
    "            run_lengths = [j + int(line.pop(0))]\n",
    "        except ValueError:\n",
    "            run_lengths = [j + 1]                \n",
    "    for e in line:\n",
    "        if not e:\n",
    "            break\n",
    "        for run_length in e.split('o'):\n",
    "            try:\n",
    "                run_lengths.append(run_lengths[-1] + int(run_length))\n",
    "            except ValueError:\n",
    "                run_lengths.append(run_lengths[-1] + 1)\n",
    "    for n in range(len(run_lengths) // 2):\n",
    "        grid[i, run_lengths[2 * n] : run_lengths[2 * n + 1]] = 1\n",
    "    try:\n",
    "        i += int(nb_of_new_lines)\n",
    "    except ValueError:\n",
    "        i += 1\n",
    "print(grid[i - y : i, j : j + x])"
   ]
  },
  {
   "cell_type": "markdown",
   "metadata": {},
   "source": [
    "To create the movie, we use `pyplot` and `animation` modules of `matplotlib`. The movie will consist of a `matplotlib.pyplot` figure, displayed and then modified and displayed again at most `max_nb_of_iterations - 1` many times. We set the time between the display of two successive frames to a default value of 20 milliseconds, that the user will be able to modify:"
   ]
  },
  {
   "cell_type": "code",
   "execution_count": null,
   "metadata": {},
   "outputs": [],
   "source": [
    "animation_intervals = 20"
   ]
  },
  {
   "cell_type": "markdown",
   "metadata": {},
   "source": [
    "We set the size of the figure to a default value of 10 by 10 inches, that the user will be able to modify as well. We define an appropriate resolution for our computer screen (in dpi's, or dots per inches). We do not want the x- and y- axes ticks and values to be displayed. We want the figure to display `grid`, as well as the current stage of the evolution, in the form of red text positioned above the top left corner of the grid; the text is initialised to the empty string, but will become 0 when the first frame is created, and will increase by 1 for every new frame:"
   ]
  },
  {
   "cell_type": "code",
   "execution_count": null,
   "metadata": {},
   "outputs": [],
   "source": [
    "figure_size = 10, 10\n",
    "figure = plt.figure(figsize=figure_size, dpi=192)\n",
    "plt.xticks([])\n",
    "plt.yticks([])\n",
    "population_state = plt.imshow(grid)\n",
    "current_iteration = plt.text(5, -5, '', c='red');"
   ]
  },
  {
   "cell_type": "markdown",
   "metadata": {},
   "source": [
    "We embed the code we wrote to compute the next state of the population distribution in a function `evolve()` whose argument is expected to be a nonnegative integer that represents the stage of the evolution, starting with 0, and increasing by 1 at every stage. The methods `set_data()` and `set_text()` are called on `population_state` and `current_iteration`, respectively, so as to modify them:"
   ]
  },
  {
   "cell_type": "code",
   "execution_count": null,
   "metadata": {},
   "outputs": [],
   "source": [
    "def evolve(i):\n",
    "    global grid\n",
    "    number_of_neighbours = np.zeros(grid.shape)\n",
    "    number_of_neighbours[1 : -1, 1 : -1] =\\\n",
    "            grid[: -2, : -2] + grid[: -2, 1 : -1] + grid[: -2, 2 :]\\\n",
    "            + grid[1 : -1, : -2] + grid[1 : -1, 2 :]\\\n",
    "            + grid[2 :, : -2]   + grid[2 :, 1 : -1]  + grid[2 :, 2 :]\n",
    "    grid = np.logical_or(np.logical_and(grid == 1, number_of_neighbours == 2\n",
    "                                       ), number_of_neighbours == 3\n",
    "                        ).astype(np.int)\n",
    "    population_state.set_data(grid)\n",
    "    current_iteration.set_text(f'Iteration: {str(i)}')\n",
    "    return population_state, current_iteration"
   ]
  },
  {
   "cell_type": "markdown",
   "metadata": {},
   "source": [
    "We then define a generator function, `keep_going_or_stop()`, to yield forever all nonnegative integers, 0, 1, 2... but every time checking that no living cell is touching one of `grid`'s boundaries; would that be the case, the generator function returns `None`. Rather than defining a variable, initialising it to 0, and incrementing it by 1, we opt for a more elegant implementation and make use of the `count()` iterable from the `itertools` module. We first illustrate the use of `count()`:"
   ]
  },
  {
   "cell_type": "code",
   "execution_count": null,
   "metadata": {},
   "outputs": [],
   "source": [
    "def test_count(start=None):\n",
    "    if start is None:\n",
    "        for i in count():\n",
    "            if i > 3:\n",
    "                return\n",
    "            yield i\n",
    "    else:\n",
    "        for i in count(start):\n",
    "            if i > start + 3:\n",
    "                return\n",
    "            yield i\n",
    "\n",
    "list(test_count())\n",
    "list(test_count(10))"
   ]
  },
  {
   "cell_type": "markdown",
   "metadata": {},
   "source": [
    "We implement `keep_going_or_stop()` as described:"
   ]
  },
  {
   "cell_type": "code",
   "execution_count": null,
   "metadata": {},
   "outputs": [],
   "source": [
    "def keep_going_or_stop():\n",
    "    for i in count():\n",
    "        if any(grid[1, 1 : -1]) or any(grid[-2, 1 : -1])\\\n",
    "           or any(grid[1 : -1, 1]) or any(grid[1 : -1, -2]):\n",
    "            return\n",
    "        yield i"
   ]
  },
  {
   "cell_type": "markdown",
   "metadata": {},
   "source": [
    "To create a movie, we use the `FuncAnimation` class from the `matplotlib.animation` module. To create an object from that class, we need to provide the following arguments:\n",
    "\n",
    "* The `matplotlib.pyplot.figure` object to display in each frame, here `figure` as previously defined.\n",
    "* A function that takes one argument $v$. If $v$'s value is not `None` then the function is expected to return a tuple of figure elements, usually modified, so that they can be appropriately redrawn for that frame; if $v$'s value is `None` then no more frame is created and the movie is completed. Here that function is `evolve()`.\n",
    "\n",
    "We make us of three extra keyword arguments:\n",
    "\n",
    "* frames, whose default value is `itertools.count`, here set to `keep_going_or_stop`, called for each new frame and whose returned value is passed an argument to `evolve()`.\n",
    "* `interval`, the time that elapses between the display of two successive frames, set by default to `200` (milliseconds), that we change to the value of `animation_intervals`.\n",
    "* `save_count`, which because `keep_going_or_stop()` is a generator function, is set by default to `100`; we change that default to the value of `max_nb_of_iterations`."
   ]
  },
  {
   "cell_type": "code",
   "execution_count": null,
   "metadata": {},
   "outputs": [],
   "source": [
    "evolution = animation.FuncAnimation(figure, evolve, frames=keep_going_or_stop,\n",
    "                                    interval=animation_intervals,\n",
    "                                    save_count=max_nb_of_iterations\n",
    "                                   )"
   ]
  },
  {
   "cell_type": "markdown",
   "metadata": {},
   "source": [
    "Finally, we save `evolution` as an `.mp4` movie:"
   ]
  },
  {
   "cell_type": "code",
   "execution_count": null,
   "metadata": {},
   "outputs": [],
   "source": [
    "evolution.save('gosperglidergun.mp4')"
   ]
  },
  {
   "cell_type": "markdown",
   "metadata": {},
   "source": [
    "The program `b3_s23_movie.py` has two additional features. First, it avoids overwriting an existing `.mp4` file. Let us write a function that takes a file name as argument and creates a new file with the same name except possibly for its extension which we want to be `.mp4`. In case the file exists, the function adds before the `.mp4` extension `_1`, or `_2`, or `_3`... so that the resulting file does not exist. It is convenient to make use of the `sub()` function from the `re` module:"
   ]
  },
  {
   "cell_type": "code",
   "execution_count": null,
   "metadata": {},
   "outputs": [],
   "source": [
    "re.sub('\\..*', '', 'gosperglidergun.rle')\n",
    "re.sub('\\..*', '.mp4', 'gosperglidergun.rle')"
   ]
  },
  {
   "cell_type": "markdown",
   "metadata": {},
   "source": [
    "To illustrate, we let the `system()` function from the `os` module execute the `touch` command to create an empty file, whose name is provided as command line argument to `touch`. We also take advantage of the `ls` and `rm` Jupyter magic commands to list and remove, respectively, all files whose name starts with `my_rle_file` in the working directory:"
   ]
  },
  {
   "cell_type": "code",
   "execution_count": null,
   "metadata": {},
   "outputs": [],
   "source": [
    "def create_mp4_file(rle_filename):\n",
    "    filename = re.sub('\\..*', '', rle_filename)\n",
    "    if os.path.isfile(filename + '.mp4'):\n",
    "        for i in count(1):\n",
    "            mp4_filename = ''.join((filename, '_', str(i), '.mp4'))\n",
    "            if not os.path.isfile(mp4_filename):\n",
    "                break\n",
    "    else:\n",
    "        mp4_filename = filename + '.mp4'\n",
    "    os.system(f'touch {mp4_filename}')\n",
    "        \n",
    "os.system('touch my_rle_file.rle')\n",
    "print('Files whose name starts with \"my_rle_file\":')\n",
    "%ls my_rle_file*\n",
    "for _ in range(3):\n",
    "    create_mp4_file('my_rle_file.rle')\n",
    "    print('\\nFiles whose name starts with \"my_rle_file\":')\n",
    "    %ls my_rle_file*\n",
    "%rm my_rle_file*\n",
    "print('\\nFiles whose name starts with \"my_rle_file\":');"
   ]
  },
  {
   "cell_type": "markdown",
   "metadata": {},
   "source": [
    "The additional feature of `b3_s23_movie.py` is that it is meant to be run from the command line and accept command line arguments. For this purpose, we use the `ArgumentParser` class from the `argparse` module:"
   ]
  },
  {
   "cell_type": "code",
   "execution_count": null,
   "metadata": {},
   "outputs": [],
   "source": [
    "parser = ArgumentParser()\n",
    "\n",
    "parser"
   ]
  },
  {
   "cell_type": "markdown",
   "metadata": {},
   "source": [
    "We use `ArgumentParser`'s  `add_argument()`'s method to add command line arguments. We provide as arguments to `add_argument()` the name of the command line argument, which by convention is preceded by two hyphens if it is expected to itself take arguments. The `dest` keyword argument is assigned the name of the Python variable that will store the value of that command line argument. The `required` keyword argument has a default value of `False`. We change it to `True` for only one command line argument:"
   ]
  },
  {
   "cell_type": "code",
   "execution_count": null,
   "metadata": {},
   "outputs": [],
   "source": [
    "parser.add_argument('--rle_filename', dest='rle_filename', required=True)"
   ]
  },
  {
   "cell_type": "markdown",
   "metadata": {},
   "source": [
    "All other command line arguments are optional and provide default values values. By default, command line arguments are of type `str`, so we use the `type` keyword argument to change it to `int`. The `--figure_size` command line arguments is meant to be followed by 2 arguments, which requires using the `nargs` keyword argument to change the default of 1 to 2:"
   ]
  },
  {
   "cell_type": "code",
   "execution_count": null,
   "metadata": {},
   "outputs": [],
   "source": [
    "parser.add_argument('--figure_size', dest='figure_size', default=(10, 10),\n",
    "                    nargs=2, type=int\n",
    "                   )\n",
    "parser.add_argument('--pattern_size_multiplier',\n",
    "                    dest='pattern_size_multiplier'\n",
    "                   )\n",
    "parser.add_argument('--max_nb_of_iterations', dest='max_nb_of_iterations',\n",
    "                    default=1_000, type=int\n",
    "                   )\n",
    "parser.add_argument('--animation_intervals', dest='animation_intervals',\n",
    "                    default=20, type=int\n",
    "                   )"
   ]
  },
  {
   "cell_type": "markdown",
   "metadata": {},
   "source": [
    "Using the file `gosperglidergun.rle`, `b3_s23_movie.py` can be executed from the command line\n",
    "\n",
    "* with the minimal number of command line arguments, as: `python3 b3_s23_movie.py --rle_filename gosperglidergun.rle`\n",
    "* with the maximal number of command line arguments, for instance as: `python3 b3_s23_movie.py --rle_filename gosperglidergun.rle --max_nb_of_iterations 100 --figure_size 2 2 --animation_intervals 50 --pattern_size_multiplier 2`"
   ]
  }
 ],
 "metadata": {
  "kernelspec": {
   "display_name": "Python 3 (ipykernel)",
   "language": "python",
   "name": "python3"
  },
  "language_info": {
   "codemirror_mode": {
    "name": "ipython",
    "version": 3
   },
   "file_extension": ".py",
   "mimetype": "text/x-python",
   "name": "python",
   "nbconvert_exporter": "python",
   "pygments_lexer": "ipython3",
   "version": "3.9.7"
  },
  "latex_envs": {
   "LaTeX_envs_menu_present": true,
   "autoclose": false,
   "autocomplete": true,
   "bibliofile": "biblio.bib",
   "cite_by": "apalike",
   "current_citInitial": 1,
   "eqLabelWithNumbers": true,
   "eqNumInitial": 1,
   "hotkeys": {
    "equation": "Ctrl-E",
    "itemize": "Ctrl-I"
   },
   "labels_anchors": false,
   "latex_user_defs": false,
   "report_style_numbering": false,
   "user_envs_cfg": false
  },
  "toc": {
   "base_numbering": 1,
   "nav_menu": {},
   "number_sections": true,
   "sideBar": true,
   "skip_h1_title": false,
   "title_cell": "Table of Contents",
   "title_sidebar": "Contents",
   "toc_cell": false,
   "toc_position": {},
   "toc_section_display": true,
   "toc_window_display": false
  }
 },
 "nbformat": 4,
 "nbformat_minor": 2
}
